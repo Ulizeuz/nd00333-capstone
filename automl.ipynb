{
 "cells": [
  {
   "cell_type": "markdown",
   "metadata": {},
   "source": [
    "# Automated ML\n",
    "\n",
    "TODO: Import Dependencies. In the cell below, import all the dependencies that you will need to complete the project."
   ]
  },
  {
   "cell_type": "code",
   "execution_count": 1,
   "metadata": {
    "gather": {
     "logged": 1609202832503
    },
    "jupyter": {
     "outputs_hidden": false,
     "source_hidden": false
    },
    "nteract": {
     "transient": {
      "deleting": false
     }
    }
   },
   "outputs": [
    {
     "name": "stdout",
     "output_type": "stream",
     "text": [
      "SDK version: 1.19.0\n"
     ]
    }
   ],
   "source": [
    "# Import Dependencies.\n",
    "\n",
    "from azureml.core.experiment import Experiment\n",
    "from azureml.core.workspace import Workspace\n",
    "\n",
    "from azureml.core.compute import AmlCompute\n",
    "from azureml.core.compute import ComputeTarget\n",
    "from azureml.core.compute_target import ComputeTargetException\n",
    "\n",
    "import logging\n",
    "import os\n",
    "\n",
    "import azureml.core\n",
    "from azureml.train.automl import AutoMLConfig\n",
    "from azureml.core.dataset import Dataset\n",
    "from azureml.data.dataset_factory import TabularDatasetFactory\n",
    "\n",
    "from sklearn.model_selection import train_test_split\n",
    "\n",
    "import pandas as pd\n",
    "from azureml.widgets import RunDetails\n",
    "\n",
    "import joblib \n",
    "\n",
    "from azureml.core.model import Model\n",
    "\n",
    "from azureml.pipeline.core import PipelineData, TrainingOutput\n",
    "\n",
    "from azureml.pipeline.core import Pipeline\n",
    "\n",
    "import pickle\n",
    "\n",
    "from azureml.core.model import InferenceConfig\n",
    "from azureml.core.environment import Environment\n",
    "from azureml.core.conda_dependencies import CondaDependencies\n",
    "\n",
    "from azureml.core.webservice import Webservice, AciWebservice\n",
    "\n",
    "import requests\n",
    "import json\n",
    "\n",
    "# Check core SDK version number\n",
    "print(\"SDK version:\", azureml.core.VERSION)"
   ]
  },
  {
   "cell_type": "markdown",
   "metadata": {},
   "source": [
    "## Dataset\n",
    "\n",
    "### Overview\n",
    "\n",
    "There are some factors that affects Death Event. We use Kaggle's dataset Heart Failure Clinical Records which contains  information like age, sex, blood pressure, smoke, diabetes, ejection fraction, creatinine phosphokinase, serum_creatinine, serum_sodium, time and we have to predict their death_event.\n",
    "\n",
    "Dataset was uploaded and register as dataset in the workspace\n"
   ]
  },
  {
   "cell_type": "code",
   "execution_count": 2,
   "metadata": {
    "gather": {
     "logged": 1609202840385
    },
    "jupyter": {
     "outputs_hidden": false,
     "source_hidden": false
    },
    "nteract": {
     "transient": {
      "deleting": false
     }
    }
   },
   "outputs": [
    {
     "name": "stdout",
     "output_type": "stream",
     "text": [
      "quick-starts-ws-132250\n",
      "aml-quickstarts-132250\n",
      "southcentralus\n",
      "2c48c51c-bd47-40d4-abbe-fb8eabd19c8c\n"
     ]
    }
   ],
   "source": [
    "# Create a workspace\n",
    "\n",
    "ws = Workspace.from_config()\n",
    "print(ws.name, ws.resource_group, ws.location, ws.subscription_id, sep = '\\n')\n"
   ]
  },
  {
   "cell_type": "code",
   "execution_count": 3,
   "metadata": {
    "gather": {
     "logged": 1609202847253
    }
   },
   "outputs": [
    {
     "data": {
      "text/html": [
       "<table style=\"width:100%\"><tr><th>Name</th><th>Workspace</th><th>Report Page</th><th>Docs Page</th></tr><tr><td>ml-experiment-1</td><td>quick-starts-ws-132250</td><td><a href=\"https://ml.azure.com/experiments/ml-experiment-1?wsid=/subscriptions/2c48c51c-bd47-40d4-abbe-fb8eabd19c8c/resourcegroups/aml-quickstarts-132250/workspaces/quick-starts-ws-132250\" target=\"_blank\" rel=\"noopener\">Link to Azure Machine Learning studio</a></td><td><a href=\"https://docs.microsoft.com/en-us/python/api/azureml-core/azureml.core.experiment.Experiment?view=azure-ml-py\" target=\"_blank\" rel=\"noopener\">Link to Documentation</a></td></tr></table>"
      ],
      "text/plain": [
       "Experiment(Name: ml-experiment-1,\n",
       "Workspace: quick-starts-ws-132250)"
      ]
     },
     "execution_count": 3,
     "metadata": {},
     "output_type": "execute_result"
    }
   ],
   "source": [
    "# choose a name for experiment\n",
    "experiment_name = 'ml-experiment-1'\n",
    "project_folder = './pipeline-project'\n",
    "\n",
    "experiment=Experiment(ws, experiment_name)\n",
    "\n",
    "experiment\n",
    "\n"
   ]
  },
  {
   "cell_type": "code",
   "execution_count": 4,
   "metadata": {
    "gather": {
     "logged": 1609202940415
    }
   },
   "outputs": [
    {
     "name": "stdout",
     "output_type": "stream",
     "text": [
      "Found existing cluster, use it.\n",
      "\n",
      "Jobrunning.............\n",
      "Running\n"
     ]
    }
   ],
   "source": [
    "# NOTE: update the cluster name to match the existing cluster\n",
    "# Choose a name for your CPU cluster\n",
    "\n",
    "amlcompute_cluster_name = \"notebook132250\"\n",
    "\n",
    "# Verify that cluster does not exist already\n",
    "\n",
    "try:\n",
    "    compute_target = ComputeTarget(workspace=ws, name=amlcompute_cluster_name)\n",
    "    print('Found existing cluster, use it.')\n",
    "except ComputeTargetException:\n",
    "    compute_config = AmlCompute.provisioning_configuration(vm_size='STANDARD_D2_V2',# for GPU, use \"STANDARD_NC6\"\n",
    "                                                           #vm_priority = 'lowpriority', # optional\n",
    "                                                           max_nodes=4)\n",
    "    compute_target = ComputeTarget.create(ws, amlcompute_cluster_name, compute_config)\n",
    "\n",
    "compute_target.wait_for_completion(show_output=True)\n",
    "\n",
    "# For a more detailed view of current AmlCompute status, use get_status().\n"
   ]
  },
  {
   "cell_type": "code",
   "execution_count": null,
   "metadata": {
    "gather": {
     "logged": 1609125910393
    }
   },
   "outputs": [],
   "source": [
    "# dataset = Dataset.get_by_name(ws, name='heart')\n",
    "# ds = dataset.to_pandas_dataframe()\n",
    "# ds"
   ]
  },
  {
   "cell_type": "code",
   "execution_count": 5,
   "metadata": {
    "gather": {
     "logged": 1609202978094
    },
    "jupyter": {
     "outputs_hidden": false,
     "source_hidden": false
    },
    "nteract": {
     "transient": {
      "deleting": false
     }
    }
   },
   "outputs": [
    {
     "data": {
      "text/html": [
       "<div>\n",
       "<style scoped>\n",
       "    .dataframe tbody tr th:only-of-type {\n",
       "        vertical-align: middle;\n",
       "    }\n",
       "\n",
       "    .dataframe tbody tr th {\n",
       "        vertical-align: top;\n",
       "    }\n",
       "\n",
       "    .dataframe thead th {\n",
       "        text-align: right;\n",
       "    }\n",
       "</style>\n",
       "<table border=\"1\" class=\"dataframe\">\n",
       "  <thead>\n",
       "    <tr style=\"text-align: right;\">\n",
       "      <th></th>\n",
       "      <th>age</th>\n",
       "      <th>anaemia</th>\n",
       "      <th>creatinine_phosphokinase</th>\n",
       "      <th>diabetes</th>\n",
       "      <th>ejection_fraction</th>\n",
       "      <th>high_blood_pressure</th>\n",
       "      <th>platelets</th>\n",
       "      <th>serum_creatinine</th>\n",
       "      <th>serum_sodium</th>\n",
       "      <th>sex</th>\n",
       "      <th>smoking</th>\n",
       "      <th>time</th>\n",
       "      <th>DEATH_EVENT</th>\n",
       "    </tr>\n",
       "  </thead>\n",
       "  <tbody>\n",
       "    <tr>\n",
       "      <th>count</th>\n",
       "      <td>299.000000</td>\n",
       "      <td>299.000000</td>\n",
       "      <td>299.000000</td>\n",
       "      <td>299.000000</td>\n",
       "      <td>299.000000</td>\n",
       "      <td>299.000000</td>\n",
       "      <td>299.000000</td>\n",
       "      <td>299.00000</td>\n",
       "      <td>299.000000</td>\n",
       "      <td>299.000000</td>\n",
       "      <td>299.00000</td>\n",
       "      <td>299.000000</td>\n",
       "      <td>299.00000</td>\n",
       "    </tr>\n",
       "    <tr>\n",
       "      <th>mean</th>\n",
       "      <td>60.833893</td>\n",
       "      <td>0.431438</td>\n",
       "      <td>581.839465</td>\n",
       "      <td>0.418060</td>\n",
       "      <td>38.083612</td>\n",
       "      <td>0.351171</td>\n",
       "      <td>263358.029264</td>\n",
       "      <td>1.39388</td>\n",
       "      <td>136.625418</td>\n",
       "      <td>0.648829</td>\n",
       "      <td>0.32107</td>\n",
       "      <td>130.260870</td>\n",
       "      <td>0.32107</td>\n",
       "    </tr>\n",
       "    <tr>\n",
       "      <th>std</th>\n",
       "      <td>11.894809</td>\n",
       "      <td>0.496107</td>\n",
       "      <td>970.287881</td>\n",
       "      <td>0.494067</td>\n",
       "      <td>11.834841</td>\n",
       "      <td>0.478136</td>\n",
       "      <td>97804.236869</td>\n",
       "      <td>1.03451</td>\n",
       "      <td>4.412477</td>\n",
       "      <td>0.478136</td>\n",
       "      <td>0.46767</td>\n",
       "      <td>77.614208</td>\n",
       "      <td>0.46767</td>\n",
       "    </tr>\n",
       "    <tr>\n",
       "      <th>min</th>\n",
       "      <td>40.000000</td>\n",
       "      <td>0.000000</td>\n",
       "      <td>23.000000</td>\n",
       "      <td>0.000000</td>\n",
       "      <td>14.000000</td>\n",
       "      <td>0.000000</td>\n",
       "      <td>25100.000000</td>\n",
       "      <td>0.50000</td>\n",
       "      <td>113.000000</td>\n",
       "      <td>0.000000</td>\n",
       "      <td>0.00000</td>\n",
       "      <td>4.000000</td>\n",
       "      <td>0.00000</td>\n",
       "    </tr>\n",
       "    <tr>\n",
       "      <th>25%</th>\n",
       "      <td>51.000000</td>\n",
       "      <td>0.000000</td>\n",
       "      <td>116.500000</td>\n",
       "      <td>0.000000</td>\n",
       "      <td>30.000000</td>\n",
       "      <td>0.000000</td>\n",
       "      <td>212500.000000</td>\n",
       "      <td>0.90000</td>\n",
       "      <td>134.000000</td>\n",
       "      <td>0.000000</td>\n",
       "      <td>0.00000</td>\n",
       "      <td>73.000000</td>\n",
       "      <td>0.00000</td>\n",
       "    </tr>\n",
       "    <tr>\n",
       "      <th>50%</th>\n",
       "      <td>60.000000</td>\n",
       "      <td>0.000000</td>\n",
       "      <td>250.000000</td>\n",
       "      <td>0.000000</td>\n",
       "      <td>38.000000</td>\n",
       "      <td>0.000000</td>\n",
       "      <td>262000.000000</td>\n",
       "      <td>1.10000</td>\n",
       "      <td>137.000000</td>\n",
       "      <td>1.000000</td>\n",
       "      <td>0.00000</td>\n",
       "      <td>115.000000</td>\n",
       "      <td>0.00000</td>\n",
       "    </tr>\n",
       "    <tr>\n",
       "      <th>75%</th>\n",
       "      <td>70.000000</td>\n",
       "      <td>1.000000</td>\n",
       "      <td>582.000000</td>\n",
       "      <td>1.000000</td>\n",
       "      <td>45.000000</td>\n",
       "      <td>1.000000</td>\n",
       "      <td>303500.000000</td>\n",
       "      <td>1.40000</td>\n",
       "      <td>140.000000</td>\n",
       "      <td>1.000000</td>\n",
       "      <td>1.00000</td>\n",
       "      <td>203.000000</td>\n",
       "      <td>1.00000</td>\n",
       "    </tr>\n",
       "    <tr>\n",
       "      <th>max</th>\n",
       "      <td>95.000000</td>\n",
       "      <td>1.000000</td>\n",
       "      <td>7861.000000</td>\n",
       "      <td>1.000000</td>\n",
       "      <td>80.000000</td>\n",
       "      <td>1.000000</td>\n",
       "      <td>850000.000000</td>\n",
       "      <td>9.40000</td>\n",
       "      <td>148.000000</td>\n",
       "      <td>1.000000</td>\n",
       "      <td>1.00000</td>\n",
       "      <td>285.000000</td>\n",
       "      <td>1.00000</td>\n",
       "    </tr>\n",
       "  </tbody>\n",
       "</table>\n",
       "</div>"
      ],
      "text/plain": [
       "              age     anaemia  creatinine_phosphokinase    diabetes  \\\n",
       "count  299.000000  299.000000                299.000000  299.000000   \n",
       "mean    60.833893    0.431438                581.839465    0.418060   \n",
       "std     11.894809    0.496107                970.287881    0.494067   \n",
       "min     40.000000    0.000000                 23.000000    0.000000   \n",
       "25%     51.000000    0.000000                116.500000    0.000000   \n",
       "50%     60.000000    0.000000                250.000000    0.000000   \n",
       "75%     70.000000    1.000000                582.000000    1.000000   \n",
       "max     95.000000    1.000000               7861.000000    1.000000   \n",
       "\n",
       "       ejection_fraction  high_blood_pressure      platelets  \\\n",
       "count         299.000000           299.000000     299.000000   \n",
       "mean           38.083612             0.351171  263358.029264   \n",
       "std            11.834841             0.478136   97804.236869   \n",
       "min            14.000000             0.000000   25100.000000   \n",
       "25%            30.000000             0.000000  212500.000000   \n",
       "50%            38.000000             0.000000  262000.000000   \n",
       "75%            45.000000             1.000000  303500.000000   \n",
       "max            80.000000             1.000000  850000.000000   \n",
       "\n",
       "       serum_creatinine  serum_sodium         sex    smoking        time  \\\n",
       "count         299.00000    299.000000  299.000000  299.00000  299.000000   \n",
       "mean            1.39388    136.625418    0.648829    0.32107  130.260870   \n",
       "std             1.03451      4.412477    0.478136    0.46767   77.614208   \n",
       "min             0.50000    113.000000    0.000000    0.00000    4.000000   \n",
       "25%             0.90000    134.000000    0.000000    0.00000   73.000000   \n",
       "50%             1.10000    137.000000    1.000000    0.00000  115.000000   \n",
       "75%             1.40000    140.000000    1.000000    1.00000  203.000000   \n",
       "max             9.40000    148.000000    1.000000    1.00000  285.000000   \n",
       "\n",
       "       DEATH_EVENT  \n",
       "count    299.00000  \n",
       "mean       0.32107  \n",
       "std        0.46767  \n",
       "min        0.00000  \n",
       "25%        0.00000  \n",
       "50%        0.00000  \n",
       "75%        1.00000  \n",
       "max        1.00000  "
      ]
     },
     "execution_count": 5,
     "metadata": {},
     "output_type": "execute_result"
    }
   ],
   "source": [
    "#upload Heart Failure Dataset\n",
    "\n",
    "data = pd.read_csv(\"heart_failure_clinical_records_dataset.csv\")\n",
    "data.describe()"
   ]
  },
  {
   "cell_type": "code",
   "execution_count": 6,
   "metadata": {
    "gather": {
     "logged": 1609202990256
    }
   },
   "outputs": [
    {
     "name": "stdout",
     "output_type": "stream",
     "text": [
      "Uploading an estimated of 1 files\n",
      "Uploading ./training/train_data.csv\n",
      "Uploaded ./training/train_data.csv, 1 files out of an estimated total of 1\n",
      "Uploaded 1 files\n"
     ]
    },
    {
     "data": {
      "text/plain": [
       "$AZUREML_DATAREFERENCE_05dffdd4ed334fc891e27f9c5b035840"
      ]
     },
     "execution_count": 6,
     "metadata": {},
     "output_type": "execute_result"
    }
   ],
   "source": [
    "train, test = train_test_split(data, test_size=0.2, random_state=1 )\n",
    "\n",
    "if \"training\" not in os.listdir():\n",
    "    os.mkdir(\"./training\")\n",
    "\n",
    "if \"models\" not in os.listdir():\n",
    "    os.mkdir(\"./models\")\n",
    "\n",
    "train.to_csv(\"training/train_data.csv\", index = False)\n",
    "\n",
    "data_store = ws.get_default_datastore()\n",
    "data_store.upload(src_dir = \"./training\", target_path = 'udacity-project', overwrite = True,  show_progress = True)\n"
   ]
  },
  {
   "cell_type": "code",
   "execution_count": 7,
   "metadata": {
    "gather": {
     "logged": 1609203002492
    }
   },
   "outputs": [],
   "source": [
    "train_data = Dataset.Tabular.from_delimited_files(path=data_store.path(\"udacity-project/train_data.csv\"))\n",
    "# train=TabularDatasetFactory.from_delimited_files([(data_store, 'training/train_data.csv')])\n"
   ]
  },
  {
   "cell_type": "code",
   "execution_count": null,
   "metadata": {
    "gather": {
     "logged": 1608759287765
    }
   },
   "outputs": [],
   "source": []
  },
  {
   "cell_type": "markdown",
   "metadata": {},
   "source": [
    "## AutoML Configuration\n",
    "\n",
    "TODO: Explain why you chose the automl settings and cofiguration you used below.\n",
    "\n",
    "We are trying to predict DEATH_EVENT, therefore we need to define the task as classification. Also define Featurization as auto and enable early stopping and the primary metric AUC_weighted"
   ]
  },
  {
   "cell_type": "code",
   "execution_count": 8,
   "metadata": {
    "gather": {
     "logged": 1609203008576
    },
    "jupyter": {
     "outputs_hidden": false,
     "source_hidden": false
    },
    "nteract": {
     "transient": {
      "deleting": false
     }
    }
   },
   "outputs": [],
   "source": [
    "# TODO: Put your automl settings here\n",
    "automl_settings = {\n",
    "    \"experiment_timeout_minutes\": 20,\n",
    "    \"max_concurrent_iterations\": 5,\n",
    "    \"primary_metric\" : 'AUC_weighted'    \n",
    "}\n",
    "\n",
    "# TODO: Put your automl config here\n",
    "automl_config = AutoMLConfig(\n",
    "    \n",
    "    compute_target = compute_target,\n",
    "    task = \"classification\",\n",
    "    training_data = train_data,\n",
    "    label_column_name = \"DEATH_EVENT\",   \n",
    "    path = project_folder,\n",
    "    enable_early_stopping= True,\n",
    "    featurization= 'auto',\n",
    "    debug_log = \"automl_errors.log\",\n",
    "    **automl_settings \n",
    ")"
   ]
  },
  {
   "cell_type": "code",
   "execution_count": null,
   "metadata": {
    "gather": {
     "logged": 1608761042998
    },
    "jupyter": {
     "outputs_hidden": false,
     "source_hidden": false
    },
    "nteract": {
     "transient": {
      "deleting": false
     }
    }
   },
   "outputs": [],
   "source": [
    "# TODO: Submit your experiment"
   ]
  },
  {
   "cell_type": "code",
   "execution_count": 9,
   "metadata": {
    "collapsed": true,
    "gather": {
     "logged": 1609204253358
    },
    "jupyter": {
     "outputs_hidden": false,
     "source_hidden": false
    },
    "nteract": {
     "transient": {
      "deleting": false
     }
    }
   },
   "outputs": [
    {
     "name": "stdout",
     "output_type": "stream",
     "text": [
      "Running on remote.\n",
      "No run_configuration provided, running on notebook132250 with default configuration\n",
      "Running on remote compute: notebook132250\n",
      "Parent Run ID: AutoML_2558b787-2b30-4460-a59a-a85327795050\n",
      "\n",
      "Current status: FeaturesGeneration. Generating features for the dataset.\n",
      "Current status: ModelSelection. Beginning model selection.\n",
      "\n",
      "****************************************************************************************************\n",
      "DATA GUARDRAILS: \n",
      "\n",
      "TYPE:         Cross validation\n",
      "STATUS:       DONE\n",
      "DESCRIPTION:  Each iteration of the trained model was validated through cross-validation.\n",
      "              \n",
      "DETAILS:      \n",
      "+---------------------------------+\n",
      "|Number of folds                  |\n",
      "+=================================+\n",
      "|10                               |\n",
      "+---------------------------------+\n",
      "\n",
      "****************************************************************************************************\n",
      "\n",
      "TYPE:         Class balancing detection\n",
      "STATUS:       PASSED\n",
      "DESCRIPTION:  Your inputs were analyzed, and all classes are balanced in your training data.\n",
      "              Learn more about imbalanced data: https://aka.ms/AutomatedMLImbalancedData\n",
      "\n",
      "****************************************************************************************************\n",
      "\n",
      "TYPE:         Missing feature values imputation\n",
      "STATUS:       PASSED\n",
      "DESCRIPTION:  No feature missing values were detected in the training data.\n",
      "              Learn more about missing value imputation: https://aka.ms/AutomatedMLFeaturization\n",
      "\n",
      "****************************************************************************************************\n",
      "\n",
      "TYPE:         High cardinality feature detection\n",
      "STATUS:       PASSED\n",
      "DESCRIPTION:  Your inputs were analyzed, and no high cardinality features were detected.\n",
      "              Learn more about high cardinality feature handling: https://aka.ms/AutomatedMLFeaturization\n",
      "\n",
      "****************************************************************************************************\n",
      "\n",
      "****************************************************************************************************\n",
      "ITERATION: The iteration being evaluated.\n",
      "PIPELINE: A summary description of the pipeline being evaluated.\n",
      "DURATION: Time taken for the current iteration.\n",
      "METRIC: The result of computing score on the fitted pipeline.\n",
      "BEST: The best observed score thus far.\n",
      "****************************************************************************************************\n",
      "\n",
      " ITERATION   PIPELINE                                       DURATION      METRIC      BEST\n",
      "         0   MaxAbsScaler LightGBM                          0:01:08       0.8901    0.8901\n",
      "         1   MaxAbsScaler XGBoostClassifier                 0:01:07       0.8879    0.8901\n",
      "         2   MinMaxScaler RandomForest                      0:01:00       0.8929    0.8929\n",
      "         3   RobustScaler ExtremeRandomTrees                0:01:07       0.8757    0.8929\n",
      "         4   MinMaxScaler RandomForest                      0:00:59       0.8902    0.8929\n",
      "         5   MinMaxScaler RandomForest                      0:01:03       0.8993    0.8993\n",
      "         6   StandardScalerWrapper RandomForest             0:01:02       0.8970    0.8993\n",
      "         7   MinMaxScaler ExtremeRandomTrees                0:01:00       0.8828    0.8993\n",
      "         8   MinMaxScaler ExtremeRandomTrees                0:01:35       0.8756    0.8993\n",
      "         9   SparseNormalizer KNN                           0:01:33       0.7183    0.8993\n",
      "        10   MinMaxScaler ExtremeRandomTrees                0:00:56       0.8464    0.8993\n",
      "        11   RobustScaler ExtremeRandomTrees                0:00:57       0.8638    0.8993\n",
      "        12   StandardScalerWrapper RandomForest             0:00:56       0.9012    0.9012\n",
      "        13   StandardScalerWrapper SGD                      0:01:21       0.8515    0.9012\n",
      "        14   RobustScaler RandomForest                      0:01:12       0.8882    0.9012\n",
      "        15   StandardScalerWrapper KNN                      0:01:06       0.5876    0.9012\n",
      "        16   MinMaxScaler RandomForest                      0:01:06       0.8537    0.9012\n",
      "        17   MinMaxScaler ExtremeRandomTrees                0:01:00       0.8004    0.9012\n",
      "        18   MaxAbsScaler RandomForest                      0:01:05       0.8780    0.9012\n",
      "        19   StandardScalerWrapper XGBoostClassifier        0:01:01       0.8926    0.9012\n",
      "        20   MaxAbsScaler RandomForest                      0:01:29       0.8855    0.9012\n",
      "        21   MaxAbsScaler ExtremeRandomTrees                0:01:29       0.8404    0.9012\n",
      "        22   MaxAbsScaler ExtremeRandomTrees                0:01:27       0.8623    0.9012\n",
      "        23   MaxAbsScaler LightGBM                          0:00:58       0.8977    0.9012\n",
      "        24   MaxAbsScaler RandomForest                      0:00:58       0.8822    0.9012\n",
      "        26   StandardScalerWrapper XGBoostClassifier        0:01:03       0.9007    0.9012\n",
      "        25   MinMaxScaler RandomForest                      0:01:15       0.8869    0.9012\n",
      "        27   MinMaxScaler ExtremeRandomTrees                0:01:12       0.8866    0.9012\n",
      "        28   StandardScalerWrapper LightGBM                 0:01:10       0.8932    0.9012\n",
      "        29   MinMaxScaler RandomForest                      0:01:07       0.9157    0.9157\n",
      "        30   MaxAbsScaler RandomForest                      0:01:07       0.8684    0.9157\n",
      "        31   RobustScaler RandomForest                      0:01:07       0.9156    0.9157\n",
      "        32   MaxAbsScaler ExtremeRandomTrees                0:01:01       0.8767    0.9157\n",
      "        33   StandardScalerWrapper XGBoostClassifier        0:01:03       0.8879    0.9157\n",
      "        34   StandardScalerWrapper GradientBoosting         0:01:04       0.9033    0.9157\n",
      "        35   TruncatedSVDWrapper RandomForest               0:01:06       0.8070    0.9157\n",
      "        36   MaxAbsScaler LogisticRegression                0:00:57       0.8498    0.9157\n",
      "        37   StandardScalerWrapper SVM                      0:00:58       0.8427    0.9157\n",
      "        38   RobustScaler GradientBoosting                  0:01:00       0.9095    0.9157\n",
      "        39   StandardScalerWrapper XGBoostClassifier        0:00:58       0.8972    0.9157\n",
      "        40   TruncatedSVDWrapper RandomForest               0:01:02       0.7837    0.9157\n",
      "        41   RobustScaler GradientBoosting                  0:01:04       0.9116    0.9157\n",
      "        42   StandardScalerWrapper GradientBoosting         0:01:04       0.8901    0.9157\n",
      "        43   StandardScalerWrapper LightGBM                 0:01:01       0.9022    0.9157\n",
      "        44   MaxAbsScaler LightGBM                          0:00:55       0.8985    0.9157\n",
      "        45                                                  0:00:10          nan    0.9157\n",
      "        46                                                  0:00:20          nan    0.9157\n",
      "        47                                                  0:00:08          nan    0.9157\n",
      "        48    VotingEnsemble                                0:02:32       0.9204    0.9204\n",
      "        49    StackEnsemble                                 0:02:41       0.9148    0.9204\n"
     ]
    },
    {
     "data": {
      "application/vnd.jupyter.widget-view+json": {
       "model_id": "53cc50eb630645b296d007e9eb4c1cb6",
       "version_major": 2,
       "version_minor": 0
      },
      "text/plain": [
       "_AutoMLWidget(widget_settings={'childWidgetDisplay': 'popup', 'send_telemetry': False, 'log_level': 'INFO', 's…"
      ]
     },
     "metadata": {},
     "output_type": "display_data"
    },
    {
     "data": {
      "application/aml.mini.widget.v1": "{\"status\": \"Completed\", \"workbench_run_details_uri\": \"https://ml.azure.com/experiments/ml-experiment-1/runs/AutoML_2558b787-2b30-4460-a59a-a85327795050?wsid=/subscriptions/2c48c51c-bd47-40d4-abbe-fb8eabd19c8c/resourcegroups/aml-quickstarts-132250/workspaces/quick-starts-ws-132250\", \"run_id\": \"AutoML_2558b787-2b30-4460-a59a-a85327795050\", \"run_properties\": {\"run_id\": \"AutoML_2558b787-2b30-4460-a59a-a85327795050\", \"created_utc\": \"2020-12-29T00:50:21.142692Z\", \"properties\": {\"num_iterations\": \"1000\", \"training_type\": \"TrainFull\", \"acquisition_function\": \"EI\", \"primary_metric\": \"AUC_weighted\", \"train_split\": \"0\", \"acquisition_parameter\": \"0\", \"num_cross_validation\": null, \"target\": \"notebook132250\", \"AMLSettingsJsonString\": \"{\\\"path\\\":null,\\\"name\\\":\\\"ml-experiment-1\\\",\\\"subscription_id\\\":\\\"2c48c51c-bd47-40d4-abbe-fb8eabd19c8c\\\",\\\"resource_group\\\":\\\"aml-quickstarts-132250\\\",\\\"workspace_name\\\":\\\"quick-starts-ws-132250\\\",\\\"region\\\":\\\"southcentralus\\\",\\\"compute_target\\\":\\\"notebook132250\\\",\\\"spark_service\\\":null,\\\"azure_service\\\":\\\"remote\\\",\\\"many_models\\\":false,\\\"pipeline_fetch_max_batch_size\\\":1,\\\"iterations\\\":1000,\\\"primary_metric\\\":\\\"AUC_weighted\\\",\\\"task_type\\\":\\\"classification\\\",\\\"data_script\\\":null,\\\"validation_size\\\":0.0,\\\"n_cross_validations\\\":null,\\\"y_min\\\":null,\\\"y_max\\\":null,\\\"num_classes\\\":null,\\\"featurization\\\":\\\"auto\\\",\\\"_ignore_package_version_incompatibilities\\\":false,\\\"is_timeseries\\\":false,\\\"max_cores_per_iteration\\\":1,\\\"max_concurrent_iterations\\\":5,\\\"iteration_timeout_minutes\\\":null,\\\"mem_in_mb\\\":null,\\\"enforce_time_on_windows\\\":false,\\\"experiment_timeout_minutes\\\":20,\\\"experiment_exit_score\\\":null,\\\"whitelist_models\\\":null,\\\"blacklist_algos\\\":[\\\"TensorFlowLinearClassifier\\\",\\\"TensorFlowDNN\\\"],\\\"supported_models\\\":[\\\"DecisionTree\\\",\\\"XGBoostClassifier\\\",\\\"TensorFlowLinearClassifier\\\",\\\"SVM\\\",\\\"LogisticRegression\\\",\\\"ExtremeRandomTrees\\\",\\\"GradientBoosting\\\",\\\"MultinomialNaiveBayes\\\",\\\"SGD\\\",\\\"KNN\\\",\\\"BernoulliNaiveBayes\\\",\\\"LightGBM\\\",\\\"RandomForest\\\",\\\"TensorFlowDNN\\\",\\\"LinearSVM\\\",\\\"AveragedPerceptronClassifier\\\"],\\\"auto_blacklist\\\":true,\\\"blacklist_samples_reached\\\":false,\\\"exclude_nan_labels\\\":true,\\\"verbosity\\\":20,\\\"_debug_log\\\":\\\"azureml_automl.log\\\",\\\"show_warnings\\\":false,\\\"model_explainability\\\":true,\\\"service_url\\\":null,\\\"sdk_url\\\":null,\\\"sdk_packages\\\":null,\\\"enable_onnx_compatible_models\\\":false,\\\"enable_split_onnx_featurizer_estimator_models\\\":false,\\\"vm_type\\\":\\\"STANDARD_DS3_V2\\\",\\\"telemetry_verbosity\\\":20,\\\"send_telemetry\\\":true,\\\"enable_dnn\\\":false,\\\"scenario\\\":\\\"SDK-1.13.0\\\",\\\"environment_label\\\":null,\\\"force_text_dnn\\\":false,\\\"enable_feature_sweeping\\\":true,\\\"enable_early_stopping\\\":true,\\\"early_stopping_n_iters\\\":10,\\\"metrics\\\":null,\\\"enable_ensembling\\\":true,\\\"enable_stack_ensembling\\\":true,\\\"ensemble_iterations\\\":15,\\\"enable_tf\\\":false,\\\"enable_subsampling\\\":null,\\\"subsample_seed\\\":null,\\\"enable_nimbusml\\\":false,\\\"enable_streaming\\\":false,\\\"force_streaming\\\":false,\\\"track_child_runs\\\":true,\\\"allowed_private_models\\\":[],\\\"label_column_name\\\":\\\"DEATH_EVENT\\\",\\\"weight_column_name\\\":null,\\\"cv_split_column_names\\\":null,\\\"enable_local_managed\\\":false,\\\"_local_managed_run_id\\\":null,\\\"cost_mode\\\":1,\\\"lag_length\\\":0,\\\"metric_operation\\\":\\\"maximize\\\",\\\"preprocess\\\":true}\", \"DataPrepJsonString\": \"{\\\\\\\"training_data\\\\\\\": \\\\\\\"{\\\\\\\\\\\\\\\"blocks\\\\\\\\\\\\\\\": [{\\\\\\\\\\\\\\\"id\\\\\\\\\\\\\\\": \\\\\\\\\\\\\\\"a1e0c04f-844e-4019-bf78-151fc6ef3c1f\\\\\\\\\\\\\\\", \\\\\\\\\\\\\\\"type\\\\\\\\\\\\\\\": \\\\\\\\\\\\\\\"Microsoft.DPrep.GetDatastoreFilesBlock\\\\\\\\\\\\\\\", \\\\\\\\\\\\\\\"arguments\\\\\\\\\\\\\\\": {\\\\\\\\\\\\\\\"datastores\\\\\\\\\\\\\\\": [{\\\\\\\\\\\\\\\"datastoreName\\\\\\\\\\\\\\\": \\\\\\\\\\\\\\\"workspaceblobstore\\\\\\\\\\\\\\\", \\\\\\\\\\\\\\\"path\\\\\\\\\\\\\\\": \\\\\\\\\\\\\\\"udacity-project/train_data.csv\\\\\\\\\\\\\\\", \\\\\\\\\\\\\\\"resourceGroup\\\\\\\\\\\\\\\": \\\\\\\\\\\\\\\"aml-quickstarts-132250\\\\\\\\\\\\\\\", \\\\\\\\\\\\\\\"subscription\\\\\\\\\\\\\\\": \\\\\\\\\\\\\\\"2c48c51c-bd47-40d4-abbe-fb8eabd19c8c\\\\\\\\\\\\\\\", \\\\\\\\\\\\\\\"workspaceName\\\\\\\\\\\\\\\": \\\\\\\\\\\\\\\"quick-starts-ws-132250\\\\\\\\\\\\\\\"}]}, \\\\\\\\\\\\\\\"localData\\\\\\\\\\\\\\\": {}, \\\\\\\\\\\\\\\"isEnabled\\\\\\\\\\\\\\\": true, \\\\\\\\\\\\\\\"name\\\\\\\\\\\\\\\": null, \\\\\\\\\\\\\\\"annotation\\\\\\\\\\\\\\\": null}, {\\\\\\\\\\\\\\\"id\\\\\\\\\\\\\\\": \\\\\\\\\\\\\\\"5a39508a-bc4e-4e33-bb9d-eaf3a83a5fad\\\\\\\\\\\\\\\", \\\\\\\\\\\\\\\"type\\\\\\\\\\\\\\\": \\\\\\\\\\\\\\\"Microsoft.DPrep.ParseDelimitedBlock\\\\\\\\\\\\\\\", \\\\\\\\\\\\\\\"arguments\\\\\\\\\\\\\\\": {\\\\\\\\\\\\\\\"columnHeadersMode\\\\\\\\\\\\\\\": 3, \\\\\\\\\\\\\\\"fileEncoding\\\\\\\\\\\\\\\": 0, \\\\\\\\\\\\\\\"handleQuotedLineBreaks\\\\\\\\\\\\\\\": false, \\\\\\\\\\\\\\\"preview\\\\\\\\\\\\\\\": false, \\\\\\\\\\\\\\\"separator\\\\\\\\\\\\\\\": \\\\\\\\\\\\\\\",\\\\\\\\\\\\\\\", \\\\\\\\\\\\\\\"skipRows\\\\\\\\\\\\\\\": 0, \\\\\\\\\\\\\\\"skipRowsMode\\\\\\\\\\\\\\\": 0}, \\\\\\\\\\\\\\\"localData\\\\\\\\\\\\\\\": {}, \\\\\\\\\\\\\\\"isEnabled\\\\\\\\\\\\\\\": true, \\\\\\\\\\\\\\\"name\\\\\\\\\\\\\\\": null, \\\\\\\\\\\\\\\"annotation\\\\\\\\\\\\\\\": null}, {\\\\\\\\\\\\\\\"id\\\\\\\\\\\\\\\": \\\\\\\\\\\\\\\"1ac8c44c-4dea-4f3d-8068-ca1a2f61acb0\\\\\\\\\\\\\\\", \\\\\\\\\\\\\\\"type\\\\\\\\\\\\\\\": \\\\\\\\\\\\\\\"Microsoft.DPrep.DropColumnsBlock\\\\\\\\\\\\\\\", \\\\\\\\\\\\\\\"arguments\\\\\\\\\\\\\\\": {\\\\\\\\\\\\\\\"columns\\\\\\\\\\\\\\\": {\\\\\\\\\\\\\\\"type\\\\\\\\\\\\\\\": 0, \\\\\\\\\\\\\\\"details\\\\\\\\\\\\\\\": {\\\\\\\\\\\\\\\"selectedColumns\\\\\\\\\\\\\\\": [\\\\\\\\\\\\\\\"Path\\\\\\\\\\\\\\\"]}}}, \\\\\\\\\\\\\\\"localData\\\\\\\\\\\\\\\": {}, \\\\\\\\\\\\\\\"isEnabled\\\\\\\\\\\\\\\": true, \\\\\\\\\\\\\\\"name\\\\\\\\\\\\\\\": null, \\\\\\\\\\\\\\\"annotation\\\\\\\\\\\\\\\": null}, {\\\\\\\\\\\\\\\"id\\\\\\\\\\\\\\\": \\\\\\\\\\\\\\\"c605cd2c-33bf-412e-b3c3-7e4f73f9c5dc\\\\\\\\\\\\\\\", \\\\\\\\\\\\\\\"type\\\\\\\\\\\\\\\": \\\\\\\\\\\\\\\"Microsoft.DPrep.SetColumnTypesBlock\\\\\\\\\\\\\\\", \\\\\\\\\\\\\\\"arguments\\\\\\\\\\\\\\\": {\\\\\\\\\\\\\\\"columnConversion\\\\\\\\\\\\\\\": [{\\\\\\\\\\\\\\\"column\\\\\\\\\\\\\\\": {\\\\\\\\\\\\\\\"type\\\\\\\\\\\\\\\": 2, \\\\\\\\\\\\\\\"details\\\\\\\\\\\\\\\": {\\\\\\\\\\\\\\\"selectedColumn\\\\\\\\\\\\\\\": \\\\\\\\\\\\\\\"age\\\\\\\\\\\\\\\"}}, \\\\\\\\\\\\\\\"typeProperty\\\\\\\\\\\\\\\": 3}, {\\\\\\\\\\\\\\\"column\\\\\\\\\\\\\\\": {\\\\\\\\\\\\\\\"type\\\\\\\\\\\\\\\": 2, \\\\\\\\\\\\\\\"details\\\\\\\\\\\\\\\": {\\\\\\\\\\\\\\\"selectedColumn\\\\\\\\\\\\\\\": \\\\\\\\\\\\\\\"anaemia\\\\\\\\\\\\\\\"}}, \\\\\\\\\\\\\\\"typeProperty\\\\\\\\\\\\\\\": 2}, {\\\\\\\\\\\\\\\"column\\\\\\\\\\\\\\\": {\\\\\\\\\\\\\\\"type\\\\\\\\\\\\\\\": 2, \\\\\\\\\\\\\\\"details\\\\\\\\\\\\\\\": {\\\\\\\\\\\\\\\"selectedColumn\\\\\\\\\\\\\\\": \\\\\\\\\\\\\\\"creatinine_phosphokinase\\\\\\\\\\\\\\\"}}, \\\\\\\\\\\\\\\"typeProperty\\\\\\\\\\\\\\\": 2}, {\\\\\\\\\\\\\\\"column\\\\\\\\\\\\\\\": {\\\\\\\\\\\\\\\"type\\\\\\\\\\\\\\\": 2, \\\\\\\\\\\\\\\"details\\\\\\\\\\\\\\\": {\\\\\\\\\\\\\\\"selectedColumn\\\\\\\\\\\\\\\": \\\\\\\\\\\\\\\"diabetes\\\\\\\\\\\\\\\"}}, \\\\\\\\\\\\\\\"typeProperty\\\\\\\\\\\\\\\": 2}, {\\\\\\\\\\\\\\\"column\\\\\\\\\\\\\\\": {\\\\\\\\\\\\\\\"type\\\\\\\\\\\\\\\": 2, \\\\\\\\\\\\\\\"details\\\\\\\\\\\\\\\": {\\\\\\\\\\\\\\\"selectedColumn\\\\\\\\\\\\\\\": \\\\\\\\\\\\\\\"ejection_fraction\\\\\\\\\\\\\\\"}}, \\\\\\\\\\\\\\\"typeProperty\\\\\\\\\\\\\\\": 2}, {\\\\\\\\\\\\\\\"column\\\\\\\\\\\\\\\": {\\\\\\\\\\\\\\\"type\\\\\\\\\\\\\\\": 2, \\\\\\\\\\\\\\\"details\\\\\\\\\\\\\\\": {\\\\\\\\\\\\\\\"selectedColumn\\\\\\\\\\\\\\\": \\\\\\\\\\\\\\\"high_blood_pressure\\\\\\\\\\\\\\\"}}, \\\\\\\\\\\\\\\"typeProperty\\\\\\\\\\\\\\\": 2}, {\\\\\\\\\\\\\\\"column\\\\\\\\\\\\\\\": {\\\\\\\\\\\\\\\"type\\\\\\\\\\\\\\\": 2, \\\\\\\\\\\\\\\"details\\\\\\\\\\\\\\\": {\\\\\\\\\\\\\\\"selectedColumn\\\\\\\\\\\\\\\": \\\\\\\\\\\\\\\"platelets\\\\\\\\\\\\\\\"}}, \\\\\\\\\\\\\\\"typeProperty\\\\\\\\\\\\\\\": 3}, {\\\\\\\\\\\\\\\"column\\\\\\\\\\\\\\\": {\\\\\\\\\\\\\\\"type\\\\\\\\\\\\\\\": 2, \\\\\\\\\\\\\\\"details\\\\\\\\\\\\\\\": {\\\\\\\\\\\\\\\"selectedColumn\\\\\\\\\\\\\\\": \\\\\\\\\\\\\\\"serum_creatinine\\\\\\\\\\\\\\\"}}, \\\\\\\\\\\\\\\"typeProperty\\\\\\\\\\\\\\\": 3}, {\\\\\\\\\\\\\\\"column\\\\\\\\\\\\\\\": {\\\\\\\\\\\\\\\"type\\\\\\\\\\\\\\\": 2, \\\\\\\\\\\\\\\"details\\\\\\\\\\\\\\\": {\\\\\\\\\\\\\\\"selectedColumn\\\\\\\\\\\\\\\": \\\\\\\\\\\\\\\"serum_sodium\\\\\\\\\\\\\\\"}}, \\\\\\\\\\\\\\\"typeProperty\\\\\\\\\\\\\\\": 2}, {\\\\\\\\\\\\\\\"column\\\\\\\\\\\\\\\": {\\\\\\\\\\\\\\\"type\\\\\\\\\\\\\\\": 2, \\\\\\\\\\\\\\\"details\\\\\\\\\\\\\\\": {\\\\\\\\\\\\\\\"selectedColumn\\\\\\\\\\\\\\\": \\\\\\\\\\\\\\\"sex\\\\\\\\\\\\\\\"}}, \\\\\\\\\\\\\\\"typeProperty\\\\\\\\\\\\\\\": 2}, {\\\\\\\\\\\\\\\"column\\\\\\\\\\\\\\\": {\\\\\\\\\\\\\\\"type\\\\\\\\\\\\\\\": 2, \\\\\\\\\\\\\\\"details\\\\\\\\\\\\\\\": {\\\\\\\\\\\\\\\"selectedColumn\\\\\\\\\\\\\\\": \\\\\\\\\\\\\\\"smoking\\\\\\\\\\\\\\\"}}, \\\\\\\\\\\\\\\"typeProperty\\\\\\\\\\\\\\\": 2}, {\\\\\\\\\\\\\\\"column\\\\\\\\\\\\\\\": {\\\\\\\\\\\\\\\"type\\\\\\\\\\\\\\\": 2, \\\\\\\\\\\\\\\"details\\\\\\\\\\\\\\\": {\\\\\\\\\\\\\\\"selectedColumn\\\\\\\\\\\\\\\": \\\\\\\\\\\\\\\"time\\\\\\\\\\\\\\\"}}, \\\\\\\\\\\\\\\"typeProperty\\\\\\\\\\\\\\\": 2}, {\\\\\\\\\\\\\\\"column\\\\\\\\\\\\\\\": {\\\\\\\\\\\\\\\"type\\\\\\\\\\\\\\\": 2, \\\\\\\\\\\\\\\"details\\\\\\\\\\\\\\\": {\\\\\\\\\\\\\\\"selectedColumn\\\\\\\\\\\\\\\": \\\\\\\\\\\\\\\"DEATH_EVENT\\\\\\\\\\\\\\\"}}, \\\\\\\\\\\\\\\"typeProperty\\\\\\\\\\\\\\\": 2}]}, \\\\\\\\\\\\\\\"localData\\\\\\\\\\\\\\\": {}, \\\\\\\\\\\\\\\"isEnabled\\\\\\\\\\\\\\\": true, \\\\\\\\\\\\\\\"name\\\\\\\\\\\\\\\": null, \\\\\\\\\\\\\\\"annotation\\\\\\\\\\\\\\\": null}], \\\\\\\\\\\\\\\"inspectors\\\\\\\\\\\\\\\": [], \\\\\\\\\\\\\\\"meta\\\\\\\\\\\\\\\": {\\\\\\\\\\\\\\\"savedDatasetId\\\\\\\\\\\\\\\": \\\\\\\\\\\\\\\"8a440e19-a926-46cf-aed3-c8ab1dd839f2\\\\\\\\\\\\\\\", \\\\\\\\\\\\\\\"datasetType\\\\\\\\\\\\\\\": \\\\\\\\\\\\\\\"tabular\\\\\\\\\\\\\\\", \\\\\\\\\\\\\\\"subscriptionId\\\\\\\\\\\\\\\": \\\\\\\\\\\\\\\"2c48c51c-bd47-40d4-abbe-fb8eabd19c8c\\\\\\\\\\\\\\\", \\\\\\\\\\\\\\\"workspaceId\\\\\\\\\\\\\\\": \\\\\\\\\\\\\\\"b3b39fdb-f2f6-46e0-8fb9-48615cc35255\\\\\\\\\\\\\\\", \\\\\\\\\\\\\\\"workspaceLocation\\\\\\\\\\\\\\\": \\\\\\\\\\\\\\\"southcentralus\\\\\\\\\\\\\\\"}}\\\\\\\", \\\\\\\"activities\\\\\\\": 0}\", \"EnableSubsampling\": null, \"runTemplate\": \"AutoML\", \"azureml.runsource\": \"automl\", \"display_task_type\": \"classification\", \"dependencies_versions\": \"{\\\"azureml-widgets\\\": \\\"1.19.0\\\", \\\"azureml-train\\\": \\\"1.19.0\\\", \\\"azureml-train-restclients-hyperdrive\\\": \\\"1.19.0\\\", \\\"azureml-train-core\\\": \\\"1.19.0\\\", \\\"azureml-train-automl\\\": \\\"1.19.0\\\", \\\"azureml-train-automl-runtime\\\": \\\"1.19.0\\\", \\\"azureml-train-automl-client\\\": \\\"1.19.0\\\", \\\"azureml-tensorboard\\\": \\\"1.19.0\\\", \\\"azureml-telemetry\\\": \\\"1.19.0\\\", \\\"azureml-sdk\\\": \\\"1.19.0\\\", \\\"azureml-samples\\\": \\\"0+unknown\\\", \\\"azureml-pipeline\\\": \\\"1.19.0\\\", \\\"azureml-pipeline-steps\\\": \\\"1.19.0\\\", \\\"azureml-pipeline-core\\\": \\\"1.19.0\\\", \\\"azureml-opendatasets\\\": \\\"1.19.0\\\", \\\"azureml-model-management-sdk\\\": \\\"1.0.1b6.post1\\\", \\\"azureml-mlflow\\\": \\\"1.19.0\\\", \\\"azureml-interpret\\\": \\\"1.19.0\\\", \\\"azureml-explain-model\\\": \\\"1.19.0\\\", \\\"azureml-defaults\\\": \\\"1.19.0\\\", \\\"azureml-dataset-runtime\\\": \\\"1.19.0\\\", \\\"azureml-dataprep\\\": \\\"2.6.1\\\", \\\"azureml-dataprep-rslex\\\": \\\"1.4.0\\\", \\\"azureml-dataprep-native\\\": \\\"26.0.0\\\", \\\"azureml-datadrift\\\": \\\"1.19.0\\\", \\\"azureml-core\\\": \\\"1.19.0\\\", \\\"azureml-contrib-services\\\": \\\"1.19.0\\\", \\\"azureml-contrib-server\\\": \\\"1.19.0\\\", \\\"azureml-contrib-reinforcementlearning\\\": \\\"1.19.0\\\", \\\"azureml-contrib-pipeline-steps\\\": \\\"1.19.0\\\", \\\"azureml-contrib-notebook\\\": \\\"1.19.0\\\", \\\"azureml-contrib-interpret\\\": \\\"1.19.0\\\", \\\"azureml-contrib-gbdt\\\": \\\"1.19.0\\\", \\\"azureml-contrib-fairness\\\": \\\"1.19.0\\\", \\\"azureml-contrib-dataset\\\": \\\"1.19.0\\\", \\\"azureml-cli-common\\\": \\\"1.19.0\\\", \\\"azureml-automl-runtime\\\": \\\"1.19.0\\\", \\\"azureml-automl-core\\\": \\\"1.19.0\\\", \\\"azureml-accel-models\\\": \\\"1.19.0\\\"}\", \"_aml_system_scenario_identification\": \"Remote.Parent\", \"ClientType\": \"SDK\", \"environment_cpu_name\": \"AzureML-AutoML\", \"environment_cpu_label\": \"prod\", \"environment_gpu_name\": \"AzureML-AutoML-GPU\", \"environment_gpu_label\": \"prod\", \"root_attribution\": \"automl\", \"attribution\": \"AutoML\", \"Orchestrator\": \"AutoML\", \"CancelUri\": \"https://southcentralus.experiments.azureml.net/jasmine/v1.0/subscriptions/2c48c51c-bd47-40d4-abbe-fb8eabd19c8c/resourceGroups/aml-quickstarts-132250/providers/Microsoft.MachineLearningServices/workspaces/quick-starts-ws-132250/experimentids/aae11042-df16-468d-9013-46094df89bd2/cancel/AutoML_2558b787-2b30-4460-a59a-a85327795050\", \"ClientSdkVersion\": \"1.19.0\", \"snapshotId\": \"00000000-0000-0000-0000-000000000000\", \"SetupRunId\": \"AutoML_2558b787-2b30-4460-a59a-a85327795050_setup\", \"SetupRunContainerId\": \"dcid.AutoML_2558b787-2b30-4460-a59a-a85327795050_setup\", \"FeaturizationRunJsonPath\": \"featurizer_container.json\", \"FeaturizationRunId\": \"AutoML_2558b787-2b30-4460-a59a-a85327795050_featurize\", \"ProblemInfoJsonString\": \"{\\\"dataset_num_categorical\\\": 0, \\\"is_sparse\\\": false, \\\"subsampling\\\": false, \\\"dataset_classes\\\": 2, \\\"dataset_features\\\": 12, \\\"dataset_samples\\\": 239, \\\"single_frequency_class_detected\\\": false}\", \"ModelExplainRunId\": \"AutoML_2558b787-2b30-4460-a59a-a85327795050_ModelExplain\"}, \"tags\": {\"model_explain_run\": \"best_run\", \"_aml_system_azureml.automlComponent\": \"AutoML\", \"pipeline_id\": \"\", \"score\": \"\", \"predicted_cost\": \"\", \"fit_time\": \"\", \"training_percent\": \"\", \"iteration\": \"\", \"run_preprocessor\": \"\", \"run_algorithm\": \"\", \"dynamic_whitelisting_iterations\": \"<25>;<30>;<35>;<40>;<45>;\", \"automl_best_child_run_id\": \"AutoML_2558b787-2b30-4460-a59a-a85327795050_48\", \"model_explain_best_run_child_id\": \"AutoML_2558b787-2b30-4460-a59a-a85327795050_48\"}, \"end_time_utc\": \"2020-12-29T01:10:46.611468Z\", \"status\": \"Completed\", \"log_files\": {}, \"log_groups\": [], \"run_duration\": \"0:20:25\"}, \"child_runs\": [{\"run_id\": \"AutoML_2558b787-2b30-4460-a59a-a85327795050_0\", \"run_number\": 5, \"metric\": null, \"status\": \"Completed\", \"run_type\": \"azureml.scriptrun\", \"training_percent\": \"100\", \"start_time\": \"2020-12-29T00:55:04.884348Z\", \"end_time\": \"2020-12-29T00:56:12.738031Z\", \"created_time\": \"2020-12-29T00:54:51.293118Z\", \"created_time_dt\": \"2020-12-29T00:54:51.293118Z\", \"duration\": \"0:01:21\", \"iteration\": \"0\", \"goal\": \"AUC_weighted_max\", \"run_name\": \"MaxAbsScaler, LightGBM\", \"run_properties\": \"copy=True\", \"primary_metric\": 0.89008929, \"best_metric\": 0.89008929}, {\"run_id\": \"AutoML_2558b787-2b30-4460-a59a-a85327795050_4\", \"run_number\": 6, \"metric\": null, \"status\": \"Completed\", \"run_type\": \"azureml.scriptrun\", \"training_percent\": \"100\", \"start_time\": \"2020-12-29T00:55:06.537014Z\", \"end_time\": \"2020-12-29T00:56:05.15505Z\", \"created_time\": \"2020-12-29T00:54:51.385954Z\", \"created_time_dt\": \"2020-12-29T00:54:51.385954Z\", \"duration\": \"0:01:13\", \"iteration\": \"4\", \"goal\": \"AUC_weighted_max\", \"run_name\": \"MinMaxScaler, RandomForest\", \"run_properties\": \"copy=True, feature_range=(0, 1\", \"primary_metric\": 0.89019924, \"best_metric\": 0.89285962}, {\"run_id\": \"AutoML_2558b787-2b30-4460-a59a-a85327795050_3\", \"run_number\": 7, \"metric\": null, \"status\": \"Completed\", \"run_type\": \"azureml.scriptrun\", \"training_percent\": \"100\", \"start_time\": \"2020-12-29T00:55:05.169201Z\", \"end_time\": \"2020-12-29T00:56:12.619536Z\", \"created_time\": \"2020-12-29T00:54:51.397592Z\", \"created_time_dt\": \"2020-12-29T00:54:51.397592Z\", \"duration\": \"0:01:21\", \"iteration\": \"3\", \"goal\": \"AUC_weighted_max\", \"run_name\": \"RobustScaler, ExtremeRandomTrees\", \"run_properties\": \"copy=True, quantile_range=[10, 90], with_centering=False,\\n             with_scaling=False\", \"primary_metric\": 0.87572338, \"best_metric\": 0.89285962}, {\"run_id\": \"AutoML_2558b787-2b30-4460-a59a-a85327795050_2\", \"run_number\": 8, \"metric\": null, \"status\": \"Completed\", \"run_type\": \"azureml.scriptrun\", \"training_percent\": \"100\", \"start_time\": \"2020-12-29T00:55:04.861412Z\", \"end_time\": \"2020-12-29T00:56:05.13745Z\", \"created_time\": \"2020-12-29T00:54:51.417817Z\", \"created_time_dt\": \"2020-12-29T00:54:51.417817Z\", \"duration\": \"0:01:13\", \"iteration\": \"2\", \"goal\": \"AUC_weighted_max\", \"run_name\": \"MinMaxScaler, RandomForest\", \"run_properties\": \"copy=True, feature_range=(0, 1\", \"primary_metric\": 0.89285962, \"best_metric\": 0.89285962}, {\"run_id\": \"AutoML_2558b787-2b30-4460-a59a-a85327795050_1\", \"run_number\": 9, \"metric\": null, \"status\": \"Completed\", \"run_type\": \"azureml.scriptrun\", \"training_percent\": \"100\", \"start_time\": \"2020-12-29T00:55:04.777495Z\", \"end_time\": \"2020-12-29T00:56:11.506311Z\", \"created_time\": \"2020-12-29T00:54:51.424822Z\", \"created_time_dt\": \"2020-12-29T00:54:51.424822Z\", \"duration\": \"0:01:20\", \"iteration\": \"1\", \"goal\": \"AUC_weighted_max\", \"run_name\": \"MaxAbsScaler, XGBoostClassifier\", \"run_properties\": \"copy=True\", \"primary_metric\": 0.88788938, \"best_metric\": 0.89008929}, {\"run_id\": \"AutoML_2558b787-2b30-4460-a59a-a85327795050_5\", \"run_number\": 10, \"metric\": null, \"status\": \"Completed\", \"run_type\": \"azureml.scriptrun\", \"training_percent\": \"100\", \"start_time\": \"2020-12-29T00:56:20.580061Z\", \"end_time\": \"2020-12-29T00:57:23.161988Z\", \"created_time\": \"2020-12-29T00:56:09.194155Z\", \"created_time_dt\": \"2020-12-29T00:56:09.194155Z\", \"duration\": \"0:01:13\", \"iteration\": \"5\", \"goal\": \"AUC_weighted_max\", \"run_name\": \"MinMaxScaler, RandomForest\", \"run_properties\": \"copy=True, feature_range=(0, 1\", \"primary_metric\": 0.89933366, \"best_metric\": 0.89933366}, {\"run_id\": \"AutoML_2558b787-2b30-4460-a59a-a85327795050_6\", \"run_number\": 11, \"metric\": null, \"status\": \"Completed\", \"run_type\": \"azureml.scriptrun\", \"training_percent\": \"100\", \"start_time\": \"2020-12-29T00:56:21.394238Z\", \"end_time\": \"2020-12-29T00:57:23.416884Z\", \"created_time\": \"2020-12-29T00:56:09.20218Z\", \"created_time_dt\": \"2020-12-29T00:56:09.20218Z\", \"duration\": \"0:01:14\", \"iteration\": \"6\", \"goal\": \"AUC_weighted_max\", \"run_name\": \"StandardScalerWrapper, RandomForest\", \"run_properties\": \"<azureml.automl.runtime.shared.model_wrappers.StandardScalerWrapper object at 0x7fe3968818d0\", \"primary_metric\": 0.89696015, \"best_metric\": 0.89933366}, {\"run_id\": \"AutoML_2558b787-2b30-4460-a59a-a85327795050_7\", \"run_number\": 12, \"metric\": null, \"status\": \"Completed\", \"run_type\": \"azureml.scriptrun\", \"training_percent\": \"100\", \"start_time\": \"2020-12-29T00:56:27.154827Z\", \"end_time\": \"2020-12-29T00:57:26.843993Z\", \"created_time\": \"2020-12-29T00:56:15.441701Z\", \"created_time_dt\": \"2020-12-29T00:56:15.441701Z\", \"duration\": \"0:01:11\", \"iteration\": \"7\", \"goal\": \"AUC_weighted_max\", \"run_name\": \"MinMaxScaler, ExtremeRandomTrees\", \"run_properties\": \"copy=True, feature_range=(0, 1\", \"primary_metric\": 0.88282986, \"best_metric\": 0.89933366}, {\"run_id\": \"AutoML_2558b787-2b30-4460-a59a-a85327795050_9\", \"run_number\": 13, \"metric\": null, \"status\": \"Completed\", \"run_type\": \"azureml.scriptrun\", \"training_percent\": \"100\", \"start_time\": \"2020-12-29T00:56:33.080246Z\", \"end_time\": \"2020-12-29T00:58:05.805576Z\", \"created_time\": \"2020-12-29T00:56:21.458679Z\", \"created_time_dt\": \"2020-12-29T00:56:21.458679Z\", \"duration\": \"0:01:44\", \"iteration\": \"9\", \"goal\": \"AUC_weighted_max\", \"run_name\": \"SparseNormalizer, KNN\", \"run_properties\": \"<azureml.automl.runtime.shared.model_wrappers.SparseNormalizer object at 0x7f4ce04f6e80\", \"primary_metric\": 0.71834408, \"best_metric\": 0.89933366}, {\"run_id\": \"AutoML_2558b787-2b30-4460-a59a-a85327795050_8\", \"run_number\": 14, \"metric\": null, \"status\": \"Completed\", \"run_type\": \"azureml.scriptrun\", \"training_percent\": \"100\", \"start_time\": \"2020-12-29T00:56:31.929943Z\", \"end_time\": \"2020-12-29T00:58:06.431242Z\", \"created_time\": \"2020-12-29T00:56:21.46025Z\", \"created_time_dt\": \"2020-12-29T00:56:21.46025Z\", \"duration\": \"0:01:44\", \"iteration\": \"8\", \"goal\": \"AUC_weighted_max\", \"run_name\": \"MinMaxScaler, ExtremeRandomTrees\", \"run_properties\": \"copy=True, feature_range=(0, 1\", \"primary_metric\": 0.87564815, \"best_metric\": 0.89933366}, {\"run_id\": \"AutoML_2558b787-2b30-4460-a59a-a85327795050_10\", \"run_number\": 15, \"metric\": null, \"status\": \"Completed\", \"run_type\": \"azureml.scriptrun\", \"training_percent\": \"100\", \"start_time\": \"2020-12-29T00:57:38.118741Z\", \"end_time\": \"2020-12-29T00:58:34.493593Z\", \"created_time\": \"2020-12-29T00:57:26.538302Z\", \"created_time_dt\": \"2020-12-29T00:57:26.538302Z\", \"duration\": \"0:01:07\", \"iteration\": \"10\", \"goal\": \"AUC_weighted_max\", \"run_name\": \"MinMaxScaler, ExtremeRandomTrees\", \"run_properties\": \"copy=True, feature_range=(0, 1\", \"primary_metric\": 0.84636574, \"best_metric\": 0.89933366}, {\"run_id\": \"AutoML_2558b787-2b30-4460-a59a-a85327795050_11\", \"run_number\": 16, \"metric\": null, \"status\": \"Completed\", \"run_type\": \"azureml.scriptrun\", \"training_percent\": \"100\", \"start_time\": \"2020-12-29T00:57:39.082344Z\", \"end_time\": \"2020-12-29T00:58:35.62457Z\", \"created_time\": \"2020-12-29T00:57:26.549Z\", \"created_time_dt\": \"2020-12-29T00:57:26.549Z\", \"duration\": \"0:01:09\", \"iteration\": \"11\", \"goal\": \"AUC_weighted_max\", \"run_name\": \"RobustScaler, ExtremeRandomTrees\", \"run_properties\": \"copy=True, quantile_range=[10, 90], with_centering=True,\\n             with_scaling=False\", \"primary_metric\": 0.86379878, \"best_metric\": 0.89933366}, {\"run_id\": \"AutoML_2558b787-2b30-4460-a59a-a85327795050_12\", \"run_number\": 17, \"metric\": null, \"status\": \"Completed\", \"run_type\": \"azureml.scriptrun\", \"training_percent\": \"100\", \"start_time\": \"2020-12-29T00:57:44.843825Z\", \"end_time\": \"2020-12-29T00:58:40.730058Z\", \"created_time\": \"2020-12-29T00:57:32.457064Z\", \"created_time_dt\": \"2020-12-29T00:57:32.457064Z\", \"duration\": \"0:01:08\", \"iteration\": \"12\", \"goal\": \"AUC_weighted_max\", \"run_name\": \"StandardScalerWrapper, RandomForest\", \"run_properties\": \"<azureml.automl.runtime.shared.model_wrappers.StandardScalerWrapper object at 0x7f94f0b05588\", \"primary_metric\": 0.90123925, \"best_metric\": 0.90123925}, {\"run_id\": \"AutoML_2558b787-2b30-4460-a59a-a85327795050_13\", \"run_number\": 18, \"metric\": null, \"status\": \"Completed\", \"run_type\": \"azureml.scriptrun\", \"training_percent\": \"100\", \"start_time\": \"2020-12-29T00:58:21.060158Z\", \"end_time\": \"2020-12-29T00:59:41.588594Z\", \"created_time\": \"2020-12-29T00:58:08.856332Z\", \"created_time_dt\": \"2020-12-29T00:58:08.856332Z\", \"duration\": \"0:01:32\", \"iteration\": \"13\", \"goal\": \"AUC_weighted_max\", \"run_name\": \"StandardScalerWrapper, SGD\", \"run_properties\": \"<azureml.automl.runtime.shared.model_wrappers.StandardScalerWrapper object at 0x7ffad408b588\", \"primary_metric\": 0.85145668, \"best_metric\": 0.90123925}, {\"run_id\": \"AutoML_2558b787-2b30-4460-a59a-a85327795050_14\", \"run_number\": 19, \"metric\": null, \"status\": \"Completed\", \"run_type\": \"azureml.scriptrun\", \"training_percent\": \"100\", \"start_time\": \"2020-12-29T00:58:24.773235Z\", \"end_time\": \"2020-12-29T00:59:36.924601Z\", \"created_time\": \"2020-12-29T00:58:14.055108Z\", \"created_time_dt\": \"2020-12-29T00:58:14.055108Z\", \"duration\": \"0:01:22\", \"iteration\": \"14\", \"goal\": \"AUC_weighted_max\", \"run_name\": \"RobustScaler, RandomForest\", \"run_properties\": \"copy=True, quantile_range=[10, 90], with_centering=True,\\n             with_scaling=False\", \"primary_metric\": 0.8881589, \"best_metric\": 0.90123925}, {\"run_id\": \"AutoML_2558b787-2b30-4460-a59a-a85327795050_15\", \"run_number\": 20, \"metric\": null, \"status\": \"Completed\", \"run_type\": \"azureml.scriptrun\", \"training_percent\": \"100\", \"start_time\": \"2020-12-29T00:58:49.00006Z\", \"end_time\": \"2020-12-29T00:59:54.711595Z\", \"created_time\": \"2020-12-29T00:58:37.804066Z\", \"created_time_dt\": \"2020-12-29T00:58:37.804066Z\", \"duration\": \"0:01:16\", \"iteration\": \"15\", \"goal\": \"AUC_weighted_max\", \"run_name\": \"StandardScalerWrapper, KNN\", \"run_properties\": \"<azureml.automl.runtime.shared.model_wrappers.StandardScalerWrapper object at 0x7f3889473278\", \"primary_metric\": 0.58758681, \"best_metric\": 0.90123925}, {\"run_id\": \"AutoML_2558b787-2b30-4460-a59a-a85327795050_16\", \"run_number\": 21, \"metric\": null, \"status\": \"Completed\", \"run_type\": \"azureml.scriptrun\", \"training_percent\": \"100\", \"start_time\": \"2020-12-29T00:58:54.157364Z\", \"end_time\": \"2020-12-29T00:59:59.710298Z\", \"created_time\": \"2020-12-29T00:58:43.12748Z\", \"created_time_dt\": \"2020-12-29T00:58:43.12748Z\", \"duration\": \"0:01:16\", \"iteration\": \"16\", \"goal\": \"AUC_weighted_max\", \"run_name\": \"MinMaxScaler, RandomForest\", \"run_properties\": \"copy=True, feature_range=(0, 1\", \"primary_metric\": 0.85368634, \"best_metric\": 0.90123925}, {\"run_id\": \"AutoML_2558b787-2b30-4460-a59a-a85327795050_17\", \"run_number\": 22, \"metric\": null, \"status\": \"Completed\", \"run_type\": \"azureml.scriptrun\", \"training_percent\": \"100\", \"start_time\": \"2020-12-29T00:59:01.075181Z\", \"end_time\": \"2020-12-29T01:00:00.883736Z\", \"created_time\": \"2020-12-29T00:58:48.58734Z\", \"created_time_dt\": \"2020-12-29T00:58:48.58734Z\", \"duration\": \"0:01:12\", \"iteration\": \"17\", \"goal\": \"AUC_weighted_max\", \"run_name\": \"MinMaxScaler, ExtremeRandomTrees\", \"run_properties\": \"copy=True, feature_range=(0, 1\", \"primary_metric\": 0.80038112, \"best_metric\": 0.90123925}, {\"run_id\": \"AutoML_2558b787-2b30-4460-a59a-a85327795050_18\", \"run_number\": 23, \"metric\": null, \"status\": \"Completed\", \"run_type\": \"azureml.scriptrun\", \"training_percent\": \"100\", \"start_time\": \"2020-12-29T00:59:55.705546Z\", \"end_time\": \"2020-12-29T01:01:00.468639Z\", \"created_time\": \"2020-12-29T00:59:40.712974Z\", \"created_time_dt\": \"2020-12-29T00:59:40.712974Z\", \"duration\": \"0:01:19\", \"iteration\": \"18\", \"goal\": \"AUC_weighted_max\", \"run_name\": \"MaxAbsScaler, RandomForest\", \"run_properties\": \"copy=True\", \"primary_metric\": 0.87804646, \"best_metric\": 0.90123925}, {\"run_id\": \"AutoML_2558b787-2b30-4460-a59a-a85327795050_19\", \"run_number\": 24, \"metric\": null, \"status\": \"Completed\", \"run_type\": \"azureml.scriptrun\", \"training_percent\": \"100\", \"start_time\": \"2020-12-29T00:59:58.475178Z\", \"end_time\": \"2020-12-29T01:00:59.246596Z\", \"created_time\": \"2020-12-29T00:59:46.691258Z\", \"created_time_dt\": \"2020-12-29T00:59:46.691258Z\", \"duration\": \"0:01:12\", \"iteration\": \"19\", \"goal\": \"AUC_weighted_max\", \"run_name\": \"StandardScalerWrapper, XGBoostClassifier\", \"run_properties\": \"<azureml.automl.runtime.shared.model_wrappers.StandardScalerWrapper object at 0x7f9b7201a048\", \"primary_metric\": 0.89263228, \"best_metric\": 0.90123925}, {\"run_id\": \"AutoML_2558b787-2b30-4460-a59a-a85327795050_20\", \"run_number\": 25, \"metric\": null, \"status\": \"Completed\", \"run_type\": \"azureml.scriptrun\", \"training_percent\": \"100\", \"start_time\": \"2020-12-29T01:00:10.970053Z\", \"end_time\": \"2020-12-29T01:01:39.789512Z\", \"created_time\": \"2020-12-29T00:59:58.334468Z\", \"created_time_dt\": \"2020-12-29T00:59:58.334468Z\", \"duration\": \"0:01:41\", \"iteration\": \"20\", \"goal\": \"AUC_weighted_max\", \"run_name\": \"MaxAbsScaler, RandomForest\", \"run_properties\": \"copy=True\", \"primary_metric\": 0.88552745, \"best_metric\": 0.90123925}, {\"run_id\": \"AutoML_2558b787-2b30-4460-a59a-a85327795050_21\", \"run_number\": 26, \"metric\": null, \"status\": \"Completed\", \"run_type\": \"azureml.scriptrun\", \"training_percent\": \"100\", \"start_time\": \"2020-12-29T01:00:18.021041Z\", \"end_time\": \"2020-12-29T01:01:47.417717Z\", \"created_time\": \"2020-12-29T01:00:06.125059Z\", \"created_time_dt\": \"2020-12-29T01:00:06.125059Z\", \"duration\": \"0:01:41\", \"iteration\": \"21\", \"goal\": \"AUC_weighted_max\", \"run_name\": \"MaxAbsScaler, ExtremeRandomTrees\", \"run_properties\": \"copy=True\", \"primary_metric\": 0.84036458, \"best_metric\": 0.90123925}, {\"run_id\": \"AutoML_2558b787-2b30-4460-a59a-a85327795050_22\", \"run_number\": 27, \"metric\": null, \"status\": \"Completed\", \"run_type\": \"azureml.scriptrun\", \"training_percent\": \"100\", \"start_time\": \"2020-12-29T01:00:18.733454Z\", \"end_time\": \"2020-12-29T01:01:46.00741Z\", \"created_time\": \"2020-12-29T01:00:06.26814Z\", \"created_time_dt\": \"2020-12-29T01:00:06.26814Z\", \"duration\": \"0:01:39\", \"iteration\": \"22\", \"goal\": \"AUC_weighted_max\", \"run_name\": \"MaxAbsScaler, ExtremeRandomTrees\", \"run_properties\": \"copy=True\", \"primary_metric\": 0.86230572, \"best_metric\": 0.90123925}, {\"run_id\": \"AutoML_2558b787-2b30-4460-a59a-a85327795050_23\", \"run_number\": 28, \"metric\": null, \"status\": \"Completed\", \"run_type\": \"azureml.scriptrun\", \"training_percent\": \"100\", \"start_time\": \"2020-12-29T01:01:15.263909Z\", \"end_time\": \"2020-12-29T01:02:13.530313Z\", \"created_time\": \"2020-12-29T01:01:02.893364Z\", \"created_time_dt\": \"2020-12-29T01:01:02.893364Z\", \"duration\": \"0:01:10\", \"iteration\": \"23\", \"goal\": \"AUC_weighted_max\", \"run_name\": \"MaxAbsScaler, LightGBM\", \"run_properties\": \"copy=True\", \"primary_metric\": 0.89773231, \"best_metric\": 0.90123925}, {\"run_id\": \"AutoML_2558b787-2b30-4460-a59a-a85327795050_24\", \"run_number\": 29, \"metric\": null, \"status\": \"Completed\", \"run_type\": \"azureml.scriptrun\", \"training_percent\": \"100\", \"start_time\": \"2020-12-29T01:01:20.205084Z\", \"end_time\": \"2020-12-29T01:02:17.975858Z\", \"created_time\": \"2020-12-29T01:01:08.115095Z\", \"created_time_dt\": \"2020-12-29T01:01:08.115095Z\", \"duration\": \"0:01:09\", \"iteration\": \"24\", \"goal\": \"AUC_weighted_max\", \"run_name\": \"MaxAbsScaler, RandomForest\", \"run_properties\": \"copy=True\", \"primary_metric\": 0.88223793, \"best_metric\": 0.90123925}, {\"run_id\": \"AutoML_2558b787-2b30-4460-a59a-a85327795050_25\", \"run_number\": 30, \"metric\": null, \"status\": \"Completed\", \"run_type\": \"azureml.scriptrun\", \"training_percent\": \"100\", \"start_time\": \"2020-12-29T01:02:02.785619Z\", \"end_time\": \"2020-12-29T01:03:18.070106Z\", \"created_time\": \"2020-12-29T01:01:44.467616Z\", \"created_time_dt\": \"2020-12-29T01:01:44.467616Z\", \"duration\": \"0:01:33\", \"iteration\": \"25\", \"goal\": \"AUC_weighted_max\", \"run_name\": \"MinMaxScaler, RandomForest\", \"run_properties\": \"copy=True, feature_range=(0, 1\", \"primary_metric\": 0.88689319, \"best_metric\": 0.90123925}, {\"run_id\": \"AutoML_2558b787-2b30-4460-a59a-a85327795050_27\", \"run_number\": 31, \"metric\": null, \"status\": \"Completed\", \"run_type\": \"azureml.scriptrun\", \"training_percent\": \"100\", \"start_time\": \"2020-12-29T01:02:04.837853Z\", \"end_time\": \"2020-12-29T01:03:17.055125Z\", \"created_time\": \"2020-12-29T01:01:52.415274Z\", \"created_time_dt\": \"2020-12-29T01:01:52.415274Z\", \"duration\": \"0:01:24\", \"iteration\": \"27\", \"goal\": \"AUC_weighted_max\", \"run_name\": \"MinMaxScaler, ExtremeRandomTrees\", \"run_properties\": \"copy=True, feature_range=(0, 1\", \"primary_metric\": 0.8866212, \"best_metric\": 0.90123925}, {\"run_id\": \"AutoML_2558b787-2b30-4460-a59a-a85327795050_26\", \"run_number\": 32, \"metric\": null, \"status\": \"Completed\", \"run_type\": \"azureml.scriptrun\", \"training_percent\": \"100\", \"start_time\": \"2020-12-29T01:02:05.289471Z\", \"end_time\": \"2020-12-29T01:03:08.604646Z\", \"created_time\": \"2020-12-29T01:01:52.419401Z\", \"created_time_dt\": \"2020-12-29T01:01:52.419401Z\", \"duration\": \"0:01:16\", \"iteration\": \"26\", \"goal\": \"AUC_weighted_max\", \"run_name\": \"StandardScalerWrapper, XGBoostClassifier\", \"run_properties\": \"<azureml.automl.runtime.shared.model_wrappers.StandardScalerWrapper object at 0x7f94c0369ba8\", \"primary_metric\": 0.90065476, \"best_metric\": 0.90123925}, {\"run_id\": \"AutoML_2558b787-2b30-4460-a59a-a85327795050_28\", \"run_number\": 33, \"metric\": null, \"status\": \"Completed\", \"run_type\": \"azureml.scriptrun\", \"training_percent\": \"100\", \"start_time\": \"2020-12-29T01:02:27.6682Z\", \"end_time\": \"2020-12-29T01:03:37.939058Z\", \"created_time\": \"2020-12-29T01:02:15.81657Z\", \"created_time_dt\": \"2020-12-29T01:02:15.81657Z\", \"duration\": \"0:01:22\", \"iteration\": \"28\", \"goal\": \"AUC_weighted_max\", \"run_name\": \"StandardScalerWrapper, LightGBM\", \"run_properties\": \"<azureml.automl.runtime.shared.model_wrappers.StandardScalerWrapper object at 0x7ff7dc033f60\", \"primary_metric\": 0.89322669, \"best_metric\": 0.90123925}, {\"run_id\": \"AutoML_2558b787-2b30-4460-a59a-a85327795050_29\", \"run_number\": 34, \"metric\": null, \"status\": \"Completed\", \"run_type\": \"azureml.scriptrun\", \"training_percent\": \"100\", \"start_time\": \"2020-12-29T01:02:31.793246Z\", \"end_time\": \"2020-12-29T01:03:39.029162Z\", \"created_time\": \"2020-12-29T01:02:20.143291Z\", \"created_time_dt\": \"2020-12-29T01:02:20.143291Z\", \"duration\": \"0:01:18\", \"iteration\": \"29\", \"goal\": \"AUC_weighted_max\", \"run_name\": \"MinMaxScaler, RandomForest\", \"run_properties\": \"copy=True, feature_range=(0, 1\", \"primary_metric\": 0.91570106, \"best_metric\": 0.91570106}, {\"run_id\": \"AutoML_2558b787-2b30-4460-a59a-a85327795050_30\", \"run_number\": 35, \"metric\": null, \"status\": \"Completed\", \"run_type\": \"azureml.scriptrun\", \"training_percent\": \"100\", \"start_time\": \"2020-12-29T01:03:26.22914Z\", \"end_time\": \"2020-12-29T01:04:32.90427Z\", \"created_time\": \"2020-12-29T01:03:11.978873Z\", \"created_time_dt\": \"2020-12-29T01:03:11.978873Z\", \"duration\": \"0:01:20\", \"iteration\": \"30\", \"goal\": \"AUC_weighted_max\", \"run_name\": \"MaxAbsScaler, RandomForest\", \"run_properties\": \"copy=True\", \"primary_metric\": 0.86844535, \"best_metric\": 0.91570106}, {\"run_id\": \"AutoML_2558b787-2b30-4460-a59a-a85327795050_31\", \"run_number\": 36, \"metric\": null, \"status\": \"Completed\", \"run_type\": \"azureml.scriptrun\", \"training_percent\": \"100\", \"start_time\": \"2020-12-29T01:03:31.063098Z\", \"end_time\": \"2020-12-29T01:04:38.229934Z\", \"created_time\": \"2020-12-29T01:03:19.298423Z\", \"created_time_dt\": \"2020-12-29T01:03:19.298423Z\", \"duration\": \"0:01:18\", \"iteration\": \"31\", \"goal\": \"AUC_weighted_max\", \"run_name\": \"RobustScaler, RandomForest\", \"run_properties\": \"copy=True, quantile_range=[25, 75], with_centering=True,\\n             with_scaling=False\", \"primary_metric\": 0.91559358, \"best_metric\": 0.91570106}, {\"run_id\": \"AutoML_2558b787-2b30-4460-a59a-a85327795050_32\", \"run_number\": 37, \"metric\": null, \"status\": \"Completed\", \"run_type\": \"azureml.scriptrun\", \"training_percent\": \"100\", \"start_time\": \"2020-12-29T01:03:35.913029Z\", \"end_time\": \"2020-12-29T01:04:36.633303Z\", \"created_time\": \"2020-12-29T01:03:23.297842Z\", \"created_time_dt\": \"2020-12-29T01:03:23.297842Z\", \"duration\": \"0:01:13\", \"iteration\": \"32\", \"goal\": \"AUC_weighted_max\", \"run_name\": \"MaxAbsScaler, ExtremeRandomTrees\", \"run_properties\": \"copy=True\", \"primary_metric\": 0.87665179, \"best_metric\": 0.91570106}, {\"run_id\": \"AutoML_2558b787-2b30-4460-a59a-a85327795050_33\", \"run_number\": 38, \"metric\": null, \"status\": \"Completed\", \"run_type\": \"azureml.scriptrun\", \"training_percent\": \"100\", \"start_time\": \"2020-12-29T01:03:53.155702Z\", \"end_time\": \"2020-12-29T01:04:55.871522Z\", \"created_time\": \"2020-12-29T01:03:41.805165Z\", \"created_time_dt\": \"2020-12-29T01:03:41.805165Z\", \"duration\": \"0:01:14\", \"iteration\": \"33\", \"goal\": \"AUC_weighted_max\", \"run_name\": \"StandardScalerWrapper, XGBoostClassifier\", \"run_properties\": \"<azureml.automl.runtime.shared.model_wrappers.StandardScalerWrapper object at 0x7f0a193ba080\", \"primary_metric\": 0.88789517, \"best_metric\": 0.91570106}, {\"run_id\": \"AutoML_2558b787-2b30-4460-a59a-a85327795050_34\", \"run_number\": 39, \"metric\": null, \"status\": \"Completed\", \"run_type\": \"azureml.scriptrun\", \"training_percent\": \"100\", \"start_time\": \"2020-12-29T01:03:58.07732Z\", \"end_time\": \"2020-12-29T01:05:02.466007Z\", \"created_time\": \"2020-12-29T01:03:46.562424Z\", \"created_time_dt\": \"2020-12-29T01:03:46.562424Z\", \"duration\": \"0:01:15\", \"iteration\": \"34\", \"goal\": \"AUC_weighted_max\", \"run_name\": \"StandardScalerWrapper, GradientBoosting\", \"run_properties\": \"<azureml.automl.runtime.shared.model_wrappers.StandardScalerWrapper object at 0x7f58525309e8\", \"primary_metric\": 0.90326224, \"best_metric\": 0.91570106}, {\"run_id\": \"AutoML_2558b787-2b30-4460-a59a-a85327795050_35\", \"run_number\": 40, \"metric\": null, \"status\": \"Completed\", \"run_type\": \"azureml.scriptrun\", \"training_percent\": \"100\", \"start_time\": \"2020-12-29T01:04:46.310157Z\", \"end_time\": \"2020-12-29T01:05:52.055828Z\", \"created_time\": \"2020-12-29T01:04:35.883307Z\", \"created_time_dt\": \"2020-12-29T01:04:35.883307Z\", \"duration\": \"0:01:16\", \"iteration\": \"35\", \"goal\": \"AUC_weighted_max\", \"run_name\": \"TruncatedSVDWrapper, RandomForest\", \"run_properties\": \"n_components=0.8015789473684211, random_state=None\", \"primary_metric\": 0.80704158, \"best_metric\": 0.91570106}, {\"run_id\": \"AutoML_2558b787-2b30-4460-a59a-a85327795050_36\", \"run_number\": 41, \"metric\": null, \"status\": \"Completed\", \"run_type\": \"azureml.scriptrun\", \"training_percent\": \"100\", \"start_time\": \"2020-12-29T01:04:52.025248Z\", \"end_time\": \"2020-12-29T01:05:49.432532Z\", \"created_time\": \"2020-12-29T01:04:39.65014Z\", \"created_time_dt\": \"2020-12-29T01:04:39.65014Z\", \"duration\": \"0:01:09\", \"iteration\": \"36\", \"goal\": \"AUC_weighted_max\", \"run_name\": \"MaxAbsScaler, LogisticRegression\", \"run_properties\": \"copy=True\", \"primary_metric\": 0.84975033, \"best_metric\": 0.91570106}, {\"run_id\": \"AutoML_2558b787-2b30-4460-a59a-a85327795050_37\", \"run_number\": 42, \"metric\": null, \"status\": \"Completed\", \"run_type\": \"azureml.scriptrun\", \"training_percent\": \"100\", \"start_time\": \"2020-12-29T01:04:55.606013Z\", \"end_time\": \"2020-12-29T01:05:53.312506Z\", \"created_time\": \"2020-12-29T01:04:44.514215Z\", \"created_time_dt\": \"2020-12-29T01:04:44.514215Z\", \"duration\": \"0:01:08\", \"iteration\": \"37\", \"goal\": \"AUC_weighted_max\", \"run_name\": \"StandardScalerWrapper, SVM\", \"run_properties\": \"<azureml.automl.runtime.shared.model_wrappers.StandardScalerWrapper object at 0x7f873f33c898\", \"primary_metric\": 0.84271577, \"best_metric\": 0.91570106}, {\"run_id\": \"AutoML_2558b787-2b30-4460-a59a-a85327795050_38\", \"run_number\": 43, \"metric\": null, \"status\": \"Completed\", \"run_type\": \"azureml.scriptrun\", \"training_percent\": \"100\", \"start_time\": \"2020-12-29T01:05:09.946762Z\", \"end_time\": \"2020-12-29T01:06:09.742817Z\", \"created_time\": \"2020-12-29T01:04:58.175317Z\", \"created_time_dt\": \"2020-12-29T01:04:58.175317Z\", \"duration\": \"0:01:11\", \"iteration\": \"38\", \"goal\": \"AUC_weighted_max\", \"run_name\": \"RobustScaler, GradientBoosting\", \"run_properties\": \"copy=True, quantile_range=[25, 75], with_centering=False,\\n             with_scaling=True\", \"primary_metric\": 0.90954448, \"best_metric\": 0.91570106}, {\"run_id\": \"AutoML_2558b787-2b30-4460-a59a-a85327795050_39\", \"run_number\": 44, \"metric\": null, \"status\": \"Completed\", \"run_type\": \"azureml.scriptrun\", \"training_percent\": \"100\", \"start_time\": \"2020-12-29T01:05:14.095896Z\", \"end_time\": \"2020-12-29T01:06:11.926806Z\", \"created_time\": \"2020-12-29T01:05:04.467957Z\", \"created_time_dt\": \"2020-12-29T01:05:04.467957Z\", \"duration\": \"0:01:07\", \"iteration\": \"39\", \"goal\": \"AUC_weighted_max\", \"run_name\": \"StandardScalerWrapper, XGBoostClassifier\", \"run_properties\": \"<azureml.automl.runtime.shared.model_wrappers.StandardScalerWrapper object at 0x7fd37c9b3400\", \"primary_metric\": 0.89719205, \"best_metric\": 0.91570106}, {\"run_id\": \"AutoML_2558b787-2b30-4460-a59a-a85327795050_40\", \"run_number\": 45, \"metric\": null, \"status\": \"Completed\", \"run_type\": \"azureml.scriptrun\", \"training_percent\": \"100\", \"start_time\": \"2020-12-29T01:06:03.095976Z\", \"end_time\": \"2020-12-29T01:07:05.559147Z\", \"created_time\": \"2020-12-29T01:05:52.680146Z\", \"created_time_dt\": \"2020-12-29T01:05:52.680146Z\", \"duration\": \"0:01:12\", \"iteration\": \"40\", \"goal\": \"AUC_weighted_max\", \"run_name\": \"TruncatedSVDWrapper, RandomForest\", \"run_properties\": \"n_components=0.45526315789473687, random_state=None\", \"primary_metric\": 0.78366278, \"best_metric\": 0.91570106}, {\"run_id\": \"AutoML_2558b787-2b30-4460-a59a-a85327795050_41\", \"run_number\": 46, \"metric\": null, \"status\": \"Completed\", \"run_type\": \"azureml.scriptrun\", \"training_percent\": \"100\", \"start_time\": \"2020-12-29T01:06:08.657773Z\", \"end_time\": \"2020-12-29T01:07:12.238262Z\", \"created_time\": \"2020-12-29T01:05:56.877005Z\", \"created_time_dt\": \"2020-12-29T01:05:56.877005Z\", \"duration\": \"0:01:15\", \"iteration\": \"41\", \"goal\": \"AUC_weighted_max\", \"run_name\": \"RobustScaler, GradientBoosting\", \"run_properties\": \"copy=True, quantile_range=[25, 75], with_centering=True,\\n             with_scaling=True\", \"primary_metric\": 0.91158399, \"best_metric\": 0.91570106}, {\"run_id\": \"AutoML_2558b787-2b30-4460-a59a-a85327795050_42\", \"run_number\": 47, \"metric\": null, \"status\": \"Completed\", \"run_type\": \"azureml.scriptrun\", \"training_percent\": \"100\", \"start_time\": \"2020-12-29T01:06:07.789316Z\", \"end_time\": \"2020-12-29T01:07:11.819929Z\", \"created_time\": \"2020-12-29T01:05:57.060268Z\", \"created_time_dt\": \"2020-12-29T01:05:57.060268Z\", \"duration\": \"0:01:14\", \"iteration\": \"42\", \"goal\": \"AUC_weighted_max\", \"run_name\": \"StandardScalerWrapper, GradientBoosting\", \"run_properties\": \"<azureml.automl.runtime.shared.model_wrappers.StandardScalerWrapper object at 0x7f015823f1d0\", \"primary_metric\": 0.89008019, \"best_metric\": 0.91570106}, {\"run_id\": \"AutoML_2558b787-2b30-4460-a59a-a85327795050_43\", \"run_number\": 48, \"metric\": null, \"status\": \"Completed\", \"run_type\": \"azureml.scriptrun\", \"training_percent\": \"100\", \"start_time\": \"2020-12-29T01:06:23.197926Z\", \"end_time\": \"2020-12-29T01:07:24.172049Z\", \"created_time\": \"2020-12-29T01:06:12.141901Z\", \"created_time_dt\": \"2020-12-29T01:06:12.141901Z\", \"duration\": \"0:01:12\", \"iteration\": \"43\", \"goal\": \"AUC_weighted_max\", \"run_name\": \"StandardScalerWrapper, LightGBM\", \"run_properties\": \"<azureml.automl.runtime.shared.model_wrappers.StandardScalerWrapper object at 0x7f53e218f748\", \"primary_metric\": 0.90219659, \"best_metric\": 0.91570106}, {\"run_id\": \"AutoML_2558b787-2b30-4460-a59a-a85327795050_44\", \"run_number\": 49, \"metric\": null, \"status\": \"Completed\", \"run_type\": \"azureml.scriptrun\", \"training_percent\": \"100\", \"start_time\": \"2020-12-29T01:06:29.575751Z\", \"end_time\": \"2020-12-29T01:07:25.035928Z\", \"created_time\": \"2020-12-29T01:06:15.978116Z\", \"created_time_dt\": \"2020-12-29T01:06:15.978116Z\", \"duration\": \"0:01:09\", \"iteration\": \"44\", \"goal\": \"AUC_weighted_max\", \"run_name\": \"MaxAbsScaler, LightGBM\", \"run_properties\": \"copy=True\", \"primary_metric\": 0.89847222, \"best_metric\": 0.91570106}, {\"run_id\": \"AutoML_2558b787-2b30-4460-a59a-a85327795050_45\", \"run_number\": 50, \"metric\": null, \"status\": \"Canceled\", \"run_type\": \"azureml.scriptrun\", \"training_percent\": \"100\", \"start_time\": \"2020-12-29T01:07:22.143937Z\", \"end_time\": \"2020-12-29T01:07:31.939471Z\", \"created_time\": \"2020-12-29T01:07:08.893513Z\", \"created_time_dt\": \"2020-12-29T01:07:08.893513Z\", \"duration\": \"0:00:23\", \"iteration\": \"45\", \"goal\": null, \"run_name\": \"Canceled\", \"run_properties\": null}, {\"run_id\": \"AutoML_2558b787-2b30-4460-a59a-a85327795050_46\", \"run_number\": 51, \"metric\": null, \"status\": \"Canceled\", \"run_type\": \"azureml.scriptrun\", \"training_percent\": \"100\", \"start_time\": \"2020-12-29T01:07:14.258371Z\", \"end_time\": \"2020-12-29T01:07:34.497889Z\", \"created_time\": \"2020-12-29T01:07:14.258371Z\", \"created_time_dt\": \"2020-12-29T01:07:14.258371Z\", \"duration\": \"0:00:20\", \"iteration\": \"46\", \"goal\": null, \"run_name\": \"Canceled\", \"run_properties\": null}, {\"run_id\": \"AutoML_2558b787-2b30-4460-a59a-a85327795050_47\", \"run_number\": 52, \"metric\": null, \"status\": \"Canceled\", \"run_type\": \"azureml.scriptrun\", \"training_percent\": \"100\", \"start_time\": \"2020-12-29T01:07:25.631218Z\", \"end_time\": \"2020-12-29T01:07:33.148063Z\", \"created_time\": \"2020-12-29T01:07:14.317574Z\", \"created_time_dt\": \"2020-12-29T01:07:14.317574Z\", \"duration\": \"0:00:18\", \"iteration\": \"47\", \"goal\": null, \"run_name\": \"Canceled\", \"run_properties\": null}, {\"run_id\": \"AutoML_2558b787-2b30-4460-a59a-a85327795050_48\", \"run_number\": 53, \"metric\": null, \"status\": \"Completed\", \"run_type\": \"azureml.scriptrun\", \"training_percent\": \"100\", \"start_time\": \"2020-12-29T01:07:51.566721Z\", \"end_time\": \"2020-12-29T01:10:24.047961Z\", \"created_time\": \"2020-12-29T01:07:35.807398Z\", \"created_time_dt\": \"2020-12-29T01:07:35.807398Z\", \"duration\": \"0:02:48\", \"iteration\": \"48\", \"goal\": \"AUC_weighted_max\", \"run_name\": \"VotingEnsemble\", \"run_properties\": \"classification_labels=None,\\n                              estimators=[('29',\\n                                           Pipeline(memory=None,\\n                                                    steps=[('minmaxscaler',\\n                                                            MinMaxScaler(copy=True,\\n                                                                         feature_range=(0,\\n                                                                                        1\", \"primary_metric\": 0.92041419, \"best_metric\": 0.92041419}, {\"run_id\": \"AutoML_2558b787-2b30-4460-a59a-a85327795050_49\", \"run_number\": 54, \"metric\": null, \"status\": \"Completed\", \"run_type\": \"azureml.scriptrun\", \"training_percent\": \"100\", \"start_time\": \"2020-12-29T01:07:51.448764Z\", \"end_time\": \"2020-12-29T01:10:32.366537Z\", \"created_time\": \"2020-12-29T01:07:36.056699Z\", \"created_time_dt\": \"2020-12-29T01:07:36.056699Z\", \"duration\": \"0:02:56\", \"iteration\": \"49\", \"goal\": \"AUC_weighted_max\", \"run_name\": \"StackEnsemble\", \"run_properties\": \"base_learners=[('29',\\n                                        Pipeline(memory=None,\\n                                                 steps=[('minmaxscaler',\\n                                                         MinMaxScaler(copy=True,\\n                                                                      feature_range=(0,\\n                                                                                     1\", \"primary_metric\": 0.91482722, \"best_metric\": 0.92041419}], \"children_metrics\": {\"categories\": [0], \"series\": {\"log_loss\": [{\"categories\": [\"0\", \"1\", \"2\", \"3\", \"4\", \"5\", \"6\", \"7\", \"8\", \"9\", \"10\", \"11\", \"12\", \"13\", \"14\", \"15\", \"16\", \"17\", \"18\", \"19\", \"20\", \"21\", \"22\", \"23\", \"24\", \"25\", \"26\", \"27\", \"28\", \"29\", \"30\", \"31\", \"32\", \"33\", \"34\", \"35\", \"36\", \"37\", \"38\", \"39\", \"40\", \"41\", \"42\", \"43\", \"44\", \"48\", \"49\"], \"mode\": \"markers\", \"name\": \"log_loss\", \"stepped\": false, \"type\": \"scatter\", \"data\": [0.5113835461600813, 0.43916675172891606, 0.41355300212688934, 0.48818099909348084, 0.40663856202730964, 0.38827966286631893, 0.5247728348618308, 0.4347534995696682, 0.49420327654427093, 1.1099851948022064, 0.5009450594780127, 0.473436645510812, 0.43444000091348833, 0.4427674715506515, 0.4577634505610117, 0.7364294315179739, 0.5047688624398412, 0.6411126226199969, 0.5335780367848318, 0.49390392784680426, 0.5483041299113803, 0.5292686979625933, 0.5055229059675458, 0.38765451930731776, 0.4614723011618306, 0.45827096259026545, 0.42284156063672934, 0.4242583469959616, 0.47041869693378474, 0.4678225721306248, 0.4284392940197046, 0.4208924617632698, 0.45698135292544073, 0.46299364479852556, 0.3854652873589709, 0.6100791010788346, 0.4552352816561712, 0.4552500573339583, 0.38592881949640356, 0.4189207491804071, 0.5495007421770072, 0.3712812260835187, 0.42607499005287053, 0.38547696564066436, 0.39661533005850164, 0.4051395757330417, 0.369487303646362]}, {\"categories\": [\"0\", \"1\", \"2\", \"3\", \"4\", \"5\", \"6\", \"7\", \"8\", \"9\", \"10\", \"11\", \"12\", \"13\", \"14\", \"15\", \"16\", \"17\", \"18\", \"19\", \"20\", \"21\", \"22\", \"23\", \"24\", \"25\", \"26\", \"27\", \"28\", \"29\", \"30\", \"31\", \"32\", \"33\", \"34\", \"35\", \"36\", \"37\", \"38\", \"39\", \"40\", \"41\", \"42\", \"43\", \"44\", \"48\", \"49\"], \"mode\": \"lines\", \"name\": \"log_loss_min\", \"stepped\": true, \"type\": \"scatter\", \"data\": [0.5113835461600813, 0.43916675172891606, 0.41355300212688934, 0.41355300212688934, 0.40663856202730964, 0.38827966286631893, 0.38827966286631893, 0.38827966286631893, 0.38827966286631893, 0.38827966286631893, 0.38827966286631893, 0.38827966286631893, 0.38827966286631893, 0.38827966286631893, 0.38827966286631893, 0.38827966286631893, 0.38827966286631893, 0.38827966286631893, 0.38827966286631893, 0.38827966286631893, 0.38827966286631893, 0.38827966286631893, 0.38827966286631893, 0.38765451930731776, 0.38765451930731776, 0.38765451930731776, 0.38765451930731776, 0.38765451930731776, 0.38765451930731776, 0.38765451930731776, 0.38765451930731776, 0.38765451930731776, 0.38765451930731776, 0.38765451930731776, 0.3854652873589709, 0.3854652873589709, 0.3854652873589709, 0.3854652873589709, 0.3854652873589709, 0.3854652873589709, 0.3854652873589709, 0.3712812260835187, 0.3712812260835187, 0.3712812260835187, 0.3712812260835187, 0.3712812260835187, 0.369487303646362]}], \"precision_score_weighted\": [{\"categories\": [\"0\", \"1\", \"2\", \"3\", \"4\", \"5\", \"6\", \"7\", \"8\", \"9\", \"10\", \"11\", \"12\", \"13\", \"14\", \"15\", \"16\", \"17\", \"18\", \"19\", \"20\", \"21\", \"22\", \"23\", \"24\", \"25\", \"26\", \"27\", \"28\", \"29\", \"30\", \"31\", \"32\", \"33\", \"34\", \"35\", \"36\", \"37\", \"38\", \"39\", \"40\", \"41\", \"42\", \"43\", \"44\", \"48\", \"49\"], \"mode\": \"markers\", \"name\": \"precision_score_weighted\", \"stepped\": false, \"type\": \"scatter\", \"data\": [0.8264842830302515, 0.8525607416879796, 0.8396591018653838, 0.8127862325962676, 0.8464868835105408, 0.8400047546466984, 0.8410401754878846, 0.8269217333036698, 0.8187054535541882, 0.7459292146752606, 0.8262385723942629, 0.8220442826368928, 0.8404901719604236, 0.8009395138497517, 0.848019756955179, 0.6022469282176385, 0.8068627252694757, 0.7900235337327728, 0.8244163907221689, 0.8533072398645448, 0.8381286244652781, 0.8074358155372382, 0.8088965310094289, 0.8597961914234291, 0.8282688516343365, 0.8489814789959074, 0.8598183125484915, 0.8403601954341244, 0.8272446712718787, 0.8790347769120148, 0.8541492500052282, 0.8511780120987282, 0.839941755385729, 0.8303835942167144, 0.8464344034292882, 0.7606680236207047, 0.8066626617116462, 0.8024845079940188, 0.847418156876277, 0.8566839722274505, 0.7580544369817825, 0.8484510802795565, 0.8597659918435973, 0.8524173787872638, 0.8561434058416955, 0.8543335202438463, 0.8495548672049547]}, {\"categories\": [\"0\", \"1\", \"2\", \"3\", \"4\", \"5\", \"6\", \"7\", \"8\", \"9\", \"10\", \"11\", \"12\", \"13\", \"14\", \"15\", \"16\", \"17\", \"18\", \"19\", \"20\", \"21\", \"22\", \"23\", \"24\", \"25\", \"26\", \"27\", \"28\", \"29\", \"30\", \"31\", \"32\", \"33\", \"34\", \"35\", \"36\", \"37\", \"38\", \"39\", \"40\", \"41\", \"42\", \"43\", \"44\", \"48\", \"49\"], \"mode\": \"lines\", \"name\": \"precision_score_weighted_max\", \"stepped\": true, \"type\": \"scatter\", \"data\": [0.8264842830302515, 0.8525607416879796, 0.8525607416879796, 0.8525607416879796, 0.8525607416879796, 0.8525607416879796, 0.8525607416879796, 0.8525607416879796, 0.8525607416879796, 0.8525607416879796, 0.8525607416879796, 0.8525607416879796, 0.8525607416879796, 0.8525607416879796, 0.8525607416879796, 0.8525607416879796, 0.8525607416879796, 0.8525607416879796, 0.8525607416879796, 0.8533072398645448, 0.8533072398645448, 0.8533072398645448, 0.8533072398645448, 0.8597961914234291, 0.8597961914234291, 0.8597961914234291, 0.8598183125484915, 0.8598183125484915, 0.8598183125484915, 0.8790347769120148, 0.8790347769120148, 0.8790347769120148, 0.8790347769120148, 0.8790347769120148, 0.8790347769120148, 0.8790347769120148, 0.8790347769120148, 0.8790347769120148, 0.8790347769120148, 0.8790347769120148, 0.8790347769120148, 0.8790347769120148, 0.8790347769120148, 0.8790347769120148, 0.8790347769120148, 0.8790347769120148, 0.8790347769120148]}], \"accuracy\": [{\"categories\": [\"0\", \"1\", \"2\", \"3\", \"4\", \"5\", \"6\", \"7\", \"8\", \"9\", \"10\", \"11\", \"12\", \"13\", \"14\", \"15\", \"16\", \"17\", \"18\", \"19\", \"20\", \"21\", \"22\", \"23\", \"24\", \"25\", \"26\", \"27\", \"28\", \"29\", \"30\", \"31\", \"32\", \"33\", \"34\", \"35\", \"36\", \"37\", \"38\", \"39\", \"40\", \"41\", \"42\", \"43\", \"44\", \"48\", \"49\"], \"mode\": \"markers\", \"name\": \"accuracy\", \"stepped\": false, \"type\": \"scatter\", \"data\": [0.803623188405797, 0.8327898550724638, 0.8286231884057971, 0.7827898550724639, 0.8326086956521739, 0.8244565217391304, 0.8201086956521738, 0.8076086956521739, 0.7786231884057971, 0.7244565217391306, 0.7869565217391303, 0.7994565217391304, 0.8242753623188406, 0.7907608695652174, 0.8242753623188406, 0.6237318840579709, 0.7742753623188405, 0.7704710144927536, 0.7992753623188407, 0.8409420289855072, 0.8246376811594203, 0.7951086956521738, 0.7952898550724637, 0.8452898550724637, 0.8038043478260869, 0.8286231884057971, 0.841123188405797, 0.8202898550724637, 0.7951086956521738, 0.8619565217391305, 0.8409420289855072, 0.8284420289855072, 0.8286231884057971, 0.8119565217391305, 0.8286231884057971, 0.741123188405797, 0.7951086956521739, 0.7867753623188405, 0.8327898550724637, 0.8409420289855072, 0.7201086956521741, 0.8327898550724638, 0.8452898550724637, 0.8369565217391305, 0.8367753623188406, 0.841123188405797, 0.8367753623188406]}, {\"categories\": [\"0\", \"1\", \"2\", \"3\", \"4\", \"5\", \"6\", \"7\", \"8\", \"9\", \"10\", \"11\", \"12\", \"13\", \"14\", \"15\", \"16\", \"17\", \"18\", \"19\", \"20\", \"21\", \"22\", \"23\", \"24\", \"25\", \"26\", \"27\", \"28\", \"29\", \"30\", \"31\", \"32\", \"33\", \"34\", \"35\", \"36\", \"37\", \"38\", \"39\", \"40\", \"41\", \"42\", \"43\", \"44\", \"48\", \"49\"], \"mode\": \"lines\", \"name\": \"accuracy_max\", \"stepped\": true, \"type\": \"scatter\", \"data\": [0.803623188405797, 0.8327898550724638, 0.8327898550724638, 0.8327898550724638, 0.8327898550724638, 0.8327898550724638, 0.8327898550724638, 0.8327898550724638, 0.8327898550724638, 0.8327898550724638, 0.8327898550724638, 0.8327898550724638, 0.8327898550724638, 0.8327898550724638, 0.8327898550724638, 0.8327898550724638, 0.8327898550724638, 0.8327898550724638, 0.8327898550724638, 0.8409420289855072, 0.8409420289855072, 0.8409420289855072, 0.8409420289855072, 0.8452898550724637, 0.8452898550724637, 0.8452898550724637, 0.8452898550724637, 0.8452898550724637, 0.8452898550724637, 0.8619565217391305, 0.8619565217391305, 0.8619565217391305, 0.8619565217391305, 0.8619565217391305, 0.8619565217391305, 0.8619565217391305, 0.8619565217391305, 0.8619565217391305, 0.8619565217391305, 0.8619565217391305, 0.8619565217391305, 0.8619565217391305, 0.8619565217391305, 0.8619565217391305, 0.8619565217391305, 0.8619565217391305, 0.8619565217391305]}], \"f1_score_macro\": [{\"categories\": [\"0\", \"1\", \"2\", \"3\", \"4\", \"5\", \"6\", \"7\", \"8\", \"9\", \"10\", \"11\", \"12\", \"13\", \"14\", \"15\", \"16\", \"17\", \"18\", \"19\", \"20\", \"21\", \"22\", \"23\", \"24\", \"25\", \"26\", \"27\", \"28\", \"29\", \"30\", \"31\", \"32\", \"33\", \"34\", \"35\", \"36\", \"37\", \"38\", \"39\", \"40\", \"41\", \"42\", \"43\", \"44\", \"48\", \"49\"], \"mode\": \"markers\", \"name\": \"f1_score_macro\", \"stepped\": false, \"type\": \"scatter\", \"data\": [0.7716529969862921, 0.8066550600718466, 0.8026145807325058, 0.7136025020475083, 0.8088773687665258, 0.7902539705641213, 0.7851771415386216, 0.7563051083032455, 0.699974527840287, 0.6498604507409158, 0.717744215708612, 0.7439093953574505, 0.8057140725375813, 0.7571255876994429, 0.806847630507205, 0.5308222516969895, 0.6953317599641129, 0.7391060421528851, 0.7810154402049723, 0.8155212372869762, 0.7973343840255606, 0.7614562955814803, 0.7611697501698346, 0.8208850914988475, 0.7555713404385132, 0.8125546899386726, 0.8185482513588604, 0.7929135067637428, 0.7291862988328832, 0.8471914780489795, 0.8049885015100859, 0.8095820266861857, 0.8037561998582241, 0.7829659089115804, 0.8053589536172436, 0.7092853203646586, 0.7599932132576979, 0.7475485657495295, 0.8009775732902327, 0.8054473165050384, 0.5953473699430053, 0.8035734542552684, 0.8214058377045028, 0.8093611857772608, 0.811382758092757, 0.8147024385958275, 0.8084089994299566]}, {\"categories\": [\"0\", \"1\", \"2\", \"3\", \"4\", \"5\", \"6\", \"7\", \"8\", \"9\", \"10\", \"11\", \"12\", \"13\", \"14\", \"15\", \"16\", \"17\", \"18\", \"19\", \"20\", \"21\", \"22\", \"23\", \"24\", \"25\", \"26\", \"27\", \"28\", \"29\", \"30\", \"31\", \"32\", \"33\", \"34\", \"35\", \"36\", \"37\", \"38\", \"39\", \"40\", \"41\", \"42\", \"43\", \"44\", \"48\", \"49\"], \"mode\": \"lines\", \"name\": \"f1_score_macro_max\", \"stepped\": true, \"type\": \"scatter\", \"data\": [0.7716529969862921, 0.8066550600718466, 0.8066550600718466, 0.8066550600718466, 0.8088773687665258, 0.8088773687665258, 0.8088773687665258, 0.8088773687665258, 0.8088773687665258, 0.8088773687665258, 0.8088773687665258, 0.8088773687665258, 0.8088773687665258, 0.8088773687665258, 0.8088773687665258, 0.8088773687665258, 0.8088773687665258, 0.8088773687665258, 0.8088773687665258, 0.8155212372869762, 0.8155212372869762, 0.8155212372869762, 0.8155212372869762, 0.8208850914988475, 0.8208850914988475, 0.8208850914988475, 0.8208850914988475, 0.8208850914988475, 0.8208850914988475, 0.8471914780489795, 0.8471914780489795, 0.8471914780489795, 0.8471914780489795, 0.8471914780489795, 0.8471914780489795, 0.8471914780489795, 0.8471914780489795, 0.8471914780489795, 0.8471914780489795, 0.8471914780489795, 0.8471914780489795, 0.8471914780489795, 0.8471914780489795, 0.8471914780489795, 0.8471914780489795, 0.8471914780489795, 0.8471914780489795]}], \"recall_score_weighted\": [{\"categories\": [\"0\", \"1\", \"2\", \"3\", \"4\", \"5\", \"6\", \"7\", \"8\", \"9\", \"10\", \"11\", \"12\", \"13\", \"14\", \"15\", \"16\", \"17\", \"18\", \"19\", \"20\", \"21\", \"22\", \"23\", \"24\", \"25\", \"26\", \"27\", \"28\", \"29\", \"30\", \"31\", \"32\", \"33\", \"34\", \"35\", \"36\", \"37\", \"38\", \"39\", \"40\", \"41\", \"42\", \"43\", \"44\", \"48\", \"49\"], \"mode\": \"markers\", \"name\": \"recall_score_weighted\", \"stepped\": false, \"type\": \"scatter\", \"data\": [0.803623188405797, 0.8327898550724638, 0.8286231884057971, 0.7827898550724639, 0.8326086956521739, 0.8244565217391304, 0.8201086956521738, 0.8076086956521739, 0.7786231884057971, 0.7244565217391306, 0.7869565217391303, 0.7994565217391304, 0.8242753623188406, 0.7907608695652174, 0.8242753623188406, 0.6237318840579709, 0.7742753623188405, 0.7704710144927536, 0.7992753623188407, 0.8409420289855072, 0.8246376811594203, 0.7951086956521738, 0.7952898550724637, 0.8452898550724637, 0.8038043478260869, 0.8286231884057971, 0.841123188405797, 0.8202898550724637, 0.7951086956521738, 0.8619565217391305, 0.8409420289855072, 0.8284420289855072, 0.8286231884057971, 0.8119565217391305, 0.8286231884057971, 0.741123188405797, 0.7951086956521739, 0.7867753623188405, 0.8327898550724637, 0.8409420289855072, 0.7201086956521741, 0.8327898550724638, 0.8452898550724637, 0.8369565217391305, 0.8367753623188406, 0.841123188405797, 0.8367753623188406]}, {\"categories\": [\"0\", \"1\", \"2\", \"3\", \"4\", \"5\", \"6\", \"7\", \"8\", \"9\", \"10\", \"11\", \"12\", \"13\", \"14\", \"15\", \"16\", \"17\", \"18\", \"19\", \"20\", \"21\", \"22\", \"23\", \"24\", \"25\", \"26\", \"27\", \"28\", \"29\", \"30\", \"31\", \"32\", \"33\", \"34\", \"35\", \"36\", \"37\", \"38\", \"39\", \"40\", \"41\", \"42\", \"43\", \"44\", \"48\", \"49\"], \"mode\": \"lines\", \"name\": \"recall_score_weighted_max\", \"stepped\": true, \"type\": \"scatter\", \"data\": [0.803623188405797, 0.8327898550724638, 0.8327898550724638, 0.8327898550724638, 0.8327898550724638, 0.8327898550724638, 0.8327898550724638, 0.8327898550724638, 0.8327898550724638, 0.8327898550724638, 0.8327898550724638, 0.8327898550724638, 0.8327898550724638, 0.8327898550724638, 0.8327898550724638, 0.8327898550724638, 0.8327898550724638, 0.8327898550724638, 0.8327898550724638, 0.8409420289855072, 0.8409420289855072, 0.8409420289855072, 0.8409420289855072, 0.8452898550724637, 0.8452898550724637, 0.8452898550724637, 0.8452898550724637, 0.8452898550724637, 0.8452898550724637, 0.8619565217391305, 0.8619565217391305, 0.8619565217391305, 0.8619565217391305, 0.8619565217391305, 0.8619565217391305, 0.8619565217391305, 0.8619565217391305, 0.8619565217391305, 0.8619565217391305, 0.8619565217391305, 0.8619565217391305, 0.8619565217391305, 0.8619565217391305, 0.8619565217391305, 0.8619565217391305, 0.8619565217391305, 0.8619565217391305]}], \"balanced_accuracy\": [{\"categories\": [\"0\", \"1\", \"2\", \"3\", \"4\", \"5\", \"6\", \"7\", \"8\", \"9\", \"10\", \"11\", \"12\", \"13\", \"14\", \"15\", \"16\", \"17\", \"18\", \"19\", \"20\", \"21\", \"22\", \"23\", \"24\", \"25\", \"26\", \"27\", \"28\", \"29\", \"30\", \"31\", \"32\", \"33\", \"34\", \"35\", \"36\", \"37\", \"38\", \"39\", \"40\", \"41\", \"42\", \"43\", \"44\", \"48\", \"49\"], \"mode\": \"markers\", \"name\": \"balanced_accuracy\", \"stepped\": false, \"type\": \"scatter\", \"data\": [0.7736210317460317, 0.8073313492063491, 0.8026190476190476, 0.7132837301587301, 0.8161904761904761, 0.792093253968254, 0.7860119047619049, 0.7501984126984127, 0.6980753968253968, 0.6502579365079365, 0.714047619047619, 0.7393948412698412, 0.8209325396825398, 0.7567658730158731, 0.816686507936508, 0.5407142857142857, 0.6894047619047619, 0.7446428571428572, 0.7949503968253969, 0.8146031746031746, 0.7984920634920635, 0.7639484126984126, 0.7645337301587303, 0.8223015873015873, 0.7545833333333334, 0.8264880952380953, 0.8228968253968254, 0.800813492063492, 0.7243253968253969, 0.8563690476190476, 0.7962698412698413, 0.8199503968253967, 0.8046428571428571, 0.7830357142857143, 0.8085218253968254, 0.7181547619047619, 0.756656746031746, 0.7468948412698413, 0.7962896825396826, 0.799047619047619, 0.6102182539682539, 0.8028571428571428, 0.8222321428571429, 0.8097619047619048, 0.8132043650793651, 0.8150793650793651, 0.8074900793650794]}, {\"categories\": [\"0\", \"1\", \"2\", \"3\", \"4\", \"5\", \"6\", \"7\", \"8\", \"9\", \"10\", \"11\", \"12\", \"13\", \"14\", \"15\", \"16\", \"17\", \"18\", \"19\", \"20\", \"21\", \"22\", \"23\", \"24\", \"25\", \"26\", \"27\", \"28\", \"29\", \"30\", \"31\", \"32\", \"33\", \"34\", \"35\", \"36\", \"37\", \"38\", \"39\", \"40\", \"41\", \"42\", \"43\", \"44\", \"48\", \"49\"], \"mode\": \"lines\", \"name\": \"balanced_accuracy_max\", \"stepped\": true, \"type\": \"scatter\", \"data\": [0.7736210317460317, 0.8073313492063491, 0.8073313492063491, 0.8073313492063491, 0.8161904761904761, 0.8161904761904761, 0.8161904761904761, 0.8161904761904761, 0.8161904761904761, 0.8161904761904761, 0.8161904761904761, 0.8161904761904761, 0.8209325396825398, 0.8209325396825398, 0.8209325396825398, 0.8209325396825398, 0.8209325396825398, 0.8209325396825398, 0.8209325396825398, 0.8209325396825398, 0.8209325396825398, 0.8209325396825398, 0.8209325396825398, 0.8223015873015873, 0.8223015873015873, 0.8264880952380953, 0.8264880952380953, 0.8264880952380953, 0.8264880952380953, 0.8563690476190476, 0.8563690476190476, 0.8563690476190476, 0.8563690476190476, 0.8563690476190476, 0.8563690476190476, 0.8563690476190476, 0.8563690476190476, 0.8563690476190476, 0.8563690476190476, 0.8563690476190476, 0.8563690476190476, 0.8563690476190476, 0.8563690476190476, 0.8563690476190476, 0.8563690476190476, 0.8563690476190476, 0.8563690476190476]}], \"matthews_correlation\": [{\"categories\": [\"0\", \"1\", \"2\", \"3\", \"4\", \"5\", \"6\", \"7\", \"8\", \"9\", \"10\", \"11\", \"12\", \"13\", \"14\", \"15\", \"16\", \"17\", \"18\", \"19\", \"20\", \"21\", \"22\", \"23\", \"24\", \"25\", \"26\", \"27\", \"28\", \"29\", \"30\", \"31\", \"32\", \"33\", \"34\", \"35\", \"36\", \"37\", \"38\", \"39\", \"40\", \"41\", \"42\", \"43\", \"44\", \"48\", \"49\"], \"mode\": \"markers\", \"name\": \"matthews_correlation\", \"stepped\": false, \"type\": \"scatter\", \"data\": [0.5811470680333605, 0.6424444597531219, 0.6247407172064461, 0.5062258878190747, 0.6356978029674007, 0.6109427191746463, 0.607579890137751, 0.5604033579683134, 0.4979703208200739, 0.37193017783606275, 0.5268804548825513, 0.5484976888382085, 0.6255476823302564, 0.5327631859647562, 0.6362935748867202, 0.09891081243656913, 0.48112857023808625, 0.5027963062919137, 0.5852393343825357, 0.6507755527252388, 0.6181450806310971, 0.5464570806107296, 0.5445579871684164, 0.6638246998618229, 0.5631432207338202, 0.643957068630028, 0.662287513528249, 0.6142140550496348, 0.5360365969220534, 0.7120358625719345, 0.6408312872306208, 0.6437650959717488, 0.6239142140612749, 0.5954949638164753, 0.6345113406476398, 0.4395709781631901, 0.5435352853271226, 0.5247943589218504, 0.6299708752054666, 0.6436827747879307, 0.334834069561774, 0.6344411945155111, 0.6632728380541247, 0.6451427889691319, 0.6497603302482251, 0.6526960091500414, 0.6417072685277806]}, {\"categories\": [\"0\", \"1\", \"2\", \"3\", \"4\", \"5\", \"6\", \"7\", \"8\", \"9\", \"10\", \"11\", \"12\", \"13\", \"14\", \"15\", \"16\", \"17\", \"18\", \"19\", \"20\", \"21\", \"22\", \"23\", \"24\", \"25\", \"26\", \"27\", \"28\", \"29\", \"30\", \"31\", \"32\", \"33\", \"34\", \"35\", \"36\", \"37\", \"38\", \"39\", \"40\", \"41\", \"42\", \"43\", \"44\", \"48\", \"49\"], \"mode\": \"lines\", \"name\": \"matthews_correlation_max\", \"stepped\": true, \"type\": \"scatter\", \"data\": [0.5811470680333605, 0.6424444597531219, 0.6424444597531219, 0.6424444597531219, 0.6424444597531219, 0.6424444597531219, 0.6424444597531219, 0.6424444597531219, 0.6424444597531219, 0.6424444597531219, 0.6424444597531219, 0.6424444597531219, 0.6424444597531219, 0.6424444597531219, 0.6424444597531219, 0.6424444597531219, 0.6424444597531219, 0.6424444597531219, 0.6424444597531219, 0.6507755527252388, 0.6507755527252388, 0.6507755527252388, 0.6507755527252388, 0.6638246998618229, 0.6638246998618229, 0.6638246998618229, 0.6638246998618229, 0.6638246998618229, 0.6638246998618229, 0.7120358625719345, 0.7120358625719345, 0.7120358625719345, 0.7120358625719345, 0.7120358625719345, 0.7120358625719345, 0.7120358625719345, 0.7120358625719345, 0.7120358625719345, 0.7120358625719345, 0.7120358625719345, 0.7120358625719345, 0.7120358625719345, 0.7120358625719345, 0.7120358625719345, 0.7120358625719345, 0.7120358625719345, 0.7120358625719345]}], \"average_precision_score_weighted\": [{\"categories\": [\"0\", \"1\", \"2\", \"3\", \"4\", \"5\", \"6\", \"7\", \"8\", \"9\", \"10\", \"11\", \"12\", \"13\", \"14\", \"15\", \"16\", \"17\", \"18\", \"19\", \"20\", \"21\", \"22\", \"23\", \"24\", \"25\", \"26\", \"27\", \"28\", \"29\", \"30\", \"31\", \"32\", \"33\", \"34\", \"35\", \"36\", \"37\", \"38\", \"39\", \"40\", \"41\", \"42\", \"43\", \"44\", \"48\", \"49\"], \"mode\": \"markers\", \"name\": \"average_precision_score_weighted\", \"stepped\": false, \"type\": \"scatter\", \"data\": [0.9000109067542017, 0.9062493235409341, 0.9081477398190406, 0.9010565955826927, 0.9092015890857844, 0.9146020816532285, 0.9091719028641897, 0.9037995721671814, 0.8974109919867678, 0.7742392515539979, 0.87942034302177, 0.8889940623858799, 0.9200766941174046, 0.8781203974865026, 0.9033097517641006, 0.671176368203771, 0.8821552178272464, 0.833074942837236, 0.9006575130969185, 0.9101443063426716, 0.9019285018063453, 0.8704170548663853, 0.8885513573346095, 0.9121190850299747, 0.8994799146066139, 0.9051456960646054, 0.9105821011366002, 0.9040794149197469, 0.9086835797173032, 0.9294691091259439, 0.8736631061614235, 0.9301132370865638, 0.900935813368236, 0.9037566330131993, 0.9182779654513947, 0.8363556431693546, 0.8796177758556419, 0.8718770718003894, 0.9250469262539571, 0.9099272165083111, 0.8082717361214424, 0.9239690596530554, 0.9064159864946479, 0.9153322808565354, 0.9106685009762476, 0.9322092841040757, 0.9291708020621948]}, {\"categories\": [\"0\", \"1\", \"2\", \"3\", \"4\", \"5\", \"6\", \"7\", \"8\", \"9\", \"10\", \"11\", \"12\", \"13\", \"14\", \"15\", \"16\", \"17\", \"18\", \"19\", \"20\", \"21\", \"22\", \"23\", \"24\", \"25\", \"26\", \"27\", \"28\", \"29\", \"30\", \"31\", \"32\", \"33\", \"34\", \"35\", \"36\", \"37\", \"38\", \"39\", \"40\", \"41\", \"42\", \"43\", \"44\", \"48\", \"49\"], \"mode\": \"lines\", \"name\": \"average_precision_score_weighted_max\", \"stepped\": true, \"type\": \"scatter\", \"data\": [0.9000109067542017, 0.9062493235409341, 0.9081477398190406, 0.9081477398190406, 0.9092015890857844, 0.9146020816532285, 0.9146020816532285, 0.9146020816532285, 0.9146020816532285, 0.9146020816532285, 0.9146020816532285, 0.9146020816532285, 0.9200766941174046, 0.9200766941174046, 0.9200766941174046, 0.9200766941174046, 0.9200766941174046, 0.9200766941174046, 0.9200766941174046, 0.9200766941174046, 0.9200766941174046, 0.9200766941174046, 0.9200766941174046, 0.9200766941174046, 0.9200766941174046, 0.9200766941174046, 0.9200766941174046, 0.9200766941174046, 0.9200766941174046, 0.9294691091259439, 0.9294691091259439, 0.9301132370865638, 0.9301132370865638, 0.9301132370865638, 0.9301132370865638, 0.9301132370865638, 0.9301132370865638, 0.9301132370865638, 0.9301132370865638, 0.9301132370865638, 0.9301132370865638, 0.9301132370865638, 0.9301132370865638, 0.9301132370865638, 0.9301132370865638, 0.9322092841040757, 0.9322092841040757]}], \"average_precision_score_micro\": [{\"categories\": [\"0\", \"1\", \"2\", \"3\", \"4\", \"5\", \"6\", \"7\", \"8\", \"9\", \"10\", \"11\", \"12\", \"13\", \"14\", \"15\", \"16\", \"17\", \"18\", \"19\", \"20\", \"21\", \"22\", \"23\", \"24\", \"25\", \"26\", \"27\", \"28\", \"29\", \"30\", \"31\", \"32\", \"33\", \"34\", \"35\", \"36\", \"37\", \"38\", \"39\", \"40\", \"41\", \"42\", \"43\", \"44\", \"48\", \"49\"], \"mode\": \"markers\", \"name\": \"average_precision_score_micro\", \"stepped\": false, \"type\": \"scatter\", \"data\": [0.8883364970720043, 0.9012837561354352, 0.8971417890344282, 0.8792702236758416, 0.900198137062023, 0.9128453857359927, 0.9018581615064736, 0.8895392674990568, 0.8756292730672302, 0.7711136281863581, 0.8608471725129112, 0.8769307936986925, 0.9056807976666812, 0.878659960101292, 0.8873681332768231, 0.6861431613770802, 0.8635060140138086, 0.8239836310259727, 0.8914558314163233, 0.9028369366934677, 0.8944249595154476, 0.8655791093899479, 0.8786548148660621, 0.9082187263240936, 0.8877341011205064, 0.8901669335916127, 0.9049766602346387, 0.8966943820258869, 0.8915073909180149, 0.9168441024457212, 0.8720688663445888, 0.9158584452514063, 0.8911146701612065, 0.8972303689541246, 0.9118089088139385, 0.8146191012492029, 0.8798610012652173, 0.8721062417274199, 0.919311819662273, 0.9026264459324503, 0.8052458098252224, 0.9172817123575803, 0.9044604004204333, 0.9119916534915266, 0.9063097987666462, 0.922700097549398, 0.9256240837322732]}, {\"categories\": [\"0\", \"1\", \"2\", \"3\", \"4\", \"5\", \"6\", \"7\", \"8\", \"9\", \"10\", \"11\", \"12\", \"13\", \"14\", \"15\", \"16\", \"17\", \"18\", \"19\", \"20\", \"21\", \"22\", \"23\", \"24\", \"25\", \"26\", \"27\", \"28\", \"29\", \"30\", \"31\", \"32\", \"33\", \"34\", \"35\", \"36\", \"37\", \"38\", \"39\", \"40\", \"41\", \"42\", \"43\", \"44\", \"48\", \"49\"], \"mode\": \"lines\", \"name\": \"average_precision_score_micro_max\", \"stepped\": true, \"type\": \"scatter\", \"data\": [0.8883364970720043, 0.9012837561354352, 0.9012837561354352, 0.9012837561354352, 0.9012837561354352, 0.9128453857359927, 0.9128453857359927, 0.9128453857359927, 0.9128453857359927, 0.9128453857359927, 0.9128453857359927, 0.9128453857359927, 0.9128453857359927, 0.9128453857359927, 0.9128453857359927, 0.9128453857359927, 0.9128453857359927, 0.9128453857359927, 0.9128453857359927, 0.9128453857359927, 0.9128453857359927, 0.9128453857359927, 0.9128453857359927, 0.9128453857359927, 0.9128453857359927, 0.9128453857359927, 0.9128453857359927, 0.9128453857359927, 0.9128453857359927, 0.9168441024457212, 0.9168441024457212, 0.9168441024457212, 0.9168441024457212, 0.9168441024457212, 0.9168441024457212, 0.9168441024457212, 0.9168441024457212, 0.9168441024457212, 0.919311819662273, 0.919311819662273, 0.919311819662273, 0.919311819662273, 0.919311819662273, 0.919311819662273, 0.919311819662273, 0.922700097549398, 0.9256240837322732]}], \"average_precision_score_macro\": [{\"categories\": [\"0\", \"1\", \"2\", \"3\", \"4\", \"5\", \"6\", \"7\", \"8\", \"9\", \"10\", \"11\", \"12\", \"13\", \"14\", \"15\", \"16\", \"17\", \"18\", \"19\", \"20\", \"21\", \"22\", \"23\", \"24\", \"25\", \"26\", \"27\", \"28\", \"29\", \"30\", \"31\", \"32\", \"33\", \"34\", \"35\", \"36\", \"37\", \"38\", \"39\", \"40\", \"41\", \"42\", \"43\", \"44\", \"48\", \"49\"], \"mode\": \"markers\", \"name\": \"average_precision_score_macro\", \"stepped\": false, \"type\": \"scatter\", \"data\": [0.8734810462911631, 0.8810761649352858, 0.8869276206372623, 0.8784634275826653, 0.8865124719179235, 0.8952693659573729, 0.8848830488709813, 0.8848406316591133, 0.8712476088902037, 0.7454483439021045, 0.8532929048557222, 0.8673362422223366, 0.900422100276819, 0.8501229082481556, 0.8805198156458662, 0.6303247521818182, 0.8545559067111455, 0.7995201216561812, 0.8792609947585339, 0.8877463769846772, 0.884267526274078, 0.8438673489692448, 0.8598101643163245, 0.8877503549729366, 0.8712648031874146, 0.8819896212518662, 0.883703379624173, 0.8815388975749088, 0.8860731117472236, 0.910246085971874, 0.8517005400970653, 0.9128377875032989, 0.8779030317513747, 0.8779731272346023, 0.8956958627302714, 0.7976323239203685, 0.8510073887065012, 0.842727524244024, 0.9049116337876704, 0.8873857296317016, 0.7768649999248425, 0.9031247110724289, 0.883546593581028, 0.8924583037544054, 0.8873974521438026, 0.9143222123948203, 0.9120951372280499]}, {\"categories\": [\"0\", \"1\", \"2\", \"3\", \"4\", \"5\", \"6\", \"7\", \"8\", \"9\", \"10\", \"11\", \"12\", \"13\", \"14\", \"15\", \"16\", \"17\", \"18\", \"19\", \"20\", \"21\", \"22\", \"23\", \"24\", \"25\", \"26\", \"27\", \"28\", \"29\", \"30\", \"31\", \"32\", \"33\", \"34\", \"35\", \"36\", \"37\", \"38\", \"39\", \"40\", \"41\", \"42\", \"43\", \"44\", \"48\", \"49\"], \"mode\": \"lines\", \"name\": \"average_precision_score_macro_max\", \"stepped\": true, \"type\": \"scatter\", \"data\": [0.8734810462911631, 0.8810761649352858, 0.8869276206372623, 0.8869276206372623, 0.8869276206372623, 0.8952693659573729, 0.8952693659573729, 0.8952693659573729, 0.8952693659573729, 0.8952693659573729, 0.8952693659573729, 0.8952693659573729, 0.900422100276819, 0.900422100276819, 0.900422100276819, 0.900422100276819, 0.900422100276819, 0.900422100276819, 0.900422100276819, 0.900422100276819, 0.900422100276819, 0.900422100276819, 0.900422100276819, 0.900422100276819, 0.900422100276819, 0.900422100276819, 0.900422100276819, 0.900422100276819, 0.900422100276819, 0.910246085971874, 0.910246085971874, 0.9128377875032989, 0.9128377875032989, 0.9128377875032989, 0.9128377875032989, 0.9128377875032989, 0.9128377875032989, 0.9128377875032989, 0.9128377875032989, 0.9128377875032989, 0.9128377875032989, 0.9128377875032989, 0.9128377875032989, 0.9128377875032989, 0.9128377875032989, 0.9143222123948203, 0.9143222123948203]}], \"AUC_weighted\": [{\"categories\": [\"0\", \"1\", \"2\", \"3\", \"4\", \"5\", \"6\", \"7\", \"8\", \"9\", \"10\", \"11\", \"12\", \"13\", \"14\", \"15\", \"16\", \"17\", \"18\", \"19\", \"20\", \"21\", \"22\", \"23\", \"24\", \"25\", \"26\", \"27\", \"28\", \"29\", \"30\", \"31\", \"32\", \"33\", \"34\", \"35\", \"36\", \"37\", \"38\", \"39\", \"40\", \"41\", \"42\", \"43\", \"44\", \"48\", \"49\"], \"mode\": \"markers\", \"name\": \"AUC_weighted\", \"stepped\": false, \"type\": \"scatter\", \"data\": [0.8900892857142857, 0.887889384920635, 0.892859623015873, 0.8757233796296298, 0.8901992394179894, 0.899333664021164, 0.8969601521164019, 0.8828298611111111, 0.8756481481481483, 0.7183440806878306, 0.8463657407407407, 0.8637987764550263, 0.9012392526455028, 0.8514566798941798, 0.8881588955026455, 0.5875868055555555, 0.8536863425925926, 0.8003811177248676, 0.8780464616402117, 0.8926322751322753, 0.885527447089947, 0.8403645833333332, 0.8623057208994709, 0.8977323082010582, 0.8822379298941799, 0.8868931878306879, 0.900654761904762, 0.8866211970899471, 0.8932266865079365, 0.9157010582010582, 0.8684453538359789, 0.9155935846560845, 0.8766517857142857, 0.8878951719576721, 0.9032622354497354, 0.807041583994709, 0.8497503306878308, 0.8427157738095239, 0.9095444775132275, 0.897192046957672, 0.7836627810846561, 0.9115839947089945, 0.8900801917989417, 0.9021965939153439, 0.8984722222222222, 0.9204141865079365, 0.9148272156084655]}, {\"categories\": [\"0\", \"1\", \"2\", \"3\", \"4\", \"5\", \"6\", \"7\", \"8\", \"9\", \"10\", \"11\", \"12\", \"13\", \"14\", \"15\", \"16\", \"17\", \"18\", \"19\", \"20\", \"21\", \"22\", \"23\", \"24\", \"25\", \"26\", \"27\", \"28\", \"29\", \"30\", \"31\", \"32\", \"33\", \"34\", \"35\", \"36\", \"37\", \"38\", \"39\", \"40\", \"41\", \"42\", \"43\", \"44\", \"48\", \"49\"], \"mode\": \"lines\", \"name\": \"AUC_weighted_max\", \"stepped\": true, \"type\": \"scatter\", \"data\": [0.8900892857142857, 0.8900892857142857, 0.892859623015873, 0.892859623015873, 0.892859623015873, 0.899333664021164, 0.899333664021164, 0.899333664021164, 0.899333664021164, 0.899333664021164, 0.899333664021164, 0.899333664021164, 0.9012392526455028, 0.9012392526455028, 0.9012392526455028, 0.9012392526455028, 0.9012392526455028, 0.9012392526455028, 0.9012392526455028, 0.9012392526455028, 0.9012392526455028, 0.9012392526455028, 0.9012392526455028, 0.9012392526455028, 0.9012392526455028, 0.9012392526455028, 0.9012392526455028, 0.9012392526455028, 0.9012392526455028, 0.9157010582010582, 0.9157010582010582, 0.9157010582010582, 0.9157010582010582, 0.9157010582010582, 0.9157010582010582, 0.9157010582010582, 0.9157010582010582, 0.9157010582010582, 0.9157010582010582, 0.9157010582010582, 0.9157010582010582, 0.9157010582010582, 0.9157010582010582, 0.9157010582010582, 0.9157010582010582, 0.9204141865079365, 0.9204141865079365]}], \"f1_score_weighted\": [{\"categories\": [\"0\", \"1\", \"2\", \"3\", \"4\", \"5\", \"6\", \"7\", \"8\", \"9\", \"10\", \"11\", \"12\", \"13\", \"14\", \"15\", \"16\", \"17\", \"18\", \"19\", \"20\", \"21\", \"22\", \"23\", \"24\", \"25\", \"26\", \"27\", \"28\", \"29\", \"30\", \"31\", \"32\", \"33\", \"34\", \"35\", \"36\", \"37\", \"38\", \"39\", \"40\", \"41\", \"42\", \"43\", \"44\", \"48\", \"49\"], \"mode\": \"markers\", \"name\": \"f1_score_weighted\", \"stepped\": false, \"type\": \"scatter\", \"data\": [0.7983012006870832, 0.8299387381180269, 0.825843876545995, 0.7602908846635958, 0.8317801815833683, 0.8191615131361036, 0.814123383889892, 0.7954790650764381, 0.7506641524397398, 0.7015050591294317, 0.7620589337802708, 0.7827368952079296, 0.8262237607169952, 0.7873220501478039, 0.8261948197721104, 0.596362365371599, 0.7451767382985414, 0.767827626890542, 0.801116621260929, 0.8385756007397422, 0.8210419699041289, 0.7914987439451971, 0.79209746203177, 0.8431725053064886, 0.7906703043162235, 0.8304526036348072, 0.839678493006413, 0.8184789787587163, 0.7716996682156323, 0.8629661642263858, 0.833905578224851, 0.8293631013094457, 0.8274951979935727, 0.808307534717221, 0.8274224851328711, 0.7409378436275995, 0.7903113356279338, 0.779954683810302, 0.8275574664296512, 0.8343794717915172, 0.6674717710471464, 0.8284232460395909, 0.8436839470805626, 0.8331876185597441, 0.8346322212643316, 0.8375904328108457, 0.8321713773935121]}, {\"categories\": [\"0\", \"1\", \"2\", \"3\", \"4\", \"5\", \"6\", \"7\", \"8\", \"9\", \"10\", \"11\", \"12\", \"13\", \"14\", \"15\", \"16\", \"17\", \"18\", \"19\", \"20\", \"21\", \"22\", \"23\", \"24\", \"25\", \"26\", \"27\", \"28\", \"29\", \"30\", \"31\", \"32\", \"33\", \"34\", \"35\", \"36\", \"37\", \"38\", \"39\", \"40\", \"41\", \"42\", \"43\", \"44\", \"48\", \"49\"], \"mode\": \"lines\", \"name\": \"f1_score_weighted_max\", \"stepped\": true, \"type\": \"scatter\", \"data\": [0.7983012006870832, 0.8299387381180269, 0.8299387381180269, 0.8299387381180269, 0.8317801815833683, 0.8317801815833683, 0.8317801815833683, 0.8317801815833683, 0.8317801815833683, 0.8317801815833683, 0.8317801815833683, 0.8317801815833683, 0.8317801815833683, 0.8317801815833683, 0.8317801815833683, 0.8317801815833683, 0.8317801815833683, 0.8317801815833683, 0.8317801815833683, 0.8385756007397422, 0.8385756007397422, 0.8385756007397422, 0.8385756007397422, 0.8431725053064886, 0.8431725053064886, 0.8431725053064886, 0.8431725053064886, 0.8431725053064886, 0.8431725053064886, 0.8629661642263858, 0.8629661642263858, 0.8629661642263858, 0.8629661642263858, 0.8629661642263858, 0.8629661642263858, 0.8629661642263858, 0.8629661642263858, 0.8629661642263858, 0.8629661642263858, 0.8629661642263858, 0.8629661642263858, 0.8629661642263858, 0.8629661642263858, 0.8629661642263858, 0.8629661642263858, 0.8629661642263858, 0.8629661642263858]}], \"precision_score_micro\": [{\"categories\": [\"0\", \"1\", \"2\", \"3\", \"4\", \"5\", \"6\", \"7\", \"8\", \"9\", \"10\", \"11\", \"12\", \"13\", \"14\", \"15\", \"16\", \"17\", \"18\", \"19\", \"20\", \"21\", \"22\", \"23\", \"24\", \"25\", \"26\", \"27\", \"28\", \"29\", \"30\", \"31\", \"32\", \"33\", \"34\", \"35\", \"36\", \"37\", \"38\", \"39\", \"40\", \"41\", \"42\", \"43\", \"44\", \"48\", \"49\"], \"mode\": \"markers\", \"name\": \"precision_score_micro\", \"stepped\": false, \"type\": \"scatter\", \"data\": [0.803623188405797, 0.8327898550724638, 0.8286231884057971, 0.7827898550724639, 0.8326086956521739, 0.8244565217391304, 0.8201086956521738, 0.8076086956521739, 0.7786231884057971, 0.7244565217391306, 0.7869565217391303, 0.7994565217391304, 0.8242753623188406, 0.7907608695652174, 0.8242753623188406, 0.6237318840579709, 0.7742753623188405, 0.7704710144927536, 0.7992753623188407, 0.8409420289855072, 0.8246376811594203, 0.7951086956521738, 0.7952898550724637, 0.8452898550724637, 0.8038043478260869, 0.8286231884057971, 0.841123188405797, 0.8202898550724637, 0.7951086956521738, 0.8619565217391305, 0.8409420289855072, 0.8284420289855072, 0.8286231884057971, 0.8119565217391305, 0.8286231884057971, 0.741123188405797, 0.7951086956521739, 0.7867753623188405, 0.8327898550724637, 0.8409420289855072, 0.7201086956521741, 0.8327898550724638, 0.8452898550724637, 0.8369565217391305, 0.8367753623188406, 0.841123188405797, 0.8367753623188406]}, {\"categories\": [\"0\", \"1\", \"2\", \"3\", \"4\", \"5\", \"6\", \"7\", \"8\", \"9\", \"10\", \"11\", \"12\", \"13\", \"14\", \"15\", \"16\", \"17\", \"18\", \"19\", \"20\", \"21\", \"22\", \"23\", \"24\", \"25\", \"26\", \"27\", \"28\", \"29\", \"30\", \"31\", \"32\", \"33\", \"34\", \"35\", \"36\", \"37\", \"38\", \"39\", \"40\", \"41\", \"42\", \"43\", \"44\", \"48\", \"49\"], \"mode\": \"lines\", \"name\": \"precision_score_micro_max\", \"stepped\": true, \"type\": \"scatter\", \"data\": [0.803623188405797, 0.8327898550724638, 0.8327898550724638, 0.8327898550724638, 0.8327898550724638, 0.8327898550724638, 0.8327898550724638, 0.8327898550724638, 0.8327898550724638, 0.8327898550724638, 0.8327898550724638, 0.8327898550724638, 0.8327898550724638, 0.8327898550724638, 0.8327898550724638, 0.8327898550724638, 0.8327898550724638, 0.8327898550724638, 0.8327898550724638, 0.8409420289855072, 0.8409420289855072, 0.8409420289855072, 0.8409420289855072, 0.8452898550724637, 0.8452898550724637, 0.8452898550724637, 0.8452898550724637, 0.8452898550724637, 0.8452898550724637, 0.8619565217391305, 0.8619565217391305, 0.8619565217391305, 0.8619565217391305, 0.8619565217391305, 0.8619565217391305, 0.8619565217391305, 0.8619565217391305, 0.8619565217391305, 0.8619565217391305, 0.8619565217391305, 0.8619565217391305, 0.8619565217391305, 0.8619565217391305, 0.8619565217391305, 0.8619565217391305, 0.8619565217391305, 0.8619565217391305]}], \"f1_score_micro\": [{\"categories\": [\"0\", \"1\", \"2\", \"3\", \"4\", \"5\", \"6\", \"7\", \"8\", \"9\", \"10\", \"11\", \"12\", \"13\", \"14\", \"15\", \"16\", \"17\", \"18\", \"19\", \"20\", \"21\", \"22\", \"23\", \"24\", \"25\", \"26\", \"27\", \"28\", \"29\", \"30\", \"31\", \"32\", \"33\", \"34\", \"35\", \"36\", \"37\", \"38\", \"39\", \"40\", \"41\", \"42\", \"43\", \"44\", \"48\", \"49\"], \"mode\": \"markers\", \"name\": \"f1_score_micro\", \"stepped\": false, \"type\": \"scatter\", \"data\": [0.803623188405797, 0.8327898550724638, 0.8286231884057971, 0.7827898550724639, 0.8326086956521739, 0.8244565217391304, 0.8201086956521738, 0.8076086956521739, 0.7786231884057971, 0.7244565217391306, 0.7869565217391303, 0.7994565217391304, 0.8242753623188406, 0.7907608695652174, 0.8242753623188406, 0.6237318840579709, 0.7742753623188405, 0.7704710144927536, 0.7992753623188407, 0.8409420289855072, 0.8246376811594203, 0.7951086956521738, 0.7952898550724637, 0.8452898550724637, 0.8038043478260869, 0.8286231884057971, 0.841123188405797, 0.8202898550724637, 0.7951086956521738, 0.8619565217391305, 0.8409420289855072, 0.8284420289855072, 0.8286231884057971, 0.8119565217391305, 0.8286231884057971, 0.741123188405797, 0.7951086956521739, 0.7867753623188405, 0.8327898550724637, 0.8409420289855072, 0.7201086956521741, 0.8327898550724638, 0.8452898550724637, 0.8369565217391305, 0.8367753623188406, 0.841123188405797, 0.8367753623188406]}, {\"categories\": [\"0\", \"1\", \"2\", \"3\", \"4\", \"5\", \"6\", \"7\", \"8\", \"9\", \"10\", \"11\", \"12\", \"13\", \"14\", \"15\", \"16\", \"17\", \"18\", \"19\", \"20\", \"21\", \"22\", \"23\", \"24\", \"25\", \"26\", \"27\", \"28\", \"29\", \"30\", \"31\", \"32\", \"33\", \"34\", \"35\", \"36\", \"37\", \"38\", \"39\", \"40\", \"41\", \"42\", \"43\", \"44\", \"48\", \"49\"], \"mode\": \"lines\", \"name\": \"f1_score_micro_max\", \"stepped\": true, \"type\": \"scatter\", \"data\": [0.803623188405797, 0.8327898550724638, 0.8327898550724638, 0.8327898550724638, 0.8327898550724638, 0.8327898550724638, 0.8327898550724638, 0.8327898550724638, 0.8327898550724638, 0.8327898550724638, 0.8327898550724638, 0.8327898550724638, 0.8327898550724638, 0.8327898550724638, 0.8327898550724638, 0.8327898550724638, 0.8327898550724638, 0.8327898550724638, 0.8327898550724638, 0.8409420289855072, 0.8409420289855072, 0.8409420289855072, 0.8409420289855072, 0.8452898550724637, 0.8452898550724637, 0.8452898550724637, 0.8452898550724637, 0.8452898550724637, 0.8452898550724637, 0.8619565217391305, 0.8619565217391305, 0.8619565217391305, 0.8619565217391305, 0.8619565217391305, 0.8619565217391305, 0.8619565217391305, 0.8619565217391305, 0.8619565217391305, 0.8619565217391305, 0.8619565217391305, 0.8619565217391305, 0.8619565217391305, 0.8619565217391305, 0.8619565217391305, 0.8619565217391305, 0.8619565217391305, 0.8619565217391305]}], \"recall_score_micro\": [{\"categories\": [\"0\", \"1\", \"2\", \"3\", \"4\", \"5\", \"6\", \"7\", \"8\", \"9\", \"10\", \"11\", \"12\", \"13\", \"14\", \"15\", \"16\", \"17\", \"18\", \"19\", \"20\", \"21\", \"22\", \"23\", \"24\", \"25\", \"26\", \"27\", \"28\", \"29\", \"30\", \"31\", \"32\", \"33\", \"34\", \"35\", \"36\", \"37\", \"38\", \"39\", \"40\", \"41\", \"42\", \"43\", \"44\", \"48\", \"49\"], \"mode\": \"markers\", \"name\": \"recall_score_micro\", \"stepped\": false, \"type\": \"scatter\", \"data\": [0.803623188405797, 0.8327898550724638, 0.8286231884057971, 0.7827898550724639, 0.8326086956521739, 0.8244565217391304, 0.8201086956521738, 0.8076086956521739, 0.7786231884057971, 0.7244565217391306, 0.7869565217391303, 0.7994565217391304, 0.8242753623188406, 0.7907608695652174, 0.8242753623188406, 0.6237318840579709, 0.7742753623188405, 0.7704710144927536, 0.7992753623188407, 0.8409420289855072, 0.8246376811594203, 0.7951086956521738, 0.7952898550724637, 0.8452898550724637, 0.8038043478260869, 0.8286231884057971, 0.841123188405797, 0.8202898550724637, 0.7951086956521738, 0.8619565217391305, 0.8409420289855072, 0.8284420289855072, 0.8286231884057971, 0.8119565217391305, 0.8286231884057971, 0.741123188405797, 0.7951086956521739, 0.7867753623188405, 0.8327898550724637, 0.8409420289855072, 0.7201086956521741, 0.8327898550724638, 0.8452898550724637, 0.8369565217391305, 0.8367753623188406, 0.841123188405797, 0.8367753623188406]}, {\"categories\": [\"0\", \"1\", \"2\", \"3\", \"4\", \"5\", \"6\", \"7\", \"8\", \"9\", \"10\", \"11\", \"12\", \"13\", \"14\", \"15\", \"16\", \"17\", \"18\", \"19\", \"20\", \"21\", \"22\", \"23\", \"24\", \"25\", \"26\", \"27\", \"28\", \"29\", \"30\", \"31\", \"32\", \"33\", \"34\", \"35\", \"36\", \"37\", \"38\", \"39\", \"40\", \"41\", \"42\", \"43\", \"44\", \"48\", \"49\"], \"mode\": \"lines\", \"name\": \"recall_score_micro_max\", \"stepped\": true, \"type\": \"scatter\", \"data\": [0.803623188405797, 0.8327898550724638, 0.8327898550724638, 0.8327898550724638, 0.8327898550724638, 0.8327898550724638, 0.8327898550724638, 0.8327898550724638, 0.8327898550724638, 0.8327898550724638, 0.8327898550724638, 0.8327898550724638, 0.8327898550724638, 0.8327898550724638, 0.8327898550724638, 0.8327898550724638, 0.8327898550724638, 0.8327898550724638, 0.8327898550724638, 0.8409420289855072, 0.8409420289855072, 0.8409420289855072, 0.8409420289855072, 0.8452898550724637, 0.8452898550724637, 0.8452898550724637, 0.8452898550724637, 0.8452898550724637, 0.8452898550724637, 0.8619565217391305, 0.8619565217391305, 0.8619565217391305, 0.8619565217391305, 0.8619565217391305, 0.8619565217391305, 0.8619565217391305, 0.8619565217391305, 0.8619565217391305, 0.8619565217391305, 0.8619565217391305, 0.8619565217391305, 0.8619565217391305, 0.8619565217391305, 0.8619565217391305, 0.8619565217391305, 0.8619565217391305, 0.8619565217391305]}], \"precision_score_macro\": [{\"categories\": [\"0\", \"1\", \"2\", \"3\", \"4\", \"5\", \"6\", \"7\", \"8\", \"9\", \"10\", \"11\", \"12\", \"13\", \"14\", \"15\", \"16\", \"17\", \"18\", \"19\", \"20\", \"21\", \"22\", \"23\", \"24\", \"25\", \"26\", \"27\", \"28\", \"29\", \"30\", \"31\", \"32\", \"33\", \"34\", \"35\", \"36\", \"37\", \"38\", \"39\", \"40\", \"41\", \"42\", \"43\", \"44\", \"48\", \"49\"], \"mode\": \"markers\", \"name\": \"precision_score_macro\", \"stepped\": false, \"type\": \"scatter\", \"data\": [0.8126825341840822, 0.8394327731092437, 0.8255292950513539, 0.8149836708138632, 0.8210665478312537, 0.8255472795178678, 0.8294801537042249, 0.8258827321928008, 0.8298077072865067, 0.7443658830288928, 0.8365477251506663, 0.8225540120354362, 0.8054710640236957, 0.778073872936489, 0.8214638792579969, 0.5615571711140597, 0.8158467974943948, 0.7619408369408369, 0.7914606373159006, 0.8398336834733893, 0.823989433983629, 0.7887475596299126, 0.7829643041427097, 0.8450887021475257, 0.8202659975473443, 0.8185474351070325, 0.8431790880687939, 0.819535958322723, 0.8334319982413602, 0.8574537145860676, 0.8519577603768781, 0.8271594949168479, 0.8224323062558356, 0.8167452645393822, 0.829539382186441, 0.7221509508293564, 0.7908970342522974, 0.7829563492063492, 0.8380917366946778, 0.8521660937102113, 0.7669507266189188, 0.8357324684259669, 0.8444228524743231, 0.8393522408963585, 0.8403405907817673, 0.8413871381886088, 0.8385219175389456]}, {\"categories\": [\"0\", \"1\", \"2\", \"3\", \"4\", \"5\", \"6\", \"7\", \"8\", \"9\", \"10\", \"11\", \"12\", \"13\", \"14\", \"15\", \"16\", \"17\", \"18\", \"19\", \"20\", \"21\", \"22\", \"23\", \"24\", \"25\", \"26\", \"27\", \"28\", \"29\", \"30\", \"31\", \"32\", \"33\", \"34\", \"35\", \"36\", \"37\", \"38\", \"39\", \"40\", \"41\", \"42\", \"43\", \"44\", \"48\", \"49\"], \"mode\": \"lines\", \"name\": \"precision_score_macro_max\", \"stepped\": true, \"type\": \"scatter\", \"data\": [0.8126825341840822, 0.8394327731092437, 0.8394327731092437, 0.8394327731092437, 0.8394327731092437, 0.8394327731092437, 0.8394327731092437, 0.8394327731092437, 0.8394327731092437, 0.8394327731092437, 0.8394327731092437, 0.8394327731092437, 0.8394327731092437, 0.8394327731092437, 0.8394327731092437, 0.8394327731092437, 0.8394327731092437, 0.8394327731092437, 0.8394327731092437, 0.8398336834733893, 0.8398336834733893, 0.8398336834733893, 0.8398336834733893, 0.8450887021475257, 0.8450887021475257, 0.8450887021475257, 0.8450887021475257, 0.8450887021475257, 0.8450887021475257, 0.8574537145860676, 0.8574537145860676, 0.8574537145860676, 0.8574537145860676, 0.8574537145860676, 0.8574537145860676, 0.8574537145860676, 0.8574537145860676, 0.8574537145860676, 0.8574537145860676, 0.8574537145860676, 0.8574537145860676, 0.8574537145860676, 0.8574537145860676, 0.8574537145860676, 0.8574537145860676, 0.8574537145860676, 0.8574537145860676]}], \"recall_score_macro\": [{\"categories\": [\"0\", \"1\", \"2\", \"3\", \"4\", \"5\", \"6\", \"7\", \"8\", \"9\", \"10\", \"11\", \"12\", \"13\", \"14\", \"15\", \"16\", \"17\", \"18\", \"19\", \"20\", \"21\", \"22\", \"23\", \"24\", \"25\", \"26\", \"27\", \"28\", \"29\", \"30\", \"31\", \"32\", \"33\", \"34\", \"35\", \"36\", \"37\", \"38\", \"39\", \"40\", \"41\", \"42\", \"43\", \"44\", \"48\", \"49\"], \"mode\": \"markers\", \"name\": \"recall_score_macro\", \"stepped\": false, \"type\": \"scatter\", \"data\": [0.7736210317460317, 0.8073313492063491, 0.8026190476190476, 0.7132837301587301, 0.8161904761904761, 0.792093253968254, 0.7860119047619049, 0.7501984126984127, 0.6980753968253968, 0.6502579365079365, 0.714047619047619, 0.7393948412698412, 0.8209325396825398, 0.7567658730158731, 0.816686507936508, 0.5407142857142857, 0.6894047619047619, 0.7446428571428572, 0.7949503968253969, 0.8146031746031746, 0.7984920634920635, 0.7639484126984126, 0.7645337301587303, 0.8223015873015873, 0.7545833333333334, 0.8264880952380953, 0.8228968253968254, 0.800813492063492, 0.7243253968253969, 0.8563690476190476, 0.7962698412698413, 0.8199503968253967, 0.8046428571428571, 0.7830357142857143, 0.8085218253968254, 0.7181547619047619, 0.756656746031746, 0.7468948412698413, 0.7962896825396826, 0.799047619047619, 0.6102182539682539, 0.8028571428571428, 0.8222321428571429, 0.8097619047619048, 0.8132043650793651, 0.8150793650793651, 0.8074900793650794]}, {\"categories\": [\"0\", \"1\", \"2\", \"3\", \"4\", \"5\", \"6\", \"7\", \"8\", \"9\", \"10\", \"11\", \"12\", \"13\", \"14\", \"15\", \"16\", \"17\", \"18\", \"19\", \"20\", \"21\", \"22\", \"23\", \"24\", \"25\", \"26\", \"27\", \"28\", \"29\", \"30\", \"31\", \"32\", \"33\", \"34\", \"35\", \"36\", \"37\", \"38\", \"39\", \"40\", \"41\", \"42\", \"43\", \"44\", \"48\", \"49\"], \"mode\": \"lines\", \"name\": \"recall_score_macro_max\", \"stepped\": true, \"type\": \"scatter\", \"data\": [0.7736210317460317, 0.8073313492063491, 0.8073313492063491, 0.8073313492063491, 0.8161904761904761, 0.8161904761904761, 0.8161904761904761, 0.8161904761904761, 0.8161904761904761, 0.8161904761904761, 0.8161904761904761, 0.8161904761904761, 0.8209325396825398, 0.8209325396825398, 0.8209325396825398, 0.8209325396825398, 0.8209325396825398, 0.8209325396825398, 0.8209325396825398, 0.8209325396825398, 0.8209325396825398, 0.8209325396825398, 0.8209325396825398, 0.8223015873015873, 0.8223015873015873, 0.8264880952380953, 0.8264880952380953, 0.8264880952380953, 0.8264880952380953, 0.8563690476190476, 0.8563690476190476, 0.8563690476190476, 0.8563690476190476, 0.8563690476190476, 0.8563690476190476, 0.8563690476190476, 0.8563690476190476, 0.8563690476190476, 0.8563690476190476, 0.8563690476190476, 0.8563690476190476, 0.8563690476190476, 0.8563690476190476, 0.8563690476190476, 0.8563690476190476, 0.8563690476190476, 0.8563690476190476]}], \"weighted_accuracy\": [{\"categories\": [\"0\", \"1\", \"2\", \"3\", \"4\", \"5\", \"6\", \"7\", \"8\", \"9\", \"10\", \"11\", \"12\", \"13\", \"14\", \"15\", \"16\", \"17\", \"18\", \"19\", \"20\", \"21\", \"22\", \"23\", \"24\", \"25\", \"26\", \"27\", \"28\", \"29\", \"30\", \"31\", \"32\", \"33\", \"34\", \"35\", \"36\", \"37\", \"38\", \"39\", \"40\", \"41\", \"42\", \"43\", \"44\", \"48\", \"49\"], \"mode\": \"markers\", \"name\": \"weighted_accuracy\", \"stepped\": false, \"type\": \"scatter\", \"data\": [0.8281719400210239, 0.8530407794486867, 0.8486833337677118, 0.8362370663817144, 0.8453650950854424, 0.8484581085424866, 0.8461321857054742, 0.8503181387752268, 0.8402116291798066, 0.7809592162075287, 0.8439861389837281, 0.8464251956874908, 0.8258049467017645, 0.8162244911256483, 0.8296271512592632, 0.6877134970071325, 0.839096992363627, 0.7907155081793463, 0.8028253494574613, 0.8608159147575734, 0.8446367075851166, 0.818296041943583, 0.8180345243990373, 0.8630129575091002, 0.8419459285708081, 0.8301155012292909, 0.8553420513087822, 0.8346557767989784, 0.849475531462031, 0.8663714630734882, 0.8747007566872563, 0.8343860277828457, 0.84667522392209, 0.835202941610849, 0.8444636729304038, 0.7573946197885446, 0.8237981617104086, 0.8172083365911718, 0.8608388716585438, 0.8726419331578444, 0.8045319137845658, 0.8556759145838221, 0.8624326713405788, 0.858481955919275, 0.8546867697012346, 0.8612562007523434, 0.8592313890554006]}, {\"categories\": [\"0\", \"1\", \"2\", \"3\", \"4\", \"5\", \"6\", \"7\", \"8\", \"9\", \"10\", \"11\", \"12\", \"13\", \"14\", \"15\", \"16\", \"17\", \"18\", \"19\", \"20\", \"21\", \"22\", \"23\", \"24\", \"25\", \"26\", \"27\", \"28\", \"29\", \"30\", \"31\", \"32\", \"33\", \"34\", \"35\", \"36\", \"37\", \"38\", \"39\", \"40\", \"41\", \"42\", \"43\", \"44\", \"48\", \"49\"], \"mode\": \"lines\", \"name\": \"weighted_accuracy_max\", \"stepped\": true, \"type\": \"scatter\", \"data\": [0.8281719400210239, 0.8530407794486867, 0.8530407794486867, 0.8530407794486867, 0.8530407794486867, 0.8530407794486867, 0.8530407794486867, 0.8530407794486867, 0.8530407794486867, 0.8530407794486867, 0.8530407794486867, 0.8530407794486867, 0.8530407794486867, 0.8530407794486867, 0.8530407794486867, 0.8530407794486867, 0.8530407794486867, 0.8530407794486867, 0.8530407794486867, 0.8608159147575734, 0.8608159147575734, 0.8608159147575734, 0.8608159147575734, 0.8630129575091002, 0.8630129575091002, 0.8630129575091002, 0.8630129575091002, 0.8630129575091002, 0.8630129575091002, 0.8663714630734882, 0.8747007566872563, 0.8747007566872563, 0.8747007566872563, 0.8747007566872563, 0.8747007566872563, 0.8747007566872563, 0.8747007566872563, 0.8747007566872563, 0.8747007566872563, 0.8747007566872563, 0.8747007566872563, 0.8747007566872563, 0.8747007566872563, 0.8747007566872563, 0.8747007566872563, 0.8747007566872563, 0.8747007566872563]}], \"AUC_micro\": [{\"categories\": [\"0\", \"1\", \"2\", \"3\", \"4\", \"5\", \"6\", \"7\", \"8\", \"9\", \"10\", \"11\", \"12\", \"13\", \"14\", \"15\", \"16\", \"17\", \"18\", \"19\", \"20\", \"21\", \"22\", \"23\", \"24\", \"25\", \"26\", \"27\", \"28\", \"29\", \"30\", \"31\", \"32\", \"33\", \"34\", \"35\", \"36\", \"37\", \"38\", \"39\", \"40\", \"41\", \"42\", \"43\", \"44\", \"48\", \"49\"], \"mode\": \"markers\", \"name\": \"AUC_micro\", \"stepped\": false, \"type\": \"scatter\", \"data\": [0.8869486452425962, 0.8970683023524471, 0.8971723377441713, 0.8714276806343205, 0.8943367989918084, 0.9112039881327453, 0.9012697568788071, 0.8881793478260869, 0.8640628281873557, 0.7709879095778197, 0.8525040695232093, 0.8717132036336904, 0.9030560806553245, 0.8707102630749842, 0.8872459829867674, 0.670618370615417, 0.8541515700483092, 0.8208297232724219, 0.8822227473219912, 0.8992750341314849, 0.8934357606070155, 0.8612079263810124, 0.8699656059651334, 0.9026970436883008, 0.8789162597143457, 0.8890707046838902, 0.9023074852972066, 0.8937309651333754, 0.8812851160470488, 0.910845279353077, 0.8885265700483093, 0.9104826323251418, 0.8891553770216343, 0.89219570468389, 0.9055752467968915, 0.8114045106070152, 0.8711848219911783, 0.8653186371035495, 0.9122148051879858, 0.9003281873555975, 0.8076740049359378, 0.9116824852972065, 0.9013160312959462, 0.9052280245746692, 0.9013006064902331, 0.9164123214660785, 0.9189702137156062]}, {\"categories\": [\"0\", \"1\", \"2\", \"3\", \"4\", \"5\", \"6\", \"7\", \"8\", \"9\", \"10\", \"11\", \"12\", \"13\", \"14\", \"15\", \"16\", \"17\", \"18\", \"19\", \"20\", \"21\", \"22\", \"23\", \"24\", \"25\", \"26\", \"27\", \"28\", \"29\", \"30\", \"31\", \"32\", \"33\", \"34\", \"35\", \"36\", \"37\", \"38\", \"39\", \"40\", \"41\", \"42\", \"43\", \"44\", \"48\", \"49\"], \"mode\": \"lines\", \"name\": \"AUC_micro_max\", \"stepped\": true, \"type\": \"scatter\", \"data\": [0.8869486452425962, 0.8970683023524471, 0.8971723377441713, 0.8971723377441713, 0.8971723377441713, 0.9112039881327453, 0.9112039881327453, 0.9112039881327453, 0.9112039881327453, 0.9112039881327453, 0.9112039881327453, 0.9112039881327453, 0.9112039881327453, 0.9112039881327453, 0.9112039881327453, 0.9112039881327453, 0.9112039881327453, 0.9112039881327453, 0.9112039881327453, 0.9112039881327453, 0.9112039881327453, 0.9112039881327453, 0.9112039881327453, 0.9112039881327453, 0.9112039881327453, 0.9112039881327453, 0.9112039881327453, 0.9112039881327453, 0.9112039881327453, 0.9112039881327453, 0.9112039881327453, 0.9112039881327453, 0.9112039881327453, 0.9112039881327453, 0.9112039881327453, 0.9112039881327453, 0.9112039881327453, 0.9112039881327453, 0.9122148051879858, 0.9122148051879858, 0.9122148051879858, 0.9122148051879858, 0.9122148051879858, 0.9122148051879858, 0.9122148051879858, 0.9164123214660785, 0.9189702137156062]}], \"AUC_macro\": [{\"categories\": [\"0\", \"1\", \"2\", \"3\", \"4\", \"5\", \"6\", \"7\", \"8\", \"9\", \"10\", \"11\", \"12\", \"13\", \"14\", \"15\", \"16\", \"17\", \"18\", \"19\", \"20\", \"21\", \"22\", \"23\", \"24\", \"25\", \"26\", \"27\", \"28\", \"29\", \"30\", \"31\", \"32\", \"33\", \"34\", \"35\", \"36\", \"37\", \"38\", \"39\", \"40\", \"41\", \"42\", \"43\", \"44\", \"48\", \"49\"], \"mode\": \"markers\", \"name\": \"AUC_macro\", \"stepped\": false, \"type\": \"scatter\", \"data\": [0.8900892857142857, 0.8878893849206347, 0.892859623015873, 0.8757233796296295, 0.8901992394179894, 0.899333664021164, 0.8969601521164021, 0.8828298611111111, 0.8756481481481483, 0.7183440806878307, 0.8463657407407407, 0.8637987764550263, 0.9012392526455028, 0.8514566798941798, 0.8881588955026455, 0.5875868055555555, 0.8536863425925926, 0.8003811177248676, 0.8780464616402117, 0.8926322751322753, 0.8855274470899472, 0.8403645833333334, 0.8623057208994711, 0.8977323082010583, 0.8822379298941799, 0.8868931878306879, 0.900654761904762, 0.8866211970899471, 0.8932266865079365, 0.9157010582010582, 0.8684453538359789, 0.9155935846560845, 0.8766517857142857, 0.8878951719576721, 0.9032622354497354, 0.807041583994709, 0.8497503306878308, 0.8427157738095239, 0.9095444775132275, 0.897192046957672, 0.7836627810846561, 0.9115839947089948, 0.8900801917989417, 0.9021965939153439, 0.8984722222222222, 0.9204141865079365, 0.9148272156084657]}, {\"categories\": [\"0\", \"1\", \"2\", \"3\", \"4\", \"5\", \"6\", \"7\", \"8\", \"9\", \"10\", \"11\", \"12\", \"13\", \"14\", \"15\", \"16\", \"17\", \"18\", \"19\", \"20\", \"21\", \"22\", \"23\", \"24\", \"25\", \"26\", \"27\", \"28\", \"29\", \"30\", \"31\", \"32\", \"33\", \"34\", \"35\", \"36\", \"37\", \"38\", \"39\", \"40\", \"41\", \"42\", \"43\", \"44\", \"48\", \"49\"], \"mode\": \"lines\", \"name\": \"AUC_macro_max\", \"stepped\": true, \"type\": \"scatter\", \"data\": [0.8900892857142857, 0.8900892857142857, 0.892859623015873, 0.892859623015873, 0.892859623015873, 0.899333664021164, 0.899333664021164, 0.899333664021164, 0.899333664021164, 0.899333664021164, 0.899333664021164, 0.899333664021164, 0.9012392526455028, 0.9012392526455028, 0.9012392526455028, 0.9012392526455028, 0.9012392526455028, 0.9012392526455028, 0.9012392526455028, 0.9012392526455028, 0.9012392526455028, 0.9012392526455028, 0.9012392526455028, 0.9012392526455028, 0.9012392526455028, 0.9012392526455028, 0.9012392526455028, 0.9012392526455028, 0.9012392526455028, 0.9157010582010582, 0.9157010582010582, 0.9157010582010582, 0.9157010582010582, 0.9157010582010582, 0.9157010582010582, 0.9157010582010582, 0.9157010582010582, 0.9157010582010582, 0.9157010582010582, 0.9157010582010582, 0.9157010582010582, 0.9157010582010582, 0.9157010582010582, 0.9157010582010582, 0.9157010582010582, 0.9204141865079365, 0.9204141865079365]}], \"norm_macro_recall\": [{\"categories\": [\"0\", \"1\", \"2\", \"3\", \"4\", \"5\", \"6\", \"7\", \"8\", \"9\", \"10\", \"11\", \"12\", \"13\", \"14\", \"15\", \"16\", \"17\", \"18\", \"19\", \"20\", \"21\", \"22\", \"23\", \"24\", \"25\", \"26\", \"27\", \"28\", \"29\", \"30\", \"31\", \"32\", \"33\", \"34\", \"35\", \"36\", \"37\", \"38\", \"39\", \"40\", \"41\", \"42\", \"43\", \"44\", \"48\", \"49\"], \"mode\": \"markers\", \"name\": \"norm_macro_recall\", \"stepped\": false, \"type\": \"scatter\", \"data\": [0.5472420634920635, 0.6146626984126984, 0.6052380952380952, 0.42656746031746035, 0.6323809523809525, 0.584186507936508, 0.5720238095238095, 0.5003968253968254, 0.3961507936507937, 0.30051587301587296, 0.4280952380952381, 0.47878968253968257, 0.6418650793650794, 0.5135317460317461, 0.6333730158730159, 0.11482142857142852, 0.3788095238095238, 0.4892857142857142, 0.5899007936507937, 0.6292063492063493, 0.596984126984127, 0.5278968253968254, 0.5290674603174603, 0.6446031746031746, 0.5091666666666667, 0.6529761904761905, 0.6457936507936507, 0.6016269841269841, 0.44865079365079363, 0.7127380952380952, 0.5925396825396825, 0.6399007936507937, 0.6092857142857143, 0.5660714285714286, 0.6170436507936508, 0.4363095238095238, 0.5133134920634921, 0.4937896825396825, 0.592579365079365, 0.5980952380952381, 0.22043650793650799, 0.6057142857142856, 0.6444642857142857, 0.6195238095238095, 0.6264087301587301, 0.6301587301587303, 0.6149801587301587]}, {\"categories\": [\"0\", \"1\", \"2\", \"3\", \"4\", \"5\", \"6\", \"7\", \"8\", \"9\", \"10\", \"11\", \"12\", \"13\", \"14\", \"15\", \"16\", \"17\", \"18\", \"19\", \"20\", \"21\", \"22\", \"23\", \"24\", \"25\", \"26\", \"27\", \"28\", \"29\", \"30\", \"31\", \"32\", \"33\", \"34\", \"35\", \"36\", \"37\", \"38\", \"39\", \"40\", \"41\", \"42\", \"43\", \"44\", \"48\", \"49\"], \"mode\": \"lines\", \"name\": \"norm_macro_recall_max\", \"stepped\": true, \"type\": \"scatter\", \"data\": [0.5472420634920635, 0.6146626984126984, 0.6146626984126984, 0.6146626984126984, 0.6323809523809525, 0.6323809523809525, 0.6323809523809525, 0.6323809523809525, 0.6323809523809525, 0.6323809523809525, 0.6323809523809525, 0.6323809523809525, 0.6418650793650794, 0.6418650793650794, 0.6418650793650794, 0.6418650793650794, 0.6418650793650794, 0.6418650793650794, 0.6418650793650794, 0.6418650793650794, 0.6418650793650794, 0.6418650793650794, 0.6418650793650794, 0.6446031746031746, 0.6446031746031746, 0.6529761904761905, 0.6529761904761905, 0.6529761904761905, 0.6529761904761905, 0.7127380952380952, 0.7127380952380952, 0.7127380952380952, 0.7127380952380952, 0.7127380952380952, 0.7127380952380952, 0.7127380952380952, 0.7127380952380952, 0.7127380952380952, 0.7127380952380952, 0.7127380952380952, 0.7127380952380952, 0.7127380952380952, 0.7127380952380952, 0.7127380952380952, 0.7127380952380952, 0.7127380952380952, 0.7127380952380952]}]}, \"metricName\": null, \"primaryMetricName\": \"AUC_weighted\", \"showLegend\": false}, \"run_metrics\": [{\"name\": \"experiment_status\", \"run_id\": \"AutoML_2558b787-2b30-4460-a59a-a85327795050\", \"categories\": [0, 1, 2, 3, 4, 5, 6, 7, 8, 9, 10, 11, 12, 13], \"series\": [{\"data\": [\"DatasetEvaluation\", \"FeaturesGeneration\", \"DatasetFeaturization\", \"DatasetFeaturizationCompleted\", \"DatasetCrossValidationSplit\", \"ModelSelection\", \"BestRunExplainModel\", \"ModelExplanationDataSetSetup\", \"PickSurrogateModel\", \"EngineeredFeatureExplanations\", \"EngineeredFeatureExplanations\", \"RawFeaturesExplanations\", \"RawFeaturesExplanations\", \"BestRunExplainModel\"]}]}, {\"name\": \"experiment_status_description\", \"run_id\": \"AutoML_2558b787-2b30-4460-a59a-a85327795050\", \"categories\": [0, 1, 2, 3, 4, 5, 6, 7, 8, 9, 10, 11, 12, 13], \"series\": [{\"data\": [\"Gathering dataset statistics.\", \"Generating features for the dataset.\", \"Beginning to fit featurizers and featurize the dataset.\", \"Completed fit featurizers and featurizing the dataset.\", \"Generating individually featurized CV splits.\", \"Beginning model selection.\", \"Best run model explanations started\", \"Model explanations data setup completed\", \"Choosing LightGBM as the surrogate model for explanations\", \"Computation of engineered features started\", \"Computation of engineered features completed\", \"Computation of raw features started\", \"Computation of raw features completed\", \"Best run model explanations completed\"]}]}, {\"name\": \"average_precision_score_micro\", \"run_id\": \"AutoML_2558b787-2b30-4460-a59a-a85327795050\", \"categories\": [0], \"series\": [{\"data\": [0.922700097549398]}]}, {\"name\": \"average_precision_score_macro\", \"run_id\": \"AutoML_2558b787-2b30-4460-a59a-a85327795050\", \"categories\": [0], \"series\": [{\"data\": [0.9143222123948203]}]}, {\"name\": \"average_precision_score_weighted\", \"run_id\": \"AutoML_2558b787-2b30-4460-a59a-a85327795050\", \"categories\": [0], \"series\": [{\"data\": [0.9322092841040757]}]}, {\"name\": \"log_loss\", \"run_id\": \"AutoML_2558b787-2b30-4460-a59a-a85327795050\", \"categories\": [0], \"series\": [{\"data\": [0.4051395757330417]}]}, {\"name\": \"balanced_accuracy\", \"run_id\": \"AutoML_2558b787-2b30-4460-a59a-a85327795050\", \"categories\": [0], \"series\": [{\"data\": [0.8150793650793651]}]}, {\"name\": \"f1_score_micro\", \"run_id\": \"AutoML_2558b787-2b30-4460-a59a-a85327795050\", \"categories\": [0], \"series\": [{\"data\": [0.841123188405797]}]}, {\"name\": \"recall_score_weighted\", \"run_id\": \"AutoML_2558b787-2b30-4460-a59a-a85327795050\", \"categories\": [0], \"series\": [{\"data\": [0.841123188405797]}]}, {\"name\": \"precision_score_micro\", \"run_id\": \"AutoML_2558b787-2b30-4460-a59a-a85327795050\", \"categories\": [0], \"series\": [{\"data\": [0.841123188405797]}]}, {\"name\": \"AUC_weighted\", \"run_id\": \"AutoML_2558b787-2b30-4460-a59a-a85327795050\", \"categories\": [0], \"series\": [{\"data\": [0.9204141865079365]}]}, {\"name\": \"precision_score_macro\", \"run_id\": \"AutoML_2558b787-2b30-4460-a59a-a85327795050\", \"categories\": [0], \"series\": [{\"data\": [0.8413871381886088]}]}, {\"name\": \"matthews_correlation\", \"run_id\": \"AutoML_2558b787-2b30-4460-a59a-a85327795050\", \"categories\": [0], \"series\": [{\"data\": [0.6526960091500414]}]}, {\"name\": \"recall_score_macro\", \"run_id\": \"AutoML_2558b787-2b30-4460-a59a-a85327795050\", \"categories\": [0], \"series\": [{\"data\": [0.8150793650793651]}]}, {\"name\": \"recall_score_micro\", \"run_id\": \"AutoML_2558b787-2b30-4460-a59a-a85327795050\", \"categories\": [0], \"series\": [{\"data\": [0.841123188405797]}]}, {\"name\": \"f1_score_macro\", \"run_id\": \"AutoML_2558b787-2b30-4460-a59a-a85327795050\", \"categories\": [0], \"series\": [{\"data\": [0.8147024385958275]}]}, {\"name\": \"f1_score_weighted\", \"run_id\": \"AutoML_2558b787-2b30-4460-a59a-a85327795050\", \"categories\": [0], \"series\": [{\"data\": [0.8375904328108457]}]}, {\"name\": \"precision_score_weighted\", \"run_id\": \"AutoML_2558b787-2b30-4460-a59a-a85327795050\", \"categories\": [0], \"series\": [{\"data\": [0.8543335202438463]}]}, {\"name\": \"accuracy\", \"run_id\": \"AutoML_2558b787-2b30-4460-a59a-a85327795050\", \"categories\": [0], \"series\": [{\"data\": [0.841123188405797]}]}, {\"name\": \"AUC_micro\", \"run_id\": \"AutoML_2558b787-2b30-4460-a59a-a85327795050\", \"categories\": [0], \"series\": [{\"data\": [0.9164123214660785]}]}, {\"name\": \"weighted_accuracy\", \"run_id\": \"AutoML_2558b787-2b30-4460-a59a-a85327795050\", \"categories\": [0], \"series\": [{\"data\": [0.8612562007523434]}]}, {\"name\": \"AUC_macro\", \"run_id\": \"AutoML_2558b787-2b30-4460-a59a-a85327795050\", \"categories\": [0], \"series\": [{\"data\": [0.9204141865079365]}]}, {\"name\": \"norm_macro_recall\", \"run_id\": \"AutoML_2558b787-2b30-4460-a59a-a85327795050\", \"categories\": [0], \"series\": [{\"data\": [0.6301587301587303]}]}], \"run_logs\": \"\\nRun is completed.\", \"graph\": {}, \"widget_settings\": {\"childWidgetDisplay\": \"popup\", \"send_telemetry\": false, \"log_level\": \"INFO\", \"sdk_version\": \"1.19.0\"}, \"loading\": false}"
     },
     "metadata": {},
     "output_type": "display_data"
    }
   ],
   "source": [
    "remote_run = experiment.submit(automl_config, show_output = True)\n",
    "RunDetails(remote_run).show()\n"
   ]
  },
  {
   "cell_type": "markdown",
   "metadata": {},
   "source": [
    "## Run Details\n",
    "\n",
    "OPTIONAL: Write about the different models trained and their performance. Why do you think some models did better than others?\n",
    "\n",
    "TODO: In the cell below, use the `RunDetails` widget to show the different experiments."
   ]
  },
  {
   "cell_type": "code",
   "execution_count": 10,
   "metadata": {
    "gather": {
     "logged": 1609204426485
    },
    "jupyter": {
     "outputs_hidden": false,
     "source_hidden": false
    },
    "nteract": {
     "transient": {
      "deleting": false
     }
    }
   },
   "outputs": [
    {
     "name": "stdout",
     "output_type": "stream",
     "text": [
      "\n",
      "\n",
      "****************************************************************************************************\n",
      "DATA GUARDRAILS: \n",
      "\n",
      "TYPE:         Cross validation\n",
      "STATUS:       DONE\n",
      "DESCRIPTION:  Each iteration of the trained model was validated through cross-validation.\n",
      "              \n",
      "DETAILS:      \n",
      "+---------------------------------+\n",
      "|Number of folds                  |\n",
      "+=================================+\n",
      "|10                               |\n",
      "+---------------------------------+\n",
      "\n",
      "****************************************************************************************************\n",
      "\n",
      "TYPE:         Class balancing detection\n",
      "STATUS:       PASSED\n",
      "DESCRIPTION:  Your inputs were analyzed, and all classes are balanced in your training data.\n",
      "              Learn more about imbalanced data: https://aka.ms/AutomatedMLImbalancedData\n",
      "\n",
      "****************************************************************************************************\n",
      "\n",
      "TYPE:         Missing feature values imputation\n",
      "STATUS:       PASSED\n",
      "DESCRIPTION:  No feature missing values were detected in the training data.\n",
      "              Learn more about missing value imputation: https://aka.ms/AutomatedMLFeaturization\n",
      "\n",
      "****************************************************************************************************\n",
      "\n",
      "TYPE:         High cardinality feature detection\n",
      "STATUS:       PASSED\n",
      "DESCRIPTION:  Your inputs were analyzed, and no high cardinality features were detected.\n",
      "              Learn more about high cardinality feature handling: https://aka.ms/AutomatedMLFeaturization\n",
      "\n",
      "****************************************************************************************************\n",
      "\n",
      "****************************************************************************************************\n",
      "ITERATION: The iteration being evaluated.\n",
      "PIPELINE: A summary description of the pipeline being evaluated.\n",
      "DURATION: Time taken for the current iteration.\n",
      "METRIC: The result of computing score on the fitted pipeline.\n",
      "BEST: The best observed score thus far.\n",
      "****************************************************************************************************\n",
      "\n",
      " ITERATION   PIPELINE                                       DURATION      METRIC      BEST\n",
      "         0   MaxAbsScaler LightGBM                          0:01:08       0.8901    0.8901\n",
      "         1   MaxAbsScaler XGBoostClassifier                 0:01:07       0.8879    0.8901\n",
      "         2   MinMaxScaler RandomForest                      0:01:00       0.8929    0.8929\n",
      "         3   RobustScaler ExtremeRandomTrees                0:01:07       0.8757    0.8929\n",
      "         4   MinMaxScaler RandomForest                      0:00:59       0.8902    0.8929\n",
      "         5   MinMaxScaler RandomForest                      0:01:03       0.8993    0.8993\n",
      "         6   StandardScalerWrapper RandomForest             0:01:02       0.8970    0.8993\n",
      "         7   MinMaxScaler ExtremeRandomTrees                0:01:00       0.8828    0.8993\n",
      "         8   MinMaxScaler ExtremeRandomTrees                0:01:35       0.8756    0.8993\n",
      "         9   SparseNormalizer KNN                           0:01:33       0.7183    0.8993\n",
      "        10   MinMaxScaler ExtremeRandomTrees                0:00:56       0.8464    0.8993\n",
      "        11   RobustScaler ExtremeRandomTrees                0:00:57       0.8638    0.8993\n",
      "        12   StandardScalerWrapper RandomForest             0:00:56       0.9012    0.9012\n",
      "        13   StandardScalerWrapper SGD                      0:01:21       0.8515    0.9012\n",
      "        14   RobustScaler RandomForest                      0:01:12       0.8882    0.9012\n",
      "        15   StandardScalerWrapper KNN                      0:01:06       0.5876    0.9012\n",
      "        16   MinMaxScaler RandomForest                      0:01:06       0.8537    0.9012\n",
      "        17   MinMaxScaler ExtremeRandomTrees                0:01:00       0.8004    0.9012\n",
      "        18   MaxAbsScaler RandomForest                      0:01:05       0.8780    0.9012\n",
      "        19   StandardScalerWrapper XGBoostClassifier        0:01:01       0.8926    0.9012\n",
      "        20   MaxAbsScaler RandomForest                      0:01:29       0.8855    0.9012\n",
      "        21   MaxAbsScaler ExtremeRandomTrees                0:01:29       0.8404    0.9012\n",
      "        22   MaxAbsScaler ExtremeRandomTrees                0:01:27       0.8623    0.9012\n",
      "        23   MaxAbsScaler LightGBM                          0:00:58       0.8977    0.9012\n",
      "        24   MaxAbsScaler RandomForest                      0:00:58       0.8822    0.9012\n",
      "        25   MinMaxScaler RandomForest                      0:01:15       0.8869    0.9012\n",
      "        26   StandardScalerWrapper XGBoostClassifier        0:01:03       0.9007    0.9012\n",
      "        27   MinMaxScaler ExtremeRandomTrees                0:01:12       0.8866    0.9012\n",
      "        28   StandardScalerWrapper LightGBM                 0:01:10       0.8932    0.9012\n",
      "        29   MinMaxScaler RandomForest                      0:01:07       0.9157    0.9157\n",
      "        30   MaxAbsScaler RandomForest                      0:01:07       0.8684    0.9157\n",
      "        31   RobustScaler RandomForest                      0:01:07       0.9156    0.9157\n",
      "        32   MaxAbsScaler ExtremeRandomTrees                0:01:01       0.8767    0.9157\n",
      "        33   StandardScalerWrapper XGBoostClassifier        0:01:03       0.8879    0.9157\n",
      "        34   StandardScalerWrapper GradientBoosting         0:01:04       0.9033    0.9157\n",
      "        35   TruncatedSVDWrapper RandomForest               0:01:06       0.8070    0.9157\n",
      "        36   MaxAbsScaler LogisticRegression                0:00:57       0.8498    0.9157\n",
      "        37   StandardScalerWrapper SVM                      0:00:58       0.8427    0.9157\n",
      "        38   RobustScaler GradientBoosting                  0:01:00       0.9095    0.9157\n",
      "        39   StandardScalerWrapper XGBoostClassifier        0:00:58       0.8972    0.9157\n",
      "        40   TruncatedSVDWrapper RandomForest               0:01:02       0.7837    0.9157\n",
      "        41   RobustScaler GradientBoosting                  0:01:04       0.9116    0.9157\n",
      "        42   StandardScalerWrapper GradientBoosting         0:01:04       0.8901    0.9157\n",
      "        43   StandardScalerWrapper LightGBM                 0:01:01       0.9022    0.9157\n",
      "        44   MaxAbsScaler LightGBM                          0:00:55       0.8985    0.9157\n",
      "        45                                                  0:00:10          nan    0.9157\n",
      "        46                                                  0:00:20          nan    0.9157\n",
      "        47                                                  0:00:08          nan    0.9157\n",
      "        48    VotingEnsemble                                0:02:32       0.9204    0.9204\n",
      "        49    StackEnsemble                                 0:02:41       0.9148    0.9204\n"
     ]
    },
    {
     "data": {
      "text/plain": [
       "{'runId': 'AutoML_2558b787-2b30-4460-a59a-a85327795050',\n",
       " 'target': 'notebook132250',\n",
       " 'status': 'Completed',\n",
       " 'startTimeUtc': '2020-12-29T00:50:35.407445Z',\n",
       " 'endTimeUtc': '2020-12-29T01:10:46.611468Z',\n",
       " 'properties': {'num_iterations': '1000',\n",
       "  'training_type': 'TrainFull',\n",
       "  'acquisition_function': 'EI',\n",
       "  'primary_metric': 'AUC_weighted',\n",
       "  'train_split': '0',\n",
       "  'acquisition_parameter': '0',\n",
       "  'num_cross_validation': None,\n",
       "  'target': 'notebook132250',\n",
       "  'AMLSettingsJsonString': '{\"path\":null,\"name\":\"ml-experiment-1\",\"subscription_id\":\"2c48c51c-bd47-40d4-abbe-fb8eabd19c8c\",\"resource_group\":\"aml-quickstarts-132250\",\"workspace_name\":\"quick-starts-ws-132250\",\"region\":\"southcentralus\",\"compute_target\":\"notebook132250\",\"spark_service\":null,\"azure_service\":\"remote\",\"many_models\":false,\"pipeline_fetch_max_batch_size\":1,\"iterations\":1000,\"primary_metric\":\"AUC_weighted\",\"task_type\":\"classification\",\"data_script\":null,\"validation_size\":0.0,\"n_cross_validations\":null,\"y_min\":null,\"y_max\":null,\"num_classes\":null,\"featurization\":\"auto\",\"_ignore_package_version_incompatibilities\":false,\"is_timeseries\":false,\"max_cores_per_iteration\":1,\"max_concurrent_iterations\":5,\"iteration_timeout_minutes\":null,\"mem_in_mb\":null,\"enforce_time_on_windows\":false,\"experiment_timeout_minutes\":20,\"experiment_exit_score\":null,\"whitelist_models\":null,\"blacklist_algos\":[\"TensorFlowLinearClassifier\",\"TensorFlowDNN\"],\"supported_models\":[\"DecisionTree\",\"XGBoostClassifier\",\"TensorFlowLinearClassifier\",\"SVM\",\"LogisticRegression\",\"ExtremeRandomTrees\",\"GradientBoosting\",\"MultinomialNaiveBayes\",\"SGD\",\"KNN\",\"BernoulliNaiveBayes\",\"LightGBM\",\"RandomForest\",\"TensorFlowDNN\",\"LinearSVM\",\"AveragedPerceptronClassifier\"],\"auto_blacklist\":true,\"blacklist_samples_reached\":false,\"exclude_nan_labels\":true,\"verbosity\":20,\"_debug_log\":\"azureml_automl.log\",\"show_warnings\":false,\"model_explainability\":true,\"service_url\":null,\"sdk_url\":null,\"sdk_packages\":null,\"enable_onnx_compatible_models\":false,\"enable_split_onnx_featurizer_estimator_models\":false,\"vm_type\":\"STANDARD_DS3_V2\",\"telemetry_verbosity\":20,\"send_telemetry\":true,\"enable_dnn\":false,\"scenario\":\"SDK-1.13.0\",\"environment_label\":null,\"force_text_dnn\":false,\"enable_feature_sweeping\":true,\"enable_early_stopping\":true,\"early_stopping_n_iters\":10,\"metrics\":null,\"enable_ensembling\":true,\"enable_stack_ensembling\":true,\"ensemble_iterations\":15,\"enable_tf\":false,\"enable_subsampling\":null,\"subsample_seed\":null,\"enable_nimbusml\":false,\"enable_streaming\":false,\"force_streaming\":false,\"track_child_runs\":true,\"allowed_private_models\":[],\"label_column_name\":\"DEATH_EVENT\",\"weight_column_name\":null,\"cv_split_column_names\":null,\"enable_local_managed\":false,\"_local_managed_run_id\":null,\"cost_mode\":1,\"lag_length\":0,\"metric_operation\":\"maximize\",\"preprocess\":true}',\n",
       "  'DataPrepJsonString': '{\\\\\"training_data\\\\\": \\\\\"{\\\\\\\\\\\\\"blocks\\\\\\\\\\\\\": [{\\\\\\\\\\\\\"id\\\\\\\\\\\\\": \\\\\\\\\\\\\"a1e0c04f-844e-4019-bf78-151fc6ef3c1f\\\\\\\\\\\\\", \\\\\\\\\\\\\"type\\\\\\\\\\\\\": \\\\\\\\\\\\\"Microsoft.DPrep.GetDatastoreFilesBlock\\\\\\\\\\\\\", \\\\\\\\\\\\\"arguments\\\\\\\\\\\\\": {\\\\\\\\\\\\\"datastores\\\\\\\\\\\\\": [{\\\\\\\\\\\\\"datastoreName\\\\\\\\\\\\\": \\\\\\\\\\\\\"workspaceblobstore\\\\\\\\\\\\\", \\\\\\\\\\\\\"path\\\\\\\\\\\\\": \\\\\\\\\\\\\"udacity-project/train_data.csv\\\\\\\\\\\\\", \\\\\\\\\\\\\"resourceGroup\\\\\\\\\\\\\": \\\\\\\\\\\\\"aml-quickstarts-132250\\\\\\\\\\\\\", \\\\\\\\\\\\\"subscription\\\\\\\\\\\\\": \\\\\\\\\\\\\"2c48c51c-bd47-40d4-abbe-fb8eabd19c8c\\\\\\\\\\\\\", \\\\\\\\\\\\\"workspaceName\\\\\\\\\\\\\": \\\\\\\\\\\\\"quick-starts-ws-132250\\\\\\\\\\\\\"}]}, \\\\\\\\\\\\\"localData\\\\\\\\\\\\\": {}, \\\\\\\\\\\\\"isEnabled\\\\\\\\\\\\\": true, \\\\\\\\\\\\\"name\\\\\\\\\\\\\": null, \\\\\\\\\\\\\"annotation\\\\\\\\\\\\\": null}, {\\\\\\\\\\\\\"id\\\\\\\\\\\\\": \\\\\\\\\\\\\"5a39508a-bc4e-4e33-bb9d-eaf3a83a5fad\\\\\\\\\\\\\", \\\\\\\\\\\\\"type\\\\\\\\\\\\\": \\\\\\\\\\\\\"Microsoft.DPrep.ParseDelimitedBlock\\\\\\\\\\\\\", \\\\\\\\\\\\\"arguments\\\\\\\\\\\\\": {\\\\\\\\\\\\\"columnHeadersMode\\\\\\\\\\\\\": 3, \\\\\\\\\\\\\"fileEncoding\\\\\\\\\\\\\": 0, \\\\\\\\\\\\\"handleQuotedLineBreaks\\\\\\\\\\\\\": false, \\\\\\\\\\\\\"preview\\\\\\\\\\\\\": false, \\\\\\\\\\\\\"separator\\\\\\\\\\\\\": \\\\\\\\\\\\\",\\\\\\\\\\\\\", \\\\\\\\\\\\\"skipRows\\\\\\\\\\\\\": 0, \\\\\\\\\\\\\"skipRowsMode\\\\\\\\\\\\\": 0}, \\\\\\\\\\\\\"localData\\\\\\\\\\\\\": {}, \\\\\\\\\\\\\"isEnabled\\\\\\\\\\\\\": true, \\\\\\\\\\\\\"name\\\\\\\\\\\\\": null, \\\\\\\\\\\\\"annotation\\\\\\\\\\\\\": null}, {\\\\\\\\\\\\\"id\\\\\\\\\\\\\": \\\\\\\\\\\\\"1ac8c44c-4dea-4f3d-8068-ca1a2f61acb0\\\\\\\\\\\\\", \\\\\\\\\\\\\"type\\\\\\\\\\\\\": \\\\\\\\\\\\\"Microsoft.DPrep.DropColumnsBlock\\\\\\\\\\\\\", \\\\\\\\\\\\\"arguments\\\\\\\\\\\\\": {\\\\\\\\\\\\\"columns\\\\\\\\\\\\\": {\\\\\\\\\\\\\"type\\\\\\\\\\\\\": 0, \\\\\\\\\\\\\"details\\\\\\\\\\\\\": {\\\\\\\\\\\\\"selectedColumns\\\\\\\\\\\\\": [\\\\\\\\\\\\\"Path\\\\\\\\\\\\\"]}}}, \\\\\\\\\\\\\"localData\\\\\\\\\\\\\": {}, \\\\\\\\\\\\\"isEnabled\\\\\\\\\\\\\": true, \\\\\\\\\\\\\"name\\\\\\\\\\\\\": null, \\\\\\\\\\\\\"annotation\\\\\\\\\\\\\": null}, {\\\\\\\\\\\\\"id\\\\\\\\\\\\\": \\\\\\\\\\\\\"c605cd2c-33bf-412e-b3c3-7e4f73f9c5dc\\\\\\\\\\\\\", \\\\\\\\\\\\\"type\\\\\\\\\\\\\": \\\\\\\\\\\\\"Microsoft.DPrep.SetColumnTypesBlock\\\\\\\\\\\\\", \\\\\\\\\\\\\"arguments\\\\\\\\\\\\\": {\\\\\\\\\\\\\"columnConversion\\\\\\\\\\\\\": [{\\\\\\\\\\\\\"column\\\\\\\\\\\\\": {\\\\\\\\\\\\\"type\\\\\\\\\\\\\": 2, \\\\\\\\\\\\\"details\\\\\\\\\\\\\": {\\\\\\\\\\\\\"selectedColumn\\\\\\\\\\\\\": \\\\\\\\\\\\\"age\\\\\\\\\\\\\"}}, \\\\\\\\\\\\\"typeProperty\\\\\\\\\\\\\": 3}, {\\\\\\\\\\\\\"column\\\\\\\\\\\\\": {\\\\\\\\\\\\\"type\\\\\\\\\\\\\": 2, \\\\\\\\\\\\\"details\\\\\\\\\\\\\": {\\\\\\\\\\\\\"selectedColumn\\\\\\\\\\\\\": \\\\\\\\\\\\\"anaemia\\\\\\\\\\\\\"}}, \\\\\\\\\\\\\"typeProperty\\\\\\\\\\\\\": 2}, {\\\\\\\\\\\\\"column\\\\\\\\\\\\\": {\\\\\\\\\\\\\"type\\\\\\\\\\\\\": 2, \\\\\\\\\\\\\"details\\\\\\\\\\\\\": {\\\\\\\\\\\\\"selectedColumn\\\\\\\\\\\\\": \\\\\\\\\\\\\"creatinine_phosphokinase\\\\\\\\\\\\\"}}, \\\\\\\\\\\\\"typeProperty\\\\\\\\\\\\\": 2}, {\\\\\\\\\\\\\"column\\\\\\\\\\\\\": {\\\\\\\\\\\\\"type\\\\\\\\\\\\\": 2, \\\\\\\\\\\\\"details\\\\\\\\\\\\\": {\\\\\\\\\\\\\"selectedColumn\\\\\\\\\\\\\": \\\\\\\\\\\\\"diabetes\\\\\\\\\\\\\"}}, \\\\\\\\\\\\\"typeProperty\\\\\\\\\\\\\": 2}, {\\\\\\\\\\\\\"column\\\\\\\\\\\\\": {\\\\\\\\\\\\\"type\\\\\\\\\\\\\": 2, \\\\\\\\\\\\\"details\\\\\\\\\\\\\": {\\\\\\\\\\\\\"selectedColumn\\\\\\\\\\\\\": \\\\\\\\\\\\\"ejection_fraction\\\\\\\\\\\\\"}}, \\\\\\\\\\\\\"typeProperty\\\\\\\\\\\\\": 2}, {\\\\\\\\\\\\\"column\\\\\\\\\\\\\": {\\\\\\\\\\\\\"type\\\\\\\\\\\\\": 2, \\\\\\\\\\\\\"details\\\\\\\\\\\\\": {\\\\\\\\\\\\\"selectedColumn\\\\\\\\\\\\\": \\\\\\\\\\\\\"high_blood_pressure\\\\\\\\\\\\\"}}, \\\\\\\\\\\\\"typeProperty\\\\\\\\\\\\\": 2}, {\\\\\\\\\\\\\"column\\\\\\\\\\\\\": {\\\\\\\\\\\\\"type\\\\\\\\\\\\\": 2, \\\\\\\\\\\\\"details\\\\\\\\\\\\\": {\\\\\\\\\\\\\"selectedColumn\\\\\\\\\\\\\": \\\\\\\\\\\\\"platelets\\\\\\\\\\\\\"}}, \\\\\\\\\\\\\"typeProperty\\\\\\\\\\\\\": 3}, {\\\\\\\\\\\\\"column\\\\\\\\\\\\\": {\\\\\\\\\\\\\"type\\\\\\\\\\\\\": 2, \\\\\\\\\\\\\"details\\\\\\\\\\\\\": {\\\\\\\\\\\\\"selectedColumn\\\\\\\\\\\\\": \\\\\\\\\\\\\"serum_creatinine\\\\\\\\\\\\\"}}, \\\\\\\\\\\\\"typeProperty\\\\\\\\\\\\\": 3}, {\\\\\\\\\\\\\"column\\\\\\\\\\\\\": {\\\\\\\\\\\\\"type\\\\\\\\\\\\\": 2, \\\\\\\\\\\\\"details\\\\\\\\\\\\\": {\\\\\\\\\\\\\"selectedColumn\\\\\\\\\\\\\": \\\\\\\\\\\\\"serum_sodium\\\\\\\\\\\\\"}}, \\\\\\\\\\\\\"typeProperty\\\\\\\\\\\\\": 2}, {\\\\\\\\\\\\\"column\\\\\\\\\\\\\": {\\\\\\\\\\\\\"type\\\\\\\\\\\\\": 2, \\\\\\\\\\\\\"details\\\\\\\\\\\\\": {\\\\\\\\\\\\\"selectedColumn\\\\\\\\\\\\\": \\\\\\\\\\\\\"sex\\\\\\\\\\\\\"}}, \\\\\\\\\\\\\"typeProperty\\\\\\\\\\\\\": 2}, {\\\\\\\\\\\\\"column\\\\\\\\\\\\\": {\\\\\\\\\\\\\"type\\\\\\\\\\\\\": 2, \\\\\\\\\\\\\"details\\\\\\\\\\\\\": {\\\\\\\\\\\\\"selectedColumn\\\\\\\\\\\\\": \\\\\\\\\\\\\"smoking\\\\\\\\\\\\\"}}, \\\\\\\\\\\\\"typeProperty\\\\\\\\\\\\\": 2}, {\\\\\\\\\\\\\"column\\\\\\\\\\\\\": {\\\\\\\\\\\\\"type\\\\\\\\\\\\\": 2, \\\\\\\\\\\\\"details\\\\\\\\\\\\\": {\\\\\\\\\\\\\"selectedColumn\\\\\\\\\\\\\": \\\\\\\\\\\\\"time\\\\\\\\\\\\\"}}, \\\\\\\\\\\\\"typeProperty\\\\\\\\\\\\\": 2}, {\\\\\\\\\\\\\"column\\\\\\\\\\\\\": {\\\\\\\\\\\\\"type\\\\\\\\\\\\\": 2, \\\\\\\\\\\\\"details\\\\\\\\\\\\\": {\\\\\\\\\\\\\"selectedColumn\\\\\\\\\\\\\": \\\\\\\\\\\\\"DEATH_EVENT\\\\\\\\\\\\\"}}, \\\\\\\\\\\\\"typeProperty\\\\\\\\\\\\\": 2}]}, \\\\\\\\\\\\\"localData\\\\\\\\\\\\\": {}, \\\\\\\\\\\\\"isEnabled\\\\\\\\\\\\\": true, \\\\\\\\\\\\\"name\\\\\\\\\\\\\": null, \\\\\\\\\\\\\"annotation\\\\\\\\\\\\\": null}], \\\\\\\\\\\\\"inspectors\\\\\\\\\\\\\": [], \\\\\\\\\\\\\"meta\\\\\\\\\\\\\": {\\\\\\\\\\\\\"savedDatasetId\\\\\\\\\\\\\": \\\\\\\\\\\\\"8a440e19-a926-46cf-aed3-c8ab1dd839f2\\\\\\\\\\\\\", \\\\\\\\\\\\\"datasetType\\\\\\\\\\\\\": \\\\\\\\\\\\\"tabular\\\\\\\\\\\\\", \\\\\\\\\\\\\"subscriptionId\\\\\\\\\\\\\": \\\\\\\\\\\\\"2c48c51c-bd47-40d4-abbe-fb8eabd19c8c\\\\\\\\\\\\\", \\\\\\\\\\\\\"workspaceId\\\\\\\\\\\\\": \\\\\\\\\\\\\"b3b39fdb-f2f6-46e0-8fb9-48615cc35255\\\\\\\\\\\\\", \\\\\\\\\\\\\"workspaceLocation\\\\\\\\\\\\\": \\\\\\\\\\\\\"southcentralus\\\\\\\\\\\\\"}}\\\\\", \\\\\"activities\\\\\": 0}',\n",
       "  'EnableSubsampling': None,\n",
       "  'runTemplate': 'AutoML',\n",
       "  'azureml.runsource': 'automl',\n",
       "  'display_task_type': 'classification',\n",
       "  'dependencies_versions': '{\"azureml-widgets\": \"1.19.0\", \"azureml-train\": \"1.19.0\", \"azureml-train-restclients-hyperdrive\": \"1.19.0\", \"azureml-train-core\": \"1.19.0\", \"azureml-train-automl\": \"1.19.0\", \"azureml-train-automl-runtime\": \"1.19.0\", \"azureml-train-automl-client\": \"1.19.0\", \"azureml-tensorboard\": \"1.19.0\", \"azureml-telemetry\": \"1.19.0\", \"azureml-sdk\": \"1.19.0\", \"azureml-samples\": \"0+unknown\", \"azureml-pipeline\": \"1.19.0\", \"azureml-pipeline-steps\": \"1.19.0\", \"azureml-pipeline-core\": \"1.19.0\", \"azureml-opendatasets\": \"1.19.0\", \"azureml-model-management-sdk\": \"1.0.1b6.post1\", \"azureml-mlflow\": \"1.19.0\", \"azureml-interpret\": \"1.19.0\", \"azureml-explain-model\": \"1.19.0\", \"azureml-defaults\": \"1.19.0\", \"azureml-dataset-runtime\": \"1.19.0\", \"azureml-dataprep\": \"2.6.1\", \"azureml-dataprep-rslex\": \"1.4.0\", \"azureml-dataprep-native\": \"26.0.0\", \"azureml-datadrift\": \"1.19.0\", \"azureml-core\": \"1.19.0\", \"azureml-contrib-services\": \"1.19.0\", \"azureml-contrib-server\": \"1.19.0\", \"azureml-contrib-reinforcementlearning\": \"1.19.0\", \"azureml-contrib-pipeline-steps\": \"1.19.0\", \"azureml-contrib-notebook\": \"1.19.0\", \"azureml-contrib-interpret\": \"1.19.0\", \"azureml-contrib-gbdt\": \"1.19.0\", \"azureml-contrib-fairness\": \"1.19.0\", \"azureml-contrib-dataset\": \"1.19.0\", \"azureml-cli-common\": \"1.19.0\", \"azureml-automl-runtime\": \"1.19.0\", \"azureml-automl-core\": \"1.19.0\", \"azureml-accel-models\": \"1.19.0\"}',\n",
       "  '_aml_system_scenario_identification': 'Remote.Parent',\n",
       "  'ClientType': 'SDK',\n",
       "  'environment_cpu_name': 'AzureML-AutoML',\n",
       "  'environment_cpu_label': 'prod',\n",
       "  'environment_gpu_name': 'AzureML-AutoML-GPU',\n",
       "  'environment_gpu_label': 'prod',\n",
       "  'root_attribution': 'automl',\n",
       "  'attribution': 'AutoML',\n",
       "  'Orchestrator': 'AutoML',\n",
       "  'CancelUri': 'https://southcentralus.experiments.azureml.net/jasmine/v1.0/subscriptions/2c48c51c-bd47-40d4-abbe-fb8eabd19c8c/resourceGroups/aml-quickstarts-132250/providers/Microsoft.MachineLearningServices/workspaces/quick-starts-ws-132250/experimentids/aae11042-df16-468d-9013-46094df89bd2/cancel/AutoML_2558b787-2b30-4460-a59a-a85327795050',\n",
       "  'ClientSdkVersion': '1.19.0',\n",
       "  'snapshotId': '00000000-0000-0000-0000-000000000000',\n",
       "  'SetupRunId': 'AutoML_2558b787-2b30-4460-a59a-a85327795050_setup',\n",
       "  'SetupRunContainerId': 'dcid.AutoML_2558b787-2b30-4460-a59a-a85327795050_setup',\n",
       "  'FeaturizationRunJsonPath': 'featurizer_container.json',\n",
       "  'FeaturizationRunId': 'AutoML_2558b787-2b30-4460-a59a-a85327795050_featurize',\n",
       "  'ProblemInfoJsonString': '{\"dataset_num_categorical\": 0, \"is_sparse\": false, \"subsampling\": false, \"dataset_classes\": 2, \"dataset_features\": 12, \"dataset_samples\": 239, \"single_frequency_class_detected\": false}',\n",
       "  'ModelExplainRunId': 'AutoML_2558b787-2b30-4460-a59a-a85327795050_ModelExplain'},\n",
       " 'inputDatasets': [{'dataset': {'id': '8a440e19-a926-46cf-aed3-c8ab1dd839f2'}, 'consumptionDetails': {'type': 'RunInput', 'inputName': 'training_data', 'mechanism': 'Direct'}}],\n",
       " 'outputDatasets': [],\n",
       " 'logFiles': {}}"
      ]
     },
     "execution_count": 10,
     "metadata": {},
     "output_type": "execute_result"
    }
   ],
   "source": [
    "remote_run.wait_for_completion(show_output=True)"
   ]
  },
  {
   "cell_type": "code",
   "execution_count": null,
   "metadata": {
    "gather": {
     "logged": 1608761144286
    }
   },
   "outputs": [],
   "source": [
    "#Take SS\n",
    "\n",
    "RunDetails(remote_run).show()"
   ]
  },
  {
   "cell_type": "code",
   "execution_count": null,
   "metadata": {},
   "outputs": [],
   "source": []
  },
  {
   "cell_type": "markdown",
   "metadata": {},
   "source": [
    "## Best Model\n",
    "\n",
    "TODO: In the cell below, get the best model from the automl experiments and display all the properties of the model.\n",
    "\n"
   ]
  },
  {
   "cell_type": "code",
   "execution_count": 11,
   "metadata": {
    "gather": {
     "logged": 1609204488628
    },
    "jupyter": {
     "outputs_hidden": false,
     "source_hidden": false
    },
    "nteract": {
     "transient": {
      "deleting": false
     }
    }
   },
   "outputs": [
    {
     "name": "stdout",
     "output_type": "stream",
     "text": [
      "Run(Experiment: ml-experiment-1,\n",
      "Id: AutoML_2558b787-2b30-4460-a59a-a85327795050_48,\n",
      "Type: azureml.scriptrun,\n",
      "Status: Completed)\n"
     ]
    }
   ],
   "source": [
    "best_model, fitted_model = remote_run.get_output()\n",
    "\n",
    "print(best_model)\n",
    "\n",
    "# Take SS"
   ]
  },
  {
   "cell_type": "code",
   "execution_count": 12,
   "metadata": {
    "gather": {
     "logged": 1609204498717
    }
   },
   "outputs": [
    {
     "name": "stdout",
     "output_type": "stream",
     "text": [
      "Pipeline(memory=None,\n",
      "         steps=[('datatransformer',\n",
      "                 DataTransformer(enable_dnn=None, enable_feature_sweeping=None,\n",
      "                                 feature_sweeping_config=None,\n",
      "                                 feature_sweeping_timeout=None,\n",
      "                                 featurization_config=None, force_text_dnn=None,\n",
      "                                 is_cross_validation=None,\n",
      "                                 is_onnx_compatible=None, logger=None,\n",
      "                                 observer=None, task=None, working_dir=None)),\n",
      "                ('prefittedsoftvotingclassifier',...\n",
      "                                                                                                    oob_score=False,\n",
      "                                                                                                    random_state=None,\n",
      "                                                                                                    verbose=0,\n",
      "                                                                                                    warm_start=False))],\n",
      "                                                                     verbose=False))],\n",
      "                                               flatten_transform=None,\n",
      "                                               weights=[0.07142857142857142,\n",
      "                                                        0.07142857142857142,\n",
      "                                                        0.2857142857142857,\n",
      "                                                        0.07142857142857142,\n",
      "                                                        0.07142857142857142,\n",
      "                                                        0.07142857142857142,\n",
      "                                                        0.07142857142857142,\n",
      "                                                        0.07142857142857142,\n",
      "                                                        0.07142857142857142,\n",
      "                                                        0.07142857142857142,\n",
      "                                                        0.07142857142857142]))],\n",
      "         verbose=False)\n"
     ]
    }
   ],
   "source": [
    "print(fitted_model)"
   ]
  },
  {
   "cell_type": "code",
   "execution_count": null,
   "metadata": {},
   "outputs": [],
   "source": []
  },
  {
   "cell_type": "code",
   "execution_count": null,
   "metadata": {
    "gather": {
     "logged": 1608764810246
    }
   },
   "outputs": [],
   "source": []
  },
  {
   "cell_type": "code",
   "execution_count": 13,
   "metadata": {
    "gather": {
     "logged": 1609204518680
    }
   },
   "outputs": [
    {
     "data": {
      "text/plain": [
       "['models/automl_hearth.pkl']"
      ]
     },
     "execution_count": 13,
     "metadata": {},
     "output_type": "execute_result"
    }
   ],
   "source": [
    "#TODO: Save the best model\n",
    "joblib.dump(fitted_model, \"models/automl_hearth.pkl\")\n"
   ]
  },
  {
   "cell_type": "code",
   "execution_count": null,
   "metadata": {
    "gather": {
     "logged": 1608764876892
    },
    "jupyter": {
     "outputs_hidden": false,
     "source_hidden": false
    },
    "nteract": {
     "transient": {
      "deleting": false
     }
    }
   },
   "outputs": [],
   "source": []
  },
  {
   "cell_type": "markdown",
   "metadata": {},
   "source": [
    "## Model Deployment\n",
    "\n",
    "Remember you have to deploy only one of the two models you trained.. Perform the steps in the rest of this notebook only if you wish to deploy this model.\n",
    "\n",
    "TODO: In the cell below, register the model, create an inference config and deploy the model as a web service."
   ]
  },
  {
   "cell_type": "code",
   "execution_count": 14,
   "metadata": {
    "gather": {
     "logged": 1609204530690
    },
    "jupyter": {
     "outputs_hidden": false,
     "source_hidden": false
    },
    "nteract": {
     "transient": {
      "deleting": false
     }
    }
   },
   "outputs": [
    {
     "name": "stdout",
     "output_type": "stream",
     "text": [
      "Registering model automl_hearth.pkl\n"
     ]
    }
   ],
   "source": [
    "# model = Model.register(model_path = \"./models/automl_hearth.pkl\",\n",
    "#                       model_name = \"automl_hearth.pkl\",\n",
    "#                       description = \"Best model trained with AutoML\",\n",
    "#                       workspace = ws)\n",
    "\n",
    "model = remote_run.register_model(model_name='automl_hearth.pkl', \n",
    "                                  model_path='\"./models/automl_hearth.pkl\"',\n",
    "                                  model_framework=Model.Framework.SCIKITLEARN)"
   ]
  },
  {
   "cell_type": "code",
   "execution_count": null,
   "metadata": {
    "gather": {
     "logged": 1608765071033
    }
   },
   "outputs": [],
   "source": [
    "# Define Deployment\n",
    "\n",
    "aci_config AciWebservice.deploy_configuration(cpu_cores=1, memory_gb=2,\n",
    "                                              enable_app_insights=True, auth_enabled=True) \n",
    "\n",
    "# deployment_config = AciWebservice.deploy_configuration()\n"
   ]
  },
  {
   "cell_type": "code",
   "execution_count": 15,
   "metadata": {
    "gather": {
     "logged": 1609204812657
    }
   },
   "outputs": [],
   "source": [
    "# Create the environment\n",
    "# myenv = Environment(workspace=ws, name=\"myenv\")\n",
    "# \n",
    "# inference_config = InferenceConfig(entry_script=\"score.py\",\n",
    "#                                    environment=myenv)"
   ]
  },
  {
   "cell_type": "code",
   "execution_count": 20,
   "metadata": {
    "collapsed": true,
    "gather": {
     "logged": 1609205081935
    },
    "jupyter": {
     "outputs_hidden": false,
     "source_hidden": false
    },
    "nteract": {
     "transient": {
      "deleting": false
     }
    }
   },
   "outputs": [],
   "source": [
    "service_name = 'my-sklearn-service'\n",
    "\n",
    "service = Model.deploy(ws, service_name, [model], deployment_config=aci_config)\n",
    "\n",
    "# service = Model.deploy(ws, 'myservice2', [model], inference_config, deployment_config)\n",
    "# service.update(enable_app_insights=True)"
   ]
  },
  {
   "cell_type": "code",
   "execution_count": 23,
   "metadata": {
    "collapsed": true,
    "gather": {
     "logged": 1609205582882
    },
    "jupyter": {
     "outputs_hidden": false,
     "source_hidden": false
    },
    "nteract": {
     "transient": {
      "deleting": false
     }
    }
   },
   "outputs": [],
   "source": [
    "service.wait_for_deployment(True)\n",
    "print(service.state)"
   ]
  },
  {
   "cell_type": "code",
   "execution_count": 24,
   "metadata": {
    "collapsed": true,
    "jupyter": {
     "outputs_hidden": false,
     "source_hidden": false
    },
    "nteract": {
     "transient": {
      "deleting": false
     }
    }
   },
   "outputs": [
    {
     "name": "stdout",
     "output_type": "stream",
     "text": [
      "Tips: You can try get_logs(): https://aka.ms/debugimage#dockerlog or local deployment: https://aka.ms/debugimage#debug-locally to debug if deployment takes longer than 10 minutes.\n",
      "Running............................................................\n",
      "Failed\n"
     ]
    },
    {
     "name": "stderr",
     "output_type": "stream",
     "text": [
      "ERROR:azureml.core.webservice.webservice:Service deployment polling reached non-successful terminal state, current service state: Failed\n",
      "Operation ID: 2a0d9ccb-bc06-494d-b043-ecd8ac85551b\n",
      "More information can be found using '.get_logs()'\n",
      "Error:\n",
      "{\n",
      "  \"code\": \"AciDeploymentFailed\",\n",
      "  \"message\": \"Aci Deployment failed with exception: Your container application crashed. This may be caused by errors in your scoring file's init() function.\\nPlease check the logs for your container instance: myservice2. From the AML SDK, you can run print(service.get_logs()) if you have service object to fetch the logs. \\nYou can interactively debug your scoring file locally. Please refer to https://docs.microsoft.com/azure/machine-learning/how-to-debug-visual-studio-code#debug-and-troubleshoot-deployments for more information.\\nYou can also try to run image b3b39fdbf2f646e08fb948615cc35255.azurecr.io/azureml/azureml_1a31af1e7a24bf75a2aeeda4db33c10b locally. Please refer to https://aka.ms/debugimage#service-launch-fails for more information.\",\n",
      "  \"details\": [\n",
      "    {\n",
      "      \"code\": \"CrashLoopBackOff\",\n",
      "      \"message\": \"Your container application crashed. This may be caused by errors in your scoring file's init() function.\\nPlease check the logs for your container instance: myservice2. From the AML SDK, you can run print(service.get_logs()) if you have service object to fetch the logs. \\nYou can interactively debug your scoring file locally. Please refer to https://docs.microsoft.com/azure/machine-learning/how-to-debug-visual-studio-code#debug-and-troubleshoot-deployments for more information.\\nYou can also try to run image b3b39fdbf2f646e08fb948615cc35255.azurecr.io/azureml/azureml_1a31af1e7a24bf75a2aeeda4db33c10b locally. Please refer to https://aka.ms/debugimage#service-launch-fails for more information.\"\n",
      "    },\n",
      "    {\n",
      "      \"code\": \"AciDeploymentFailed\",\n",
      "      \"message\": \"Your container application crashed. Please follow the steps to debug:\\n1. From the AML SDK, you can run print(service.get_logs()) if you have service object to fetch the logs. Please refer to https://aka.ms/debugimage#dockerlog for more information.\\n2. If your container application crashed. This may be caused by errors in your scoring file's init() function. You can try debugging locally first. Please refer to https://aka.ms/debugimage#debug-locally for more information.\\n3. You can also interactively debug your scoring file locally. Please refer to https://docs.microsoft.com/azure/machine-learning/how-to-debug-visual-studio-code#debug-and-troubleshoot-deployments for more information.\\n4. View the diagnostic events to check status of container, it may help you to debug the issue. {\\\"restartCount\\\":7,\\\"currentState\\\":{\\\"state\\\":\\\"Waiting\\\",\\\"startTime\\\":null,\\\"exitCode\\\":null,\\\"finishTime\\\":null,\\\"detailStatus\\\":\\\"CrashLoopBackOff: Back-off restarting failed\\\"},\\\"previousState\\\":{\\\"state\\\":\\\"Terminated\\\",\\\"startTime\\\":\\\"2020-12-29T01:35:34.203Z\\\",\\\"exitCode\\\":111,\\\"finishTime\\\":\\\"2020-12-29T01:35:46.168Z\\\",\\\"detailStatus\\\":\\\"Error\\\"},\\\"events\\\":null}\"\n",
      "    }\n",
      "  ]\n",
      "}\n",
      "\n"
     ]
    },
    {
     "ename": "WebserviceException",
     "evalue": "WebserviceException:\n\tMessage: Service deployment polling reached non-successful terminal state, current service state: Failed\nOperation ID: 2a0d9ccb-bc06-494d-b043-ecd8ac85551b\nMore information can be found using '.get_logs()'\nError:\n{\n  \"code\": \"AciDeploymentFailed\",\n  \"message\": \"Aci Deployment failed with exception: Your container application crashed. This may be caused by errors in your scoring file's init() function.\\nPlease check the logs for your container instance: myservice2. From the AML SDK, you can run print(service.get_logs()) if you have service object to fetch the logs. \\nYou can interactively debug your scoring file locally. Please refer to https://docs.microsoft.com/azure/machine-learning/how-to-debug-visual-studio-code#debug-and-troubleshoot-deployments for more information.\\nYou can also try to run image b3b39fdbf2f646e08fb948615cc35255.azurecr.io/azureml/azureml_1a31af1e7a24bf75a2aeeda4db33c10b locally. Please refer to https://aka.ms/debugimage#service-launch-fails for more information.\",\n  \"details\": [\n    {\n      \"code\": \"CrashLoopBackOff\",\n      \"message\": \"Your container application crashed. This may be caused by errors in your scoring file's init() function.\\nPlease check the logs for your container instance: myservice2. From the AML SDK, you can run print(service.get_logs()) if you have service object to fetch the logs. \\nYou can interactively debug your scoring file locally. Please refer to https://docs.microsoft.com/azure/machine-learning/how-to-debug-visual-studio-code#debug-and-troubleshoot-deployments for more information.\\nYou can also try to run image b3b39fdbf2f646e08fb948615cc35255.azurecr.io/azureml/azureml_1a31af1e7a24bf75a2aeeda4db33c10b locally. Please refer to https://aka.ms/debugimage#service-launch-fails for more information.\"\n    },\n    {\n      \"code\": \"AciDeploymentFailed\",\n      \"message\": \"Your container application crashed. Please follow the steps to debug:\\n1. From the AML SDK, you can run print(service.get_logs()) if you have service object to fetch the logs. Please refer to https://aka.ms/debugimage#dockerlog for more information.\\n2. If your container application crashed. This may be caused by errors in your scoring file's init() function. You can try debugging locally first. Please refer to https://aka.ms/debugimage#debug-locally for more information.\\n3. You can also interactively debug your scoring file locally. Please refer to https://docs.microsoft.com/azure/machine-learning/how-to-debug-visual-studio-code#debug-and-troubleshoot-deployments for more information.\\n4. View the diagnostic events to check status of container, it may help you to debug the issue. {\\\"restartCount\\\":7,\\\"currentState\\\":{\\\"state\\\":\\\"Waiting\\\",\\\"startTime\\\":null,\\\"exitCode\\\":null,\\\"finishTime\\\":null,\\\"detailStatus\\\":\\\"CrashLoopBackOff: Back-off restarting failed\\\"},\\\"previousState\\\":{\\\"state\\\":\\\"Terminated\\\",\\\"startTime\\\":\\\"2020-12-29T01:35:34.203Z\\\",\\\"exitCode\\\":111,\\\"finishTime\\\":\\\"2020-12-29T01:35:46.168Z\\\",\\\"detailStatus\\\":\\\"Error\\\"},\\\"events\\\":null}\"\n    }\n  ]\n}\n\tInnerException None\n\tErrorResponse \n{\n    \"error\": {\n        \"message\": \"Service deployment polling reached non-successful terminal state, current service state: Failed\\nOperation ID: 2a0d9ccb-bc06-494d-b043-ecd8ac85551b\\nMore information can be found using '.get_logs()'\\nError:\\n{\\n  \\\"code\\\": \\\"AciDeploymentFailed\\\",\\n  \\\"message\\\": \\\"Aci Deployment failed with exception: Your container application crashed. This may be caused by errors in your scoring file's init() function.\\\\nPlease check the logs for your container instance: myservice2. From the AML SDK, you can run print(service.get_logs()) if you have service object to fetch the logs. \\\\nYou can interactively debug your scoring file locally. Please refer to https://docs.microsoft.com/azure/machine-learning/how-to-debug-visual-studio-code#debug-and-troubleshoot-deployments for more information.\\\\nYou can also try to run image b3b39fdbf2f646e08fb948615cc35255.azurecr.io/azureml/azureml_1a31af1e7a24bf75a2aeeda4db33c10b locally. Please refer to https://aka.ms/debugimage#service-launch-fails for more information.\\\",\\n  \\\"details\\\": [\\n    {\\n      \\\"code\\\": \\\"CrashLoopBackOff\\\",\\n      \\\"message\\\": \\\"Your container application crashed. This may be caused by errors in your scoring file's init() function.\\\\nPlease check the logs for your container instance: myservice2. From the AML SDK, you can run print(service.get_logs()) if you have service object to fetch the logs. \\\\nYou can interactively debug your scoring file locally. Please refer to https://docs.microsoft.com/azure/machine-learning/how-to-debug-visual-studio-code#debug-and-troubleshoot-deployments for more information.\\\\nYou can also try to run image b3b39fdbf2f646e08fb948615cc35255.azurecr.io/azureml/azureml_1a31af1e7a24bf75a2aeeda4db33c10b locally. Please refer to https://aka.ms/debugimage#service-launch-fails for more information.\\\"\\n    },\\n    {\\n      \\\"code\\\": \\\"AciDeploymentFailed\\\",\\n      \\\"message\\\": \\\"Your container application crashed. Please follow the steps to debug:\\\\n1. From the AML SDK, you can run print(service.get_logs()) if you have service object to fetch the logs. Please refer to https://aka.ms/debugimage#dockerlog for more information.\\\\n2. If your container application crashed. This may be caused by errors in your scoring file's init() function. You can try debugging locally first. Please refer to https://aka.ms/debugimage#debug-locally for more information.\\\\n3. You can also interactively debug your scoring file locally. Please refer to https://docs.microsoft.com/azure/machine-learning/how-to-debug-visual-studio-code#debug-and-troubleshoot-deployments for more information.\\\\n4. View the diagnostic events to check status of container, it may help you to debug the issue. {\\\\\\\"restartCount\\\\\\\":7,\\\\\\\"currentState\\\\\\\":{\\\\\\\"state\\\\\\\":\\\\\\\"Waiting\\\\\\\",\\\\\\\"startTime\\\\\\\":null,\\\\\\\"exitCode\\\\\\\":null,\\\\\\\"finishTime\\\\\\\":null,\\\\\\\"detailStatus\\\\\\\":\\\\\\\"CrashLoopBackOff: Back-off restarting failed\\\\\\\"},\\\\\\\"previousState\\\\\\\":{\\\\\\\"state\\\\\\\":\\\\\\\"Terminated\\\\\\\",\\\\\\\"startTime\\\\\\\":\\\\\\\"2020-12-29T01:35:34.203Z\\\\\\\",\\\\\\\"exitCode\\\\\\\":111,\\\\\\\"finishTime\\\\\\\":\\\\\\\"2020-12-29T01:35:46.168Z\\\\\\\",\\\\\\\"detailStatus\\\\\\\":\\\\\\\"Error\\\\\\\"},\\\\\\\"events\\\\\\\":null}\\\"\\n    }\\n  ]\\n}\"\n    }\n}",
     "output_type": "error",
     "traceback": [
      "\u001b[0;31m---------------------------------------------------------------------------\u001b[0m",
      "\u001b[0;31mWebserviceException\u001b[0m                       Traceback (most recent call last)",
      "\u001b[0;32m<ipython-input-24-d71f364fa373>\u001b[0m in \u001b[0;36m<module>\u001b[0;34m\u001b[0m\n\u001b[0;32m----> 1\u001b[0;31m \u001b[0mservice2\u001b[0m\u001b[0;34m.\u001b[0m\u001b[0mwait_for_deployment\u001b[0m\u001b[0;34m(\u001b[0m\u001b[0;32mTrue\u001b[0m\u001b[0;34m)\u001b[0m\u001b[0;34m\u001b[0m\u001b[0;34m\u001b[0m\u001b[0m\n\u001b[0m\u001b[1;32m      2\u001b[0m \u001b[0mprint\u001b[0m\u001b[0;34m(\u001b[0m\u001b[0mservice2\u001b[0m\u001b[0;34m.\u001b[0m\u001b[0mstate\u001b[0m\u001b[0;34m)\u001b[0m\u001b[0;34m\u001b[0m\u001b[0;34m\u001b[0m\u001b[0m\n\u001b[1;32m      3\u001b[0m \u001b[0mprint\u001b[0m\u001b[0;34m(\u001b[0m\u001b[0;34m\"scoring URI: \"\u001b[0m \u001b[0;34m+\u001b[0m \u001b[0mservice2\u001b[0m\u001b[0;34m.\u001b[0m\u001b[0mscoring_uri\u001b[0m\u001b[0;34m)\u001b[0m\u001b[0;34m\u001b[0m\u001b[0;34m\u001b[0m\u001b[0m\n",
      "\u001b[0;32m/anaconda/envs/azureml_py36/lib/python3.6/site-packages/azureml/core/webservice/webservice.py\u001b[0m in \u001b[0;36mwait_for_deployment\u001b[0;34m(self, show_output, timeout_sec)\u001b[0m\n\u001b[1;32m    913\u001b[0m                                           \u001b[0;34m'Error:\\n'\u001b[0m\u001b[0;34m\u001b[0m\u001b[0;34m\u001b[0m\u001b[0m\n\u001b[1;32m    914\u001b[0m                                           '{}'.format(self.state, self._operation_endpoint.split('/')[-1],\n\u001b[0;32m--> 915\u001b[0;31m                                                       logs_response, error_response), logger=module_logger)\n\u001b[0m\u001b[1;32m    916\u001b[0m             print('{} service creation operation finished, operation \"{}\"'.format(self._webservice_type,\n\u001b[1;32m    917\u001b[0m                                                                                   operation_state))\n",
      "\u001b[0;31mWebserviceException\u001b[0m: WebserviceException:\n\tMessage: Service deployment polling reached non-successful terminal state, current service state: Failed\nOperation ID: 2a0d9ccb-bc06-494d-b043-ecd8ac85551b\nMore information can be found using '.get_logs()'\nError:\n{\n  \"code\": \"AciDeploymentFailed\",\n  \"message\": \"Aci Deployment failed with exception: Your container application crashed. This may be caused by errors in your scoring file's init() function.\\nPlease check the logs for your container instance: myservice2. From the AML SDK, you can run print(service.get_logs()) if you have service object to fetch the logs. \\nYou can interactively debug your scoring file locally. Please refer to https://docs.microsoft.com/azure/machine-learning/how-to-debug-visual-studio-code#debug-and-troubleshoot-deployments for more information.\\nYou can also try to run image b3b39fdbf2f646e08fb948615cc35255.azurecr.io/azureml/azureml_1a31af1e7a24bf75a2aeeda4db33c10b locally. Please refer to https://aka.ms/debugimage#service-launch-fails for more information.\",\n  \"details\": [\n    {\n      \"code\": \"CrashLoopBackOff\",\n      \"message\": \"Your container application crashed. This may be caused by errors in your scoring file's init() function.\\nPlease check the logs for your container instance: myservice2. From the AML SDK, you can run print(service.get_logs()) if you have service object to fetch the logs. \\nYou can interactively debug your scoring file locally. Please refer to https://docs.microsoft.com/azure/machine-learning/how-to-debug-visual-studio-code#debug-and-troubleshoot-deployments for more information.\\nYou can also try to run image b3b39fdbf2f646e08fb948615cc35255.azurecr.io/azureml/azureml_1a31af1e7a24bf75a2aeeda4db33c10b locally. Please refer to https://aka.ms/debugimage#service-launch-fails for more information.\"\n    },\n    {\n      \"code\": \"AciDeploymentFailed\",\n      \"message\": \"Your container application crashed. Please follow the steps to debug:\\n1. From the AML SDK, you can run print(service.get_logs()) if you have service object to fetch the logs. Please refer to https://aka.ms/debugimage#dockerlog for more information.\\n2. If your container application crashed. This may be caused by errors in your scoring file's init() function. You can try debugging locally first. Please refer to https://aka.ms/debugimage#debug-locally for more information.\\n3. You can also interactively debug your scoring file locally. Please refer to https://docs.microsoft.com/azure/machine-learning/how-to-debug-visual-studio-code#debug-and-troubleshoot-deployments for more information.\\n4. View the diagnostic events to check status of container, it may help you to debug the issue. {\\\"restartCount\\\":7,\\\"currentState\\\":{\\\"state\\\":\\\"Waiting\\\",\\\"startTime\\\":null,\\\"exitCode\\\":null,\\\"finishTime\\\":null,\\\"detailStatus\\\":\\\"CrashLoopBackOff: Back-off restarting failed\\\"},\\\"previousState\\\":{\\\"state\\\":\\\"Terminated\\\",\\\"startTime\\\":\\\"2020-12-29T01:35:34.203Z\\\",\\\"exitCode\\\":111,\\\"finishTime\\\":\\\"2020-12-29T01:35:46.168Z\\\",\\\"detailStatus\\\":\\\"Error\\\"},\\\"events\\\":null}\"\n    }\n  ]\n}\n\tInnerException None\n\tErrorResponse \n{\n    \"error\": {\n        \"message\": \"Service deployment polling reached non-successful terminal state, current service state: Failed\\nOperation ID: 2a0d9ccb-bc06-494d-b043-ecd8ac85551b\\nMore information can be found using '.get_logs()'\\nError:\\n{\\n  \\\"code\\\": \\\"AciDeploymentFailed\\\",\\n  \\\"message\\\": \\\"Aci Deployment failed with exception: Your container application crashed. This may be caused by errors in your scoring file's init() function.\\\\nPlease check the logs for your container instance: myservice2. From the AML SDK, you can run print(service.get_logs()) if you have service object to fetch the logs. \\\\nYou can interactively debug your scoring file locally. Please refer to https://docs.microsoft.com/azure/machine-learning/how-to-debug-visual-studio-code#debug-and-troubleshoot-deployments for more information.\\\\nYou can also try to run image b3b39fdbf2f646e08fb948615cc35255.azurecr.io/azureml/azureml_1a31af1e7a24bf75a2aeeda4db33c10b locally. Please refer to https://aka.ms/debugimage#service-launch-fails for more information.\\\",\\n  \\\"details\\\": [\\n    {\\n      \\\"code\\\": \\\"CrashLoopBackOff\\\",\\n      \\\"message\\\": \\\"Your container application crashed. This may be caused by errors in your scoring file's init() function.\\\\nPlease check the logs for your container instance: myservice2. From the AML SDK, you can run print(service.get_logs()) if you have service object to fetch the logs. \\\\nYou can interactively debug your scoring file locally. Please refer to https://docs.microsoft.com/azure/machine-learning/how-to-debug-visual-studio-code#debug-and-troubleshoot-deployments for more information.\\\\nYou can also try to run image b3b39fdbf2f646e08fb948615cc35255.azurecr.io/azureml/azureml_1a31af1e7a24bf75a2aeeda4db33c10b locally. Please refer to https://aka.ms/debugimage#service-launch-fails for more information.\\\"\\n    },\\n    {\\n      \\\"code\\\": \\\"AciDeploymentFailed\\\",\\n      \\\"message\\\": \\\"Your container application crashed. Please follow the steps to debug:\\\\n1. From the AML SDK, you can run print(service.get_logs()) if you have service object to fetch the logs. Please refer to https://aka.ms/debugimage#dockerlog for more information.\\\\n2. If your container application crashed. This may be caused by errors in your scoring file's init() function. You can try debugging locally first. Please refer to https://aka.ms/debugimage#debug-locally for more information.\\\\n3. You can also interactively debug your scoring file locally. Please refer to https://docs.microsoft.com/azure/machine-learning/how-to-debug-visual-studio-code#debug-and-troubleshoot-deployments for more information.\\\\n4. View the diagnostic events to check status of container, it may help you to debug the issue. {\\\\\\\"restartCount\\\\\\\":7,\\\\\\\"currentState\\\\\\\":{\\\\\\\"state\\\\\\\":\\\\\\\"Waiting\\\\\\\",\\\\\\\"startTime\\\\\\\":null,\\\\\\\"exitCode\\\\\\\":null,\\\\\\\"finishTime\\\\\\\":null,\\\\\\\"detailStatus\\\\\\\":\\\\\\\"CrashLoopBackOff: Back-off restarting failed\\\\\\\"},\\\\\\\"previousState\\\\\\\":{\\\\\\\"state\\\\\\\":\\\\\\\"Terminated\\\\\\\",\\\\\\\"startTime\\\\\\\":\\\\\\\"2020-12-29T01:35:34.203Z\\\\\\\",\\\\\\\"exitCode\\\\\\\":111,\\\\\\\"finishTime\\\\\\\":\\\\\\\"2020-12-29T01:35:46.168Z\\\\\\\",\\\\\\\"detailStatus\\\\\\\":\\\\\\\"Error\\\\\\\"},\\\\\\\"events\\\\\\\":null}\\\"\\n    }\\n  ]\\n}\"\n    }\n}"
     ]
    }
   ],
   "source": [
    "print(\"scoring URI: \" + service2.scoring_uri)\n"
   ]
  },
  {
   "cell_type": "markdown",
   "metadata": {
    "collapsed": true,
    "gather": {
     "logged": 1598431657736
    },
    "jupyter": {
     "outputs_hidden": false,
     "source_hidden": false
    },
    "nteract": {
     "transient": {
      "deleting": false
     }
    }
   },
   "source": [
    "TODO: In the cell below, send a request to the web service you deployed to test it."
   ]
  },
  {
   "cell_type": "code",
   "execution_count": null,
   "metadata": {
    "gather": {
     "logged": 1598432707604
    },
    "jupyter": {
     "outputs_hidden": false,
     "source_hidden": false
    },
    "nteract": {
     "transient": {
      "deleting": false
     }
    }
   },
   "outputs": [],
   "source": [
    "scoring_uri = 'scoring uri for your service'\n",
    "headers = {'Content-Type':'application/json'}\n",
    "\n",
    "test_data = json.dumps({'data':[{\n",
    "    'age':75,\n",
    "    'anaemia':0,\n",
    "    'creatinine_phosphokinase':582,\n",
    "    'diabetes':0,\n",
    "    'ejection_fraction':20,\n",
    "    'high_blood_pressure':1,\n",
    "    'platelets':265000,\n",
    "    'serum_creatinine':1.9,\n",
    "    'serum_sodium':130,\n",
    "    'sex':1,\n",
    "    'smoking':0,\n",
    "    'time':4}\n",
    "    ]\n",
    "        })\n",
    "\n",
    "response = requests.post(scoring_uri, data=test_data, headers=headers)\n",
    "\n",
    "print(\"Result:\",response.text)"
   ]
  },
  {
   "cell_type": "code",
   "execution_count": null,
   "metadata": {},
   "outputs": [],
   "source": [
    "# myenv.save_to_directory('./training',overwrite=False)\n",
    "\n",
    "print(service.get_logs())"
   ]
  },
  {
   "cell_type": "markdown",
   "metadata": {
    "collapsed": true,
    "gather": {
     "logged": 1598432765711
    },
    "jupyter": {
     "outputs_hidden": false,
     "source_hidden": false
    },
    "nteract": {
     "transient": {
      "deleting": false
     }
    }
   },
   "source": [
    "TODO: In the cell below, print the logs of the web service and delete the service"
   ]
  },
  {
   "cell_type": "code",
   "execution_count": null,
   "metadata": {
    "jupyter": {
     "outputs_hidden": false,
     "source_hidden": false
    },
    "nteract": {
     "transient": {
      "deleting": false
     }
    }
   },
   "outputs": [],
   "source": [
    "print(response.status_code)\n",
    "print(response.elapsed)\n",
    "print(response.json())\n",
    "service.delete()\n"
   ]
  },
  {
   "cell_type": "code",
   "execution_count": 25,
   "metadata": {
    "collapsed": true,
    "gather": {
     "logged": 1609207232983
    },
    "jupyter": {
     "outputs_hidden": false,
     "source_hidden": false
    },
    "nteract": {
     "transient": {
      "deleting": false
     }
    }
   },
   "outputs": [],
   "source": []
  }
 ],
 "metadata": {
  "kernel_info": {
   "name": "python3"
  },
  "kernelspec": {
   "display_name": "Python 3",
   "language": "python",
   "name": "python3"
  },
  "language_info": {
   "codemirror_mode": {
    "name": "ipython",
    "version": 3
   },
   "file_extension": ".py",
   "mimetype": "text/x-python",
   "name": "python",
   "nbconvert_exporter": "python",
   "pygments_lexer": "ipython3",
   "version": "3.8.3"
  },
  "nteract": {
   "version": "nteract-front-end@1.0.0"
  }
 },
 "nbformat": 4,
 "nbformat_minor": 2
}
