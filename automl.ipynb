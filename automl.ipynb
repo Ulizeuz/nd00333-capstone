{
  "cells": [
    {
      "cell_type": "markdown",
      "source": [
        "# Automated ML\n",
        "\n",
        "TODO: Import Dependencies. In the cell below, import all the dependencies that you will need to complete the project."
      ],
      "metadata": {}
    },
    {
      "cell_type": "code",
      "source": [
        "# Import Dependencies.\n",
        "\n",
        "from azureml.core.experiment import Experiment\n",
        "from azureml.core.workspace import Workspace\n",
        "\n",
        "from azureml.core.compute import AmlCompute\n",
        "from azureml.core.compute import ComputeTarget\n",
        "from azureml.core.compute_target import ComputeTargetException\n",
        "\n",
        "import logging\n",
        "import os\n",
        "\n",
        "import azureml.core\n",
        "from azureml.train.automl import AutoMLConfig\n",
        "from azureml.core.dataset import Dataset\n",
        "from azureml.data.dataset_factory import TabularDatasetFactory\n",
        "\n",
        "from sklearn.model_selection import train_test_split\n",
        "\n",
        "import pandas as pd\n",
        "from azureml.widgets import RunDetails\n",
        "\n",
        "import joblib \n",
        "\n",
        "from azureml.core.model import Model\n",
        "\n",
        "from azureml.pipeline.core import PipelineData, TrainingOutput\n",
        "\n",
        "from azureml.pipeline.core import Pipeline\n",
        "\n",
        "import pickle\n",
        "\n",
        "from azureml.core.model import InferenceConfig\n",
        "from azureml.core.environment import Environment\n",
        "from azureml.core.conda_dependencies import CondaDependencies\n",
        "\n",
        "from azureml.core.webservice import Webservice, AciWebservice\n",
        "\n",
        "import requests\n",
        "import json\n",
        "\n",
        "# Check core SDK version number\n",
        "print(\"SDK version:\", azureml.core.VERSION)"
      ],
      "outputs": [
        {
          "output_type": "stream",
          "name": "stdout",
          "text": [
            "SDK version: 1.19.0\n"
          ]
        }
      ],
      "execution_count": 1,
      "metadata": {
        "gather": {
          "logged": 1609296816574
        },
        "jupyter": {
          "outputs_hidden": false,
          "source_hidden": false
        },
        "nteract": {
          "transient": {
            "deleting": false
          }
        }
      }
    },
    {
      "cell_type": "markdown",
      "source": [
        "## Dataset\n",
        "\n",
        "### Overview\n",
        "\n",
        "There are some factors that affects Death Event. We use Kaggle's dataset Heart Failure Clinical Records which contains  information like age, sex, blood pressure, smoke, diabetes, ejection fraction, creatinine phosphokinase, serum_creatinine, serum_sodium, time and we have to predict their death_event.\n",
        "\n",
        "Dataset was uploaded and register as dataset in the workspace\n"
      ],
      "metadata": {}
    },
    {
      "cell_type": "code",
      "source": [
        "# Create a workspace\n",
        "\n",
        "ws = Workspace.from_config()\n",
        "print(ws.name, ws.resource_group, ws.location, ws.subscription_id, sep = '\\n')\n"
      ],
      "outputs": [
        {
          "output_type": "stream",
          "name": "stdout",
          "text": [
            "quick-starts-ws-132429\n",
            "aml-quickstarts-132429\n",
            "southcentralus\n",
            "1b944a9b-fdae-4f97-aeb1-b7eea0beac53\n"
          ]
        }
      ],
      "execution_count": 2,
      "metadata": {
        "gather": {
          "logged": 1609296825386
        },
        "jupyter": {
          "outputs_hidden": false,
          "source_hidden": false
        },
        "nteract": {
          "transient": {
            "deleting": false
          }
        }
      }
    },
    {
      "cell_type": "code",
      "source": [
        "# choose a name for experiment\n",
        "experiment_name = 'ml-experiment-1'\n",
        "project_folder = './pipeline-project'\n",
        "\n",
        "experiment=Experiment(ws, experiment_name)\n",
        "\n",
        "experiment\n",
        "\n"
      ],
      "outputs": [
        {
          "output_type": "execute_result",
          "execution_count": 3,
          "data": {
            "text/plain": "Experiment(Name: ml-experiment-1,\nWorkspace: quick-starts-ws-132429)",
            "text/html": "<table style=\"width:100%\"><tr><th>Name</th><th>Workspace</th><th>Report Page</th><th>Docs Page</th></tr><tr><td>ml-experiment-1</td><td>quick-starts-ws-132429</td><td><a href=\"https://ml.azure.com/experiments/ml-experiment-1?wsid=/subscriptions/1b944a9b-fdae-4f97-aeb1-b7eea0beac53/resourcegroups/aml-quickstarts-132429/workspaces/quick-starts-ws-132429\" target=\"_blank\" rel=\"noopener\">Link to Azure Machine Learning studio</a></td><td><a href=\"https://docs.microsoft.com/en-us/python/api/azureml-core/azureml.core.experiment.Experiment?view=azure-ml-py\" target=\"_blank\" rel=\"noopener\">Link to Documentation</a></td></tr></table>"
          },
          "metadata": {}
        }
      ],
      "execution_count": 3,
      "metadata": {
        "gather": {
          "logged": 1609296830269
        }
      }
    },
    {
      "cell_type": "code",
      "source": [
        "# NOTE: update the cluster name to match the existing cluster\n",
        "# Choose a name for your CPU cluster\n",
        "\n",
        "amlcompute_cluster_name = \"notebook132429\"\n",
        "\n",
        "# Verify that cluster does not exist already\n",
        "\n",
        "try:\n",
        "    compute_target = ComputeTarget(workspace=ws, name=amlcompute_cluster_name)\n",
        "    print('Found existing cluster, use it.')\n",
        "except ComputeTargetException:\n",
        "    compute_config = AmlCompute.provisioning_configuration(vm_size='STANDARD_D2_V2',# for GPU, use \"STANDARD_NC6\"\n",
        "                                                           #vm_priority = 'lowpriority', # optional\n",
        "                                                           max_nodes=4)\n",
        "    compute_target = ComputeTarget.create(ws, amlcompute_cluster_name, compute_config)\n",
        "\n",
        "compute_target.wait_for_completion(show_output=True)\n",
        "\n",
        "# For a more detailed view of current AmlCompute status, use get_status().\n"
      ],
      "outputs": [
        {
          "output_type": "stream",
          "name": "stdout",
          "text": [
            "Found existing cluster, use it.\n",
            "\n",
            "Running\n"
          ]
        }
      ],
      "execution_count": 5,
      "metadata": {
        "gather": {
          "logged": 1609296901474
        }
      }
    },
    {
      "cell_type": "code",
      "source": [
        "# dataset = Dataset.get_by_name(ws, name='heart')\n",
        "# ds = dataset.to_pandas_dataframe()\n",
        "# ds"
      ],
      "outputs": [],
      "execution_count": null,
      "metadata": {
        "gather": {
          "logged": 1609125910393
        }
      }
    },
    {
      "cell_type": "code",
      "source": [
        "#upload Heart Failure Dataset\n",
        "\n",
        "data = pd.read_csv(\"heart_failure_clinical_records_dataset.csv\")\n",
        "data.describe()"
      ],
      "outputs": [
        {
          "output_type": "execute_result",
          "execution_count": 6,
          "data": {
            "text/plain": "              age     anaemia  creatinine_phosphokinase    diabetes  \\\ncount  299.000000  299.000000                299.000000  299.000000   \nmean    60.833893    0.431438                581.839465    0.418060   \nstd     11.894809    0.496107                970.287881    0.494067   \nmin     40.000000    0.000000                 23.000000    0.000000   \n25%     51.000000    0.000000                116.500000    0.000000   \n50%     60.000000    0.000000                250.000000    0.000000   \n75%     70.000000    1.000000                582.000000    1.000000   \nmax     95.000000    1.000000               7861.000000    1.000000   \n\n       ejection_fraction  high_blood_pressure      platelets  \\\ncount         299.000000           299.000000     299.000000   \nmean           38.083612             0.351171  263358.029264   \nstd            11.834841             0.478136   97804.236869   \nmin            14.000000             0.000000   25100.000000   \n25%            30.000000             0.000000  212500.000000   \n50%            38.000000             0.000000  262000.000000   \n75%            45.000000             1.000000  303500.000000   \nmax            80.000000             1.000000  850000.000000   \n\n       serum_creatinine  serum_sodium         sex    smoking        time  \\\ncount         299.00000    299.000000  299.000000  299.00000  299.000000   \nmean            1.39388    136.625418    0.648829    0.32107  130.260870   \nstd             1.03451      4.412477    0.478136    0.46767   77.614208   \nmin             0.50000    113.000000    0.000000    0.00000    4.000000   \n25%             0.90000    134.000000    0.000000    0.00000   73.000000   \n50%             1.10000    137.000000    1.000000    0.00000  115.000000   \n75%             1.40000    140.000000    1.000000    1.00000  203.000000   \nmax             9.40000    148.000000    1.000000    1.00000  285.000000   \n\n       DEATH_EVENT  \ncount    299.00000  \nmean       0.32107  \nstd        0.46767  \nmin        0.00000  \n25%        0.00000  \n50%        0.00000  \n75%        1.00000  \nmax        1.00000  ",
            "text/html": "<div>\n<style scoped>\n    .dataframe tbody tr th:only-of-type {\n        vertical-align: middle;\n    }\n\n    .dataframe tbody tr th {\n        vertical-align: top;\n    }\n\n    .dataframe thead th {\n        text-align: right;\n    }\n</style>\n<table border=\"1\" class=\"dataframe\">\n  <thead>\n    <tr style=\"text-align: right;\">\n      <th></th>\n      <th>age</th>\n      <th>anaemia</th>\n      <th>creatinine_phosphokinase</th>\n      <th>diabetes</th>\n      <th>ejection_fraction</th>\n      <th>high_blood_pressure</th>\n      <th>platelets</th>\n      <th>serum_creatinine</th>\n      <th>serum_sodium</th>\n      <th>sex</th>\n      <th>smoking</th>\n      <th>time</th>\n      <th>DEATH_EVENT</th>\n    </tr>\n  </thead>\n  <tbody>\n    <tr>\n      <th>count</th>\n      <td>299.000000</td>\n      <td>299.000000</td>\n      <td>299.000000</td>\n      <td>299.000000</td>\n      <td>299.000000</td>\n      <td>299.000000</td>\n      <td>299.000000</td>\n      <td>299.00000</td>\n      <td>299.000000</td>\n      <td>299.000000</td>\n      <td>299.00000</td>\n      <td>299.000000</td>\n      <td>299.00000</td>\n    </tr>\n    <tr>\n      <th>mean</th>\n      <td>60.833893</td>\n      <td>0.431438</td>\n      <td>581.839465</td>\n      <td>0.418060</td>\n      <td>38.083612</td>\n      <td>0.351171</td>\n      <td>263358.029264</td>\n      <td>1.39388</td>\n      <td>136.625418</td>\n      <td>0.648829</td>\n      <td>0.32107</td>\n      <td>130.260870</td>\n      <td>0.32107</td>\n    </tr>\n    <tr>\n      <th>std</th>\n      <td>11.894809</td>\n      <td>0.496107</td>\n      <td>970.287881</td>\n      <td>0.494067</td>\n      <td>11.834841</td>\n      <td>0.478136</td>\n      <td>97804.236869</td>\n      <td>1.03451</td>\n      <td>4.412477</td>\n      <td>0.478136</td>\n      <td>0.46767</td>\n      <td>77.614208</td>\n      <td>0.46767</td>\n    </tr>\n    <tr>\n      <th>min</th>\n      <td>40.000000</td>\n      <td>0.000000</td>\n      <td>23.000000</td>\n      <td>0.000000</td>\n      <td>14.000000</td>\n      <td>0.000000</td>\n      <td>25100.000000</td>\n      <td>0.50000</td>\n      <td>113.000000</td>\n      <td>0.000000</td>\n      <td>0.00000</td>\n      <td>4.000000</td>\n      <td>0.00000</td>\n    </tr>\n    <tr>\n      <th>25%</th>\n      <td>51.000000</td>\n      <td>0.000000</td>\n      <td>116.500000</td>\n      <td>0.000000</td>\n      <td>30.000000</td>\n      <td>0.000000</td>\n      <td>212500.000000</td>\n      <td>0.90000</td>\n      <td>134.000000</td>\n      <td>0.000000</td>\n      <td>0.00000</td>\n      <td>73.000000</td>\n      <td>0.00000</td>\n    </tr>\n    <tr>\n      <th>50%</th>\n      <td>60.000000</td>\n      <td>0.000000</td>\n      <td>250.000000</td>\n      <td>0.000000</td>\n      <td>38.000000</td>\n      <td>0.000000</td>\n      <td>262000.000000</td>\n      <td>1.10000</td>\n      <td>137.000000</td>\n      <td>1.000000</td>\n      <td>0.00000</td>\n      <td>115.000000</td>\n      <td>0.00000</td>\n    </tr>\n    <tr>\n      <th>75%</th>\n      <td>70.000000</td>\n      <td>1.000000</td>\n      <td>582.000000</td>\n      <td>1.000000</td>\n      <td>45.000000</td>\n      <td>1.000000</td>\n      <td>303500.000000</td>\n      <td>1.40000</td>\n      <td>140.000000</td>\n      <td>1.000000</td>\n      <td>1.00000</td>\n      <td>203.000000</td>\n      <td>1.00000</td>\n    </tr>\n    <tr>\n      <th>max</th>\n      <td>95.000000</td>\n      <td>1.000000</td>\n      <td>7861.000000</td>\n      <td>1.000000</td>\n      <td>80.000000</td>\n      <td>1.000000</td>\n      <td>850000.000000</td>\n      <td>9.40000</td>\n      <td>148.000000</td>\n      <td>1.000000</td>\n      <td>1.00000</td>\n      <td>285.000000</td>\n      <td>1.00000</td>\n    </tr>\n  </tbody>\n</table>\n</div>"
          },
          "metadata": {}
        }
      ],
      "execution_count": 6,
      "metadata": {
        "gather": {
          "logged": 1609296909074
        },
        "jupyter": {
          "outputs_hidden": false,
          "source_hidden": false
        },
        "nteract": {
          "transient": {
            "deleting": false
          }
        }
      }
    },
    {
      "cell_type": "code",
      "source": [
        "train, test = train_test_split(data, test_size=0.2, random_state=1 )\n",
        "\n",
        "if \"training\" not in os.listdir():\n",
        "    os.mkdir(\"./training\")\n",
        "\n",
        "if \"models\" not in os.listdir():\n",
        "    os.mkdir(\"./models\")\n",
        "\n",
        "train.to_csv(\"training/train_data.csv\", index = False)\n",
        "\n",
        "data_store = ws.get_default_datastore()\n",
        "data_store.upload(src_dir = \"./training\", target_path = 'udacity-project', overwrite = True,  show_progress = True)\n"
      ],
      "outputs": [
        {
          "output_type": "stream",
          "name": "stdout",
          "text": [
            "Uploading an estimated of 1 files\n",
            "Uploading ./training/train_data.csv\n",
            "Uploaded ./training/train_data.csv, 1 files out of an estimated total of 1\n",
            "Uploaded 1 files\n"
          ]
        },
        {
          "output_type": "execute_result",
          "execution_count": 7,
          "data": {
            "text/plain": "$AZUREML_DATAREFERENCE_8e99f9b1b8744b0f887a40d672893118"
          },
          "metadata": {}
        }
      ],
      "execution_count": 7,
      "metadata": {
        "gather": {
          "logged": 1609296917097
        }
      }
    },
    {
      "cell_type": "code",
      "source": [
        "train_data = Dataset.Tabular.from_delimited_files(path=data_store.path(\"udacity-project/train_data.csv\"))\n",
        "# train=TabularDatasetFactory.from_delimited_files([(data_store, 'training/train_data.csv')])\n"
      ],
      "outputs": [],
      "execution_count": 8,
      "metadata": {
        "gather": {
          "logged": 1609296928190
        }
      }
    },
    {
      "cell_type": "code",
      "source": [],
      "outputs": [],
      "execution_count": null,
      "metadata": {
        "gather": {
          "logged": 1608759287765
        }
      }
    },
    {
      "cell_type": "markdown",
      "source": [
        "## AutoML Configuration\n",
        "\n",
        "TODO: Explain why you chose the automl settings and cofiguration you used below.\n",
        "\n",
        "We are trying to predict DEATH_EVENT, therefore we need to define the task as classification. Also define Featurization as auto and enable early stopping and the primary metric AUC_weighted"
      ],
      "metadata": {}
    },
    {
      "cell_type": "code",
      "source": [
        "# TODO: Put your automl settings here\n",
        "automl_settings = {\n",
        "    \"experiment_timeout_minutes\": 20,\n",
        "    \"max_concurrent_iterations\": 5,\n",
        "    \"primary_metric\" : 'AUC_weighted'    \n",
        "}\n",
        "\n",
        "# TODO: Put your automl config here\n",
        "automl_config = AutoMLConfig(\n",
        "    \n",
        "    compute_target = compute_target,\n",
        "    task = \"classification\",\n",
        "    training_data = train_data,\n",
        "    label_column_name = \"DEATH_EVENT\",   \n",
        "    path = project_folder,\n",
        "    enable_early_stopping= True,\n",
        "    featurization= 'auto',\n",
        "    debug_log = \"automl_errors.log\",\n",
        "    **automl_settings \n",
        ")"
      ],
      "outputs": [],
      "execution_count": 9,
      "metadata": {
        "gather": {
          "logged": 1609296937830
        },
        "jupyter": {
          "outputs_hidden": false,
          "source_hidden": false
        },
        "nteract": {
          "transient": {
            "deleting": false
          }
        }
      }
    },
    {
      "cell_type": "code",
      "source": [
        "# TODO: Submit your experiment"
      ],
      "outputs": [],
      "execution_count": null,
      "metadata": {
        "gather": {
          "logged": 1608761042998
        },
        "jupyter": {
          "outputs_hidden": false,
          "source_hidden": false
        },
        "nteract": {
          "transient": {
            "deleting": false
          }
        }
      }
    },
    {
      "cell_type": "code",
      "source": [
        "remote_run = experiment.submit(automl_config, show_output = True)\n",
        "RunDetails(remote_run).show()\n"
      ],
      "outputs": [
        {
          "output_type": "stream",
          "name": "stdout",
          "text": [
            "Running on remote.\n",
            "No run_configuration provided, running on notebook132429 with default configuration\n",
            "Running on remote compute: notebook132429\n",
            "Parent Run ID: AutoML_b5e41e6c-d318-45f0-9c08-c3653e9d943d\n",
            "\n",
            "Current status: FeaturesGeneration. Generating features for the dataset.\n",
            "Current status: DatasetCrossValidationSplit. Generating individually featurized CV splits.\n",
            "Current status: ModelSelection. Beginning model selection.\n",
            "\n",
            "****************************************************************************************************\n",
            "DATA GUARDRAILS: \n",
            "\n",
            "TYPE:         Cross validation\n",
            "STATUS:       DONE\n",
            "DESCRIPTION:  Each iteration of the trained model was validated through cross-validation.\n",
            "              \n",
            "DETAILS:      \n",
            "+---------------------------------+\n",
            "|Number of folds                  |\n",
            "+=================================+\n",
            "|10                               |\n",
            "+---------------------------------+\n",
            "\n",
            "****************************************************************************************************\n",
            "\n",
            "TYPE:         Class balancing detection\n",
            "STATUS:       PASSED\n",
            "DESCRIPTION:  Your inputs were analyzed, and all classes are balanced in your training data.\n",
            "              Learn more about imbalanced data: https://aka.ms/AutomatedMLImbalancedData\n",
            "\n",
            "****************************************************************************************************\n",
            "\n",
            "TYPE:         Missing feature values imputation\n",
            "STATUS:       PASSED\n",
            "DESCRIPTION:  No feature missing values were detected in the training data.\n",
            "              Learn more about missing value imputation: https://aka.ms/AutomatedMLFeaturization\n",
            "\n",
            "****************************************************************************************************\n",
            "\n",
            "TYPE:         High cardinality feature detection\n",
            "STATUS:       PASSED\n",
            "DESCRIPTION:  Your inputs were analyzed, and no high cardinality features were detected.\n",
            "              Learn more about high cardinality feature handling: https://aka.ms/AutomatedMLFeaturization\n",
            "\n",
            "****************************************************************************************************\n",
            "\n",
            "****************************************************************************************************\n",
            "ITERATION: The iteration being evaluated.\n",
            "PIPELINE: A summary description of the pipeline being evaluated.\n",
            "DURATION: Time taken for the current iteration.\n",
            "METRIC: The result of computing score on the fitted pipeline.\n",
            "BEST: The best observed score thus far.\n",
            "****************************************************************************************************\n",
            "\n",
            " ITERATION   PIPELINE                                       DURATION      METRIC      BEST\n",
            "         0   MaxAbsScaler LightGBM                          0:01:04       0.8901    0.8901\n",
            "         1   MaxAbsScaler XGBoostClassifier                 0:01:06       0.8879    0.8901\n",
            "         2   MinMaxScaler RandomForest                      0:01:06       0.8860    0.8901\n",
            "         3   RobustScaler ExtremeRandomTrees                0:01:04       0.8743    0.8901\n",
            "         4   MinMaxScaler RandomForest                      0:01:07       0.8943    0.8943\n",
            "         5   MinMaxScaler RandomForest                      0:01:11       0.9110    0.9110\n",
            "         7   MinMaxScaler ExtremeRandomTrees                0:01:05       0.8966    0.9110\n",
            "         8   MinMaxScaler ExtremeRandomTrees                0:01:06       0.8490    0.9110\n",
            "         6   StandardScalerWrapper RandomForest             0:01:47       0.8829    0.9110\n",
            "         9   SparseNormalizer KNN                           0:01:54       0.7183    0.9110\n",
            "        10   MinMaxScaler ExtremeRandomTrees                0:00:58       0.8770    0.9110\n",
            "        12   StandardScalerWrapper RandomForest             0:00:56       0.8971    0.9110\n",
            "        11   RobustScaler ExtremeRandomTrees                0:00:59       0.8814    0.9110\n",
            "        13   StandardScalerWrapper SGD                      0:01:17       0.8498    0.9110\n",
            "        14   RobustScaler RandomForest                      0:01:10       0.9045    0.9110\n",
            "        15   StandardScalerWrapper KNN                      0:01:03       0.5876    0.9110\n",
            "        16   MinMaxScaler RandomForest                      0:01:06       0.8730    0.9110\n",
            "        17   MinMaxScaler ExtremeRandomTrees                0:00:59       0.8326    0.9110\n",
            "        18   MaxAbsScaler RandomForest                      0:01:04       0.8920    0.9110\n",
            "        19   StandardScalerWrapper XGBoostClassifier        0:01:02       0.8926    0.9110\n",
            "        21   MaxAbsScaler ExtremeRandomTrees                0:01:02       0.8598    0.9110\n",
            "        22   MaxAbsScaler ExtremeRandomTrees                0:01:00       0.8421    0.9110\n",
            "        20   MaxAbsScaler RandomForest                      0:01:14       0.8782    0.9110\n",
            "        24   MaxAbsScaler RandomForest                      0:01:09       0.8843    0.9110\n",
            "        23   MinMaxScaler RandomForest                      0:01:23       0.9103    0.9110\n",
            "        25   MinMaxScaler RandomForest                      0:00:59       0.9274    0.9274\n",
            "        26   MaxAbsScaler LightGBM                          0:00:59       0.8498    0.9274\n",
            "        27   RobustScaler RandomForest                      0:01:31       0.8977    0.9274\n",
            "        28   StandardScalerWrapper XGBoostClassifier        0:00:55       0.8972    0.9274\n",
            "        30   MinMaxScaler RandomForest                      0:01:24       0.8064    0.9274\n",
            "        29   RobustScaler RandomForest                      0:01:45       0.9170    0.9274\n",
            "        31   StandardScalerWrapper RandomForest             0:01:36       0.9077    0.9274\n",
            "        32   MinMaxScaler RandomForest                      0:01:23       0.9157    0.9274\n",
            "        33   StandardScalerWrapper XGBoostClassifier        0:01:06       0.8761    0.9274\n",
            "        34   StandardScalerWrapper LogisticRegression       0:01:19       0.8448    0.9274\n",
            "        35   MinMaxScaler RandomForest                      0:01:19       0.9005    0.9274\n",
            "        37   RobustScaler GradientBoosting                  0:01:11       0.9091    0.9274\n",
            "        38   MinMaxScaler LogisticRegression                0:01:03       0.8535    0.9274\n",
            "        36   StandardScalerWrapper GradientBoosting         0:01:50       0.9096    0.9274\n",
            "        39   RobustScaler LightGBM                          0:01:15       0.9114    0.9274\n",
            "        40   MaxAbsScaler RandomForest                      0:01:02       0.8703    0.9274\n",
            "        41   MinMaxScaler RandomForest                      0:00:50          nan    0.9274\n",
            "        42   StandardScalerWrapper ExtremeRandomTrees       0:00:43          nan    0.9274\n",
            "        43    VotingEnsemble                                0:02:24       0.9312    0.9312\n",
            "        44    StackEnsemble                                 0:02:32       0.9191    0.9312\n"
          ]
        },
        {
          "output_type": "display_data",
          "data": {
            "text/plain": "_AutoMLWidget(widget_settings={'childWidgetDisplay': 'popup', 'send_telemetry': False, 'log_level': 'INFO', 's…",
            "application/vnd.jupyter.widget-view+json": {
              "version_major": 2,
              "version_minor": 0,
              "model_id": "2c7c92ca1a6e409b90608911f92f9c1c"
            }
          },
          "metadata": {}
        },
        {
          "output_type": "display_data",
          "data": {
            "application/aml.mini.widget.v1": "{\"status\": \"Completed\", \"workbench_run_details_uri\": \"https://ml.azure.com/experiments/ml-experiment-1/runs/AutoML_b5e41e6c-d318-45f0-9c08-c3653e9d943d?wsid=/subscriptions/1b944a9b-fdae-4f97-aeb1-b7eea0beac53/resourcegroups/aml-quickstarts-132429/workspaces/quick-starts-ws-132429\", \"run_id\": \"AutoML_b5e41e6c-d318-45f0-9c08-c3653e9d943d\", \"run_properties\": {\"run_id\": \"AutoML_b5e41e6c-d318-45f0-9c08-c3653e9d943d\", \"created_utc\": \"2020-12-30T02:55:45.807453Z\", \"properties\": {\"num_iterations\": \"1000\", \"training_type\": \"TrainFull\", \"acquisition_function\": \"EI\", \"primary_metric\": \"AUC_weighted\", \"train_split\": \"0\", \"acquisition_parameter\": \"0\", \"num_cross_validation\": null, \"target\": \"notebook132429\", \"AMLSettingsJsonString\": \"{\\\"path\\\":null,\\\"name\\\":\\\"ml-experiment-1\\\",\\\"subscription_id\\\":\\\"1b944a9b-fdae-4f97-aeb1-b7eea0beac53\\\",\\\"resource_group\\\":\\\"aml-quickstarts-132429\\\",\\\"workspace_name\\\":\\\"quick-starts-ws-132429\\\",\\\"region\\\":\\\"southcentralus\\\",\\\"compute_target\\\":\\\"notebook132429\\\",\\\"spark_service\\\":null,\\\"azure_service\\\":\\\"remote\\\",\\\"many_models\\\":false,\\\"pipeline_fetch_max_batch_size\\\":1,\\\"iterations\\\":1000,\\\"primary_metric\\\":\\\"AUC_weighted\\\",\\\"task_type\\\":\\\"classification\\\",\\\"data_script\\\":null,\\\"validation_size\\\":0.0,\\\"n_cross_validations\\\":null,\\\"y_min\\\":null,\\\"y_max\\\":null,\\\"num_classes\\\":null,\\\"featurization\\\":\\\"auto\\\",\\\"_ignore_package_version_incompatibilities\\\":false,\\\"is_timeseries\\\":false,\\\"max_cores_per_iteration\\\":1,\\\"max_concurrent_iterations\\\":5,\\\"iteration_timeout_minutes\\\":null,\\\"mem_in_mb\\\":null,\\\"enforce_time_on_windows\\\":false,\\\"experiment_timeout_minutes\\\":20,\\\"experiment_exit_score\\\":null,\\\"whitelist_models\\\":null,\\\"blacklist_algos\\\":[\\\"TensorFlowLinearClassifier\\\",\\\"TensorFlowDNN\\\"],\\\"supported_models\\\":[\\\"LogisticRegression\\\",\\\"MultinomialNaiveBayes\\\",\\\"TensorFlowLinearClassifier\\\",\\\"BernoulliNaiveBayes\\\",\\\"XGBoostClassifier\\\",\\\"GradientBoosting\\\",\\\"ExtremeRandomTrees\\\",\\\"DecisionTree\\\",\\\"SGD\\\",\\\"KNN\\\",\\\"RandomForest\\\",\\\"TensorFlowDNN\\\",\\\"LinearSVM\\\",\\\"SVM\\\",\\\"LightGBM\\\",\\\"AveragedPerceptronClassifier\\\"],\\\"auto_blacklist\\\":true,\\\"blacklist_samples_reached\\\":false,\\\"exclude_nan_labels\\\":true,\\\"verbosity\\\":20,\\\"_debug_log\\\":\\\"azureml_automl.log\\\",\\\"show_warnings\\\":false,\\\"model_explainability\\\":true,\\\"service_url\\\":null,\\\"sdk_url\\\":null,\\\"sdk_packages\\\":null,\\\"enable_onnx_compatible_models\\\":false,\\\"enable_split_onnx_featurizer_estimator_models\\\":false,\\\"vm_type\\\":\\\"STANDARD_DS3_V2\\\",\\\"telemetry_verbosity\\\":20,\\\"send_telemetry\\\":true,\\\"enable_dnn\\\":false,\\\"scenario\\\":\\\"SDK-1.13.0\\\",\\\"environment_label\\\":null,\\\"force_text_dnn\\\":false,\\\"enable_feature_sweeping\\\":true,\\\"enable_early_stopping\\\":true,\\\"early_stopping_n_iters\\\":10,\\\"metrics\\\":null,\\\"enable_ensembling\\\":true,\\\"enable_stack_ensembling\\\":true,\\\"ensemble_iterations\\\":15,\\\"enable_tf\\\":false,\\\"enable_subsampling\\\":null,\\\"subsample_seed\\\":null,\\\"enable_nimbusml\\\":false,\\\"enable_streaming\\\":false,\\\"force_streaming\\\":false,\\\"track_child_runs\\\":true,\\\"allowed_private_models\\\":[],\\\"label_column_name\\\":\\\"DEATH_EVENT\\\",\\\"weight_column_name\\\":null,\\\"cv_split_column_names\\\":null,\\\"enable_local_managed\\\":false,\\\"_local_managed_run_id\\\":null,\\\"cost_mode\\\":1,\\\"lag_length\\\":0,\\\"metric_operation\\\":\\\"maximize\\\",\\\"preprocess\\\":true}\", \"DataPrepJsonString\": \"{\\\\\\\"training_data\\\\\\\": \\\\\\\"{\\\\\\\\\\\\\\\"blocks\\\\\\\\\\\\\\\": [{\\\\\\\\\\\\\\\"id\\\\\\\\\\\\\\\": \\\\\\\\\\\\\\\"5e934d55-225a-4792-b35b-4491f8a43d16\\\\\\\\\\\\\\\", \\\\\\\\\\\\\\\"type\\\\\\\\\\\\\\\": \\\\\\\\\\\\\\\"Microsoft.DPrep.GetDatastoreFilesBlock\\\\\\\\\\\\\\\", \\\\\\\\\\\\\\\"arguments\\\\\\\\\\\\\\\": {\\\\\\\\\\\\\\\"datastores\\\\\\\\\\\\\\\": [{\\\\\\\\\\\\\\\"datastoreName\\\\\\\\\\\\\\\": \\\\\\\\\\\\\\\"workspaceblobstore\\\\\\\\\\\\\\\", \\\\\\\\\\\\\\\"path\\\\\\\\\\\\\\\": \\\\\\\\\\\\\\\"udacity-project/train_data.csv\\\\\\\\\\\\\\\", \\\\\\\\\\\\\\\"resourceGroup\\\\\\\\\\\\\\\": \\\\\\\\\\\\\\\"aml-quickstarts-132429\\\\\\\\\\\\\\\", \\\\\\\\\\\\\\\"subscription\\\\\\\\\\\\\\\": \\\\\\\\\\\\\\\"1b944a9b-fdae-4f97-aeb1-b7eea0beac53\\\\\\\\\\\\\\\", \\\\\\\\\\\\\\\"workspaceName\\\\\\\\\\\\\\\": \\\\\\\\\\\\\\\"quick-starts-ws-132429\\\\\\\\\\\\\\\"}]}, \\\\\\\\\\\\\\\"localData\\\\\\\\\\\\\\\": {}, \\\\\\\\\\\\\\\"isEnabled\\\\\\\\\\\\\\\": true, \\\\\\\\\\\\\\\"name\\\\\\\\\\\\\\\": null, \\\\\\\\\\\\\\\"annotation\\\\\\\\\\\\\\\": null}, {\\\\\\\\\\\\\\\"id\\\\\\\\\\\\\\\": \\\\\\\\\\\\\\\"72c9e7d5-8554-4aa5-970d-877262b68d18\\\\\\\\\\\\\\\", \\\\\\\\\\\\\\\"type\\\\\\\\\\\\\\\": \\\\\\\\\\\\\\\"Microsoft.DPrep.ParseDelimitedBlock\\\\\\\\\\\\\\\", \\\\\\\\\\\\\\\"arguments\\\\\\\\\\\\\\\": {\\\\\\\\\\\\\\\"columnHeadersMode\\\\\\\\\\\\\\\": 3, \\\\\\\\\\\\\\\"fileEncoding\\\\\\\\\\\\\\\": 0, \\\\\\\\\\\\\\\"handleQuotedLineBreaks\\\\\\\\\\\\\\\": false, \\\\\\\\\\\\\\\"preview\\\\\\\\\\\\\\\": false, \\\\\\\\\\\\\\\"separator\\\\\\\\\\\\\\\": \\\\\\\\\\\\\\\",\\\\\\\\\\\\\\\", \\\\\\\\\\\\\\\"skipRows\\\\\\\\\\\\\\\": 0, \\\\\\\\\\\\\\\"skipRowsMode\\\\\\\\\\\\\\\": 0}, \\\\\\\\\\\\\\\"localData\\\\\\\\\\\\\\\": {}, \\\\\\\\\\\\\\\"isEnabled\\\\\\\\\\\\\\\": true, \\\\\\\\\\\\\\\"name\\\\\\\\\\\\\\\": null, \\\\\\\\\\\\\\\"annotation\\\\\\\\\\\\\\\": null}, {\\\\\\\\\\\\\\\"id\\\\\\\\\\\\\\\": \\\\\\\\\\\\\\\"b05212bc-7608-4db5-8c3b-294b248c6865\\\\\\\\\\\\\\\", \\\\\\\\\\\\\\\"type\\\\\\\\\\\\\\\": \\\\\\\\\\\\\\\"Microsoft.DPrep.DropColumnsBlock\\\\\\\\\\\\\\\", \\\\\\\\\\\\\\\"arguments\\\\\\\\\\\\\\\": {\\\\\\\\\\\\\\\"columns\\\\\\\\\\\\\\\": {\\\\\\\\\\\\\\\"type\\\\\\\\\\\\\\\": 0, \\\\\\\\\\\\\\\"details\\\\\\\\\\\\\\\": {\\\\\\\\\\\\\\\"selectedColumns\\\\\\\\\\\\\\\": [\\\\\\\\\\\\\\\"Path\\\\\\\\\\\\\\\"]}}}, \\\\\\\\\\\\\\\"localData\\\\\\\\\\\\\\\": {}, \\\\\\\\\\\\\\\"isEnabled\\\\\\\\\\\\\\\": true, \\\\\\\\\\\\\\\"name\\\\\\\\\\\\\\\": null, \\\\\\\\\\\\\\\"annotation\\\\\\\\\\\\\\\": null}, {\\\\\\\\\\\\\\\"id\\\\\\\\\\\\\\\": \\\\\\\\\\\\\\\"c3042568-4c39-4385-aafa-d19f3796dbd6\\\\\\\\\\\\\\\", \\\\\\\\\\\\\\\"type\\\\\\\\\\\\\\\": \\\\\\\\\\\\\\\"Microsoft.DPrep.SetColumnTypesBlock\\\\\\\\\\\\\\\", \\\\\\\\\\\\\\\"arguments\\\\\\\\\\\\\\\": {\\\\\\\\\\\\\\\"columnConversion\\\\\\\\\\\\\\\": [{\\\\\\\\\\\\\\\"column\\\\\\\\\\\\\\\": {\\\\\\\\\\\\\\\"type\\\\\\\\\\\\\\\": 2, \\\\\\\\\\\\\\\"details\\\\\\\\\\\\\\\": {\\\\\\\\\\\\\\\"selectedColumn\\\\\\\\\\\\\\\": \\\\\\\\\\\\\\\"age\\\\\\\\\\\\\\\"}}, \\\\\\\\\\\\\\\"typeProperty\\\\\\\\\\\\\\\": 3}, {\\\\\\\\\\\\\\\"column\\\\\\\\\\\\\\\": {\\\\\\\\\\\\\\\"type\\\\\\\\\\\\\\\": 2, \\\\\\\\\\\\\\\"details\\\\\\\\\\\\\\\": {\\\\\\\\\\\\\\\"selectedColumn\\\\\\\\\\\\\\\": \\\\\\\\\\\\\\\"anaemia\\\\\\\\\\\\\\\"}}, \\\\\\\\\\\\\\\"typeProperty\\\\\\\\\\\\\\\": 2}, {\\\\\\\\\\\\\\\"column\\\\\\\\\\\\\\\": {\\\\\\\\\\\\\\\"type\\\\\\\\\\\\\\\": 2, \\\\\\\\\\\\\\\"details\\\\\\\\\\\\\\\": {\\\\\\\\\\\\\\\"selectedColumn\\\\\\\\\\\\\\\": \\\\\\\\\\\\\\\"creatinine_phosphokinase\\\\\\\\\\\\\\\"}}, \\\\\\\\\\\\\\\"typeProperty\\\\\\\\\\\\\\\": 2}, {\\\\\\\\\\\\\\\"column\\\\\\\\\\\\\\\": {\\\\\\\\\\\\\\\"type\\\\\\\\\\\\\\\": 2, \\\\\\\\\\\\\\\"details\\\\\\\\\\\\\\\": {\\\\\\\\\\\\\\\"selectedColumn\\\\\\\\\\\\\\\": \\\\\\\\\\\\\\\"diabetes\\\\\\\\\\\\\\\"}}, \\\\\\\\\\\\\\\"typeProperty\\\\\\\\\\\\\\\": 2}, {\\\\\\\\\\\\\\\"column\\\\\\\\\\\\\\\": {\\\\\\\\\\\\\\\"type\\\\\\\\\\\\\\\": 2, \\\\\\\\\\\\\\\"details\\\\\\\\\\\\\\\": {\\\\\\\\\\\\\\\"selectedColumn\\\\\\\\\\\\\\\": \\\\\\\\\\\\\\\"ejection_fraction\\\\\\\\\\\\\\\"}}, \\\\\\\\\\\\\\\"typeProperty\\\\\\\\\\\\\\\": 2}, {\\\\\\\\\\\\\\\"column\\\\\\\\\\\\\\\": {\\\\\\\\\\\\\\\"type\\\\\\\\\\\\\\\": 2, \\\\\\\\\\\\\\\"details\\\\\\\\\\\\\\\": {\\\\\\\\\\\\\\\"selectedColumn\\\\\\\\\\\\\\\": \\\\\\\\\\\\\\\"high_blood_pressure\\\\\\\\\\\\\\\"}}, \\\\\\\\\\\\\\\"typeProperty\\\\\\\\\\\\\\\": 2}, {\\\\\\\\\\\\\\\"column\\\\\\\\\\\\\\\": {\\\\\\\\\\\\\\\"type\\\\\\\\\\\\\\\": 2, \\\\\\\\\\\\\\\"details\\\\\\\\\\\\\\\": {\\\\\\\\\\\\\\\"selectedColumn\\\\\\\\\\\\\\\": \\\\\\\\\\\\\\\"platelets\\\\\\\\\\\\\\\"}}, \\\\\\\\\\\\\\\"typeProperty\\\\\\\\\\\\\\\": 3}, {\\\\\\\\\\\\\\\"column\\\\\\\\\\\\\\\": {\\\\\\\\\\\\\\\"type\\\\\\\\\\\\\\\": 2, \\\\\\\\\\\\\\\"details\\\\\\\\\\\\\\\": {\\\\\\\\\\\\\\\"selectedColumn\\\\\\\\\\\\\\\": \\\\\\\\\\\\\\\"serum_creatinine\\\\\\\\\\\\\\\"}}, \\\\\\\\\\\\\\\"typeProperty\\\\\\\\\\\\\\\": 3}, {\\\\\\\\\\\\\\\"column\\\\\\\\\\\\\\\": {\\\\\\\\\\\\\\\"type\\\\\\\\\\\\\\\": 2, \\\\\\\\\\\\\\\"details\\\\\\\\\\\\\\\": {\\\\\\\\\\\\\\\"selectedColumn\\\\\\\\\\\\\\\": \\\\\\\\\\\\\\\"serum_sodium\\\\\\\\\\\\\\\"}}, \\\\\\\\\\\\\\\"typeProperty\\\\\\\\\\\\\\\": 2}, {\\\\\\\\\\\\\\\"column\\\\\\\\\\\\\\\": {\\\\\\\\\\\\\\\"type\\\\\\\\\\\\\\\": 2, \\\\\\\\\\\\\\\"details\\\\\\\\\\\\\\\": {\\\\\\\\\\\\\\\"selectedColumn\\\\\\\\\\\\\\\": \\\\\\\\\\\\\\\"sex\\\\\\\\\\\\\\\"}}, \\\\\\\\\\\\\\\"typeProperty\\\\\\\\\\\\\\\": 2}, {\\\\\\\\\\\\\\\"column\\\\\\\\\\\\\\\": {\\\\\\\\\\\\\\\"type\\\\\\\\\\\\\\\": 2, \\\\\\\\\\\\\\\"details\\\\\\\\\\\\\\\": {\\\\\\\\\\\\\\\"selectedColumn\\\\\\\\\\\\\\\": \\\\\\\\\\\\\\\"smoking\\\\\\\\\\\\\\\"}}, \\\\\\\\\\\\\\\"typeProperty\\\\\\\\\\\\\\\": 2}, {\\\\\\\\\\\\\\\"column\\\\\\\\\\\\\\\": {\\\\\\\\\\\\\\\"type\\\\\\\\\\\\\\\": 2, \\\\\\\\\\\\\\\"details\\\\\\\\\\\\\\\": {\\\\\\\\\\\\\\\"selectedColumn\\\\\\\\\\\\\\\": \\\\\\\\\\\\\\\"time\\\\\\\\\\\\\\\"}}, \\\\\\\\\\\\\\\"typeProperty\\\\\\\\\\\\\\\": 2}, {\\\\\\\\\\\\\\\"column\\\\\\\\\\\\\\\": {\\\\\\\\\\\\\\\"type\\\\\\\\\\\\\\\": 2, \\\\\\\\\\\\\\\"details\\\\\\\\\\\\\\\": {\\\\\\\\\\\\\\\"selectedColumn\\\\\\\\\\\\\\\": \\\\\\\\\\\\\\\"DEATH_EVENT\\\\\\\\\\\\\\\"}}, \\\\\\\\\\\\\\\"typeProperty\\\\\\\\\\\\\\\": 2}]}, \\\\\\\\\\\\\\\"localData\\\\\\\\\\\\\\\": {}, \\\\\\\\\\\\\\\"isEnabled\\\\\\\\\\\\\\\": true, \\\\\\\\\\\\\\\"name\\\\\\\\\\\\\\\": null, \\\\\\\\\\\\\\\"annotation\\\\\\\\\\\\\\\": null}], \\\\\\\\\\\\\\\"inspectors\\\\\\\\\\\\\\\": [], \\\\\\\\\\\\\\\"meta\\\\\\\\\\\\\\\": {\\\\\\\\\\\\\\\"savedDatasetId\\\\\\\\\\\\\\\": \\\\\\\\\\\\\\\"91ff0fb0-2fd1-4d5d-a0a1-b3632548939a\\\\\\\\\\\\\\\", \\\\\\\\\\\\\\\"datasetType\\\\\\\\\\\\\\\": \\\\\\\\\\\\\\\"tabular\\\\\\\\\\\\\\\", \\\\\\\\\\\\\\\"subscriptionId\\\\\\\\\\\\\\\": \\\\\\\\\\\\\\\"1b944a9b-fdae-4f97-aeb1-b7eea0beac53\\\\\\\\\\\\\\\", \\\\\\\\\\\\\\\"workspaceId\\\\\\\\\\\\\\\": \\\\\\\\\\\\\\\"896ee770-23f7-4bc7-8f17-c761d25ae40f\\\\\\\\\\\\\\\", \\\\\\\\\\\\\\\"workspaceLocation\\\\\\\\\\\\\\\": \\\\\\\\\\\\\\\"southcentralus\\\\\\\\\\\\\\\"}}\\\\\\\", \\\\\\\"activities\\\\\\\": 0}\", \"EnableSubsampling\": null, \"runTemplate\": \"AutoML\", \"azureml.runsource\": \"automl\", \"display_task_type\": \"classification\", \"dependencies_versions\": \"{\\\"azureml-widgets\\\": \\\"1.19.0\\\", \\\"azureml-train\\\": \\\"1.19.0\\\", \\\"azureml-train-restclients-hyperdrive\\\": \\\"1.19.0\\\", \\\"azureml-train-core\\\": \\\"1.19.0\\\", \\\"azureml-train-automl\\\": \\\"1.19.0\\\", \\\"azureml-train-automl-runtime\\\": \\\"1.19.0\\\", \\\"azureml-train-automl-client\\\": \\\"1.19.0\\\", \\\"azureml-tensorboard\\\": \\\"1.19.0\\\", \\\"azureml-telemetry\\\": \\\"1.19.0\\\", \\\"azureml-sdk\\\": \\\"1.19.0\\\", \\\"azureml-samples\\\": \\\"0+unknown\\\", \\\"azureml-pipeline\\\": \\\"1.19.0\\\", \\\"azureml-pipeline-steps\\\": \\\"1.19.0\\\", \\\"azureml-pipeline-core\\\": \\\"1.19.0\\\", \\\"azureml-opendatasets\\\": \\\"1.19.0\\\", \\\"azureml-model-management-sdk\\\": \\\"1.0.1b6.post1\\\", \\\"azureml-mlflow\\\": \\\"1.19.0\\\", \\\"azureml-interpret\\\": \\\"1.19.0\\\", \\\"azureml-explain-model\\\": \\\"1.19.0\\\", \\\"azureml-defaults\\\": \\\"1.19.0\\\", \\\"azureml-dataset-runtime\\\": \\\"1.19.0\\\", \\\"azureml-dataprep\\\": \\\"2.6.1\\\", \\\"azureml-dataprep-rslex\\\": \\\"1.4.0\\\", \\\"azureml-dataprep-native\\\": \\\"26.0.0\\\", \\\"azureml-datadrift\\\": \\\"1.19.0\\\", \\\"azureml-core\\\": \\\"1.19.0\\\", \\\"azureml-contrib-services\\\": \\\"1.19.0\\\", \\\"azureml-contrib-server\\\": \\\"1.19.0\\\", \\\"azureml-contrib-reinforcementlearning\\\": \\\"1.19.0\\\", \\\"azureml-contrib-pipeline-steps\\\": \\\"1.19.0\\\", \\\"azureml-contrib-notebook\\\": \\\"1.19.0\\\", \\\"azureml-contrib-interpret\\\": \\\"1.19.0\\\", \\\"azureml-contrib-gbdt\\\": \\\"1.19.0\\\", \\\"azureml-contrib-fairness\\\": \\\"1.19.0\\\", \\\"azureml-contrib-dataset\\\": \\\"1.19.0\\\", \\\"azureml-cli-common\\\": \\\"1.19.0\\\", \\\"azureml-automl-runtime\\\": \\\"1.19.0\\\", \\\"azureml-automl-core\\\": \\\"1.19.0\\\", \\\"azureml-accel-models\\\": \\\"1.19.0\\\"}\", \"_aml_system_scenario_identification\": \"Remote.Parent\", \"ClientType\": \"SDK\", \"environment_cpu_name\": \"AzureML-AutoML\", \"environment_cpu_label\": \"prod\", \"environment_gpu_name\": \"AzureML-AutoML-GPU\", \"environment_gpu_label\": \"prod\", \"root_attribution\": \"automl\", \"attribution\": \"AutoML\", \"Orchestrator\": \"AutoML\", \"CancelUri\": \"https://southcentralus.experiments.azureml.net/jasmine/v1.0/subscriptions/1b944a9b-fdae-4f97-aeb1-b7eea0beac53/resourceGroups/aml-quickstarts-132429/providers/Microsoft.MachineLearningServices/workspaces/quick-starts-ws-132429/experimentids/e5333efc-9822-41a9-92a7-b84d71bdc7de/cancel/AutoML_b5e41e6c-d318-45f0-9c08-c3653e9d943d\", \"ClientSdkVersion\": \"1.19.0\", \"snapshotId\": \"00000000-0000-0000-0000-000000000000\", \"SetupRunId\": \"AutoML_b5e41e6c-d318-45f0-9c08-c3653e9d943d_setup\", \"SetupRunContainerId\": \"dcid.AutoML_b5e41e6c-d318-45f0-9c08-c3653e9d943d_setup\", \"FeaturizationRunJsonPath\": \"featurizer_container.json\", \"FeaturizationRunId\": \"AutoML_b5e41e6c-d318-45f0-9c08-c3653e9d943d_featurize\", \"ProblemInfoJsonString\": \"{\\\"dataset_num_categorical\\\": 0, \\\"is_sparse\\\": false, \\\"subsampling\\\": false, \\\"dataset_classes\\\": 2, \\\"dataset_features\\\": 12, \\\"dataset_samples\\\": 239, \\\"single_frequency_class_detected\\\": false}\", \"ModelExplainRunId\": \"AutoML_b5e41e6c-d318-45f0-9c08-c3653e9d943d_ModelExplain\"}, \"tags\": {\"model_explain_run\": \"best_run\", \"_aml_system_azureml.automlComponent\": \"AutoML\", \"pipeline_id\": \"\", \"score\": \"\", \"predicted_cost\": \"\", \"fit_time\": \"\", \"training_percent\": \"\", \"iteration\": \"\", \"run_preprocessor\": \"\", \"run_algorithm\": \"\", \"dynamic_whitelisting_iterations\": \"<25>;<30>;<35>;<40>;\", \"automl_best_child_run_id\": \"AutoML_b5e41e6c-d318-45f0-9c08-c3653e9d943d_43\", \"model_explain_best_run_child_id\": \"AutoML_b5e41e6c-d318-45f0-9c08-c3653e9d943d_43\"}, \"end_time_utc\": \"2020-12-30T03:15:40.112599Z\", \"status\": \"Completed\", \"log_files\": {}, \"log_groups\": [], \"run_duration\": \"0:19:54\"}, \"child_runs\": [{\"run_id\": \"AutoML_b5e41e6c-d318-45f0-9c08-c3653e9d943d_0\", \"run_number\": 5, \"metric\": null, \"status\": \"Completed\", \"run_type\": \"azureml.scriptrun\", \"training_percent\": \"100\", \"start_time\": \"2020-12-30T03:00:12.812042Z\", \"end_time\": \"2020-12-30T03:01:16.702079Z\", \"created_time\": \"2020-12-30T03:00:00.451981Z\", \"created_time_dt\": \"2020-12-30T03:00:00.451981Z\", \"duration\": \"0:01:16\", \"iteration\": \"0\", \"goal\": \"AUC_weighted_max\", \"run_name\": \"MaxAbsScaler, LightGBM\", \"run_properties\": \"copy=True\", \"primary_metric\": 0.89008929, \"best_metric\": 0.89008929}, {\"run_id\": \"AutoML_b5e41e6c-d318-45f0-9c08-c3653e9d943d_4\", \"run_number\": 6, \"metric\": null, \"status\": \"Completed\", \"run_type\": \"azureml.scriptrun\", \"training_percent\": \"100\", \"start_time\": \"2020-12-30T03:00:12.600203Z\", \"end_time\": \"2020-12-30T03:01:19.810306Z\", \"created_time\": \"2020-12-30T03:00:00.472076Z\", \"created_time_dt\": \"2020-12-30T03:00:00.472076Z\", \"duration\": \"0:01:19\", \"iteration\": \"4\", \"goal\": \"AUC_weighted_max\", \"run_name\": \"MinMaxScaler, RandomForest\", \"run_properties\": \"copy=True, feature_range=(0, 1\", \"primary_metric\": 0.8943378, \"best_metric\": 0.8943378}, {\"run_id\": \"AutoML_b5e41e6c-d318-45f0-9c08-c3653e9d943d_2\", \"run_number\": 7, \"metric\": null, \"status\": \"Completed\", \"run_type\": \"azureml.scriptrun\", \"training_percent\": \"100\", \"start_time\": \"2020-12-30T03:00:11.071475Z\", \"end_time\": \"2020-12-30T03:01:16.710679Z\", \"created_time\": \"2020-12-30T03:00:00.472076Z\", \"created_time_dt\": \"2020-12-30T03:00:00.472076Z\", \"duration\": \"0:01:16\", \"iteration\": \"2\", \"goal\": \"AUC_weighted_max\", \"run_name\": \"MinMaxScaler, RandomForest\", \"run_properties\": \"copy=True, feature_range=(0, 1\", \"primary_metric\": 0.88596644, \"best_metric\": 0.89008929}, {\"run_id\": \"AutoML_b5e41e6c-d318-45f0-9c08-c3653e9d943d_3\", \"run_number\": 8, \"metric\": null, \"status\": \"Completed\", \"run_type\": \"azureml.scriptrun\", \"training_percent\": \"100\", \"start_time\": \"2020-12-30T03:00:12.188236Z\", \"end_time\": \"2020-12-30T03:01:15.970829Z\", \"created_time\": \"2020-12-30T03:00:00.489696Z\", \"created_time_dt\": \"2020-12-30T03:00:00.489696Z\", \"duration\": \"0:01:15\", \"iteration\": \"3\", \"goal\": \"AUC_weighted_max\", \"run_name\": \"RobustScaler, ExtremeRandomTrees\", \"run_properties\": \"copy=True, quantile_range=[10, 90], with_centering=False,\\n             with_scaling=False\", \"primary_metric\": 0.87427083, \"best_metric\": 0.89008929}, {\"run_id\": \"AutoML_b5e41e6c-d318-45f0-9c08-c3653e9d943d_1\", \"run_number\": 9, \"metric\": null, \"status\": \"Completed\", \"run_type\": \"azureml.scriptrun\", \"training_percent\": \"100\", \"start_time\": \"2020-12-30T03:00:11.612717Z\", \"end_time\": \"2020-12-30T03:01:17.179983Z\", \"created_time\": \"2020-12-30T03:00:00.485427Z\", \"created_time_dt\": \"2020-12-30T03:00:00.485427Z\", \"duration\": \"0:01:16\", \"iteration\": \"1\", \"goal\": \"AUC_weighted_max\", \"run_name\": \"MaxAbsScaler, XGBoostClassifier\", \"run_properties\": \"copy=True\", \"primary_metric\": 0.88788938, \"best_metric\": 0.89008929}, {\"run_id\": \"AutoML_b5e41e6c-d318-45f0-9c08-c3653e9d943d_5\", \"run_number\": 10, \"metric\": null, \"status\": \"Completed\", \"run_type\": \"azureml.scriptrun\", \"training_percent\": \"100\", \"start_time\": \"2020-12-30T03:01:31.915103Z\", \"end_time\": \"2020-12-30T03:02:42.85846Z\", \"created_time\": \"2020-12-30T03:01:19.038295Z\", \"created_time_dt\": \"2020-12-30T03:01:19.038295Z\", \"duration\": \"0:01:23\", \"iteration\": \"5\", \"goal\": \"AUC_weighted_max\", \"run_name\": \"MinMaxScaler, RandomForest\", \"run_properties\": \"copy=True, feature_range=(0, 1\", \"primary_metric\": 0.9110334, \"best_metric\": 0.9110334}, {\"run_id\": \"AutoML_b5e41e6c-d318-45f0-9c08-c3653e9d943d_6\", \"run_number\": 11, \"metric\": null, \"status\": \"Completed\", \"run_type\": \"azureml.scriptrun\", \"training_percent\": \"100\", \"start_time\": \"2020-12-30T03:01:38.180892Z\", \"end_time\": \"2020-12-30T03:03:25.302392Z\", \"created_time\": \"2020-12-30T03:01:24.450994Z\", \"created_time_dt\": \"2020-12-30T03:01:24.450994Z\", \"duration\": \"0:02:00\", \"iteration\": \"6\", \"goal\": \"AUC_weighted_max\", \"run_name\": \"StandardScalerWrapper, RandomForest\", \"run_properties\": \"<azureml.automl.runtime.shared.model_wrappers.StandardScalerWrapper object at 0x7f67ced5d8d0\", \"primary_metric\": 0.88285991, \"best_metric\": 0.9110334}, {\"run_id\": \"AutoML_b5e41e6c-d318-45f0-9c08-c3653e9d943d_8\", \"run_number\": 12, \"metric\": null, \"status\": \"Completed\", \"run_type\": \"azureml.scriptrun\", \"training_percent\": \"100\", \"start_time\": \"2020-12-30T03:01:35.350658Z\", \"end_time\": \"2020-12-30T03:02:41.003358Z\", \"created_time\": \"2020-12-30T03:01:24.454538Z\", \"created_time_dt\": \"2020-12-30T03:01:24.454538Z\", \"duration\": \"0:01:16\", \"iteration\": \"8\", \"goal\": \"AUC_weighted_max\", \"run_name\": \"MinMaxScaler, ExtremeRandomTrees\", \"run_properties\": \"copy=True, feature_range=(0, 1\", \"primary_metric\": 0.84900546, \"best_metric\": 0.9110334}, {\"run_id\": \"AutoML_b5e41e6c-d318-45f0-9c08-c3653e9d943d_9\", \"run_number\": 13, \"metric\": null, \"status\": \"Completed\", \"run_type\": \"azureml.scriptrun\", \"training_percent\": \"100\", \"start_time\": \"2020-12-30T03:01:36.673074Z\", \"end_time\": \"2020-12-30T03:03:30.214675Z\", \"created_time\": \"2020-12-30T03:01:24.462972Z\", \"created_time_dt\": \"2020-12-30T03:01:24.462972Z\", \"duration\": \"0:02:05\", \"iteration\": \"9\", \"goal\": \"AUC_weighted_max\", \"run_name\": \"SparseNormalizer, KNN\", \"run_properties\": \"<azureml.automl.runtime.shared.model_wrappers.SparseNormalizer object at 0x7fe21c3bca90\", \"primary_metric\": 0.71834408, \"best_metric\": 0.9110334}, {\"run_id\": \"AutoML_b5e41e6c-d318-45f0-9c08-c3653e9d943d_7\", \"run_number\": 14, \"metric\": null, \"status\": \"Completed\", \"run_type\": \"azureml.scriptrun\", \"training_percent\": \"100\", \"start_time\": \"2020-12-30T03:01:38.226095Z\", \"end_time\": \"2020-12-30T03:02:43.710184Z\", \"created_time\": \"2020-12-30T03:01:24.472628Z\", \"created_time_dt\": \"2020-12-30T03:01:24.472628Z\", \"duration\": \"0:01:19\", \"iteration\": \"7\", \"goal\": \"AUC_weighted_max\", \"run_name\": \"MinMaxScaler, ExtremeRandomTrees\", \"run_properties\": \"copy=True, feature_range=(0, 1\", \"primary_metric\": 0.89657325, \"best_metric\": 0.9110334}, {\"run_id\": \"AutoML_b5e41e6c-d318-45f0-9c08-c3653e9d943d_10\", \"run_number\": 15, \"metric\": null, \"status\": \"Completed\", \"run_type\": \"azureml.scriptrun\", \"training_percent\": \"100\", \"start_time\": \"2020-12-30T03:02:57.23679Z\", \"end_time\": \"2020-12-30T03:03:55.623475Z\", \"created_time\": \"2020-12-30T03:02:44.025725Z\", \"created_time_dt\": \"2020-12-30T03:02:44.025725Z\", \"duration\": \"0:01:11\", \"iteration\": \"10\", \"goal\": \"AUC_weighted_max\", \"run_name\": \"MinMaxScaler, ExtremeRandomTrees\", \"run_properties\": \"copy=True, feature_range=(0, 1\", \"primary_metric\": 0.87700728, \"best_metric\": 0.9110334}, {\"run_id\": \"AutoML_b5e41e6c-d318-45f0-9c08-c3653e9d943d_11\", \"run_number\": 16, \"metric\": null, \"status\": \"Completed\", \"run_type\": \"azureml.scriptrun\", \"training_percent\": \"100\", \"start_time\": \"2020-12-30T03:03:02.068485Z\", \"end_time\": \"2020-12-30T03:04:00.922371Z\", \"created_time\": \"2020-12-30T03:02:49.194145Z\", \"created_time_dt\": \"2020-12-30T03:02:49.194145Z\", \"duration\": \"0:01:11\", \"iteration\": \"11\", \"goal\": \"AUC_weighted_max\", \"run_name\": \"RobustScaler, ExtremeRandomTrees\", \"run_properties\": \"copy=True, quantile_range=[10, 90], with_centering=True,\\n             with_scaling=False\", \"primary_metric\": 0.88143684, \"best_metric\": 0.9110334}, {\"run_id\": \"AutoML_b5e41e6c-d318-45f0-9c08-c3653e9d943d_12\", \"run_number\": 17, \"metric\": null, \"status\": \"Completed\", \"run_type\": \"azureml.scriptrun\", \"training_percent\": \"100\", \"start_time\": \"2020-12-30T03:02:59.616787Z\", \"end_time\": \"2020-12-30T03:03:56.076747Z\", \"created_time\": \"2020-12-30T03:02:49.220559Z\", \"created_time_dt\": \"2020-12-30T03:02:49.220559Z\", \"duration\": \"0:01:06\", \"iteration\": \"12\", \"goal\": \"AUC_weighted_max\", \"run_name\": \"StandardScalerWrapper, RandomForest\", \"run_properties\": \"<azureml.automl.runtime.shared.model_wrappers.StandardScalerWrapper object at 0x7faf044284e0\", \"primary_metric\": 0.89708829, \"best_metric\": 0.9110334}, {\"run_id\": \"AutoML_b5e41e6c-d318-45f0-9c08-c3653e9d943d_13\", \"run_number\": 18, \"metric\": null, \"status\": \"Completed\", \"run_type\": \"azureml.scriptrun\", \"training_percent\": \"100\", \"start_time\": \"2020-12-30T03:03:40.484403Z\", \"end_time\": \"2020-12-30T03:04:57.434967Z\", \"created_time\": \"2020-12-30T03:03:28.151558Z\", \"created_time_dt\": \"2020-12-30T03:03:28.151558Z\", \"duration\": \"0:01:29\", \"iteration\": \"13\", \"goal\": \"AUC_weighted_max\", \"run_name\": \"StandardScalerWrapper, SGD\", \"run_properties\": \"<azureml.automl.runtime.shared.model_wrappers.StandardScalerWrapper object at 0x7fa1a40dacf8\", \"primary_metric\": 0.84976356, \"best_metric\": 0.9110334}, {\"run_id\": \"AutoML_b5e41e6c-d318-45f0-9c08-c3653e9d943d_14\", \"run_number\": 19, \"metric\": null, \"status\": \"Completed\", \"run_type\": \"azureml.scriptrun\", \"training_percent\": \"100\", \"start_time\": \"2020-12-30T03:03:46.14829Z\", \"end_time\": \"2020-12-30T03:04:56.473251Z\", \"created_time\": \"2020-12-30T03:03:33.071606Z\", \"created_time_dt\": \"2020-12-30T03:03:33.071606Z\", \"duration\": \"0:01:23\", \"iteration\": \"14\", \"goal\": \"AUC_weighted_max\", \"run_name\": \"RobustScaler, RandomForest\", \"run_properties\": \"copy=True, quantile_range=[10, 90], with_centering=True,\\n             with_scaling=False\", \"primary_metric\": 0.90447421, \"best_metric\": 0.9110334}, {\"run_id\": \"AutoML_b5e41e6c-d318-45f0-9c08-c3653e9d943d_15\", \"run_number\": 20, \"metric\": null, \"status\": \"Completed\", \"run_type\": \"azureml.scriptrun\", \"training_percent\": \"100\", \"start_time\": \"2020-12-30T03:04:13.236656Z\", \"end_time\": \"2020-12-30T03:05:16.609483Z\", \"created_time\": \"2020-12-30T03:03:58.630481Z\", \"created_time_dt\": \"2020-12-30T03:03:58.630481Z\", \"duration\": \"0:01:17\", \"iteration\": \"15\", \"goal\": \"AUC_weighted_max\", \"run_name\": \"StandardScalerWrapper, KNN\", \"run_properties\": \"<azureml.automl.runtime.shared.model_wrappers.StandardScalerWrapper object at 0x7fea356f4eb8\", \"primary_metric\": 0.58758681, \"best_metric\": 0.9110334}, {\"run_id\": \"AutoML_b5e41e6c-d318-45f0-9c08-c3653e9d943d_16\", \"run_number\": 21, \"metric\": null, \"status\": \"Completed\", \"run_type\": \"azureml.scriptrun\", \"training_percent\": \"100\", \"start_time\": \"2020-12-30T03:04:14.858735Z\", \"end_time\": \"2020-12-30T03:05:20.570153Z\", \"created_time\": \"2020-12-30T03:04:03.371753Z\", \"created_time_dt\": \"2020-12-30T03:04:03.371753Z\", \"duration\": \"0:01:17\", \"iteration\": \"16\", \"goal\": \"AUC_weighted_max\", \"run_name\": \"MinMaxScaler, RandomForest\", \"run_properties\": \"copy=True, feature_range=(0, 1\", \"primary_metric\": 0.87301009, \"best_metric\": 0.9110334}, {\"run_id\": \"AutoML_b5e41e6c-d318-45f0-9c08-c3653e9d943d_17\", \"run_number\": 22, \"metric\": null, \"status\": \"Completed\", \"run_type\": \"azureml.scriptrun\", \"training_percent\": \"100\", \"start_time\": \"2020-12-30T03:04:25.888326Z\", \"end_time\": \"2020-12-30T03:05:24.910318Z\", \"created_time\": \"2020-12-30T03:04:11.223331Z\", \"created_time_dt\": \"2020-12-30T03:04:11.223331Z\", \"duration\": \"0:01:13\", \"iteration\": \"17\", \"goal\": \"AUC_weighted_max\", \"run_name\": \"MinMaxScaler, ExtremeRandomTrees\", \"run_properties\": \"copy=True, feature_range=(0, 1\", \"primary_metric\": 0.83255952, \"best_metric\": 0.9110334}, {\"run_id\": \"AutoML_b5e41e6c-d318-45f0-9c08-c3653e9d943d_18\", \"run_number\": 23, \"metric\": null, \"status\": \"Completed\", \"run_type\": \"azureml.scriptrun\", \"training_percent\": \"100\", \"start_time\": \"2020-12-30T03:05:13.174244Z\", \"end_time\": \"2020-12-30T03:06:17.416481Z\", \"created_time\": \"2020-12-30T03:04:59.327379Z\", \"created_time_dt\": \"2020-12-30T03:04:59.327379Z\", \"duration\": \"0:01:18\", \"iteration\": \"18\", \"goal\": \"AUC_weighted_max\", \"run_name\": \"MaxAbsScaler, RandomForest\", \"run_properties\": \"copy=True\", \"primary_metric\": 0.89195188, \"best_metric\": 0.9110334}, {\"run_id\": \"AutoML_b5e41e6c-d318-45f0-9c08-c3653e9d943d_19\", \"run_number\": 24, \"metric\": null, \"status\": \"Completed\", \"run_type\": \"azureml.scriptrun\", \"training_percent\": \"100\", \"start_time\": \"2020-12-30T03:05:16.526087Z\", \"end_time\": \"2020-12-30T03:06:18.38882Z\", \"created_time\": \"2020-12-30T03:05:03.727962Z\", \"created_time_dt\": \"2020-12-30T03:05:03.727962Z\", \"duration\": \"0:01:14\", \"iteration\": \"19\", \"goal\": \"AUC_weighted_max\", \"run_name\": \"StandardScalerWrapper, XGBoostClassifier\", \"run_properties\": \"<azureml.automl.runtime.shared.model_wrappers.StandardScalerWrapper object at 0x7fc4a25b6dd8\", \"primary_metric\": 0.89263228, \"best_metric\": 0.9110334}, {\"run_id\": \"AutoML_b5e41e6c-d318-45f0-9c08-c3653e9d943d_20\", \"run_number\": 25, \"metric\": null, \"status\": \"Completed\", \"run_type\": \"azureml.scriptrun\", \"training_percent\": \"100\", \"start_time\": \"2020-12-30T03:05:31.417547Z\", \"end_time\": \"2020-12-30T03:06:45.200696Z\", \"created_time\": \"2020-12-30T03:05:19.35331Z\", \"created_time_dt\": \"2020-12-30T03:05:19.35331Z\", \"duration\": \"0:01:25\", \"iteration\": \"20\", \"goal\": \"AUC_weighted_max\", \"run_name\": \"MaxAbsScaler, RandomForest\", \"run_properties\": \"copy=True\", \"primary_metric\": 0.87820188, \"best_metric\": 0.9110334}, {\"run_id\": \"AutoML_b5e41e6c-d318-45f0-9c08-c3653e9d943d_21\", \"run_number\": 26, \"metric\": null, \"status\": \"Completed\", \"run_type\": \"azureml.scriptrun\", \"training_percent\": \"100\", \"start_time\": \"2020-12-30T03:05:35.703611Z\", \"end_time\": \"2020-12-30T03:06:38.199214Z\", \"created_time\": \"2020-12-30T03:05:24.224859Z\", \"created_time_dt\": \"2020-12-30T03:05:24.224859Z\", \"duration\": \"0:01:13\", \"iteration\": \"21\", \"goal\": \"AUC_weighted_max\", \"run_name\": \"MaxAbsScaler, ExtremeRandomTrees\", \"run_properties\": \"copy=True\", \"primary_metric\": 0.85981316, \"best_metric\": 0.9110334}, {\"run_id\": \"AutoML_b5e41e6c-d318-45f0-9c08-c3653e9d943d_22\", \"run_number\": 27, \"metric\": null, \"status\": \"Completed\", \"run_type\": \"azureml.scriptrun\", \"training_percent\": \"100\", \"start_time\": \"2020-12-30T03:05:40.566136Z\", \"end_time\": \"2020-12-30T03:06:40.444118Z\", \"created_time\": \"2020-12-30T03:05:29.295517Z\", \"created_time_dt\": \"2020-12-30T03:05:29.295517Z\", \"duration\": \"0:01:11\", \"iteration\": \"22\", \"goal\": \"AUC_weighted_max\", \"run_name\": \"MaxAbsScaler, ExtremeRandomTrees\", \"run_properties\": \"copy=True\", \"primary_metric\": 0.84210235, \"best_metric\": 0.9110334}, {\"run_id\": \"AutoML_b5e41e6c-d318-45f0-9c08-c3653e9d943d_23\", \"run_number\": 28, \"metric\": null, \"status\": \"Completed\", \"run_type\": \"azureml.scriptrun\", \"training_percent\": \"100\", \"start_time\": \"2020-12-30T03:06:34.50256Z\", \"end_time\": \"2020-12-30T03:07:57.896775Z\", \"created_time\": \"2020-12-30T03:06:20.598589Z\", \"created_time_dt\": \"2020-12-30T03:06:20.598589Z\", \"duration\": \"0:01:37\", \"iteration\": \"23\", \"goal\": \"AUC_weighted_max\", \"run_name\": \"MinMaxScaler, RandomForest\", \"run_properties\": \"copy=True, feature_range=(0, 1\", \"primary_metric\": 0.91026868, \"best_metric\": 0.9110334}, {\"run_id\": \"AutoML_b5e41e6c-d318-45f0-9c08-c3653e9d943d_24\", \"run_number\": 29, \"metric\": null, \"status\": \"Completed\", \"run_type\": \"azureml.scriptrun\", \"training_percent\": \"100\", \"start_time\": \"2020-12-30T03:06:35.659297Z\", \"end_time\": \"2020-12-30T03:07:44.443367Z\", \"created_time\": \"2020-12-30T03:06:25.578566Z\", \"created_time_dt\": \"2020-12-30T03:06:25.578566Z\", \"duration\": \"0:01:18\", \"iteration\": \"24\", \"goal\": \"AUC_weighted_max\", \"run_name\": \"MaxAbsScaler, RandomForest\", \"run_properties\": \"copy=True\", \"primary_metric\": 0.88429233, \"best_metric\": 0.9110334}, {\"run_id\": \"AutoML_b5e41e6c-d318-45f0-9c08-c3653e9d943d_25\", \"run_number\": 30, \"metric\": null, \"status\": \"Completed\", \"run_type\": \"azureml.scriptrun\", \"training_percent\": \"100\", \"start_time\": \"2020-12-30T03:06:52.628899Z\", \"end_time\": \"2020-12-30T03:07:52.001341Z\", \"created_time\": \"2020-12-30T03:06:42.18847Z\", \"created_time_dt\": \"2020-12-30T03:06:42.18847Z\", \"duration\": \"0:01:09\", \"iteration\": \"25\", \"goal\": \"AUC_weighted_max\", \"run_name\": \"MinMaxScaler, RandomForest\", \"run_properties\": \"copy=True, feature_range=(0, 1\", \"primary_metric\": 0.92744626, \"best_metric\": 0.92744626}, {\"run_id\": \"AutoML_b5e41e6c-d318-45f0-9c08-c3653e9d943d_26\", \"run_number\": 31, \"metric\": null, \"status\": \"Completed\", \"run_type\": \"azureml.scriptrun\", \"training_percent\": \"100\", \"start_time\": \"2020-12-30T03:06:56.523507Z\", \"end_time\": \"2020-12-30T03:07:55.925189Z\", \"created_time\": \"2020-12-30T03:06:45.67177Z\", \"created_time_dt\": \"2020-12-30T03:06:45.67177Z\", \"duration\": \"0:01:10\", \"iteration\": \"26\", \"goal\": \"AUC_weighted_max\", \"run_name\": \"MaxAbsScaler, LightGBM\", \"run_properties\": \"copy=True\", \"primary_metric\": 0.84975033, \"best_metric\": 0.92744626}, {\"run_id\": \"AutoML_b5e41e6c-d318-45f0-9c08-c3653e9d943d_27\", \"run_number\": 32, \"metric\": null, \"status\": \"Completed\", \"run_type\": \"azureml.scriptrun\", \"training_percent\": \"100\", \"start_time\": \"2020-12-30T03:07:03.830393Z\", \"end_time\": \"2020-12-30T03:08:35.177716Z\", \"created_time\": \"2020-12-30T03:06:50.601512Z\", \"created_time_dt\": \"2020-12-30T03:06:50.601512Z\", \"duration\": \"0:01:44\", \"iteration\": \"27\", \"goal\": \"AUC_weighted_max\", \"run_name\": \"RobustScaler, RandomForest\", \"run_properties\": \"copy=True, quantile_range=[10, 90], with_centering=False,\\n             with_scaling=False\", \"primary_metric\": 0.89772073, \"best_metric\": 0.92744626}, {\"run_id\": \"AutoML_b5e41e6c-d318-45f0-9c08-c3653e9d943d_28\", \"run_number\": 33, \"metric\": null, \"status\": \"Completed\", \"run_type\": \"azureml.scriptrun\", \"training_percent\": \"100\", \"start_time\": \"2020-12-30T03:07:59.99396Z\", \"end_time\": \"2020-12-30T03:08:55.491054Z\", \"created_time\": \"2020-12-30T03:07:47.809008Z\", \"created_time_dt\": \"2020-12-30T03:07:47.809008Z\", \"duration\": \"0:01:07\", \"iteration\": \"28\", \"goal\": \"AUC_weighted_max\", \"run_name\": \"StandardScalerWrapper, XGBoostClassifier\", \"run_properties\": \"<azureml.automl.runtime.shared.model_wrappers.StandardScalerWrapper object at 0x7fb5a09a5b38\", \"primary_metric\": 0.89719205, \"best_metric\": 0.92744626}, {\"run_id\": \"AutoML_b5e41e6c-d318-45f0-9c08-c3653e9d943d_29\", \"run_number\": 34, \"metric\": null, \"status\": \"Completed\", \"run_type\": \"azureml.scriptrun\", \"training_percent\": \"100\", \"start_time\": \"2020-12-30T03:08:05.697423Z\", \"end_time\": \"2020-12-30T03:09:50.659792Z\", \"created_time\": \"2020-12-30T03:07:55.270558Z\", \"created_time_dt\": \"2020-12-30T03:07:55.270558Z\", \"duration\": \"0:01:55\", \"iteration\": \"29\", \"goal\": \"AUC_weighted_max\", \"run_name\": \"RobustScaler, RandomForest\", \"run_properties\": \"copy=True, quantile_range=[25, 75], with_centering=True,\\n             with_scaling=False\", \"primary_metric\": 0.91698826, \"best_metric\": 0.92744626}, {\"run_id\": \"AutoML_b5e41e6c-d318-45f0-9c08-c3653e9d943d_31\", \"run_number\": 35, \"metric\": null, \"status\": \"Completed\", \"run_type\": \"azureml.scriptrun\", \"training_percent\": \"100\", \"start_time\": \"2020-12-30T03:08:11.979678Z\", \"end_time\": \"2020-12-30T03:09:48.039499Z\", \"created_time\": \"2020-12-30T03:08:01.619691Z\", \"created_time_dt\": \"2020-12-30T03:08:01.619691Z\", \"duration\": \"0:01:46\", \"iteration\": \"31\", \"goal\": \"AUC_weighted_max\", \"run_name\": \"StandardScalerWrapper, RandomForest\", \"run_properties\": \"<azureml.automl.runtime.shared.model_wrappers.StandardScalerWrapper object at 0x7f61dc0f1908\", \"primary_metric\": 0.90773231, \"best_metric\": 0.92744626}, {\"run_id\": \"AutoML_b5e41e6c-d318-45f0-9c08-c3653e9d943d_30\", \"run_number\": 36, \"metric\": null, \"status\": \"Completed\", \"run_type\": \"azureml.scriptrun\", \"training_percent\": \"100\", \"start_time\": \"2020-12-30T03:08:15.063988Z\", \"end_time\": \"2020-12-30T03:09:39.242747Z\", \"created_time\": \"2020-12-30T03:08:01.792165Z\", \"created_time_dt\": \"2020-12-30T03:08:01.792165Z\", \"duration\": \"0:01:37\", \"iteration\": \"30\", \"goal\": \"AUC_weighted_max\", \"run_name\": \"MinMaxScaler, RandomForest\", \"run_properties\": \"copy=True, feature_range=(0, 1\", \"primary_metric\": 0.80642857, \"best_metric\": 0.92744626}, {\"run_id\": \"AutoML_b5e41e6c-d318-45f0-9c08-c3653e9d943d_32\", \"run_number\": 37, \"metric\": null, \"status\": \"Completed\", \"run_type\": \"azureml.scriptrun\", \"training_percent\": \"100\", \"start_time\": \"2020-12-30T03:08:50.797827Z\", \"end_time\": \"2020-12-30T03:10:13.95226Z\", \"created_time\": \"2020-12-30T03:08:38.500094Z\", \"created_time_dt\": \"2020-12-30T03:08:38.500094Z\", \"duration\": \"0:01:35\", \"iteration\": \"32\", \"goal\": \"AUC_weighted_max\", \"run_name\": \"MinMaxScaler, RandomForest\", \"run_properties\": \"copy=True, feature_range=(0, 1\", \"primary_metric\": 0.91566716, \"best_metric\": 0.92744626}, {\"run_id\": \"AutoML_b5e41e6c-d318-45f0-9c08-c3653e9d943d_33\", \"run_number\": 38, \"metric\": null, \"status\": \"Completed\", \"run_type\": \"azureml.scriptrun\", \"training_percent\": \"100\", \"start_time\": \"2020-12-30T03:09:11.299541Z\", \"end_time\": \"2020-12-30T03:10:17.575288Z\", \"created_time\": \"2020-12-30T03:08:58.711233Z\", \"created_time_dt\": \"2020-12-30T03:08:58.711233Z\", \"duration\": \"0:01:18\", \"iteration\": \"33\", \"goal\": \"AUC_weighted_max\", \"run_name\": \"StandardScalerWrapper, XGBoostClassifier\", \"run_properties\": \"<azureml.automl.runtime.shared.model_wrappers.StandardScalerWrapper object at 0x7f4ba0c9bfd0\", \"primary_metric\": 0.8760859, \"best_metric\": 0.92744626}, {\"run_id\": \"AutoML_b5e41e6c-d318-45f0-9c08-c3653e9d943d_34\", \"run_number\": 39, \"metric\": null, \"status\": \"Completed\", \"run_type\": \"azureml.scriptrun\", \"training_percent\": \"100\", \"start_time\": \"2020-12-30T03:09:52.846271Z\", \"end_time\": \"2020-12-30T03:11:12.133906Z\", \"created_time\": \"2020-12-30T03:09:42.608394Z\", \"created_time_dt\": \"2020-12-30T03:09:42.608394Z\", \"duration\": \"0:01:29\", \"iteration\": \"34\", \"goal\": \"AUC_weighted_max\", \"run_name\": \"StandardScalerWrapper, LogisticRegression\", \"run_properties\": \"<azureml.automl.runtime.shared.model_wrappers.StandardScalerWrapper object at 0x7f49b0ac9898\", \"primary_metric\": 0.84479001, \"best_metric\": 0.92744626}, {\"run_id\": \"AutoML_b5e41e6c-d318-45f0-9c08-c3653e9d943d_35\", \"run_number\": 40, \"metric\": null, \"status\": \"Completed\", \"run_type\": \"azureml.scriptrun\", \"training_percent\": \"100\", \"start_time\": \"2020-12-30T03:10:02.190285Z\", \"end_time\": \"2020-12-30T03:11:20.806688Z\", \"created_time\": \"2020-12-30T03:09:52.01417Z\", \"created_time_dt\": \"2020-12-30T03:09:52.01417Z\", \"duration\": \"0:01:28\", \"iteration\": \"35\", \"goal\": \"AUC_weighted_max\", \"run_name\": \"MinMaxScaler, RandomForest\", \"run_properties\": \"copy=True, feature_range=(0, 1\", \"primary_metric\": 0.90047371, \"best_metric\": 0.92744626}, {\"run_id\": \"AutoML_b5e41e6c-d318-45f0-9c08-c3653e9d943d_36\", \"run_number\": 41, \"metric\": null, \"status\": \"Completed\", \"run_type\": \"azureml.scriptrun\", \"training_percent\": \"100\", \"start_time\": \"2020-12-30T03:10:39.501467Z\", \"end_time\": \"2020-12-30T03:12:29.190681Z\", \"created_time\": \"2020-12-30T03:09:56.812693Z\", \"created_time_dt\": \"2020-12-30T03:09:56.812693Z\", \"duration\": \"0:02:32\", \"iteration\": \"36\", \"goal\": \"AUC_weighted_max\", \"run_name\": \"StandardScalerWrapper, GradientBoosting\", \"run_properties\": \"<azureml.automl.runtime.shared.model_wrappers.StandardScalerWrapper object at 0x7fcb64e9f828\", \"primary_metric\": 0.90956019, \"best_metric\": 0.92744626}, {\"run_id\": \"AutoML_b5e41e6c-d318-45f0-9c08-c3653e9d943d_37\", \"run_number\": 42, \"metric\": null, \"status\": \"Completed\", \"run_type\": \"azureml.scriptrun\", \"training_percent\": \"100\", \"start_time\": \"2020-12-30T03:10:29.288232Z\", \"end_time\": \"2020-12-30T03:11:39.794892Z\", \"created_time\": \"2020-12-30T03:10:17.051655Z\", \"created_time_dt\": \"2020-12-30T03:10:17.051655Z\", \"duration\": \"0:01:22\", \"iteration\": \"37\", \"goal\": \"AUC_weighted_max\", \"run_name\": \"RobustScaler, GradientBoosting\", \"run_properties\": \"copy=True, quantile_range=[25, 75], with_centering=True,\\n             with_scaling=True\", \"primary_metric\": 0.90906829, \"best_metric\": 0.92744626}, {\"run_id\": \"AutoML_b5e41e6c-d318-45f0-9c08-c3653e9d943d_38\", \"run_number\": 43, \"metric\": null, \"status\": \"Completed\", \"run_type\": \"azureml.scriptrun\", \"training_percent\": \"100\", \"start_time\": \"2020-12-30T03:10:32.753459Z\", \"end_time\": \"2020-12-30T03:11:35.263815Z\", \"created_time\": \"2020-12-30T03:10:22.638061Z\", \"created_time_dt\": \"2020-12-30T03:10:22.638061Z\", \"duration\": \"0:01:12\", \"iteration\": \"38\", \"goal\": \"AUC_weighted_max\", \"run_name\": \"MinMaxScaler, LogisticRegression\", \"run_properties\": \"copy=True, feature_range=(0, 1\", \"primary_metric\": 0.85354497, \"best_metric\": 0.92744626}, {\"run_id\": \"AutoML_b5e41e6c-d318-45f0-9c08-c3653e9d943d_39\", \"run_number\": 44, \"metric\": null, \"status\": \"Canceled\", \"run_type\": \"azureml.scriptrun\", \"training_percent\": \"100\", \"start_time\": \"2020-12-30T03:11:26.238376Z\", \"end_time\": \"2020-12-30T03:12:40.775071Z\", \"created_time\": \"2020-12-30T03:11:15.662461Z\", \"created_time_dt\": \"2020-12-30T03:11:15.662461Z\", \"duration\": \"0:01:25\", \"iteration\": \"39\", \"goal\": \"AUC_weighted_max\", \"run_name\": \"RobustScaler, LightGBM\", \"run_properties\": \"copy=True, quantile_range=[25, 75], with_centering=False,\\n             with_scaling=True\", \"primary_metric\": 0.91143932, \"best_metric\": 0.92744626}, {\"run_id\": \"AutoML_b5e41e6c-d318-45f0-9c08-c3653e9d943d_40\", \"run_number\": 45, \"metric\": null, \"status\": \"Canceled\", \"run_type\": \"azureml.scriptrun\", \"training_percent\": \"100\", \"start_time\": \"2020-12-30T03:11:35.567965Z\", \"end_time\": \"2020-12-30T03:12:37.623087Z\", \"created_time\": \"2020-12-30T03:11:24.735869Z\", \"created_time_dt\": \"2020-12-30T03:11:24.735869Z\", \"duration\": \"0:01:12\", \"iteration\": \"40\", \"goal\": \"AUC_weighted_max\", \"run_name\": \"MaxAbsScaler, RandomForest\", \"run_properties\": \"copy=True\", \"primary_metric\": 0.87031911, \"best_metric\": 0.92744626}, {\"run_id\": \"AutoML_b5e41e6c-d318-45f0-9c08-c3653e9d943d_41\", \"run_number\": 46, \"metric\": null, \"status\": \"Canceled\", \"run_type\": \"azureml.scriptrun\", \"training_percent\": \"100\", \"start_time\": \"2020-12-30T03:11:49.449796Z\", \"end_time\": \"2020-12-30T03:12:39.721006Z\", \"created_time\": \"2020-12-30T03:11:38.409893Z\", \"created_time_dt\": \"2020-12-30T03:11:38.409893Z\", \"duration\": \"0:01:01\", \"iteration\": \"41\", \"goal\": null, \"run_name\": \"MinMaxScaler, RandomForest\", \"run_properties\": null}, {\"run_id\": \"AutoML_b5e41e6c-d318-45f0-9c08-c3653e9d943d_42\", \"run_number\": 47, \"metric\": null, \"status\": \"Canceled\", \"run_type\": \"azureml.scriptrun\", \"training_percent\": \"100\", \"start_time\": \"2020-12-30T03:11:56.838682Z\", \"end_time\": \"2020-12-30T03:12:39.347487Z\", \"created_time\": \"2020-12-30T03:11:43.713205Z\", \"created_time_dt\": \"2020-12-30T03:11:43.713205Z\", \"duration\": \"0:00:55\", \"iteration\": \"42\", \"goal\": null, \"run_name\": \"StandardScalerWrapper, ExtremeRandomTrees\", \"run_properties\": null}, {\"run_id\": \"AutoML_b5e41e6c-d318-45f0-9c08-c3653e9d943d_43\", \"run_number\": 48, \"metric\": null, \"status\": \"Completed\", \"run_type\": \"azureml.scriptrun\", \"training_percent\": \"100\", \"start_time\": \"2020-12-30T03:12:56.796249Z\", \"end_time\": \"2020-12-30T03:15:20.926162Z\", \"created_time\": \"2020-12-30T03:12:43.171908Z\", \"created_time_dt\": \"2020-12-30T03:12:43.171908Z\", \"duration\": \"0:02:37\", \"iteration\": \"43\", \"goal\": \"AUC_weighted_max\", \"run_name\": \"VotingEnsemble\", \"run_properties\": \"classification_labels=None,\\n                              estimators=[('25',\\n                                           Pipeline(memory=None,\\n                                                    steps=[('minmaxscaler',\\n                                                            MinMaxScaler(copy=True,\\n                                                                         feature_range=(0,\\n                                                                                        1\", \"primary_metric\": 0.93124835, \"best_metric\": 0.93124835}, {\"run_id\": \"AutoML_b5e41e6c-d318-45f0-9c08-c3653e9d943d_44\", \"run_number\": 49, \"metric\": null, \"status\": \"Completed\", \"run_type\": \"azureml.scriptrun\", \"training_percent\": \"100\", \"start_time\": \"2020-12-30T03:12:56.130936Z\", \"end_time\": \"2020-12-30T03:15:28.58866Z\", \"created_time\": \"2020-12-30T03:12:43.182514Z\", \"created_time_dt\": \"2020-12-30T03:12:43.182514Z\", \"duration\": \"0:02:45\", \"iteration\": \"44\", \"goal\": \"AUC_weighted_max\", \"run_name\": \"StackEnsemble\", \"run_properties\": \"base_learners=[('25',\\n                                        Pipeline(memory=None,\\n                                                 steps=[('minmaxscaler',\\n                                                         MinMaxScaler(copy=True,\\n                                                                      feature_range=(0,\\n                                                                                     1\", \"primary_metric\": 0.91913112, \"best_metric\": 0.93124835}], \"children_metrics\": {\"categories\": [0], \"series\": {\"balanced_accuracy\": [{\"categories\": [\"0\", \"1\", \"2\", \"3\", \"4\", \"5\", \"6\", \"7\", \"8\", \"9\", \"10\", \"11\", \"12\", \"13\", \"14\", \"15\", \"16\", \"17\", \"18\", \"19\", \"20\", \"21\", \"22\", \"23\", \"24\", \"25\", \"26\", \"27\", \"28\", \"29\", \"30\", \"31\", \"32\", \"33\", \"34\", \"35\", \"36\", \"37\", \"38\", \"39\", \"40\", \"43\", \"44\"], \"mode\": \"markers\", \"name\": \"balanced_accuracy\", \"stepped\": false, \"type\": \"scatter\", \"data\": [0.7736210317460317, 0.8073313492063491, 0.8041468253968255, 0.7330753968253969, 0.8071626984126985, 0.798859126984127, 0.7781051587301587, 0.7876984126984127, 0.7084325396825397, 0.6502579365079365, 0.6691269841269841, 0.7688293650793651, 0.8145734126984128, 0.7543353174603176, 0.8030753968253969, 0.5407142857142857, 0.6699702380952381, 0.7331845238095238, 0.8394047619047619, 0.8146031746031746, 0.7749900793650795, 0.7941269841269841, 0.7485515873015873, 0.8421329365079366, 0.751359126984127, 0.8217857142857141, 0.6351686507936508, 0.8272023809523809, 0.799047619047619, 0.8297718253968254, 0.7962698412698413, 0.8189781746031745, 0.8417857142857142, 0.8148511904761906, 0.7452777777777777, 0.8101686507936507, 0.8196329365079364, 0.7996626984126984, 0.758561507936508, 0.8019841269841269, 0.7680059523809524, 0.8244246031746032, 0.656359126984127]}, {\"categories\": [\"0\", \"1\", \"2\", \"3\", \"4\", \"5\", \"6\", \"7\", \"8\", \"9\", \"10\", \"11\", \"12\", \"13\", \"14\", \"15\", \"16\", \"17\", \"18\", \"19\", \"20\", \"21\", \"22\", \"23\", \"24\", \"25\", \"26\", \"27\", \"28\", \"29\", \"30\", \"31\", \"32\", \"33\", \"34\", \"35\", \"36\", \"37\", \"38\", \"39\", \"40\", \"43\", \"44\"], \"mode\": \"lines\", \"name\": \"balanced_accuracy_max\", \"stepped\": true, \"type\": \"scatter\", \"data\": [0.7736210317460317, 0.8073313492063491, 0.8073313492063491, 0.8073313492063491, 0.8073313492063491, 0.8073313492063491, 0.8073313492063491, 0.8073313492063491, 0.8073313492063491, 0.8073313492063491, 0.8073313492063491, 0.8073313492063491, 0.8145734126984128, 0.8145734126984128, 0.8145734126984128, 0.8145734126984128, 0.8145734126984128, 0.8145734126984128, 0.8394047619047619, 0.8394047619047619, 0.8394047619047619, 0.8394047619047619, 0.8394047619047619, 0.8421329365079366, 0.8421329365079366, 0.8421329365079366, 0.8421329365079366, 0.8421329365079366, 0.8421329365079366, 0.8421329365079366, 0.8421329365079366, 0.8421329365079366, 0.8421329365079366, 0.8421329365079366, 0.8421329365079366, 0.8421329365079366, 0.8421329365079366, 0.8421329365079366, 0.8421329365079366, 0.8421329365079366, 0.8421329365079366, 0.8421329365079366, 0.8421329365079366]}], \"log_loss\": [{\"categories\": [\"0\", \"1\", \"2\", \"3\", \"4\", \"5\", \"6\", \"7\", \"8\", \"9\", \"10\", \"11\", \"12\", \"13\", \"14\", \"15\", \"16\", \"17\", \"18\", \"19\", \"20\", \"21\", \"22\", \"23\", \"24\", \"25\", \"26\", \"27\", \"28\", \"29\", \"30\", \"31\", \"32\", \"33\", \"34\", \"35\", \"36\", \"37\", \"38\", \"39\", \"40\", \"43\", \"44\"], \"mode\": \"markers\", \"name\": \"log_loss\", \"stepped\": false, \"type\": \"scatter\", \"data\": [0.5113835461600813, 0.43916675172891606, 0.5376643774899567, 0.4863317209594854, 0.4035280146570976, 0.39961717975103667, 0.40773812251840286, 0.4184882713319259, 0.4911515636023209, 1.1099851948022064, 0.4896829255881404, 0.45632126965883346, 0.432697021079846, 0.4443516048117001, 0.4625069612322964, 0.7364294315179739, 0.4929003393626427, 0.6384639363079178, 0.5225234949220794, 0.49390392784680426, 0.4192141868930094, 0.5129613583451755, 0.5093129904576769, 0.4689579460430899, 0.4620845045958445, 0.42316740222531124, 0.5283058061097853, 0.3985009514039328, 0.4189207491804071, 0.41973855752812506, 0.4777387928576995, 0.4061096029484628, 0.4660163059733877, 0.480479958478859, 0.4877358005578836, 0.5544855402500614, 0.3760874815065841, 0.38016642123561384, 0.45228532935228205, 0.3743459806010905, 0.4716633437226331, 0.4316217447774612, 0.5097492477420246]}, {\"categories\": [\"0\", \"1\", \"2\", \"3\", \"4\", \"5\", \"6\", \"7\", \"8\", \"9\", \"10\", \"11\", \"12\", \"13\", \"14\", \"15\", \"16\", \"17\", \"18\", \"19\", \"20\", \"21\", \"22\", \"23\", \"24\", \"25\", \"26\", \"27\", \"28\", \"29\", \"30\", \"31\", \"32\", \"33\", \"34\", \"35\", \"36\", \"37\", \"38\", \"39\", \"40\", \"43\", \"44\"], \"mode\": \"lines\", \"name\": \"log_loss_min\", \"stepped\": true, \"type\": \"scatter\", \"data\": [0.5113835461600813, 0.43916675172891606, 0.43916675172891606, 0.43916675172891606, 0.4035280146570976, 0.39961717975103667, 0.39961717975103667, 0.39961717975103667, 0.39961717975103667, 0.39961717975103667, 0.39961717975103667, 0.39961717975103667, 0.39961717975103667, 0.39961717975103667, 0.39961717975103667, 0.39961717975103667, 0.39961717975103667, 0.39961717975103667, 0.39961717975103667, 0.39961717975103667, 0.39961717975103667, 0.39961717975103667, 0.39961717975103667, 0.39961717975103667, 0.39961717975103667, 0.39961717975103667, 0.39961717975103667, 0.3985009514039328, 0.3985009514039328, 0.3985009514039328, 0.3985009514039328, 0.3985009514039328, 0.3985009514039328, 0.3985009514039328, 0.3985009514039328, 0.3985009514039328, 0.3760874815065841, 0.3760874815065841, 0.3760874815065841, 0.3743459806010905, 0.3743459806010905, 0.3743459806010905, 0.3743459806010905]}], \"recall_score_macro\": [{\"categories\": [\"0\", \"1\", \"2\", \"3\", \"4\", \"5\", \"6\", \"7\", \"8\", \"9\", \"10\", \"11\", \"12\", \"13\", \"14\", \"15\", \"16\", \"17\", \"18\", \"19\", \"20\", \"21\", \"22\", \"23\", \"24\", \"25\", \"26\", \"27\", \"28\", \"29\", \"30\", \"31\", \"32\", \"33\", \"34\", \"35\", \"36\", \"37\", \"38\", \"39\", \"40\", \"43\", \"44\"], \"mode\": \"markers\", \"name\": \"recall_score_macro\", \"stepped\": false, \"type\": \"scatter\", \"data\": [0.7736210317460317, 0.8073313492063491, 0.8041468253968255, 0.7330753968253969, 0.8071626984126985, 0.798859126984127, 0.7781051587301587, 0.7876984126984127, 0.7084325396825397, 0.6502579365079365, 0.6691269841269841, 0.7688293650793651, 0.8145734126984128, 0.7543353174603176, 0.8030753968253969, 0.5407142857142857, 0.6699702380952381, 0.7331845238095238, 0.8394047619047619, 0.8146031746031746, 0.7749900793650795, 0.7941269841269841, 0.7485515873015873, 0.8421329365079366, 0.751359126984127, 0.8217857142857141, 0.6351686507936508, 0.8272023809523809, 0.799047619047619, 0.8297718253968254, 0.7962698412698413, 0.8189781746031745, 0.8417857142857142, 0.8148511904761906, 0.7452777777777777, 0.8101686507936507, 0.8196329365079364, 0.7996626984126984, 0.758561507936508, 0.8019841269841269, 0.7680059523809524, 0.8244246031746032, 0.656359126984127]}, {\"categories\": [\"0\", \"1\", \"2\", \"3\", \"4\", \"5\", \"6\", \"7\", \"8\", \"9\", \"10\", \"11\", \"12\", \"13\", \"14\", \"15\", \"16\", \"17\", \"18\", \"19\", \"20\", \"21\", \"22\", \"23\", \"24\", \"25\", \"26\", \"27\", \"28\", \"29\", \"30\", \"31\", \"32\", \"33\", \"34\", \"35\", \"36\", \"37\", \"38\", \"39\", \"40\", \"43\", \"44\"], \"mode\": \"lines\", \"name\": \"recall_score_macro_max\", \"stepped\": true, \"type\": \"scatter\", \"data\": [0.7736210317460317, 0.8073313492063491, 0.8073313492063491, 0.8073313492063491, 0.8073313492063491, 0.8073313492063491, 0.8073313492063491, 0.8073313492063491, 0.8073313492063491, 0.8073313492063491, 0.8073313492063491, 0.8073313492063491, 0.8145734126984128, 0.8145734126984128, 0.8145734126984128, 0.8145734126984128, 0.8145734126984128, 0.8145734126984128, 0.8394047619047619, 0.8394047619047619, 0.8394047619047619, 0.8394047619047619, 0.8394047619047619, 0.8421329365079366, 0.8421329365079366, 0.8421329365079366, 0.8421329365079366, 0.8421329365079366, 0.8421329365079366, 0.8421329365079366, 0.8421329365079366, 0.8421329365079366, 0.8421329365079366, 0.8421329365079366, 0.8421329365079366, 0.8421329365079366, 0.8421329365079366, 0.8421329365079366, 0.8421329365079366, 0.8421329365079366, 0.8421329365079366, 0.8421329365079366, 0.8421329365079366]}], \"f1_score_weighted\": [{\"categories\": [\"0\", \"1\", \"2\", \"3\", \"4\", \"5\", \"6\", \"7\", \"8\", \"9\", \"10\", \"11\", \"12\", \"13\", \"14\", \"15\", \"16\", \"17\", \"18\", \"19\", \"20\", \"21\", \"22\", \"23\", \"24\", \"25\", \"26\", \"27\", \"28\", \"29\", \"30\", \"31\", \"32\", \"33\", \"34\", \"35\", \"36\", \"37\", \"38\", \"39\", \"40\", \"43\", \"44\"], \"mode\": \"markers\", \"name\": \"f1_score_weighted\", \"stepped\": false, \"type\": \"scatter\", \"data\": [0.7983012006870832, 0.8299387381180269, 0.8236659850999393, 0.7802476656638555, 0.8237886741660505, 0.8253998133795134, 0.8038085713200784, 0.8216715758547599, 0.7553944577993491, 0.7015050591294317, 0.7185685236388561, 0.8095112019143974, 0.8184585123883759, 0.7865275505297749, 0.8116895982999403, 0.596362365371599, 0.722735618434274, 0.7453624690898746, 0.8432718323817238, 0.8385756007397422, 0.8048273773362462, 0.8098413658175648, 0.7741188088407787, 0.8500395158777861, 0.7915468998987015, 0.8293596454522489, 0.6905375682549595, 0.8406337011166178, 0.8343794717915172, 0.8376415500844155, 0.833905578224851, 0.8428091377447109, 0.8498841992708565, 0.8421497086379194, 0.7603677325906206, 0.8169764092569544, 0.8391595936629418, 0.8247969409503165, 0.7920801898831764, 0.8295461027932877, 0.7998768198166454, 0.8433329694597509, 0.6819213001063688]}, {\"categories\": [\"0\", \"1\", \"2\", \"3\", \"4\", \"5\", \"6\", \"7\", \"8\", \"9\", \"10\", \"11\", \"12\", \"13\", \"14\", \"15\", \"16\", \"17\", \"18\", \"19\", \"20\", \"21\", \"22\", \"23\", \"24\", \"25\", \"26\", \"27\", \"28\", \"29\", \"30\", \"31\", \"32\", \"33\", \"34\", \"35\", \"36\", \"37\", \"38\", \"39\", \"40\", \"43\", \"44\"], \"mode\": \"lines\", \"name\": \"f1_score_weighted_max\", \"stepped\": true, \"type\": \"scatter\", \"data\": [0.7983012006870832, 0.8299387381180269, 0.8299387381180269, 0.8299387381180269, 0.8299387381180269, 0.8299387381180269, 0.8299387381180269, 0.8299387381180269, 0.8299387381180269, 0.8299387381180269, 0.8299387381180269, 0.8299387381180269, 0.8299387381180269, 0.8299387381180269, 0.8299387381180269, 0.8299387381180269, 0.8299387381180269, 0.8299387381180269, 0.8432718323817238, 0.8432718323817238, 0.8432718323817238, 0.8432718323817238, 0.8432718323817238, 0.8500395158777861, 0.8500395158777861, 0.8500395158777861, 0.8500395158777861, 0.8500395158777861, 0.8500395158777861, 0.8500395158777861, 0.8500395158777861, 0.8500395158777861, 0.8500395158777861, 0.8500395158777861, 0.8500395158777861, 0.8500395158777861, 0.8500395158777861, 0.8500395158777861, 0.8500395158777861, 0.8500395158777861, 0.8500395158777861, 0.8500395158777861, 0.8500395158777861]}], \"accuracy\": [{\"categories\": [\"0\", \"1\", \"2\", \"3\", \"4\", \"5\", \"6\", \"7\", \"8\", \"9\", \"10\", \"11\", \"12\", \"13\", \"14\", \"15\", \"16\", \"17\", \"18\", \"19\", \"20\", \"21\", \"22\", \"23\", \"24\", \"25\", \"26\", \"27\", \"28\", \"29\", \"30\", \"31\", \"32\", \"33\", \"34\", \"35\", \"36\", \"37\", \"38\", \"39\", \"40\", \"43\", \"44\"], \"mode\": \"markers\", \"name\": \"accuracy\", \"stepped\": false, \"type\": \"scatter\", \"data\": [0.803623188405797, 0.8327898550724638, 0.8246376811594203, 0.7994565217391305, 0.8244565217391304, 0.8329710144927537, 0.8074275362318841, 0.8284420289855072, 0.7867753623188406, 0.7244565217391306, 0.7534420289855073, 0.8246376811594203, 0.8159420289855073, 0.7907608695652173, 0.8115942028985508, 0.6237318840579709, 0.7657608695652175, 0.7534420289855073, 0.8407608695652173, 0.8409420289855072, 0.8117753623188406, 0.8077898550724638, 0.7788043478260869, 0.8494565217391304, 0.8038043478260869, 0.8282608695652176, 0.7409420289855072, 0.8409420289855072, 0.8409420289855072, 0.8367753623188406, 0.8409420289855072, 0.8451086956521738, 0.8494565217391304, 0.8451086956521738, 0.7574275362318841, 0.8159420289855073, 0.841123188405797, 0.8286231884057971, 0.7992753623188406, 0.8327898550724637, 0.8034420289855072, 0.8452898550724639, 0.7487318840579709]}, {\"categories\": [\"0\", \"1\", \"2\", \"3\", \"4\", \"5\", \"6\", \"7\", \"8\", \"9\", \"10\", \"11\", \"12\", \"13\", \"14\", \"15\", \"16\", \"17\", \"18\", \"19\", \"20\", \"21\", \"22\", \"23\", \"24\", \"25\", \"26\", \"27\", \"28\", \"29\", \"30\", \"31\", \"32\", \"33\", \"34\", \"35\", \"36\", \"37\", \"38\", \"39\", \"40\", \"43\", \"44\"], \"mode\": \"lines\", \"name\": \"accuracy_max\", \"stepped\": true, \"type\": \"scatter\", \"data\": [0.803623188405797, 0.8327898550724638, 0.8327898550724638, 0.8327898550724638, 0.8327898550724638, 0.8329710144927537, 0.8329710144927537, 0.8329710144927537, 0.8329710144927537, 0.8329710144927537, 0.8329710144927537, 0.8329710144927537, 0.8329710144927537, 0.8329710144927537, 0.8329710144927537, 0.8329710144927537, 0.8329710144927537, 0.8329710144927537, 0.8407608695652173, 0.8409420289855072, 0.8409420289855072, 0.8409420289855072, 0.8409420289855072, 0.8494565217391304, 0.8494565217391304, 0.8494565217391304, 0.8494565217391304, 0.8494565217391304, 0.8494565217391304, 0.8494565217391304, 0.8494565217391304, 0.8494565217391304, 0.8494565217391304, 0.8494565217391304, 0.8494565217391304, 0.8494565217391304, 0.8494565217391304, 0.8494565217391304, 0.8494565217391304, 0.8494565217391304, 0.8494565217391304, 0.8494565217391304, 0.8494565217391304]}], \"f1_score_macro\": [{\"categories\": [\"0\", \"1\", \"2\", \"3\", \"4\", \"5\", \"6\", \"7\", \"8\", \"9\", \"10\", \"11\", \"12\", \"13\", \"14\", \"15\", \"16\", \"17\", \"18\", \"19\", \"20\", \"21\", \"22\", \"23\", \"24\", \"25\", \"26\", \"27\", \"28\", \"29\", \"30\", \"31\", \"32\", \"33\", \"34\", \"35\", \"36\", \"37\", \"38\", \"39\", \"40\", \"43\", \"44\"], \"mode\": \"markers\", \"name\": \"f1_score_macro\", \"stepped\": false, \"type\": \"scatter\", \"data\": [0.7716529969862921, 0.8066550600718466, 0.8010129383378384, 0.7422297220323536, 0.800006835940863, 0.7946170533158546, 0.774947067841512, 0.7920152151769798, 0.7056361067390479, 0.6498604507409158, 0.6651398169045228, 0.7727805421304346, 0.7980199938869186, 0.7560294901695219, 0.7894361888220368, 0.5308222516969895, 0.6640416699627226, 0.7153073552616409, 0.8287271230840065, 0.8155212372869762, 0.7751964549260564, 0.7876720308675771, 0.743338989058713, 0.8316128403207614, 0.7549784992574368, 0.8115319126244838, 0.6232712306241718, 0.8202612026768469, 0.8054473165050384, 0.818424111010955, 0.8049885015100859, 0.8208393552122523, 0.83095502880906, 0.8188067413500105, 0.7327415900234684, 0.7979079911321533, 0.8175282592600682, 0.8001503271914021, 0.7611877920203347, 0.8045878355769656, 0.7688364793808342, 0.821897145902015, 0.6051207710418238]}, {\"categories\": [\"0\", \"1\", \"2\", \"3\", \"4\", \"5\", \"6\", \"7\", \"8\", \"9\", \"10\", \"11\", \"12\", \"13\", \"14\", \"15\", \"16\", \"17\", \"18\", \"19\", \"20\", \"21\", \"22\", \"23\", \"24\", \"25\", \"26\", \"27\", \"28\", \"29\", \"30\", \"31\", \"32\", \"33\", \"34\", \"35\", \"36\", \"37\", \"38\", \"39\", \"40\", \"43\", \"44\"], \"mode\": \"lines\", \"name\": \"f1_score_macro_max\", \"stepped\": true, \"type\": \"scatter\", \"data\": [0.7716529969862921, 0.8066550600718466, 0.8066550600718466, 0.8066550600718466, 0.8066550600718466, 0.8066550600718466, 0.8066550600718466, 0.8066550600718466, 0.8066550600718466, 0.8066550600718466, 0.8066550600718466, 0.8066550600718466, 0.8066550600718466, 0.8066550600718466, 0.8066550600718466, 0.8066550600718466, 0.8066550600718466, 0.8066550600718466, 0.8287271230840065, 0.8287271230840065, 0.8287271230840065, 0.8287271230840065, 0.8287271230840065, 0.8316128403207614, 0.8316128403207614, 0.8316128403207614, 0.8316128403207614, 0.8316128403207614, 0.8316128403207614, 0.8316128403207614, 0.8316128403207614, 0.8316128403207614, 0.8316128403207614, 0.8316128403207614, 0.8316128403207614, 0.8316128403207614, 0.8316128403207614, 0.8316128403207614, 0.8316128403207614, 0.8316128403207614, 0.8316128403207614, 0.8316128403207614, 0.8316128403207614]}], \"precision_score_micro\": [{\"categories\": [\"0\", \"1\", \"2\", \"3\", \"4\", \"5\", \"6\", \"7\", \"8\", \"9\", \"10\", \"11\", \"12\", \"13\", \"14\", \"15\", \"16\", \"17\", \"18\", \"19\", \"20\", \"21\", \"22\", \"23\", \"24\", \"25\", \"26\", \"27\", \"28\", \"29\", \"30\", \"31\", \"32\", \"33\", \"34\", \"35\", \"36\", \"37\", \"38\", \"39\", \"40\", \"43\", \"44\"], \"mode\": \"markers\", \"name\": \"precision_score_micro\", \"stepped\": false, \"type\": \"scatter\", \"data\": [0.803623188405797, 0.8327898550724638, 0.8246376811594203, 0.7994565217391305, 0.8244565217391304, 0.8329710144927537, 0.8074275362318841, 0.8284420289855072, 0.7867753623188406, 0.7244565217391306, 0.7534420289855073, 0.8246376811594203, 0.8159420289855073, 0.7907608695652173, 0.8115942028985508, 0.6237318840579709, 0.7657608695652175, 0.7534420289855073, 0.8407608695652173, 0.8409420289855072, 0.8117753623188406, 0.8077898550724638, 0.7788043478260869, 0.8494565217391304, 0.8038043478260869, 0.8282608695652176, 0.7409420289855072, 0.8409420289855072, 0.8409420289855072, 0.8367753623188406, 0.8409420289855072, 0.8451086956521738, 0.8494565217391304, 0.8451086956521738, 0.7574275362318841, 0.8159420289855073, 0.841123188405797, 0.8286231884057971, 0.7992753623188406, 0.8327898550724637, 0.8034420289855072, 0.8452898550724639, 0.7487318840579709]}, {\"categories\": [\"0\", \"1\", \"2\", \"3\", \"4\", \"5\", \"6\", \"7\", \"8\", \"9\", \"10\", \"11\", \"12\", \"13\", \"14\", \"15\", \"16\", \"17\", \"18\", \"19\", \"20\", \"21\", \"22\", \"23\", \"24\", \"25\", \"26\", \"27\", \"28\", \"29\", \"30\", \"31\", \"32\", \"33\", \"34\", \"35\", \"36\", \"37\", \"38\", \"39\", \"40\", \"43\", \"44\"], \"mode\": \"lines\", \"name\": \"precision_score_micro_max\", \"stepped\": true, \"type\": \"scatter\", \"data\": [0.803623188405797, 0.8327898550724638, 0.8327898550724638, 0.8327898550724638, 0.8327898550724638, 0.8329710144927537, 0.8329710144927537, 0.8329710144927537, 0.8329710144927537, 0.8329710144927537, 0.8329710144927537, 0.8329710144927537, 0.8329710144927537, 0.8329710144927537, 0.8329710144927537, 0.8329710144927537, 0.8329710144927537, 0.8329710144927537, 0.8407608695652173, 0.8409420289855072, 0.8409420289855072, 0.8409420289855072, 0.8409420289855072, 0.8494565217391304, 0.8494565217391304, 0.8494565217391304, 0.8494565217391304, 0.8494565217391304, 0.8494565217391304, 0.8494565217391304, 0.8494565217391304, 0.8494565217391304, 0.8494565217391304, 0.8494565217391304, 0.8494565217391304, 0.8494565217391304, 0.8494565217391304, 0.8494565217391304, 0.8494565217391304, 0.8494565217391304, 0.8494565217391304, 0.8494565217391304, 0.8494565217391304]}], \"precision_score_macro\": [{\"categories\": [\"0\", \"1\", \"2\", \"3\", \"4\", \"5\", \"6\", \"7\", \"8\", \"9\", \"10\", \"11\", \"12\", \"13\", \"14\", \"15\", \"16\", \"17\", \"18\", \"19\", \"20\", \"21\", \"22\", \"23\", \"24\", \"25\", \"26\", \"27\", \"28\", \"29\", \"30\", \"31\", \"32\", \"33\", \"34\", \"35\", \"36\", \"37\", \"38\", \"39\", \"40\", \"43\", \"44\"], \"mode\": \"markers\", \"name\": \"precision_score_macro\", \"stepped\": false, \"type\": \"scatter\", \"data\": [0.8126825341840822, 0.8394327731092437, 0.8184337068160599, 0.8380011861203812, 0.8123259134656193, 0.8410781656293332, 0.8130046301737478, 0.8358423493001667, 0.789705145215981, 0.7443658830288928, 0.8111719082786017, 0.8578099460608041, 0.8057029082029082, 0.7823147140097604, 0.8062002391743104, 0.5615571711140597, 0.7727740333356836, 0.7300659902962534, 0.8397525116352516, 0.8398336834733893, 0.8094368441156368, 0.8020723026973027, 0.7798926097552259, 0.8485130718954249, 0.8072622286554175, 0.8295017482517484, 0.7665607942781856, 0.8379701426024955, 0.8521660937102113, 0.8351647535471065, 0.8519577603768781, 0.8476943277310924, 0.8462830796654327, 0.8475268440709618, 0.7398525036624882, 0.8055333701386334, 0.8389915966386555, 0.8294013526463218, 0.8047023809523809, 0.8354108309990662, 0.791922268907563, 0.8409255368814191, 0.5798940699468194]}, {\"categories\": [\"0\", \"1\", \"2\", \"3\", \"4\", \"5\", \"6\", \"7\", \"8\", \"9\", \"10\", \"11\", \"12\", \"13\", \"14\", \"15\", \"16\", \"17\", \"18\", \"19\", \"20\", \"21\", \"22\", \"23\", \"24\", \"25\", \"26\", \"27\", \"28\", \"29\", \"30\", \"31\", \"32\", \"33\", \"34\", \"35\", \"36\", \"37\", \"38\", \"39\", \"40\", \"43\", \"44\"], \"mode\": \"lines\", \"name\": \"precision_score_macro_max\", \"stepped\": true, \"type\": \"scatter\", \"data\": [0.8126825341840822, 0.8394327731092437, 0.8394327731092437, 0.8394327731092437, 0.8394327731092437, 0.8410781656293332, 0.8410781656293332, 0.8410781656293332, 0.8410781656293332, 0.8410781656293332, 0.8410781656293332, 0.8578099460608041, 0.8578099460608041, 0.8578099460608041, 0.8578099460608041, 0.8578099460608041, 0.8578099460608041, 0.8578099460608041, 0.8578099460608041, 0.8578099460608041, 0.8578099460608041, 0.8578099460608041, 0.8578099460608041, 0.8578099460608041, 0.8578099460608041, 0.8578099460608041, 0.8578099460608041, 0.8578099460608041, 0.8578099460608041, 0.8578099460608041, 0.8578099460608041, 0.8578099460608041, 0.8578099460608041, 0.8578099460608041, 0.8578099460608041, 0.8578099460608041, 0.8578099460608041, 0.8578099460608041, 0.8578099460608041, 0.8578099460608041, 0.8578099460608041, 0.8578099460608041, 0.8578099460608041]}], \"recall_score_micro\": [{\"categories\": [\"0\", \"1\", \"2\", \"3\", \"4\", \"5\", \"6\", \"7\", \"8\", \"9\", \"10\", \"11\", \"12\", \"13\", \"14\", \"15\", \"16\", \"17\", \"18\", \"19\", \"20\", \"21\", \"22\", \"23\", \"24\", \"25\", \"26\", \"27\", \"28\", \"29\", \"30\", \"31\", \"32\", \"33\", \"34\", \"35\", \"36\", \"37\", \"38\", \"39\", \"40\", \"43\", \"44\"], \"mode\": \"markers\", \"name\": \"recall_score_micro\", \"stepped\": false, \"type\": \"scatter\", \"data\": [0.803623188405797, 0.8327898550724638, 0.8246376811594203, 0.7994565217391305, 0.8244565217391304, 0.8329710144927537, 0.8074275362318841, 0.8284420289855072, 0.7867753623188406, 0.7244565217391306, 0.7534420289855073, 0.8246376811594203, 0.8159420289855073, 0.7907608695652173, 0.8115942028985508, 0.6237318840579709, 0.7657608695652175, 0.7534420289855073, 0.8407608695652173, 0.8409420289855072, 0.8117753623188406, 0.8077898550724638, 0.7788043478260869, 0.8494565217391304, 0.8038043478260869, 0.8282608695652176, 0.7409420289855072, 0.8409420289855072, 0.8409420289855072, 0.8367753623188406, 0.8409420289855072, 0.8451086956521738, 0.8494565217391304, 0.8451086956521738, 0.7574275362318841, 0.8159420289855073, 0.841123188405797, 0.8286231884057971, 0.7992753623188406, 0.8327898550724637, 0.8034420289855072, 0.8452898550724639, 0.7487318840579709]}, {\"categories\": [\"0\", \"1\", \"2\", \"3\", \"4\", \"5\", \"6\", \"7\", \"8\", \"9\", \"10\", \"11\", \"12\", \"13\", \"14\", \"15\", \"16\", \"17\", \"18\", \"19\", \"20\", \"21\", \"22\", \"23\", \"24\", \"25\", \"26\", \"27\", \"28\", \"29\", \"30\", \"31\", \"32\", \"33\", \"34\", \"35\", \"36\", \"37\", \"38\", \"39\", \"40\", \"43\", \"44\"], \"mode\": \"lines\", \"name\": \"recall_score_micro_max\", \"stepped\": true, \"type\": \"scatter\", \"data\": [0.803623188405797, 0.8327898550724638, 0.8327898550724638, 0.8327898550724638, 0.8327898550724638, 0.8329710144927537, 0.8329710144927537, 0.8329710144927537, 0.8329710144927537, 0.8329710144927537, 0.8329710144927537, 0.8329710144927537, 0.8329710144927537, 0.8329710144927537, 0.8329710144927537, 0.8329710144927537, 0.8329710144927537, 0.8329710144927537, 0.8407608695652173, 0.8409420289855072, 0.8409420289855072, 0.8409420289855072, 0.8409420289855072, 0.8494565217391304, 0.8494565217391304, 0.8494565217391304, 0.8494565217391304, 0.8494565217391304, 0.8494565217391304, 0.8494565217391304, 0.8494565217391304, 0.8494565217391304, 0.8494565217391304, 0.8494565217391304, 0.8494565217391304, 0.8494565217391304, 0.8494565217391304, 0.8494565217391304, 0.8494565217391304, 0.8494565217391304, 0.8494565217391304, 0.8494565217391304, 0.8494565217391304]}], \"average_precision_score_macro\": [{\"categories\": [\"0\", \"1\", \"2\", \"3\", \"4\", \"5\", \"6\", \"7\", \"8\", \"9\", \"10\", \"11\", \"12\", \"13\", \"14\", \"15\", \"16\", \"17\", \"18\", \"19\", \"20\", \"21\", \"22\", \"23\", \"24\", \"25\", \"26\", \"27\", \"28\", \"29\", \"30\", \"31\", \"32\", \"33\", \"34\", \"35\", \"36\", \"37\", \"38\", \"39\", \"40\", \"43\", \"44\"], \"mode\": \"markers\", \"name\": \"average_precision_score_macro\", \"stepped\": false, \"type\": \"scatter\", \"data\": [0.8734810462911631, 0.8810761649352858, 0.8727343147946053, 0.8696669604901471, 0.8827395138818094, 0.902545488290623, 0.8809549412338062, 0.9014609239527015, 0.8492742239394019, 0.7454483439021045, 0.8762560939952122, 0.8905802663147945, 0.889641125589755, 0.8488720396339072, 0.8941617293808306, 0.6303247521818182, 0.8740078249442302, 0.8372919999710613, 0.8899025565520123, 0.8877463769846772, 0.8650548267896971, 0.8648236236910213, 0.845354618114343, 0.9041503758560225, 0.8756355348466831, 0.9301717294203853, 0.8468785692727824, 0.8900819469792438, 0.8873857296317016, 0.9109790742855981, 0.7723187434961543, 0.9042536921420681, 0.9120359018100315, 0.850789725553146, 0.8453466232866766, 0.9011527594288747, 0.901743361877944, 0.9016135412287367, 0.8564421087495593, 0.901344190767013, 0.8556569774431502, 0.9248985076350345, 0.9116237050998304]}, {\"categories\": [\"0\", \"1\", \"2\", \"3\", \"4\", \"5\", \"6\", \"7\", \"8\", \"9\", \"10\", \"11\", \"12\", \"13\", \"14\", \"15\", \"16\", \"17\", \"18\", \"19\", \"20\", \"21\", \"22\", \"23\", \"24\", \"25\", \"26\", \"27\", \"28\", \"29\", \"30\", \"31\", \"32\", \"33\", \"34\", \"35\", \"36\", \"37\", \"38\", \"39\", \"40\", \"43\", \"44\"], \"mode\": \"lines\", \"name\": \"average_precision_score_macro_max\", \"stepped\": true, \"type\": \"scatter\", \"data\": [0.8734810462911631, 0.8810761649352858, 0.8810761649352858, 0.8810761649352858, 0.8827395138818094, 0.902545488290623, 0.902545488290623, 0.902545488290623, 0.902545488290623, 0.902545488290623, 0.902545488290623, 0.902545488290623, 0.902545488290623, 0.902545488290623, 0.902545488290623, 0.902545488290623, 0.902545488290623, 0.902545488290623, 0.902545488290623, 0.902545488290623, 0.902545488290623, 0.902545488290623, 0.902545488290623, 0.9041503758560225, 0.9041503758560225, 0.9301717294203853, 0.9301717294203853, 0.9301717294203853, 0.9301717294203853, 0.9301717294203853, 0.9301717294203853, 0.9301717294203853, 0.9301717294203853, 0.9301717294203853, 0.9301717294203853, 0.9301717294203853, 0.9301717294203853, 0.9301717294203853, 0.9301717294203853, 0.9301717294203853, 0.9301717294203853, 0.9301717294203853, 0.9301717294203853]}], \"precision_score_weighted\": [{\"categories\": [\"0\", \"1\", \"2\", \"3\", \"4\", \"5\", \"6\", \"7\", \"8\", \"9\", \"10\", \"11\", \"12\", \"13\", \"14\", \"15\", \"16\", \"17\", \"18\", \"19\", \"20\", \"21\", \"22\", \"23\", \"24\", \"25\", \"26\", \"27\", \"28\", \"29\", \"30\", \"31\", \"32\", \"33\", \"34\", \"35\", \"36\", \"37\", \"38\", \"39\", \"40\", \"43\", \"44\"], \"mode\": \"markers\", \"name\": \"precision_score_weighted\", \"stepped\": false, \"type\": \"scatter\", \"data\": [0.8264842830302515, 0.8525607416879796, 0.8371344059966981, 0.8292975344160732, 0.8385418575220367, 0.8513514673921947, 0.8296635158467799, 0.843099874114521, 0.7933468897579141, 0.7459292146752606, 0.8006863657414286, 0.8527607212475635, 0.840717780609085, 0.8026100504854586, 0.8379599002615853, 0.6022469282176385, 0.7675411465755894, 0.7657516006114404, 0.863861870507112, 0.8533072398645448, 0.8216232090618995, 0.8270349437197263, 0.8000836034853694, 0.8710594189366567, 0.8156569552676027, 0.8539571790930488, 0.7639206898174289, 0.8583397566042228, 0.8566839722274505, 0.8594789703996865, 0.8541492500052282, 0.8588674639541807, 0.8695241949014326, 0.8574487983599235, 0.780595039460192, 0.8350294280471626, 0.8543122200571049, 0.8429880200554669, 0.8176035556130664, 0.8478241248190097, 0.8133984560007578, 0.856757753826168, 0.6445428212242679]}, {\"categories\": [\"0\", \"1\", \"2\", \"3\", \"4\", \"5\", \"6\", \"7\", \"8\", \"9\", \"10\", \"11\", \"12\", \"13\", \"14\", \"15\", \"16\", \"17\", \"18\", \"19\", \"20\", \"21\", \"22\", \"23\", \"24\", \"25\", \"26\", \"27\", \"28\", \"29\", \"30\", \"31\", \"32\", \"33\", \"34\", \"35\", \"36\", \"37\", \"38\", \"39\", \"40\", \"43\", \"44\"], \"mode\": \"lines\", \"name\": \"precision_score_weighted_max\", \"stepped\": true, \"type\": \"scatter\", \"data\": [0.8264842830302515, 0.8525607416879796, 0.8525607416879796, 0.8525607416879796, 0.8525607416879796, 0.8525607416879796, 0.8525607416879796, 0.8525607416879796, 0.8525607416879796, 0.8525607416879796, 0.8525607416879796, 0.8527607212475635, 0.8527607212475635, 0.8527607212475635, 0.8527607212475635, 0.8527607212475635, 0.8527607212475635, 0.8527607212475635, 0.863861870507112, 0.863861870507112, 0.863861870507112, 0.863861870507112, 0.863861870507112, 0.8710594189366567, 0.8710594189366567, 0.8710594189366567, 0.8710594189366567, 0.8710594189366567, 0.8710594189366567, 0.8710594189366567, 0.8710594189366567, 0.8710594189366567, 0.8710594189366567, 0.8710594189366567, 0.8710594189366567, 0.8710594189366567, 0.8710594189366567, 0.8710594189366567, 0.8710594189366567, 0.8710594189366567, 0.8710594189366567, 0.8710594189366567, 0.8710594189366567]}], \"average_precision_score_micro\": [{\"categories\": [\"0\", \"1\", \"2\", \"3\", \"4\", \"5\", \"6\", \"7\", \"8\", \"9\", \"10\", \"11\", \"12\", \"13\", \"14\", \"15\", \"16\", \"17\", \"18\", \"19\", \"20\", \"21\", \"22\", \"23\", \"24\", \"25\", \"26\", \"27\", \"28\", \"29\", \"30\", \"31\", \"32\", \"33\", \"34\", \"35\", \"36\", \"37\", \"38\", \"39\", \"40\", \"43\", \"44\"], \"mode\": \"markers\", \"name\": \"average_precision_score_micro\", \"stepped\": false, \"type\": \"scatter\", \"data\": [0.8883364970720043, 0.9012837561354352, 0.8987830554099124, 0.876822076954228, 0.9052262603646822, 0.9160770307570697, 0.8964790603797089, 0.9020200027616705, 0.8662084066165148, 0.7711136281863581, 0.8747906979465266, 0.8924638704462998, 0.8991729956476707, 0.8761016515488125, 0.8969141581352519, 0.6861431613770802, 0.8717788740522334, 0.8518637350719633, 0.9099223736575702, 0.9028369366934677, 0.8911562528245514, 0.881076511850517, 0.8646325663826163, 0.914155749713936, 0.8879985326572261, 0.9247076622026634, 0.8518686794741204, 0.9021075529897551, 0.9026264459324503, 0.9187702797287347, 0.8074693321964725, 0.9132797906306909, 0.9158111915902317, 0.878817670671674, 0.8621225198851992, 0.9113383786768792, 0.9165102702727326, 0.9161541650007188, 0.8784281451094692, 0.9204217529404464, 0.8780127690069854, 0.9284787310057739, 0.8946231270605998]}, {\"categories\": [\"0\", \"1\", \"2\", \"3\", \"4\", \"5\", \"6\", \"7\", \"8\", \"9\", \"10\", \"11\", \"12\", \"13\", \"14\", \"15\", \"16\", \"17\", \"18\", \"19\", \"20\", \"21\", \"22\", \"23\", \"24\", \"25\", \"26\", \"27\", \"28\", \"29\", \"30\", \"31\", \"32\", \"33\", \"34\", \"35\", \"36\", \"37\", \"38\", \"39\", \"40\", \"43\", \"44\"], \"mode\": \"lines\", \"name\": \"average_precision_score_micro_max\", \"stepped\": true, \"type\": \"scatter\", \"data\": [0.8883364970720043, 0.9012837561354352, 0.9012837561354352, 0.9012837561354352, 0.9052262603646822, 0.9160770307570697, 0.9160770307570697, 0.9160770307570697, 0.9160770307570697, 0.9160770307570697, 0.9160770307570697, 0.9160770307570697, 0.9160770307570697, 0.9160770307570697, 0.9160770307570697, 0.9160770307570697, 0.9160770307570697, 0.9160770307570697, 0.9160770307570697, 0.9160770307570697, 0.9160770307570697, 0.9160770307570697, 0.9160770307570697, 0.9160770307570697, 0.9160770307570697, 0.9247076622026634, 0.9247076622026634, 0.9247076622026634, 0.9247076622026634, 0.9247076622026634, 0.9247076622026634, 0.9247076622026634, 0.9247076622026634, 0.9247076622026634, 0.9247076622026634, 0.9247076622026634, 0.9247076622026634, 0.9247076622026634, 0.9247076622026634, 0.9247076622026634, 0.9247076622026634, 0.9284787310057739, 0.9284787310057739]}], \"average_precision_score_weighted\": [{\"categories\": [\"0\", \"1\", \"2\", \"3\", \"4\", \"5\", \"6\", \"7\", \"8\", \"9\", \"10\", \"11\", \"12\", \"13\", \"14\", \"15\", \"16\", \"17\", \"18\", \"19\", \"20\", \"21\", \"22\", \"23\", \"24\", \"25\", \"26\", \"27\", \"28\", \"29\", \"30\", \"31\", \"32\", \"33\", \"34\", \"35\", \"36\", \"37\", \"38\", \"39\", \"40\", \"43\", \"44\"], \"mode\": \"markers\", \"name\": \"average_precision_score_weighted\", \"stepped\": false, \"type\": \"scatter\", \"data\": [0.9000109067542017, 0.9062493235409341, 0.8969164960275599, 0.8958978729105953, 0.9094538209253766, 0.9228183037391269, 0.9038703313169721, 0.916707736406573, 0.8771307259172803, 0.7742392515539979, 0.9003361517936579, 0.907124010936162, 0.912378614388224, 0.8769947471972493, 0.9187918752231538, 0.671176368203771, 0.8974011124066228, 0.8626865925867305, 0.9134404713989366, 0.9101443063426716, 0.8930857371659465, 0.8905800412881615, 0.8718449729862563, 0.9242812366645907, 0.901117425569257, 0.9416557880864568, 0.8743873223649901, 0.9137655184562575, 0.9099272165083111, 0.9305950720917195, 0.8011750479499529, 0.9231707560768925, 0.9302106900561438, 0.8768132729499291, 0.874053870045362, 0.9199524629967195, 0.922618447783216, 0.9222061906621992, 0.8837385655635522, 0.923340268336798, 0.8861753311796849, 0.9407972341753595, 0.9311440135326888]}, {\"categories\": [\"0\", \"1\", \"2\", \"3\", \"4\", \"5\", \"6\", \"7\", \"8\", \"9\", \"10\", \"11\", \"12\", \"13\", \"14\", \"15\", \"16\", \"17\", \"18\", \"19\", \"20\", \"21\", \"22\", \"23\", \"24\", \"25\", \"26\", \"27\", \"28\", \"29\", \"30\", \"31\", \"32\", \"33\", \"34\", \"35\", \"36\", \"37\", \"38\", \"39\", \"40\", \"43\", \"44\"], \"mode\": \"lines\", \"name\": \"average_precision_score_weighted_max\", \"stepped\": true, \"type\": \"scatter\", \"data\": [0.9000109067542017, 0.9062493235409341, 0.9062493235409341, 0.9062493235409341, 0.9094538209253766, 0.9228183037391269, 0.9228183037391269, 0.9228183037391269, 0.9228183037391269, 0.9228183037391269, 0.9228183037391269, 0.9228183037391269, 0.9228183037391269, 0.9228183037391269, 0.9228183037391269, 0.9228183037391269, 0.9228183037391269, 0.9228183037391269, 0.9228183037391269, 0.9228183037391269, 0.9228183037391269, 0.9228183037391269, 0.9228183037391269, 0.9242812366645907, 0.9242812366645907, 0.9416557880864568, 0.9416557880864568, 0.9416557880864568, 0.9416557880864568, 0.9416557880864568, 0.9416557880864568, 0.9416557880864568, 0.9416557880864568, 0.9416557880864568, 0.9416557880864568, 0.9416557880864568, 0.9416557880864568, 0.9416557880864568, 0.9416557880864568, 0.9416557880864568, 0.9416557880864568, 0.9416557880864568, 0.9416557880864568]}], \"AUC_macro\": [{\"categories\": [\"0\", \"1\", \"2\", \"3\", \"4\", \"5\", \"6\", \"7\", \"8\", \"9\", \"10\", \"11\", \"12\", \"13\", \"14\", \"15\", \"16\", \"17\", \"18\", \"19\", \"20\", \"21\", \"22\", \"23\", \"24\", \"25\", \"26\", \"27\", \"28\", \"29\", \"30\", \"31\", \"32\", \"33\", \"34\", \"35\", \"36\", \"37\", \"38\", \"39\", \"40\", \"43\", \"44\"], \"mode\": \"markers\", \"name\": \"AUC_macro\", \"stepped\": false, \"type\": \"scatter\", \"data\": [0.8900892857142857, 0.8878893849206347, 0.8859664351851851, 0.8742708333333334, 0.8943377976190476, 0.9110333994708995, 0.8829472552910053, 0.8965732473544973, 0.8490054563492062, 0.7183440806878307, 0.877007275132275, 0.8814368386243385, 0.8970882936507936, 0.8497635582010583, 0.9044742063492063, 0.5875868055555555, 0.873010085978836, 0.8325595238095239, 0.8919518849206349, 0.8926322751322753, 0.8782018849206349, 0.8598131613756614, 0.8421023478835978, 0.910268683862434, 0.884292328042328, 0.9274462632275131, 0.8497503306878306, 0.8977207341269843, 0.897192046957672, 0.9169882605820107, 0.8064285714285715, 0.9077323082010583, 0.9156671626984128, 0.8760858961640212, 0.8447900132275132, 0.9004737103174602, 0.9095601851851851, 0.909068287037037, 0.8535449735449735, 0.9114393187830689, 0.8703191137566139, 0.9312483465608465, 0.9191311177248677]}, {\"categories\": [\"0\", \"1\", \"2\", \"3\", \"4\", \"5\", \"6\", \"7\", \"8\", \"9\", \"10\", \"11\", \"12\", \"13\", \"14\", \"15\", \"16\", \"17\", \"18\", \"19\", \"20\", \"21\", \"22\", \"23\", \"24\", \"25\", \"26\", \"27\", \"28\", \"29\", \"30\", \"31\", \"32\", \"33\", \"34\", \"35\", \"36\", \"37\", \"38\", \"39\", \"40\", \"43\", \"44\"], \"mode\": \"lines\", \"name\": \"AUC_macro_max\", \"stepped\": true, \"type\": \"scatter\", \"data\": [0.8900892857142857, 0.8900892857142857, 0.8900892857142857, 0.8900892857142857, 0.8943377976190476, 0.9110333994708995, 0.9110333994708995, 0.9110333994708995, 0.9110333994708995, 0.9110333994708995, 0.9110333994708995, 0.9110333994708995, 0.9110333994708995, 0.9110333994708995, 0.9110333994708995, 0.9110333994708995, 0.9110333994708995, 0.9110333994708995, 0.9110333994708995, 0.9110333994708995, 0.9110333994708995, 0.9110333994708995, 0.9110333994708995, 0.9110333994708995, 0.9110333994708995, 0.9274462632275131, 0.9274462632275131, 0.9274462632275131, 0.9274462632275131, 0.9274462632275131, 0.9274462632275131, 0.9274462632275131, 0.9274462632275131, 0.9274462632275131, 0.9274462632275131, 0.9274462632275131, 0.9274462632275131, 0.9274462632275131, 0.9274462632275131, 0.9274462632275131, 0.9274462632275131, 0.9312483465608465, 0.9312483465608465]}], \"recall_score_weighted\": [{\"categories\": [\"0\", \"1\", \"2\", \"3\", \"4\", \"5\", \"6\", \"7\", \"8\", \"9\", \"10\", \"11\", \"12\", \"13\", \"14\", \"15\", \"16\", \"17\", \"18\", \"19\", \"20\", \"21\", \"22\", \"23\", \"24\", \"25\", \"26\", \"27\", \"28\", \"29\", \"30\", \"31\", \"32\", \"33\", \"34\", \"35\", \"36\", \"37\", \"38\", \"39\", \"40\", \"43\", \"44\"], \"mode\": \"markers\", \"name\": \"recall_score_weighted\", \"stepped\": false, \"type\": \"scatter\", \"data\": [0.803623188405797, 0.8327898550724638, 0.8246376811594203, 0.7994565217391305, 0.8244565217391304, 0.8329710144927537, 0.8074275362318841, 0.8284420289855072, 0.7867753623188406, 0.7244565217391306, 0.7534420289855073, 0.8246376811594203, 0.8159420289855073, 0.7907608695652173, 0.8115942028985508, 0.6237318840579709, 0.7657608695652175, 0.7534420289855073, 0.8407608695652173, 0.8409420289855072, 0.8117753623188406, 0.8077898550724638, 0.7788043478260869, 0.8494565217391304, 0.8038043478260869, 0.8282608695652176, 0.7409420289855072, 0.8409420289855072, 0.8409420289855072, 0.8367753623188406, 0.8409420289855072, 0.8451086956521738, 0.8494565217391304, 0.8451086956521738, 0.7574275362318841, 0.8159420289855073, 0.841123188405797, 0.8286231884057971, 0.7992753623188406, 0.8327898550724637, 0.8034420289855072, 0.8452898550724639, 0.7487318840579709]}, {\"categories\": [\"0\", \"1\", \"2\", \"3\", \"4\", \"5\", \"6\", \"7\", \"8\", \"9\", \"10\", \"11\", \"12\", \"13\", \"14\", \"15\", \"16\", \"17\", \"18\", \"19\", \"20\", \"21\", \"22\", \"23\", \"24\", \"25\", \"26\", \"27\", \"28\", \"29\", \"30\", \"31\", \"32\", \"33\", \"34\", \"35\", \"36\", \"37\", \"38\", \"39\", \"40\", \"43\", \"44\"], \"mode\": \"lines\", \"name\": \"recall_score_weighted_max\", \"stepped\": true, \"type\": \"scatter\", \"data\": [0.803623188405797, 0.8327898550724638, 0.8327898550724638, 0.8327898550724638, 0.8327898550724638, 0.8329710144927537, 0.8329710144927537, 0.8329710144927537, 0.8329710144927537, 0.8329710144927537, 0.8329710144927537, 0.8329710144927537, 0.8329710144927537, 0.8329710144927537, 0.8329710144927537, 0.8329710144927537, 0.8329710144927537, 0.8329710144927537, 0.8407608695652173, 0.8409420289855072, 0.8409420289855072, 0.8409420289855072, 0.8409420289855072, 0.8494565217391304, 0.8494565217391304, 0.8494565217391304, 0.8494565217391304, 0.8494565217391304, 0.8494565217391304, 0.8494565217391304, 0.8494565217391304, 0.8494565217391304, 0.8494565217391304, 0.8494565217391304, 0.8494565217391304, 0.8494565217391304, 0.8494565217391304, 0.8494565217391304, 0.8494565217391304, 0.8494565217391304, 0.8494565217391304, 0.8494565217391304, 0.8494565217391304]}], \"norm_macro_recall\": [{\"categories\": [\"0\", \"1\", \"2\", \"3\", \"4\", \"5\", \"6\", \"7\", \"8\", \"9\", \"10\", \"11\", \"12\", \"13\", \"14\", \"15\", \"16\", \"17\", \"18\", \"19\", \"20\", \"21\", \"22\", \"23\", \"24\", \"25\", \"26\", \"27\", \"28\", \"29\", \"30\", \"31\", \"32\", \"33\", \"34\", \"35\", \"36\", \"37\", \"38\", \"39\", \"40\", \"43\", \"44\"], \"mode\": \"markers\", \"name\": \"norm_macro_recall\", \"stepped\": false, \"type\": \"scatter\", \"data\": [0.5472420634920635, 0.6146626984126984, 0.6082936507936507, 0.4661507936507937, 0.6143253968253969, 0.5977182539682541, 0.5562103174603173, 0.5753968253968254, 0.4168650793650793, 0.30051587301587296, 0.3382539682539682, 0.5376587301587301, 0.6291468253968254, 0.5086706349206349, 0.6061507936507937, 0.11482142857142852, 0.3399404761904762, 0.4663690476190476, 0.678809523809524, 0.6292063492063493, 0.5499801587301587, 0.5882539682539683, 0.49710317460317455, 0.684265873015873, 0.502718253968254, 0.6435714285714287, 0.2765873015873016, 0.6544047619047619, 0.5980952380952381, 0.6595436507936508, 0.5925396825396825, 0.6379563492063494, 0.6835714285714285, 0.629702380952381, 0.4905555555555555, 0.6203373015873016, 0.639265873015873, 0.5993253968253969, 0.5171230158730159, 0.6039682539682539, 0.5360119047619047, 0.6488492063492064, 0.312718253968254]}, {\"categories\": [\"0\", \"1\", \"2\", \"3\", \"4\", \"5\", \"6\", \"7\", \"8\", \"9\", \"10\", \"11\", \"12\", \"13\", \"14\", \"15\", \"16\", \"17\", \"18\", \"19\", \"20\", \"21\", \"22\", \"23\", \"24\", \"25\", \"26\", \"27\", \"28\", \"29\", \"30\", \"31\", \"32\", \"33\", \"34\", \"35\", \"36\", \"37\", \"38\", \"39\", \"40\", \"43\", \"44\"], \"mode\": \"lines\", \"name\": \"norm_macro_recall_max\", \"stepped\": true, \"type\": \"scatter\", \"data\": [0.5472420634920635, 0.6146626984126984, 0.6146626984126984, 0.6146626984126984, 0.6146626984126984, 0.6146626984126984, 0.6146626984126984, 0.6146626984126984, 0.6146626984126984, 0.6146626984126984, 0.6146626984126984, 0.6146626984126984, 0.6291468253968254, 0.6291468253968254, 0.6291468253968254, 0.6291468253968254, 0.6291468253968254, 0.6291468253968254, 0.678809523809524, 0.678809523809524, 0.678809523809524, 0.678809523809524, 0.678809523809524, 0.684265873015873, 0.684265873015873, 0.684265873015873, 0.684265873015873, 0.684265873015873, 0.684265873015873, 0.684265873015873, 0.684265873015873, 0.684265873015873, 0.684265873015873, 0.684265873015873, 0.684265873015873, 0.684265873015873, 0.684265873015873, 0.684265873015873, 0.684265873015873, 0.684265873015873, 0.684265873015873, 0.684265873015873, 0.684265873015873]}], \"weighted_accuracy\": [{\"categories\": [\"0\", \"1\", \"2\", \"3\", \"4\", \"5\", \"6\", \"7\", \"8\", \"9\", \"10\", \"11\", \"12\", \"13\", \"14\", \"15\", \"16\", \"17\", \"18\", \"19\", \"20\", \"21\", \"22\", \"23\", \"24\", \"25\", \"26\", \"27\", \"28\", \"29\", \"30\", \"31\", \"32\", \"33\", \"34\", \"35\", \"36\", \"37\", \"38\", \"39\", \"40\", \"43\", \"44\"], \"mode\": \"markers\", \"name\": \"weighted_accuracy\", \"stepped\": false, \"type\": \"scatter\", \"data\": [0.8281719400210239, 0.8530407794486867, 0.8402487902560226, 0.8516292232444596, 0.8381109967247866, 0.8578984987880842, 0.8298135213323257, 0.859431811271252, 0.8475694353948935, 0.7809592162075287, 0.8194441041813268, 0.8674007228057373, 0.8164130548098727, 0.8182833146550601, 0.8191563936163743, 0.6877134970071325, 0.8388647084886236, 0.7705668421555597, 0.8428262399332794, 0.8608159147575734, 0.8392804086632438, 0.8169905392374053, 0.8017061299486565, 0.8547047964068215, 0.843151545952896, 0.8330365225398977, 0.8217520003127525, 0.8510765418263008, 0.8726419331578444, 0.8416157575125753, 0.8747007566872563, 0.864937536379195, 0.8547047964068215, 0.8680552876888461, 0.7650612690800733, 0.821270339770822, 0.857404849400992, 0.8507699792367103, 0.8300514738460736, 0.8563780873448182, 0.8304320762421051, 0.8608812669950568, 0.819697542286742]}, {\"categories\": [\"0\", \"1\", \"2\", \"3\", \"4\", \"5\", \"6\", \"7\", \"8\", \"9\", \"10\", \"11\", \"12\", \"13\", \"14\", \"15\", \"16\", \"17\", \"18\", \"19\", \"20\", \"21\", \"22\", \"23\", \"24\", \"25\", \"26\", \"27\", \"28\", \"29\", \"30\", \"31\", \"32\", \"33\", \"34\", \"35\", \"36\", \"37\", \"38\", \"39\", \"40\", \"43\", \"44\"], \"mode\": \"lines\", \"name\": \"weighted_accuracy_max\", \"stepped\": true, \"type\": \"scatter\", \"data\": [0.8281719400210239, 0.8530407794486867, 0.8530407794486867, 0.8530407794486867, 0.8530407794486867, 0.8578984987880842, 0.8578984987880842, 0.859431811271252, 0.859431811271252, 0.859431811271252, 0.859431811271252, 0.8674007228057373, 0.8674007228057373, 0.8674007228057373, 0.8674007228057373, 0.8674007228057373, 0.8674007228057373, 0.8674007228057373, 0.8674007228057373, 0.8674007228057373, 0.8674007228057373, 0.8674007228057373, 0.8674007228057373, 0.8674007228057373, 0.8674007228057373, 0.8674007228057373, 0.8674007228057373, 0.8674007228057373, 0.8726419331578444, 0.8726419331578444, 0.8747007566872563, 0.8747007566872563, 0.8747007566872563, 0.8747007566872563, 0.8747007566872563, 0.8747007566872563, 0.8747007566872563, 0.8747007566872563, 0.8747007566872563, 0.8747007566872563, 0.8747007566872563, 0.8747007566872563, 0.8747007566872563]}], \"AUC_weighted\": [{\"categories\": [\"0\", \"1\", \"2\", \"3\", \"4\", \"5\", \"6\", \"7\", \"8\", \"9\", \"10\", \"11\", \"12\", \"13\", \"14\", \"15\", \"16\", \"17\", \"18\", \"19\", \"20\", \"21\", \"22\", \"23\", \"24\", \"25\", \"26\", \"27\", \"28\", \"29\", \"30\", \"31\", \"32\", \"33\", \"34\", \"35\", \"36\", \"37\", \"38\", \"39\", \"40\", \"43\", \"44\"], \"mode\": \"markers\", \"name\": \"AUC_weighted\", \"stepped\": false, \"type\": \"scatter\", \"data\": [0.8900892857142857, 0.887889384920635, 0.8859664351851851, 0.8742708333333333, 0.8943377976190476, 0.9110333994708995, 0.8828599105705084, 0.8965732473544973, 0.8490054563492062, 0.7183440806878306, 0.877007275132275, 0.8814368386243387, 0.8970882936507938, 0.8497635582010583, 0.9044742063492063, 0.5875868055555555, 0.873010085978836, 0.8325595238095239, 0.8919518849206349, 0.8926322751322753, 0.8782018849206349, 0.8598131613756614, 0.8421023478835978, 0.910268683862434, 0.884292328042328, 0.9274462632275131, 0.8497503306878308, 0.897720734126984, 0.897192046957672, 0.9169882605820107, 0.8064285714285713, 0.9077323082010583, 0.9156671626984128, 0.8760858961640212, 0.8447900132275132, 0.9004737103174602, 0.9095601851851851, 0.909068287037037, 0.8535449735449735, 0.9114393187830689, 0.8703191137566136, 0.9312483465608465, 0.9191311177248677]}, {\"categories\": [\"0\", \"1\", \"2\", \"3\", \"4\", \"5\", \"6\", \"7\", \"8\", \"9\", \"10\", \"11\", \"12\", \"13\", \"14\", \"15\", \"16\", \"17\", \"18\", \"19\", \"20\", \"21\", \"22\", \"23\", \"24\", \"25\", \"26\", \"27\", \"28\", \"29\", \"30\", \"31\", \"32\", \"33\", \"34\", \"35\", \"36\", \"37\", \"38\", \"39\", \"40\", \"43\", \"44\"], \"mode\": \"lines\", \"name\": \"AUC_weighted_max\", \"stepped\": true, \"type\": \"scatter\", \"data\": [0.8900892857142857, 0.8900892857142857, 0.8900892857142857, 0.8900892857142857, 0.8943377976190476, 0.9110333994708995, 0.9110333994708995, 0.9110333994708995, 0.9110333994708995, 0.9110333994708995, 0.9110333994708995, 0.9110333994708995, 0.9110333994708995, 0.9110333994708995, 0.9110333994708995, 0.9110333994708995, 0.9110333994708995, 0.9110333994708995, 0.9110333994708995, 0.9110333994708995, 0.9110333994708995, 0.9110333994708995, 0.9110333994708995, 0.9110333994708995, 0.9110333994708995, 0.9274462632275131, 0.9274462632275131, 0.9274462632275131, 0.9274462632275131, 0.9274462632275131, 0.9274462632275131, 0.9274462632275131, 0.9274462632275131, 0.9274462632275131, 0.9274462632275131, 0.9274462632275131, 0.9274462632275131, 0.9274462632275131, 0.9274462632275131, 0.9274462632275131, 0.9274462632275131, 0.9312483465608465, 0.9312483465608465]}], \"matthews_correlation\": [{\"categories\": [\"0\", \"1\", \"2\", \"3\", \"4\", \"5\", \"6\", \"7\", \"8\", \"9\", \"10\", \"11\", \"12\", \"13\", \"14\", \"15\", \"16\", \"17\", \"18\", \"19\", \"20\", \"21\", \"22\", \"23\", \"24\", \"25\", \"26\", \"27\", \"28\", \"29\", \"30\", \"31\", \"32\", \"33\", \"34\", \"35\", \"36\", \"37\", \"38\", \"39\", \"40\", \"43\", \"44\"], \"mode\": \"markers\", \"name\": \"matthews_correlation\", \"stepped\": false, \"type\": \"scatter\", \"data\": [0.5811470680333605, 0.6424444597531219, 0.619370842370221, 0.55490907794378, 0.6179357964568644, 0.626681845432935, 0.5841227285682652, 0.6160101057816645, 0.49839275917079534, 0.37193017783606275, 0.4447128927004697, 0.6086046826542382, 0.6188850507497442, 0.5339527258653185, 0.607640749688003, 0.09891081243656913, 0.43886880219439817, 0.4615833985279809, 0.6779678861028026, 0.6507755527252388, 0.5775629318942773, 0.5934519934500614, 0.521612879020865, 0.6873514269524015, 0.5501156453448821, 0.6491246318365447, 0.3742304586477935, 0.6618669051323885, 0.6436827747879307, 0.6615626881988642, 0.6408312872306208, 0.6627888690901725, 0.6846927282049803, 0.6585115391945695, 0.4844174972708018, 0.6144321527243575, 0.6551476623118552, 0.6251263147396584, 0.5563977258209938, 0.6335786443962867, 0.5573666361662422, 0.6620410281903369, 0.3195123110035353]}, {\"categories\": [\"0\", \"1\", \"2\", \"3\", \"4\", \"5\", \"6\", \"7\", \"8\", \"9\", \"10\", \"11\", \"12\", \"13\", \"14\", \"15\", \"16\", \"17\", \"18\", \"19\", \"20\", \"21\", \"22\", \"23\", \"24\", \"25\", \"26\", \"27\", \"28\", \"29\", \"30\", \"31\", \"32\", \"33\", \"34\", \"35\", \"36\", \"37\", \"38\", \"39\", \"40\", \"43\", \"44\"], \"mode\": \"lines\", \"name\": \"matthews_correlation_max\", \"stepped\": true, \"type\": \"scatter\", \"data\": [0.5811470680333605, 0.6424444597531219, 0.6424444597531219, 0.6424444597531219, 0.6424444597531219, 0.6424444597531219, 0.6424444597531219, 0.6424444597531219, 0.6424444597531219, 0.6424444597531219, 0.6424444597531219, 0.6424444597531219, 0.6424444597531219, 0.6424444597531219, 0.6424444597531219, 0.6424444597531219, 0.6424444597531219, 0.6424444597531219, 0.6779678861028026, 0.6779678861028026, 0.6779678861028026, 0.6779678861028026, 0.6779678861028026, 0.6873514269524015, 0.6873514269524015, 0.6873514269524015, 0.6873514269524015, 0.6873514269524015, 0.6873514269524015, 0.6873514269524015, 0.6873514269524015, 0.6873514269524015, 0.6873514269524015, 0.6873514269524015, 0.6873514269524015, 0.6873514269524015, 0.6873514269524015, 0.6873514269524015, 0.6873514269524015, 0.6873514269524015, 0.6873514269524015, 0.6873514269524015, 0.6873514269524015]}], \"f1_score_micro\": [{\"categories\": [\"0\", \"1\", \"2\", \"3\", \"4\", \"5\", \"6\", \"7\", \"8\", \"9\", \"10\", \"11\", \"12\", \"13\", \"14\", \"15\", \"16\", \"17\", \"18\", \"19\", \"20\", \"21\", \"22\", \"23\", \"24\", \"25\", \"26\", \"27\", \"28\", \"29\", \"30\", \"31\", \"32\", \"33\", \"34\", \"35\", \"36\", \"37\", \"38\", \"39\", \"40\", \"43\", \"44\"], \"mode\": \"markers\", \"name\": \"f1_score_micro\", \"stepped\": false, \"type\": \"scatter\", \"data\": [0.803623188405797, 0.8327898550724638, 0.8246376811594203, 0.7994565217391305, 0.8244565217391304, 0.8329710144927537, 0.8074275362318841, 0.8284420289855072, 0.7867753623188406, 0.7244565217391306, 0.7534420289855073, 0.8246376811594203, 0.8159420289855073, 0.7907608695652173, 0.8115942028985508, 0.6237318840579709, 0.7657608695652175, 0.7534420289855073, 0.8407608695652173, 0.8409420289855072, 0.8117753623188406, 0.8077898550724638, 0.7788043478260869, 0.8494565217391304, 0.8038043478260869, 0.8282608695652176, 0.7409420289855072, 0.8409420289855072, 0.8409420289855072, 0.8367753623188406, 0.8409420289855072, 0.8451086956521738, 0.8494565217391304, 0.8451086956521738, 0.7574275362318841, 0.8159420289855073, 0.841123188405797, 0.8286231884057971, 0.7992753623188406, 0.8327898550724637, 0.8034420289855072, 0.8452898550724639, 0.7487318840579709]}, {\"categories\": [\"0\", \"1\", \"2\", \"3\", \"4\", \"5\", \"6\", \"7\", \"8\", \"9\", \"10\", \"11\", \"12\", \"13\", \"14\", \"15\", \"16\", \"17\", \"18\", \"19\", \"20\", \"21\", \"22\", \"23\", \"24\", \"25\", \"26\", \"27\", \"28\", \"29\", \"30\", \"31\", \"32\", \"33\", \"34\", \"35\", \"36\", \"37\", \"38\", \"39\", \"40\", \"43\", \"44\"], \"mode\": \"lines\", \"name\": \"f1_score_micro_max\", \"stepped\": true, \"type\": \"scatter\", \"data\": [0.803623188405797, 0.8327898550724638, 0.8327898550724638, 0.8327898550724638, 0.8327898550724638, 0.8329710144927537, 0.8329710144927537, 0.8329710144927537, 0.8329710144927537, 0.8329710144927537, 0.8329710144927537, 0.8329710144927537, 0.8329710144927537, 0.8329710144927537, 0.8329710144927537, 0.8329710144927537, 0.8329710144927537, 0.8329710144927537, 0.8407608695652173, 0.8409420289855072, 0.8409420289855072, 0.8409420289855072, 0.8409420289855072, 0.8494565217391304, 0.8494565217391304, 0.8494565217391304, 0.8494565217391304, 0.8494565217391304, 0.8494565217391304, 0.8494565217391304, 0.8494565217391304, 0.8494565217391304, 0.8494565217391304, 0.8494565217391304, 0.8494565217391304, 0.8494565217391304, 0.8494565217391304, 0.8494565217391304, 0.8494565217391304, 0.8494565217391304, 0.8494565217391304, 0.8494565217391304, 0.8494565217391304]}], \"AUC_micro\": [{\"categories\": [\"0\", \"1\", \"2\", \"3\", \"4\", \"5\", \"6\", \"7\", \"8\", \"9\", \"10\", \"11\", \"12\", \"13\", \"14\", \"15\", \"16\", \"17\", \"18\", \"19\", \"20\", \"21\", \"22\", \"23\", \"24\", \"25\", \"26\", \"27\", \"28\", \"29\", \"30\", \"31\", \"32\", \"33\", \"34\", \"35\", \"36\", \"37\", \"38\", \"39\", \"40\", \"43\", \"44\"], \"mode\": \"markers\", \"name\": \"AUC_micro\", \"stepped\": false, \"type\": \"scatter\", \"data\": [0.8869486452425962, 0.8970683023524471, 0.897126063327032, 0.8693522237975216, 0.8996531059651334, 0.9115666351606805, 0.895426709199748, 0.8970026648813274, 0.8558066188825876, 0.7709879095778197, 0.8635767827137156, 0.887415327662256, 0.8961424858223062, 0.8679324852972063, 0.8923965553455157, 0.670618370615417, 0.8638892170762444, 0.8405905403276623, 0.9016517669607225, 0.8992750341314849, 0.8889605978260869, 0.8739278119092628, 0.8559917165511447, 0.9082102630749842, 0.8831446256038648, 0.918013547574039, 0.8388508191556397, 0.8991670604914933, 0.9003281873555975, 0.912851488657845, 0.8429984509556816, 0.9078282529930688, 0.9095991519638732, 0.8894369617727369, 0.854552943184205, 0.9029248057130855, 0.9104478444654485, 0.9096414881327453, 0.8707565374921235, 0.9142055896870405, 0.8719987266330602, 0.9224887103549675, 0.8812582046838899]}, {\"categories\": [\"0\", \"1\", \"2\", \"3\", \"4\", \"5\", \"6\", \"7\", \"8\", \"9\", \"10\", \"11\", \"12\", \"13\", \"14\", \"15\", \"16\", \"17\", \"18\", \"19\", \"20\", \"21\", \"22\", \"23\", \"24\", \"25\", \"26\", \"27\", \"28\", \"29\", \"30\", \"31\", \"32\", \"33\", \"34\", \"35\", \"36\", \"37\", \"38\", \"39\", \"40\", \"43\", \"44\"], \"mode\": \"lines\", \"name\": \"AUC_micro_max\", \"stepped\": true, \"type\": \"scatter\", \"data\": [0.8869486452425962, 0.8970683023524471, 0.897126063327032, 0.897126063327032, 0.8996531059651334, 0.9115666351606805, 0.9115666351606805, 0.9115666351606805, 0.9115666351606805, 0.9115666351606805, 0.9115666351606805, 0.9115666351606805, 0.9115666351606805, 0.9115666351606805, 0.9115666351606805, 0.9115666351606805, 0.9115666351606805, 0.9115666351606805, 0.9115666351606805, 0.9115666351606805, 0.9115666351606805, 0.9115666351606805, 0.9115666351606805, 0.9115666351606805, 0.9115666351606805, 0.918013547574039, 0.918013547574039, 0.918013547574039, 0.918013547574039, 0.918013547574039, 0.918013547574039, 0.918013547574039, 0.918013547574039, 0.918013547574039, 0.918013547574039, 0.918013547574039, 0.918013547574039, 0.918013547574039, 0.918013547574039, 0.918013547574039, 0.918013547574039, 0.9224887103549675, 0.9224887103549675]}]}, \"metricName\": null, \"primaryMetricName\": \"AUC_weighted\", \"showLegend\": false}, \"run_metrics\": [{\"name\": \"experiment_status\", \"run_id\": \"AutoML_b5e41e6c-d318-45f0-9c08-c3653e9d943d\", \"categories\": [0, 1, 2, 3, 4, 5, 6, 7, 8, 9, 10, 11, 12, 13], \"series\": [{\"data\": [\"DatasetEvaluation\", \"FeaturesGeneration\", \"DatasetFeaturization\", \"DatasetFeaturizationCompleted\", \"DatasetCrossValidationSplit\", \"ModelSelection\", \"BestRunExplainModel\", \"ModelExplanationDataSetSetup\", \"PickSurrogateModel\", \"EngineeredFeatureExplanations\", \"EngineeredFeatureExplanations\", \"RawFeaturesExplanations\", \"RawFeaturesExplanations\", \"BestRunExplainModel\"]}]}, {\"name\": \"experiment_status_description\", \"run_id\": \"AutoML_b5e41e6c-d318-45f0-9c08-c3653e9d943d\", \"categories\": [0, 1, 2, 3, 4, 5, 6, 7, 8, 9, 10, 11, 12, 13], \"series\": [{\"data\": [\"Gathering dataset statistics.\", \"Generating features for the dataset.\", \"Beginning to fit featurizers and featurize the dataset.\", \"Completed fit featurizers and featurizing the dataset.\", \"Generating individually featurized CV splits.\", \"Beginning model selection.\", \"Best run model explanations started\", \"Model explanations data setup completed\", \"Choosing LightGBM as the surrogate model for explanations\", \"Computation of engineered features started\", \"Computation of engineered features completed\", \"Computation of raw features started\", \"Computation of raw features completed\", \"Best run model explanations completed\"]}]}, {\"name\": \"matthews_correlation\", \"run_id\": \"AutoML_b5e41e6c-d318-45f0-9c08-c3653e9d943d\", \"categories\": [0], \"series\": [{\"data\": [0.6620410281903369]}]}, {\"name\": \"recall_score_macro\", \"run_id\": \"AutoML_b5e41e6c-d318-45f0-9c08-c3653e9d943d\", \"categories\": [0], \"series\": [{\"data\": [0.8244246031746032]}]}, {\"name\": \"recall_score_micro\", \"run_id\": \"AutoML_b5e41e6c-d318-45f0-9c08-c3653e9d943d\", \"categories\": [0], \"series\": [{\"data\": [0.8452898550724639]}]}, {\"name\": \"norm_macro_recall\", \"run_id\": \"AutoML_b5e41e6c-d318-45f0-9c08-c3653e9d943d\", \"categories\": [0], \"series\": [{\"data\": [0.6488492063492064]}]}, {\"name\": \"weighted_accuracy\", \"run_id\": \"AutoML_b5e41e6c-d318-45f0-9c08-c3653e9d943d\", \"categories\": [0], \"series\": [{\"data\": [0.8608812669950568]}]}, {\"name\": \"AUC_weighted\", \"run_id\": \"AutoML_b5e41e6c-d318-45f0-9c08-c3653e9d943d\", \"categories\": [0], \"series\": [{\"data\": [0.9312483465608465]}]}, {\"name\": \"f1_score_macro\", \"run_id\": \"AutoML_b5e41e6c-d318-45f0-9c08-c3653e9d943d\", \"categories\": [0], \"series\": [{\"data\": [0.821897145902015]}]}, {\"name\": \"average_precision_score_micro\", \"run_id\": \"AutoML_b5e41e6c-d318-45f0-9c08-c3653e9d943d\", \"categories\": [0], \"series\": [{\"data\": [0.9284787310057739]}]}, {\"name\": \"accuracy\", \"run_id\": \"AutoML_b5e41e6c-d318-45f0-9c08-c3653e9d943d\", \"categories\": [0], \"series\": [{\"data\": [0.8452898550724639]}]}, {\"name\": \"AUC_micro\", \"run_id\": \"AutoML_b5e41e6c-d318-45f0-9c08-c3653e9d943d\", \"categories\": [0], \"series\": [{\"data\": [0.9224887103549675]}]}, {\"name\": \"balanced_accuracy\", \"run_id\": \"AutoML_b5e41e6c-d318-45f0-9c08-c3653e9d943d\", \"categories\": [0], \"series\": [{\"data\": [0.8244246031746032]}]}, {\"name\": \"average_precision_score_weighted\", \"run_id\": \"AutoML_b5e41e6c-d318-45f0-9c08-c3653e9d943d\", \"categories\": [0], \"series\": [{\"data\": [0.9407972341753595]}]}, {\"name\": \"average_precision_score_macro\", \"run_id\": \"AutoML_b5e41e6c-d318-45f0-9c08-c3653e9d943d\", \"categories\": [0], \"series\": [{\"data\": [0.9248985076350345]}]}, {\"name\": \"f1_score_weighted\", \"run_id\": \"AutoML_b5e41e6c-d318-45f0-9c08-c3653e9d943d\", \"categories\": [0], \"series\": [{\"data\": [0.8433329694597509]}]}, {\"name\": \"log_loss\", \"run_id\": \"AutoML_b5e41e6c-d318-45f0-9c08-c3653e9d943d\", \"categories\": [0], \"series\": [{\"data\": [0.4316217447774612]}]}, {\"name\": \"f1_score_micro\", \"run_id\": \"AutoML_b5e41e6c-d318-45f0-9c08-c3653e9d943d\", \"categories\": [0], \"series\": [{\"data\": [0.8452898550724639]}]}, {\"name\": \"precision_score_macro\", \"run_id\": \"AutoML_b5e41e6c-d318-45f0-9c08-c3653e9d943d\", \"categories\": [0], \"series\": [{\"data\": [0.8409255368814191]}]}, {\"name\": \"recall_score_weighted\", \"run_id\": \"AutoML_b5e41e6c-d318-45f0-9c08-c3653e9d943d\", \"categories\": [0], \"series\": [{\"data\": [0.8452898550724639]}]}, {\"name\": \"precision_score_weighted\", \"run_id\": \"AutoML_b5e41e6c-d318-45f0-9c08-c3653e9d943d\", \"categories\": [0], \"series\": [{\"data\": [0.856757753826168]}]}, {\"name\": \"precision_score_micro\", \"run_id\": \"AutoML_b5e41e6c-d318-45f0-9c08-c3653e9d943d\", \"categories\": [0], \"series\": [{\"data\": [0.8452898550724639]}]}, {\"name\": \"AUC_macro\", \"run_id\": \"AutoML_b5e41e6c-d318-45f0-9c08-c3653e9d943d\", \"categories\": [0], \"series\": [{\"data\": [0.9312483465608465]}]}], \"run_logs\": \"\\nRun is completed.\", \"graph\": {}, \"widget_settings\": {\"childWidgetDisplay\": \"popup\", \"send_telemetry\": false, \"log_level\": \"INFO\", \"sdk_version\": \"1.19.0\"}, \"loading\": false}"
          },
          "metadata": {}
        }
      ],
      "execution_count": 10,
      "metadata": {
        "collapsed": true,
        "gather": {
          "logged": 1609298144201
        },
        "jupyter": {
          "outputs_hidden": false,
          "source_hidden": false
        },
        "nteract": {
          "transient": {
            "deleting": false
          }
        }
      }
    },
    {
      "cell_type": "markdown",
      "source": [
        "## Run Details\n",
        "\n",
        "OPTIONAL: Write about the different models trained and their performance. Why do you think some models did better than others?\n",
        "\n",
        "TODO: In the cell below, use the `RunDetails` widget to show the different experiments."
      ],
      "metadata": {}
    },
    {
      "cell_type": "code",
      "source": [
        "remote_run.wait_for_completion(show_output=True)"
      ],
      "outputs": [
        {
          "output_type": "stream",
          "name": "stdout",
          "text": [
            "\n",
            "\n",
            "****************************************************************************************************\n",
            "DATA GUARDRAILS: \n",
            "\n",
            "TYPE:         Cross validation\n",
            "STATUS:       DONE\n",
            "DESCRIPTION:  Each iteration of the trained model was validated through cross-validation.\n",
            "              \n",
            "DETAILS:      \n",
            "+---------------------------------+\n",
            "|Number of folds                  |\n",
            "+=================================+\n",
            "|10                               |\n",
            "+---------------------------------+\n",
            "\n",
            "****************************************************************************************************\n",
            "\n",
            "TYPE:         Class balancing detection\n",
            "STATUS:       PASSED\n",
            "DESCRIPTION:  Your inputs were analyzed, and all classes are balanced in your training data.\n",
            "              Learn more about imbalanced data: https://aka.ms/AutomatedMLImbalancedData\n",
            "\n",
            "****************************************************************************************************\n",
            "\n",
            "TYPE:         Missing feature values imputation\n",
            "STATUS:       PASSED\n",
            "DESCRIPTION:  No feature missing values were detected in the training data.\n",
            "              Learn more about missing value imputation: https://aka.ms/AutomatedMLFeaturization\n",
            "\n",
            "****************************************************************************************************\n",
            "\n",
            "TYPE:         High cardinality feature detection\n",
            "STATUS:       PASSED\n",
            "DESCRIPTION:  Your inputs were analyzed, and no high cardinality features were detected.\n",
            "              Learn more about high cardinality feature handling: https://aka.ms/AutomatedMLFeaturization\n",
            "\n",
            "****************************************************************************************************\n",
            "\n",
            "****************************************************************************************************\n",
            "ITERATION: The iteration being evaluated.\n",
            "PIPELINE: A summary description of the pipeline being evaluated.\n",
            "DURATION: Time taken for the current iteration.\n",
            "METRIC: The result of computing score on the fitted pipeline.\n",
            "BEST: The best observed score thus far.\n",
            "****************************************************************************************************\n",
            "\n",
            " ITERATION   PIPELINE                                       DURATION      METRIC      BEST\n",
            "         0   MaxAbsScaler LightGBM                          0:01:04       0.8901    0.8901\n",
            "         1   MaxAbsScaler XGBoostClassifier                 0:01:06       0.8879    0.8901\n",
            "         2   MinMaxScaler RandomForest                      0:01:06       0.8860    0.8901\n",
            "         3   RobustScaler ExtremeRandomTrees                0:01:04       0.8743    0.8901\n",
            "         4   MinMaxScaler RandomForest                      0:01:07       0.8943    0.8943\n",
            "         5   MinMaxScaler RandomForest                      0:01:11       0.9110    0.9110\n",
            "         6   StandardScalerWrapper RandomForest             0:01:47       0.8829    0.9110\n",
            "         7   MinMaxScaler ExtremeRandomTrees                0:01:05       0.8966    0.9110\n",
            "         8   MinMaxScaler ExtremeRandomTrees                0:01:06       0.8490    0.9110\n",
            "         9   SparseNormalizer KNN                           0:01:54       0.7183    0.9110\n",
            "        10   MinMaxScaler ExtremeRandomTrees                0:00:58       0.8770    0.9110\n",
            "        11   RobustScaler ExtremeRandomTrees                0:00:59       0.8814    0.9110\n",
            "        12   StandardScalerWrapper RandomForest             0:00:56       0.8971    0.9110\n",
            "        13   StandardScalerWrapper SGD                      0:01:17       0.8498    0.9110\n",
            "        14   RobustScaler RandomForest                      0:01:10       0.9045    0.9110\n",
            "        15   StandardScalerWrapper KNN                      0:01:03       0.5876    0.9110\n",
            "        16   MinMaxScaler RandomForest                      0:01:06       0.8730    0.9110\n",
            "        17   MinMaxScaler ExtremeRandomTrees                0:00:59       0.8326    0.9110\n",
            "        18   MaxAbsScaler RandomForest                      0:01:04       0.8920    0.9110\n",
            "        19   StandardScalerWrapper XGBoostClassifier        0:01:02       0.8926    0.9110\n",
            "        20   MaxAbsScaler RandomForest                      0:01:14       0.8782    0.9110\n",
            "        21   MaxAbsScaler ExtremeRandomTrees                0:01:02       0.8598    0.9110\n",
            "        22   MaxAbsScaler ExtremeRandomTrees                0:01:00       0.8421    0.9110\n",
            "        23   MinMaxScaler RandomForest                      0:01:23       0.9103    0.9110\n",
            "        24   MaxAbsScaler RandomForest                      0:01:09       0.8843    0.9110\n",
            "        25   MinMaxScaler RandomForest                      0:00:59       0.9274    0.9274\n",
            "        26   MaxAbsScaler LightGBM                          0:00:59       0.8498    0.9274\n",
            "        27   RobustScaler RandomForest                      0:01:31       0.8977    0.9274\n",
            "        28   StandardScalerWrapper XGBoostClassifier        0:00:55       0.8972    0.9274\n",
            "        29   RobustScaler RandomForest                      0:01:45       0.9170    0.9274\n",
            "        30   MinMaxScaler RandomForest                      0:01:24       0.8064    0.9274\n",
            "        31   StandardScalerWrapper RandomForest             0:01:36       0.9077    0.9274\n",
            "        32   MinMaxScaler RandomForest                      0:01:23       0.9157    0.9274\n",
            "        33   StandardScalerWrapper XGBoostClassifier        0:01:06       0.8761    0.9274\n",
            "        34   StandardScalerWrapper LogisticRegression       0:01:19       0.8448    0.9274\n",
            "        35   MinMaxScaler RandomForest                      0:01:19       0.9005    0.9274\n",
            "        36   StandardScalerWrapper GradientBoosting         0:01:50       0.9096    0.9274\n",
            "        37   RobustScaler GradientBoosting                  0:01:11       0.9091    0.9274\n",
            "        38   MinMaxScaler LogisticRegression                0:01:03       0.8535    0.9274\n",
            "        39   RobustScaler LightGBM                          0:01:15       0.9114    0.9274\n",
            "        40   MaxAbsScaler RandomForest                      0:01:02       0.8703    0.9274\n",
            "        41   MinMaxScaler RandomForest                      0:00:50          nan    0.9274\n",
            "        42   StandardScalerWrapper ExtremeRandomTrees       0:00:43          nan    0.9274\n",
            "        43    VotingEnsemble                                0:02:24       0.9312    0.9312\n",
            "        44    StackEnsemble                                 0:02:32       0.9191    0.9312\n"
          ]
        },
        {
          "output_type": "execute_result",
          "execution_count": 11,
          "data": {
            "text/plain": "{'runId': 'AutoML_b5e41e6c-d318-45f0-9c08-c3653e9d943d',\n 'target': 'notebook132429',\n 'status': 'Completed',\n 'startTimeUtc': '2020-12-30T02:56:01.192127Z',\n 'endTimeUtc': '2020-12-30T03:15:40.112599Z',\n 'properties': {'num_iterations': '1000',\n  'training_type': 'TrainFull',\n  'acquisition_function': 'EI',\n  'primary_metric': 'AUC_weighted',\n  'train_split': '0',\n  'acquisition_parameter': '0',\n  'num_cross_validation': None,\n  'target': 'notebook132429',\n  'AMLSettingsJsonString': '{\"path\":null,\"name\":\"ml-experiment-1\",\"subscription_id\":\"1b944a9b-fdae-4f97-aeb1-b7eea0beac53\",\"resource_group\":\"aml-quickstarts-132429\",\"workspace_name\":\"quick-starts-ws-132429\",\"region\":\"southcentralus\",\"compute_target\":\"notebook132429\",\"spark_service\":null,\"azure_service\":\"remote\",\"many_models\":false,\"pipeline_fetch_max_batch_size\":1,\"iterations\":1000,\"primary_metric\":\"AUC_weighted\",\"task_type\":\"classification\",\"data_script\":null,\"validation_size\":0.0,\"n_cross_validations\":null,\"y_min\":null,\"y_max\":null,\"num_classes\":null,\"featurization\":\"auto\",\"_ignore_package_version_incompatibilities\":false,\"is_timeseries\":false,\"max_cores_per_iteration\":1,\"max_concurrent_iterations\":5,\"iteration_timeout_minutes\":null,\"mem_in_mb\":null,\"enforce_time_on_windows\":false,\"experiment_timeout_minutes\":20,\"experiment_exit_score\":null,\"whitelist_models\":null,\"blacklist_algos\":[\"TensorFlowLinearClassifier\",\"TensorFlowDNN\"],\"supported_models\":[\"LogisticRegression\",\"MultinomialNaiveBayes\",\"TensorFlowLinearClassifier\",\"BernoulliNaiveBayes\",\"XGBoostClassifier\",\"GradientBoosting\",\"ExtremeRandomTrees\",\"DecisionTree\",\"SGD\",\"KNN\",\"RandomForest\",\"TensorFlowDNN\",\"LinearSVM\",\"SVM\",\"LightGBM\",\"AveragedPerceptronClassifier\"],\"auto_blacklist\":true,\"blacklist_samples_reached\":false,\"exclude_nan_labels\":true,\"verbosity\":20,\"_debug_log\":\"azureml_automl.log\",\"show_warnings\":false,\"model_explainability\":true,\"service_url\":null,\"sdk_url\":null,\"sdk_packages\":null,\"enable_onnx_compatible_models\":false,\"enable_split_onnx_featurizer_estimator_models\":false,\"vm_type\":\"STANDARD_DS3_V2\",\"telemetry_verbosity\":20,\"send_telemetry\":true,\"enable_dnn\":false,\"scenario\":\"SDK-1.13.0\",\"environment_label\":null,\"force_text_dnn\":false,\"enable_feature_sweeping\":true,\"enable_early_stopping\":true,\"early_stopping_n_iters\":10,\"metrics\":null,\"enable_ensembling\":true,\"enable_stack_ensembling\":true,\"ensemble_iterations\":15,\"enable_tf\":false,\"enable_subsampling\":null,\"subsample_seed\":null,\"enable_nimbusml\":false,\"enable_streaming\":false,\"force_streaming\":false,\"track_child_runs\":true,\"allowed_private_models\":[],\"label_column_name\":\"DEATH_EVENT\",\"weight_column_name\":null,\"cv_split_column_names\":null,\"enable_local_managed\":false,\"_local_managed_run_id\":null,\"cost_mode\":1,\"lag_length\":0,\"metric_operation\":\"maximize\",\"preprocess\":true}',\n  'DataPrepJsonString': '{\\\\\"training_data\\\\\": \\\\\"{\\\\\\\\\\\\\"blocks\\\\\\\\\\\\\": [{\\\\\\\\\\\\\"id\\\\\\\\\\\\\": \\\\\\\\\\\\\"5e934d55-225a-4792-b35b-4491f8a43d16\\\\\\\\\\\\\", \\\\\\\\\\\\\"type\\\\\\\\\\\\\": \\\\\\\\\\\\\"Microsoft.DPrep.GetDatastoreFilesBlock\\\\\\\\\\\\\", \\\\\\\\\\\\\"arguments\\\\\\\\\\\\\": {\\\\\\\\\\\\\"datastores\\\\\\\\\\\\\": [{\\\\\\\\\\\\\"datastoreName\\\\\\\\\\\\\": \\\\\\\\\\\\\"workspaceblobstore\\\\\\\\\\\\\", \\\\\\\\\\\\\"path\\\\\\\\\\\\\": \\\\\\\\\\\\\"udacity-project/train_data.csv\\\\\\\\\\\\\", \\\\\\\\\\\\\"resourceGroup\\\\\\\\\\\\\": \\\\\\\\\\\\\"aml-quickstarts-132429\\\\\\\\\\\\\", \\\\\\\\\\\\\"subscription\\\\\\\\\\\\\": \\\\\\\\\\\\\"1b944a9b-fdae-4f97-aeb1-b7eea0beac53\\\\\\\\\\\\\", \\\\\\\\\\\\\"workspaceName\\\\\\\\\\\\\": \\\\\\\\\\\\\"quick-starts-ws-132429\\\\\\\\\\\\\"}]}, \\\\\\\\\\\\\"localData\\\\\\\\\\\\\": {}, \\\\\\\\\\\\\"isEnabled\\\\\\\\\\\\\": true, \\\\\\\\\\\\\"name\\\\\\\\\\\\\": null, \\\\\\\\\\\\\"annotation\\\\\\\\\\\\\": null}, {\\\\\\\\\\\\\"id\\\\\\\\\\\\\": \\\\\\\\\\\\\"72c9e7d5-8554-4aa5-970d-877262b68d18\\\\\\\\\\\\\", \\\\\\\\\\\\\"type\\\\\\\\\\\\\": \\\\\\\\\\\\\"Microsoft.DPrep.ParseDelimitedBlock\\\\\\\\\\\\\", \\\\\\\\\\\\\"arguments\\\\\\\\\\\\\": {\\\\\\\\\\\\\"columnHeadersMode\\\\\\\\\\\\\": 3, \\\\\\\\\\\\\"fileEncoding\\\\\\\\\\\\\": 0, \\\\\\\\\\\\\"handleQuotedLineBreaks\\\\\\\\\\\\\": false, \\\\\\\\\\\\\"preview\\\\\\\\\\\\\": false, \\\\\\\\\\\\\"separator\\\\\\\\\\\\\": \\\\\\\\\\\\\",\\\\\\\\\\\\\", \\\\\\\\\\\\\"skipRows\\\\\\\\\\\\\": 0, \\\\\\\\\\\\\"skipRowsMode\\\\\\\\\\\\\": 0}, \\\\\\\\\\\\\"localData\\\\\\\\\\\\\": {}, \\\\\\\\\\\\\"isEnabled\\\\\\\\\\\\\": true, \\\\\\\\\\\\\"name\\\\\\\\\\\\\": null, \\\\\\\\\\\\\"annotation\\\\\\\\\\\\\": null}, {\\\\\\\\\\\\\"id\\\\\\\\\\\\\": \\\\\\\\\\\\\"b05212bc-7608-4db5-8c3b-294b248c6865\\\\\\\\\\\\\", \\\\\\\\\\\\\"type\\\\\\\\\\\\\": \\\\\\\\\\\\\"Microsoft.DPrep.DropColumnsBlock\\\\\\\\\\\\\", \\\\\\\\\\\\\"arguments\\\\\\\\\\\\\": {\\\\\\\\\\\\\"columns\\\\\\\\\\\\\": {\\\\\\\\\\\\\"type\\\\\\\\\\\\\": 0, \\\\\\\\\\\\\"details\\\\\\\\\\\\\": {\\\\\\\\\\\\\"selectedColumns\\\\\\\\\\\\\": [\\\\\\\\\\\\\"Path\\\\\\\\\\\\\"]}}}, \\\\\\\\\\\\\"localData\\\\\\\\\\\\\": {}, \\\\\\\\\\\\\"isEnabled\\\\\\\\\\\\\": true, \\\\\\\\\\\\\"name\\\\\\\\\\\\\": null, \\\\\\\\\\\\\"annotation\\\\\\\\\\\\\": null}, {\\\\\\\\\\\\\"id\\\\\\\\\\\\\": \\\\\\\\\\\\\"c3042568-4c39-4385-aafa-d19f3796dbd6\\\\\\\\\\\\\", \\\\\\\\\\\\\"type\\\\\\\\\\\\\": \\\\\\\\\\\\\"Microsoft.DPrep.SetColumnTypesBlock\\\\\\\\\\\\\", \\\\\\\\\\\\\"arguments\\\\\\\\\\\\\": {\\\\\\\\\\\\\"columnConversion\\\\\\\\\\\\\": [{\\\\\\\\\\\\\"column\\\\\\\\\\\\\": {\\\\\\\\\\\\\"type\\\\\\\\\\\\\": 2, \\\\\\\\\\\\\"details\\\\\\\\\\\\\": {\\\\\\\\\\\\\"selectedColumn\\\\\\\\\\\\\": \\\\\\\\\\\\\"age\\\\\\\\\\\\\"}}, \\\\\\\\\\\\\"typeProperty\\\\\\\\\\\\\": 3}, {\\\\\\\\\\\\\"column\\\\\\\\\\\\\": {\\\\\\\\\\\\\"type\\\\\\\\\\\\\": 2, \\\\\\\\\\\\\"details\\\\\\\\\\\\\": {\\\\\\\\\\\\\"selectedColumn\\\\\\\\\\\\\": \\\\\\\\\\\\\"anaemia\\\\\\\\\\\\\"}}, \\\\\\\\\\\\\"typeProperty\\\\\\\\\\\\\": 2}, {\\\\\\\\\\\\\"column\\\\\\\\\\\\\": {\\\\\\\\\\\\\"type\\\\\\\\\\\\\": 2, \\\\\\\\\\\\\"details\\\\\\\\\\\\\": {\\\\\\\\\\\\\"selectedColumn\\\\\\\\\\\\\": \\\\\\\\\\\\\"creatinine_phosphokinase\\\\\\\\\\\\\"}}, \\\\\\\\\\\\\"typeProperty\\\\\\\\\\\\\": 2}, {\\\\\\\\\\\\\"column\\\\\\\\\\\\\": {\\\\\\\\\\\\\"type\\\\\\\\\\\\\": 2, \\\\\\\\\\\\\"details\\\\\\\\\\\\\": {\\\\\\\\\\\\\"selectedColumn\\\\\\\\\\\\\": \\\\\\\\\\\\\"diabetes\\\\\\\\\\\\\"}}, \\\\\\\\\\\\\"typeProperty\\\\\\\\\\\\\": 2}, {\\\\\\\\\\\\\"column\\\\\\\\\\\\\": {\\\\\\\\\\\\\"type\\\\\\\\\\\\\": 2, \\\\\\\\\\\\\"details\\\\\\\\\\\\\": {\\\\\\\\\\\\\"selectedColumn\\\\\\\\\\\\\": \\\\\\\\\\\\\"ejection_fraction\\\\\\\\\\\\\"}}, \\\\\\\\\\\\\"typeProperty\\\\\\\\\\\\\": 2}, {\\\\\\\\\\\\\"column\\\\\\\\\\\\\": {\\\\\\\\\\\\\"type\\\\\\\\\\\\\": 2, \\\\\\\\\\\\\"details\\\\\\\\\\\\\": {\\\\\\\\\\\\\"selectedColumn\\\\\\\\\\\\\": \\\\\\\\\\\\\"high_blood_pressure\\\\\\\\\\\\\"}}, \\\\\\\\\\\\\"typeProperty\\\\\\\\\\\\\": 2}, {\\\\\\\\\\\\\"column\\\\\\\\\\\\\": {\\\\\\\\\\\\\"type\\\\\\\\\\\\\": 2, \\\\\\\\\\\\\"details\\\\\\\\\\\\\": {\\\\\\\\\\\\\"selectedColumn\\\\\\\\\\\\\": \\\\\\\\\\\\\"platelets\\\\\\\\\\\\\"}}, \\\\\\\\\\\\\"typeProperty\\\\\\\\\\\\\": 3}, {\\\\\\\\\\\\\"column\\\\\\\\\\\\\": {\\\\\\\\\\\\\"type\\\\\\\\\\\\\": 2, \\\\\\\\\\\\\"details\\\\\\\\\\\\\": {\\\\\\\\\\\\\"selectedColumn\\\\\\\\\\\\\": \\\\\\\\\\\\\"serum_creatinine\\\\\\\\\\\\\"}}, \\\\\\\\\\\\\"typeProperty\\\\\\\\\\\\\": 3}, {\\\\\\\\\\\\\"column\\\\\\\\\\\\\": {\\\\\\\\\\\\\"type\\\\\\\\\\\\\": 2, \\\\\\\\\\\\\"details\\\\\\\\\\\\\": {\\\\\\\\\\\\\"selectedColumn\\\\\\\\\\\\\": \\\\\\\\\\\\\"serum_sodium\\\\\\\\\\\\\"}}, \\\\\\\\\\\\\"typeProperty\\\\\\\\\\\\\": 2}, {\\\\\\\\\\\\\"column\\\\\\\\\\\\\": {\\\\\\\\\\\\\"type\\\\\\\\\\\\\": 2, \\\\\\\\\\\\\"details\\\\\\\\\\\\\": {\\\\\\\\\\\\\"selectedColumn\\\\\\\\\\\\\": \\\\\\\\\\\\\"sex\\\\\\\\\\\\\"}}, \\\\\\\\\\\\\"typeProperty\\\\\\\\\\\\\": 2}, {\\\\\\\\\\\\\"column\\\\\\\\\\\\\": {\\\\\\\\\\\\\"type\\\\\\\\\\\\\": 2, \\\\\\\\\\\\\"details\\\\\\\\\\\\\": {\\\\\\\\\\\\\"selectedColumn\\\\\\\\\\\\\": \\\\\\\\\\\\\"smoking\\\\\\\\\\\\\"}}, \\\\\\\\\\\\\"typeProperty\\\\\\\\\\\\\": 2}, {\\\\\\\\\\\\\"column\\\\\\\\\\\\\": {\\\\\\\\\\\\\"type\\\\\\\\\\\\\": 2, \\\\\\\\\\\\\"details\\\\\\\\\\\\\": {\\\\\\\\\\\\\"selectedColumn\\\\\\\\\\\\\": \\\\\\\\\\\\\"time\\\\\\\\\\\\\"}}, \\\\\\\\\\\\\"typeProperty\\\\\\\\\\\\\": 2}, {\\\\\\\\\\\\\"column\\\\\\\\\\\\\": {\\\\\\\\\\\\\"type\\\\\\\\\\\\\": 2, \\\\\\\\\\\\\"details\\\\\\\\\\\\\": {\\\\\\\\\\\\\"selectedColumn\\\\\\\\\\\\\": \\\\\\\\\\\\\"DEATH_EVENT\\\\\\\\\\\\\"}}, \\\\\\\\\\\\\"typeProperty\\\\\\\\\\\\\": 2}]}, \\\\\\\\\\\\\"localData\\\\\\\\\\\\\": {}, \\\\\\\\\\\\\"isEnabled\\\\\\\\\\\\\": true, \\\\\\\\\\\\\"name\\\\\\\\\\\\\": null, \\\\\\\\\\\\\"annotation\\\\\\\\\\\\\": null}], \\\\\\\\\\\\\"inspectors\\\\\\\\\\\\\": [], \\\\\\\\\\\\\"meta\\\\\\\\\\\\\": {\\\\\\\\\\\\\"savedDatasetId\\\\\\\\\\\\\": \\\\\\\\\\\\\"91ff0fb0-2fd1-4d5d-a0a1-b3632548939a\\\\\\\\\\\\\", \\\\\\\\\\\\\"datasetType\\\\\\\\\\\\\": \\\\\\\\\\\\\"tabular\\\\\\\\\\\\\", \\\\\\\\\\\\\"subscriptionId\\\\\\\\\\\\\": \\\\\\\\\\\\\"1b944a9b-fdae-4f97-aeb1-b7eea0beac53\\\\\\\\\\\\\", \\\\\\\\\\\\\"workspaceId\\\\\\\\\\\\\": \\\\\\\\\\\\\"896ee770-23f7-4bc7-8f17-c761d25ae40f\\\\\\\\\\\\\", \\\\\\\\\\\\\"workspaceLocation\\\\\\\\\\\\\": \\\\\\\\\\\\\"southcentralus\\\\\\\\\\\\\"}}\\\\\", \\\\\"activities\\\\\": 0}',\n  'EnableSubsampling': None,\n  'runTemplate': 'AutoML',\n  'azureml.runsource': 'automl',\n  'display_task_type': 'classification',\n  'dependencies_versions': '{\"azureml-widgets\": \"1.19.0\", \"azureml-train\": \"1.19.0\", \"azureml-train-restclients-hyperdrive\": \"1.19.0\", \"azureml-train-core\": \"1.19.0\", \"azureml-train-automl\": \"1.19.0\", \"azureml-train-automl-runtime\": \"1.19.0\", \"azureml-train-automl-client\": \"1.19.0\", \"azureml-tensorboard\": \"1.19.0\", \"azureml-telemetry\": \"1.19.0\", \"azureml-sdk\": \"1.19.0\", \"azureml-samples\": \"0+unknown\", \"azureml-pipeline\": \"1.19.0\", \"azureml-pipeline-steps\": \"1.19.0\", \"azureml-pipeline-core\": \"1.19.0\", \"azureml-opendatasets\": \"1.19.0\", \"azureml-model-management-sdk\": \"1.0.1b6.post1\", \"azureml-mlflow\": \"1.19.0\", \"azureml-interpret\": \"1.19.0\", \"azureml-explain-model\": \"1.19.0\", \"azureml-defaults\": \"1.19.0\", \"azureml-dataset-runtime\": \"1.19.0\", \"azureml-dataprep\": \"2.6.1\", \"azureml-dataprep-rslex\": \"1.4.0\", \"azureml-dataprep-native\": \"26.0.0\", \"azureml-datadrift\": \"1.19.0\", \"azureml-core\": \"1.19.0\", \"azureml-contrib-services\": \"1.19.0\", \"azureml-contrib-server\": \"1.19.0\", \"azureml-contrib-reinforcementlearning\": \"1.19.0\", \"azureml-contrib-pipeline-steps\": \"1.19.0\", \"azureml-contrib-notebook\": \"1.19.0\", \"azureml-contrib-interpret\": \"1.19.0\", \"azureml-contrib-gbdt\": \"1.19.0\", \"azureml-contrib-fairness\": \"1.19.0\", \"azureml-contrib-dataset\": \"1.19.0\", \"azureml-cli-common\": \"1.19.0\", \"azureml-automl-runtime\": \"1.19.0\", \"azureml-automl-core\": \"1.19.0\", \"azureml-accel-models\": \"1.19.0\"}',\n  '_aml_system_scenario_identification': 'Remote.Parent',\n  'ClientType': 'SDK',\n  'environment_cpu_name': 'AzureML-AutoML',\n  'environment_cpu_label': 'prod',\n  'environment_gpu_name': 'AzureML-AutoML-GPU',\n  'environment_gpu_label': 'prod',\n  'root_attribution': 'automl',\n  'attribution': 'AutoML',\n  'Orchestrator': 'AutoML',\n  'CancelUri': 'https://southcentralus.experiments.azureml.net/jasmine/v1.0/subscriptions/1b944a9b-fdae-4f97-aeb1-b7eea0beac53/resourceGroups/aml-quickstarts-132429/providers/Microsoft.MachineLearningServices/workspaces/quick-starts-ws-132429/experimentids/e5333efc-9822-41a9-92a7-b84d71bdc7de/cancel/AutoML_b5e41e6c-d318-45f0-9c08-c3653e9d943d',\n  'ClientSdkVersion': '1.19.0',\n  'snapshotId': '00000000-0000-0000-0000-000000000000',\n  'SetupRunId': 'AutoML_b5e41e6c-d318-45f0-9c08-c3653e9d943d_setup',\n  'SetupRunContainerId': 'dcid.AutoML_b5e41e6c-d318-45f0-9c08-c3653e9d943d_setup',\n  'FeaturizationRunJsonPath': 'featurizer_container.json',\n  'FeaturizationRunId': 'AutoML_b5e41e6c-d318-45f0-9c08-c3653e9d943d_featurize',\n  'ProblemInfoJsonString': '{\"dataset_num_categorical\": 0, \"is_sparse\": false, \"subsampling\": false, \"dataset_classes\": 2, \"dataset_features\": 12, \"dataset_samples\": 239, \"single_frequency_class_detected\": false}',\n  'ModelExplainRunId': 'AutoML_b5e41e6c-d318-45f0-9c08-c3653e9d943d_ModelExplain'},\n 'inputDatasets': [{'dataset': {'id': '91ff0fb0-2fd1-4d5d-a0a1-b3632548939a'}, 'consumptionDetails': {'type': 'RunInput', 'inputName': 'training_data', 'mechanism': 'Direct'}}],\n 'outputDatasets': [],\n 'logFiles': {}}"
          },
          "metadata": {}
        }
      ],
      "execution_count": 11,
      "metadata": {
        "gather": {
          "logged": 1609298272263
        },
        "jupyter": {
          "outputs_hidden": false,
          "source_hidden": false
        },
        "nteract": {
          "transient": {
            "deleting": false
          }
        }
      }
    },
    {
      "cell_type": "code",
      "source": [
        "#Take SS\n",
        "\n",
        "RunDetails(remote_run).show()"
      ],
      "outputs": [],
      "execution_count": null,
      "metadata": {
        "gather": {
          "logged": 1608761144286
        }
      }
    },
    {
      "cell_type": "code",
      "source": [],
      "outputs": [],
      "execution_count": null,
      "metadata": {}
    },
    {
      "cell_type": "markdown",
      "source": [
        "## Best Model\n",
        "\n",
        "TODO: In the cell below, get the best model from the automl experiments and display all the properties of the model.\n",
        "\n"
      ],
      "metadata": {}
    },
    {
      "cell_type": "code",
      "source": [
        "best_model, fitted_model = remote_run.get_output()\n",
        "\n",
        "print(best_model)\n",
        "\n",
        "# Take SS"
      ],
      "outputs": [
        {
          "output_type": "stream",
          "name": "stdout",
          "text": [
            "Run(Experiment: ml-experiment-1,\n",
            "Id: AutoML_b5e41e6c-d318-45f0-9c08-c3653e9d943d_43,\n",
            "Type: azureml.scriptrun,\n",
            "Status: Completed)\n"
          ]
        }
      ],
      "execution_count": 12,
      "metadata": {
        "gather": {
          "logged": 1609298356802
        },
        "jupyter": {
          "outputs_hidden": false,
          "source_hidden": false
        },
        "nteract": {
          "transient": {
            "deleting": false
          }
        }
      }
    },
    {
      "cell_type": "code",
      "source": [
        "print(fitted_model)"
      ],
      "outputs": [
        {
          "output_type": "stream",
          "name": "stdout",
          "text": [
            "Pipeline(memory=None,\n",
            "         steps=[('datatransformer',\n",
            "                 DataTransformer(enable_dnn=None, enable_feature_sweeping=None,\n",
            "                                 feature_sweeping_config=None,\n",
            "                                 feature_sweeping_timeout=None,\n",
            "                                 featurization_config=None, force_text_dnn=None,\n",
            "                                 is_cross_validation=None,\n",
            "                                 is_onnx_compatible=None, logger=None,\n",
            "                                 observer=None, task=None, working_dir=None)),\n",
            "                ('prefittedsoftvotingclassifier',...\n",
            "                                                                                                    min_samples_split=0.056842105263157895,\n",
            "                                                                                                    min_weight_fraction_leaf=0.0,\n",
            "                                                                                                    n_estimators=600,\n",
            "                                                                                                    n_jobs=1,\n",
            "                                                                                                    oob_score=True,\n",
            "                                                                                                    random_state=None,\n",
            "                                                                                                    verbose=0,\n",
            "                                                                                                    warm_start=False))],\n",
            "                                                                     verbose=False))],\n",
            "                                               flatten_transform=None,\n",
            "                                               weights=[0.2,\n",
            "                                                        0.06666666666666667,\n",
            "                                                        0.13333333333333333,\n",
            "                                                        0.06666666666666667,\n",
            "                                                        0.26666666666666666,\n",
            "                                                        0.06666666666666667,\n",
            "                                                        0.06666666666666667,\n",
            "                                                        0.06666666666666667,\n",
            "                                                        0.06666666666666667]))],\n",
            "         verbose=False)\n"
          ]
        }
      ],
      "execution_count": 13,
      "metadata": {
        "gather": {
          "logged": 1609298366414
        }
      }
    },
    {
      "cell_type": "code",
      "source": [],
      "outputs": [],
      "execution_count": null,
      "metadata": {}
    },
    {
      "cell_type": "code",
      "source": [],
      "outputs": [],
      "execution_count": null,
      "metadata": {
        "gather": {
          "logged": 1608764810246
        }
      }
    },
    {
      "cell_type": "code",
      "source": [
        "#TODO: Save the best model\n",
        "joblib.dump(fitted_model, \"models/automl_hearth.pkl\")\n"
      ],
      "outputs": [
        {
          "output_type": "execute_result",
          "execution_count": 14,
          "data": {
            "text/plain": "['models/automl_hearth.pkl']"
          },
          "metadata": {}
        }
      ],
      "execution_count": 14,
      "metadata": {
        "gather": {
          "logged": 1609298382230
        }
      }
    },
    {
      "cell_type": "code",
      "source": [],
      "outputs": [],
      "execution_count": null,
      "metadata": {
        "gather": {
          "logged": 1608764876892
        },
        "jupyter": {
          "outputs_hidden": false,
          "source_hidden": false
        },
        "nteract": {
          "transient": {
            "deleting": false
          }
        }
      }
    },
    {
      "cell_type": "markdown",
      "source": [
        "## Model Deployment\n",
        "\n",
        "Remember you have to deploy only one of the two models you trained.. Perform the steps in the rest of this notebook only if you wish to deploy this model.\n",
        "\n",
        "TODO: In the cell below, register the model, create an inference config and deploy the model as a web service."
      ],
      "metadata": {}
    },
    {
      "cell_type": "code",
      "source": [
        "model = Model.register(model_path = \"./models/automl_hearth.pkl\",\n",
        "                      model_name = \"automl_hearth.pkl\",\n",
        "                      description = \"Best model trained with AutoML\",\n",
        "                      workspace = ws, model_framework=Model.Framework.SCIKITLEARN)\n",
        "\n",
        "# model = remote_run.register_model(model_name='automl_hearth.pkl', \n",
        "#                                  model_path='./models/automl_hearth.pkl',\n",
        "#                                  model_framework=Model.Framework.SCIKITLEARN,\n",
        "#                                  workspace = ws)"
      ],
      "outputs": [
        {
          "output_type": "stream",
          "name": "stdout",
          "text": [
            "Registering model automl_hearth.pkl\n"
          ]
        }
      ],
      "execution_count": 23,
      "metadata": {
        "gather": {
          "logged": 1609298949180
        },
        "jupyter": {
          "outputs_hidden": false,
          "source_hidden": false
        },
        "nteract": {
          "transient": {
            "deleting": false
          }
        }
      }
    },
    {
      "cell_type": "code",
      "source": [
        "# Define Deployment\n",
        "\n",
        "aci_config = AciWebservice.deploy_configuration(cpu_cores=1, memory_gb=2,\n",
        "                                              enable_app_insights=True, auth_enabled=True) \n",
        "\n",
        "# deployment_config = AciWebservice.deploy_configuration()\n"
      ],
      "outputs": [],
      "execution_count": 21,
      "metadata": {
        "gather": {
          "logged": 1609298856990
        }
      }
    },
    {
      "cell_type": "code",
      "source": [
        "# Create the environment\n",
        "# myenv = Environment(workspace=ws, name=\"myenv\")\n",
        "# \n",
        "# inference_config = InferenceConfig(entry_script=\"score.py\",\n",
        "#                                    environment=myenv)"
      ],
      "outputs": [],
      "execution_count": null,
      "metadata": {
        "gather": {
          "logged": 1609204812657
        }
      }
    },
    {
      "cell_type": "code",
      "source": [
        "service_name = 'my-sklearn-service'\n",
        "\n",
        "service = Model.deploy(ws, service_name, [model], deployment_config=aci_config)\n",
        "\n",
        "# service = Model.deploy(ws, 'myservice2', [model], inference_config, deployment_config)\n",
        "# service.update(enable_app_insights=True)"
      ],
      "outputs": [],
      "execution_count": 24,
      "metadata": {
        "collapsed": true,
        "gather": {
          "logged": 1609298979243
        },
        "jupyter": {
          "outputs_hidden": false,
          "source_hidden": false
        },
        "nteract": {
          "transient": {
            "deleting": false
          }
        }
      }
    },
    {
      "cell_type": "code",
      "source": [
        "service.wait_for_deployment(True)\n",
        "print(service.state)"
      ],
      "outputs": [
        {
          "output_type": "stream",
          "name": "stdout",
          "text": [
            "Tips: You can try get_logs(): https://aka.ms/debugimage#dockerlog or local deployment: https://aka.ms/debugimage#debug-locally to debug if deployment takes longer than 10 minutes.\n",
            "Running.........................................................................................................\n",
            "Failed\n"
          ]
        },
        {
          "output_type": "stream",
          "name": "stderr",
          "text": [
            "ERROR:azureml.core.webservice.webservice:Service deployment polling reached non-successful terminal state, current service state: Failed\n",
            "Operation ID: cc46194d-c3c6-48ce-ae6f-70818c15cd01\n",
            "More information can be found using '.get_logs()'\n",
            "Error:\n",
            "{\n",
            "  \"code\": \"AciDeploymentFailed\",\n",
            "  \"message\": \"Aci Deployment failed with exception: Your container application crashed. This may be caused by errors in your scoring file's init() function.\\nPlease check the logs for your container instance: my-sklearn-service. From the AML SDK, you can run print(service.get_logs()) if you have service object to fetch the logs. \\nYou can interactively debug your scoring file locally. Please refer to https://docs.microsoft.com/azure/machine-learning/how-to-debug-visual-studio-code#debug-and-troubleshoot-deployments for more information.\\nYou can also try to run image 896ee77023f74bc78f17c761d25ae40f.azurecr.io/azureml/azureml_9febe3c381178587c812a6e9134e214b locally. Please refer to https://aka.ms/debugimage#service-launch-fails for more information.\",\n",
            "  \"details\": [\n",
            "    {\n",
            "      \"code\": \"CrashLoopBackOff\",\n",
            "      \"message\": \"Your container application crashed. This may be caused by errors in your scoring file's init() function.\\nPlease check the logs for your container instance: my-sklearn-service. From the AML SDK, you can run print(service.get_logs()) if you have service object to fetch the logs. \\nYou can interactively debug your scoring file locally. Please refer to https://docs.microsoft.com/azure/machine-learning/how-to-debug-visual-studio-code#debug-and-troubleshoot-deployments for more information.\\nYou can also try to run image 896ee77023f74bc78f17c761d25ae40f.azurecr.io/azureml/azureml_9febe3c381178587c812a6e9134e214b locally. Please refer to https://aka.ms/debugimage#service-launch-fails for more information.\"\n",
            "    },\n",
            "    {\n",
            "      \"code\": \"AciDeploymentFailed\",\n",
            "      \"message\": \"Your container application crashed. Please follow the steps to debug:\\n1. From the AML SDK, you can run print(service.get_logs()) if you have service object to fetch the logs. Please refer to https://aka.ms/debugimage#dockerlog for more information.\\n2. If your container application crashed. This may be caused by errors in your scoring file's init() function. You can try debugging locally first. Please refer to https://aka.ms/debugimage#debug-locally for more information.\\n3. You can also interactively debug your scoring file locally. Please refer to https://docs.microsoft.com/azure/machine-learning/how-to-debug-visual-studio-code#debug-and-troubleshoot-deployments for more information.\\n4. View the diagnostic events to check status of container, it may help you to debug the issue. {\\\"restartCount\\\":4,\\\"currentState\\\":{\\\"state\\\":\\\"Waiting\\\",\\\"startTime\\\":null,\\\"exitCode\\\":null,\\\"finishTime\\\":null,\\\"detailStatus\\\":\\\"CrashLoopBackOff: Back-off 1m20s restarting failed\\\"},\\\"previousState\\\":{\\\"state\\\":\\\"Terminated\\\",\\\"startTime\\\":\\\"2020-12-30T03:37:55Z\\\",\\\"exitCode\\\":111,\\\"finishTime\\\":\\\"2020-12-30T03:37:57Z\\\",\\\"detailStatus\\\":\\\"Error\\\"},\\\"events\\\":[{\\\"count\\\":1,\\\"firstTimestamp\\\":\\\"2020-12-30T03:35:18Z\\\",\\\"lastTimestamp\\\":\\\"2020-12-30T03:35:18Z\\\",\\\"name\\\":\\\"Pulling\\\",\\\"message\\\":\\\"pulling image \\\\\\\"896ee77023f74bc78f17c761d25ae40f.azurecr.io/azureml/azureml_9febe3c381178587c812a6e9134e214b\\\\\\\"\\\",\\\"type\\\":\\\"Normal\\\"},{\\\"count\\\":1,\\\"firstTimestamp\\\":\\\"2020-12-30T03:35:45Z\\\",\\\"lastTimestamp\\\":\\\"2020-12-30T03:35:45Z\\\",\\\"name\\\":\\\"Pulled\\\",\\\"message\\\":\\\"Successfully pulled image \\\\\\\"896ee77023f74bc78f17c761d25ae40f.azurecr.io/azureml/azureml_9febe3c381178587c812a6e9134e214b\\\\\\\"\\\",\\\"type\\\":\\\"Normal\\\"},{\\\"count\\\":1,\\\"firstTimestamp\\\":\\\"2020-12-30T03:36:12Z\\\",\\\"lastTimestamp\\\":\\\"2020-12-30T03:36:12Z\\\",\\\"name\\\":\\\"Created\\\",\\\"message\\\":\\\"Created container\\\",\\\"type\\\":\\\"Normal\\\"},{\\\"count\\\":1,\\\"firstTimestamp\\\":\\\"2020-12-30T03:36:12Z\\\",\\\"lastTimestamp\\\":\\\"2020-12-30T03:36:12Z\\\",\\\"name\\\":\\\"Started\\\",\\\"message\\\":\\\"Started container\\\",\\\"type\\\":\\\"Normal\\\"}]}\"\n",
            "    }\n",
            "  ]\n",
            "}\n",
            "\n"
          ]
        },
        {
          "output_type": "error",
          "ename": "WebserviceException",
          "evalue": "WebserviceException:\n\tMessage: Service deployment polling reached non-successful terminal state, current service state: Failed\nOperation ID: cc46194d-c3c6-48ce-ae6f-70818c15cd01\nMore information can be found using '.get_logs()'\nError:\n{\n  \"code\": \"AciDeploymentFailed\",\n  \"message\": \"Aci Deployment failed with exception: Your container application crashed. This may be caused by errors in your scoring file's init() function.\\nPlease check the logs for your container instance: my-sklearn-service. From the AML SDK, you can run print(service.get_logs()) if you have service object to fetch the logs. \\nYou can interactively debug your scoring file locally. Please refer to https://docs.microsoft.com/azure/machine-learning/how-to-debug-visual-studio-code#debug-and-troubleshoot-deployments for more information.\\nYou can also try to run image 896ee77023f74bc78f17c761d25ae40f.azurecr.io/azureml/azureml_9febe3c381178587c812a6e9134e214b locally. Please refer to https://aka.ms/debugimage#service-launch-fails for more information.\",\n  \"details\": [\n    {\n      \"code\": \"CrashLoopBackOff\",\n      \"message\": \"Your container application crashed. This may be caused by errors in your scoring file's init() function.\\nPlease check the logs for your container instance: my-sklearn-service. From the AML SDK, you can run print(service.get_logs()) if you have service object to fetch the logs. \\nYou can interactively debug your scoring file locally. Please refer to https://docs.microsoft.com/azure/machine-learning/how-to-debug-visual-studio-code#debug-and-troubleshoot-deployments for more information.\\nYou can also try to run image 896ee77023f74bc78f17c761d25ae40f.azurecr.io/azureml/azureml_9febe3c381178587c812a6e9134e214b locally. Please refer to https://aka.ms/debugimage#service-launch-fails for more information.\"\n    },\n    {\n      \"code\": \"AciDeploymentFailed\",\n      \"message\": \"Your container application crashed. Please follow the steps to debug:\\n1. From the AML SDK, you can run print(service.get_logs()) if you have service object to fetch the logs. Please refer to https://aka.ms/debugimage#dockerlog for more information.\\n2. If your container application crashed. This may be caused by errors in your scoring file's init() function. You can try debugging locally first. Please refer to https://aka.ms/debugimage#debug-locally for more information.\\n3. You can also interactively debug your scoring file locally. Please refer to https://docs.microsoft.com/azure/machine-learning/how-to-debug-visual-studio-code#debug-and-troubleshoot-deployments for more information.\\n4. View the diagnostic events to check status of container, it may help you to debug the issue. {\\\"restartCount\\\":4,\\\"currentState\\\":{\\\"state\\\":\\\"Waiting\\\",\\\"startTime\\\":null,\\\"exitCode\\\":null,\\\"finishTime\\\":null,\\\"detailStatus\\\":\\\"CrashLoopBackOff: Back-off 1m20s restarting failed\\\"},\\\"previousState\\\":{\\\"state\\\":\\\"Terminated\\\",\\\"startTime\\\":\\\"2020-12-30T03:37:55Z\\\",\\\"exitCode\\\":111,\\\"finishTime\\\":\\\"2020-12-30T03:37:57Z\\\",\\\"detailStatus\\\":\\\"Error\\\"},\\\"events\\\":[{\\\"count\\\":1,\\\"firstTimestamp\\\":\\\"2020-12-30T03:35:18Z\\\",\\\"lastTimestamp\\\":\\\"2020-12-30T03:35:18Z\\\",\\\"name\\\":\\\"Pulling\\\",\\\"message\\\":\\\"pulling image \\\\\\\"896ee77023f74bc78f17c761d25ae40f.azurecr.io/azureml/azureml_9febe3c381178587c812a6e9134e214b\\\\\\\"\\\",\\\"type\\\":\\\"Normal\\\"},{\\\"count\\\":1,\\\"firstTimestamp\\\":\\\"2020-12-30T03:35:45Z\\\",\\\"lastTimestamp\\\":\\\"2020-12-30T03:35:45Z\\\",\\\"name\\\":\\\"Pulled\\\",\\\"message\\\":\\\"Successfully pulled image \\\\\\\"896ee77023f74bc78f17c761d25ae40f.azurecr.io/azureml/azureml_9febe3c381178587c812a6e9134e214b\\\\\\\"\\\",\\\"type\\\":\\\"Normal\\\"},{\\\"count\\\":1,\\\"firstTimestamp\\\":\\\"2020-12-30T03:36:12Z\\\",\\\"lastTimestamp\\\":\\\"2020-12-30T03:36:12Z\\\",\\\"name\\\":\\\"Created\\\",\\\"message\\\":\\\"Created container\\\",\\\"type\\\":\\\"Normal\\\"},{\\\"count\\\":1,\\\"firstTimestamp\\\":\\\"2020-12-30T03:36:12Z\\\",\\\"lastTimestamp\\\":\\\"2020-12-30T03:36:12Z\\\",\\\"name\\\":\\\"Started\\\",\\\"message\\\":\\\"Started container\\\",\\\"type\\\":\\\"Normal\\\"}]}\"\n    }\n  ]\n}\n\tInnerException None\n\tErrorResponse \n{\n    \"error\": {\n        \"message\": \"Service deployment polling reached non-successful terminal state, current service state: Failed\\nOperation ID: cc46194d-c3c6-48ce-ae6f-70818c15cd01\\nMore information can be found using '.get_logs()'\\nError:\\n{\\n  \\\"code\\\": \\\"AciDeploymentFailed\\\",\\n  \\\"message\\\": \\\"Aci Deployment failed with exception: Your container application crashed. This may be caused by errors in your scoring file's init() function.\\\\nPlease check the logs for your container instance: my-sklearn-service. From the AML SDK, you can run print(service.get_logs()) if you have service object to fetch the logs. \\\\nYou can interactively debug your scoring file locally. Please refer to https://docs.microsoft.com/azure/machine-learning/how-to-debug-visual-studio-code#debug-and-troubleshoot-deployments for more information.\\\\nYou can also try to run image 896ee77023f74bc78f17c761d25ae40f.azurecr.io/azureml/azureml_9febe3c381178587c812a6e9134e214b locally. Please refer to https://aka.ms/debugimage#service-launch-fails for more information.\\\",\\n  \\\"details\\\": [\\n    {\\n      \\\"code\\\": \\\"CrashLoopBackOff\\\",\\n      \\\"message\\\": \\\"Your container application crashed. This may be caused by errors in your scoring file's init() function.\\\\nPlease check the logs for your container instance: my-sklearn-service. From the AML SDK, you can run print(service.get_logs()) if you have service object to fetch the logs. \\\\nYou can interactively debug your scoring file locally. Please refer to https://docs.microsoft.com/azure/machine-learning/how-to-debug-visual-studio-code#debug-and-troubleshoot-deployments for more information.\\\\nYou can also try to run image 896ee77023f74bc78f17c761d25ae40f.azurecr.io/azureml/azureml_9febe3c381178587c812a6e9134e214b locally. Please refer to https://aka.ms/debugimage#service-launch-fails for more information.\\\"\\n    },\\n    {\\n      \\\"code\\\": \\\"AciDeploymentFailed\\\",\\n      \\\"message\\\": \\\"Your container application crashed. Please follow the steps to debug:\\\\n1. From the AML SDK, you can run print(service.get_logs()) if you have service object to fetch the logs. Please refer to https://aka.ms/debugimage#dockerlog for more information.\\\\n2. If your container application crashed. This may be caused by errors in your scoring file's init() function. You can try debugging locally first. Please refer to https://aka.ms/debugimage#debug-locally for more information.\\\\n3. You can also interactively debug your scoring file locally. Please refer to https://docs.microsoft.com/azure/machine-learning/how-to-debug-visual-studio-code#debug-and-troubleshoot-deployments for more information.\\\\n4. View the diagnostic events to check status of container, it may help you to debug the issue. {\\\\\\\"restartCount\\\\\\\":4,\\\\\\\"currentState\\\\\\\":{\\\\\\\"state\\\\\\\":\\\\\\\"Waiting\\\\\\\",\\\\\\\"startTime\\\\\\\":null,\\\\\\\"exitCode\\\\\\\":null,\\\\\\\"finishTime\\\\\\\":null,\\\\\\\"detailStatus\\\\\\\":\\\\\\\"CrashLoopBackOff: Back-off 1m20s restarting failed\\\\\\\"},\\\\\\\"previousState\\\\\\\":{\\\\\\\"state\\\\\\\":\\\\\\\"Terminated\\\\\\\",\\\\\\\"startTime\\\\\\\":\\\\\\\"2020-12-30T03:37:55Z\\\\\\\",\\\\\\\"exitCode\\\\\\\":111,\\\\\\\"finishTime\\\\\\\":\\\\\\\"2020-12-30T03:37:57Z\\\\\\\",\\\\\\\"detailStatus\\\\\\\":\\\\\\\"Error\\\\\\\"},\\\\\\\"events\\\\\\\":[{\\\\\\\"count\\\\\\\":1,\\\\\\\"firstTimestamp\\\\\\\":\\\\\\\"2020-12-30T03:35:18Z\\\\\\\",\\\\\\\"lastTimestamp\\\\\\\":\\\\\\\"2020-12-30T03:35:18Z\\\\\\\",\\\\\\\"name\\\\\\\":\\\\\\\"Pulling\\\\\\\",\\\\\\\"message\\\\\\\":\\\\\\\"pulling image \\\\\\\\\\\\\\\"896ee77023f74bc78f17c761d25ae40f.azurecr.io/azureml/azureml_9febe3c381178587c812a6e9134e214b\\\\\\\\\\\\\\\"\\\\\\\",\\\\\\\"type\\\\\\\":\\\\\\\"Normal\\\\\\\"},{\\\\\\\"count\\\\\\\":1,\\\\\\\"firstTimestamp\\\\\\\":\\\\\\\"2020-12-30T03:35:45Z\\\\\\\",\\\\\\\"lastTimestamp\\\\\\\":\\\\\\\"2020-12-30T03:35:45Z\\\\\\\",\\\\\\\"name\\\\\\\":\\\\\\\"Pulled\\\\\\\",\\\\\\\"message\\\\\\\":\\\\\\\"Successfully pulled image \\\\\\\\\\\\\\\"896ee77023f74bc78f17c761d25ae40f.azurecr.io/azureml/azureml_9febe3c381178587c812a6e9134e214b\\\\\\\\\\\\\\\"\\\\\\\",\\\\\\\"type\\\\\\\":\\\\\\\"Normal\\\\\\\"},{\\\\\\\"count\\\\\\\":1,\\\\\\\"firstTimestamp\\\\\\\":\\\\\\\"2020-12-30T03:36:12Z\\\\\\\",\\\\\\\"lastTimestamp\\\\\\\":\\\\\\\"2020-12-30T03:36:12Z\\\\\\\",\\\\\\\"name\\\\\\\":\\\\\\\"Created\\\\\\\",\\\\\\\"message\\\\\\\":\\\\\\\"Created container\\\\\\\",\\\\\\\"type\\\\\\\":\\\\\\\"Normal\\\\\\\"},{\\\\\\\"count\\\\\\\":1,\\\\\\\"firstTimestamp\\\\\\\":\\\\\\\"2020-12-30T03:36:12Z\\\\\\\",\\\\\\\"lastTimestamp\\\\\\\":\\\\\\\"2020-12-30T03:36:12Z\\\\\\\",\\\\\\\"name\\\\\\\":\\\\\\\"Started\\\\\\\",\\\\\\\"message\\\\\\\":\\\\\\\"Started container\\\\\\\",\\\\\\\"type\\\\\\\":\\\\\\\"Normal\\\\\\\"}]}\\\"\\n    }\\n  ]\\n}\"\n    }\n}",
          "traceback": [
            "\u001b[0;31m---------------------------------------------------------------------------\u001b[0m",
            "\u001b[0;31mWebserviceException\u001b[0m                       Traceback (most recent call last)",
            "\u001b[0;32m<ipython-input-25-38fb455b7b61>\u001b[0m in \u001b[0;36m<module>\u001b[0;34m\u001b[0m\n\u001b[0;32m----> 1\u001b[0;31m \u001b[0mservice\u001b[0m\u001b[0;34m.\u001b[0m\u001b[0mwait_for_deployment\u001b[0m\u001b[0;34m(\u001b[0m\u001b[0;32mTrue\u001b[0m\u001b[0;34m)\u001b[0m\u001b[0;34m\u001b[0m\u001b[0;34m\u001b[0m\u001b[0m\n\u001b[0m\u001b[1;32m      2\u001b[0m \u001b[0mprint\u001b[0m\u001b[0;34m(\u001b[0m\u001b[0mservice\u001b[0m\u001b[0;34m.\u001b[0m\u001b[0mstate\u001b[0m\u001b[0;34m)\u001b[0m\u001b[0;34m\u001b[0m\u001b[0;34m\u001b[0m\u001b[0m\n",
            "\u001b[0;32m/anaconda/envs/azureml_py36/lib/python3.6/site-packages/azureml/core/webservice/webservice.py\u001b[0m in \u001b[0;36mwait_for_deployment\u001b[0;34m(self, show_output, timeout_sec)\u001b[0m\n\u001b[1;32m    913\u001b[0m                                           \u001b[0;34m'Error:\\n'\u001b[0m\u001b[0;34m\u001b[0m\u001b[0;34m\u001b[0m\u001b[0m\n\u001b[1;32m    914\u001b[0m                                           '{}'.format(self.state, self._operation_endpoint.split('/')[-1],\n\u001b[0;32m--> 915\u001b[0;31m                                                       logs_response, error_response), logger=module_logger)\n\u001b[0m\u001b[1;32m    916\u001b[0m             print('{} service creation operation finished, operation \"{}\"'.format(self._webservice_type,\n\u001b[1;32m    917\u001b[0m                                                                                   operation_state))\n",
            "\u001b[0;31mWebserviceException\u001b[0m: WebserviceException:\n\tMessage: Service deployment polling reached non-successful terminal state, current service state: Failed\nOperation ID: cc46194d-c3c6-48ce-ae6f-70818c15cd01\nMore information can be found using '.get_logs()'\nError:\n{\n  \"code\": \"AciDeploymentFailed\",\n  \"message\": \"Aci Deployment failed with exception: Your container application crashed. This may be caused by errors in your scoring file's init() function.\\nPlease check the logs for your container instance: my-sklearn-service. From the AML SDK, you can run print(service.get_logs()) if you have service object to fetch the logs. \\nYou can interactively debug your scoring file locally. Please refer to https://docs.microsoft.com/azure/machine-learning/how-to-debug-visual-studio-code#debug-and-troubleshoot-deployments for more information.\\nYou can also try to run image 896ee77023f74bc78f17c761d25ae40f.azurecr.io/azureml/azureml_9febe3c381178587c812a6e9134e214b locally. Please refer to https://aka.ms/debugimage#service-launch-fails for more information.\",\n  \"details\": [\n    {\n      \"code\": \"CrashLoopBackOff\",\n      \"message\": \"Your container application crashed. This may be caused by errors in your scoring file's init() function.\\nPlease check the logs for your container instance: my-sklearn-service. From the AML SDK, you can run print(service.get_logs()) if you have service object to fetch the logs. \\nYou can interactively debug your scoring file locally. Please refer to https://docs.microsoft.com/azure/machine-learning/how-to-debug-visual-studio-code#debug-and-troubleshoot-deployments for more information.\\nYou can also try to run image 896ee77023f74bc78f17c761d25ae40f.azurecr.io/azureml/azureml_9febe3c381178587c812a6e9134e214b locally. Please refer to https://aka.ms/debugimage#service-launch-fails for more information.\"\n    },\n    {\n      \"code\": \"AciDeploymentFailed\",\n      \"message\": \"Your container application crashed. Please follow the steps to debug:\\n1. From the AML SDK, you can run print(service.get_logs()) if you have service object to fetch the logs. Please refer to https://aka.ms/debugimage#dockerlog for more information.\\n2. If your container application crashed. This may be caused by errors in your scoring file's init() function. You can try debugging locally first. Please refer to https://aka.ms/debugimage#debug-locally for more information.\\n3. You can also interactively debug your scoring file locally. Please refer to https://docs.microsoft.com/azure/machine-learning/how-to-debug-visual-studio-code#debug-and-troubleshoot-deployments for more information.\\n4. View the diagnostic events to check status of container, it may help you to debug the issue. {\\\"restartCount\\\":4,\\\"currentState\\\":{\\\"state\\\":\\\"Waiting\\\",\\\"startTime\\\":null,\\\"exitCode\\\":null,\\\"finishTime\\\":null,\\\"detailStatus\\\":\\\"CrashLoopBackOff: Back-off 1m20s restarting failed\\\"},\\\"previousState\\\":{\\\"state\\\":\\\"Terminated\\\",\\\"startTime\\\":\\\"2020-12-30T03:37:55Z\\\",\\\"exitCode\\\":111,\\\"finishTime\\\":\\\"2020-12-30T03:37:57Z\\\",\\\"detailStatus\\\":\\\"Error\\\"},\\\"events\\\":[{\\\"count\\\":1,\\\"firstTimestamp\\\":\\\"2020-12-30T03:35:18Z\\\",\\\"lastTimestamp\\\":\\\"2020-12-30T03:35:18Z\\\",\\\"name\\\":\\\"Pulling\\\",\\\"message\\\":\\\"pulling image \\\\\\\"896ee77023f74bc78f17c761d25ae40f.azurecr.io/azureml/azureml_9febe3c381178587c812a6e9134e214b\\\\\\\"\\\",\\\"type\\\":\\\"Normal\\\"},{\\\"count\\\":1,\\\"firstTimestamp\\\":\\\"2020-12-30T03:35:45Z\\\",\\\"lastTimestamp\\\":\\\"2020-12-30T03:35:45Z\\\",\\\"name\\\":\\\"Pulled\\\",\\\"message\\\":\\\"Successfully pulled image \\\\\\\"896ee77023f74bc78f17c761d25ae40f.azurecr.io/azureml/azureml_9febe3c381178587c812a6e9134e214b\\\\\\\"\\\",\\\"type\\\":\\\"Normal\\\"},{\\\"count\\\":1,\\\"firstTimestamp\\\":\\\"2020-12-30T03:36:12Z\\\",\\\"lastTimestamp\\\":\\\"2020-12-30T03:36:12Z\\\",\\\"name\\\":\\\"Created\\\",\\\"message\\\":\\\"Created container\\\",\\\"type\\\":\\\"Normal\\\"},{\\\"count\\\":1,\\\"firstTimestamp\\\":\\\"2020-12-30T03:36:12Z\\\",\\\"lastTimestamp\\\":\\\"2020-12-30T03:36:12Z\\\",\\\"name\\\":\\\"Started\\\",\\\"message\\\":\\\"Started container\\\",\\\"type\\\":\\\"Normal\\\"}]}\"\n    }\n  ]\n}\n\tInnerException None\n\tErrorResponse \n{\n    \"error\": {\n        \"message\": \"Service deployment polling reached non-successful terminal state, current service state: Failed\\nOperation ID: cc46194d-c3c6-48ce-ae6f-70818c15cd01\\nMore information can be found using '.get_logs()'\\nError:\\n{\\n  \\\"code\\\": \\\"AciDeploymentFailed\\\",\\n  \\\"message\\\": \\\"Aci Deployment failed with exception: Your container application crashed. This may be caused by errors in your scoring file's init() function.\\\\nPlease check the logs for your container instance: my-sklearn-service. From the AML SDK, you can run print(service.get_logs()) if you have service object to fetch the logs. \\\\nYou can interactively debug your scoring file locally. Please refer to https://docs.microsoft.com/azure/machine-learning/how-to-debug-visual-studio-code#debug-and-troubleshoot-deployments for more information.\\\\nYou can also try to run image 896ee77023f74bc78f17c761d25ae40f.azurecr.io/azureml/azureml_9febe3c381178587c812a6e9134e214b locally. Please refer to https://aka.ms/debugimage#service-launch-fails for more information.\\\",\\n  \\\"details\\\": [\\n    {\\n      \\\"code\\\": \\\"CrashLoopBackOff\\\",\\n      \\\"message\\\": \\\"Your container application crashed. This may be caused by errors in your scoring file's init() function.\\\\nPlease check the logs for your container instance: my-sklearn-service. From the AML SDK, you can run print(service.get_logs()) if you have service object to fetch the logs. \\\\nYou can interactively debug your scoring file locally. Please refer to https://docs.microsoft.com/azure/machine-learning/how-to-debug-visual-studio-code#debug-and-troubleshoot-deployments for more information.\\\\nYou can also try to run image 896ee77023f74bc78f17c761d25ae40f.azurecr.io/azureml/azureml_9febe3c381178587c812a6e9134e214b locally. Please refer to https://aka.ms/debugimage#service-launch-fails for more information.\\\"\\n    },\\n    {\\n      \\\"code\\\": \\\"AciDeploymentFailed\\\",\\n      \\\"message\\\": \\\"Your container application crashed. Please follow the steps to debug:\\\\n1. From the AML SDK, you can run print(service.get_logs()) if you have service object to fetch the logs. Please refer to https://aka.ms/debugimage#dockerlog for more information.\\\\n2. If your container application crashed. This may be caused by errors in your scoring file's init() function. You can try debugging locally first. Please refer to https://aka.ms/debugimage#debug-locally for more information.\\\\n3. You can also interactively debug your scoring file locally. Please refer to https://docs.microsoft.com/azure/machine-learning/how-to-debug-visual-studio-code#debug-and-troubleshoot-deployments for more information.\\\\n4. View the diagnostic events to check status of container, it may help you to debug the issue. {\\\\\\\"restartCount\\\\\\\":4,\\\\\\\"currentState\\\\\\\":{\\\\\\\"state\\\\\\\":\\\\\\\"Waiting\\\\\\\",\\\\\\\"startTime\\\\\\\":null,\\\\\\\"exitCode\\\\\\\":null,\\\\\\\"finishTime\\\\\\\":null,\\\\\\\"detailStatus\\\\\\\":\\\\\\\"CrashLoopBackOff: Back-off 1m20s restarting failed\\\\\\\"},\\\\\\\"previousState\\\\\\\":{\\\\\\\"state\\\\\\\":\\\\\\\"Terminated\\\\\\\",\\\\\\\"startTime\\\\\\\":\\\\\\\"2020-12-30T03:37:55Z\\\\\\\",\\\\\\\"exitCode\\\\\\\":111,\\\\\\\"finishTime\\\\\\\":\\\\\\\"2020-12-30T03:37:57Z\\\\\\\",\\\\\\\"detailStatus\\\\\\\":\\\\\\\"Error\\\\\\\"},\\\\\\\"events\\\\\\\":[{\\\\\\\"count\\\\\\\":1,\\\\\\\"firstTimestamp\\\\\\\":\\\\\\\"2020-12-30T03:35:18Z\\\\\\\",\\\\\\\"lastTimestamp\\\\\\\":\\\\\\\"2020-12-30T03:35:18Z\\\\\\\",\\\\\\\"name\\\\\\\":\\\\\\\"Pulling\\\\\\\",\\\\\\\"message\\\\\\\":\\\\\\\"pulling image \\\\\\\\\\\\\\\"896ee77023f74bc78f17c761d25ae40f.azurecr.io/azureml/azureml_9febe3c381178587c812a6e9134e214b\\\\\\\\\\\\\\\"\\\\\\\",\\\\\\\"type\\\\\\\":\\\\\\\"Normal\\\\\\\"},{\\\\\\\"count\\\\\\\":1,\\\\\\\"firstTimestamp\\\\\\\":\\\\\\\"2020-12-30T03:35:45Z\\\\\\\",\\\\\\\"lastTimestamp\\\\\\\":\\\\\\\"2020-12-30T03:35:45Z\\\\\\\",\\\\\\\"name\\\\\\\":\\\\\\\"Pulled\\\\\\\",\\\\\\\"message\\\\\\\":\\\\\\\"Successfully pulled image \\\\\\\\\\\\\\\"896ee77023f74bc78f17c761d25ae40f.azurecr.io/azureml/azureml_9febe3c381178587c812a6e9134e214b\\\\\\\\\\\\\\\"\\\\\\\",\\\\\\\"type\\\\\\\":\\\\\\\"Normal\\\\\\\"},{\\\\\\\"count\\\\\\\":1,\\\\\\\"firstTimestamp\\\\\\\":\\\\\\\"2020-12-30T03:36:12Z\\\\\\\",\\\\\\\"lastTimestamp\\\\\\\":\\\\\\\"2020-12-30T03:36:12Z\\\\\\\",\\\\\\\"name\\\\\\\":\\\\\\\"Created\\\\\\\",\\\\\\\"message\\\\\\\":\\\\\\\"Created container\\\\\\\",\\\\\\\"type\\\\\\\":\\\\\\\"Normal\\\\\\\"},{\\\\\\\"count\\\\\\\":1,\\\\\\\"firstTimestamp\\\\\\\":\\\\\\\"2020-12-30T03:36:12Z\\\\\\\",\\\\\\\"lastTimestamp\\\\\\\":\\\\\\\"2020-12-30T03:36:12Z\\\\\\\",\\\\\\\"name\\\\\\\":\\\\\\\"Started\\\\\\\",\\\\\\\"message\\\\\\\":\\\\\\\"Started container\\\\\\\",\\\\\\\"type\\\\\\\":\\\\\\\"Normal\\\\\\\"}]}\\\"\\n    }\\n  ]\\n}\"\n    }\n}"
          ]
        }
      ],
      "execution_count": 25,
      "metadata": {
        "collapsed": true,
        "gather": {
          "logged": 1609205582882
        },
        "jupyter": {
          "outputs_hidden": false,
          "source_hidden": false
        },
        "nteract": {
          "transient": {
            "deleting": false
          }
        }
      }
    },
    {
      "cell_type": "code",
      "source": [
        "print(\"scoring URI: \" + service2.scoring_uri)\n"
      ],
      "outputs": [],
      "execution_count": null,
      "metadata": {
        "collapsed": true,
        "jupyter": {
          "outputs_hidden": false,
          "source_hidden": false
        },
        "nteract": {
          "transient": {
            "deleting": false
          }
        }
      }
    },
    {
      "cell_type": "markdown",
      "source": [
        "TODO: In the cell below, send a request to the web service you deployed to test it."
      ],
      "metadata": {
        "collapsed": true,
        "gather": {
          "logged": 1598431657736
        },
        "jupyter": {
          "outputs_hidden": false,
          "source_hidden": false
        },
        "nteract": {
          "transient": {
            "deleting": false
          }
        }
      }
    },
    {
      "cell_type": "code",
      "source": [
        "scoring_uri = 'scoring uri for your service'\n",
        "headers = {'Content-Type':'application/json'}\n",
        "\n",
        "test_data = json.dumps({'data':[{\n",
        "    'age':75,\n",
        "    'anaemia':0,\n",
        "    'creatinine_phosphokinase':582,\n",
        "    'diabetes':0,\n",
        "    'ejection_fraction':20,\n",
        "    'high_blood_pressure':1,\n",
        "    'platelets':265000,\n",
        "    'serum_creatinine':1.9,\n",
        "    'serum_sodium':130,\n",
        "    'sex':1,\n",
        "    'smoking':0,\n",
        "    'time':4}\n",
        "    ]\n",
        "        })\n",
        "\n",
        "response = requests.post(scoring_uri, data=test_data, headers=headers)\n",
        "\n",
        "print(\"Result:\",response.text)"
      ],
      "outputs": [],
      "execution_count": null,
      "metadata": {
        "gather": {
          "logged": 1598432707604
        },
        "jupyter": {
          "outputs_hidden": false,
          "source_hidden": false
        },
        "nteract": {
          "transient": {
            "deleting": false
          }
        }
      }
    },
    {
      "cell_type": "code",
      "source": [
        "# myenv.save_to_directory('./training',overwrite=False)\n",
        "\n",
        "print(service.get_logs())"
      ],
      "outputs": [],
      "execution_count": null,
      "metadata": {}
    },
    {
      "cell_type": "markdown",
      "source": [
        "TODO: In the cell below, print the logs of the web service and delete the service"
      ],
      "metadata": {
        "collapsed": true,
        "gather": {
          "logged": 1598432765711
        },
        "jupyter": {
          "outputs_hidden": false,
          "source_hidden": false
        },
        "nteract": {
          "transient": {
            "deleting": false
          }
        }
      }
    },
    {
      "cell_type": "code",
      "source": [
        "print(response.status_code)\n",
        "print(response.elapsed)\n",
        "print(response.json())\n",
        "service.delete()\n"
      ],
      "outputs": [],
      "execution_count": null,
      "metadata": {
        "jupyter": {
          "outputs_hidden": false,
          "source_hidden": false
        },
        "nteract": {
          "transient": {
            "deleting": false
          }
        }
      }
    },
    {
      "cell_type": "code",
      "source": [],
      "outputs": [],
      "execution_count": null,
      "metadata": {
        "collapsed": true,
        "gather": {
          "logged": 1609207232983
        },
        "jupyter": {
          "outputs_hidden": false,
          "source_hidden": false
        },
        "nteract": {
          "transient": {
            "deleting": false
          }
        }
      }
    }
  ],
  "metadata": {
    "kernel_info": {
      "name": "python3"
    },
    "kernelspec": {
      "name": "python3",
      "language": "python",
      "display_name": "Python 3"
    },
    "language_info": {
      "name": "python",
      "version": "3.6.9",
      "mimetype": "text/x-python",
      "codemirror_mode": {
        "name": "ipython",
        "version": 3
      },
      "pygments_lexer": "ipython3",
      "nbconvert_exporter": "python",
      "file_extension": ".py"
    },
    "nteract": {
      "version": "nteract-front-end@1.0.0"
    }
  },
  "nbformat": 4,
  "nbformat_minor": 2
}