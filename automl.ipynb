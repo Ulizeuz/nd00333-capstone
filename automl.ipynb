{
  "cells": [
    {
      "cell_type": "markdown",
      "source": [
        "# Automated ML\n",
        "\n",
        "TODO: Import Dependencies. In the cell below, import all the dependencies that you will need to complete the project."
      ],
      "metadata": {}
    },
    {
      "cell_type": "code",
      "source": [
        "# Import Dependencies.\n",
        "\n",
        "from azureml.core.experiment import Experiment\n",
        "from azureml.core.workspace import Workspace\n",
        "\n",
        "from azureml.core.compute import AmlCompute\n",
        "from azureml.core.compute import ComputeTarget\n",
        "from azureml.core.compute_target import ComputeTargetException\n",
        "\n",
        "import logging\n",
        "import os\n",
        "\n",
        "import azureml.core\n",
        "from azureml.train.automl import AutoMLConfig\n",
        "from azureml.core.dataset import Dataset\n",
        "from azureml.data.dataset_factory import TabularDatasetFactory\n",
        "\n",
        "from sklearn.model_selection import train_test_split\n",
        "\n",
        "import pandas as pd\n",
        "from azureml.widgets import RunDetails\n",
        "\n",
        "import joblib \n",
        "\n",
        "from azureml.core.model import Model\n",
        "\n",
        "from azureml.pipeline.core import PipelineData, TrainingOutput\n",
        "\n",
        "from azureml.pipeline.core import Pipeline\n",
        "\n",
        "import pickle\n",
        "\n",
        "from azureml.core.model import InferenceConfig\n",
        "from azureml.core.environment import Environment\n",
        "from azureml.core.conda_dependencies import CondaDependencies\n",
        "\n",
        "from azureml.core.webservice import LocalWebservice, AciWebservice\n",
        "\n",
        "import requests\n",
        "import json\n",
        "\n",
        "# Check core SDK version number\n",
        "print(\"SDK version:\", azureml.core.VERSION)"
      ],
      "outputs": [
        {
          "output_type": "stream",
          "name": "stdout",
          "text": [
            "SDK version: 1.19.0\n"
          ]
        }
      ],
      "execution_count": 13,
      "metadata": {
        "gather": {
          "logged": 1609125076315
        },
        "jupyter": {
          "outputs_hidden": false,
          "source_hidden": false
        },
        "nteract": {
          "transient": {
            "deleting": false
          }
        }
      }
    },
    {
      "cell_type": "markdown",
      "source": [
        "## Dataset\n",
        "\n",
        "### Overview\n",
        "\n",
        "There are some factors that affects Death Event. We use Kaggle's dataset Heart Failure Clinical Records which contains  information like age, sex, blood pressure, smoke, diabetes, ejection fraction, creatinine phosphokinase, serum_creatinine, serum_sodium, time and we have to predict their death_event.\n",
        "\n",
        "Dataset was uploaded and register as dataset in the workspace\n"
      ],
      "metadata": {}
    },
    {
      "cell_type": "code",
      "source": [
        "# Create a workspace\n",
        "\n",
        "ws = Workspace.from_config()\n",
        "print(ws.name, ws.resource_group, ws.location, ws.subscription_id, sep = '\\n')\n"
      ],
      "outputs": [
        {
          "output_type": "stream",
          "name": "stdout",
          "text": [
            "Performing interactive authentication. Please follow the instructions on the terminal.\n",
            "To sign in, use a web browser to open the page https://microsoft.com/devicelogin and enter the code R87J6VT9M to authenticate.\n",
            "You have logged in. Now let us find all the subscriptions to which you have access...\n",
            "Interactive authentication successfully completed.\n",
            "quick-starts-ws-132112\n",
            "aml-quickstarts-132112\n",
            "southcentralus\n",
            "a24a24d5-8d87-4c8a-99b6-91ed2d2df51f\n"
          ]
        }
      ],
      "execution_count": 2,
      "metadata": {
        "gather": {
          "logged": 1609123960848
        },
        "jupyter": {
          "outputs_hidden": false,
          "source_hidden": false
        },
        "nteract": {
          "transient": {
            "deleting": false
          }
        }
      }
    },
    {
      "cell_type": "code",
      "source": [
        "# choose a name for experiment\n",
        "experiment_name = 'ml-experiment-1'\n",
        "project_folder = './pipeline-project'\n",
        "\n",
        "experiment=Experiment(ws, experiment_name)\n",
        "\n",
        "experiment\n",
        "\n"
      ],
      "outputs": [
        {
          "output_type": "execute_result",
          "execution_count": 3,
          "data": {
            "text/plain": "Experiment(Name: ml-experiment-1,\nWorkspace: quick-starts-ws-132112)",
            "text/html": "<table style=\"width:100%\"><tr><th>Name</th><th>Workspace</th><th>Report Page</th><th>Docs Page</th></tr><tr><td>ml-experiment-1</td><td>quick-starts-ws-132112</td><td><a href=\"https://ml.azure.com/experiments/ml-experiment-1?wsid=/subscriptions/a24a24d5-8d87-4c8a-99b6-91ed2d2df51f/resourcegroups/aml-quickstarts-132112/workspaces/quick-starts-ws-132112\" target=\"_blank\" rel=\"noopener\">Link to Azure Machine Learning studio</a></td><td><a href=\"https://docs.microsoft.com/en-us/python/api/azureml-core/azureml.core.experiment.Experiment?view=azure-ml-py\" target=\"_blank\" rel=\"noopener\">Link to Documentation</a></td></tr></table>"
          },
          "metadata": {}
        }
      ],
      "execution_count": 3,
      "metadata": {
        "gather": {
          "logged": 1609123968330
        }
      }
    },
    {
      "cell_type": "code",
      "source": [
        "# NOTE: update the cluster name to match the existing cluster\n",
        "# Choose a name for your CPU cluster\n",
        "\n",
        "amlcompute_cluster_name = \"notebook132112\"\n",
        "\n",
        "# Verify that cluster does not exist already\n",
        "\n",
        "try:\n",
        "    compute_target = ComputeTarget(workspace=ws, name=amlcompute_cluster_name)\n",
        "    print('Found existing cluster, use it.')\n",
        "except ComputeTargetException:\n",
        "    compute_config = AmlCompute.provisioning_configuration(vm_size='STANDARD_D2_V2',# for GPU, use \"STANDARD_NC6\"\n",
        "                                                           #vm_priority = 'lowpriority', # optional\n",
        "                                                           max_nodes=4)\n",
        "    compute_target = ComputeTarget.create(ws, amlcompute_cluster_name, compute_config)\n",
        "\n",
        "compute_target.wait_for_completion(show_output=True)\n",
        "\n",
        "# For a more detailed view of current AmlCompute status, use get_status().\n"
      ],
      "outputs": [
        {
          "output_type": "stream",
          "name": "stdout",
          "text": [
            "Found existing cluster, use it.\n",
            "\n",
            "Running\n"
          ]
        }
      ],
      "execution_count": 4,
      "metadata": {
        "gather": {
          "logged": 1609123983900
        }
      }
    },
    {
      "cell_type": "code",
      "source": [
        "# dataset = Dataset.get_by_name(ws, name='heart')\n",
        "# ds = dataset.to_pandas_dataframe()\n",
        "# ds"
      ],
      "outputs": [
        {
          "output_type": "execute_result",
          "execution_count": 27,
          "data": {
            "text/plain": "      age  anaemia  creatinine_phosphokinase  diabetes  ejection_fraction  \\\n0    75.0        0                       582         0                 20   \n1    55.0        0                      7861         0                 38   \n2    65.0        0                       146         0                 20   \n3    50.0        1                       111         0                 20   \n4    65.0        1                       160         1                 20   \n..    ...      ...                       ...       ...                ...   \n294  62.0        0                        61         1                 38   \n295  55.0        0                      1820         0                 38   \n296  45.0        0                      2060         1                 60   \n297  45.0        0                      2413         0                 38   \n298  50.0        0                       196         0                 45   \n\n     high_blood_pressure  platelets  serum_creatinine  serum_sodium  sex  \\\n0                      1  265000.00               1.9           130    1   \n1                      0  263358.03               1.1           136    1   \n2                      0  162000.00               1.3           129    1   \n3                      0  210000.00               1.9           137    1   \n4                      0  327000.00               2.7           116    0   \n..                   ...        ...               ...           ...  ...   \n294                    1  155000.00               1.1           143    1   \n295                    0  270000.00               1.2           139    0   \n296                    0  742000.00               0.8           138    0   \n297                    0  140000.00               1.4           140    1   \n298                    0  395000.00               1.6           136    1   \n\n     smoking  time  DEATH_EVENT  \n0          0     4            1  \n1          0     6            1  \n2          1     7            1  \n3          0     7            1  \n4          0     8            1  \n..       ...   ...          ...  \n294        1   270            0  \n295        0   271            0  \n296        0   278            0  \n297        1   280            0  \n298        1   285            0  \n\n[299 rows x 13 columns]",
            "text/html": "<div>\n<style scoped>\n    .dataframe tbody tr th:only-of-type {\n        vertical-align: middle;\n    }\n\n    .dataframe tbody tr th {\n        vertical-align: top;\n    }\n\n    .dataframe thead th {\n        text-align: right;\n    }\n</style>\n<table border=\"1\" class=\"dataframe\">\n  <thead>\n    <tr style=\"text-align: right;\">\n      <th></th>\n      <th>age</th>\n      <th>anaemia</th>\n      <th>creatinine_phosphokinase</th>\n      <th>diabetes</th>\n      <th>ejection_fraction</th>\n      <th>high_blood_pressure</th>\n      <th>platelets</th>\n      <th>serum_creatinine</th>\n      <th>serum_sodium</th>\n      <th>sex</th>\n      <th>smoking</th>\n      <th>time</th>\n      <th>DEATH_EVENT</th>\n    </tr>\n  </thead>\n  <tbody>\n    <tr>\n      <th>0</th>\n      <td>75.0</td>\n      <td>0</td>\n      <td>582</td>\n      <td>0</td>\n      <td>20</td>\n      <td>1</td>\n      <td>265000.00</td>\n      <td>1.9</td>\n      <td>130</td>\n      <td>1</td>\n      <td>0</td>\n      <td>4</td>\n      <td>1</td>\n    </tr>\n    <tr>\n      <th>1</th>\n      <td>55.0</td>\n      <td>0</td>\n      <td>7861</td>\n      <td>0</td>\n      <td>38</td>\n      <td>0</td>\n      <td>263358.03</td>\n      <td>1.1</td>\n      <td>136</td>\n      <td>1</td>\n      <td>0</td>\n      <td>6</td>\n      <td>1</td>\n    </tr>\n    <tr>\n      <th>2</th>\n      <td>65.0</td>\n      <td>0</td>\n      <td>146</td>\n      <td>0</td>\n      <td>20</td>\n      <td>0</td>\n      <td>162000.00</td>\n      <td>1.3</td>\n      <td>129</td>\n      <td>1</td>\n      <td>1</td>\n      <td>7</td>\n      <td>1</td>\n    </tr>\n    <tr>\n      <th>3</th>\n      <td>50.0</td>\n      <td>1</td>\n      <td>111</td>\n      <td>0</td>\n      <td>20</td>\n      <td>0</td>\n      <td>210000.00</td>\n      <td>1.9</td>\n      <td>137</td>\n      <td>1</td>\n      <td>0</td>\n      <td>7</td>\n      <td>1</td>\n    </tr>\n    <tr>\n      <th>4</th>\n      <td>65.0</td>\n      <td>1</td>\n      <td>160</td>\n      <td>1</td>\n      <td>20</td>\n      <td>0</td>\n      <td>327000.00</td>\n      <td>2.7</td>\n      <td>116</td>\n      <td>0</td>\n      <td>0</td>\n      <td>8</td>\n      <td>1</td>\n    </tr>\n    <tr>\n      <th>...</th>\n      <td>...</td>\n      <td>...</td>\n      <td>...</td>\n      <td>...</td>\n      <td>...</td>\n      <td>...</td>\n      <td>...</td>\n      <td>...</td>\n      <td>...</td>\n      <td>...</td>\n      <td>...</td>\n      <td>...</td>\n      <td>...</td>\n    </tr>\n    <tr>\n      <th>294</th>\n      <td>62.0</td>\n      <td>0</td>\n      <td>61</td>\n      <td>1</td>\n      <td>38</td>\n      <td>1</td>\n      <td>155000.00</td>\n      <td>1.1</td>\n      <td>143</td>\n      <td>1</td>\n      <td>1</td>\n      <td>270</td>\n      <td>0</td>\n    </tr>\n    <tr>\n      <th>295</th>\n      <td>55.0</td>\n      <td>0</td>\n      <td>1820</td>\n      <td>0</td>\n      <td>38</td>\n      <td>0</td>\n      <td>270000.00</td>\n      <td>1.2</td>\n      <td>139</td>\n      <td>0</td>\n      <td>0</td>\n      <td>271</td>\n      <td>0</td>\n    </tr>\n    <tr>\n      <th>296</th>\n      <td>45.0</td>\n      <td>0</td>\n      <td>2060</td>\n      <td>1</td>\n      <td>60</td>\n      <td>0</td>\n      <td>742000.00</td>\n      <td>0.8</td>\n      <td>138</td>\n      <td>0</td>\n      <td>0</td>\n      <td>278</td>\n      <td>0</td>\n    </tr>\n    <tr>\n      <th>297</th>\n      <td>45.0</td>\n      <td>0</td>\n      <td>2413</td>\n      <td>0</td>\n      <td>38</td>\n      <td>0</td>\n      <td>140000.00</td>\n      <td>1.4</td>\n      <td>140</td>\n      <td>1</td>\n      <td>1</td>\n      <td>280</td>\n      <td>0</td>\n    </tr>\n    <tr>\n      <th>298</th>\n      <td>50.0</td>\n      <td>0</td>\n      <td>196</td>\n      <td>0</td>\n      <td>45</td>\n      <td>0</td>\n      <td>395000.00</td>\n      <td>1.6</td>\n      <td>136</td>\n      <td>1</td>\n      <td>1</td>\n      <td>285</td>\n      <td>0</td>\n    </tr>\n  </tbody>\n</table>\n<p>299 rows × 13 columns</p>\n</div>"
          },
          "metadata": {}
        }
      ],
      "execution_count": 27,
      "metadata": {
        "gather": {
          "logged": 1609125910393
        }
      }
    },
    {
      "cell_type": "code",
      "source": [
        "#upload Heart Failure Dataset\n",
        "\n",
        "data = pd.read_csv(\"heart_failure_clinical_records_dataset.csv\")\n",
        "data.describe()"
      ],
      "outputs": [
        {
          "output_type": "execute_result",
          "execution_count": 9,
          "data": {
            "text/plain": "              age     anaemia  creatinine_phosphokinase    diabetes  \\\ncount  299.000000  299.000000                299.000000  299.000000   \nmean    60.833893    0.431438                581.839465    0.418060   \nstd     11.894809    0.496107                970.287881    0.494067   \nmin     40.000000    0.000000                 23.000000    0.000000   \n25%     51.000000    0.000000                116.500000    0.000000   \n50%     60.000000    0.000000                250.000000    0.000000   \n75%     70.000000    1.000000                582.000000    1.000000   \nmax     95.000000    1.000000               7861.000000    1.000000   \n\n       ejection_fraction  high_blood_pressure      platelets  \\\ncount         299.000000           299.000000     299.000000   \nmean           38.083612             0.351171  263358.029264   \nstd            11.834841             0.478136   97804.236869   \nmin            14.000000             0.000000   25100.000000   \n25%            30.000000             0.000000  212500.000000   \n50%            38.000000             0.000000  262000.000000   \n75%            45.000000             1.000000  303500.000000   \nmax            80.000000             1.000000  850000.000000   \n\n       serum_creatinine  serum_sodium         sex    smoking        time  \\\ncount         299.00000    299.000000  299.000000  299.00000  299.000000   \nmean            1.39388    136.625418    0.648829    0.32107  130.260870   \nstd             1.03451      4.412477    0.478136    0.46767   77.614208   \nmin             0.50000    113.000000    0.000000    0.00000    4.000000   \n25%             0.90000    134.000000    0.000000    0.00000   73.000000   \n50%             1.10000    137.000000    1.000000    0.00000  115.000000   \n75%             1.40000    140.000000    1.000000    1.00000  203.000000   \nmax             9.40000    148.000000    1.000000    1.00000  285.000000   \n\n       DEATH_EVENT  \ncount    299.00000  \nmean       0.32107  \nstd        0.46767  \nmin        0.00000  \n25%        0.00000  \n50%        0.00000  \n75%        1.00000  \nmax        1.00000  ",
            "text/html": "<div>\n<style scoped>\n    .dataframe tbody tr th:only-of-type {\n        vertical-align: middle;\n    }\n\n    .dataframe tbody tr th {\n        vertical-align: top;\n    }\n\n    .dataframe thead th {\n        text-align: right;\n    }\n</style>\n<table border=\"1\" class=\"dataframe\">\n  <thead>\n    <tr style=\"text-align: right;\">\n      <th></th>\n      <th>age</th>\n      <th>anaemia</th>\n      <th>creatinine_phosphokinase</th>\n      <th>diabetes</th>\n      <th>ejection_fraction</th>\n      <th>high_blood_pressure</th>\n      <th>platelets</th>\n      <th>serum_creatinine</th>\n      <th>serum_sodium</th>\n      <th>sex</th>\n      <th>smoking</th>\n      <th>time</th>\n      <th>DEATH_EVENT</th>\n    </tr>\n  </thead>\n  <tbody>\n    <tr>\n      <th>count</th>\n      <td>299.000000</td>\n      <td>299.000000</td>\n      <td>299.000000</td>\n      <td>299.000000</td>\n      <td>299.000000</td>\n      <td>299.000000</td>\n      <td>299.000000</td>\n      <td>299.00000</td>\n      <td>299.000000</td>\n      <td>299.000000</td>\n      <td>299.00000</td>\n      <td>299.000000</td>\n      <td>299.00000</td>\n    </tr>\n    <tr>\n      <th>mean</th>\n      <td>60.833893</td>\n      <td>0.431438</td>\n      <td>581.839465</td>\n      <td>0.418060</td>\n      <td>38.083612</td>\n      <td>0.351171</td>\n      <td>263358.029264</td>\n      <td>1.39388</td>\n      <td>136.625418</td>\n      <td>0.648829</td>\n      <td>0.32107</td>\n      <td>130.260870</td>\n      <td>0.32107</td>\n    </tr>\n    <tr>\n      <th>std</th>\n      <td>11.894809</td>\n      <td>0.496107</td>\n      <td>970.287881</td>\n      <td>0.494067</td>\n      <td>11.834841</td>\n      <td>0.478136</td>\n      <td>97804.236869</td>\n      <td>1.03451</td>\n      <td>4.412477</td>\n      <td>0.478136</td>\n      <td>0.46767</td>\n      <td>77.614208</td>\n      <td>0.46767</td>\n    </tr>\n    <tr>\n      <th>min</th>\n      <td>40.000000</td>\n      <td>0.000000</td>\n      <td>23.000000</td>\n      <td>0.000000</td>\n      <td>14.000000</td>\n      <td>0.000000</td>\n      <td>25100.000000</td>\n      <td>0.50000</td>\n      <td>113.000000</td>\n      <td>0.000000</td>\n      <td>0.00000</td>\n      <td>4.000000</td>\n      <td>0.00000</td>\n    </tr>\n    <tr>\n      <th>25%</th>\n      <td>51.000000</td>\n      <td>0.000000</td>\n      <td>116.500000</td>\n      <td>0.000000</td>\n      <td>30.000000</td>\n      <td>0.000000</td>\n      <td>212500.000000</td>\n      <td>0.90000</td>\n      <td>134.000000</td>\n      <td>0.000000</td>\n      <td>0.00000</td>\n      <td>73.000000</td>\n      <td>0.00000</td>\n    </tr>\n    <tr>\n      <th>50%</th>\n      <td>60.000000</td>\n      <td>0.000000</td>\n      <td>250.000000</td>\n      <td>0.000000</td>\n      <td>38.000000</td>\n      <td>0.000000</td>\n      <td>262000.000000</td>\n      <td>1.10000</td>\n      <td>137.000000</td>\n      <td>1.000000</td>\n      <td>0.00000</td>\n      <td>115.000000</td>\n      <td>0.00000</td>\n    </tr>\n    <tr>\n      <th>75%</th>\n      <td>70.000000</td>\n      <td>1.000000</td>\n      <td>582.000000</td>\n      <td>1.000000</td>\n      <td>45.000000</td>\n      <td>1.000000</td>\n      <td>303500.000000</td>\n      <td>1.40000</td>\n      <td>140.000000</td>\n      <td>1.000000</td>\n      <td>1.00000</td>\n      <td>203.000000</td>\n      <td>1.00000</td>\n    </tr>\n    <tr>\n      <th>max</th>\n      <td>95.000000</td>\n      <td>1.000000</td>\n      <td>7861.000000</td>\n      <td>1.000000</td>\n      <td>80.000000</td>\n      <td>1.000000</td>\n      <td>850000.000000</td>\n      <td>9.40000</td>\n      <td>148.000000</td>\n      <td>1.000000</td>\n      <td>1.00000</td>\n      <td>285.000000</td>\n      <td>1.00000</td>\n    </tr>\n  </tbody>\n</table>\n</div>"
          },
          "metadata": {}
        }
      ],
      "execution_count": 9,
      "metadata": {
        "gather": {
          "logged": 1609124257301
        },
        "jupyter": {
          "outputs_hidden": false,
          "source_hidden": false
        },
        "nteract": {
          "transient": {
            "deleting": false
          }
        }
      }
    },
    {
      "cell_type": "code",
      "source": [
        "train, test = train_test_split(data, test_size=0.2, random_state=1 )\n",
        "\n",
        "if \"training\" not in os.listdir():\n",
        "    os.mkdir(\"./training\")\n",
        "\n",
        "if \"models\" not in os.listdir():\n",
        "    os.mkdir(\"./models\")\n",
        "\n",
        "train.to_csv(\"training/train_data.csv\", index = False)\n",
        "\n",
        "data_store = ws.get_default_datastore()\n",
        "data_store.upload(src_dir = \"./training\", target_path = 'udacity-project', overwrite = True,  show_progress = True)\n"
      ],
      "outputs": [
        {
          "output_type": "stream",
          "name": "stdout",
          "text": [
            "Uploading an estimated of 1 files\n",
            "Uploading ./training/train_data.csv\n",
            "Uploaded ./training/train_data.csv, 1 files out of an estimated total of 1\n",
            "Uploaded 1 files\n"
          ]
        },
        {
          "output_type": "execute_result",
          "execution_count": 36,
          "data": {
            "text/plain": "$AZUREML_DATAREFERENCE_9e775cfa2e7e42d28d3648306b347a30"
          },
          "metadata": {}
        }
      ],
      "execution_count": 36,
      "metadata": {
        "gather": {
          "logged": 1609127585518
        }
      }
    },
    {
      "cell_type": "code",
      "source": [
        "train_data = Dataset.Tabular.from_delimited_files(path=data_store.path(\"udacity-project/train_data.csv\"))\n",
        "# train=TabularDatasetFactory.from_delimited_files([(data_store, 'training/train_data.csv')])\n"
      ],
      "outputs": [],
      "execution_count": 39,
      "metadata": {
        "gather": {
          "logged": 1609127945861
        }
      }
    },
    {
      "cell_type": "code",
      "source": [],
      "outputs": [],
      "execution_count": null,
      "metadata": {
        "gather": {
          "logged": 1608759287765
        }
      }
    },
    {
      "cell_type": "markdown",
      "source": [
        "## AutoML Configuration\n",
        "\n",
        "TODO: Explain why you chose the automl settings and cofiguration you used below.\n",
        "\n",
        "We are trying to predict DEATH_EVENT, therefore we need to define the task as classification. Also define Featurization as auto and enable early stopping and the primary metric AUC_weighted"
      ],
      "metadata": {}
    },
    {
      "cell_type": "code",
      "source": [
        "# TODO: Put your automl settings here\n",
        "automl_settings = {\n",
        "    \"experiment_timeout_minutes\": 20,\n",
        "    \"max_concurrent_iterations\": 5,\n",
        "    \"primary_metric\" : 'AUC_weighted'    \n",
        "}\n",
        "\n",
        "# TODO: Put your automl config here\n",
        "automl_config = AutoMLConfig(\n",
        "    \n",
        "    compute_target = compute_target,\n",
        "    task = \"classification\",\n",
        "    training_data = train_data,\n",
        "    label_column_name = \"DEATH_EVENT\",   \n",
        "    path = project_folder,\n",
        "    enable_early_stopping= True,\n",
        "    featurization= 'auto',\n",
        "    debug_log = \"automl_errors.log\",\n",
        "    **automl_settings \n",
        ")"
      ],
      "outputs": [],
      "execution_count": 40,
      "metadata": {
        "gather": {
          "logged": 1609127986025
        },
        "jupyter": {
          "outputs_hidden": false,
          "source_hidden": false
        },
        "nteract": {
          "transient": {
            "deleting": false
          }
        }
      }
    },
    {
      "cell_type": "code",
      "source": [
        "# TODO: Submit your experiment"
      ],
      "outputs": [
        {
          "output_type": "error",
          "ename": "ConfigException",
          "evalue": "ConfigException:\n\tMessage: Input of type 'Unknown' is not supported. Supported types: [azureml.data.tabular_dataset.TabularDataset, azureml.pipeline.core.pipeline_output_dataset.PipelineOutputTabularDataset]\n\tInnerException: None\n\tErrorResponse \n{\n    \"error\": {\n        \"code\": \"UserError\",\n        \"message\": \"Input of type 'Unknown' is not supported. Supported types: [azureml.data.tabular_dataset.TabularDataset, azureml.pipeline.core.pipeline_output_dataset.PipelineOutputTabularDataset]\",\n        \"details_uri\": \"https://aka.ms/AutoMLConfig\",\n        \"target\": \"training_data\",\n        \"inner_error\": {\n            \"code\": \"BadArgument\",\n            \"inner_error\": {\n                \"code\": \"ArgumentInvalid\",\n                \"inner_error\": {\n                    \"code\": \"InvalidInputDatatype\"\n                }\n            }\n        }\n    }\n}",
          "traceback": [
            "\u001b[0;31m---------------------------------------------------------------------------\u001b[0m",
            "\u001b[0;31mConfigException\u001b[0m                           Traceback (most recent call last)",
            "\u001b[0;32m<ipython-input-30-2aabc735cacd>\u001b[0m in \u001b[0;36m<module>\u001b[0;34m\u001b[0m\n\u001b[1;32m     30\u001b[0m \u001b[0;31m#     steps=[automl_step])\u001b[0m\u001b[0;34m\u001b[0m\u001b[0;34m\u001b[0m\u001b[0;34m\u001b[0m\u001b[0m\n\u001b[1;32m     31\u001b[0m \u001b[0;34m\u001b[0m\u001b[0m\n\u001b[0;32m---> 32\u001b[0;31m \u001b[0mremote_run\u001b[0m \u001b[0;34m=\u001b[0m \u001b[0mexperiment\u001b[0m\u001b[0;34m.\u001b[0m\u001b[0msubmit\u001b[0m\u001b[0;34m(\u001b[0m\u001b[0mautoml_config\u001b[0m\u001b[0;34m,\u001b[0m \u001b[0mshow_output\u001b[0m \u001b[0;34m=\u001b[0m \u001b[0;32mTrue\u001b[0m\u001b[0;34m)\u001b[0m\u001b[0;34m\u001b[0m\u001b[0;34m\u001b[0m\u001b[0m\n\u001b[0m\u001b[1;32m     33\u001b[0m \u001b[0mRunDetails\u001b[0m\u001b[0;34m(\u001b[0m\u001b[0mremote_run\u001b[0m\u001b[0;34m)\u001b[0m\u001b[0;34m.\u001b[0m\u001b[0mshow\u001b[0m\u001b[0;34m(\u001b[0m\u001b[0;34m)\u001b[0m\u001b[0;34m\u001b[0m\u001b[0;34m\u001b[0m\u001b[0m\n\u001b[1;32m     34\u001b[0m \u001b[0;34m\u001b[0m\u001b[0m\n",
            "\u001b[0;32m/anaconda/envs/azureml_py36/lib/python3.6/site-packages/azureml/core/experiment.py\u001b[0m in \u001b[0;36msubmit\u001b[0;34m(self, config, tags, **kwargs)\u001b[0m\n\u001b[1;32m    218\u001b[0m         \u001b[0msubmit_func\u001b[0m \u001b[0;34m=\u001b[0m \u001b[0mget_experiment_submit\u001b[0m\u001b[0;34m(\u001b[0m\u001b[0mconfig\u001b[0m\u001b[0;34m)\u001b[0m\u001b[0;34m\u001b[0m\u001b[0;34m\u001b[0m\u001b[0m\n\u001b[1;32m    219\u001b[0m         \u001b[0;32mwith\u001b[0m \u001b[0mself\u001b[0m\u001b[0;34m.\u001b[0m\u001b[0m_log_context\u001b[0m\u001b[0;34m(\u001b[0m\u001b[0;34m\"submit config {}\"\u001b[0m\u001b[0;34m.\u001b[0m\u001b[0mformat\u001b[0m\u001b[0;34m(\u001b[0m\u001b[0mconfig\u001b[0m\u001b[0;34m.\u001b[0m\u001b[0m__class__\u001b[0m\u001b[0;34m.\u001b[0m\u001b[0m__name__\u001b[0m\u001b[0;34m)\u001b[0m\u001b[0;34m)\u001b[0m\u001b[0;34m:\u001b[0m\u001b[0;34m\u001b[0m\u001b[0;34m\u001b[0m\u001b[0m\n\u001b[0;32m--> 220\u001b[0;31m             \u001b[0mrun\u001b[0m \u001b[0;34m=\u001b[0m \u001b[0msubmit_func\u001b[0m\u001b[0;34m(\u001b[0m\u001b[0mconfig\u001b[0m\u001b[0;34m,\u001b[0m \u001b[0mself\u001b[0m\u001b[0;34m.\u001b[0m\u001b[0mworkspace\u001b[0m\u001b[0;34m,\u001b[0m \u001b[0mself\u001b[0m\u001b[0;34m.\u001b[0m\u001b[0mname\u001b[0m\u001b[0;34m,\u001b[0m \u001b[0;34m**\u001b[0m\u001b[0mkwargs\u001b[0m\u001b[0;34m)\u001b[0m\u001b[0;34m\u001b[0m\u001b[0;34m\u001b[0m\u001b[0m\n\u001b[0m\u001b[1;32m    221\u001b[0m         \u001b[0;32mif\u001b[0m \u001b[0mtags\u001b[0m \u001b[0;32mis\u001b[0m \u001b[0;32mnot\u001b[0m \u001b[0;32mNone\u001b[0m\u001b[0;34m:\u001b[0m\u001b[0;34m\u001b[0m\u001b[0;34m\u001b[0m\u001b[0m\n\u001b[1;32m    222\u001b[0m             \u001b[0mrun\u001b[0m\u001b[0;34m.\u001b[0m\u001b[0mset_tags\u001b[0m\u001b[0;34m(\u001b[0m\u001b[0mtags\u001b[0m\u001b[0;34m)\u001b[0m\u001b[0;34m\u001b[0m\u001b[0;34m\u001b[0m\u001b[0m\n",
            "\u001b[0;32m/anaconda/envs/azureml_py36/lib/python3.6/site-packages/azureml/train/automl/automlconfig.py\u001b[0m in \u001b[0;36m_automl_static_submit\u001b[0;34m(automl_config_object, workspace, experiment_name, **kwargs)\u001b[0m\n\u001b[1;32m     83\u001b[0m     \u001b[0mcompute_target\u001b[0m \u001b[0;34m=\u001b[0m \u001b[0mautoml_config_object\u001b[0m\u001b[0;34m.\u001b[0m\u001b[0muser_settings\u001b[0m\u001b[0;34m.\u001b[0m\u001b[0mget\u001b[0m\u001b[0;34m(\u001b[0m\u001b[0;34m'compute_target'\u001b[0m\u001b[0;34m)\u001b[0m\u001b[0;34m\u001b[0m\u001b[0;34m\u001b[0m\u001b[0m\n\u001b[1;32m     84\u001b[0m \u001b[0;34m\u001b[0m\u001b[0m\n\u001b[0;32m---> 85\u001b[0;31m     \u001b[0mautoml_config_object\u001b[0m\u001b[0;34m.\u001b[0m\u001b[0m_validate_config_settings\u001b[0m\u001b[0;34m(\u001b[0m\u001b[0mworkspace\u001b[0m\u001b[0;34m)\u001b[0m\u001b[0;34m\u001b[0m\u001b[0;34m\u001b[0m\u001b[0m\n\u001b[0m\u001b[1;32m     86\u001b[0m     \u001b[0mfit_params\u001b[0m \u001b[0;34m=\u001b[0m \u001b[0mautoml_config_object\u001b[0m\u001b[0;34m.\u001b[0m\u001b[0m_get_fit_params\u001b[0m\u001b[0;34m(\u001b[0m\u001b[0;34m)\u001b[0m\u001b[0;34m\u001b[0m\u001b[0;34m\u001b[0m\u001b[0m\n\u001b[1;32m     87\u001b[0m \u001b[0;34m\u001b[0m\u001b[0m\n",
            "\u001b[0;32m/anaconda/envs/azureml_py36/lib/python3.6/site-packages/azureml/train/automl/automlconfig.py\u001b[0m in \u001b[0;36m_validate_config_settings\u001b[0;34m(self, workspace)\u001b[0m\n\u001b[1;32m   1833\u001b[0m                     AzureMLError.create(\n\u001b[1;32m   1834\u001b[0m                         \u001b[0mInvalidInputDatatype\u001b[0m\u001b[0;34m,\u001b[0m \u001b[0mtarget\u001b[0m\u001b[0;34m=\u001b[0m\u001b[0;34m\"training_data\"\u001b[0m\u001b[0;34m,\u001b[0m \u001b[0minput_type\u001b[0m\u001b[0;34m=\u001b[0m\u001b[0;34m\"Unknown\"\u001b[0m\u001b[0;34m,\u001b[0m\u001b[0;34m\u001b[0m\u001b[0;34m\u001b[0m\u001b[0m\n\u001b[0;32m-> 1835\u001b[0;31m                         \u001b[0msupported_types\u001b[0m\u001b[0;34m=\u001b[0m\u001b[0;34m\", \"\u001b[0m\u001b[0;34m.\u001b[0m\u001b[0mjoin\u001b[0m\u001b[0;34m(\u001b[0m\u001b[0mSupportedInputDatatypes\u001b[0m\u001b[0;34m.\u001b[0m\u001b[0mREMOTE_RUN_SCENARIO\u001b[0m\u001b[0;34m)\u001b[0m\u001b[0;34m\u001b[0m\u001b[0;34m\u001b[0m\u001b[0m\n\u001b[0m\u001b[1;32m   1836\u001b[0m                     )\n\u001b[1;32m   1837\u001b[0m                 )\n",
            "\u001b[0;31mConfigException\u001b[0m: ConfigException:\n\tMessage: Input of type 'Unknown' is not supported. Supported types: [azureml.data.tabular_dataset.TabularDataset, azureml.pipeline.core.pipeline_output_dataset.PipelineOutputTabularDataset]\n\tInnerException: None\n\tErrorResponse \n{\n    \"error\": {\n        \"code\": \"UserError\",\n        \"message\": \"Input of type 'Unknown' is not supported. Supported types: [azureml.data.tabular_dataset.TabularDataset, azureml.pipeline.core.pipeline_output_dataset.PipelineOutputTabularDataset]\",\n        \"details_uri\": \"https://aka.ms/AutoMLConfig\",\n        \"target\": \"training_data\",\n        \"inner_error\": {\n            \"code\": \"BadArgument\",\n            \"inner_error\": {\n                \"code\": \"ArgumentInvalid\",\n                \"inner_error\": {\n                    \"code\": \"InvalidInputDatatype\"\n                }\n            }\n        }\n    }\n}"
          ]
        }
      ],
      "execution_count": 30,
      "metadata": {
        "gather": {
          "logged": 1608761042998
        },
        "jupyter": {
          "outputs_hidden": false,
          "source_hidden": false
        },
        "nteract": {
          "transient": {
            "deleting": false
          }
        }
      }
    },
    {
      "cell_type": "code",
      "source": [
        "remote_run = experiment.submit(automl_config, show_output = True)\r\n",
        "RunDetails(remote_run).show()\r\n"
      ],
      "outputs": [
        {
          "output_type": "stream",
          "name": "stdout",
          "text": [
            "Running on remote.\n",
            "No run_configuration provided, running on notebook132112 with default configuration\n",
            "Running on remote compute: notebook132112\n",
            "Parent Run ID: AutoML_9ada242b-ac34-4949-b9c0-17dfc5c52f98\n",
            "\n",
            "Current status: FeaturesGeneration. Generating features for the dataset.\n",
            "Current status: DatasetCrossValidationSplit. Generating individually featurized CV splits.\n",
            "Current status: ModelSelection. Beginning model selection.\n",
            "\n",
            "****************************************************************************************************\n",
            "DATA GUARDRAILS: \n",
            "\n",
            "TYPE:         Cross validation\n",
            "STATUS:       DONE\n",
            "DESCRIPTION:  Each iteration of the trained model was validated through cross-validation.\n",
            "              \n",
            "DETAILS:      \n",
            "+---------------------------------+\n",
            "|Number of folds                  |\n",
            "+=================================+\n",
            "|10                               |\n",
            "+---------------------------------+\n",
            "\n",
            "****************************************************************************************************\n",
            "\n",
            "TYPE:         Class balancing detection\n",
            "STATUS:       PASSED\n",
            "DESCRIPTION:  Your inputs were analyzed, and all classes are balanced in your training data.\n",
            "              Learn more about imbalanced data: https://aka.ms/AutomatedMLImbalancedData\n",
            "\n",
            "****************************************************************************************************\n",
            "\n",
            "TYPE:         Missing feature values imputation\n",
            "STATUS:       PASSED\n",
            "DESCRIPTION:  No feature missing values were detected in the training data.\n",
            "              Learn more about missing value imputation: https://aka.ms/AutomatedMLFeaturization\n",
            "\n",
            "****************************************************************************************************\n",
            "\n",
            "TYPE:         High cardinality feature detection\n",
            "STATUS:       PASSED\n",
            "DESCRIPTION:  Your inputs were analyzed, and no high cardinality features were detected.\n",
            "              Learn more about high cardinality feature handling: https://aka.ms/AutomatedMLFeaturization\n",
            "\n",
            "****************************************************************************************************\n",
            "\n",
            "****************************************************************************************************\n",
            "ITERATION: The iteration being evaluated.\n",
            "PIPELINE: A summary description of the pipeline being evaluated.\n",
            "DURATION: Time taken for the current iteration.\n",
            "METRIC: The result of computing score on the fitted pipeline.\n",
            "BEST: The best observed score thus far.\n",
            "****************************************************************************************************\n",
            "\n",
            " ITERATION   PIPELINE                                       DURATION      METRIC      BEST\n",
            "         1   MaxAbsScaler XGBoostClassifier                 0:01:02       0.8879    0.8879\n",
            "         4   MinMaxScaler RandomForest                      0:01:00       0.8998    0.8998\n",
            "         0   MaxAbsScaler LightGBM                          0:01:03       0.8901    0.8998\n",
            "         2   MinMaxScaler RandomForest                      0:01:05       0.8917    0.8998\n",
            "         3   RobustScaler ExtremeRandomTrees                0:01:09       0.8757    0.8998\n",
            "         5   MinMaxScaler RandomForest                      0:01:07       0.8860    0.8998\n",
            "         6   StandardScalerWrapper RandomForest             0:01:06       0.8792    0.8998\n",
            "         7   MinMaxScaler ExtremeRandomTrees                0:00:59       0.8880    0.8998\n",
            "         8   MinMaxScaler ExtremeRandomTrees                0:01:04       0.8708    0.8998\n",
            "         9   SparseNormalizer KNN                           0:01:51       0.7183    0.8998\n",
            "        13   StandardScalerWrapper SGD                      0:00:58       0.8509    0.8998\n",
            "        10   MinMaxScaler ExtremeRandomTrees                0:01:06       0.8822    0.8998\n",
            "        11   RobustScaler ExtremeRandomTrees                0:01:09       0.8853    0.8998\n",
            "        12   StandardScalerWrapper RandomForest             0:01:06       0.8996    0.8998\n",
            "        14   RobustScaler RandomForest                      0:01:09       0.8766    0.8998\n",
            "        15   StandardScalerWrapper KNN                      0:01:10       0.5876    0.8998\n",
            "        16   MinMaxScaler RandomForest                      0:00:59       0.8786    0.8998\n",
            "        17   MinMaxScaler ExtremeRandomTrees                0:01:09       0.8227    0.8998\n",
            "        18   MaxAbsScaler RandomForest                      0:01:02       0.8939    0.8998\n",
            "        19   StandardScalerWrapper XGBoostClassifier        0:01:12       0.8926    0.8998\n",
            "        20   MaxAbsScaler RandomForest                      0:01:23       0.8895    0.8998\n",
            "        21   MaxAbsScaler ExtremeRandomTrees                0:01:19       0.8534    0.8998\n",
            "        22   MaxAbsScaler ExtremeRandomTrees                0:01:07       0.8578    0.8998\n",
            "        23   StandardScalerWrapper XGBoostClassifier        0:00:58       0.8985    0.8998\n",
            "        24   MinMaxScaler ExtremeRandomTrees                0:01:11       0.8813    0.8998\n",
            "        25   MinMaxScaler RandomForest                      0:01:04       0.9077    0.9077\n",
            "        28   StandardScalerWrapper LightGBM                 0:01:04       0.8616    0.9077\n",
            "        26   MaxAbsScaler RandomForest                      0:01:53       0.8817    0.9077\n",
            "        27   MaxAbsScaler ExtremeRandomTrees                0:01:56       0.8908    0.9077\n",
            "        29   StandardScalerWrapper XGBoostClassifier        0:01:15       0.8929    0.9077\n",
            "        30   StandardScalerWrapper RandomForest             0:01:14       0.8944    0.9077\n",
            "        31   RobustScaler RandomForest                      0:01:14       0.9205    0.9205\n",
            "        32   MinMaxScaler RandomForest                      0:01:27       0.9108    0.9205\n",
            "        33   StandardScalerWrapper RandomForest             0:01:23       0.9128    0.9205\n",
            "        34   MinMaxScaler RandomForest                      0:01:26       0.9130    0.9205\n",
            "        35   TruncatedSVDWrapper RandomForest               0:01:04       0.7447    0.9205\n",
            "        36   MaxAbsScaler LightGBM                          0:01:09       0.8884    0.9205\n",
            "        37   StandardScalerWrapper LightGBM                 0:01:07       0.9031    0.9205\n",
            "        38   RobustScaler LightGBM                          0:01:04       0.9114    0.9205\n",
            "        39   StandardScalerWrapper LightGBM                 0:01:03       0.9091    0.9205\n",
            "        40   StandardScalerWrapper RandomForest             0:01:39       0.8022    0.9205\n",
            "        41   MinMaxScaler RandomForest                      0:01:37       0.8982    0.9205\n",
            "        42   StandardScalerWrapper LogisticRegression       0:01:02       0.8444    0.9205\n",
            "        43   StandardScalerWrapper GradientBoosting         0:01:06       0.9078    0.9205\n",
            "        44   MinMaxScaler RandomForest                      0:01:03       0.9132    0.9205\n",
            "        45   RobustScaler RandomForest                      0:01:06       0.8668    0.9205\n",
            "        46   MinMaxScaler GradientBoosting                  0:01:05       0.9064    0.9205\n",
            "        47   StandardScalerWrapper LightGBM                 0:00:51       0.8876    0.9205\n",
            "        48   RobustScaler LightGBM                          0:00:48       0.9024    0.9205\n",
            "        49                                                  0:00:41          nan    0.9205\n",
            "        50    VotingEnsemble                                0:02:48       0.9241    0.9241\n",
            "        51    StackEnsemble                                 0:02:53       0.9173    0.9241\n"
          ]
        },
        {
          "output_type": "display_data",
          "data": {
            "text/plain": "_AutoMLWidget(widget_settings={'childWidgetDisplay': 'popup', 'send_telemetry': False, 'log_level': 'INFO', 's…",
            "application/vnd.jupyter.widget-view+json": {
              "version_major": 2,
              "version_minor": 0,
              "model_id": "e5564dcb2d214328b2067f6cbea6b44e"
            }
          },
          "metadata": {}
        },
        {
          "output_type": "display_data",
          "data": {
            "application/aml.mini.widget.v1": "{\"status\": \"Completed\", \"workbench_run_details_uri\": \"https://ml.azure.com/experiments/ml-experiment-1/runs/AutoML_9ada242b-ac34-4949-b9c0-17dfc5c52f98?wsid=/subscriptions/a24a24d5-8d87-4c8a-99b6-91ed2d2df51f/resourcegroups/aml-quickstarts-132112/workspaces/quick-starts-ws-132112\", \"run_id\": \"AutoML_9ada242b-ac34-4949-b9c0-17dfc5c52f98\", \"run_properties\": {\"run_id\": \"AutoML_9ada242b-ac34-4949-b9c0-17dfc5c52f98\", \"created_utc\": \"2020-12-28T03:59:56.942568Z\", \"properties\": {\"num_iterations\": \"1000\", \"training_type\": \"TrainFull\", \"acquisition_function\": \"EI\", \"primary_metric\": \"AUC_weighted\", \"train_split\": \"0\", \"acquisition_parameter\": \"0\", \"num_cross_validation\": null, \"target\": \"notebook132112\", \"AMLSettingsJsonString\": \"{\\\"path\\\":null,\\\"name\\\":\\\"ml-experiment-1\\\",\\\"subscription_id\\\":\\\"a24a24d5-8d87-4c8a-99b6-91ed2d2df51f\\\",\\\"resource_group\\\":\\\"aml-quickstarts-132112\\\",\\\"workspace_name\\\":\\\"quick-starts-ws-132112\\\",\\\"region\\\":\\\"southcentralus\\\",\\\"compute_target\\\":\\\"notebook132112\\\",\\\"spark_service\\\":null,\\\"azure_service\\\":\\\"remote\\\",\\\"many_models\\\":false,\\\"pipeline_fetch_max_batch_size\\\":1,\\\"iterations\\\":1000,\\\"primary_metric\\\":\\\"AUC_weighted\\\",\\\"task_type\\\":\\\"classification\\\",\\\"data_script\\\":null,\\\"validation_size\\\":0.0,\\\"n_cross_validations\\\":null,\\\"y_min\\\":null,\\\"y_max\\\":null,\\\"num_classes\\\":null,\\\"featurization\\\":\\\"auto\\\",\\\"_ignore_package_version_incompatibilities\\\":false,\\\"is_timeseries\\\":false,\\\"max_cores_per_iteration\\\":1,\\\"max_concurrent_iterations\\\":5,\\\"iteration_timeout_minutes\\\":null,\\\"mem_in_mb\\\":null,\\\"enforce_time_on_windows\\\":false,\\\"experiment_timeout_minutes\\\":20,\\\"experiment_exit_score\\\":null,\\\"whitelist_models\\\":null,\\\"blacklist_algos\\\":[\\\"TensorFlowLinearClassifier\\\",\\\"TensorFlowDNN\\\"],\\\"supported_models\\\":[\\\"BernoulliNaiveBayes\\\",\\\"SVM\\\",\\\"LinearSVM\\\",\\\"LogisticRegression\\\",\\\"AveragedPerceptronClassifier\\\",\\\"SGD\\\",\\\"TensorFlowDNN\\\",\\\"LightGBM\\\",\\\"ExtremeRandomTrees\\\",\\\"MultinomialNaiveBayes\\\",\\\"KNN\\\",\\\"DecisionTree\\\",\\\"RandomForest\\\",\\\"GradientBoosting\\\",\\\"XGBoostClassifier\\\",\\\"TensorFlowLinearClassifier\\\"],\\\"auto_blacklist\\\":true,\\\"blacklist_samples_reached\\\":false,\\\"exclude_nan_labels\\\":true,\\\"verbosity\\\":20,\\\"_debug_log\\\":\\\"azureml_automl.log\\\",\\\"show_warnings\\\":false,\\\"model_explainability\\\":true,\\\"service_url\\\":null,\\\"sdk_url\\\":null,\\\"sdk_packages\\\":null,\\\"enable_onnx_compatible_models\\\":false,\\\"enable_split_onnx_featurizer_estimator_models\\\":false,\\\"vm_type\\\":\\\"STANDARD_DS3_V2\\\",\\\"telemetry_verbosity\\\":20,\\\"send_telemetry\\\":true,\\\"enable_dnn\\\":false,\\\"scenario\\\":\\\"SDK-1.13.0\\\",\\\"environment_label\\\":null,\\\"force_text_dnn\\\":false,\\\"enable_feature_sweeping\\\":true,\\\"enable_early_stopping\\\":true,\\\"early_stopping_n_iters\\\":10,\\\"metrics\\\":null,\\\"enable_ensembling\\\":true,\\\"enable_stack_ensembling\\\":true,\\\"ensemble_iterations\\\":15,\\\"enable_tf\\\":false,\\\"enable_subsampling\\\":null,\\\"subsample_seed\\\":null,\\\"enable_nimbusml\\\":false,\\\"enable_streaming\\\":false,\\\"force_streaming\\\":false,\\\"track_child_runs\\\":true,\\\"allowed_private_models\\\":[],\\\"label_column_name\\\":\\\"DEATH_EVENT\\\",\\\"weight_column_name\\\":null,\\\"cv_split_column_names\\\":null,\\\"enable_local_managed\\\":false,\\\"_local_managed_run_id\\\":null,\\\"cost_mode\\\":1,\\\"lag_length\\\":0,\\\"metric_operation\\\":\\\"maximize\\\",\\\"preprocess\\\":true}\", \"DataPrepJsonString\": \"{\\\\\\\"training_data\\\\\\\": \\\\\\\"{\\\\\\\\\\\\\\\"blocks\\\\\\\\\\\\\\\": [{\\\\\\\\\\\\\\\"id\\\\\\\\\\\\\\\": \\\\\\\\\\\\\\\"a2bc1785-e28e-46d5-978e-5c8dd0f4b5eb\\\\\\\\\\\\\\\", \\\\\\\\\\\\\\\"type\\\\\\\\\\\\\\\": \\\\\\\\\\\\\\\"Microsoft.DPrep.GetDatastoreFilesBlock\\\\\\\\\\\\\\\", \\\\\\\\\\\\\\\"arguments\\\\\\\\\\\\\\\": {\\\\\\\\\\\\\\\"datastores\\\\\\\\\\\\\\\": [{\\\\\\\\\\\\\\\"datastoreName\\\\\\\\\\\\\\\": \\\\\\\\\\\\\\\"workspaceblobstore\\\\\\\\\\\\\\\", \\\\\\\\\\\\\\\"path\\\\\\\\\\\\\\\": \\\\\\\\\\\\\\\"udacity-project/train_data.csv\\\\\\\\\\\\\\\", \\\\\\\\\\\\\\\"resourceGroup\\\\\\\\\\\\\\\": \\\\\\\\\\\\\\\"aml-quickstarts-132112\\\\\\\\\\\\\\\", \\\\\\\\\\\\\\\"subscription\\\\\\\\\\\\\\\": \\\\\\\\\\\\\\\"a24a24d5-8d87-4c8a-99b6-91ed2d2df51f\\\\\\\\\\\\\\\", \\\\\\\\\\\\\\\"workspaceName\\\\\\\\\\\\\\\": \\\\\\\\\\\\\\\"quick-starts-ws-132112\\\\\\\\\\\\\\\"}]}, \\\\\\\\\\\\\\\"localData\\\\\\\\\\\\\\\": {}, \\\\\\\\\\\\\\\"isEnabled\\\\\\\\\\\\\\\": true, \\\\\\\\\\\\\\\"name\\\\\\\\\\\\\\\": null, \\\\\\\\\\\\\\\"annotation\\\\\\\\\\\\\\\": null}, {\\\\\\\\\\\\\\\"id\\\\\\\\\\\\\\\": \\\\\\\\\\\\\\\"0872b2ce-8554-4a0e-8e66-d9db298927de\\\\\\\\\\\\\\\", \\\\\\\\\\\\\\\"type\\\\\\\\\\\\\\\": \\\\\\\\\\\\\\\"Microsoft.DPrep.ParseDelimitedBlock\\\\\\\\\\\\\\\", \\\\\\\\\\\\\\\"arguments\\\\\\\\\\\\\\\": {\\\\\\\\\\\\\\\"columnHeadersMode\\\\\\\\\\\\\\\": 3, \\\\\\\\\\\\\\\"fileEncoding\\\\\\\\\\\\\\\": 0, \\\\\\\\\\\\\\\"handleQuotedLineBreaks\\\\\\\\\\\\\\\": false, \\\\\\\\\\\\\\\"preview\\\\\\\\\\\\\\\": false, \\\\\\\\\\\\\\\"separator\\\\\\\\\\\\\\\": \\\\\\\\\\\\\\\",\\\\\\\\\\\\\\\", \\\\\\\\\\\\\\\"skipRows\\\\\\\\\\\\\\\": 0, \\\\\\\\\\\\\\\"skipRowsMode\\\\\\\\\\\\\\\": 0}, \\\\\\\\\\\\\\\"localData\\\\\\\\\\\\\\\": {}, \\\\\\\\\\\\\\\"isEnabled\\\\\\\\\\\\\\\": true, \\\\\\\\\\\\\\\"name\\\\\\\\\\\\\\\": null, \\\\\\\\\\\\\\\"annotation\\\\\\\\\\\\\\\": null}, {\\\\\\\\\\\\\\\"id\\\\\\\\\\\\\\\": \\\\\\\\\\\\\\\"8c3a13d7-3a81-4e9c-858d-6a0debba3fda\\\\\\\\\\\\\\\", \\\\\\\\\\\\\\\"type\\\\\\\\\\\\\\\": \\\\\\\\\\\\\\\"Microsoft.DPrep.DropColumnsBlock\\\\\\\\\\\\\\\", \\\\\\\\\\\\\\\"arguments\\\\\\\\\\\\\\\": {\\\\\\\\\\\\\\\"columns\\\\\\\\\\\\\\\": {\\\\\\\\\\\\\\\"type\\\\\\\\\\\\\\\": 0, \\\\\\\\\\\\\\\"details\\\\\\\\\\\\\\\": {\\\\\\\\\\\\\\\"selectedColumns\\\\\\\\\\\\\\\": [\\\\\\\\\\\\\\\"Path\\\\\\\\\\\\\\\"]}}}, \\\\\\\\\\\\\\\"localData\\\\\\\\\\\\\\\": {}, \\\\\\\\\\\\\\\"isEnabled\\\\\\\\\\\\\\\": true, \\\\\\\\\\\\\\\"name\\\\\\\\\\\\\\\": null, \\\\\\\\\\\\\\\"annotation\\\\\\\\\\\\\\\": null}, {\\\\\\\\\\\\\\\"id\\\\\\\\\\\\\\\": \\\\\\\\\\\\\\\"f5bc412f-dc90-41bd-a2fe-a211aed675db\\\\\\\\\\\\\\\", \\\\\\\\\\\\\\\"type\\\\\\\\\\\\\\\": \\\\\\\\\\\\\\\"Microsoft.DPrep.SetColumnTypesBlock\\\\\\\\\\\\\\\", \\\\\\\\\\\\\\\"arguments\\\\\\\\\\\\\\\": {\\\\\\\\\\\\\\\"columnConversion\\\\\\\\\\\\\\\": [{\\\\\\\\\\\\\\\"column\\\\\\\\\\\\\\\": {\\\\\\\\\\\\\\\"type\\\\\\\\\\\\\\\": 2, \\\\\\\\\\\\\\\"details\\\\\\\\\\\\\\\": {\\\\\\\\\\\\\\\"selectedColumn\\\\\\\\\\\\\\\": \\\\\\\\\\\\\\\"age\\\\\\\\\\\\\\\"}}, \\\\\\\\\\\\\\\"typeProperty\\\\\\\\\\\\\\\": 3}, {\\\\\\\\\\\\\\\"column\\\\\\\\\\\\\\\": {\\\\\\\\\\\\\\\"type\\\\\\\\\\\\\\\": 2, \\\\\\\\\\\\\\\"details\\\\\\\\\\\\\\\": {\\\\\\\\\\\\\\\"selectedColumn\\\\\\\\\\\\\\\": \\\\\\\\\\\\\\\"anaemia\\\\\\\\\\\\\\\"}}, \\\\\\\\\\\\\\\"typeProperty\\\\\\\\\\\\\\\": 2}, {\\\\\\\\\\\\\\\"column\\\\\\\\\\\\\\\": {\\\\\\\\\\\\\\\"type\\\\\\\\\\\\\\\": 2, \\\\\\\\\\\\\\\"details\\\\\\\\\\\\\\\": {\\\\\\\\\\\\\\\"selectedColumn\\\\\\\\\\\\\\\": \\\\\\\\\\\\\\\"creatinine_phosphokinase\\\\\\\\\\\\\\\"}}, \\\\\\\\\\\\\\\"typeProperty\\\\\\\\\\\\\\\": 2}, {\\\\\\\\\\\\\\\"column\\\\\\\\\\\\\\\": {\\\\\\\\\\\\\\\"type\\\\\\\\\\\\\\\": 2, \\\\\\\\\\\\\\\"details\\\\\\\\\\\\\\\": {\\\\\\\\\\\\\\\"selectedColumn\\\\\\\\\\\\\\\": \\\\\\\\\\\\\\\"diabetes\\\\\\\\\\\\\\\"}}, \\\\\\\\\\\\\\\"typeProperty\\\\\\\\\\\\\\\": 2}, {\\\\\\\\\\\\\\\"column\\\\\\\\\\\\\\\": {\\\\\\\\\\\\\\\"type\\\\\\\\\\\\\\\": 2, \\\\\\\\\\\\\\\"details\\\\\\\\\\\\\\\": {\\\\\\\\\\\\\\\"selectedColumn\\\\\\\\\\\\\\\": \\\\\\\\\\\\\\\"ejection_fraction\\\\\\\\\\\\\\\"}}, \\\\\\\\\\\\\\\"typeProperty\\\\\\\\\\\\\\\": 2}, {\\\\\\\\\\\\\\\"column\\\\\\\\\\\\\\\": {\\\\\\\\\\\\\\\"type\\\\\\\\\\\\\\\": 2, \\\\\\\\\\\\\\\"details\\\\\\\\\\\\\\\": {\\\\\\\\\\\\\\\"selectedColumn\\\\\\\\\\\\\\\": \\\\\\\\\\\\\\\"high_blood_pressure\\\\\\\\\\\\\\\"}}, \\\\\\\\\\\\\\\"typeProperty\\\\\\\\\\\\\\\": 2}, {\\\\\\\\\\\\\\\"column\\\\\\\\\\\\\\\": {\\\\\\\\\\\\\\\"type\\\\\\\\\\\\\\\": 2, \\\\\\\\\\\\\\\"details\\\\\\\\\\\\\\\": {\\\\\\\\\\\\\\\"selectedColumn\\\\\\\\\\\\\\\": \\\\\\\\\\\\\\\"platelets\\\\\\\\\\\\\\\"}}, \\\\\\\\\\\\\\\"typeProperty\\\\\\\\\\\\\\\": 3}, {\\\\\\\\\\\\\\\"column\\\\\\\\\\\\\\\": {\\\\\\\\\\\\\\\"type\\\\\\\\\\\\\\\": 2, \\\\\\\\\\\\\\\"details\\\\\\\\\\\\\\\": {\\\\\\\\\\\\\\\"selectedColumn\\\\\\\\\\\\\\\": \\\\\\\\\\\\\\\"serum_creatinine\\\\\\\\\\\\\\\"}}, \\\\\\\\\\\\\\\"typeProperty\\\\\\\\\\\\\\\": 3}, {\\\\\\\\\\\\\\\"column\\\\\\\\\\\\\\\": {\\\\\\\\\\\\\\\"type\\\\\\\\\\\\\\\": 2, \\\\\\\\\\\\\\\"details\\\\\\\\\\\\\\\": {\\\\\\\\\\\\\\\"selectedColumn\\\\\\\\\\\\\\\": \\\\\\\\\\\\\\\"serum_sodium\\\\\\\\\\\\\\\"}}, \\\\\\\\\\\\\\\"typeProperty\\\\\\\\\\\\\\\": 2}, {\\\\\\\\\\\\\\\"column\\\\\\\\\\\\\\\": {\\\\\\\\\\\\\\\"type\\\\\\\\\\\\\\\": 2, \\\\\\\\\\\\\\\"details\\\\\\\\\\\\\\\": {\\\\\\\\\\\\\\\"selectedColumn\\\\\\\\\\\\\\\": \\\\\\\\\\\\\\\"sex\\\\\\\\\\\\\\\"}}, \\\\\\\\\\\\\\\"typeProperty\\\\\\\\\\\\\\\": 2}, {\\\\\\\\\\\\\\\"column\\\\\\\\\\\\\\\": {\\\\\\\\\\\\\\\"type\\\\\\\\\\\\\\\": 2, \\\\\\\\\\\\\\\"details\\\\\\\\\\\\\\\": {\\\\\\\\\\\\\\\"selectedColumn\\\\\\\\\\\\\\\": \\\\\\\\\\\\\\\"smoking\\\\\\\\\\\\\\\"}}, \\\\\\\\\\\\\\\"typeProperty\\\\\\\\\\\\\\\": 2}, {\\\\\\\\\\\\\\\"column\\\\\\\\\\\\\\\": {\\\\\\\\\\\\\\\"type\\\\\\\\\\\\\\\": 2, \\\\\\\\\\\\\\\"details\\\\\\\\\\\\\\\": {\\\\\\\\\\\\\\\"selectedColumn\\\\\\\\\\\\\\\": \\\\\\\\\\\\\\\"time\\\\\\\\\\\\\\\"}}, \\\\\\\\\\\\\\\"typeProperty\\\\\\\\\\\\\\\": 2}, {\\\\\\\\\\\\\\\"column\\\\\\\\\\\\\\\": {\\\\\\\\\\\\\\\"type\\\\\\\\\\\\\\\": 2, \\\\\\\\\\\\\\\"details\\\\\\\\\\\\\\\": {\\\\\\\\\\\\\\\"selectedColumn\\\\\\\\\\\\\\\": \\\\\\\\\\\\\\\"DEATH_EVENT\\\\\\\\\\\\\\\"}}, \\\\\\\\\\\\\\\"typeProperty\\\\\\\\\\\\\\\": 2}]}, \\\\\\\\\\\\\\\"localData\\\\\\\\\\\\\\\": {}, \\\\\\\\\\\\\\\"isEnabled\\\\\\\\\\\\\\\": true, \\\\\\\\\\\\\\\"name\\\\\\\\\\\\\\\": null, \\\\\\\\\\\\\\\"annotation\\\\\\\\\\\\\\\": null}], \\\\\\\\\\\\\\\"inspectors\\\\\\\\\\\\\\\": [], \\\\\\\\\\\\\\\"meta\\\\\\\\\\\\\\\": {\\\\\\\\\\\\\\\"savedDatasetId\\\\\\\\\\\\\\\": \\\\\\\\\\\\\\\"5d70efec-c40a-48ba-818e-241be36cf5fe\\\\\\\\\\\\\\\", \\\\\\\\\\\\\\\"datasetType\\\\\\\\\\\\\\\": \\\\\\\\\\\\\\\"tabular\\\\\\\\\\\\\\\", \\\\\\\\\\\\\\\"subscriptionId\\\\\\\\\\\\\\\": \\\\\\\\\\\\\\\"a24a24d5-8d87-4c8a-99b6-91ed2d2df51f\\\\\\\\\\\\\\\", \\\\\\\\\\\\\\\"workspaceId\\\\\\\\\\\\\\\": \\\\\\\\\\\\\\\"3fe27e41-20d2-48bb-972e-2315ccf08126\\\\\\\\\\\\\\\", \\\\\\\\\\\\\\\"workspaceLocation\\\\\\\\\\\\\\\": \\\\\\\\\\\\\\\"southcentralus\\\\\\\\\\\\\\\"}}\\\\\\\", \\\\\\\"activities\\\\\\\": 0}\", \"EnableSubsampling\": null, \"runTemplate\": \"AutoML\", \"azureml.runsource\": \"automl\", \"display_task_type\": \"classification\", \"dependencies_versions\": \"{\\\"azureml-widgets\\\": \\\"1.19.0\\\", \\\"azureml-train\\\": \\\"1.19.0\\\", \\\"azureml-train-restclients-hyperdrive\\\": \\\"1.19.0\\\", \\\"azureml-train-core\\\": \\\"1.19.0\\\", \\\"azureml-train-automl\\\": \\\"1.19.0\\\", \\\"azureml-train-automl-runtime\\\": \\\"1.19.0\\\", \\\"azureml-train-automl-client\\\": \\\"1.19.0\\\", \\\"azureml-tensorboard\\\": \\\"1.19.0\\\", \\\"azureml-telemetry\\\": \\\"1.19.0\\\", \\\"azureml-sdk\\\": \\\"1.19.0\\\", \\\"azureml-samples\\\": \\\"0+unknown\\\", \\\"azureml-pipeline\\\": \\\"1.19.0\\\", \\\"azureml-pipeline-steps\\\": \\\"1.19.0\\\", \\\"azureml-pipeline-core\\\": \\\"1.19.0\\\", \\\"azureml-opendatasets\\\": \\\"1.19.0\\\", \\\"azureml-model-management-sdk\\\": \\\"1.0.1b6.post1\\\", \\\"azureml-mlflow\\\": \\\"1.19.0\\\", \\\"azureml-interpret\\\": \\\"1.19.0\\\", \\\"azureml-explain-model\\\": \\\"1.19.0\\\", \\\"azureml-defaults\\\": \\\"1.19.0\\\", \\\"azureml-dataset-runtime\\\": \\\"1.19.0\\\", \\\"azureml-dataprep\\\": \\\"2.6.1\\\", \\\"azureml-dataprep-rslex\\\": \\\"1.4.0\\\", \\\"azureml-dataprep-native\\\": \\\"26.0.0\\\", \\\"azureml-datadrift\\\": \\\"1.19.0\\\", \\\"azureml-core\\\": \\\"1.19.0\\\", \\\"azureml-contrib-services\\\": \\\"1.19.0\\\", \\\"azureml-contrib-server\\\": \\\"1.19.0\\\", \\\"azureml-contrib-reinforcementlearning\\\": \\\"1.19.0\\\", \\\"azureml-contrib-pipeline-steps\\\": \\\"1.19.0\\\", \\\"azureml-contrib-notebook\\\": \\\"1.19.0\\\", \\\"azureml-contrib-interpret\\\": \\\"1.19.0\\\", \\\"azureml-contrib-gbdt\\\": \\\"1.19.0\\\", \\\"azureml-contrib-fairness\\\": \\\"1.19.0\\\", \\\"azureml-contrib-dataset\\\": \\\"1.19.0\\\", \\\"azureml-cli-common\\\": \\\"1.19.0\\\", \\\"azureml-automl-runtime\\\": \\\"1.19.0\\\", \\\"azureml-automl-core\\\": \\\"1.19.0\\\", \\\"azureml-accel-models\\\": \\\"1.19.0\\\"}\", \"_aml_system_scenario_identification\": \"Remote.Parent\", \"ClientType\": \"SDK\", \"environment_cpu_name\": \"AzureML-AutoML\", \"environment_cpu_label\": \"prod\", \"environment_gpu_name\": \"AzureML-AutoML-GPU\", \"environment_gpu_label\": \"prod\", \"root_attribution\": \"automl\", \"attribution\": \"AutoML\", \"Orchestrator\": \"AutoML\", \"CancelUri\": \"https://southcentralus.experiments.azureml.net/jasmine/v1.0/subscriptions/a24a24d5-8d87-4c8a-99b6-91ed2d2df51f/resourceGroups/aml-quickstarts-132112/providers/Microsoft.MachineLearningServices/workspaces/quick-starts-ws-132112/experimentids/95832ea0-80b5-4f4f-91eb-21dc30472a9f/cancel/AutoML_9ada242b-ac34-4949-b9c0-17dfc5c52f98\", \"ClientSdkVersion\": \"1.19.0\", \"snapshotId\": \"00000000-0000-0000-0000-000000000000\", \"SetupRunId\": \"AutoML_9ada242b-ac34-4949-b9c0-17dfc5c52f98_setup\", \"SetupRunContainerId\": \"dcid.AutoML_9ada242b-ac34-4949-b9c0-17dfc5c52f98_setup\", \"FeaturizationRunJsonPath\": \"featurizer_container.json\", \"FeaturizationRunId\": \"AutoML_9ada242b-ac34-4949-b9c0-17dfc5c52f98_featurize\", \"ProblemInfoJsonString\": \"{\\\"dataset_num_categorical\\\": 0, \\\"is_sparse\\\": false, \\\"subsampling\\\": false, \\\"dataset_classes\\\": 2, \\\"dataset_features\\\": 12, \\\"dataset_samples\\\": 239, \\\"single_frequency_class_detected\\\": false}\", \"ModelExplainRunId\": \"AutoML_9ada242b-ac34-4949-b9c0-17dfc5c52f98_ModelExplain\"}, \"tags\": {\"model_explain_run\": \"best_run\", \"_aml_system_azureml.automlComponent\": \"AutoML\", \"pipeline_id\": \"\", \"score\": \"\", \"predicted_cost\": \"\", \"fit_time\": \"\", \"training_percent\": \"\", \"iteration\": \"\", \"run_preprocessor\": \"\", \"run_algorithm\": \"\", \"dynamic_whitelisting_iterations\": \"<25>;<30>;<35>;<40>;<45>;\", \"automl_best_child_run_id\": \"AutoML_9ada242b-ac34-4949-b9c0-17dfc5c52f98_50\", \"model_explain_best_run_child_id\": \"AutoML_9ada242b-ac34-4949-b9c0-17dfc5c52f98_50\"}, \"end_time_utc\": \"2020-12-28T04:23:02.664759Z\", \"status\": \"Completed\", \"log_files\": {}, \"log_groups\": [], \"run_duration\": \"0:23:05\"}, \"child_runs\": [{\"run_id\": \"AutoML_9ada242b-ac34-4949-b9c0-17dfc5c52f98_0\", \"run_number\": 5, \"metric\": null, \"status\": \"Completed\", \"run_type\": \"azureml.scriptrun\", \"training_percent\": \"100\", \"start_time\": \"2020-12-28T04:05:19.272165Z\", \"end_time\": \"2020-12-28T04:06:22.731296Z\", \"created_time\": \"2020-12-28T04:05:05.831491Z\", \"created_time_dt\": \"2020-12-28T04:05:05.831491Z\", \"duration\": \"0:01:16\", \"iteration\": \"0\", \"goal\": \"AUC_weighted_max\", \"run_name\": \"MaxAbsScaler, LightGBM\", \"run_properties\": \"copy=True\", \"primary_metric\": 0.89008929, \"best_metric\": 0.89008929}, {\"run_id\": \"AutoML_9ada242b-ac34-4949-b9c0-17dfc5c52f98_1\", \"run_number\": 6, \"metric\": null, \"status\": \"Completed\", \"run_type\": \"azureml.scriptrun\", \"training_percent\": \"100\", \"start_time\": \"2020-12-28T04:05:19.543416Z\", \"end_time\": \"2020-12-28T04:06:21.22675Z\", \"created_time\": \"2020-12-28T04:05:05.837685Z\", \"created_time_dt\": \"2020-12-28T04:05:05.837685Z\", \"duration\": \"0:01:15\", \"iteration\": \"1\", \"goal\": \"AUC_weighted_max\", \"run_name\": \"MaxAbsScaler, XGBoostClassifier\", \"run_properties\": \"copy=True\", \"primary_metric\": 0.88788938, \"best_metric\": 0.89008929}, {\"run_id\": \"AutoML_9ada242b-ac34-4949-b9c0-17dfc5c52f98_2\", \"run_number\": 7, \"metric\": null, \"status\": \"Completed\", \"run_type\": \"azureml.scriptrun\", \"training_percent\": \"100\", \"start_time\": \"2020-12-28T04:05:20.690622Z\", \"end_time\": \"2020-12-28T04:06:25.193831Z\", \"created_time\": \"2020-12-28T04:05:05.852951Z\", \"created_time_dt\": \"2020-12-28T04:05:05.852951Z\", \"duration\": \"0:01:19\", \"iteration\": \"2\", \"goal\": \"AUC_weighted_max\", \"run_name\": \"MinMaxScaler, RandomForest\", \"run_properties\": \"copy=True, feature_range=(0, 1\", \"primary_metric\": 0.89170304, \"best_metric\": 0.89170304}, {\"run_id\": \"AutoML_9ada242b-ac34-4949-b9c0-17dfc5c52f98_3\", \"run_number\": 8, \"metric\": null, \"status\": \"Completed\", \"run_type\": \"azureml.scriptrun\", \"training_percent\": \"100\", \"start_time\": \"2020-12-28T04:05:20.414759Z\", \"end_time\": \"2020-12-28T04:06:29.373524Z\", \"created_time\": \"2020-12-28T04:05:05.863459Z\", \"created_time_dt\": \"2020-12-28T04:05:05.863459Z\", \"duration\": \"0:01:23\", \"iteration\": \"3\", \"goal\": \"AUC_weighted_max\", \"run_name\": \"RobustScaler, ExtremeRandomTrees\", \"run_properties\": \"copy=True, quantile_range=[10, 90], with_centering=False,\\n             with_scaling=False\", \"primary_metric\": 0.87573826, \"best_metric\": 0.89170304}, {\"run_id\": \"AutoML_9ada242b-ac34-4949-b9c0-17dfc5c52f98_4\", \"run_number\": 9, \"metric\": null, \"status\": \"Completed\", \"run_type\": \"azureml.scriptrun\", \"training_percent\": \"100\", \"start_time\": \"2020-12-28T04:05:20.397742Z\", \"end_time\": \"2020-12-28T04:06:20.736405Z\", \"created_time\": \"2020-12-28T04:05:05.86195Z\", \"created_time_dt\": \"2020-12-28T04:05:05.86195Z\", \"duration\": \"0:01:14\", \"iteration\": \"4\", \"goal\": \"AUC_weighted_max\", \"run_name\": \"MinMaxScaler, RandomForest\", \"run_properties\": \"copy=True, feature_range=(0, 1\", \"primary_metric\": 0.89977183, \"best_metric\": 0.89977183}, {\"run_id\": \"AutoML_9ada242b-ac34-4949-b9c0-17dfc5c52f98_5\", \"run_number\": 10, \"metric\": null, \"status\": \"Completed\", \"run_type\": \"azureml.scriptrun\", \"training_percent\": \"100\", \"start_time\": \"2020-12-28T04:06:37.962289Z\", \"end_time\": \"2020-12-28T04:07:44.683596Z\", \"created_time\": \"2020-12-28T04:06:24.468365Z\", \"created_time_dt\": \"2020-12-28T04:06:24.468365Z\", \"duration\": \"0:01:20\", \"iteration\": \"5\", \"goal\": \"AUC_weighted_max\", \"run_name\": \"MinMaxScaler, RandomForest\", \"run_properties\": \"copy=True, feature_range=(0, 1\", \"primary_metric\": 0.88599372, \"best_metric\": 0.89977183}, {\"run_id\": \"AutoML_9ada242b-ac34-4949-b9c0-17dfc5c52f98_6\", \"run_number\": 11, \"metric\": null, \"status\": \"Completed\", \"run_type\": \"azureml.scriptrun\", \"training_percent\": \"100\", \"start_time\": \"2020-12-28T04:06:37.624821Z\", \"end_time\": \"2020-12-28T04:07:44.114149Z\", \"created_time\": \"2020-12-28T04:06:24.649269Z\", \"created_time_dt\": \"2020-12-28T04:06:24.649269Z\", \"duration\": \"0:01:19\", \"iteration\": \"6\", \"goal\": \"AUC_weighted_max\", \"run_name\": \"StandardScalerWrapper, RandomForest\", \"run_properties\": \"<azureml.automl.runtime.shared.model_wrappers.StandardScalerWrapper object at 0x7f0eae533860\", \"primary_metric\": 0.87915757, \"best_metric\": 0.89977183}, {\"run_id\": \"AutoML_9ada242b-ac34-4949-b9c0-17dfc5c52f98_8\", \"run_number\": 12, \"metric\": null, \"status\": \"Completed\", \"run_type\": \"azureml.scriptrun\", \"training_percent\": \"100\", \"start_time\": \"2020-12-28T04:06:42.560788Z\", \"end_time\": \"2020-12-28T04:07:46.734145Z\", \"created_time\": \"2020-12-28T04:06:30.415741Z\", \"created_time_dt\": \"2020-12-28T04:06:30.415741Z\", \"duration\": \"0:01:16\", \"iteration\": \"8\", \"goal\": \"AUC_weighted_max\", \"run_name\": \"MinMaxScaler, ExtremeRandomTrees\", \"run_properties\": \"copy=True, feature_range=(0, 1\", \"primary_metric\": 0.87075397, \"best_metric\": 0.89977183}, {\"run_id\": \"AutoML_9ada242b-ac34-4949-b9c0-17dfc5c52f98_7\", \"run_number\": 13, \"metric\": null, \"status\": \"Completed\", \"run_type\": \"azureml.scriptrun\", \"training_percent\": \"100\", \"start_time\": \"2020-12-28T04:06:41.361836Z\", \"end_time\": \"2020-12-28T04:07:40.798181Z\", \"created_time\": \"2020-12-28T04:06:30.483913Z\", \"created_time_dt\": \"2020-12-28T04:06:30.483913Z\", \"duration\": \"0:01:10\", \"iteration\": \"7\", \"goal\": \"AUC_weighted_max\", \"run_name\": \"MinMaxScaler, ExtremeRandomTrees\", \"run_properties\": \"copy=True, feature_range=(0, 1\", \"primary_metric\": 0.88802249, \"best_metric\": 0.89977183}, {\"run_id\": \"AutoML_9ada242b-ac34-4949-b9c0-17dfc5c52f98_9\", \"run_number\": 14, \"metric\": null, \"status\": \"Completed\", \"run_type\": \"azureml.scriptrun\", \"training_percent\": \"100\", \"start_time\": \"2020-12-28T04:06:47.576519Z\", \"end_time\": \"2020-12-28T04:08:39.072543Z\", \"created_time\": \"2020-12-28T04:06:35.810137Z\", \"created_time_dt\": \"2020-12-28T04:06:35.810137Z\", \"duration\": \"0:02:03\", \"iteration\": \"9\", \"goal\": \"AUC_weighted_max\", \"run_name\": \"SparseNormalizer, KNN\", \"run_properties\": \"<azureml.automl.runtime.shared.model_wrappers.SparseNormalizer object at 0x7f96e4bd7518\", \"primary_metric\": 0.71834408, \"best_metric\": 0.89977183}, {\"run_id\": \"AutoML_9ada242b-ac34-4949-b9c0-17dfc5c52f98_10\", \"run_number\": 15, \"metric\": null, \"status\": \"Completed\", \"run_type\": \"azureml.scriptrun\", \"training_percent\": \"100\", \"start_time\": \"2020-12-28T04:08:00.984078Z\", \"end_time\": \"2020-12-28T04:09:06.694067Z\", \"created_time\": \"2020-12-28T04:07:44.799415Z\", \"created_time_dt\": \"2020-12-28T04:07:44.799415Z\", \"duration\": \"0:01:21\", \"iteration\": \"10\", \"goal\": \"AUC_weighted_max\", \"run_name\": \"MinMaxScaler, ExtremeRandomTrees\", \"run_properties\": \"copy=True, feature_range=(0, 1\", \"primary_metric\": 0.88223049, \"best_metric\": 0.89977183}, {\"run_id\": \"AutoML_9ada242b-ac34-4949-b9c0-17dfc5c52f98_12\", \"run_number\": 16, \"metric\": null, \"status\": \"Completed\", \"run_type\": \"azureml.scriptrun\", \"training_percent\": \"100\", \"start_time\": \"2020-12-28T04:08:01.01068Z\", \"end_time\": \"2020-12-28T04:09:07.233486Z\", \"created_time\": \"2020-12-28T04:07:50.627301Z\", \"created_time_dt\": \"2020-12-28T04:07:50.627301Z\", \"duration\": \"0:01:16\", \"iteration\": \"12\", \"goal\": \"AUC_weighted_max\", \"run_name\": \"StandardScalerWrapper, RandomForest\", \"run_properties\": \"<azureml.automl.runtime.shared.model_wrappers.StandardScalerWrapper object at 0x7f7c12d3e6a0\", \"primary_metric\": 0.89961723, \"best_metric\": 0.89977183}, {\"run_id\": \"AutoML_9ada242b-ac34-4949-b9c0-17dfc5c52f98_11\", \"run_number\": 17, \"metric\": null, \"status\": \"Completed\", \"run_type\": \"azureml.scriptrun\", \"training_percent\": \"100\", \"start_time\": \"2020-12-28T04:08:01.605144Z\", \"end_time\": \"2020-12-28T04:09:10.403942Z\", \"created_time\": \"2020-12-28T04:07:50.63106Z\", \"created_time_dt\": \"2020-12-28T04:07:50.63106Z\", \"duration\": \"0:01:19\", \"iteration\": \"11\", \"goal\": \"AUC_weighted_max\", \"run_name\": \"RobustScaler, ExtremeRandomTrees\", \"run_properties\": \"copy=True, quantile_range=[10, 90], with_centering=True,\\n             with_scaling=False\", \"primary_metric\": 0.88533317, \"best_metric\": 0.89977183}, {\"run_id\": \"AutoML_9ada242b-ac34-4949-b9c0-17dfc5c52f98_13\", \"run_number\": 18, \"metric\": null, \"status\": \"Completed\", \"run_type\": \"azureml.scriptrun\", \"training_percent\": \"100\", \"start_time\": \"2020-12-28T04:08:04.198376Z\", \"end_time\": \"2020-12-28T04:09:01.882676Z\", \"created_time\": \"2020-12-28T04:07:50.793404Z\", \"created_time_dt\": \"2020-12-28T04:07:50.793404Z\", \"duration\": \"0:01:11\", \"iteration\": \"13\", \"goal\": \"AUC_weighted_max\", \"run_name\": \"StandardScalerWrapper, SGD\", \"run_properties\": \"<azureml.automl.runtime.shared.model_wrappers.StandardScalerWrapper object at 0x7efc04ff87f0\", \"primary_metric\": 0.85092758, \"best_metric\": 0.89977183}, {\"run_id\": \"AutoML_9ada242b-ac34-4949-b9c0-17dfc5c52f98_14\", \"run_number\": 19, \"metric\": null, \"status\": \"Completed\", \"run_type\": \"azureml.scriptrun\", \"training_percent\": \"100\", \"start_time\": \"2020-12-28T04:08:55.03572Z\", \"end_time\": \"2020-12-28T04:10:03.759966Z\", \"created_time\": \"2020-12-28T04:08:43.072421Z\", \"created_time_dt\": \"2020-12-28T04:08:43.072421Z\", \"duration\": \"0:01:20\", \"iteration\": \"14\", \"goal\": \"AUC_weighted_max\", \"run_name\": \"RobustScaler, RandomForest\", \"run_properties\": \"copy=True, quantile_range=[10, 90], with_centering=True,\\n             with_scaling=False\", \"primary_metric\": 0.87661128, \"best_metric\": 0.89977183}, {\"run_id\": \"AutoML_9ada242b-ac34-4949-b9c0-17dfc5c52f98_15\", \"run_number\": 20, \"metric\": null, \"status\": \"Completed\", \"run_type\": \"azureml.scriptrun\", \"training_percent\": \"100\", \"start_time\": \"2020-12-28T04:09:18.939094Z\", \"end_time\": \"2020-12-28T04:10:29.228956Z\", \"created_time\": \"2020-12-28T04:09:05.767029Z\", \"created_time_dt\": \"2020-12-28T04:09:05.767029Z\", \"duration\": \"0:01:23\", \"iteration\": \"15\", \"goal\": \"AUC_weighted_max\", \"run_name\": \"StandardScalerWrapper, KNN\", \"run_properties\": \"<azureml.automl.runtime.shared.model_wrappers.StandardScalerWrapper object at 0x7f2f82945e10\", \"primary_metric\": 0.58758681, \"best_metric\": 0.89977183}, {\"run_id\": \"AutoML_9ada242b-ac34-4949-b9c0-17dfc5c52f98_16\", \"run_number\": 21, \"metric\": null, \"status\": \"Completed\", \"run_type\": \"azureml.scriptrun\", \"training_percent\": \"100\", \"start_time\": \"2020-12-28T04:09:24.981633Z\", \"end_time\": \"2020-12-28T04:10:24.469772Z\", \"created_time\": \"2020-12-28T04:09:13.014326Z\", \"created_time_dt\": \"2020-12-28T04:09:13.014326Z\", \"duration\": \"0:01:11\", \"iteration\": \"16\", \"goal\": \"AUC_weighted_max\", \"run_name\": \"MinMaxScaler, RandomForest\", \"run_properties\": \"copy=True, feature_range=(0, 1\", \"primary_metric\": 0.87864087, \"best_metric\": 0.89977183}, {\"run_id\": \"AutoML_9ada242b-ac34-4949-b9c0-17dfc5c52f98_17\", \"run_number\": 22, \"metric\": null, \"status\": \"Completed\", \"run_type\": \"azureml.scriptrun\", \"training_percent\": \"100\", \"start_time\": \"2020-12-28T04:09:23.888696Z\", \"end_time\": \"2020-12-28T04:10:32.649931Z\", \"created_time\": \"2020-12-28T04:09:13.030009Z\", \"created_time_dt\": \"2020-12-28T04:09:13.030009Z\", \"duration\": \"0:01:19\", \"iteration\": \"17\", \"goal\": \"AUC_weighted_max\", \"run_name\": \"MinMaxScaler, ExtremeRandomTrees\", \"run_properties\": \"copy=True, feature_range=(0, 1\", \"primary_metric\": 0.8226579, \"best_metric\": 0.89977183}, {\"run_id\": \"AutoML_9ada242b-ac34-4949-b9c0-17dfc5c52f98_18\", \"run_number\": 23, \"metric\": null, \"status\": \"Completed\", \"run_type\": \"azureml.scriptrun\", \"training_percent\": \"100\", \"start_time\": \"2020-12-28T04:09:37.537284Z\", \"end_time\": \"2020-12-28T04:10:39.327042Z\", \"created_time\": \"2020-12-28T04:09:22.686869Z\", \"created_time_dt\": \"2020-12-28T04:09:22.686869Z\", \"duration\": \"0:01:16\", \"iteration\": \"18\", \"goal\": \"AUC_weighted_max\", \"run_name\": \"MaxAbsScaler, RandomForest\", \"run_properties\": \"copy=True\", \"primary_metric\": 0.89392196, \"best_metric\": 0.89977183}, {\"run_id\": \"AutoML_9ada242b-ac34-4949-b9c0-17dfc5c52f98_19\", \"run_number\": 24, \"metric\": null, \"status\": \"Completed\", \"run_type\": \"azureml.scriptrun\", \"training_percent\": \"100\", \"start_time\": \"2020-12-28T04:10:19.219172Z\", \"end_time\": \"2020-12-28T04:11:30.739852Z\", \"created_time\": \"2020-12-28T04:10:07.834504Z\", \"created_time_dt\": \"2020-12-28T04:10:07.834504Z\", \"duration\": \"0:01:22\", \"iteration\": \"19\", \"goal\": \"AUC_weighted_max\", \"run_name\": \"StandardScalerWrapper, XGBoostClassifier\", \"run_properties\": \"<azureml.automl.runtime.shared.model_wrappers.StandardScalerWrapper object at 0x7fd80b2d06a0\", \"primary_metric\": 0.89263228, \"best_metric\": 0.89977183}, {\"run_id\": \"AutoML_9ada242b-ac34-4949-b9c0-17dfc5c52f98_20\", \"run_number\": 25, \"metric\": null, \"status\": \"Completed\", \"run_type\": \"azureml.scriptrun\", \"training_percent\": \"100\", \"start_time\": \"2020-12-28T04:10:40.239982Z\", \"end_time\": \"2020-12-28T04:12:03.661171Z\", \"created_time\": \"2020-12-28T04:10:27.764206Z\", \"created_time_dt\": \"2020-12-28T04:10:27.764206Z\", \"duration\": \"0:01:35\", \"iteration\": \"20\", \"goal\": \"AUC_weighted_max\", \"run_name\": \"MaxAbsScaler, RandomForest\", \"run_properties\": \"copy=True\", \"primary_metric\": 0.88945767, \"best_metric\": 0.89977183}, {\"run_id\": \"AutoML_9ada242b-ac34-4949-b9c0-17dfc5c52f98_21\", \"run_number\": 26, \"metric\": null, \"status\": \"Completed\", \"run_type\": \"azureml.scriptrun\", \"training_percent\": \"100\", \"start_time\": \"2020-12-28T04:10:46.60398Z\", \"end_time\": \"2020-12-28T04:12:05.347122Z\", \"created_time\": \"2020-12-28T04:10:34.553002Z\", \"created_time_dt\": \"2020-12-28T04:10:34.553002Z\", \"duration\": \"0:01:30\", \"iteration\": \"21\", \"goal\": \"AUC_weighted_max\", \"run_name\": \"MaxAbsScaler, ExtremeRandomTrees\", \"run_properties\": \"copy=True\", \"primary_metric\": 0.85341353, \"best_metric\": 0.89977183}, {\"run_id\": \"AutoML_9ada242b-ac34-4949-b9c0-17dfc5c52f98_22\", \"run_number\": 27, \"metric\": null, \"status\": \"Completed\", \"run_type\": \"azureml.scriptrun\", \"training_percent\": \"100\", \"start_time\": \"2020-12-28T04:10:55.064411Z\", \"end_time\": \"2020-12-28T04:12:02.274349Z\", \"created_time\": \"2020-12-28T04:10:40.843919Z\", \"created_time_dt\": \"2020-12-28T04:10:40.843919Z\", \"duration\": \"0:01:21\", \"iteration\": \"22\", \"goal\": \"AUC_weighted_max\", \"run_name\": \"MaxAbsScaler, ExtremeRandomTrees\", \"run_properties\": \"copy=True\", \"primary_metric\": 0.85775794, \"best_metric\": 0.89977183}, {\"run_id\": \"AutoML_9ada242b-ac34-4949-b9c0-17dfc5c52f98_23\", \"run_number\": 28, \"metric\": null, \"status\": \"Completed\", \"run_type\": \"azureml.scriptrun\", \"training_percent\": \"100\", \"start_time\": \"2020-12-28T04:11:00.807788Z\", \"end_time\": \"2020-12-28T04:11:58.425461Z\", \"created_time\": \"2020-12-28T04:10:47.812584Z\", \"created_time_dt\": \"2020-12-28T04:10:47.812584Z\", \"duration\": \"0:01:10\", \"iteration\": \"23\", \"goal\": \"AUC_weighted_max\", \"run_name\": \"StandardScalerWrapper, XGBoostClassifier\", \"run_properties\": \"<azureml.automl.runtime.shared.model_wrappers.StandardScalerWrapper object at 0x7f7105394828\", \"primary_metric\": 0.89846396, \"best_metric\": 0.89977183}, {\"run_id\": \"AutoML_9ada242b-ac34-4949-b9c0-17dfc5c52f98_24\", \"run_number\": 29, \"metric\": null, \"status\": \"Completed\", \"run_type\": \"azureml.scriptrun\", \"training_percent\": \"100\", \"start_time\": \"2020-12-28T04:11:48.814596Z\", \"end_time\": \"2020-12-28T04:12:59.447517Z\", \"created_time\": \"2020-12-28T04:11:34.344939Z\", \"created_time_dt\": \"2020-12-28T04:11:34.344939Z\", \"duration\": \"0:01:25\", \"iteration\": \"24\", \"goal\": \"AUC_weighted_max\", \"run_name\": \"MinMaxScaler, ExtremeRandomTrees\", \"run_properties\": \"copy=True, feature_range=(0, 1\", \"primary_metric\": 0.88134259, \"best_metric\": 0.89977183}, {\"run_id\": \"AutoML_9ada242b-ac34-4949-b9c0-17dfc5c52f98_25\", \"run_number\": 30, \"metric\": null, \"status\": \"Completed\", \"run_type\": \"azureml.scriptrun\", \"training_percent\": \"100\", \"start_time\": \"2020-12-28T04:12:18.658405Z\", \"end_time\": \"2020-12-28T04:13:22.818128Z\", \"created_time\": \"2020-12-28T04:12:04.110472Z\", \"created_time_dt\": \"2020-12-28T04:12:04.110472Z\", \"duration\": \"0:01:18\", \"iteration\": \"25\", \"goal\": \"AUC_weighted_max\", \"run_name\": \"MinMaxScaler, RandomForest\", \"run_properties\": \"copy=True, feature_range=(0, 1\", \"primary_metric\": 0.90770833, \"best_metric\": 0.90770833}, {\"run_id\": \"AutoML_9ada242b-ac34-4949-b9c0-17dfc5c52f98_26\", \"run_number\": 31, \"metric\": null, \"status\": \"Completed\", \"run_type\": \"azureml.scriptrun\", \"training_percent\": \"100\", \"start_time\": \"2020-12-28T04:12:24.361445Z\", \"end_time\": \"2020-12-28T04:14:17.227618Z\", \"created_time\": \"2020-12-28T04:12:11.383056Z\", \"created_time_dt\": \"2020-12-28T04:12:11.383056Z\", \"duration\": \"0:02:05\", \"iteration\": \"26\", \"goal\": \"AUC_weighted_max\", \"run_name\": \"MaxAbsScaler, RandomForest\", \"run_properties\": \"copy=True\", \"primary_metric\": 0.88165757, \"best_metric\": 0.90770833}, {\"run_id\": \"AutoML_9ada242b-ac34-4949-b9c0-17dfc5c52f98_27\", \"run_number\": 32, \"metric\": null, \"status\": \"Completed\", \"run_type\": \"azureml.scriptrun\", \"training_percent\": \"100\", \"start_time\": \"2020-12-28T04:12:24.400563Z\", \"end_time\": \"2020-12-28T04:14:20.774494Z\", \"created_time\": \"2020-12-28T04:12:11.535051Z\", \"created_time_dt\": \"2020-12-28T04:12:11.535051Z\", \"duration\": \"0:02:09\", \"iteration\": \"27\", \"goal\": \"AUC_weighted_max\", \"run_name\": \"MaxAbsScaler, ExtremeRandomTrees\", \"run_properties\": \"copy=True\", \"primary_metric\": 0.89083499, \"best_metric\": 0.90770833}, {\"run_id\": \"AutoML_9ada242b-ac34-4949-b9c0-17dfc5c52f98_28\", \"run_number\": 33, \"metric\": null, \"status\": \"Completed\", \"run_type\": \"azureml.scriptrun\", \"training_percent\": \"100\", \"start_time\": \"2020-12-28T04:12:25.858493Z\", \"end_time\": \"2020-12-28T04:13:29.704789Z\", \"created_time\": \"2020-12-28T04:12:11.528549Z\", \"created_time_dt\": \"2020-12-28T04:12:11.528549Z\", \"duration\": \"0:01:18\", \"iteration\": \"28\", \"goal\": \"AUC_weighted_max\", \"run_name\": \"StandardScalerWrapper, LightGBM\", \"run_properties\": \"<azureml.automl.runtime.shared.model_wrappers.StandardScalerWrapper object at 0x7f3854041208\", \"primary_metric\": 0.86158482, \"best_metric\": 0.90770833}, {\"run_id\": \"AutoML_9ada242b-ac34-4949-b9c0-17dfc5c52f98_29\", \"run_number\": 34, \"metric\": null, \"status\": \"Completed\", \"run_type\": \"azureml.scriptrun\", \"training_percent\": \"100\", \"start_time\": \"2020-12-28T04:13:12.929575Z\", \"end_time\": \"2020-12-28T04:14:28.358509Z\", \"created_time\": \"2020-12-28T04:13:01.810546Z\", \"created_time_dt\": \"2020-12-28T04:13:01.810546Z\", \"duration\": \"0:01:26\", \"iteration\": \"29\", \"goal\": \"AUC_weighted_max\", \"run_name\": \"StandardScalerWrapper, XGBoostClassifier\", \"run_properties\": \"<azureml.automl.runtime.shared.model_wrappers.StandardScalerWrapper object at 0x7fc52a053438\", \"primary_metric\": 0.89288194, \"best_metric\": 0.90770833}, {\"run_id\": \"AutoML_9ada242b-ac34-4949-b9c0-17dfc5c52f98_30\", \"run_number\": 35, \"metric\": null, \"status\": \"Completed\", \"run_type\": \"azureml.scriptrun\", \"training_percent\": \"100\", \"start_time\": \"2020-12-28T04:13:43.963939Z\", \"end_time\": \"2020-12-28T04:14:57.792684Z\", \"created_time\": \"2020-12-28T04:13:27.901044Z\", \"created_time_dt\": \"2020-12-28T04:13:27.901044Z\", \"duration\": \"0:01:29\", \"iteration\": \"30\", \"goal\": \"AUC_weighted_max\", \"run_name\": \"StandardScalerWrapper, RandomForest\", \"run_properties\": \"<azureml.automl.runtime.shared.model_wrappers.StandardScalerWrapper object at 0x7f0f4998f278\", \"primary_metric\": 0.89444279, \"best_metric\": 0.90770833}, {\"run_id\": \"AutoML_9ada242b-ac34-4949-b9c0-17dfc5c52f98_31\", \"run_number\": 36, \"metric\": null, \"status\": \"Completed\", \"run_type\": \"azureml.scriptrun\", \"training_percent\": \"100\", \"start_time\": \"2020-12-28T04:13:47.878225Z\", \"end_time\": \"2020-12-28T04:15:01.518603Z\", \"created_time\": \"2020-12-28T04:13:35.365407Z\", \"created_time_dt\": \"2020-12-28T04:13:35.365407Z\", \"duration\": \"0:01:26\", \"iteration\": \"31\", \"goal\": \"AUC_weighted_max\", \"run_name\": \"RobustScaler, RandomForest\", \"run_properties\": \"copy=True, quantile_range=[25, 75], with_centering=True,\\n             with_scaling=False\", \"primary_metric\": 0.92054067, \"best_metric\": 0.92054067}, {\"run_id\": \"AutoML_9ada242b-ac34-4949-b9c0-17dfc5c52f98_32\", \"run_number\": 37, \"metric\": null, \"status\": \"Completed\", \"run_type\": \"azureml.scriptrun\", \"training_percent\": \"100\", \"start_time\": \"2020-12-28T04:14:32.088778Z\", \"end_time\": \"2020-12-28T04:15:59.56118Z\", \"created_time\": \"2020-12-28T04:14:19.59995Z\", \"created_time_dt\": \"2020-12-28T04:14:19.59995Z\", \"duration\": \"0:01:39\", \"iteration\": \"32\", \"goal\": \"AUC_weighted_max\", \"run_name\": \"MinMaxScaler, RandomForest\", \"run_properties\": \"copy=True, feature_range=(0, 1\", \"primary_metric\": 0.91077877, \"best_metric\": 0.92054067}, {\"run_id\": \"AutoML_9ada242b-ac34-4949-b9c0-17dfc5c52f98_33\", \"run_number\": 38, \"metric\": null, \"status\": \"Completed\", \"run_type\": \"azureml.scriptrun\", \"training_percent\": \"100\", \"start_time\": \"2020-12-28T04:14:36.547565Z\", \"end_time\": \"2020-12-28T04:15:59.052196Z\", \"created_time\": \"2020-12-28T04:14:24.378548Z\", \"created_time_dt\": \"2020-12-28T04:14:24.378548Z\", \"duration\": \"0:01:34\", \"iteration\": \"33\", \"goal\": \"AUC_weighted_max\", \"run_name\": \"StandardScalerWrapper, RandomForest\", \"run_properties\": \"<azureml.automl.runtime.shared.model_wrappers.StandardScalerWrapper object at 0x7fd91eb24c88\", \"primary_metric\": 0.91281994, \"best_metric\": 0.92054067}, {\"run_id\": \"AutoML_9ada242b-ac34-4949-b9c0-17dfc5c52f98_34\", \"run_number\": 39, \"metric\": null, \"status\": \"Completed\", \"run_type\": \"azureml.scriptrun\", \"training_percent\": \"100\", \"start_time\": \"2020-12-28T04:14:43.316451Z\", \"end_time\": \"2020-12-28T04:16:09.484219Z\", \"created_time\": \"2020-12-28T04:14:31.124068Z\", \"created_time_dt\": \"2020-12-28T04:14:31.124068Z\", \"duration\": \"0:01:38\", \"iteration\": \"34\", \"goal\": \"AUC_weighted_max\", \"run_name\": \"MinMaxScaler, RandomForest\", \"run_properties\": \"copy=True, feature_range=(0, 1\", \"primary_metric\": 0.91298694, \"best_metric\": 0.92054067}, {\"run_id\": \"AutoML_9ada242b-ac34-4949-b9c0-17dfc5c52f98_35\", \"run_number\": 40, \"metric\": null, \"status\": \"Completed\", \"run_type\": \"azureml.scriptrun\", \"training_percent\": \"100\", \"start_time\": \"2020-12-28T04:15:13.206084Z\", \"end_time\": \"2020-12-28T04:16:17.013094Z\", \"created_time\": \"2020-12-28T04:15:01.484042Z\", \"created_time_dt\": \"2020-12-28T04:15:01.484042Z\", \"duration\": \"0:01:15\", \"iteration\": \"35\", \"goal\": \"AUC_weighted_max\", \"run_name\": \"TruncatedSVDWrapper, RandomForest\", \"run_properties\": \"n_components=0.3068421052631579, random_state=None\", \"primary_metric\": 0.74474702, \"best_metric\": 0.92054067}, {\"run_id\": \"AutoML_9ada242b-ac34-4949-b9c0-17dfc5c52f98_36\", \"run_number\": 41, \"metric\": null, \"status\": \"Completed\", \"run_type\": \"azureml.scriptrun\", \"training_percent\": \"100\", \"start_time\": \"2020-12-28T04:15:16.519986Z\", \"end_time\": \"2020-12-28T04:16:25.431555Z\", \"created_time\": \"2020-12-28T04:15:05.79329Z\", \"created_time_dt\": \"2020-12-28T04:15:05.79329Z\", \"duration\": \"0:01:19\", \"iteration\": \"36\", \"goal\": \"AUC_weighted_max\", \"run_name\": \"MaxAbsScaler, LightGBM\", \"run_properties\": \"copy=True\", \"primary_metric\": 0.88844246, \"best_metric\": 0.92054067}, {\"run_id\": \"AutoML_9ada242b-ac34-4949-b9c0-17dfc5c52f98_37\", \"run_number\": 42, \"metric\": null, \"status\": \"Completed\", \"run_type\": \"azureml.scriptrun\", \"training_percent\": \"100\", \"start_time\": \"2020-12-28T04:16:13.762958Z\", \"end_time\": \"2020-12-28T04:17:20.85685Z\", \"created_time\": \"2020-12-28T04:16:01.889913Z\", \"created_time_dt\": \"2020-12-28T04:16:01.889913Z\", \"duration\": \"0:01:18\", \"iteration\": \"37\", \"goal\": \"AUC_weighted_max\", \"run_name\": \"StandardScalerWrapper, LightGBM\", \"run_properties\": \"<azureml.automl.runtime.shared.model_wrappers.StandardScalerWrapper object at 0x7f66c644f3c8\", \"primary_metric\": 0.90314319, \"best_metric\": 0.92054067}, {\"run_id\": \"AutoML_9ada242b-ac34-4949-b9c0-17dfc5c52f98_38\", \"run_number\": 43, \"metric\": null, \"status\": \"Completed\", \"run_type\": \"azureml.scriptrun\", \"training_percent\": \"100\", \"start_time\": \"2020-12-28T04:16:14.500656Z\", \"end_time\": \"2020-12-28T04:17:18.350549Z\", \"created_time\": \"2020-12-28T04:16:01.993293Z\", \"created_time_dt\": \"2020-12-28T04:16:01.993293Z\", \"duration\": \"0:01:16\", \"iteration\": \"38\", \"goal\": \"AUC_weighted_max\", \"run_name\": \"RobustScaler, LightGBM\", \"run_properties\": \"copy=True, quantile_range=[25, 75], with_centering=False,\\n             with_scaling=True\", \"primary_metric\": 0.91143932, \"best_metric\": 0.92054067}, {\"run_id\": \"AutoML_9ada242b-ac34-4949-b9c0-17dfc5c52f98_39\", \"run_number\": 44, \"metric\": null, \"status\": \"Completed\", \"run_type\": \"azureml.scriptrun\", \"training_percent\": \"100\", \"start_time\": \"2020-12-28T04:16:23.5818Z\", \"end_time\": \"2020-12-28T04:17:26.18557Z\", \"created_time\": \"2020-12-28T04:16:12.167473Z\", \"created_time_dt\": \"2020-12-28T04:16:12.167473Z\", \"duration\": \"0:01:14\", \"iteration\": \"39\", \"goal\": \"AUC_weighted_max\", \"run_name\": \"StandardScalerWrapper, LightGBM\", \"run_properties\": \"<azureml.automl.runtime.shared.model_wrappers.StandardScalerWrapper object at 0x7fdc7067ad68\", \"primary_metric\": 0.90909144, \"best_metric\": 0.92054067}, {\"run_id\": \"AutoML_9ada242b-ac34-4949-b9c0-17dfc5c52f98_40\", \"run_number\": 45, \"metric\": null, \"status\": \"Completed\", \"run_type\": \"azureml.scriptrun\", \"training_percent\": \"100\", \"start_time\": \"2020-12-28T04:16:33.224493Z\", \"end_time\": \"2020-12-28T04:18:12.552607Z\", \"created_time\": \"2020-12-28T04:16:20.088141Z\", \"created_time_dt\": \"2020-12-28T04:16:20.088141Z\", \"duration\": \"0:01:52\", \"iteration\": \"40\", \"goal\": \"AUC_weighted_max\", \"run_name\": \"StandardScalerWrapper, RandomForest\", \"run_properties\": \"<azureml.automl.runtime.shared.model_wrappers.StandardScalerWrapper object at 0x7f81e73eccf8\", \"primary_metric\": 0.80224785, \"best_metric\": 0.92054067}, {\"run_id\": \"AutoML_9ada242b-ac34-4949-b9c0-17dfc5c52f98_41\", \"run_number\": 46, \"metric\": null, \"status\": \"Completed\", \"run_type\": \"azureml.scriptrun\", \"training_percent\": \"100\", \"start_time\": \"2020-12-28T04:16:40.363671Z\", \"end_time\": \"2020-12-28T04:18:16.910943Z\", \"created_time\": \"2020-12-28T04:16:27.68093Z\", \"created_time_dt\": \"2020-12-28T04:16:27.68093Z\", \"duration\": \"0:01:49\", \"iteration\": \"41\", \"goal\": \"AUC_weighted_max\", \"run_name\": \"MinMaxScaler, RandomForest\", \"run_properties\": \"copy=True, feature_range=(0, 1\", \"primary_metric\": 0.89817212, \"best_metric\": 0.92054067}, {\"run_id\": \"AutoML_9ada242b-ac34-4949-b9c0-17dfc5c52f98_42\", \"run_number\": 47, \"metric\": null, \"status\": \"Completed\", \"run_type\": \"azureml.scriptrun\", \"training_percent\": \"100\", \"start_time\": \"2020-12-28T04:17:35.45104Z\", \"end_time\": \"2020-12-28T04:18:37.329694Z\", \"created_time\": \"2020-12-28T04:17:20.916312Z\", \"created_time_dt\": \"2020-12-28T04:17:20.916312Z\", \"duration\": \"0:01:16\", \"iteration\": \"42\", \"goal\": \"AUC_weighted_max\", \"run_name\": \"StandardScalerWrapper, LogisticRegression\", \"run_properties\": \"<azureml.automl.runtime.shared.model_wrappers.StandardScalerWrapper object at 0x7fd8da130cc0\", \"primary_metric\": 0.84443204, \"best_metric\": 0.92054067}, {\"run_id\": \"AutoML_9ada242b-ac34-4949-b9c0-17dfc5c52f98_43\", \"run_number\": 48, \"metric\": null, \"status\": \"Completed\", \"run_type\": \"azureml.scriptrun\", \"training_percent\": \"100\", \"start_time\": \"2020-12-28T04:17:36.57312Z\", \"end_time\": \"2020-12-28T04:18:42.331149Z\", \"created_time\": \"2020-12-28T04:17:25.334846Z\", \"created_time_dt\": \"2020-12-28T04:17:25.334846Z\", \"duration\": \"0:01:16\", \"iteration\": \"43\", \"goal\": \"AUC_weighted_max\", \"run_name\": \"StandardScalerWrapper, GradientBoosting\", \"run_properties\": \"<azureml.automl.runtime.shared.model_wrappers.StandardScalerWrapper object at 0x7fefdc364b00\", \"primary_metric\": 0.90777199, \"best_metric\": 0.92054067}, {\"run_id\": \"AutoML_9ada242b-ac34-4949-b9c0-17dfc5c52f98_44\", \"run_number\": 49, \"metric\": null, \"status\": \"Completed\", \"run_type\": \"azureml.scriptrun\", \"training_percent\": \"100\", \"start_time\": \"2020-12-28T04:17:41.747371Z\", \"end_time\": \"2020-12-28T04:18:44.430906Z\", \"created_time\": \"2020-12-28T04:17:30.018518Z\", \"created_time_dt\": \"2020-12-28T04:17:30.018518Z\", \"duration\": \"0:01:14\", \"iteration\": \"44\", \"goal\": \"AUC_weighted_max\", \"run_name\": \"MinMaxScaler, RandomForest\", \"run_properties\": \"copy=True, feature_range=(0, 1\", \"primary_metric\": 0.91315394, \"best_metric\": 0.92054067}, {\"run_id\": \"AutoML_9ada242b-ac34-4949-b9c0-17dfc5c52f98_45\", \"run_number\": 50, \"metric\": null, \"status\": \"Completed\", \"run_type\": \"azureml.scriptrun\", \"training_percent\": \"100\", \"start_time\": \"2020-12-28T04:18:27.705661Z\", \"end_time\": \"2020-12-28T04:19:33.417764Z\", \"created_time\": \"2020-12-28T04:18:15.934316Z\", \"created_time_dt\": \"2020-12-28T04:18:15.934316Z\", \"duration\": \"0:01:17\", \"iteration\": \"45\", \"goal\": \"AUC_weighted_max\", \"run_name\": \"RobustScaler, RandomForest\", \"run_properties\": \"copy=True, quantile_range=[10, 90], with_centering=False,\\n             with_scaling=True\", \"primary_metric\": 0.86682829, \"best_metric\": 0.92054067}, {\"run_id\": \"AutoML_9ada242b-ac34-4949-b9c0-17dfc5c52f98_46\", \"run_number\": 51, \"metric\": null, \"status\": \"Canceled\", \"run_type\": \"azureml.scriptrun\", \"training_percent\": \"100\", \"start_time\": \"2020-12-28T04:18:32.432299Z\", \"end_time\": \"2020-12-28T04:19:37.197252Z\", \"created_time\": \"2020-12-28T04:18:19.925341Z\", \"created_time_dt\": \"2020-12-28T04:18:19.925341Z\", \"duration\": \"0:01:17\", \"iteration\": \"46\", \"goal\": \"AUC_weighted_max\", \"run_name\": \"MinMaxScaler, GradientBoosting\", \"run_properties\": \"copy=True, feature_range=(0, 1\", \"primary_metric\": 0.90644345, \"best_metric\": 0.92054067}, {\"run_id\": \"AutoML_9ada242b-ac34-4949-b9c0-17dfc5c52f98_47\", \"run_number\": 52, \"metric\": null, \"status\": \"Canceled\", \"run_type\": \"azureml.scriptrun\", \"training_percent\": \"100\", \"start_time\": \"2020-12-28T04:18:51.096926Z\", \"end_time\": \"2020-12-28T04:19:41.767681Z\", \"created_time\": \"2020-12-28T04:18:39.619011Z\", \"created_time_dt\": \"2020-12-28T04:18:39.619011Z\", \"duration\": \"0:01:02\", \"iteration\": \"47\", \"goal\": \"AUC_weighted_max\", \"run_name\": \"StandardScalerWrapper, LightGBM\", \"run_properties\": \"<azureml.automl.runtime.shared.model_wrappers.StandardScalerWrapper object at 0x7f6df8628f28\", \"primary_metric\": 0.88757688, \"best_metric\": 0.92054067}, {\"run_id\": \"AutoML_9ada242b-ac34-4949-b9c0-17dfc5c52f98_48\", \"run_number\": 53, \"metric\": null, \"status\": \"Canceled\", \"run_type\": \"azureml.scriptrun\", \"training_percent\": \"100\", \"start_time\": \"2020-12-28T04:18:55.477783Z\", \"end_time\": \"2020-12-28T04:19:43.425764Z\", \"created_time\": \"2020-12-28T04:18:44.506915Z\", \"created_time_dt\": \"2020-12-28T04:18:44.506915Z\", \"duration\": \"0:00:58\", \"iteration\": \"48\", \"goal\": \"AUC_weighted_max\", \"run_name\": \"RobustScaler, LightGBM\", \"run_properties\": \"copy=True, quantile_range=[25, 75], with_centering=True,\\n             with_scaling=True\", \"primary_metric\": 0.90237765, \"best_metric\": 0.92054067}, {\"run_id\": \"AutoML_9ada242b-ac34-4949-b9c0-17dfc5c52f98_49\", \"run_number\": 54, \"metric\": null, \"status\": \"Canceled\", \"run_type\": \"azureml.scriptrun\", \"training_percent\": \"100\", \"start_time\": \"2020-12-28T04:19:01.492454Z\", \"end_time\": \"2020-12-28T04:19:42.252964Z\", \"created_time\": \"2020-12-28T04:18:49.207652Z\", \"created_time_dt\": \"2020-12-28T04:18:49.207652Z\", \"duration\": \"0:00:53\", \"iteration\": \"49\", \"goal\": null, \"run_name\": \"Canceled\", \"run_properties\": null}, {\"run_id\": \"AutoML_9ada242b-ac34-4949-b9c0-17dfc5c52f98_50\", \"run_number\": 55, \"metric\": null, \"status\": \"Completed\", \"run_type\": \"azureml.scriptrun\", \"training_percent\": \"100\", \"start_time\": \"2020-12-28T04:19:57.531506Z\", \"end_time\": \"2020-12-28T04:22:45.066279Z\", \"created_time\": \"2020-12-28T04:19:45.835296Z\", \"created_time_dt\": \"2020-12-28T04:19:45.835296Z\", \"duration\": \"0:02:59\", \"iteration\": \"50\", \"goal\": \"AUC_weighted_max\", \"run_name\": \"VotingEnsemble\", \"run_properties\": \"classification_labels=None,\\n                              estimators=[('31',\\n                                           Pipeline(memory=None,\\n                                                    steps=[('robustscaler',\\n                                                            RobustScaler(copy=True,\\n                                                                         quantile_range=[25,\\n                                                                                         75],\\n                                                                         with_centering=True,\\n                                                                         with_scaling=False\", \"primary_metric\": 0.9240997, \"best_metric\": 0.9240997}, {\"run_id\": \"AutoML_9ada242b-ac34-4949-b9c0-17dfc5c52f98_51\", \"run_number\": 56, \"metric\": null, \"status\": \"Completed\", \"run_type\": \"azureml.scriptrun\", \"training_percent\": \"100\", \"start_time\": \"2020-12-28T04:19:57.349849Z\", \"end_time\": \"2020-12-28T04:22:50.075439Z\", \"created_time\": \"2020-12-28T04:19:45.974701Z\", \"created_time_dt\": \"2020-12-28T04:19:45.974701Z\", \"duration\": \"0:03:04\", \"iteration\": \"51\", \"goal\": \"AUC_weighted_max\", \"run_name\": \"StackEnsemble\", \"run_properties\": \"base_learners=[('31',\\n                                        Pipeline(memory=None,\\n                                                 steps=[('robustscaler',\\n                                                         RobustScaler(copy=True,\\n                                                                      quantile_range=[25,\\n                                                                                      75],\\n                                                                      with_centering=True,\\n                                                                      with_scaling=False\", \"primary_metric\": 0.91729332, \"best_metric\": 0.9240997}], \"children_metrics\": {\"categories\": [0], \"series\": {\"balanced_accuracy\": [{\"categories\": [\"0\", \"1\", \"2\", \"3\", \"4\", \"5\", \"6\", \"7\", \"8\", \"9\", \"10\", \"11\", \"12\", \"13\", \"14\", \"15\", \"16\", \"17\", \"18\", \"19\", \"20\", \"21\", \"22\", \"23\", \"24\", \"25\", \"26\", \"27\", \"28\", \"29\", \"30\", \"31\", \"32\", \"33\", \"34\", \"35\", \"36\", \"37\", \"38\", \"39\", \"40\", \"41\", \"42\", \"43\", \"44\", \"45\", \"46\", \"47\", \"48\", \"50\", \"51\"], \"mode\": \"markers\", \"name\": \"balanced_accuracy\", \"stepped\": false, \"type\": \"scatter\", \"data\": [0.7736210317460317, 0.8073313492063491, 0.8081646825396825, 0.7221031746031746, 0.8289682539682541, 0.7935714285714287, 0.7750694444444445, 0.7759523809523811, 0.7227678571428571, 0.6502579365079365, 0.7243253968253969, 0.7975099206349207, 0.8118253968253969, 0.753640873015873, 0.8069246031746033, 0.5407142857142857, 0.6834722222222221, 0.7274603174603174, 0.7920039682539682, 0.8146031746031746, 0.7726587301587302, 0.7815773809523809, 0.7631845238095238, 0.799047619047619, 0.7904662698412699, 0.8081845238095239, 0.7328869047619048, 0.8037996031746031, 0.5542956349206349, 0.7797718253968254, 0.781686507936508, 0.823422619047619, 0.8473412698412698, 0.818422619047619, 0.8195039682539683, 0.5585218253968254, 0.8040079365079364, 0.787718253968254, 0.8019841269841269, 0.8090674603174604, 0.7900198412698414, 0.7887400793650794, 0.7514186507936508, 0.8073015873015873, 0.8341865079365078, 0.7682142857142858, 0.8103968253968254, 0.7786904761904762, 0.8085119047619047, 0.8272023809523809, 0.5599999999999999]}, {\"categories\": [\"0\", \"1\", \"2\", \"3\", \"4\", \"5\", \"6\", \"7\", \"8\", \"9\", \"10\", \"11\", \"12\", \"13\", \"14\", \"15\", \"16\", \"17\", \"18\", \"19\", \"20\", \"21\", \"22\", \"23\", \"24\", \"25\", \"26\", \"27\", \"28\", \"29\", \"30\", \"31\", \"32\", \"33\", \"34\", \"35\", \"36\", \"37\", \"38\", \"39\", \"40\", \"41\", \"42\", \"43\", \"44\", \"45\", \"46\", \"47\", \"48\", \"50\", \"51\"], \"mode\": \"lines\", \"name\": \"balanced_accuracy_max\", \"stepped\": true, \"type\": \"scatter\", \"data\": [0.7736210317460317, 0.8073313492063491, 0.8081646825396825, 0.8081646825396825, 0.8289682539682541, 0.8289682539682541, 0.8289682539682541, 0.8289682539682541, 0.8289682539682541, 0.8289682539682541, 0.8289682539682541, 0.8289682539682541, 0.8289682539682541, 0.8289682539682541, 0.8289682539682541, 0.8289682539682541, 0.8289682539682541, 0.8289682539682541, 0.8289682539682541, 0.8289682539682541, 0.8289682539682541, 0.8289682539682541, 0.8289682539682541, 0.8289682539682541, 0.8289682539682541, 0.8289682539682541, 0.8289682539682541, 0.8289682539682541, 0.8289682539682541, 0.8289682539682541, 0.8289682539682541, 0.8289682539682541, 0.8473412698412698, 0.8473412698412698, 0.8473412698412698, 0.8473412698412698, 0.8473412698412698, 0.8473412698412698, 0.8473412698412698, 0.8473412698412698, 0.8473412698412698, 0.8473412698412698, 0.8473412698412698, 0.8473412698412698, 0.8473412698412698, 0.8473412698412698, 0.8473412698412698, 0.8473412698412698, 0.8473412698412698, 0.8473412698412698, 0.8473412698412698]}], \"f1_score_weighted\": [{\"categories\": [\"0\", \"1\", \"2\", \"3\", \"4\", \"5\", \"6\", \"7\", \"8\", \"9\", \"10\", \"11\", \"12\", \"13\", \"14\", \"15\", \"16\", \"17\", \"18\", \"19\", \"20\", \"21\", \"22\", \"23\", \"24\", \"25\", \"26\", \"27\", \"28\", \"29\", \"30\", \"31\", \"32\", \"33\", \"34\", \"35\", \"36\", \"37\", \"38\", \"39\", \"40\", \"41\", \"42\", \"43\", \"44\", \"45\", \"46\", \"47\", \"48\", \"50\", \"51\"], \"mode\": \"markers\", \"name\": \"f1_score_weighted\", \"stepped\": false, \"type\": \"scatter\", \"data\": [0.7983012006870832, 0.8299387381180269, 0.830206535667512, 0.7643336940349071, 0.8417093471236257, 0.8236239716112852, 0.7972954434852092, 0.8076340521712961, 0.7652863167709303, 0.7015050591294317, 0.7704409572967756, 0.8315258834565716, 0.8146886942484686, 0.7865746602827669, 0.8136790744786431, 0.596362365371599, 0.7326314560177077, 0.7485407976198747, 0.8038121735553616, 0.8385756007397422, 0.8021813676937427, 0.7974467157728664, 0.7928521469415124, 0.8343794717915172, 0.812840725760039, 0.819020424972563, 0.7786214437094812, 0.8230279401228595, 0.6022538607435631, 0.8039298773573279, 0.8221789738870559, 0.8297036031015603, 0.8511578853592834, 0.8424936615491099, 0.8254462157258933, 0.5803183690991185, 0.8294627756456473, 0.8157491229594838, 0.8295461027932877, 0.8337450573017773, 0.8291824582076133, 0.8028003464350444, 0.7846500008348876, 0.8292234354335303, 0.8389864265249404, 0.7929835713431075, 0.8306912677328631, 0.8059145552501533, 0.8379111863226264, 0.8442636322307244, 0.5919840833270467]}, {\"categories\": [\"0\", \"1\", \"2\", \"3\", \"4\", \"5\", \"6\", \"7\", \"8\", \"9\", \"10\", \"11\", \"12\", \"13\", \"14\", \"15\", \"16\", \"17\", \"18\", \"19\", \"20\", \"21\", \"22\", \"23\", \"24\", \"25\", \"26\", \"27\", \"28\", \"29\", \"30\", \"31\", \"32\", \"33\", \"34\", \"35\", \"36\", \"37\", \"38\", \"39\", \"40\", \"41\", \"42\", \"43\", \"44\", \"45\", \"46\", \"47\", \"48\", \"50\", \"51\"], \"mode\": \"lines\", \"name\": \"f1_score_weighted_max\", \"stepped\": true, \"type\": \"scatter\", \"data\": [0.7983012006870832, 0.8299387381180269, 0.830206535667512, 0.830206535667512, 0.8417093471236257, 0.8417093471236257, 0.8417093471236257, 0.8417093471236257, 0.8417093471236257, 0.8417093471236257, 0.8417093471236257, 0.8417093471236257, 0.8417093471236257, 0.8417093471236257, 0.8417093471236257, 0.8417093471236257, 0.8417093471236257, 0.8417093471236257, 0.8417093471236257, 0.8417093471236257, 0.8417093471236257, 0.8417093471236257, 0.8417093471236257, 0.8417093471236257, 0.8417093471236257, 0.8417093471236257, 0.8417093471236257, 0.8417093471236257, 0.8417093471236257, 0.8417093471236257, 0.8417093471236257, 0.8417093471236257, 0.8511578853592834, 0.8511578853592834, 0.8511578853592834, 0.8511578853592834, 0.8511578853592834, 0.8511578853592834, 0.8511578853592834, 0.8511578853592834, 0.8511578853592834, 0.8511578853592834, 0.8511578853592834, 0.8511578853592834, 0.8511578853592834, 0.8511578853592834, 0.8511578853592834, 0.8511578853592834, 0.8511578853592834, 0.8511578853592834, 0.8511578853592834]}], \"average_precision_score_weighted\": [{\"categories\": [\"0\", \"1\", \"2\", \"3\", \"4\", \"5\", \"6\", \"7\", \"8\", \"9\", \"10\", \"11\", \"12\", \"13\", \"14\", \"15\", \"16\", \"17\", \"18\", \"19\", \"20\", \"21\", \"22\", \"23\", \"24\", \"25\", \"26\", \"27\", \"28\", \"29\", \"30\", \"31\", \"32\", \"33\", \"34\", \"35\", \"36\", \"37\", \"38\", \"39\", \"40\", \"41\", \"42\", \"43\", \"44\", \"45\", \"46\", \"47\", \"48\", \"50\", \"51\"], \"mode\": \"markers\", \"name\": \"average_precision_score_weighted\", \"stepped\": false, \"type\": \"scatter\", \"data\": [0.9000109067542017, 0.9062493235409341, 0.9102361864096915, 0.9002179825278281, 0.9152815358749662, 0.9050200280505504, 0.8900141848219484, 0.9061917994101204, 0.8909732195390385, 0.7742392515539979, 0.9062611134607492, 0.9060703555800054, 0.9147669256245253, 0.8768375977018644, 0.8901720231949316, 0.671176368203771, 0.891967791343929, 0.8561680809184049, 0.9070426086337757, 0.9101443063426716, 0.9043217551758828, 0.8774997493308774, 0.8880752412225357, 0.9113990363593061, 0.8973704109932716, 0.9253104625660866, 0.9004874844266713, 0.9125511283701104, 0.887815101299735, 0.907838957936927, 0.9127053394980817, 0.9347393507461526, 0.9263304106508736, 0.9271600752302875, 0.9283658630253899, 0.7855503546345638, 0.9056975307712284, 0.9151473274733259, 0.923340268336798, 0.9207122642233777, 0.7978779293728101, 0.9185065000892964, 0.8733673496800491, 0.922166757539852, 0.9282744606283062, 0.8913760644923782, 0.9201961758496958, 0.9094228092343586, 0.9145072529963457, 0.9364458434636749, 0.9316588857874277]}, {\"categories\": [\"0\", \"1\", \"2\", \"3\", \"4\", \"5\", \"6\", \"7\", \"8\", \"9\", \"10\", \"11\", \"12\", \"13\", \"14\", \"15\", \"16\", \"17\", \"18\", \"19\", \"20\", \"21\", \"22\", \"23\", \"24\", \"25\", \"26\", \"27\", \"28\", \"29\", \"30\", \"31\", \"32\", \"33\", \"34\", \"35\", \"36\", \"37\", \"38\", \"39\", \"40\", \"41\", \"42\", \"43\", \"44\", \"45\", \"46\", \"47\", \"48\", \"50\", \"51\"], \"mode\": \"lines\", \"name\": \"average_precision_score_weighted_max\", \"stepped\": true, \"type\": \"scatter\", \"data\": [0.9000109067542017, 0.9062493235409341, 0.9102361864096915, 0.9102361864096915, 0.9152815358749662, 0.9152815358749662, 0.9152815358749662, 0.9152815358749662, 0.9152815358749662, 0.9152815358749662, 0.9152815358749662, 0.9152815358749662, 0.9152815358749662, 0.9152815358749662, 0.9152815358749662, 0.9152815358749662, 0.9152815358749662, 0.9152815358749662, 0.9152815358749662, 0.9152815358749662, 0.9152815358749662, 0.9152815358749662, 0.9152815358749662, 0.9152815358749662, 0.9152815358749662, 0.9253104625660866, 0.9253104625660866, 0.9253104625660866, 0.9253104625660866, 0.9253104625660866, 0.9253104625660866, 0.9347393507461526, 0.9347393507461526, 0.9347393507461526, 0.9347393507461526, 0.9347393507461526, 0.9347393507461526, 0.9347393507461526, 0.9347393507461526, 0.9347393507461526, 0.9347393507461526, 0.9347393507461526, 0.9347393507461526, 0.9347393507461526, 0.9347393507461526, 0.9347393507461526, 0.9347393507461526, 0.9347393507461526, 0.9347393507461526, 0.9364458434636749, 0.9364458434636749]}], \"average_precision_score_micro\": [{\"categories\": [\"0\", \"1\", \"2\", \"3\", \"4\", \"5\", \"6\", \"7\", \"8\", \"9\", \"10\", \"11\", \"12\", \"13\", \"14\", \"15\", \"16\", \"17\", \"18\", \"19\", \"20\", \"21\", \"22\", \"23\", \"24\", \"25\", \"26\", \"27\", \"28\", \"29\", \"30\", \"31\", \"32\", \"33\", \"34\", \"35\", \"36\", \"37\", \"38\", \"39\", \"40\", \"41\", \"42\", \"43\", \"44\", \"45\", \"46\", \"47\", \"48\", \"50\", \"51\"], \"mode\": \"markers\", \"name\": \"average_precision_score_micro\", \"stepped\": false, \"type\": \"scatter\", \"data\": [0.8883364970720043, 0.9012837561354352, 0.9044841918966492, 0.8800790113763226, 0.9080446023992064, 0.8974696879854122, 0.8901359192651859, 0.8938531424803626, 0.8742367358092162, 0.7711136281863581, 0.8822920431107695, 0.8956342314221418, 0.9013266440055234, 0.876285081243835, 0.8760112509657996, 0.6861431613770802, 0.8646744353087167, 0.8345866767231239, 0.8966265107433348, 0.9028369366934677, 0.8940441469944197, 0.8681075007641408, 0.8805325854101659, 0.9010710883476365, 0.888117629654689, 0.9100475612946293, 0.8880933479188456, 0.9037771581744252, 0.8439140739126507, 0.9041404149674236, 0.8890905254729466, 0.9183973153999776, 0.9140210658771653, 0.9154304949191314, 0.9186663145109616, 0.7678047675800654, 0.9041370157981531, 0.9133217789587522, 0.9204217529404464, 0.9170539454536364, 0.8029993748042333, 0.9104150434797598, 0.8731268126729924, 0.9187954941216712, 0.9166876963554706, 0.869552635019085, 0.9169193979461939, 0.9024497314987142, 0.9115193160611632, 0.9247148308846344, 0.8780626761421747]}, {\"categories\": [\"0\", \"1\", \"2\", \"3\", \"4\", \"5\", \"6\", \"7\", \"8\", \"9\", \"10\", \"11\", \"12\", \"13\", \"14\", \"15\", \"16\", \"17\", \"18\", \"19\", \"20\", \"21\", \"22\", \"23\", \"24\", \"25\", \"26\", \"27\", \"28\", \"29\", \"30\", \"31\", \"32\", \"33\", \"34\", \"35\", \"36\", \"37\", \"38\", \"39\", \"40\", \"41\", \"42\", \"43\", \"44\", \"45\", \"46\", \"47\", \"48\", \"50\", \"51\"], \"mode\": \"lines\", \"name\": \"average_precision_score_micro_max\", \"stepped\": true, \"type\": \"scatter\", \"data\": [0.8883364970720043, 0.9012837561354352, 0.9044841918966492, 0.9044841918966492, 0.9080446023992064, 0.9080446023992064, 0.9080446023992064, 0.9080446023992064, 0.9080446023992064, 0.9080446023992064, 0.9080446023992064, 0.9080446023992064, 0.9080446023992064, 0.9080446023992064, 0.9080446023992064, 0.9080446023992064, 0.9080446023992064, 0.9080446023992064, 0.9080446023992064, 0.9080446023992064, 0.9080446023992064, 0.9080446023992064, 0.9080446023992064, 0.9080446023992064, 0.9080446023992064, 0.9100475612946293, 0.9100475612946293, 0.9100475612946293, 0.9100475612946293, 0.9100475612946293, 0.9100475612946293, 0.9183973153999776, 0.9183973153999776, 0.9183973153999776, 0.9186663145109616, 0.9186663145109616, 0.9186663145109616, 0.9186663145109616, 0.9204217529404464, 0.9204217529404464, 0.9204217529404464, 0.9204217529404464, 0.9204217529404464, 0.9204217529404464, 0.9204217529404464, 0.9204217529404464, 0.9204217529404464, 0.9204217529404464, 0.9204217529404464, 0.9247148308846344, 0.9247148308846344]}], \"precision_score_micro\": [{\"categories\": [\"0\", \"1\", \"2\", \"3\", \"4\", \"5\", \"6\", \"7\", \"8\", \"9\", \"10\", \"11\", \"12\", \"13\", \"14\", \"15\", \"16\", \"17\", \"18\", \"19\", \"20\", \"21\", \"22\", \"23\", \"24\", \"25\", \"26\", \"27\", \"28\", \"29\", \"30\", \"31\", \"32\", \"33\", \"34\", \"35\", \"36\", \"37\", \"38\", \"39\", \"40\", \"41\", \"42\", \"43\", \"44\", \"45\", \"46\", \"47\", \"48\", \"50\", \"51\"], \"mode\": \"markers\", \"name\": \"precision_score_micro\", \"stepped\": false, \"type\": \"scatter\", \"data\": [0.803623188405797, 0.8327898550724638, 0.8326086956521739, 0.7952898550724637, 0.8409420289855072, 0.8282608695652174, 0.7990942028985507, 0.8159420289855073, 0.7869565217391303, 0.7244565217391306, 0.7952898550724637, 0.8413043478260869, 0.8117753623188406, 0.7907608695652173, 0.8117753623188406, 0.6237318840579709, 0.7615942028985507, 0.7487318840579709, 0.8076086956521739, 0.8409420289855072, 0.8076086956521739, 0.7954710144927536, 0.7949275362318841, 0.8409420289855072, 0.816304347826087, 0.8201086956521738, 0.7996376811594202, 0.8246376811594203, 0.6945652173913043, 0.8077898550724637, 0.832608695652174, 0.8284420289855072, 0.8494565217391304, 0.8451086956521738, 0.8242753623188405, 0.6695652173913043, 0.8327898550724637, 0.8202898550724637, 0.8327898550724637, 0.8369565217391305, 0.8367753623188406, 0.803623188405797, 0.7907608695652174, 0.8327898550724637, 0.8369565217391305, 0.795108695652174, 0.8327898550724637, 0.8119565217391305, 0.841123188405797, 0.8452898550724639, 0.698731884057971]}, {\"categories\": [\"0\", \"1\", \"2\", \"3\", \"4\", \"5\", \"6\", \"7\", \"8\", \"9\", \"10\", \"11\", \"12\", \"13\", \"14\", \"15\", \"16\", \"17\", \"18\", \"19\", \"20\", \"21\", \"22\", \"23\", \"24\", \"25\", \"26\", \"27\", \"28\", \"29\", \"30\", \"31\", \"32\", \"33\", \"34\", \"35\", \"36\", \"37\", \"38\", \"39\", \"40\", \"41\", \"42\", \"43\", \"44\", \"45\", \"46\", \"47\", \"48\", \"50\", \"51\"], \"mode\": \"lines\", \"name\": \"precision_score_micro_max\", \"stepped\": true, \"type\": \"scatter\", \"data\": [0.803623188405797, 0.8327898550724638, 0.8327898550724638, 0.8327898550724638, 0.8409420289855072, 0.8409420289855072, 0.8409420289855072, 0.8409420289855072, 0.8409420289855072, 0.8409420289855072, 0.8409420289855072, 0.8413043478260869, 0.8413043478260869, 0.8413043478260869, 0.8413043478260869, 0.8413043478260869, 0.8413043478260869, 0.8413043478260869, 0.8413043478260869, 0.8413043478260869, 0.8413043478260869, 0.8413043478260869, 0.8413043478260869, 0.8413043478260869, 0.8413043478260869, 0.8413043478260869, 0.8413043478260869, 0.8413043478260869, 0.8413043478260869, 0.8413043478260869, 0.8413043478260869, 0.8413043478260869, 0.8494565217391304, 0.8494565217391304, 0.8494565217391304, 0.8494565217391304, 0.8494565217391304, 0.8494565217391304, 0.8494565217391304, 0.8494565217391304, 0.8494565217391304, 0.8494565217391304, 0.8494565217391304, 0.8494565217391304, 0.8494565217391304, 0.8494565217391304, 0.8494565217391304, 0.8494565217391304, 0.8494565217391304, 0.8494565217391304, 0.8494565217391304]}], \"recall_score_micro\": [{\"categories\": [\"0\", \"1\", \"2\", \"3\", \"4\", \"5\", \"6\", \"7\", \"8\", \"9\", \"10\", \"11\", \"12\", \"13\", \"14\", \"15\", \"16\", \"17\", \"18\", \"19\", \"20\", \"21\", \"22\", \"23\", \"24\", \"25\", \"26\", \"27\", \"28\", \"29\", \"30\", \"31\", \"32\", \"33\", \"34\", \"35\", \"36\", \"37\", \"38\", \"39\", \"40\", \"41\", \"42\", \"43\", \"44\", \"45\", \"46\", \"47\", \"48\", \"50\", \"51\"], \"mode\": \"markers\", \"name\": \"recall_score_micro\", \"stepped\": false, \"type\": \"scatter\", \"data\": [0.803623188405797, 0.8327898550724638, 0.8326086956521739, 0.7952898550724637, 0.8409420289855072, 0.8282608695652174, 0.7990942028985507, 0.8159420289855073, 0.7869565217391303, 0.7244565217391306, 0.7952898550724637, 0.8413043478260869, 0.8117753623188406, 0.7907608695652173, 0.8117753623188406, 0.6237318840579709, 0.7615942028985507, 0.7487318840579709, 0.8076086956521739, 0.8409420289855072, 0.8076086956521739, 0.7954710144927536, 0.7949275362318841, 0.8409420289855072, 0.816304347826087, 0.8201086956521738, 0.7996376811594202, 0.8246376811594203, 0.6945652173913043, 0.8077898550724637, 0.832608695652174, 0.8284420289855072, 0.8494565217391304, 0.8451086956521738, 0.8242753623188405, 0.6695652173913043, 0.8327898550724637, 0.8202898550724637, 0.8327898550724637, 0.8369565217391305, 0.8367753623188406, 0.803623188405797, 0.7907608695652174, 0.8327898550724637, 0.8369565217391305, 0.795108695652174, 0.8327898550724637, 0.8119565217391305, 0.841123188405797, 0.8452898550724639, 0.698731884057971]}, {\"categories\": [\"0\", \"1\", \"2\", \"3\", \"4\", \"5\", \"6\", \"7\", \"8\", \"9\", \"10\", \"11\", \"12\", \"13\", \"14\", \"15\", \"16\", \"17\", \"18\", \"19\", \"20\", \"21\", \"22\", \"23\", \"24\", \"25\", \"26\", \"27\", \"28\", \"29\", \"30\", \"31\", \"32\", \"33\", \"34\", \"35\", \"36\", \"37\", \"38\", \"39\", \"40\", \"41\", \"42\", \"43\", \"44\", \"45\", \"46\", \"47\", \"48\", \"50\", \"51\"], \"mode\": \"lines\", \"name\": \"recall_score_micro_max\", \"stepped\": true, \"type\": \"scatter\", \"data\": [0.803623188405797, 0.8327898550724638, 0.8327898550724638, 0.8327898550724638, 0.8409420289855072, 0.8409420289855072, 0.8409420289855072, 0.8409420289855072, 0.8409420289855072, 0.8409420289855072, 0.8409420289855072, 0.8413043478260869, 0.8413043478260869, 0.8413043478260869, 0.8413043478260869, 0.8413043478260869, 0.8413043478260869, 0.8413043478260869, 0.8413043478260869, 0.8413043478260869, 0.8413043478260869, 0.8413043478260869, 0.8413043478260869, 0.8413043478260869, 0.8413043478260869, 0.8413043478260869, 0.8413043478260869, 0.8413043478260869, 0.8413043478260869, 0.8413043478260869, 0.8413043478260869, 0.8413043478260869, 0.8494565217391304, 0.8494565217391304, 0.8494565217391304, 0.8494565217391304, 0.8494565217391304, 0.8494565217391304, 0.8494565217391304, 0.8494565217391304, 0.8494565217391304, 0.8494565217391304, 0.8494565217391304, 0.8494565217391304, 0.8494565217391304, 0.8494565217391304, 0.8494565217391304, 0.8494565217391304, 0.8494565217391304, 0.8494565217391304, 0.8494565217391304]}], \"norm_macro_recall\": [{\"categories\": [\"0\", \"1\", \"2\", \"3\", \"4\", \"5\", \"6\", \"7\", \"8\", \"9\", \"10\", \"11\", \"12\", \"13\", \"14\", \"15\", \"16\", \"17\", \"18\", \"19\", \"20\", \"21\", \"22\", \"23\", \"24\", \"25\", \"26\", \"27\", \"28\", \"29\", \"30\", \"31\", \"32\", \"33\", \"34\", \"35\", \"36\", \"37\", \"38\", \"39\", \"40\", \"41\", \"42\", \"43\", \"44\", \"45\", \"46\", \"47\", \"48\", \"50\", \"51\"], \"mode\": \"markers\", \"name\": \"norm_macro_recall\", \"stepped\": false, \"type\": \"scatter\", \"data\": [0.5472420634920635, 0.6146626984126984, 0.6163293650793651, 0.4442063492063492, 0.657936507936508, 0.5871428571428571, 0.550138888888889, 0.5519047619047619, 0.4455357142857143, 0.30051587301587296, 0.44865079365079363, 0.5950198412698413, 0.6236507936507938, 0.5072817460317461, 0.6138492063492065, 0.11482142857142852, 0.3669444444444444, 0.454920634920635, 0.5840079365079365, 0.6292063492063493, 0.5453174603174604, 0.5631547619047618, 0.5263690476190476, 0.5980952380952381, 0.5809325396825396, 0.6163690476190476, 0.4657738095238095, 0.6075992063492064, 0.10859126984126985, 0.5595436507936509, 0.5633730158730159, 0.6468452380952382, 0.6946825396825396, 0.6368452380952381, 0.6390079365079366, 0.12329365079365077, 0.608015873015873, 0.575436507936508, 0.6039682539682539, 0.6181349206349206, 0.5800396825396825, 0.5774801587301587, 0.5028373015873016, 0.6146031746031746, 0.6683730158730159, 0.5364285714285714, 0.6207936507936508, 0.5573809523809523, 0.6170238095238095, 0.6544047619047619, 0.12]}, {\"categories\": [\"0\", \"1\", \"2\", \"3\", \"4\", \"5\", \"6\", \"7\", \"8\", \"9\", \"10\", \"11\", \"12\", \"13\", \"14\", \"15\", \"16\", \"17\", \"18\", \"19\", \"20\", \"21\", \"22\", \"23\", \"24\", \"25\", \"26\", \"27\", \"28\", \"29\", \"30\", \"31\", \"32\", \"33\", \"34\", \"35\", \"36\", \"37\", \"38\", \"39\", \"40\", \"41\", \"42\", \"43\", \"44\", \"45\", \"46\", \"47\", \"48\", \"50\", \"51\"], \"mode\": \"lines\", \"name\": \"norm_macro_recall_max\", \"stepped\": true, \"type\": \"scatter\", \"data\": [0.5472420634920635, 0.6146626984126984, 0.6163293650793651, 0.6163293650793651, 0.657936507936508, 0.657936507936508, 0.657936507936508, 0.657936507936508, 0.657936507936508, 0.657936507936508, 0.657936507936508, 0.657936507936508, 0.657936507936508, 0.657936507936508, 0.657936507936508, 0.657936507936508, 0.657936507936508, 0.657936507936508, 0.657936507936508, 0.657936507936508, 0.657936507936508, 0.657936507936508, 0.657936507936508, 0.657936507936508, 0.657936507936508, 0.657936507936508, 0.657936507936508, 0.657936507936508, 0.657936507936508, 0.657936507936508, 0.657936507936508, 0.657936507936508, 0.6946825396825396, 0.6946825396825396, 0.6946825396825396, 0.6946825396825396, 0.6946825396825396, 0.6946825396825396, 0.6946825396825396, 0.6946825396825396, 0.6946825396825396, 0.6946825396825396, 0.6946825396825396, 0.6946825396825396, 0.6946825396825396, 0.6946825396825396, 0.6946825396825396, 0.6946825396825396, 0.6946825396825396, 0.6946825396825396, 0.6946825396825396]}], \"precision_score_macro\": [{\"categories\": [\"0\", \"1\", \"2\", \"3\", \"4\", \"5\", \"6\", \"7\", \"8\", \"9\", \"10\", \"11\", \"12\", \"13\", \"14\", \"15\", \"16\", \"17\", \"18\", \"19\", \"20\", \"21\", \"22\", \"23\", \"24\", \"25\", \"26\", \"27\", \"28\", \"29\", \"30\", \"31\", \"32\", \"33\", \"34\", \"35\", \"36\", \"37\", \"38\", \"39\", \"40\", \"41\", \"42\", \"43\", \"44\", \"45\", \"46\", \"47\", \"48\", \"50\", \"51\"], \"mode\": \"markers\", \"name\": \"precision_score_macro\", \"stepped\": false, \"type\": \"scatter\", \"data\": [0.8126825341840822, 0.8394327731092437, 0.8377775655716831, 0.7993172436438691, 0.8293798562548561, 0.8256558229352347, 0.7807845585786761, 0.8340550385287229, 0.8194478564950701, 0.7443658830288928, 0.8438043138342641, 0.8694167710944027, 0.7977960111783642, 0.779839162385602, 0.8040452675978992, 0.5615571711140597, 0.7947712999803624, 0.7310662308108129, 0.8100994797685974, 0.8398336834733893, 0.7994543650793651, 0.774719593272225, 0.7774108489549666, 0.8521660937102113, 0.8134532583429642, 0.808065672073025, 0.8132424304580719, 0.8201223653797184, 0.6171866177300961, 0.8100430617284333, 0.847839922963846, 0.8287644871468401, 0.8462114845938375, 0.8474871615312791, 0.8228631662455191, 0.5286017043597135, 0.8324993103301928, 0.8253082153914197, 0.8354108309990662, 0.8399299719887955, 0.8496185790903283, 0.8057938735241367, 0.7884857789269554, 0.8350887021475257, 0.8349300576874107, 0.781810762766645, 0.8295821661998133, 0.8148074843972678, 0.8408520074696545, 0.8420850840336135, 0.43409983558640847]}, {\"categories\": [\"0\", \"1\", \"2\", \"3\", \"4\", \"5\", \"6\", \"7\", \"8\", \"9\", \"10\", \"11\", \"12\", \"13\", \"14\", \"15\", \"16\", \"17\", \"18\", \"19\", \"20\", \"21\", \"22\", \"23\", \"24\", \"25\", \"26\", \"27\", \"28\", \"29\", \"30\", \"31\", \"32\", \"33\", \"34\", \"35\", \"36\", \"37\", \"38\", \"39\", \"40\", \"41\", \"42\", \"43\", \"44\", \"45\", \"46\", \"47\", \"48\", \"50\", \"51\"], \"mode\": \"lines\", \"name\": \"precision_score_macro_max\", \"stepped\": true, \"type\": \"scatter\", \"data\": [0.8126825341840822, 0.8394327731092437, 0.8394327731092437, 0.8394327731092437, 0.8394327731092437, 0.8394327731092437, 0.8394327731092437, 0.8394327731092437, 0.8394327731092437, 0.8394327731092437, 0.8438043138342641, 0.8694167710944027, 0.8694167710944027, 0.8694167710944027, 0.8694167710944027, 0.8694167710944027, 0.8694167710944027, 0.8694167710944027, 0.8694167710944027, 0.8694167710944027, 0.8694167710944027, 0.8694167710944027, 0.8694167710944027, 0.8694167710944027, 0.8694167710944027, 0.8694167710944027, 0.8694167710944027, 0.8694167710944027, 0.8694167710944027, 0.8694167710944027, 0.8694167710944027, 0.8694167710944027, 0.8694167710944027, 0.8694167710944027, 0.8694167710944027, 0.8694167710944027, 0.8694167710944027, 0.8694167710944027, 0.8694167710944027, 0.8694167710944027, 0.8694167710944027, 0.8694167710944027, 0.8694167710944027, 0.8694167710944027, 0.8694167710944027, 0.8694167710944027, 0.8694167710944027, 0.8694167710944027, 0.8694167710944027, 0.8694167710944027, 0.8694167710944027]}], \"precision_score_weighted\": [{\"categories\": [\"0\", \"1\", \"2\", \"3\", \"4\", \"5\", \"6\", \"7\", \"8\", \"9\", \"10\", \"11\", \"12\", \"13\", \"14\", \"15\", \"16\", \"17\", \"18\", \"19\", \"20\", \"21\", \"22\", \"23\", \"24\", \"25\", \"26\", \"27\", \"28\", \"29\", \"30\", \"31\", \"32\", \"33\", \"34\", \"35\", \"36\", \"37\", \"38\", \"39\", \"40\", \"41\", \"42\", \"43\", \"44\", \"45\", \"46\", \"47\", \"48\", \"50\", \"51\"], \"mode\": \"markers\", \"name\": \"precision_score_weighted\", \"stepped\": false, \"type\": \"scatter\", \"data\": [0.8264842830302515, 0.8525607416879796, 0.8526428806316115, 0.7935288150463476, 0.8565353137703682, 0.8380285607875122, 0.8077586141716576, 0.8408548915699946, 0.816413275715251, 0.7459292146752606, 0.8322836104427671, 0.8677720796556608, 0.8370958442665604, 0.8007138680358705, 0.8387106551809069, 0.6022469282176385, 0.7908958852679829, 0.7681074054604728, 0.8333197674022482, 0.8533072398645448, 0.8171463796871405, 0.8092967365210644, 0.8033443822298523, 0.8566839722274505, 0.8315344803232432, 0.839134950993167, 0.8133009028681395, 0.839243361855654, 0.6549732574189095, 0.8257933399863673, 0.8483623574334386, 0.8543799028006189, 0.8713107416879795, 0.858800305146213, 0.8495715629922792, 0.5822108641580896, 0.8466340730407227, 0.8377604290190522, 0.8478241248190097, 0.852688737330681, 0.8510303416231618, 0.82764008027738, 0.8034206349531636, 0.8490554506826884, 0.8600449241721619, 0.810033819547886, 0.8461306140813812, 0.8286915328202218, 0.8522491170381196, 0.8593381401473632, 0.5241270299077413]}, {\"categories\": [\"0\", \"1\", \"2\", \"3\", \"4\", \"5\", \"6\", \"7\", \"8\", \"9\", \"10\", \"11\", \"12\", \"13\", \"14\", \"15\", \"16\", \"17\", \"18\", \"19\", \"20\", \"21\", \"22\", \"23\", \"24\", \"25\", \"26\", \"27\", \"28\", \"29\", \"30\", \"31\", \"32\", \"33\", \"34\", \"35\", \"36\", \"37\", \"38\", \"39\", \"40\", \"41\", \"42\", \"43\", \"44\", \"45\", \"46\", \"47\", \"48\", \"50\", \"51\"], \"mode\": \"lines\", \"name\": \"precision_score_weighted_max\", \"stepped\": true, \"type\": \"scatter\", \"data\": [0.8264842830302515, 0.8525607416879796, 0.8526428806316115, 0.8526428806316115, 0.8565353137703682, 0.8565353137703682, 0.8565353137703682, 0.8565353137703682, 0.8565353137703682, 0.8565353137703682, 0.8565353137703682, 0.8677720796556608, 0.8677720796556608, 0.8677720796556608, 0.8677720796556608, 0.8677720796556608, 0.8677720796556608, 0.8677720796556608, 0.8677720796556608, 0.8677720796556608, 0.8677720796556608, 0.8677720796556608, 0.8677720796556608, 0.8677720796556608, 0.8677720796556608, 0.8677720796556608, 0.8677720796556608, 0.8677720796556608, 0.8677720796556608, 0.8677720796556608, 0.8677720796556608, 0.8677720796556608, 0.8713107416879795, 0.8713107416879795, 0.8713107416879795, 0.8713107416879795, 0.8713107416879795, 0.8713107416879795, 0.8713107416879795, 0.8713107416879795, 0.8713107416879795, 0.8713107416879795, 0.8713107416879795, 0.8713107416879795, 0.8713107416879795, 0.8713107416879795, 0.8713107416879795, 0.8713107416879795, 0.8713107416879795, 0.8713107416879795, 0.8713107416879795]}], \"recall_score_macro\": [{\"categories\": [\"0\", \"1\", \"2\", \"3\", \"4\", \"5\", \"6\", \"7\", \"8\", \"9\", \"10\", \"11\", \"12\", \"13\", \"14\", \"15\", \"16\", \"17\", \"18\", \"19\", \"20\", \"21\", \"22\", \"23\", \"24\", \"25\", \"26\", \"27\", \"28\", \"29\", \"30\", \"31\", \"32\", \"33\", \"34\", \"35\", \"36\", \"37\", \"38\", \"39\", \"40\", \"41\", \"42\", \"43\", \"44\", \"45\", \"46\", \"47\", \"48\", \"50\", \"51\"], \"mode\": \"markers\", \"name\": \"recall_score_macro\", \"stepped\": false, \"type\": \"scatter\", \"data\": [0.7736210317460317, 0.8073313492063491, 0.8081646825396825, 0.7221031746031746, 0.8289682539682541, 0.7935714285714287, 0.7750694444444445, 0.7759523809523811, 0.7227678571428571, 0.6502579365079365, 0.7243253968253969, 0.7975099206349207, 0.8118253968253969, 0.753640873015873, 0.8069246031746033, 0.5407142857142857, 0.6834722222222221, 0.7274603174603174, 0.7920039682539682, 0.8146031746031746, 0.7726587301587302, 0.7815773809523809, 0.7631845238095238, 0.799047619047619, 0.7904662698412699, 0.8081845238095239, 0.7328869047619048, 0.8037996031746031, 0.5542956349206349, 0.7797718253968254, 0.781686507936508, 0.823422619047619, 0.8473412698412698, 0.818422619047619, 0.8195039682539683, 0.5585218253968254, 0.8040079365079364, 0.787718253968254, 0.8019841269841269, 0.8090674603174604, 0.7900198412698414, 0.7887400793650794, 0.7514186507936508, 0.8073015873015873, 0.8341865079365078, 0.7682142857142858, 0.8103968253968254, 0.7786904761904762, 0.8085119047619047, 0.8272023809523809, 0.5599999999999999]}, {\"categories\": [\"0\", \"1\", \"2\", \"3\", \"4\", \"5\", \"6\", \"7\", \"8\", \"9\", \"10\", \"11\", \"12\", \"13\", \"14\", \"15\", \"16\", \"17\", \"18\", \"19\", \"20\", \"21\", \"22\", \"23\", \"24\", \"25\", \"26\", \"27\", \"28\", \"29\", \"30\", \"31\", \"32\", \"33\", \"34\", \"35\", \"36\", \"37\", \"38\", \"39\", \"40\", \"41\", \"42\", \"43\", \"44\", \"45\", \"46\", \"47\", \"48\", \"50\", \"51\"], \"mode\": \"lines\", \"name\": \"recall_score_macro_max\", \"stepped\": true, \"type\": \"scatter\", \"data\": [0.7736210317460317, 0.8073313492063491, 0.8081646825396825, 0.8081646825396825, 0.8289682539682541, 0.8289682539682541, 0.8289682539682541, 0.8289682539682541, 0.8289682539682541, 0.8289682539682541, 0.8289682539682541, 0.8289682539682541, 0.8289682539682541, 0.8289682539682541, 0.8289682539682541, 0.8289682539682541, 0.8289682539682541, 0.8289682539682541, 0.8289682539682541, 0.8289682539682541, 0.8289682539682541, 0.8289682539682541, 0.8289682539682541, 0.8289682539682541, 0.8289682539682541, 0.8289682539682541, 0.8289682539682541, 0.8289682539682541, 0.8289682539682541, 0.8289682539682541, 0.8289682539682541, 0.8289682539682541, 0.8473412698412698, 0.8473412698412698, 0.8473412698412698, 0.8473412698412698, 0.8473412698412698, 0.8473412698412698, 0.8473412698412698, 0.8473412698412698, 0.8473412698412698, 0.8473412698412698, 0.8473412698412698, 0.8473412698412698, 0.8473412698412698, 0.8473412698412698, 0.8473412698412698, 0.8473412698412698, 0.8473412698412698, 0.8473412698412698, 0.8473412698412698]}], \"weighted_accuracy\": [{\"categories\": [\"0\", \"1\", \"2\", \"3\", \"4\", \"5\", \"6\", \"7\", \"8\", \"9\", \"10\", \"11\", \"12\", \"13\", \"14\", \"15\", \"16\", \"17\", \"18\", \"19\", \"20\", \"21\", \"22\", \"23\", \"24\", \"25\", \"26\", \"27\", \"28\", \"29\", \"30\", \"31\", \"32\", \"33\", \"34\", \"35\", \"36\", \"37\", \"38\", \"39\", \"40\", \"41\", \"42\", \"43\", \"44\", \"45\", \"46\", \"47\", \"48\", \"50\", \"51\"], \"mode\": \"markers\", \"name\": \"weighted_accuracy\", \"stepped\": false, \"type\": \"scatter\", \"data\": [0.8281719400210239, 0.8530407794486867, 0.8517164464367937, 0.8522293822269715, 0.8500630283127875, 0.8539129896531055, 0.8164338180996811, 0.8473222740580504, 0.8368544484696846, 0.7809592162075287, 0.8506077606053498, 0.8760771933939726, 0.8117879885671593, 0.8187244911256484, 0.816080516389099, 0.6877134970071325, 0.8217604706924861, 0.7659781551078562, 0.8198603256100846, 0.8608159147575734, 0.8352356285890521, 0.8052938353010676, 0.8182501932984094, 0.8726419331578444, 0.8356449216815658, 0.8279856568236511, 0.849528069535302, 0.840689966726611, 0.8004669133936252, 0.8302069161736471, 0.8705340900205897, 0.8318860277828456, 0.8513714630734881, 0.8653747382869852, 0.827156298053116, 0.7583083565725803, 0.8536303395970706, 0.8456719400210237, 0.8563780873448182, 0.8589231323898634, 0.8722007566872563, 0.8150611822043837, 0.82034611274727, 0.8528778223739651, 0.8392397725594447, 0.8146477625166149, 0.8500028886166783, 0.83783277732892, 0.865634844101575, 0.858822443465645, 0.8024452900344897]}, {\"categories\": [\"0\", \"1\", \"2\", \"3\", \"4\", \"5\", \"6\", \"7\", \"8\", \"9\", \"10\", \"11\", \"12\", \"13\", \"14\", \"15\", \"16\", \"17\", \"18\", \"19\", \"20\", \"21\", \"22\", \"23\", \"24\", \"25\", \"26\", \"27\", \"28\", \"29\", \"30\", \"31\", \"32\", \"33\", \"34\", \"35\", \"36\", \"37\", \"38\", \"39\", \"40\", \"41\", \"42\", \"43\", \"44\", \"45\", \"46\", \"47\", \"48\", \"50\", \"51\"], \"mode\": \"lines\", \"name\": \"weighted_accuracy_max\", \"stepped\": true, \"type\": \"scatter\", \"data\": [0.8281719400210239, 0.8530407794486867, 0.8530407794486867, 0.8530407794486867, 0.8530407794486867, 0.8539129896531055, 0.8539129896531055, 0.8539129896531055, 0.8539129896531055, 0.8539129896531055, 0.8539129896531055, 0.8760771933939726, 0.8760771933939726, 0.8760771933939726, 0.8760771933939726, 0.8760771933939726, 0.8760771933939726, 0.8760771933939726, 0.8760771933939726, 0.8760771933939726, 0.8760771933939726, 0.8760771933939726, 0.8760771933939726, 0.8760771933939726, 0.8760771933939726, 0.8760771933939726, 0.8760771933939726, 0.8760771933939726, 0.8760771933939726, 0.8760771933939726, 0.8760771933939726, 0.8760771933939726, 0.8760771933939726, 0.8760771933939726, 0.8760771933939726, 0.8760771933939726, 0.8760771933939726, 0.8760771933939726, 0.8760771933939726, 0.8760771933939726, 0.8760771933939726, 0.8760771933939726, 0.8760771933939726, 0.8760771933939726, 0.8760771933939726, 0.8760771933939726, 0.8760771933939726, 0.8760771933939726, 0.8760771933939726, 0.8760771933939726, 0.8760771933939726]}], \"f1_score_macro\": [{\"categories\": [\"0\", \"1\", \"2\", \"3\", \"4\", \"5\", \"6\", \"7\", \"8\", \"9\", \"10\", \"11\", \"12\", \"13\", \"14\", \"15\", \"16\", \"17\", \"18\", \"19\", \"20\", \"21\", \"22\", \"23\", \"24\", \"25\", \"26\", \"27\", \"28\", \"29\", \"30\", \"31\", \"32\", \"33\", \"34\", \"35\", \"36\", \"37\", \"38\", \"39\", \"40\", \"41\", \"42\", \"43\", \"44\", \"45\", \"46\", \"47\", \"48\", \"50\", \"51\"], \"mode\": \"markers\", \"name\": \"f1_score_macro\", \"stepped\": false, \"type\": \"scatter\", \"data\": [0.7716529969862921, 0.8066550600718466, 0.8066808905422178, 0.7216769105391396, 0.8201816602565544, 0.795170248178413, 0.7695585834576869, 0.7771589374268112, 0.7245195827928276, 0.6498604507409158, 0.7290794307706072, 0.8046237227995661, 0.7932468183625472, 0.7556424262530463, 0.7919703610753478, 0.5308222516969895, 0.6812969752424559, 0.7177882617601845, 0.7802740674109082, 0.8155212372869762, 0.7734528062311103, 0.7721712058884209, 0.7626050419515833, 0.8054473165050384, 0.7856232952543094, 0.7947429356242685, 0.7346054216901339, 0.7996654516332254, 0.4987872629977894, 0.7779334964783666, 0.78743651260946, 0.8107259493089982, 0.8351592726937191, 0.8201204809433831, 0.8060573337864927, 0.4906557514123304, 0.803001791092861, 0.7893572599645114, 0.8045878355769656, 0.8097471544364743, 0.7992483592993554, 0.7810013415986103, 0.753996023120575, 0.8058272421340561, 0.8226800228691025, 0.7630004308099659, 0.8078864186528575, 0.7782269860638391, 0.812780467712909, 0.8233691716624658, 0.48138567572778096]}, {\"categories\": [\"0\", \"1\", \"2\", \"3\", \"4\", \"5\", \"6\", \"7\", \"8\", \"9\", \"10\", \"11\", \"12\", \"13\", \"14\", \"15\", \"16\", \"17\", \"18\", \"19\", \"20\", \"21\", \"22\", \"23\", \"24\", \"25\", \"26\", \"27\", \"28\", \"29\", \"30\", \"31\", \"32\", \"33\", \"34\", \"35\", \"36\", \"37\", \"38\", \"39\", \"40\", \"41\", \"42\", \"43\", \"44\", \"45\", \"46\", \"47\", \"48\", \"50\", \"51\"], \"mode\": \"lines\", \"name\": \"f1_score_macro_max\", \"stepped\": true, \"type\": \"scatter\", \"data\": [0.7716529969862921, 0.8066550600718466, 0.8066808905422178, 0.8066808905422178, 0.8201816602565544, 0.8201816602565544, 0.8201816602565544, 0.8201816602565544, 0.8201816602565544, 0.8201816602565544, 0.8201816602565544, 0.8201816602565544, 0.8201816602565544, 0.8201816602565544, 0.8201816602565544, 0.8201816602565544, 0.8201816602565544, 0.8201816602565544, 0.8201816602565544, 0.8201816602565544, 0.8201816602565544, 0.8201816602565544, 0.8201816602565544, 0.8201816602565544, 0.8201816602565544, 0.8201816602565544, 0.8201816602565544, 0.8201816602565544, 0.8201816602565544, 0.8201816602565544, 0.8201816602565544, 0.8201816602565544, 0.8351592726937191, 0.8351592726937191, 0.8351592726937191, 0.8351592726937191, 0.8351592726937191, 0.8351592726937191, 0.8351592726937191, 0.8351592726937191, 0.8351592726937191, 0.8351592726937191, 0.8351592726937191, 0.8351592726937191, 0.8351592726937191, 0.8351592726937191, 0.8351592726937191, 0.8351592726937191, 0.8351592726937191, 0.8351592726937191, 0.8351592726937191]}], \"recall_score_weighted\": [{\"categories\": [\"0\", \"1\", \"2\", \"3\", \"4\", \"5\", \"6\", \"7\", \"8\", \"9\", \"10\", \"11\", \"12\", \"13\", \"14\", \"15\", \"16\", \"17\", \"18\", \"19\", \"20\", \"21\", \"22\", \"23\", \"24\", \"25\", \"26\", \"27\", \"28\", \"29\", \"30\", \"31\", \"32\", \"33\", \"34\", \"35\", \"36\", \"37\", \"38\", \"39\", \"40\", \"41\", \"42\", \"43\", \"44\", \"45\", \"46\", \"47\", \"48\", \"50\", \"51\"], \"mode\": \"markers\", \"name\": \"recall_score_weighted\", \"stepped\": false, \"type\": \"scatter\", \"data\": [0.803623188405797, 0.8327898550724638, 0.8326086956521739, 0.7952898550724637, 0.8409420289855072, 0.8282608695652174, 0.7990942028985507, 0.8159420289855073, 0.7869565217391303, 0.7244565217391306, 0.7952898550724637, 0.8413043478260869, 0.8117753623188406, 0.7907608695652173, 0.8117753623188406, 0.6237318840579709, 0.7615942028985507, 0.7487318840579709, 0.8076086956521739, 0.8409420289855072, 0.8076086956521739, 0.7954710144927536, 0.7949275362318841, 0.8409420289855072, 0.816304347826087, 0.8201086956521738, 0.7996376811594202, 0.8246376811594203, 0.6945652173913043, 0.8077898550724637, 0.832608695652174, 0.8284420289855072, 0.8494565217391304, 0.8451086956521738, 0.8242753623188405, 0.6695652173913043, 0.8327898550724637, 0.8202898550724637, 0.8327898550724637, 0.8369565217391305, 0.8367753623188406, 0.803623188405797, 0.7907608695652174, 0.8327898550724637, 0.8369565217391305, 0.795108695652174, 0.8327898550724637, 0.8119565217391305, 0.841123188405797, 0.8452898550724639, 0.698731884057971]}, {\"categories\": [\"0\", \"1\", \"2\", \"3\", \"4\", \"5\", \"6\", \"7\", \"8\", \"9\", \"10\", \"11\", \"12\", \"13\", \"14\", \"15\", \"16\", \"17\", \"18\", \"19\", \"20\", \"21\", \"22\", \"23\", \"24\", \"25\", \"26\", \"27\", \"28\", \"29\", \"30\", \"31\", \"32\", \"33\", \"34\", \"35\", \"36\", \"37\", \"38\", \"39\", \"40\", \"41\", \"42\", \"43\", \"44\", \"45\", \"46\", \"47\", \"48\", \"50\", \"51\"], \"mode\": \"lines\", \"name\": \"recall_score_weighted_max\", \"stepped\": true, \"type\": \"scatter\", \"data\": [0.803623188405797, 0.8327898550724638, 0.8327898550724638, 0.8327898550724638, 0.8409420289855072, 0.8409420289855072, 0.8409420289855072, 0.8409420289855072, 0.8409420289855072, 0.8409420289855072, 0.8409420289855072, 0.8413043478260869, 0.8413043478260869, 0.8413043478260869, 0.8413043478260869, 0.8413043478260869, 0.8413043478260869, 0.8413043478260869, 0.8413043478260869, 0.8413043478260869, 0.8413043478260869, 0.8413043478260869, 0.8413043478260869, 0.8413043478260869, 0.8413043478260869, 0.8413043478260869, 0.8413043478260869, 0.8413043478260869, 0.8413043478260869, 0.8413043478260869, 0.8413043478260869, 0.8413043478260869, 0.8494565217391304, 0.8494565217391304, 0.8494565217391304, 0.8494565217391304, 0.8494565217391304, 0.8494565217391304, 0.8494565217391304, 0.8494565217391304, 0.8494565217391304, 0.8494565217391304, 0.8494565217391304, 0.8494565217391304, 0.8494565217391304, 0.8494565217391304, 0.8494565217391304, 0.8494565217391304, 0.8494565217391304, 0.8494565217391304, 0.8494565217391304]}], \"f1_score_micro\": [{\"categories\": [\"0\", \"1\", \"2\", \"3\", \"4\", \"5\", \"6\", \"7\", \"8\", \"9\", \"10\", \"11\", \"12\", \"13\", \"14\", \"15\", \"16\", \"17\", \"18\", \"19\", \"20\", \"21\", \"22\", \"23\", \"24\", \"25\", \"26\", \"27\", \"28\", \"29\", \"30\", \"31\", \"32\", \"33\", \"34\", \"35\", \"36\", \"37\", \"38\", \"39\", \"40\", \"41\", \"42\", \"43\", \"44\", \"45\", \"46\", \"47\", \"48\", \"50\", \"51\"], \"mode\": \"markers\", \"name\": \"f1_score_micro\", \"stepped\": false, \"type\": \"scatter\", \"data\": [0.803623188405797, 0.8327898550724638, 0.8326086956521739, 0.7952898550724637, 0.8409420289855072, 0.8282608695652174, 0.7990942028985507, 0.8159420289855073, 0.7869565217391303, 0.7244565217391306, 0.7952898550724637, 0.8413043478260869, 0.8117753623188406, 0.7907608695652173, 0.8117753623188406, 0.6237318840579709, 0.7615942028985507, 0.7487318840579709, 0.8076086956521739, 0.8409420289855072, 0.8076086956521739, 0.7954710144927536, 0.7949275362318841, 0.8409420289855072, 0.816304347826087, 0.8201086956521738, 0.7996376811594202, 0.8246376811594203, 0.6945652173913043, 0.8077898550724637, 0.832608695652174, 0.8284420289855072, 0.8494565217391304, 0.8451086956521738, 0.8242753623188405, 0.6695652173913043, 0.8327898550724637, 0.8202898550724637, 0.8327898550724637, 0.8369565217391305, 0.8367753623188406, 0.803623188405797, 0.7907608695652174, 0.8327898550724637, 0.8369565217391305, 0.795108695652174, 0.8327898550724637, 0.8119565217391305, 0.841123188405797, 0.8452898550724639, 0.698731884057971]}, {\"categories\": [\"0\", \"1\", \"2\", \"3\", \"4\", \"5\", \"6\", \"7\", \"8\", \"9\", \"10\", \"11\", \"12\", \"13\", \"14\", \"15\", \"16\", \"17\", \"18\", \"19\", \"20\", \"21\", \"22\", \"23\", \"24\", \"25\", \"26\", \"27\", \"28\", \"29\", \"30\", \"31\", \"32\", \"33\", \"34\", \"35\", \"36\", \"37\", \"38\", \"39\", \"40\", \"41\", \"42\", \"43\", \"44\", \"45\", \"46\", \"47\", \"48\", \"50\", \"51\"], \"mode\": \"lines\", \"name\": \"f1_score_micro_max\", \"stepped\": true, \"type\": \"scatter\", \"data\": [0.803623188405797, 0.8327898550724638, 0.8327898550724638, 0.8327898550724638, 0.8409420289855072, 0.8409420289855072, 0.8409420289855072, 0.8409420289855072, 0.8409420289855072, 0.8409420289855072, 0.8409420289855072, 0.8413043478260869, 0.8413043478260869, 0.8413043478260869, 0.8413043478260869, 0.8413043478260869, 0.8413043478260869, 0.8413043478260869, 0.8413043478260869, 0.8413043478260869, 0.8413043478260869, 0.8413043478260869, 0.8413043478260869, 0.8413043478260869, 0.8413043478260869, 0.8413043478260869, 0.8413043478260869, 0.8413043478260869, 0.8413043478260869, 0.8413043478260869, 0.8413043478260869, 0.8413043478260869, 0.8494565217391304, 0.8494565217391304, 0.8494565217391304, 0.8494565217391304, 0.8494565217391304, 0.8494565217391304, 0.8494565217391304, 0.8494565217391304, 0.8494565217391304, 0.8494565217391304, 0.8494565217391304, 0.8494565217391304, 0.8494565217391304, 0.8494565217391304, 0.8494565217391304, 0.8494565217391304, 0.8494565217391304, 0.8494565217391304, 0.8494565217391304]}], \"matthews_correlation\": [{\"categories\": [\"0\", \"1\", \"2\", \"3\", \"4\", \"5\", \"6\", \"7\", \"8\", \"9\", \"10\", \"11\", \"12\", \"13\", \"14\", \"15\", \"16\", \"17\", \"18\", \"19\", \"20\", \"21\", \"22\", \"23\", \"24\", \"25\", \"26\", \"27\", \"28\", \"29\", \"30\", \"31\", \"32\", \"33\", \"34\", \"35\", \"36\", \"37\", \"38\", \"39\", \"40\", \"41\", \"42\", \"43\", \"44\", \"45\", \"46\", \"47\", \"48\", \"50\", \"51\"], \"mode\": \"markers\", \"name\": \"matthews_correlation\", \"stepped\": false, \"type\": \"scatter\", \"data\": [0.5811470680333605, 0.6424444597531219, 0.6417859354535087, 0.5275544175207993, 0.6570187247270124, 0.6129886420035635, 0.5538107172125526, 0.6010126560405598, 0.5225346946927221, 0.37193017783606275, 0.5439966898140745, 0.6581117176882272, 0.6085441900418116, 0.5312302384242724, 0.6096498839771163, 0.09891081243656913, 0.4512467140356275, 0.45674396306189796, 0.5977208599498204, 0.6507755527252388, 0.5695413627909515, 0.5556391787099513, 0.5391786988845597, 0.6436827747879307, 0.597675892917384, 0.6139392663605155, 0.5296236304437317, 0.6205323689087494, 0.19620670267001203, 0.5855058883785997, 0.6156217132878706, 0.6488397973725775, 0.691724636541632, 0.6619654490840429, 0.6389365675041694, 0.14589102242239246, 0.6302754752096195, 0.6085994070996676, 0.6335786443962867, 0.6450955169034337, 0.6317292541488493, 0.5909772142986063, 0.5354059267882665, 0.6384256208290122, 0.6673251356698257, 0.5477128495026236, 0.6365552560190142, 0.5886084165809395, 0.6458319875358993, 0.665977646646826, 0.12781288844941074]}, {\"categories\": [\"0\", \"1\", \"2\", \"3\", \"4\", \"5\", \"6\", \"7\", \"8\", \"9\", \"10\", \"11\", \"12\", \"13\", \"14\", \"15\", \"16\", \"17\", \"18\", \"19\", \"20\", \"21\", \"22\", \"23\", \"24\", \"25\", \"26\", \"27\", \"28\", \"29\", \"30\", \"31\", \"32\", \"33\", \"34\", \"35\", \"36\", \"37\", \"38\", \"39\", \"40\", \"41\", \"42\", \"43\", \"44\", \"45\", \"46\", \"47\", \"48\", \"50\", \"51\"], \"mode\": \"lines\", \"name\": \"matthews_correlation_max\", \"stepped\": true, \"type\": \"scatter\", \"data\": [0.5811470680333605, 0.6424444597531219, 0.6424444597531219, 0.6424444597531219, 0.6570187247270124, 0.6570187247270124, 0.6570187247270124, 0.6570187247270124, 0.6570187247270124, 0.6570187247270124, 0.6570187247270124, 0.6581117176882272, 0.6581117176882272, 0.6581117176882272, 0.6581117176882272, 0.6581117176882272, 0.6581117176882272, 0.6581117176882272, 0.6581117176882272, 0.6581117176882272, 0.6581117176882272, 0.6581117176882272, 0.6581117176882272, 0.6581117176882272, 0.6581117176882272, 0.6581117176882272, 0.6581117176882272, 0.6581117176882272, 0.6581117176882272, 0.6581117176882272, 0.6581117176882272, 0.6581117176882272, 0.691724636541632, 0.691724636541632, 0.691724636541632, 0.691724636541632, 0.691724636541632, 0.691724636541632, 0.691724636541632, 0.691724636541632, 0.691724636541632, 0.691724636541632, 0.691724636541632, 0.691724636541632, 0.691724636541632, 0.691724636541632, 0.691724636541632, 0.691724636541632, 0.691724636541632, 0.691724636541632, 0.691724636541632]}], \"AUC_micro\": [{\"categories\": [\"0\", \"1\", \"2\", \"3\", \"4\", \"5\", \"6\", \"7\", \"8\", \"9\", \"10\", \"11\", \"12\", \"13\", \"14\", \"15\", \"16\", \"17\", \"18\", \"19\", \"20\", \"21\", \"22\", \"23\", \"24\", \"25\", \"26\", \"27\", \"28\", \"29\", \"30\", \"31\", \"32\", \"33\", \"34\", \"35\", \"36\", \"37\", \"38\", \"39\", \"40\", \"41\", \"42\", \"43\", \"44\", \"45\", \"46\", \"47\", \"48\", \"50\", \"51\"], \"mode\": \"markers\", \"name\": \"AUC_micro\", \"stepped\": false, \"type\": \"scatter\", \"data\": [0.8869486452425962, 0.8970683023524471, 0.8979941188825876, 0.8712849191346356, 0.9027088584331023, 0.8922186777987816, 0.8843078856857802, 0.889467811384163, 0.8699885790800252, 0.7709879095778197, 0.8745411940768747, 0.8905711772736821, 0.8981139072673807, 0.8686269297416509, 0.8786694628229362, 0.670618370615417, 0.8595568157950011, 0.8298771922915356, 0.8902088584331024, 0.8992750341314849, 0.8877897894349926, 0.866578384268011, 0.8741322726318002, 0.9001854258559125, 0.8868521581600504, 0.9046494302667506, 0.8804479101029197, 0.8973305240495695, 0.8276510974585172, 0.8970374527410208, 0.884109168241966, 0.9121878938248267, 0.9071994460197438, 0.9106060307708465, 0.9127395767695863, 0.7668835985087167, 0.9005096749632431, 0.9057294948540223, 0.9142055896870405, 0.9098653119092628, 0.8412196754883429, 0.9012464555765595, 0.8644602630749842, 0.9121839555765595, 0.9110999527410207, 0.8641478287124553, 0.9098459488552827, 0.8930673703003571, 0.905941832073094, 0.918985638521319, 0.8614665380172232]}, {\"categories\": [\"0\", \"1\", \"2\", \"3\", \"4\", \"5\", \"6\", \"7\", \"8\", \"9\", \"10\", \"11\", \"12\", \"13\", \"14\", \"15\", \"16\", \"17\", \"18\", \"19\", \"20\", \"21\", \"22\", \"23\", \"24\", \"25\", \"26\", \"27\", \"28\", \"29\", \"30\", \"31\", \"32\", \"33\", \"34\", \"35\", \"36\", \"37\", \"38\", \"39\", \"40\", \"41\", \"42\", \"43\", \"44\", \"45\", \"46\", \"47\", \"48\", \"50\", \"51\"], \"mode\": \"lines\", \"name\": \"AUC_micro_max\", \"stepped\": true, \"type\": \"scatter\", \"data\": [0.8869486452425962, 0.8970683023524471, 0.8979941188825876, 0.8979941188825876, 0.9027088584331023, 0.9027088584331023, 0.9027088584331023, 0.9027088584331023, 0.9027088584331023, 0.9027088584331023, 0.9027088584331023, 0.9027088584331023, 0.9027088584331023, 0.9027088584331023, 0.9027088584331023, 0.9027088584331023, 0.9027088584331023, 0.9027088584331023, 0.9027088584331023, 0.9027088584331023, 0.9027088584331023, 0.9027088584331023, 0.9027088584331023, 0.9027088584331023, 0.9027088584331023, 0.9046494302667506, 0.9046494302667506, 0.9046494302667506, 0.9046494302667506, 0.9046494302667506, 0.9046494302667506, 0.9121878938248267, 0.9121878938248267, 0.9121878938248267, 0.9127395767695863, 0.9127395767695863, 0.9127395767695863, 0.9127395767695863, 0.9142055896870405, 0.9142055896870405, 0.9142055896870405, 0.9142055896870405, 0.9142055896870405, 0.9142055896870405, 0.9142055896870405, 0.9142055896870405, 0.9142055896870405, 0.9142055896870405, 0.9142055896870405, 0.918985638521319, 0.918985638521319]}], \"AUC_macro\": [{\"categories\": [\"0\", \"1\", \"2\", \"3\", \"4\", \"5\", \"6\", \"7\", \"8\", \"9\", \"10\", \"11\", \"12\", \"13\", \"14\", \"15\", \"16\", \"17\", \"18\", \"19\", \"20\", \"21\", \"22\", \"23\", \"24\", \"25\", \"26\", \"27\", \"28\", \"29\", \"30\", \"31\", \"32\", \"33\", \"34\", \"35\", \"36\", \"37\", \"38\", \"39\", \"40\", \"41\", \"42\", \"43\", \"44\", \"45\", \"46\", \"47\", \"48\", \"50\", \"51\"], \"mode\": \"markers\", \"name\": \"AUC_macro\", \"stepped\": false, \"type\": \"scatter\", \"data\": [0.8900892857142857, 0.8878893849206347, 0.8917030423280423, 0.8757382605820107, 0.8997718253968253, 0.885993716931217, 0.8791575727513228, 0.8880224867724869, 0.8707539682539682, 0.7183440806878307, 0.8822304894179893, 0.8853331679894179, 0.8996172288359787, 0.8509275793650793, 0.8766112764550265, 0.5875868055555555, 0.878640873015873, 0.8226579034391535, 0.8939219576719577, 0.8926322751322753, 0.8894576719576719, 0.8534135251322752, 0.8577579365079366, 0.898463955026455, 0.8813425925925926, 0.9077083333333332, 0.8816575727513227, 0.890834986772487, 0.8615848214285714, 0.8928819444444442, 0.894442791005291, 0.9205406746031747, 0.9107787698412698, 0.9128199404761904, 0.9129869378306881, 0.7447470238095238, 0.8884424603174603, 0.9031431878306879, 0.9114393187830689, 0.9090914351851851, 0.8022478505291005, 0.8981721230158731, 0.8444320436507937, 0.9077719907407408, 0.9131539351851853, 0.8668282903439154, 0.9064434523809524, 0.8875768849206349, 0.9023776455026455, 0.9240997023809523, 0.9172933201058202]}, {\"categories\": [\"0\", \"1\", \"2\", \"3\", \"4\", \"5\", \"6\", \"7\", \"8\", \"9\", \"10\", \"11\", \"12\", \"13\", \"14\", \"15\", \"16\", \"17\", \"18\", \"19\", \"20\", \"21\", \"22\", \"23\", \"24\", \"25\", \"26\", \"27\", \"28\", \"29\", \"30\", \"31\", \"32\", \"33\", \"34\", \"35\", \"36\", \"37\", \"38\", \"39\", \"40\", \"41\", \"42\", \"43\", \"44\", \"45\", \"46\", \"47\", \"48\", \"50\", \"51\"], \"mode\": \"lines\", \"name\": \"AUC_macro_max\", \"stepped\": true, \"type\": \"scatter\", \"data\": [0.8900892857142857, 0.8900892857142857, 0.8917030423280423, 0.8917030423280423, 0.8997718253968253, 0.8997718253968253, 0.8997718253968253, 0.8997718253968253, 0.8997718253968253, 0.8997718253968253, 0.8997718253968253, 0.8997718253968253, 0.8997718253968253, 0.8997718253968253, 0.8997718253968253, 0.8997718253968253, 0.8997718253968253, 0.8997718253968253, 0.8997718253968253, 0.8997718253968253, 0.8997718253968253, 0.8997718253968253, 0.8997718253968253, 0.8997718253968253, 0.8997718253968253, 0.9077083333333332, 0.9077083333333332, 0.9077083333333332, 0.9077083333333332, 0.9077083333333332, 0.9077083333333332, 0.9205406746031747, 0.9205406746031747, 0.9205406746031747, 0.9205406746031747, 0.9205406746031747, 0.9205406746031747, 0.9205406746031747, 0.9205406746031747, 0.9205406746031747, 0.9205406746031747, 0.9205406746031747, 0.9205406746031747, 0.9205406746031747, 0.9205406746031747, 0.9205406746031747, 0.9205406746031747, 0.9205406746031747, 0.9205406746031747, 0.9240997023809523, 0.9240997023809523]}], \"AUC_weighted\": [{\"categories\": [\"0\", \"1\", \"2\", \"3\", \"4\", \"5\", \"6\", \"7\", \"8\", \"9\", \"10\", \"11\", \"12\", \"13\", \"14\", \"15\", \"16\", \"17\", \"18\", \"19\", \"20\", \"21\", \"22\", \"23\", \"24\", \"25\", \"26\", \"27\", \"28\", \"29\", \"30\", \"31\", \"32\", \"33\", \"34\", \"35\", \"36\", \"37\", \"38\", \"39\", \"40\", \"41\", \"42\", \"43\", \"44\", \"45\", \"46\", \"47\", \"48\", \"50\", \"51\"], \"mode\": \"markers\", \"name\": \"AUC_weighted\", \"stepped\": false, \"type\": \"scatter\", \"data\": [0.8900892857142857, 0.887889384920635, 0.8917030423280424, 0.8757382605820107, 0.8997718253968255, 0.8859937169312169, 0.8791575727513228, 0.8880224867724869, 0.8707539682539682, 0.7183440806878306, 0.8822304894179893, 0.8853331679894179, 0.8996172288359787, 0.8509275793650793, 0.8766112764550265, 0.5875868055555555, 0.878640873015873, 0.8226579034391535, 0.8939219576719577, 0.8926322751322753, 0.8894576719576719, 0.8534135251322752, 0.8577579365079366, 0.898463955026455, 0.8813425925925926, 0.9077083333333332, 0.8816575727513227, 0.8908349867724867, 0.8615848214285714, 0.8928819444444447, 0.894442791005291, 0.9205406746031747, 0.9107787698412698, 0.9128199404761904, 0.9129869378306881, 0.7447470238095238, 0.8884424603174604, 0.9031431878306879, 0.9114393187830689, 0.9090914351851851, 0.8022478505291005, 0.8981721230158731, 0.8444320436507937, 0.9077719907407408, 0.9131539351851853, 0.8668282903439154, 0.9064434523809524, 0.8875768849206349, 0.9023776455026455, 0.9240997023809523, 0.91729332010582]}, {\"categories\": [\"0\", \"1\", \"2\", \"3\", \"4\", \"5\", \"6\", \"7\", \"8\", \"9\", \"10\", \"11\", \"12\", \"13\", \"14\", \"15\", \"16\", \"17\", \"18\", \"19\", \"20\", \"21\", \"22\", \"23\", \"24\", \"25\", \"26\", \"27\", \"28\", \"29\", \"30\", \"31\", \"32\", \"33\", \"34\", \"35\", \"36\", \"37\", \"38\", \"39\", \"40\", \"41\", \"42\", \"43\", \"44\", \"45\", \"46\", \"47\", \"48\", \"50\", \"51\"], \"mode\": \"lines\", \"name\": \"AUC_weighted_max\", \"stepped\": true, \"type\": \"scatter\", \"data\": [0.8900892857142857, 0.8900892857142857, 0.8917030423280424, 0.8917030423280424, 0.8997718253968255, 0.8997718253968255, 0.8997718253968255, 0.8997718253968255, 0.8997718253968255, 0.8997718253968255, 0.8997718253968255, 0.8997718253968255, 0.8997718253968255, 0.8997718253968255, 0.8997718253968255, 0.8997718253968255, 0.8997718253968255, 0.8997718253968255, 0.8997718253968255, 0.8997718253968255, 0.8997718253968255, 0.8997718253968255, 0.8997718253968255, 0.8997718253968255, 0.8997718253968255, 0.9077083333333332, 0.9077083333333332, 0.9077083333333332, 0.9077083333333332, 0.9077083333333332, 0.9077083333333332, 0.9205406746031747, 0.9205406746031747, 0.9205406746031747, 0.9205406746031747, 0.9205406746031747, 0.9205406746031747, 0.9205406746031747, 0.9205406746031747, 0.9205406746031747, 0.9205406746031747, 0.9205406746031747, 0.9205406746031747, 0.9205406746031747, 0.9205406746031747, 0.9205406746031747, 0.9205406746031747, 0.9205406746031747, 0.9205406746031747, 0.9240997023809523, 0.9240997023809523]}], \"log_loss\": [{\"categories\": [\"0\", \"1\", \"2\", \"3\", \"4\", \"5\", \"6\", \"7\", \"8\", \"9\", \"10\", \"11\", \"12\", \"13\", \"14\", \"15\", \"16\", \"17\", \"18\", \"19\", \"20\", \"21\", \"22\", \"23\", \"24\", \"25\", \"26\", \"27\", \"28\", \"29\", \"30\", \"31\", \"32\", \"33\", \"34\", \"35\", \"36\", \"37\", \"38\", \"39\", \"40\", \"41\", \"42\", \"43\", \"44\", \"45\", \"46\", \"47\", \"48\", \"50\", \"51\"], \"mode\": \"markers\", \"name\": \"log_loss\", \"stepped\": false, \"type\": \"scatter\", \"data\": [0.5113835461600813, 0.43916675172891606, 0.40040541644270916, 0.48479122295655436, 0.4121688176388262, 0.42485983957250256, 0.5483578781493273, 0.4300436635331203, 0.48868980655732575, 1.1099851948022064, 0.4844764100517719, 0.45189281431270995, 0.4354213549723937, 0.44315690840011496, 0.47397098957050715, 0.7364294315179739, 0.504486637793707, 0.6430384312543861, 0.5249701640795894, 0.49390392784680426, 0.41454659473246824, 0.5209401445287968, 0.5074150691237781, 0.4251026119968099, 0.42219626467785165, 0.4483371273408346, 0.46228120284133967, 0.43943119323375396, 0.5561379709255314, 0.42210720367464294, 0.48513507190234717, 0.4199724979808218, 0.46895995266456375, 0.4065335147604423, 0.4370639905691691, 0.579373164138806, 0.40562467479115616, 0.38561882206731296, 0.3743459806010905, 0.3844639675706834, 0.48374425005428534, 0.5548024545232144, 0.4661259225096364, 0.37258628173321806, 0.4750572361085741, 0.5523561539495146, 0.3781002115132347, 0.40900972284214737, 0.3811216585028045, 0.4224682484723223, 0.5886925654043005]}, {\"categories\": [\"0\", \"1\", \"2\", \"3\", \"4\", \"5\", \"6\", \"7\", \"8\", \"9\", \"10\", \"11\", \"12\", \"13\", \"14\", \"15\", \"16\", \"17\", \"18\", \"19\", \"20\", \"21\", \"22\", \"23\", \"24\", \"25\", \"26\", \"27\", \"28\", \"29\", \"30\", \"31\", \"32\", \"33\", \"34\", \"35\", \"36\", \"37\", \"38\", \"39\", \"40\", \"41\", \"42\", \"43\", \"44\", \"45\", \"46\", \"47\", \"48\", \"50\", \"51\"], \"mode\": \"lines\", \"name\": \"log_loss_min\", \"stepped\": true, \"type\": \"scatter\", \"data\": [0.5113835461600813, 0.43916675172891606, 0.40040541644270916, 0.40040541644270916, 0.40040541644270916, 0.40040541644270916, 0.40040541644270916, 0.40040541644270916, 0.40040541644270916, 0.40040541644270916, 0.40040541644270916, 0.40040541644270916, 0.40040541644270916, 0.40040541644270916, 0.40040541644270916, 0.40040541644270916, 0.40040541644270916, 0.40040541644270916, 0.40040541644270916, 0.40040541644270916, 0.40040541644270916, 0.40040541644270916, 0.40040541644270916, 0.40040541644270916, 0.40040541644270916, 0.40040541644270916, 0.40040541644270916, 0.40040541644270916, 0.40040541644270916, 0.40040541644270916, 0.40040541644270916, 0.40040541644270916, 0.40040541644270916, 0.40040541644270916, 0.40040541644270916, 0.40040541644270916, 0.40040541644270916, 0.38561882206731296, 0.3743459806010905, 0.3743459806010905, 0.3743459806010905, 0.3743459806010905, 0.3743459806010905, 0.37258628173321806, 0.37258628173321806, 0.37258628173321806, 0.37258628173321806, 0.37258628173321806, 0.37258628173321806, 0.37258628173321806, 0.37258628173321806]}], \"accuracy\": [{\"categories\": [\"0\", \"1\", \"2\", \"3\", \"4\", \"5\", \"6\", \"7\", \"8\", \"9\", \"10\", \"11\", \"12\", \"13\", \"14\", \"15\", \"16\", \"17\", \"18\", \"19\", \"20\", \"21\", \"22\", \"23\", \"24\", \"25\", \"26\", \"27\", \"28\", \"29\", \"30\", \"31\", \"32\", \"33\", \"34\", \"35\", \"36\", \"37\", \"38\", \"39\", \"40\", \"41\", \"42\", \"43\", \"44\", \"45\", \"46\", \"47\", \"48\", \"50\", \"51\"], \"mode\": \"markers\", \"name\": \"accuracy\", \"stepped\": false, \"type\": \"scatter\", \"data\": [0.803623188405797, 0.8327898550724638, 0.8326086956521739, 0.7952898550724637, 0.8409420289855072, 0.8282608695652174, 0.7990942028985507, 0.8159420289855073, 0.7869565217391303, 0.7244565217391306, 0.7952898550724637, 0.8413043478260869, 0.8117753623188406, 0.7907608695652173, 0.8117753623188406, 0.6237318840579709, 0.7615942028985507, 0.7487318840579709, 0.8076086956521739, 0.8409420289855072, 0.8076086956521739, 0.7954710144927536, 0.7949275362318841, 0.8409420289855072, 0.816304347826087, 0.8201086956521738, 0.7996376811594202, 0.8246376811594203, 0.6945652173913043, 0.8077898550724637, 0.832608695652174, 0.8284420289855072, 0.8494565217391304, 0.8451086956521738, 0.8242753623188405, 0.6695652173913043, 0.8327898550724637, 0.8202898550724637, 0.8327898550724637, 0.8369565217391305, 0.8367753623188406, 0.803623188405797, 0.7907608695652174, 0.8327898550724637, 0.8369565217391305, 0.795108695652174, 0.8327898550724637, 0.8119565217391305, 0.841123188405797, 0.8452898550724639, 0.698731884057971]}, {\"categories\": [\"0\", \"1\", \"2\", \"3\", \"4\", \"5\", \"6\", \"7\", \"8\", \"9\", \"10\", \"11\", \"12\", \"13\", \"14\", \"15\", \"16\", \"17\", \"18\", \"19\", \"20\", \"21\", \"22\", \"23\", \"24\", \"25\", \"26\", \"27\", \"28\", \"29\", \"30\", \"31\", \"32\", \"33\", \"34\", \"35\", \"36\", \"37\", \"38\", \"39\", \"40\", \"41\", \"42\", \"43\", \"44\", \"45\", \"46\", \"47\", \"48\", \"50\", \"51\"], \"mode\": \"lines\", \"name\": \"accuracy_max\", \"stepped\": true, \"type\": \"scatter\", \"data\": [0.803623188405797, 0.8327898550724638, 0.8327898550724638, 0.8327898550724638, 0.8409420289855072, 0.8409420289855072, 0.8409420289855072, 0.8409420289855072, 0.8409420289855072, 0.8409420289855072, 0.8409420289855072, 0.8413043478260869, 0.8413043478260869, 0.8413043478260869, 0.8413043478260869, 0.8413043478260869, 0.8413043478260869, 0.8413043478260869, 0.8413043478260869, 0.8413043478260869, 0.8413043478260869, 0.8413043478260869, 0.8413043478260869, 0.8413043478260869, 0.8413043478260869, 0.8413043478260869, 0.8413043478260869, 0.8413043478260869, 0.8413043478260869, 0.8413043478260869, 0.8413043478260869, 0.8413043478260869, 0.8494565217391304, 0.8494565217391304, 0.8494565217391304, 0.8494565217391304, 0.8494565217391304, 0.8494565217391304, 0.8494565217391304, 0.8494565217391304, 0.8494565217391304, 0.8494565217391304, 0.8494565217391304, 0.8494565217391304, 0.8494565217391304, 0.8494565217391304, 0.8494565217391304, 0.8494565217391304, 0.8494565217391304, 0.8494565217391304, 0.8494565217391304]}], \"average_precision_score_macro\": [{\"categories\": [\"0\", \"1\", \"2\", \"3\", \"4\", \"5\", \"6\", \"7\", \"8\", \"9\", \"10\", \"11\", \"12\", \"13\", \"14\", \"15\", \"16\", \"17\", \"18\", \"19\", \"20\", \"21\", \"22\", \"23\", \"24\", \"25\", \"26\", \"27\", \"28\", \"29\", \"30\", \"31\", \"32\", \"33\", \"34\", \"35\", \"36\", \"37\", \"38\", \"39\", \"40\", \"41\", \"42\", \"43\", \"44\", \"45\", \"46\", \"47\", \"48\", \"50\", \"51\"], \"mode\": \"markers\", \"name\": \"average_precision_score_macro\", \"stepped\": false, \"type\": \"scatter\", \"data\": [0.8734810462911631, 0.8810761649352858, 0.8860281944458268, 0.8783561566072093, 0.8937261522342853, 0.8826064095055715, 0.8638540490601659, 0.8838729868142966, 0.8682280731584981, 0.7454483439021045, 0.8869431319473271, 0.8845779434889796, 0.8948011302809128, 0.8491153590673527, 0.8619270870406461, 0.6303247521818182, 0.8694894521718632, 0.8243396730980687, 0.8822656858669153, 0.8877463769846772, 0.878938201126628, 0.8513839028528872, 0.8623217435693655, 0.8907608090898778, 0.8709643629458693, 0.905068264996841, 0.874609793140889, 0.8922628323193076, 0.865637216942854, 0.8845915672650142, 0.891315508386563, 0.9181627759754937, 0.9085196164389092, 0.9095098726839492, 0.9098669759437961, 0.7523518279340141, 0.8829610527904077, 0.8909359676512609, 0.901344190767013, 0.8983169987862064, 0.7689272654709243, 0.8989281838396046, 0.8447728244657075, 0.9008079080934674, 0.9086364671804598, 0.8671099789058196, 0.8968716172122584, 0.8869468263788443, 0.888327625919857, 0.9196020924460602, 0.9136082558453202]}, {\"categories\": [\"0\", \"1\", \"2\", \"3\", \"4\", \"5\", \"6\", \"7\", \"8\", \"9\", \"10\", \"11\", \"12\", \"13\", \"14\", \"15\", \"16\", \"17\", \"18\", \"19\", \"20\", \"21\", \"22\", \"23\", \"24\", \"25\", \"26\", \"27\", \"28\", \"29\", \"30\", \"31\", \"32\", \"33\", \"34\", \"35\", \"36\", \"37\", \"38\", \"39\", \"40\", \"41\", \"42\", \"43\", \"44\", \"45\", \"46\", \"47\", \"48\", \"50\", \"51\"], \"mode\": \"lines\", \"name\": \"average_precision_score_macro_max\", \"stepped\": true, \"type\": \"scatter\", \"data\": [0.8734810462911631, 0.8810761649352858, 0.8860281944458268, 0.8860281944458268, 0.8937261522342853, 0.8937261522342853, 0.8937261522342853, 0.8937261522342853, 0.8937261522342853, 0.8937261522342853, 0.8937261522342853, 0.8937261522342853, 0.8948011302809128, 0.8948011302809128, 0.8948011302809128, 0.8948011302809128, 0.8948011302809128, 0.8948011302809128, 0.8948011302809128, 0.8948011302809128, 0.8948011302809128, 0.8948011302809128, 0.8948011302809128, 0.8948011302809128, 0.8948011302809128, 0.905068264996841, 0.905068264996841, 0.905068264996841, 0.905068264996841, 0.905068264996841, 0.905068264996841, 0.9181627759754937, 0.9181627759754937, 0.9181627759754937, 0.9181627759754937, 0.9181627759754937, 0.9181627759754937, 0.9181627759754937, 0.9181627759754937, 0.9181627759754937, 0.9181627759754937, 0.9181627759754937, 0.9181627759754937, 0.9181627759754937, 0.9181627759754937, 0.9181627759754937, 0.9181627759754937, 0.9181627759754937, 0.9181627759754937, 0.9196020924460602, 0.9196020924460602]}]}, \"metricName\": null, \"primaryMetricName\": \"AUC_weighted\", \"showLegend\": false}, \"run_metrics\": [{\"name\": \"experiment_status\", \"run_id\": \"AutoML_9ada242b-ac34-4949-b9c0-17dfc5c52f98\", \"categories\": [0, 1, 2, 3, 4, 5, 6, 7, 8, 9, 10, 11, 12, 13], \"series\": [{\"data\": [\"DatasetEvaluation\", \"FeaturesGeneration\", \"DatasetFeaturization\", \"DatasetFeaturizationCompleted\", \"DatasetCrossValidationSplit\", \"ModelSelection\", \"BestRunExplainModel\", \"ModelExplanationDataSetSetup\", \"PickSurrogateModel\", \"EngineeredFeatureExplanations\", \"EngineeredFeatureExplanations\", \"RawFeaturesExplanations\", \"RawFeaturesExplanations\", \"BestRunExplainModel\"]}]}, {\"name\": \"experiment_status_description\", \"run_id\": \"AutoML_9ada242b-ac34-4949-b9c0-17dfc5c52f98\", \"categories\": [0, 1, 2, 3, 4, 5, 6, 7, 8, 9, 10, 11, 12, 13], \"series\": [{\"data\": [\"Gathering dataset statistics.\", \"Generating features for the dataset.\", \"Beginning to fit featurizers and featurize the dataset.\", \"Completed fit featurizers and featurizing the dataset.\", \"Generating individually featurized CV splits.\", \"Beginning model selection.\", \"Best run model explanations started\", \"Model explanations data setup completed\", \"Choosing LightGBM as the surrogate model for explanations\", \"Computation of engineered features started\", \"Computation of engineered features completed\", \"Computation of raw features started\", \"Computation of raw features completed\", \"Best run model explanations completed\"]}]}, {\"name\": \"f1_score_micro\", \"run_id\": \"AutoML_9ada242b-ac34-4949-b9c0-17dfc5c52f98\", \"categories\": [0], \"series\": [{\"data\": [0.8452898550724639]}]}, {\"name\": \"AUC_weighted\", \"run_id\": \"AutoML_9ada242b-ac34-4949-b9c0-17dfc5c52f98\", \"categories\": [0], \"series\": [{\"data\": [0.9240997023809523]}]}, {\"name\": \"weighted_accuracy\", \"run_id\": \"AutoML_9ada242b-ac34-4949-b9c0-17dfc5c52f98\", \"categories\": [0], \"series\": [{\"data\": [0.858822443465645]}]}, {\"name\": \"average_precision_score_micro\", \"run_id\": \"AutoML_9ada242b-ac34-4949-b9c0-17dfc5c52f98\", \"categories\": [0], \"series\": [{\"data\": [0.9247148308846344]}]}, {\"name\": \"precision_score_micro\", \"run_id\": \"AutoML_9ada242b-ac34-4949-b9c0-17dfc5c52f98\", \"categories\": [0], \"series\": [{\"data\": [0.8452898550724639]}]}, {\"name\": \"precision_score_macro\", \"run_id\": \"AutoML_9ada242b-ac34-4949-b9c0-17dfc5c52f98\", \"categories\": [0], \"series\": [{\"data\": [0.8420850840336135]}]}, {\"name\": \"recall_score_micro\", \"run_id\": \"AutoML_9ada242b-ac34-4949-b9c0-17dfc5c52f98\", \"categories\": [0], \"series\": [{\"data\": [0.8452898550724639]}]}, {\"name\": \"log_loss\", \"run_id\": \"AutoML_9ada242b-ac34-4949-b9c0-17dfc5c52f98\", \"categories\": [0], \"series\": [{\"data\": [0.4224682484723223]}]}, {\"name\": \"average_precision_score_weighted\", \"run_id\": \"AutoML_9ada242b-ac34-4949-b9c0-17dfc5c52f98\", \"categories\": [0], \"series\": [{\"data\": [0.9364458434636749]}]}, {\"name\": \"AUC_macro\", \"run_id\": \"AutoML_9ada242b-ac34-4949-b9c0-17dfc5c52f98\", \"categories\": [0], \"series\": [{\"data\": [0.9240997023809523]}]}, {\"name\": \"AUC_micro\", \"run_id\": \"AutoML_9ada242b-ac34-4949-b9c0-17dfc5c52f98\", \"categories\": [0], \"series\": [{\"data\": [0.918985638521319]}]}, {\"name\": \"f1_score_weighted\", \"run_id\": \"AutoML_9ada242b-ac34-4949-b9c0-17dfc5c52f98\", \"categories\": [0], \"series\": [{\"data\": [0.8442636322307244]}]}, {\"name\": \"average_precision_score_macro\", \"run_id\": \"AutoML_9ada242b-ac34-4949-b9c0-17dfc5c52f98\", \"categories\": [0], \"series\": [{\"data\": [0.9196020924460602]}]}, {\"name\": \"recall_score_macro\", \"run_id\": \"AutoML_9ada242b-ac34-4949-b9c0-17dfc5c52f98\", \"categories\": [0], \"series\": [{\"data\": [0.8272023809523809]}]}, {\"name\": \"balanced_accuracy\", \"run_id\": \"AutoML_9ada242b-ac34-4949-b9c0-17dfc5c52f98\", \"categories\": [0], \"series\": [{\"data\": [0.8272023809523809]}]}, {\"name\": \"recall_score_weighted\", \"run_id\": \"AutoML_9ada242b-ac34-4949-b9c0-17dfc5c52f98\", \"categories\": [0], \"series\": [{\"data\": [0.8452898550724639]}]}, {\"name\": \"norm_macro_recall\", \"run_id\": \"AutoML_9ada242b-ac34-4949-b9c0-17dfc5c52f98\", \"categories\": [0], \"series\": [{\"data\": [0.6544047619047619]}]}, {\"name\": \"accuracy\", \"run_id\": \"AutoML_9ada242b-ac34-4949-b9c0-17dfc5c52f98\", \"categories\": [0], \"series\": [{\"data\": [0.8452898550724639]}]}, {\"name\": \"precision_score_weighted\", \"run_id\": \"AutoML_9ada242b-ac34-4949-b9c0-17dfc5c52f98\", \"categories\": [0], \"series\": [{\"data\": [0.8593381401473632]}]}, {\"name\": \"matthews_correlation\", \"run_id\": \"AutoML_9ada242b-ac34-4949-b9c0-17dfc5c52f98\", \"categories\": [0], \"series\": [{\"data\": [0.665977646646826]}]}, {\"name\": \"f1_score_macro\", \"run_id\": \"AutoML_9ada242b-ac34-4949-b9c0-17dfc5c52f98\", \"categories\": [0], \"series\": [{\"data\": [0.8233691716624658]}]}], \"run_logs\": \"\\nRun is completed.\", \"graph\": {}, \"widget_settings\": {\"childWidgetDisplay\": \"popup\", \"send_telemetry\": false, \"log_level\": \"INFO\", \"sdk_version\": \"1.19.0\"}, \"loading\": false}"
          },
          "metadata": {}
        }
      ],
      "execution_count": 41,
      "metadata": {
        "collapsed": true,
        "jupyter": {
          "source_hidden": false,
          "outputs_hidden": false
        },
        "nteract": {
          "transient": {
            "deleting": false
          }
        },
        "gather": {
          "logged": 1609129393359
        }
      }
    },
    {
      "cell_type": "markdown",
      "source": [
        "## Run Details\n",
        "\n",
        "OPTIONAL: Write about the different models trained and their performance. Why do you think some models did better than others?\n",
        "\n",
        "TODO: In the cell below, use the `RunDetails` widget to show the different experiments."
      ],
      "metadata": {}
    },
    {
      "cell_type": "code",
      "source": [
        "# pipeline_run = experiment.submit(pipeline, show_output=True)\n",
        "remote_run.wait_for_completion(show_output=True)"
      ],
      "outputs": [
        {
          "output_type": "stream",
          "name": "stdout",
          "text": [
            "\n",
            "\n",
            "****************************************************************************************************\n",
            "DATA GUARDRAILS: \n",
            "\n",
            "TYPE:         Cross validation\n",
            "STATUS:       DONE\n",
            "DESCRIPTION:  Each iteration of the trained model was validated through cross-validation.\n",
            "              \n",
            "DETAILS:      \n",
            "+---------------------------------+\n",
            "|Number of folds                  |\n",
            "+=================================+\n",
            "|10                               |\n",
            "+---------------------------------+\n",
            "\n",
            "****************************************************************************************************\n",
            "\n",
            "TYPE:         Class balancing detection\n",
            "STATUS:       PASSED\n",
            "DESCRIPTION:  Your inputs were analyzed, and all classes are balanced in your training data.\n",
            "              Learn more about imbalanced data: https://aka.ms/AutomatedMLImbalancedData\n",
            "\n",
            "****************************************************************************************************\n",
            "\n",
            "TYPE:         Missing feature values imputation\n",
            "STATUS:       PASSED\n",
            "DESCRIPTION:  No feature missing values were detected in the training data.\n",
            "              Learn more about missing value imputation: https://aka.ms/AutomatedMLFeaturization\n",
            "\n",
            "****************************************************************************************************\n",
            "\n",
            "TYPE:         High cardinality feature detection\n",
            "STATUS:       PASSED\n",
            "DESCRIPTION:  Your inputs were analyzed, and no high cardinality features were detected.\n",
            "              Learn more about high cardinality feature handling: https://aka.ms/AutomatedMLFeaturization\n",
            "\n",
            "****************************************************************************************************\n",
            "\n",
            "****************************************************************************************************\n",
            "ITERATION: The iteration being evaluated.\n",
            "PIPELINE: A summary description of the pipeline being evaluated.\n",
            "DURATION: Time taken for the current iteration.\n",
            "METRIC: The result of computing score on the fitted pipeline.\n",
            "BEST: The best observed score thus far.\n",
            "****************************************************************************************************\n",
            "\n",
            " ITERATION   PIPELINE                                       DURATION      METRIC      BEST\n",
            "         0   MaxAbsScaler LightGBM                          0:01:03       0.8901    0.8901\n",
            "         1   MaxAbsScaler XGBoostClassifier                 0:01:02       0.8879    0.8901\n",
            "         2   MinMaxScaler RandomForest                      0:01:05       0.8917    0.8917\n",
            "         3   RobustScaler ExtremeRandomTrees                0:01:09       0.8757    0.8917\n",
            "         4   MinMaxScaler RandomForest                      0:01:00       0.8998    0.8998\n",
            "         5   MinMaxScaler RandomForest                      0:01:07       0.8860    0.8998\n",
            "         6   StandardScalerWrapper RandomForest             0:01:06       0.8792    0.8998\n",
            "         7   MinMaxScaler ExtremeRandomTrees                0:00:59       0.8880    0.8998\n",
            "         8   MinMaxScaler ExtremeRandomTrees                0:01:04       0.8708    0.8998\n",
            "         9   SparseNormalizer KNN                           0:01:51       0.7183    0.8998\n",
            "        10   MinMaxScaler ExtremeRandomTrees                0:01:06       0.8822    0.8998\n",
            "        11   RobustScaler ExtremeRandomTrees                0:01:09       0.8853    0.8998\n",
            "        12   StandardScalerWrapper RandomForest             0:01:06       0.8996    0.8998\n",
            "        13   StandardScalerWrapper SGD                      0:00:58       0.8509    0.8998\n",
            "        14   RobustScaler RandomForest                      0:01:09       0.8766    0.8998\n",
            "        15   StandardScalerWrapper KNN                      0:01:10       0.5876    0.8998\n",
            "        16   MinMaxScaler RandomForest                      0:00:59       0.8786    0.8998\n",
            "        17   MinMaxScaler ExtremeRandomTrees                0:01:09       0.8227    0.8998\n",
            "        18   MaxAbsScaler RandomForest                      0:01:02       0.8939    0.8998\n",
            "        19   StandardScalerWrapper XGBoostClassifier        0:01:12       0.8926    0.8998\n",
            "        20   MaxAbsScaler RandomForest                      0:01:23       0.8895    0.8998\n",
            "        21   MaxAbsScaler ExtremeRandomTrees                0:01:19       0.8534    0.8998\n",
            "        22   MaxAbsScaler ExtremeRandomTrees                0:01:07       0.8578    0.8998\n",
            "        23   StandardScalerWrapper XGBoostClassifier        0:00:58       0.8985    0.8998\n",
            "        24   MinMaxScaler ExtremeRandomTrees                0:01:11       0.8813    0.8998\n",
            "        25   MinMaxScaler RandomForest                      0:01:04       0.9077    0.9077\n",
            "        26   MaxAbsScaler RandomForest                      0:01:53       0.8817    0.9077\n",
            "        27   MaxAbsScaler ExtremeRandomTrees                0:01:56       0.8908    0.9077\n",
            "        28   StandardScalerWrapper LightGBM                 0:01:04       0.8616    0.9077\n",
            "        29   StandardScalerWrapper XGBoostClassifier        0:01:15       0.8929    0.9077\n",
            "        30   StandardScalerWrapper RandomForest             0:01:14       0.8944    0.9077\n",
            "        31   RobustScaler RandomForest                      0:01:14       0.9205    0.9205\n",
            "        32   MinMaxScaler RandomForest                      0:01:27       0.9108    0.9205\n",
            "        33   StandardScalerWrapper RandomForest             0:01:23       0.9128    0.9205\n",
            "        34   MinMaxScaler RandomForest                      0:01:26       0.9130    0.9205\n",
            "        35   TruncatedSVDWrapper RandomForest               0:01:04       0.7447    0.9205\n",
            "        36   MaxAbsScaler LightGBM                          0:01:09       0.8884    0.9205\n",
            "        37   StandardScalerWrapper LightGBM                 0:01:07       0.9031    0.9205\n",
            "        38   RobustScaler LightGBM                          0:01:04       0.9114    0.9205\n",
            "        39   StandardScalerWrapper LightGBM                 0:01:03       0.9091    0.9205\n",
            "        40   StandardScalerWrapper RandomForest             0:01:39       0.8022    0.9205\n",
            "        41   MinMaxScaler RandomForest                      0:01:37       0.8982    0.9205\n",
            "        42   StandardScalerWrapper LogisticRegression       0:01:02       0.8444    0.9205\n",
            "        43   StandardScalerWrapper GradientBoosting         0:01:06       0.9078    0.9205\n",
            "        44   MinMaxScaler RandomForest                      0:01:03       0.9132    0.9205\n",
            "        45   RobustScaler RandomForest                      0:01:06       0.8668    0.9205\n",
            "        46   MinMaxScaler GradientBoosting                  0:01:05       0.9064    0.9205\n",
            "        47   StandardScalerWrapper LightGBM                 0:00:51       0.8876    0.9205\n",
            "        48   RobustScaler LightGBM                          0:00:48       0.9024    0.9205\n",
            "        49                                                  0:00:41          nan    0.9205\n",
            "        50    VotingEnsemble                                0:02:48       0.9241    0.9241\n",
            "        51    StackEnsemble                                 0:02:53       0.9173    0.9241\n"
          ]
        },
        {
          "output_type": "execute_result",
          "execution_count": 42,
          "data": {
            "text/plain": "{'runId': 'AutoML_9ada242b-ac34-4949-b9c0-17dfc5c52f98',\n 'target': 'notebook132112',\n 'status': 'Completed',\n 'startTimeUtc': '2020-12-28T04:00:13.344543Z',\n 'endTimeUtc': '2020-12-28T04:23:02.664759Z',\n 'properties': {'num_iterations': '1000',\n  'training_type': 'TrainFull',\n  'acquisition_function': 'EI',\n  'primary_metric': 'AUC_weighted',\n  'train_split': '0',\n  'acquisition_parameter': '0',\n  'num_cross_validation': None,\n  'target': 'notebook132112',\n  'AMLSettingsJsonString': '{\"path\":null,\"name\":\"ml-experiment-1\",\"subscription_id\":\"a24a24d5-8d87-4c8a-99b6-91ed2d2df51f\",\"resource_group\":\"aml-quickstarts-132112\",\"workspace_name\":\"quick-starts-ws-132112\",\"region\":\"southcentralus\",\"compute_target\":\"notebook132112\",\"spark_service\":null,\"azure_service\":\"remote\",\"many_models\":false,\"pipeline_fetch_max_batch_size\":1,\"iterations\":1000,\"primary_metric\":\"AUC_weighted\",\"task_type\":\"classification\",\"data_script\":null,\"validation_size\":0.0,\"n_cross_validations\":null,\"y_min\":null,\"y_max\":null,\"num_classes\":null,\"featurization\":\"auto\",\"_ignore_package_version_incompatibilities\":false,\"is_timeseries\":false,\"max_cores_per_iteration\":1,\"max_concurrent_iterations\":5,\"iteration_timeout_minutes\":null,\"mem_in_mb\":null,\"enforce_time_on_windows\":false,\"experiment_timeout_minutes\":20,\"experiment_exit_score\":null,\"whitelist_models\":null,\"blacklist_algos\":[\"TensorFlowLinearClassifier\",\"TensorFlowDNN\"],\"supported_models\":[\"BernoulliNaiveBayes\",\"SVM\",\"LinearSVM\",\"LogisticRegression\",\"AveragedPerceptronClassifier\",\"SGD\",\"TensorFlowDNN\",\"LightGBM\",\"ExtremeRandomTrees\",\"MultinomialNaiveBayes\",\"KNN\",\"DecisionTree\",\"RandomForest\",\"GradientBoosting\",\"XGBoostClassifier\",\"TensorFlowLinearClassifier\"],\"auto_blacklist\":true,\"blacklist_samples_reached\":false,\"exclude_nan_labels\":true,\"verbosity\":20,\"_debug_log\":\"azureml_automl.log\",\"show_warnings\":false,\"model_explainability\":true,\"service_url\":null,\"sdk_url\":null,\"sdk_packages\":null,\"enable_onnx_compatible_models\":false,\"enable_split_onnx_featurizer_estimator_models\":false,\"vm_type\":\"STANDARD_DS3_V2\",\"telemetry_verbosity\":20,\"send_telemetry\":true,\"enable_dnn\":false,\"scenario\":\"SDK-1.13.0\",\"environment_label\":null,\"force_text_dnn\":false,\"enable_feature_sweeping\":true,\"enable_early_stopping\":true,\"early_stopping_n_iters\":10,\"metrics\":null,\"enable_ensembling\":true,\"enable_stack_ensembling\":true,\"ensemble_iterations\":15,\"enable_tf\":false,\"enable_subsampling\":null,\"subsample_seed\":null,\"enable_nimbusml\":false,\"enable_streaming\":false,\"force_streaming\":false,\"track_child_runs\":true,\"allowed_private_models\":[],\"label_column_name\":\"DEATH_EVENT\",\"weight_column_name\":null,\"cv_split_column_names\":null,\"enable_local_managed\":false,\"_local_managed_run_id\":null,\"cost_mode\":1,\"lag_length\":0,\"metric_operation\":\"maximize\",\"preprocess\":true}',\n  'DataPrepJsonString': '{\\\\\"training_data\\\\\": \\\\\"{\\\\\\\\\\\\\"blocks\\\\\\\\\\\\\": [{\\\\\\\\\\\\\"id\\\\\\\\\\\\\": \\\\\\\\\\\\\"a2bc1785-e28e-46d5-978e-5c8dd0f4b5eb\\\\\\\\\\\\\", \\\\\\\\\\\\\"type\\\\\\\\\\\\\": \\\\\\\\\\\\\"Microsoft.DPrep.GetDatastoreFilesBlock\\\\\\\\\\\\\", \\\\\\\\\\\\\"arguments\\\\\\\\\\\\\": {\\\\\\\\\\\\\"datastores\\\\\\\\\\\\\": [{\\\\\\\\\\\\\"datastoreName\\\\\\\\\\\\\": \\\\\\\\\\\\\"workspaceblobstore\\\\\\\\\\\\\", \\\\\\\\\\\\\"path\\\\\\\\\\\\\": \\\\\\\\\\\\\"udacity-project/train_data.csv\\\\\\\\\\\\\", \\\\\\\\\\\\\"resourceGroup\\\\\\\\\\\\\": \\\\\\\\\\\\\"aml-quickstarts-132112\\\\\\\\\\\\\", \\\\\\\\\\\\\"subscription\\\\\\\\\\\\\": \\\\\\\\\\\\\"a24a24d5-8d87-4c8a-99b6-91ed2d2df51f\\\\\\\\\\\\\", \\\\\\\\\\\\\"workspaceName\\\\\\\\\\\\\": \\\\\\\\\\\\\"quick-starts-ws-132112\\\\\\\\\\\\\"}]}, \\\\\\\\\\\\\"localData\\\\\\\\\\\\\": {}, \\\\\\\\\\\\\"isEnabled\\\\\\\\\\\\\": true, \\\\\\\\\\\\\"name\\\\\\\\\\\\\": null, \\\\\\\\\\\\\"annotation\\\\\\\\\\\\\": null}, {\\\\\\\\\\\\\"id\\\\\\\\\\\\\": \\\\\\\\\\\\\"0872b2ce-8554-4a0e-8e66-d9db298927de\\\\\\\\\\\\\", \\\\\\\\\\\\\"type\\\\\\\\\\\\\": \\\\\\\\\\\\\"Microsoft.DPrep.ParseDelimitedBlock\\\\\\\\\\\\\", \\\\\\\\\\\\\"arguments\\\\\\\\\\\\\": {\\\\\\\\\\\\\"columnHeadersMode\\\\\\\\\\\\\": 3, \\\\\\\\\\\\\"fileEncoding\\\\\\\\\\\\\": 0, \\\\\\\\\\\\\"handleQuotedLineBreaks\\\\\\\\\\\\\": false, \\\\\\\\\\\\\"preview\\\\\\\\\\\\\": false, \\\\\\\\\\\\\"separator\\\\\\\\\\\\\": \\\\\\\\\\\\\",\\\\\\\\\\\\\", \\\\\\\\\\\\\"skipRows\\\\\\\\\\\\\": 0, \\\\\\\\\\\\\"skipRowsMode\\\\\\\\\\\\\": 0}, \\\\\\\\\\\\\"localData\\\\\\\\\\\\\": {}, \\\\\\\\\\\\\"isEnabled\\\\\\\\\\\\\": true, \\\\\\\\\\\\\"name\\\\\\\\\\\\\": null, \\\\\\\\\\\\\"annotation\\\\\\\\\\\\\": null}, {\\\\\\\\\\\\\"id\\\\\\\\\\\\\": \\\\\\\\\\\\\"8c3a13d7-3a81-4e9c-858d-6a0debba3fda\\\\\\\\\\\\\", \\\\\\\\\\\\\"type\\\\\\\\\\\\\": \\\\\\\\\\\\\"Microsoft.DPrep.DropColumnsBlock\\\\\\\\\\\\\", \\\\\\\\\\\\\"arguments\\\\\\\\\\\\\": {\\\\\\\\\\\\\"columns\\\\\\\\\\\\\": {\\\\\\\\\\\\\"type\\\\\\\\\\\\\": 0, \\\\\\\\\\\\\"details\\\\\\\\\\\\\": {\\\\\\\\\\\\\"selectedColumns\\\\\\\\\\\\\": [\\\\\\\\\\\\\"Path\\\\\\\\\\\\\"]}}}, \\\\\\\\\\\\\"localData\\\\\\\\\\\\\": {}, \\\\\\\\\\\\\"isEnabled\\\\\\\\\\\\\": true, \\\\\\\\\\\\\"name\\\\\\\\\\\\\": null, \\\\\\\\\\\\\"annotation\\\\\\\\\\\\\": null}, {\\\\\\\\\\\\\"id\\\\\\\\\\\\\": \\\\\\\\\\\\\"f5bc412f-dc90-41bd-a2fe-a211aed675db\\\\\\\\\\\\\", \\\\\\\\\\\\\"type\\\\\\\\\\\\\": \\\\\\\\\\\\\"Microsoft.DPrep.SetColumnTypesBlock\\\\\\\\\\\\\", \\\\\\\\\\\\\"arguments\\\\\\\\\\\\\": {\\\\\\\\\\\\\"columnConversion\\\\\\\\\\\\\": [{\\\\\\\\\\\\\"column\\\\\\\\\\\\\": {\\\\\\\\\\\\\"type\\\\\\\\\\\\\": 2, \\\\\\\\\\\\\"details\\\\\\\\\\\\\": {\\\\\\\\\\\\\"selectedColumn\\\\\\\\\\\\\": \\\\\\\\\\\\\"age\\\\\\\\\\\\\"}}, \\\\\\\\\\\\\"typeProperty\\\\\\\\\\\\\": 3}, {\\\\\\\\\\\\\"column\\\\\\\\\\\\\": {\\\\\\\\\\\\\"type\\\\\\\\\\\\\": 2, \\\\\\\\\\\\\"details\\\\\\\\\\\\\": {\\\\\\\\\\\\\"selectedColumn\\\\\\\\\\\\\": \\\\\\\\\\\\\"anaemia\\\\\\\\\\\\\"}}, \\\\\\\\\\\\\"typeProperty\\\\\\\\\\\\\": 2}, {\\\\\\\\\\\\\"column\\\\\\\\\\\\\": {\\\\\\\\\\\\\"type\\\\\\\\\\\\\": 2, \\\\\\\\\\\\\"details\\\\\\\\\\\\\": {\\\\\\\\\\\\\"selectedColumn\\\\\\\\\\\\\": \\\\\\\\\\\\\"creatinine_phosphokinase\\\\\\\\\\\\\"}}, \\\\\\\\\\\\\"typeProperty\\\\\\\\\\\\\": 2}, {\\\\\\\\\\\\\"column\\\\\\\\\\\\\": {\\\\\\\\\\\\\"type\\\\\\\\\\\\\": 2, \\\\\\\\\\\\\"details\\\\\\\\\\\\\": {\\\\\\\\\\\\\"selectedColumn\\\\\\\\\\\\\": \\\\\\\\\\\\\"diabetes\\\\\\\\\\\\\"}}, \\\\\\\\\\\\\"typeProperty\\\\\\\\\\\\\": 2}, {\\\\\\\\\\\\\"column\\\\\\\\\\\\\": {\\\\\\\\\\\\\"type\\\\\\\\\\\\\": 2, \\\\\\\\\\\\\"details\\\\\\\\\\\\\": {\\\\\\\\\\\\\"selectedColumn\\\\\\\\\\\\\": \\\\\\\\\\\\\"ejection_fraction\\\\\\\\\\\\\"}}, \\\\\\\\\\\\\"typeProperty\\\\\\\\\\\\\": 2}, {\\\\\\\\\\\\\"column\\\\\\\\\\\\\": {\\\\\\\\\\\\\"type\\\\\\\\\\\\\": 2, \\\\\\\\\\\\\"details\\\\\\\\\\\\\": {\\\\\\\\\\\\\"selectedColumn\\\\\\\\\\\\\": \\\\\\\\\\\\\"high_blood_pressure\\\\\\\\\\\\\"}}, \\\\\\\\\\\\\"typeProperty\\\\\\\\\\\\\": 2}, {\\\\\\\\\\\\\"column\\\\\\\\\\\\\": {\\\\\\\\\\\\\"type\\\\\\\\\\\\\": 2, \\\\\\\\\\\\\"details\\\\\\\\\\\\\": {\\\\\\\\\\\\\"selectedColumn\\\\\\\\\\\\\": \\\\\\\\\\\\\"platelets\\\\\\\\\\\\\"}}, \\\\\\\\\\\\\"typeProperty\\\\\\\\\\\\\": 3}, {\\\\\\\\\\\\\"column\\\\\\\\\\\\\": {\\\\\\\\\\\\\"type\\\\\\\\\\\\\": 2, \\\\\\\\\\\\\"details\\\\\\\\\\\\\": {\\\\\\\\\\\\\"selectedColumn\\\\\\\\\\\\\": \\\\\\\\\\\\\"serum_creatinine\\\\\\\\\\\\\"}}, \\\\\\\\\\\\\"typeProperty\\\\\\\\\\\\\": 3}, {\\\\\\\\\\\\\"column\\\\\\\\\\\\\": {\\\\\\\\\\\\\"type\\\\\\\\\\\\\": 2, \\\\\\\\\\\\\"details\\\\\\\\\\\\\": {\\\\\\\\\\\\\"selectedColumn\\\\\\\\\\\\\": \\\\\\\\\\\\\"serum_sodium\\\\\\\\\\\\\"}}, \\\\\\\\\\\\\"typeProperty\\\\\\\\\\\\\": 2}, {\\\\\\\\\\\\\"column\\\\\\\\\\\\\": {\\\\\\\\\\\\\"type\\\\\\\\\\\\\": 2, \\\\\\\\\\\\\"details\\\\\\\\\\\\\": {\\\\\\\\\\\\\"selectedColumn\\\\\\\\\\\\\": \\\\\\\\\\\\\"sex\\\\\\\\\\\\\"}}, \\\\\\\\\\\\\"typeProperty\\\\\\\\\\\\\": 2}, {\\\\\\\\\\\\\"column\\\\\\\\\\\\\": {\\\\\\\\\\\\\"type\\\\\\\\\\\\\": 2, \\\\\\\\\\\\\"details\\\\\\\\\\\\\": {\\\\\\\\\\\\\"selectedColumn\\\\\\\\\\\\\": \\\\\\\\\\\\\"smoking\\\\\\\\\\\\\"}}, \\\\\\\\\\\\\"typeProperty\\\\\\\\\\\\\": 2}, {\\\\\\\\\\\\\"column\\\\\\\\\\\\\": {\\\\\\\\\\\\\"type\\\\\\\\\\\\\": 2, \\\\\\\\\\\\\"details\\\\\\\\\\\\\": {\\\\\\\\\\\\\"selectedColumn\\\\\\\\\\\\\": \\\\\\\\\\\\\"time\\\\\\\\\\\\\"}}, \\\\\\\\\\\\\"typeProperty\\\\\\\\\\\\\": 2}, {\\\\\\\\\\\\\"column\\\\\\\\\\\\\": {\\\\\\\\\\\\\"type\\\\\\\\\\\\\": 2, \\\\\\\\\\\\\"details\\\\\\\\\\\\\": {\\\\\\\\\\\\\"selectedColumn\\\\\\\\\\\\\": \\\\\\\\\\\\\"DEATH_EVENT\\\\\\\\\\\\\"}}, \\\\\\\\\\\\\"typeProperty\\\\\\\\\\\\\": 2}]}, \\\\\\\\\\\\\"localData\\\\\\\\\\\\\": {}, \\\\\\\\\\\\\"isEnabled\\\\\\\\\\\\\": true, \\\\\\\\\\\\\"name\\\\\\\\\\\\\": null, \\\\\\\\\\\\\"annotation\\\\\\\\\\\\\": null}], \\\\\\\\\\\\\"inspectors\\\\\\\\\\\\\": [], \\\\\\\\\\\\\"meta\\\\\\\\\\\\\": {\\\\\\\\\\\\\"savedDatasetId\\\\\\\\\\\\\": \\\\\\\\\\\\\"5d70efec-c40a-48ba-818e-241be36cf5fe\\\\\\\\\\\\\", \\\\\\\\\\\\\"datasetType\\\\\\\\\\\\\": \\\\\\\\\\\\\"tabular\\\\\\\\\\\\\", \\\\\\\\\\\\\"subscriptionId\\\\\\\\\\\\\": \\\\\\\\\\\\\"a24a24d5-8d87-4c8a-99b6-91ed2d2df51f\\\\\\\\\\\\\", \\\\\\\\\\\\\"workspaceId\\\\\\\\\\\\\": \\\\\\\\\\\\\"3fe27e41-20d2-48bb-972e-2315ccf08126\\\\\\\\\\\\\", \\\\\\\\\\\\\"workspaceLocation\\\\\\\\\\\\\": \\\\\\\\\\\\\"southcentralus\\\\\\\\\\\\\"}}\\\\\", \\\\\"activities\\\\\": 0}',\n  'EnableSubsampling': None,\n  'runTemplate': 'AutoML',\n  'azureml.runsource': 'automl',\n  'display_task_type': 'classification',\n  'dependencies_versions': '{\"azureml-widgets\": \"1.19.0\", \"azureml-train\": \"1.19.0\", \"azureml-train-restclients-hyperdrive\": \"1.19.0\", \"azureml-train-core\": \"1.19.0\", \"azureml-train-automl\": \"1.19.0\", \"azureml-train-automl-runtime\": \"1.19.0\", \"azureml-train-automl-client\": \"1.19.0\", \"azureml-tensorboard\": \"1.19.0\", \"azureml-telemetry\": \"1.19.0\", \"azureml-sdk\": \"1.19.0\", \"azureml-samples\": \"0+unknown\", \"azureml-pipeline\": \"1.19.0\", \"azureml-pipeline-steps\": \"1.19.0\", \"azureml-pipeline-core\": \"1.19.0\", \"azureml-opendatasets\": \"1.19.0\", \"azureml-model-management-sdk\": \"1.0.1b6.post1\", \"azureml-mlflow\": \"1.19.0\", \"azureml-interpret\": \"1.19.0\", \"azureml-explain-model\": \"1.19.0\", \"azureml-defaults\": \"1.19.0\", \"azureml-dataset-runtime\": \"1.19.0\", \"azureml-dataprep\": \"2.6.1\", \"azureml-dataprep-rslex\": \"1.4.0\", \"azureml-dataprep-native\": \"26.0.0\", \"azureml-datadrift\": \"1.19.0\", \"azureml-core\": \"1.19.0\", \"azureml-contrib-services\": \"1.19.0\", \"azureml-contrib-server\": \"1.19.0\", \"azureml-contrib-reinforcementlearning\": \"1.19.0\", \"azureml-contrib-pipeline-steps\": \"1.19.0\", \"azureml-contrib-notebook\": \"1.19.0\", \"azureml-contrib-interpret\": \"1.19.0\", \"azureml-contrib-gbdt\": \"1.19.0\", \"azureml-contrib-fairness\": \"1.19.0\", \"azureml-contrib-dataset\": \"1.19.0\", \"azureml-cli-common\": \"1.19.0\", \"azureml-automl-runtime\": \"1.19.0\", \"azureml-automl-core\": \"1.19.0\", \"azureml-accel-models\": \"1.19.0\"}',\n  '_aml_system_scenario_identification': 'Remote.Parent',\n  'ClientType': 'SDK',\n  'environment_cpu_name': 'AzureML-AutoML',\n  'environment_cpu_label': 'prod',\n  'environment_gpu_name': 'AzureML-AutoML-GPU',\n  'environment_gpu_label': 'prod',\n  'root_attribution': 'automl',\n  'attribution': 'AutoML',\n  'Orchestrator': 'AutoML',\n  'CancelUri': 'https://southcentralus.experiments.azureml.net/jasmine/v1.0/subscriptions/a24a24d5-8d87-4c8a-99b6-91ed2d2df51f/resourceGroups/aml-quickstarts-132112/providers/Microsoft.MachineLearningServices/workspaces/quick-starts-ws-132112/experimentids/95832ea0-80b5-4f4f-91eb-21dc30472a9f/cancel/AutoML_9ada242b-ac34-4949-b9c0-17dfc5c52f98',\n  'ClientSdkVersion': '1.19.0',\n  'snapshotId': '00000000-0000-0000-0000-000000000000',\n  'SetupRunId': 'AutoML_9ada242b-ac34-4949-b9c0-17dfc5c52f98_setup',\n  'SetupRunContainerId': 'dcid.AutoML_9ada242b-ac34-4949-b9c0-17dfc5c52f98_setup',\n  'FeaturizationRunJsonPath': 'featurizer_container.json',\n  'FeaturizationRunId': 'AutoML_9ada242b-ac34-4949-b9c0-17dfc5c52f98_featurize',\n  'ProblemInfoJsonString': '{\"dataset_num_categorical\": 0, \"is_sparse\": false, \"subsampling\": false, \"dataset_classes\": 2, \"dataset_features\": 12, \"dataset_samples\": 239, \"single_frequency_class_detected\": false}',\n  'ModelExplainRunId': 'AutoML_9ada242b-ac34-4949-b9c0-17dfc5c52f98_ModelExplain'},\n 'inputDatasets': [{'dataset': {'id': '5d70efec-c40a-48ba-818e-241be36cf5fe'}, 'consumptionDetails': {'type': 'RunInput', 'inputName': 'training_data', 'mechanism': 'Direct'}}],\n 'outputDatasets': [],\n 'logFiles': {}}"
          },
          "metadata": {}
        }
      ],
      "execution_count": 42,
      "metadata": {
        "gather": {
          "logged": 1609129552711
        },
        "jupyter": {
          "outputs_hidden": false,
          "source_hidden": false
        },
        "nteract": {
          "transient": {
            "deleting": false
          }
        }
      }
    },
    {
      "cell_type": "code",
      "source": [
        "#Take SS\n",
        "\n",
        "RunDetails(remote_run).show()"
      ],
      "outputs": [],
      "execution_count": null,
      "metadata": {
        "gather": {
          "logged": 1608761144286
        }
      }
    },
    {
      "cell_type": "code",
      "source": [],
      "outputs": [],
      "execution_count": null,
      "metadata": {}
    },
    {
      "cell_type": "markdown",
      "source": [
        "## Best Model\n",
        "\n",
        "TODO: In the cell below, get the best model from the automl experiments and display all the properties of the model.\n",
        "\n"
      ],
      "metadata": {}
    },
    {
      "cell_type": "code",
      "source": [
        "best_model, fitted_model = remote_run.get_output()\n",
        "\n",
        "print(best_model)\n",
        "\n",
        "# Take SS\n"
      ],
      "outputs": [
        {
          "output_type": "stream",
          "name": "stdout",
          "text": [
            "Run(Experiment: ml-experiment-1,\n",
            "Id: AutoML_9ada242b-ac34-4949-b9c0-17dfc5c52f98_50,\n",
            "Type: azureml.scriptrun,\n",
            "Status: Completed)\n"
          ]
        }
      ],
      "execution_count": 43,
      "metadata": {
        "gather": {
          "logged": 1609129600479
        },
        "jupyter": {
          "outputs_hidden": false,
          "source_hidden": false
        },
        "nteract": {
          "transient": {
            "deleting": false
          }
        }
      }
    },
    {
      "cell_type": "code",
      "source": [
        "print(fitted_model)"
      ],
      "outputs": [
        {
          "output_type": "stream",
          "name": "stdout",
          "text": [
            "Pipeline(memory=None,\n",
            "         steps=[('datatransformer',\n",
            "                 DataTransformer(enable_dnn=None, enable_feature_sweeping=None,\n",
            "                                 feature_sweeping_config=None,\n",
            "                                 feature_sweeping_timeout=None,\n",
            "                                 featurization_config=None, force_text_dnn=None,\n",
            "                                 is_cross_validation=None,\n",
            "                                 is_onnx_compatible=None, logger=None,\n",
            "                                 observer=None, task=None, working_dir=None)),\n",
            "                ('prefittedsoftvotingclassifier',...\n",
            "                                                                                                        presort='deprecated',\n",
            "                                                                                                        random_state=None,\n",
            "                                                                                                        subsample=0.7631578947368421,\n",
            "                                                                                                        tol=0.0001,\n",
            "                                                                                                        validation_fraction=0.1,\n",
            "                                                                                                        verbose=0,\n",
            "                                                                                                        warm_start=False))],\n",
            "                                                                     verbose=False))],\n",
            "                                               flatten_transform=None,\n",
            "                                               weights=[0.2727272727272727,\n",
            "                                                        0.09090909090909091,\n",
            "                                                        0.09090909090909091,\n",
            "                                                        0.18181818181818182,\n",
            "                                                        0.09090909090909091,\n",
            "                                                        0.09090909090909091,\n",
            "                                                        0.09090909090909091,\n",
            "                                                        0.09090909090909091]))],\n",
            "         verbose=False)\n"
          ]
        }
      ],
      "execution_count": 44,
      "metadata": {
        "gather": {
          "logged": 1609129626160
        }
      }
    },
    {
      "cell_type": "code",
      "source": [],
      "outputs": [
        {
          "output_type": "error",
          "ename": "AttributeError",
          "evalue": "'Pipeline' object has no attribute 'step'",
          "traceback": [
            "\u001b[0;31m---------------------------------------------------------------------------\u001b[0m",
            "\u001b[0;31mAttributeError\u001b[0m                            Traceback (most recent call last)",
            "\u001b[0;32m<ipython-input-45-43a468b07076>\u001b[0m in \u001b[0;36m<module>\u001b[0;34m\u001b[0m\n\u001b[0;32m----> 1\u001b[0;31m \u001b[0mfitted_model\u001b[0m\u001b[0;34m.\u001b[0m\u001b[0mstep\u001b[0m\u001b[0;34m\u001b[0m\u001b[0;34m\u001b[0m\u001b[0m\n\u001b[0m",
            "\u001b[0;31mAttributeError\u001b[0m: 'Pipeline' object has no attribute 'step'"
          ]
        }
      ],
      "execution_count": 45,
      "metadata": {}
    },
    {
      "cell_type": "code",
      "source": [],
      "outputs": [],
      "execution_count": null,
      "metadata": {
        "gather": {
          "logged": 1608764810246
        }
      }
    },
    {
      "cell_type": "code",
      "source": [
        "#TODO: Save the best model\n",
        "joblib.dump(fitted_model, \"models/automl_hearth.pkl\")\n"
      ],
      "outputs": [
        {
          "output_type": "execute_result",
          "execution_count": 46,
          "data": {
            "text/plain": "['models/automl_hearth.pkl']"
          },
          "metadata": {}
        }
      ],
      "execution_count": 46,
      "metadata": {
        "gather": {
          "logged": 1609129680957
        }
      }
    },
    {
      "cell_type": "code",
      "source": [],
      "outputs": [],
      "execution_count": null,
      "metadata": {
        "gather": {
          "logged": 1608764876892
        },
        "jupyter": {
          "outputs_hidden": false,
          "source_hidden": false
        },
        "nteract": {
          "transient": {
            "deleting": false
          }
        }
      }
    },
    {
      "cell_type": "markdown",
      "source": [
        "## Model Deployment\n",
        "\n",
        "Remember you have to deploy only one of the two models you trained.. Perform the steps in the rest of this notebook only if you wish to deploy this model.\n",
        "\n",
        "TODO: In the cell below, register the model, create an inference config and deploy the model as a web service."
      ],
      "metadata": {}
    },
    {
      "cell_type": "code",
      "source": [
        "model = Model.register(model_path = \"./models/automl_hearth.pkl\",\n",
        "                       model_name = \"automl_hearth.pkl\",\n",
        "                       description = \"Best model trained with AutoML\",\n",
        "                       workspace = ws)\n"
      ],
      "outputs": [
        {
          "output_type": "stream",
          "name": "stdout",
          "text": [
            "Registering model automl_hearth.pkl\n"
          ]
        }
      ],
      "execution_count": 47,
      "metadata": {
        "gather": {
          "logged": 1609129692487
        },
        "jupyter": {
          "outputs_hidden": false,
          "source_hidden": false
        },
        "nteract": {
          "transient": {
            "deleting": false
          }
        }
      }
    },
    {
      "cell_type": "code",
      "source": [],
      "outputs": [],
      "execution_count": null,
      "metadata": {
        "gather": {
          "logged": 1608765071033
        }
      }
    },
    {
      "cell_type": "code",
      "source": [
        "# Create the environment\n",
        "myenv = Environment(workspace=ws, name=\"myenv\")\n",
        "\n",
        "\n",
        "inference_config = InferenceConfig(entry_script=\"score.py\",\n",
        "                                   environment=myenv)\n"
      ],
      "outputs": [],
      "execution_count": 48,
      "metadata": {
        "gather": {
          "logged": 1609129702778
        }
      }
    },
    {
      "cell_type": "code",
      "source": [
        "# Define Deployment\n",
        "\n",
        "deployment_config = AciWebservice.deploy_configuration()\n",
        "\n",
        "# model = Model(ws, name='hearth')\n",
        "service = Model.deploy(ws, 'myservice', [model], inference_config, deployment_config)"
      ],
      "outputs": [],
      "execution_count": 49,
      "metadata": {
        "collapsed": true,
        "gather": {
          "logged": 1609129712232
        },
        "jupyter": {
          "outputs_hidden": false,
          "source_hidden": false
        },
        "nteract": {
          "transient": {
            "deleting": false
          }
        }
      }
    },
    {
      "cell_type": "code",
      "source": [
        "\n",
        "service.wait_for_deployment(True)\n",
        "print(service.state)\n",
        "print(\"scoring URI: \" + service.scoring_uri)\n"
      ],
      "outputs": [
        {
          "output_type": "stream",
          "name": "stdout",
          "text": [
            "Tips: You can try get_logs(): https://aka.ms/debugimage#dockerlog or local deployment: https://aka.ms/debugimage#debug-locally to debug if deployment takes longer than 10 minutes.\n",
            "Running.......................................................................................................................................................................\n",
            "Failed\n"
          ]
        },
        {
          "output_type": "stream",
          "name": "stderr",
          "text": [
            "ERROR:azureml.core.webservice.webservice:Service deployment polling reached non-successful terminal state, current service state: Failed\n",
            "Operation ID: 3d50ad3e-ccb3-4a08-b7c9-a8f4b98db72b\n",
            "More information can be found using '.get_logs()'\n",
            "Error:\n",
            "{\n",
            "  \"code\": \"AciDeploymentFailed\",\n",
            "  \"message\": \"Aci Deployment failed with exception: Your container application crashed. This may be caused by errors in your scoring file's init() function.\\nPlease check the logs for your container instance: myservice. From the AML SDK, you can run print(service.get_logs()) if you have service object to fetch the logs. \\nYou can interactively debug your scoring file locally. Please refer to https://docs.microsoft.com/azure/machine-learning/how-to-debug-visual-studio-code#debug-and-troubleshoot-deployments for more information.\\nYou can also try to run image 3fe27e4120d248bb972e2315ccf08126.azurecr.io/azureml/azureml_1a31af1e7a24bf75a2aeeda4db33c10b locally. Please refer to https://aka.ms/debugimage#service-launch-fails for more information.\",\n",
            "  \"details\": [\n",
            "    {\n",
            "      \"code\": \"CrashLoopBackOff\",\n",
            "      \"message\": \"Your container application crashed. This may be caused by errors in your scoring file's init() function.\\nPlease check the logs for your container instance: myservice. From the AML SDK, you can run print(service.get_logs()) if you have service object to fetch the logs. \\nYou can interactively debug your scoring file locally. Please refer to https://docs.microsoft.com/azure/machine-learning/how-to-debug-visual-studio-code#debug-and-troubleshoot-deployments for more information.\\nYou can also try to run image 3fe27e4120d248bb972e2315ccf08126.azurecr.io/azureml/azureml_1a31af1e7a24bf75a2aeeda4db33c10b locally. Please refer to https://aka.ms/debugimage#service-launch-fails for more information.\"\n",
            "    },\n",
            "    {\n",
            "      \"code\": \"AciDeploymentFailed\",\n",
            "      \"message\": \"Your container application crashed. Please follow the steps to debug:\\n1. From the AML SDK, you can run print(service.get_logs()) if you have service object to fetch the logs. Please refer to https://aka.ms/debugimage#dockerlog for more information.\\n2. If your container application crashed. This may be caused by errors in your scoring file's init() function. You can try debugging locally first. Please refer to https://aka.ms/debugimage#debug-locally for more information.\\n3. You can also interactively debug your scoring file locally. Please refer to https://docs.microsoft.com/azure/machine-learning/how-to-debug-visual-studio-code#debug-and-troubleshoot-deployments for more information.\\n4. View the diagnostic events to check status of container, it may help you to debug the issue. {\\\"restartCount\\\":4,\\\"currentState\\\":{\\\"state\\\":\\\"Waiting\\\",\\\"startTime\\\":null,\\\"exitCode\\\":null,\\\"finishTime\\\":null,\\\"detailStatus\\\":\\\"CrashLoopBackOff: Back-off 1m20s restarting failed\\\"},\\\"previousState\\\":{\\\"state\\\":\\\"Terminated\\\",\\\"startTime\\\":\\\"2020-12-28T05:01:43Z\\\",\\\"exitCode\\\":111,\\\"finishTime\\\":\\\"2020-12-28T05:01:50Z\\\",\\\"detailStatus\\\":\\\"Error\\\"},\\\"events\\\":[{\\\"count\\\":1,\\\"firstTimestamp\\\":\\\"2020-12-28T04:58:12Z\\\",\\\"lastTimestamp\\\":\\\"2020-12-28T04:58:12Z\\\",\\\"name\\\":\\\"Pulling\\\",\\\"message\\\":\\\"pulling image \\\\\\\"3fe27e4120d248bb972e2315ccf08126.azurecr.io/azureml/azureml_1a31af1e7a24bf75a2aeeda4db33c10b\\\\\\\"\\\",\\\"type\\\":\\\"Normal\\\"},{\\\"count\\\":1,\\\"firstTimestamp\\\":\\\"2020-12-28T04:59:29Z\\\",\\\"lastTimestamp\\\":\\\"2020-12-28T04:59:29Z\\\",\\\"name\\\":\\\"Pulled\\\",\\\"message\\\":\\\"Successfully pulled image \\\\\\\"3fe27e4120d248bb972e2315ccf08126.azurecr.io/azureml/azureml_1a31af1e7a24bf75a2aeeda4db33c10b\\\\\\\"\\\",\\\"type\\\":\\\"Normal\\\"},{\\\"count\\\":1,\\\"firstTimestamp\\\":\\\"2020-12-28T04:59:40Z\\\",\\\"lastTimestamp\\\":\\\"2020-12-28T04:59:40Z\\\",\\\"name\\\":\\\"Created\\\",\\\"message\\\":\\\"Created container\\\",\\\"type\\\":\\\"Normal\\\"},{\\\"count\\\":1,\\\"firstTimestamp\\\":\\\"2020-12-28T04:59:40Z\\\",\\\"lastTimestamp\\\":\\\"2020-12-28T04:59:40Z\\\",\\\"name\\\":\\\"Started\\\",\\\"message\\\":\\\"Started container\\\",\\\"type\\\":\\\"Normal\\\"}]}\"\n",
            "    }\n",
            "  ]\n",
            "}\n",
            "\n"
          ]
        },
        {
          "output_type": "error",
          "ename": "WebserviceException",
          "evalue": "WebserviceException:\n\tMessage: Service deployment polling reached non-successful terminal state, current service state: Failed\nOperation ID: 3d50ad3e-ccb3-4a08-b7c9-a8f4b98db72b\nMore information can be found using '.get_logs()'\nError:\n{\n  \"code\": \"AciDeploymentFailed\",\n  \"message\": \"Aci Deployment failed with exception: Your container application crashed. This may be caused by errors in your scoring file's init() function.\\nPlease check the logs for your container instance: myservice. From the AML SDK, you can run print(service.get_logs()) if you have service object to fetch the logs. \\nYou can interactively debug your scoring file locally. Please refer to https://docs.microsoft.com/azure/machine-learning/how-to-debug-visual-studio-code#debug-and-troubleshoot-deployments for more information.\\nYou can also try to run image 3fe27e4120d248bb972e2315ccf08126.azurecr.io/azureml/azureml_1a31af1e7a24bf75a2aeeda4db33c10b locally. Please refer to https://aka.ms/debugimage#service-launch-fails for more information.\",\n  \"details\": [\n    {\n      \"code\": \"CrashLoopBackOff\",\n      \"message\": \"Your container application crashed. This may be caused by errors in your scoring file's init() function.\\nPlease check the logs for your container instance: myservice. From the AML SDK, you can run print(service.get_logs()) if you have service object to fetch the logs. \\nYou can interactively debug your scoring file locally. Please refer to https://docs.microsoft.com/azure/machine-learning/how-to-debug-visual-studio-code#debug-and-troubleshoot-deployments for more information.\\nYou can also try to run image 3fe27e4120d248bb972e2315ccf08126.azurecr.io/azureml/azureml_1a31af1e7a24bf75a2aeeda4db33c10b locally. Please refer to https://aka.ms/debugimage#service-launch-fails for more information.\"\n    },\n    {\n      \"code\": \"AciDeploymentFailed\",\n      \"message\": \"Your container application crashed. Please follow the steps to debug:\\n1. From the AML SDK, you can run print(service.get_logs()) if you have service object to fetch the logs. Please refer to https://aka.ms/debugimage#dockerlog for more information.\\n2. If your container application crashed. This may be caused by errors in your scoring file's init() function. You can try debugging locally first. Please refer to https://aka.ms/debugimage#debug-locally for more information.\\n3. You can also interactively debug your scoring file locally. Please refer to https://docs.microsoft.com/azure/machine-learning/how-to-debug-visual-studio-code#debug-and-troubleshoot-deployments for more information.\\n4. View the diagnostic events to check status of container, it may help you to debug the issue. {\\\"restartCount\\\":4,\\\"currentState\\\":{\\\"state\\\":\\\"Waiting\\\",\\\"startTime\\\":null,\\\"exitCode\\\":null,\\\"finishTime\\\":null,\\\"detailStatus\\\":\\\"CrashLoopBackOff: Back-off 1m20s restarting failed\\\"},\\\"previousState\\\":{\\\"state\\\":\\\"Terminated\\\",\\\"startTime\\\":\\\"2020-12-28T05:01:43Z\\\",\\\"exitCode\\\":111,\\\"finishTime\\\":\\\"2020-12-28T05:01:50Z\\\",\\\"detailStatus\\\":\\\"Error\\\"},\\\"events\\\":[{\\\"count\\\":1,\\\"firstTimestamp\\\":\\\"2020-12-28T04:58:12Z\\\",\\\"lastTimestamp\\\":\\\"2020-12-28T04:58:12Z\\\",\\\"name\\\":\\\"Pulling\\\",\\\"message\\\":\\\"pulling image \\\\\\\"3fe27e4120d248bb972e2315ccf08126.azurecr.io/azureml/azureml_1a31af1e7a24bf75a2aeeda4db33c10b\\\\\\\"\\\",\\\"type\\\":\\\"Normal\\\"},{\\\"count\\\":1,\\\"firstTimestamp\\\":\\\"2020-12-28T04:59:29Z\\\",\\\"lastTimestamp\\\":\\\"2020-12-28T04:59:29Z\\\",\\\"name\\\":\\\"Pulled\\\",\\\"message\\\":\\\"Successfully pulled image \\\\\\\"3fe27e4120d248bb972e2315ccf08126.azurecr.io/azureml/azureml_1a31af1e7a24bf75a2aeeda4db33c10b\\\\\\\"\\\",\\\"type\\\":\\\"Normal\\\"},{\\\"count\\\":1,\\\"firstTimestamp\\\":\\\"2020-12-28T04:59:40Z\\\",\\\"lastTimestamp\\\":\\\"2020-12-28T04:59:40Z\\\",\\\"name\\\":\\\"Created\\\",\\\"message\\\":\\\"Created container\\\",\\\"type\\\":\\\"Normal\\\"},{\\\"count\\\":1,\\\"firstTimestamp\\\":\\\"2020-12-28T04:59:40Z\\\",\\\"lastTimestamp\\\":\\\"2020-12-28T04:59:40Z\\\",\\\"name\\\":\\\"Started\\\",\\\"message\\\":\\\"Started container\\\",\\\"type\\\":\\\"Normal\\\"}]}\"\n    }\n  ]\n}\n\tInnerException None\n\tErrorResponse \n{\n    \"error\": {\n        \"message\": \"Service deployment polling reached non-successful terminal state, current service state: Failed\\nOperation ID: 3d50ad3e-ccb3-4a08-b7c9-a8f4b98db72b\\nMore information can be found using '.get_logs()'\\nError:\\n{\\n  \\\"code\\\": \\\"AciDeploymentFailed\\\",\\n  \\\"message\\\": \\\"Aci Deployment failed with exception: Your container application crashed. This may be caused by errors in your scoring file's init() function.\\\\nPlease check the logs for your container instance: myservice. From the AML SDK, you can run print(service.get_logs()) if you have service object to fetch the logs. \\\\nYou can interactively debug your scoring file locally. Please refer to https://docs.microsoft.com/azure/machine-learning/how-to-debug-visual-studio-code#debug-and-troubleshoot-deployments for more information.\\\\nYou can also try to run image 3fe27e4120d248bb972e2315ccf08126.azurecr.io/azureml/azureml_1a31af1e7a24bf75a2aeeda4db33c10b locally. Please refer to https://aka.ms/debugimage#service-launch-fails for more information.\\\",\\n  \\\"details\\\": [\\n    {\\n      \\\"code\\\": \\\"CrashLoopBackOff\\\",\\n      \\\"message\\\": \\\"Your container application crashed. This may be caused by errors in your scoring file's init() function.\\\\nPlease check the logs for your container instance: myservice. From the AML SDK, you can run print(service.get_logs()) if you have service object to fetch the logs. \\\\nYou can interactively debug your scoring file locally. Please refer to https://docs.microsoft.com/azure/machine-learning/how-to-debug-visual-studio-code#debug-and-troubleshoot-deployments for more information.\\\\nYou can also try to run image 3fe27e4120d248bb972e2315ccf08126.azurecr.io/azureml/azureml_1a31af1e7a24bf75a2aeeda4db33c10b locally. Please refer to https://aka.ms/debugimage#service-launch-fails for more information.\\\"\\n    },\\n    {\\n      \\\"code\\\": \\\"AciDeploymentFailed\\\",\\n      \\\"message\\\": \\\"Your container application crashed. Please follow the steps to debug:\\\\n1. From the AML SDK, you can run print(service.get_logs()) if you have service object to fetch the logs. Please refer to https://aka.ms/debugimage#dockerlog for more information.\\\\n2. If your container application crashed. This may be caused by errors in your scoring file's init() function. You can try debugging locally first. Please refer to https://aka.ms/debugimage#debug-locally for more information.\\\\n3. You can also interactively debug your scoring file locally. Please refer to https://docs.microsoft.com/azure/machine-learning/how-to-debug-visual-studio-code#debug-and-troubleshoot-deployments for more information.\\\\n4. View the diagnostic events to check status of container, it may help you to debug the issue. {\\\\\\\"restartCount\\\\\\\":4,\\\\\\\"currentState\\\\\\\":{\\\\\\\"state\\\\\\\":\\\\\\\"Waiting\\\\\\\",\\\\\\\"startTime\\\\\\\":null,\\\\\\\"exitCode\\\\\\\":null,\\\\\\\"finishTime\\\\\\\":null,\\\\\\\"detailStatus\\\\\\\":\\\\\\\"CrashLoopBackOff: Back-off 1m20s restarting failed\\\\\\\"},\\\\\\\"previousState\\\\\\\":{\\\\\\\"state\\\\\\\":\\\\\\\"Terminated\\\\\\\",\\\\\\\"startTime\\\\\\\":\\\\\\\"2020-12-28T05:01:43Z\\\\\\\",\\\\\\\"exitCode\\\\\\\":111,\\\\\\\"finishTime\\\\\\\":\\\\\\\"2020-12-28T05:01:50Z\\\\\\\",\\\\\\\"detailStatus\\\\\\\":\\\\\\\"Error\\\\\\\"},\\\\\\\"events\\\\\\\":[{\\\\\\\"count\\\\\\\":1,\\\\\\\"firstTimestamp\\\\\\\":\\\\\\\"2020-12-28T04:58:12Z\\\\\\\",\\\\\\\"lastTimestamp\\\\\\\":\\\\\\\"2020-12-28T04:58:12Z\\\\\\\",\\\\\\\"name\\\\\\\":\\\\\\\"Pulling\\\\\\\",\\\\\\\"message\\\\\\\":\\\\\\\"pulling image \\\\\\\\\\\\\\\"3fe27e4120d248bb972e2315ccf08126.azurecr.io/azureml/azureml_1a31af1e7a24bf75a2aeeda4db33c10b\\\\\\\\\\\\\\\"\\\\\\\",\\\\\\\"type\\\\\\\":\\\\\\\"Normal\\\\\\\"},{\\\\\\\"count\\\\\\\":1,\\\\\\\"firstTimestamp\\\\\\\":\\\\\\\"2020-12-28T04:59:29Z\\\\\\\",\\\\\\\"lastTimestamp\\\\\\\":\\\\\\\"2020-12-28T04:59:29Z\\\\\\\",\\\\\\\"name\\\\\\\":\\\\\\\"Pulled\\\\\\\",\\\\\\\"message\\\\\\\":\\\\\\\"Successfully pulled image \\\\\\\\\\\\\\\"3fe27e4120d248bb972e2315ccf08126.azurecr.io/azureml/azureml_1a31af1e7a24bf75a2aeeda4db33c10b\\\\\\\\\\\\\\\"\\\\\\\",\\\\\\\"type\\\\\\\":\\\\\\\"Normal\\\\\\\"},{\\\\\\\"count\\\\\\\":1,\\\\\\\"firstTimestamp\\\\\\\":\\\\\\\"2020-12-28T04:59:40Z\\\\\\\",\\\\\\\"lastTimestamp\\\\\\\":\\\\\\\"2020-12-28T04:59:40Z\\\\\\\",\\\\\\\"name\\\\\\\":\\\\\\\"Created\\\\\\\",\\\\\\\"message\\\\\\\":\\\\\\\"Created container\\\\\\\",\\\\\\\"type\\\\\\\":\\\\\\\"Normal\\\\\\\"},{\\\\\\\"count\\\\\\\":1,\\\\\\\"firstTimestamp\\\\\\\":\\\\\\\"2020-12-28T04:59:40Z\\\\\\\",\\\\\\\"lastTimestamp\\\\\\\":\\\\\\\"2020-12-28T04:59:40Z\\\\\\\",\\\\\\\"name\\\\\\\":\\\\\\\"Started\\\\\\\",\\\\\\\"message\\\\\\\":\\\\\\\"Started container\\\\\\\",\\\\\\\"type\\\\\\\":\\\\\\\"Normal\\\\\\\"}]}\\\"\\n    }\\n  ]\\n}\"\n    }\n}",
          "traceback": [
            "\u001b[0;31m---------------------------------------------------------------------------\u001b[0m",
            "\u001b[0;31mWebserviceException\u001b[0m                       Traceback (most recent call last)",
            "\u001b[0;32m<ipython-input-51-ef6c30967089>\u001b[0m in \u001b[0;36m<module>\u001b[0;34m\u001b[0m\n\u001b[0;32m----> 1\u001b[0;31m \u001b[0mservice\u001b[0m\u001b[0;34m.\u001b[0m\u001b[0mwait_for_deployment\u001b[0m\u001b[0;34m(\u001b[0m\u001b[0;32mTrue\u001b[0m\u001b[0;34m)\u001b[0m\u001b[0;34m\u001b[0m\u001b[0;34m\u001b[0m\u001b[0m\n\u001b[0m\u001b[1;32m      2\u001b[0m \u001b[0mprint\u001b[0m\u001b[0;34m(\u001b[0m\u001b[0mservice\u001b[0m\u001b[0;34m.\u001b[0m\u001b[0mstate\u001b[0m\u001b[0;34m)\u001b[0m\u001b[0;34m\u001b[0m\u001b[0;34m\u001b[0m\u001b[0m\n\u001b[1;32m      3\u001b[0m \u001b[0mprint\u001b[0m\u001b[0;34m(\u001b[0m\u001b[0;34m\"scoring URI: \"\u001b[0m \u001b[0;34m+\u001b[0m \u001b[0mservice\u001b[0m\u001b[0;34m.\u001b[0m\u001b[0mscoring_uri\u001b[0m\u001b[0;34m)\u001b[0m\u001b[0;34m\u001b[0m\u001b[0;34m\u001b[0m\u001b[0m\n",
            "\u001b[0;32m/anaconda/envs/azureml_py36/lib/python3.6/site-packages/azureml/core/webservice/webservice.py\u001b[0m in \u001b[0;36mwait_for_deployment\u001b[0;34m(self, show_output, timeout_sec)\u001b[0m\n\u001b[1;32m    913\u001b[0m                                           \u001b[0;34m'Error:\\n'\u001b[0m\u001b[0;34m\u001b[0m\u001b[0;34m\u001b[0m\u001b[0m\n\u001b[1;32m    914\u001b[0m                                           '{}'.format(self.state, self._operation_endpoint.split('/')[-1],\n\u001b[0;32m--> 915\u001b[0;31m                                                       logs_response, error_response), logger=module_logger)\n\u001b[0m\u001b[1;32m    916\u001b[0m             print('{} service creation operation finished, operation \"{}\"'.format(self._webservice_type,\n\u001b[1;32m    917\u001b[0m                                                                                   operation_state))\n",
            "\u001b[0;31mWebserviceException\u001b[0m: WebserviceException:\n\tMessage: Service deployment polling reached non-successful terminal state, current service state: Failed\nOperation ID: 3d50ad3e-ccb3-4a08-b7c9-a8f4b98db72b\nMore information can be found using '.get_logs()'\nError:\n{\n  \"code\": \"AciDeploymentFailed\",\n  \"message\": \"Aci Deployment failed with exception: Your container application crashed. This may be caused by errors in your scoring file's init() function.\\nPlease check the logs for your container instance: myservice. From the AML SDK, you can run print(service.get_logs()) if you have service object to fetch the logs. \\nYou can interactively debug your scoring file locally. Please refer to https://docs.microsoft.com/azure/machine-learning/how-to-debug-visual-studio-code#debug-and-troubleshoot-deployments for more information.\\nYou can also try to run image 3fe27e4120d248bb972e2315ccf08126.azurecr.io/azureml/azureml_1a31af1e7a24bf75a2aeeda4db33c10b locally. Please refer to https://aka.ms/debugimage#service-launch-fails for more information.\",\n  \"details\": [\n    {\n      \"code\": \"CrashLoopBackOff\",\n      \"message\": \"Your container application crashed. This may be caused by errors in your scoring file's init() function.\\nPlease check the logs for your container instance: myservice. From the AML SDK, you can run print(service.get_logs()) if you have service object to fetch the logs. \\nYou can interactively debug your scoring file locally. Please refer to https://docs.microsoft.com/azure/machine-learning/how-to-debug-visual-studio-code#debug-and-troubleshoot-deployments for more information.\\nYou can also try to run image 3fe27e4120d248bb972e2315ccf08126.azurecr.io/azureml/azureml_1a31af1e7a24bf75a2aeeda4db33c10b locally. Please refer to https://aka.ms/debugimage#service-launch-fails for more information.\"\n    },\n    {\n      \"code\": \"AciDeploymentFailed\",\n      \"message\": \"Your container application crashed. Please follow the steps to debug:\\n1. From the AML SDK, you can run print(service.get_logs()) if you have service object to fetch the logs. Please refer to https://aka.ms/debugimage#dockerlog for more information.\\n2. If your container application crashed. This may be caused by errors in your scoring file's init() function. You can try debugging locally first. Please refer to https://aka.ms/debugimage#debug-locally for more information.\\n3. You can also interactively debug your scoring file locally. Please refer to https://docs.microsoft.com/azure/machine-learning/how-to-debug-visual-studio-code#debug-and-troubleshoot-deployments for more information.\\n4. View the diagnostic events to check status of container, it may help you to debug the issue. {\\\"restartCount\\\":4,\\\"currentState\\\":{\\\"state\\\":\\\"Waiting\\\",\\\"startTime\\\":null,\\\"exitCode\\\":null,\\\"finishTime\\\":null,\\\"detailStatus\\\":\\\"CrashLoopBackOff: Back-off 1m20s restarting failed\\\"},\\\"previousState\\\":{\\\"state\\\":\\\"Terminated\\\",\\\"startTime\\\":\\\"2020-12-28T05:01:43Z\\\",\\\"exitCode\\\":111,\\\"finishTime\\\":\\\"2020-12-28T05:01:50Z\\\",\\\"detailStatus\\\":\\\"Error\\\"},\\\"events\\\":[{\\\"count\\\":1,\\\"firstTimestamp\\\":\\\"2020-12-28T04:58:12Z\\\",\\\"lastTimestamp\\\":\\\"2020-12-28T04:58:12Z\\\",\\\"name\\\":\\\"Pulling\\\",\\\"message\\\":\\\"pulling image \\\\\\\"3fe27e4120d248bb972e2315ccf08126.azurecr.io/azureml/azureml_1a31af1e7a24bf75a2aeeda4db33c10b\\\\\\\"\\\",\\\"type\\\":\\\"Normal\\\"},{\\\"count\\\":1,\\\"firstTimestamp\\\":\\\"2020-12-28T04:59:29Z\\\",\\\"lastTimestamp\\\":\\\"2020-12-28T04:59:29Z\\\",\\\"name\\\":\\\"Pulled\\\",\\\"message\\\":\\\"Successfully pulled image \\\\\\\"3fe27e4120d248bb972e2315ccf08126.azurecr.io/azureml/azureml_1a31af1e7a24bf75a2aeeda4db33c10b\\\\\\\"\\\",\\\"type\\\":\\\"Normal\\\"},{\\\"count\\\":1,\\\"firstTimestamp\\\":\\\"2020-12-28T04:59:40Z\\\",\\\"lastTimestamp\\\":\\\"2020-12-28T04:59:40Z\\\",\\\"name\\\":\\\"Created\\\",\\\"message\\\":\\\"Created container\\\",\\\"type\\\":\\\"Normal\\\"},{\\\"count\\\":1,\\\"firstTimestamp\\\":\\\"2020-12-28T04:59:40Z\\\",\\\"lastTimestamp\\\":\\\"2020-12-28T04:59:40Z\\\",\\\"name\\\":\\\"Started\\\",\\\"message\\\":\\\"Started container\\\",\\\"type\\\":\\\"Normal\\\"}]}\"\n    }\n  ]\n}\n\tInnerException None\n\tErrorResponse \n{\n    \"error\": {\n        \"message\": \"Service deployment polling reached non-successful terminal state, current service state: Failed\\nOperation ID: 3d50ad3e-ccb3-4a08-b7c9-a8f4b98db72b\\nMore information can be found using '.get_logs()'\\nError:\\n{\\n  \\\"code\\\": \\\"AciDeploymentFailed\\\",\\n  \\\"message\\\": \\\"Aci Deployment failed with exception: Your container application crashed. This may be caused by errors in your scoring file's init() function.\\\\nPlease check the logs for your container instance: myservice. From the AML SDK, you can run print(service.get_logs()) if you have service object to fetch the logs. \\\\nYou can interactively debug your scoring file locally. Please refer to https://docs.microsoft.com/azure/machine-learning/how-to-debug-visual-studio-code#debug-and-troubleshoot-deployments for more information.\\\\nYou can also try to run image 3fe27e4120d248bb972e2315ccf08126.azurecr.io/azureml/azureml_1a31af1e7a24bf75a2aeeda4db33c10b locally. Please refer to https://aka.ms/debugimage#service-launch-fails for more information.\\\",\\n  \\\"details\\\": [\\n    {\\n      \\\"code\\\": \\\"CrashLoopBackOff\\\",\\n      \\\"message\\\": \\\"Your container application crashed. This may be caused by errors in your scoring file's init() function.\\\\nPlease check the logs for your container instance: myservice. From the AML SDK, you can run print(service.get_logs()) if you have service object to fetch the logs. \\\\nYou can interactively debug your scoring file locally. Please refer to https://docs.microsoft.com/azure/machine-learning/how-to-debug-visual-studio-code#debug-and-troubleshoot-deployments for more information.\\\\nYou can also try to run image 3fe27e4120d248bb972e2315ccf08126.azurecr.io/azureml/azureml_1a31af1e7a24bf75a2aeeda4db33c10b locally. Please refer to https://aka.ms/debugimage#service-launch-fails for more information.\\\"\\n    },\\n    {\\n      \\\"code\\\": \\\"AciDeploymentFailed\\\",\\n      \\\"message\\\": \\\"Your container application crashed. Please follow the steps to debug:\\\\n1. From the AML SDK, you can run print(service.get_logs()) if you have service object to fetch the logs. Please refer to https://aka.ms/debugimage#dockerlog for more information.\\\\n2. If your container application crashed. This may be caused by errors in your scoring file's init() function. You can try debugging locally first. Please refer to https://aka.ms/debugimage#debug-locally for more information.\\\\n3. You can also interactively debug your scoring file locally. Please refer to https://docs.microsoft.com/azure/machine-learning/how-to-debug-visual-studio-code#debug-and-troubleshoot-deployments for more information.\\\\n4. View the diagnostic events to check status of container, it may help you to debug the issue. {\\\\\\\"restartCount\\\\\\\":4,\\\\\\\"currentState\\\\\\\":{\\\\\\\"state\\\\\\\":\\\\\\\"Waiting\\\\\\\",\\\\\\\"startTime\\\\\\\":null,\\\\\\\"exitCode\\\\\\\":null,\\\\\\\"finishTime\\\\\\\":null,\\\\\\\"detailStatus\\\\\\\":\\\\\\\"CrashLoopBackOff: Back-off 1m20s restarting failed\\\\\\\"},\\\\\\\"previousState\\\\\\\":{\\\\\\\"state\\\\\\\":\\\\\\\"Terminated\\\\\\\",\\\\\\\"startTime\\\\\\\":\\\\\\\"2020-12-28T05:01:43Z\\\\\\\",\\\\\\\"exitCode\\\\\\\":111,\\\\\\\"finishTime\\\\\\\":\\\\\\\"2020-12-28T05:01:50Z\\\\\\\",\\\\\\\"detailStatus\\\\\\\":\\\\\\\"Error\\\\\\\"},\\\\\\\"events\\\\\\\":[{\\\\\\\"count\\\\\\\":1,\\\\\\\"firstTimestamp\\\\\\\":\\\\\\\"2020-12-28T04:58:12Z\\\\\\\",\\\\\\\"lastTimestamp\\\\\\\":\\\\\\\"2020-12-28T04:58:12Z\\\\\\\",\\\\\\\"name\\\\\\\":\\\\\\\"Pulling\\\\\\\",\\\\\\\"message\\\\\\\":\\\\\\\"pulling image \\\\\\\\\\\\\\\"3fe27e4120d248bb972e2315ccf08126.azurecr.io/azureml/azureml_1a31af1e7a24bf75a2aeeda4db33c10b\\\\\\\\\\\\\\\"\\\\\\\",\\\\\\\"type\\\\\\\":\\\\\\\"Normal\\\\\\\"},{\\\\\\\"count\\\\\\\":1,\\\\\\\"firstTimestamp\\\\\\\":\\\\\\\"2020-12-28T04:59:29Z\\\\\\\",\\\\\\\"lastTimestamp\\\\\\\":\\\\\\\"2020-12-28T04:59:29Z\\\\\\\",\\\\\\\"name\\\\\\\":\\\\\\\"Pulled\\\\\\\",\\\\\\\"message\\\\\\\":\\\\\\\"Successfully pulled image \\\\\\\\\\\\\\\"3fe27e4120d248bb972e2315ccf08126.azurecr.io/azureml/azureml_1a31af1e7a24bf75a2aeeda4db33c10b\\\\\\\\\\\\\\\"\\\\\\\",\\\\\\\"type\\\\\\\":\\\\\\\"Normal\\\\\\\"},{\\\\\\\"count\\\\\\\":1,\\\\\\\"firstTimestamp\\\\\\\":\\\\\\\"2020-12-28T04:59:40Z\\\\\\\",\\\\\\\"lastTimestamp\\\\\\\":\\\\\\\"2020-12-28T04:59:40Z\\\\\\\",\\\\\\\"name\\\\\\\":\\\\\\\"Created\\\\\\\",\\\\\\\"message\\\\\\\":\\\\\\\"Created container\\\\\\\",\\\\\\\"type\\\\\\\":\\\\\\\"Normal\\\\\\\"},{\\\\\\\"count\\\\\\\":1,\\\\\\\"firstTimestamp\\\\\\\":\\\\\\\"2020-12-28T04:59:40Z\\\\\\\",\\\\\\\"lastTimestamp\\\\\\\":\\\\\\\"2020-12-28T04:59:40Z\\\\\\\",\\\\\\\"name\\\\\\\":\\\\\\\"Started\\\\\\\",\\\\\\\"message\\\\\\\":\\\\\\\"Started container\\\\\\\",\\\\\\\"type\\\\\\\":\\\\\\\"Normal\\\\\\\"}]}\\\"\\n    }\\n  ]\\n}\"\n    }\n}"
          ]
        }
      ],
      "execution_count": 51,
      "metadata": {
        "collapsed": true,
        "jupyter": {
          "outputs_hidden": false,
          "source_hidden": false
        },
        "nteract": {
          "transient": {
            "deleting": false
          }
        }
      }
    },
    {
      "cell_type": "markdown",
      "source": [
        "TODO: In the cell below, send a request to the web service you deployed to test it."
      ],
      "metadata": {
        "collapsed": true,
        "gather": {
          "logged": 1598431657736
        },
        "jupyter": {
          "outputs_hidden": false,
          "source_hidden": false
        },
        "nteract": {
          "transient": {
            "deleting": false
          }
        }
      }
    },
    {
      "cell_type": "code",
      "source": [
        "scoring_uri = 'scoring uri for your service'\n",
        "headers = {'Content-Type':'application/json'}\n",
        "\n",
        "test_data = json.dumps({'data':[{\n",
        "    'age':75,\n",
        "    'anaemia':0,\n",
        "    'creatinine_phosphokinase':582,\n",
        "    'diabetes':0,\n",
        "    'ejection_fraction':20,\n",
        "    'high_blood_pressure':1,\n",
        "    'platelets':265000,\n",
        "    'serum_creatinine':1.9,\n",
        "    'serum_sodium':130,\n",
        "    'sex':1,\n",
        "    'smoking':0,\n",
        "    'time':4}\n",
        "    ]\n",
        "        })\n",
        "\n",
        "response = requests.post(scoring_uri, data=test_data, headers=headers)\n",
        "\n",
        "print(\"Result:\",response.text)"
      ],
      "outputs": [],
      "execution_count": null,
      "metadata": {
        "gather": {
          "logged": 1598432707604
        },
        "jupyter": {
          "outputs_hidden": false,
          "source_hidden": false
        },
        "nteract": {
          "transient": {
            "deleting": false
          }
        }
      }
    },
    {
      "cell_type": "code",
      "source": [
        "myenv.save_to_directory('./training',overwrite=False)\n",
        "\n",
        "print(service.get_logs())\n",
        "\n"
      ],
      "outputs": [],
      "execution_count": null,
      "metadata": {}
    },
    {
      "cell_type": "markdown",
      "source": [
        "TODO: In the cell below, print the logs of the web service and delete the service"
      ],
      "metadata": {
        "collapsed": true,
        "gather": {
          "logged": 1598432765711
        },
        "jupyter": {
          "outputs_hidden": false,
          "source_hidden": false
        },
        "nteract": {
          "transient": {
            "deleting": false
          }
        }
      }
    },
    {
      "cell_type": "code",
      "source": [
        "print(response.status_code)\n",
        "print(response.elapsed)\n",
        "print(response.json())\n",
        "\n",
        "service.delete()"
      ],
      "outputs": [],
      "execution_count": null,
      "metadata": {
        "jupyter": {
          "outputs_hidden": false,
          "source_hidden": false
        },
        "nteract": {
          "transient": {
            "deleting": false
          }
        }
      }
    }
  ],
  "metadata": {
    "kernel_info": {
      "name": "python3"
    },
    "kernelspec": {
      "name": "python3",
      "language": "python",
      "display_name": "Python 3"
    },
    "language_info": {
      "name": "python",
      "version": "3.6.9",
      "mimetype": "text/x-python",
      "codemirror_mode": {
        "name": "ipython",
        "version": 3
      },
      "pygments_lexer": "ipython3",
      "nbconvert_exporter": "python",
      "file_extension": ".py"
    },
    "nteract": {
      "version": "nteract-front-end@1.0.0"
    }
  },
  "nbformat": 4,
  "nbformat_minor": 2
}