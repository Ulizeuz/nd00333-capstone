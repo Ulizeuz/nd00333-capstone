{
  "cells": [
    {
      "cell_type": "markdown",
      "source": [
        "# Automated ML\n",
        "\n",
        "TODO: Import Dependencies. In the cell below, import all the dependencies that you will need to complete the project."
      ],
      "metadata": {}
    },
    {
      "cell_type": "code",
      "source": [
        "# Import Dependencies.\n",
        "\n",
        "from azureml.core.experiment import Experiment\n",
        "from azureml.core.workspace import Workspace\n",
        "\n",
        "from azureml.core.compute import AmlCompute\n",
        "from azureml.core.compute import ComputeTarget\n",
        "from azureml.core.compute_target import ComputeTargetException\n",
        "\n",
        "import logging\n",
        "import os\n",
        "\n",
        "import azureml.core\n",
        "from azureml.train.automl import AutoMLConfig\n",
        "from azureml.core.dataset import Dataset\n",
        "from azureml.data.dataset_factory import TabularDatasetFactory\n",
        "\n",
        "from sklearn.model_selection import train_test_split\n",
        "\n",
        "import pandas as pd\n",
        "from azureml.widgets import RunDetails\n",
        "\n",
        "import joblib \n",
        "import azureml.automl\n",
        "\n",
        "from azureml.core.model import Model\n",
        "\n",
        "from azureml.pipeline.core import PipelineData, TrainingOutput\n",
        "\n",
        "from azureml.pipeline.core import Pipeline\n",
        "\n",
        "import pickle\n",
        "\n",
        "from azureml.core.model import InferenceConfig\n",
        "from azureml.core.environment import Environment\n",
        "from azureml.core.conda_dependencies import CondaDependencies\n",
        "\n",
        "from azureml.core.webservice import Webservice, AciWebservice\n",
        "\n",
        "import requests\n",
        "import json\n",
        "\n",
        "# Check core SDK version number\n",
        "print(\"SDK version:\", azureml.core.VERSION)"
      ],
      "outputs": [
        {
          "output_type": "stream",
          "name": "stdout",
          "text": [
            "SDK version: 1.19.0\n"
          ]
        }
      ],
      "execution_count": 4,
      "metadata": {
        "gather": {
          "logged": 1609811332031
        },
        "jupyter": {
          "outputs_hidden": false,
          "source_hidden": false
        },
        "nteract": {
          "transient": {
            "deleting": false
          }
        }
      }
    },
    {
      "cell_type": "markdown",
      "source": [
        "## Dataset\n",
        "\n",
        "### Overview\n",
        "\n",
        "There are some factors that affects Death Event. We use Kaggle's dataset Heart Failure Clinical Records which contains  information like age, sex, blood pressure, smoke, diabetes, ejection fraction, creatinine phosphokinase, serum_creatinine, serum_sodium, time and we have to predict their death_event.\n",
        "\n",
        "Dataset was uploaded and register as dataset in the workspace\n"
      ],
      "metadata": {}
    },
    {
      "cell_type": "code",
      "source": [
        "# Create a workspace\n",
        "\n",
        "ws = Workspace.from_config()\n",
        "print(ws.name, ws.resource_group, ws.location, ws.subscription_id, sep = '\\n')\n"
      ],
      "outputs": [
        {
          "output_type": "stream",
          "name": "stdout",
          "text": [
            "quick-starts-ws-133416\n",
            "aml-quickstarts-133416\n",
            "southcentralus\n",
            "a0a76bad-11a1-4a2d-9887-97a29122c8ed\n"
          ]
        }
      ],
      "execution_count": 5,
      "metadata": {
        "gather": {
          "logged": 1609811344080
        },
        "jupyter": {
          "outputs_hidden": false,
          "source_hidden": false
        },
        "nteract": {
          "transient": {
            "deleting": false
          }
        }
      }
    },
    {
      "cell_type": "code",
      "source": [
        "# choose a name for experiment\n",
        "experiment_name = 'ml-experiment-1'\n",
        "project_folder = './pipeline-project'\n",
        "\n",
        "experiment=Experiment(ws, experiment_name)\n",
        "\n",
        "experiment\n",
        "\n"
      ],
      "outputs": [
        {
          "output_type": "execute_result",
          "execution_count": 6,
          "data": {
            "text/plain": "Experiment(Name: ml-experiment-1,\nWorkspace: quick-starts-ws-133416)",
            "text/html": "<table style=\"width:100%\"><tr><th>Name</th><th>Workspace</th><th>Report Page</th><th>Docs Page</th></tr><tr><td>ml-experiment-1</td><td>quick-starts-ws-133416</td><td><a href=\"https://ml.azure.com/experiments/ml-experiment-1?wsid=/subscriptions/a0a76bad-11a1-4a2d-9887-97a29122c8ed/resourcegroups/aml-quickstarts-133416/workspaces/quick-starts-ws-133416\" target=\"_blank\" rel=\"noopener\">Link to Azure Machine Learning studio</a></td><td><a href=\"https://docs.microsoft.com/en-us/python/api/azureml-core/azureml.core.experiment.Experiment?view=azure-ml-py\" target=\"_blank\" rel=\"noopener\">Link to Documentation</a></td></tr></table>"
          },
          "metadata": {}
        }
      ],
      "execution_count": 6,
      "metadata": {
        "gather": {
          "logged": 1609811349968
        }
      }
    },
    {
      "cell_type": "code",
      "source": [
        "# NOTE: update the cluster name to match the existing cluster\n",
        "# Choose a name for your CPU cluster\n",
        "\n",
        "amlcompute_cluster_name = \"notebook133416\"\n",
        "\n",
        "# Verify that cluster does not exist already\n",
        "\n",
        "try:\n",
        "    compute_target = ComputeTarget(workspace=ws, name=amlcompute_cluster_name)\n",
        "    print('Found existing cluster, use it.')\n",
        "except ComputeTargetException:\n",
        "    compute_config = AmlCompute.provisioning_configuration(vm_size='STANDARD_D2_V2',# for GPU, use \"STANDARD_NC6\"\n",
        "                                                           #vm_priority = 'lowpriority', # optional\n",
        "                                                           max_nodes=4)\n",
        "    compute_target = ComputeTarget.create(ws, amlcompute_cluster_name, compute_config)\n",
        "\n",
        "compute_target.wait_for_completion(show_output=True)\n",
        "\n",
        "# For a more detailed view of current AmlCompute status, use get_status().\n"
      ],
      "outputs": [
        {
          "output_type": "stream",
          "name": "stdout",
          "text": [
            "Found existing cluster, use it.\n",
            "\n",
            "Running\n"
          ]
        }
      ],
      "execution_count": 7,
      "metadata": {
        "gather": {
          "logged": 1609811363858
        }
      }
    },
    {
      "cell_type": "code",
      "source": [
        "#upload Heart Failure Dataset\n",
        "\n",
        "data = pd.read_csv(\"heart_failure_clinical_records_dataset.csv\")\n",
        "data.describe()"
      ],
      "outputs": [
        {
          "output_type": "execute_result",
          "execution_count": 8,
          "data": {
            "text/plain": "              age     anaemia  creatinine_phosphokinase    diabetes  \\\ncount  299.000000  299.000000                299.000000  299.000000   \nmean    60.833893    0.431438                581.839465    0.418060   \nstd     11.894809    0.496107                970.287881    0.494067   \nmin     40.000000    0.000000                 23.000000    0.000000   \n25%     51.000000    0.000000                116.500000    0.000000   \n50%     60.000000    0.000000                250.000000    0.000000   \n75%     70.000000    1.000000                582.000000    1.000000   \nmax     95.000000    1.000000               7861.000000    1.000000   \n\n       ejection_fraction  high_blood_pressure      platelets  \\\ncount         299.000000           299.000000     299.000000   \nmean           38.083612             0.351171  263358.029264   \nstd            11.834841             0.478136   97804.236869   \nmin            14.000000             0.000000   25100.000000   \n25%            30.000000             0.000000  212500.000000   \n50%            38.000000             0.000000  262000.000000   \n75%            45.000000             1.000000  303500.000000   \nmax            80.000000             1.000000  850000.000000   \n\n       serum_creatinine  serum_sodium         sex    smoking        time  \\\ncount         299.00000    299.000000  299.000000  299.00000  299.000000   \nmean            1.39388    136.625418    0.648829    0.32107  130.260870   \nstd             1.03451      4.412477    0.478136    0.46767   77.614208   \nmin             0.50000    113.000000    0.000000    0.00000    4.000000   \n25%             0.90000    134.000000    0.000000    0.00000   73.000000   \n50%             1.10000    137.000000    1.000000    0.00000  115.000000   \n75%             1.40000    140.000000    1.000000    1.00000  203.000000   \nmax             9.40000    148.000000    1.000000    1.00000  285.000000   \n\n       DEATH_EVENT  \ncount    299.00000  \nmean       0.32107  \nstd        0.46767  \nmin        0.00000  \n25%        0.00000  \n50%        0.00000  \n75%        1.00000  \nmax        1.00000  ",
            "text/html": "<div>\n<style scoped>\n    .dataframe tbody tr th:only-of-type {\n        vertical-align: middle;\n    }\n\n    .dataframe tbody tr th {\n        vertical-align: top;\n    }\n\n    .dataframe thead th {\n        text-align: right;\n    }\n</style>\n<table border=\"1\" class=\"dataframe\">\n  <thead>\n    <tr style=\"text-align: right;\">\n      <th></th>\n      <th>age</th>\n      <th>anaemia</th>\n      <th>creatinine_phosphokinase</th>\n      <th>diabetes</th>\n      <th>ejection_fraction</th>\n      <th>high_blood_pressure</th>\n      <th>platelets</th>\n      <th>serum_creatinine</th>\n      <th>serum_sodium</th>\n      <th>sex</th>\n      <th>smoking</th>\n      <th>time</th>\n      <th>DEATH_EVENT</th>\n    </tr>\n  </thead>\n  <tbody>\n    <tr>\n      <th>count</th>\n      <td>299.000000</td>\n      <td>299.000000</td>\n      <td>299.000000</td>\n      <td>299.000000</td>\n      <td>299.000000</td>\n      <td>299.000000</td>\n      <td>299.000000</td>\n      <td>299.00000</td>\n      <td>299.000000</td>\n      <td>299.000000</td>\n      <td>299.00000</td>\n      <td>299.000000</td>\n      <td>299.00000</td>\n    </tr>\n    <tr>\n      <th>mean</th>\n      <td>60.833893</td>\n      <td>0.431438</td>\n      <td>581.839465</td>\n      <td>0.418060</td>\n      <td>38.083612</td>\n      <td>0.351171</td>\n      <td>263358.029264</td>\n      <td>1.39388</td>\n      <td>136.625418</td>\n      <td>0.648829</td>\n      <td>0.32107</td>\n      <td>130.260870</td>\n      <td>0.32107</td>\n    </tr>\n    <tr>\n      <th>std</th>\n      <td>11.894809</td>\n      <td>0.496107</td>\n      <td>970.287881</td>\n      <td>0.494067</td>\n      <td>11.834841</td>\n      <td>0.478136</td>\n      <td>97804.236869</td>\n      <td>1.03451</td>\n      <td>4.412477</td>\n      <td>0.478136</td>\n      <td>0.46767</td>\n      <td>77.614208</td>\n      <td>0.46767</td>\n    </tr>\n    <tr>\n      <th>min</th>\n      <td>40.000000</td>\n      <td>0.000000</td>\n      <td>23.000000</td>\n      <td>0.000000</td>\n      <td>14.000000</td>\n      <td>0.000000</td>\n      <td>25100.000000</td>\n      <td>0.50000</td>\n      <td>113.000000</td>\n      <td>0.000000</td>\n      <td>0.00000</td>\n      <td>4.000000</td>\n      <td>0.00000</td>\n    </tr>\n    <tr>\n      <th>25%</th>\n      <td>51.000000</td>\n      <td>0.000000</td>\n      <td>116.500000</td>\n      <td>0.000000</td>\n      <td>30.000000</td>\n      <td>0.000000</td>\n      <td>212500.000000</td>\n      <td>0.90000</td>\n      <td>134.000000</td>\n      <td>0.000000</td>\n      <td>0.00000</td>\n      <td>73.000000</td>\n      <td>0.00000</td>\n    </tr>\n    <tr>\n      <th>50%</th>\n      <td>60.000000</td>\n      <td>0.000000</td>\n      <td>250.000000</td>\n      <td>0.000000</td>\n      <td>38.000000</td>\n      <td>0.000000</td>\n      <td>262000.000000</td>\n      <td>1.10000</td>\n      <td>137.000000</td>\n      <td>1.000000</td>\n      <td>0.00000</td>\n      <td>115.000000</td>\n      <td>0.00000</td>\n    </tr>\n    <tr>\n      <th>75%</th>\n      <td>70.000000</td>\n      <td>1.000000</td>\n      <td>582.000000</td>\n      <td>1.000000</td>\n      <td>45.000000</td>\n      <td>1.000000</td>\n      <td>303500.000000</td>\n      <td>1.40000</td>\n      <td>140.000000</td>\n      <td>1.000000</td>\n      <td>1.00000</td>\n      <td>203.000000</td>\n      <td>1.00000</td>\n    </tr>\n    <tr>\n      <th>max</th>\n      <td>95.000000</td>\n      <td>1.000000</td>\n      <td>7861.000000</td>\n      <td>1.000000</td>\n      <td>80.000000</td>\n      <td>1.000000</td>\n      <td>850000.000000</td>\n      <td>9.40000</td>\n      <td>148.000000</td>\n      <td>1.000000</td>\n      <td>1.00000</td>\n      <td>285.000000</td>\n      <td>1.00000</td>\n    </tr>\n  </tbody>\n</table>\n</div>"
          },
          "metadata": {}
        }
      ],
      "execution_count": 8,
      "metadata": {
        "gather": {
          "logged": 1609811376530
        },
        "jupyter": {
          "outputs_hidden": false,
          "source_hidden": false
        },
        "nteract": {
          "transient": {
            "deleting": false
          }
        }
      }
    },
    {
      "cell_type": "code",
      "source": [
        "train, test = train_test_split(data, test_size=0.2, random_state=1 )\n",
        "\n",
        "if \"training\" not in os.listdir():\n",
        "    os.mkdir(\"./training\")\n",
        "\n",
        "if \"models\" not in os.listdir():\n",
        "    os.mkdir(\"./models\")\n",
        "if \"outputs\" not in os.listdir():\n",
        "    os.mkdir(\"./outputs\")\n",
        "\n",
        "train.to_csv(\"training/train_data.csv\", index = False)\n",
        "\n",
        "data_store = ws.get_default_datastore()\n",
        "data_store.upload(src_dir = \"./training\", target_path = 'udacity-project', overwrite = True,  show_progress = True)\n"
      ],
      "outputs": [
        {
          "output_type": "stream",
          "name": "stdout",
          "text": [
            "Uploading an estimated of 1 files\n",
            "Uploading ./training/train_data.csv\n",
            "Uploaded ./training/train_data.csv, 1 files out of an estimated total of 1\n",
            "Uploaded 1 files\n"
          ]
        },
        {
          "output_type": "execute_result",
          "execution_count": 9,
          "data": {
            "text/plain": "$AZUREML_DATAREFERENCE_741bc80c9c4a417ea7ae539f064812e3"
          },
          "metadata": {}
        }
      ],
      "execution_count": 9,
      "metadata": {
        "gather": {
          "logged": 1609811384096
        }
      }
    },
    {
      "cell_type": "code",
      "source": [
        "train_data = Dataset.Tabular.from_delimited_files(path=data_store.path(\"udacity-project/train_data.csv\"))\n",
        "# train=TabularDatasetFactory.from_delimited_files([(data_store, 'training/train_data.csv')])\n"
      ],
      "outputs": [],
      "execution_count": 10,
      "metadata": {
        "gather": {
          "logged": 1609811396094
        }
      }
    },
    {
      "cell_type": "markdown",
      "source": [
        "## AutoML Configuration\n",
        "\n",
        "TODO: Explain why you chose the automl settings and cofiguration you used below.\n",
        "\n",
        "We are trying to predict DEATH_EVENT, therefore we need to define the task as classification. Also define Featurization as auto and enable early stopping and the primary metric AUC_weighted"
      ],
      "metadata": {}
    },
    {
      "cell_type": "code",
      "source": [
        "# TODO: Put your automl settings here\n",
        "automl_settings = {\n",
        "    \"experiment_timeout_minutes\": 20,\n",
        "    \"max_concurrent_iterations\": 5,\n",
        "    \"primary_metric\" : 'AUC_weighted'    \n",
        "}\n",
        "\n",
        "# TODO: Put your automl config here\n",
        "automl_config = AutoMLConfig(\n",
        "    \n",
        "    compute_target = compute_target,\n",
        "    task = \"classification\",\n",
        "    training_data = train_data,\n",
        "    label_column_name = \"DEATH_EVENT\",   \n",
        "    path = project_folder,\n",
        "    enable_early_stopping= True,\n",
        "    featurization= 'auto',\n",
        "    debug_log = \"automl_errors.log\",\n",
        "    **automl_settings \n",
        ")"
      ],
      "outputs": [],
      "execution_count": 11,
      "metadata": {
        "gather": {
          "logged": 1609811401659
        },
        "jupyter": {
          "outputs_hidden": false,
          "source_hidden": false
        },
        "nteract": {
          "transient": {
            "deleting": false
          }
        }
      }
    },
    {
      "cell_type": "code",
      "source": [
        "# TODO: Submit your experiment"
      ],
      "outputs": [],
      "execution_count": null,
      "metadata": {
        "gather": {
          "logged": 1608761042998
        },
        "jupyter": {
          "outputs_hidden": false,
          "source_hidden": false
        },
        "nteract": {
          "transient": {
            "deleting": false
          }
        }
      }
    },
    {
      "cell_type": "code",
      "source": [
        "remote_run = experiment.submit(automl_config, show_output = True)\n",
        "RunDetails(remote_run).show()\n",
        "#Take SS"
      ],
      "outputs": [
        {
          "output_type": "stream",
          "name": "stdout",
          "text": [
            "Running on remote.\n",
            "No run_configuration provided, running on notebook133416 with default configuration\n",
            "Running on remote compute: notebook133416\n",
            "Parent Run ID: AutoML_32d8d192-6f8f-42bd-8e0c-83d0ba36ac51\n",
            "\n",
            "Current status: FeaturesGeneration. Generating features for the dataset.\n",
            "Current status: DatasetCrossValidationSplit. Generating individually featurized CV splits.\n",
            "Current status: ModelSelection. Beginning model selection.\n",
            "\n",
            "****************************************************************************************************\n",
            "DATA GUARDRAILS: \n",
            "\n",
            "TYPE:         Cross validation\n",
            "STATUS:       DONE\n",
            "DESCRIPTION:  Each iteration of the trained model was validated through cross-validation.\n",
            "              \n",
            "DETAILS:      \n",
            "+---------------------------------+\n",
            "|Number of folds                  |\n",
            "+=================================+\n",
            "|10                               |\n",
            "+---------------------------------+\n",
            "\n",
            "****************************************************************************************************\n",
            "\n",
            "TYPE:         Class balancing detection\n",
            "STATUS:       PASSED\n",
            "DESCRIPTION:  Your inputs were analyzed, and all classes are balanced in your training data.\n",
            "              Learn more about imbalanced data: https://aka.ms/AutomatedMLImbalancedData\n",
            "\n",
            "****************************************************************************************************\n",
            "\n",
            "TYPE:         Missing feature values imputation\n",
            "STATUS:       PASSED\n",
            "DESCRIPTION:  No feature missing values were detected in the training data.\n",
            "              Learn more about missing value imputation: https://aka.ms/AutomatedMLFeaturization\n",
            "\n",
            "****************************************************************************************************\n",
            "\n",
            "TYPE:         High cardinality feature detection\n",
            "STATUS:       PASSED\n",
            "DESCRIPTION:  Your inputs were analyzed, and no high cardinality features were detected.\n",
            "              Learn more about high cardinality feature handling: https://aka.ms/AutomatedMLFeaturization\n",
            "\n",
            "****************************************************************************************************\n",
            "\n",
            "****************************************************************************************************\n",
            "ITERATION: The iteration being evaluated.\n",
            "PIPELINE: A summary description of the pipeline being evaluated.\n",
            "DURATION: Time taken for the current iteration.\n",
            "METRIC: The result of computing score on the fitted pipeline.\n",
            "BEST: The best observed score thus far.\n",
            "****************************************************************************************************\n",
            "\n",
            " ITERATION   PIPELINE                                       DURATION      METRIC      BEST\n",
            "         0   MaxAbsScaler LightGBM                          0:01:11       0.8901    0.8901\n",
            "         1   MaxAbsScaler XGBoostClassifier                 0:01:16       0.8879    0.8901\n",
            "         2   MinMaxScaler RandomForest                      0:01:09       0.8964    0.8964\n",
            "         3   RobustScaler ExtremeRandomTrees                0:01:09       0.8806    0.8964\n",
            "         4   MinMaxScaler RandomForest                      0:01:08       0.8815    0.8964\n",
            "         6   StandardScalerWrapper RandomForest             0:01:04       0.8895    0.8964\n",
            "         9   SparseNormalizer KNN                           0:01:01       0.7183    0.8964\n",
            "         5   MinMaxScaler RandomForest                      0:01:05       0.9034    0.9034\n",
            "         7   MinMaxScaler ExtremeRandomTrees                0:01:08       0.8649    0.9034\n",
            "         8   MinMaxScaler ExtremeRandomTrees                0:01:08       0.8783    0.9034\n",
            "        10   MinMaxScaler ExtremeRandomTrees                0:01:10       0.8669    0.9034\n",
            "        12   StandardScalerWrapper RandomForest             0:01:06       0.9027    0.9034\n",
            "        13   StandardScalerWrapper SGD                      0:01:01       0.8524    0.9034\n",
            "        11   RobustScaler ExtremeRandomTrees                0:01:07       0.8668    0.9034\n",
            "        14   RobustScaler RandomForest                      0:01:06       0.8861    0.9034\n",
            "        16   MinMaxScaler RandomForest                      0:01:07       0.8698    0.9034\n",
            "        17   MinMaxScaler ExtremeRandomTrees                0:01:07       0.8037    0.9034\n",
            "        15   StandardScalerWrapper KNN                      0:01:23       0.5876    0.9034\n",
            "        19   StandardScalerWrapper XGBoostClassifier        0:01:12       0.8926    0.9034\n",
            "        18   MaxAbsScaler RandomForest                      0:01:24       0.8905    0.9034\n",
            "        20   MaxAbsScaler RandomForest                      0:01:10       0.8502    0.9034\n",
            "        21   MaxAbsScaler ExtremeRandomTrees                0:01:06       0.8653    0.9034\n",
            "        22   MaxAbsScaler ExtremeRandomTrees                0:01:02       0.8633    0.9034\n",
            "        23   StandardScalerWrapper XGBoostClassifier        0:01:05       0.8972    0.9034\n",
            "        24   MaxAbsScaler RandomForest                      0:01:09       0.8937    0.9034\n",
            "        25   MinMaxScaler RandomForest                      0:01:08       0.8927    0.9034\n",
            "        26   StandardScalerWrapper XGBoostClassifier        0:01:21       0.9007    0.9034\n",
            "        27   RobustScaler LightGBM                          0:01:15       0.8998    0.9034\n",
            "        29   MinMaxScaler RandomForest                      0:01:14       0.9060    0.9060\n",
            "        28   StandardScalerWrapper LightGBM                 0:02:16       0.8616    0.9060\n",
            "        30   PCA RandomForest                               0:01:18       0.5151    0.9060\n",
            "        32   TruncatedSVDWrapper XGBoostClassifier          0:01:06       0.8550    0.9060\n",
            "        31   RobustScaler RandomForest                      0:01:58       0.9123    0.9123\n",
            "        33   StandardScalerWrapper LightGBM                 0:01:36       0.8870    0.9123\n",
            "        34   MinMaxScaler GradientBoosting                  0:01:16       0.9074    0.9123\n",
            "        35   StandardScalerWrapper RandomForest             0:01:15       0.7344    0.9123\n",
            "        36   MaxAbsScaler LogisticRegression                0:01:11       0.8498    0.9123\n",
            "        37   StandardScalerWrapper XGBoostClassifier        0:01:27       0.8898    0.9123\n",
            "        38   StandardScalerWrapper LogisticRegression       0:01:33       0.8406    0.9123\n",
            "        39   RobustScaler LogisticRegression                0:01:12       0.8444    0.9123\n",
            "        40   RobustScaler RandomForest                      0:01:21       0.9100    0.9123\n",
            "        41   RobustScaler LightGBM                          0:01:08       0.9114    0.9123\n",
            "        42   MinMaxScaler LightGBM                          0:01:14       0.9090    0.9123\n",
            "        43   StandardScalerWrapper LightGBM                 0:01:12       0.9022    0.9123\n",
            "        44   RobustScaler LightGBM                          0:01:09       0.8977    0.9123\n",
            "        45   MinMaxScaler RandomForest                      0:01:03       0.9024    0.9123\n",
            "        46   StandardScalerWrapper RandomForest             0:01:08       0.9025    0.9123\n",
            "        47                                                  0:00:21          nan    0.9123\n",
            "        48                                                  0:00:15          nan    0.9123\n",
            "        49                                                  0:00:14          nan    0.9123\n",
            "        50                                                  0:00:17          nan    0.9123\n",
            "        51    VotingEnsemble                                0:03:06       0.9238    0.9238\n",
            "        52    StackEnsemble                                 0:03:07       0.9146    0.9238\n"
          ]
        },
        {
          "output_type": "display_data",
          "data": {
            "text/plain": "_AutoMLWidget(widget_settings={'childWidgetDisplay': 'popup', 'send_telemetry': False, 'log_level': 'INFO', 's…",
            "application/vnd.jupyter.widget-view+json": {
              "version_major": 2,
              "version_minor": 0,
              "model_id": "96c43f7bf59f4774b7b72ed008eacd9b"
            }
          },
          "metadata": {}
        },
        {
          "output_type": "display_data",
          "data": {
            "application/aml.mini.widget.v1": "{\"status\": \"Completed\", \"workbench_run_details_uri\": \"https://ml.azure.com/experiments/ml-experiment-1/runs/AutoML_32d8d192-6f8f-42bd-8e0c-83d0ba36ac51?wsid=/subscriptions/a0a76bad-11a1-4a2d-9887-97a29122c8ed/resourcegroups/aml-quickstarts-133416/workspaces/quick-starts-ws-133416\", \"run_id\": \"AutoML_32d8d192-6f8f-42bd-8e0c-83d0ba36ac51\", \"run_properties\": {\"run_id\": \"AutoML_32d8d192-6f8f-42bd-8e0c-83d0ba36ac51\", \"created_utc\": \"2021-01-05T01:50:18.434091Z\", \"properties\": {\"num_iterations\": \"1000\", \"training_type\": \"TrainFull\", \"acquisition_function\": \"EI\", \"primary_metric\": \"AUC_weighted\", \"train_split\": \"0\", \"acquisition_parameter\": \"0\", \"num_cross_validation\": null, \"target\": \"notebook133416\", \"AMLSettingsJsonString\": \"{\\\"path\\\":null,\\\"name\\\":\\\"ml-experiment-1\\\",\\\"subscription_id\\\":\\\"a0a76bad-11a1-4a2d-9887-97a29122c8ed\\\",\\\"resource_group\\\":\\\"aml-quickstarts-133416\\\",\\\"workspace_name\\\":\\\"quick-starts-ws-133416\\\",\\\"region\\\":\\\"southcentralus\\\",\\\"compute_target\\\":\\\"notebook133416\\\",\\\"spark_service\\\":null,\\\"azure_service\\\":\\\"remote\\\",\\\"many_models\\\":false,\\\"pipeline_fetch_max_batch_size\\\":1,\\\"iterations\\\":1000,\\\"primary_metric\\\":\\\"AUC_weighted\\\",\\\"task_type\\\":\\\"classification\\\",\\\"data_script\\\":null,\\\"validation_size\\\":0.0,\\\"n_cross_validations\\\":null,\\\"y_min\\\":null,\\\"y_max\\\":null,\\\"num_classes\\\":null,\\\"featurization\\\":\\\"auto\\\",\\\"_ignore_package_version_incompatibilities\\\":false,\\\"is_timeseries\\\":false,\\\"max_cores_per_iteration\\\":1,\\\"max_concurrent_iterations\\\":5,\\\"iteration_timeout_minutes\\\":null,\\\"mem_in_mb\\\":null,\\\"enforce_time_on_windows\\\":false,\\\"experiment_timeout_minutes\\\":20,\\\"experiment_exit_score\\\":null,\\\"whitelist_models\\\":null,\\\"blacklist_algos\\\":[\\\"TensorFlowLinearClassifier\\\",\\\"TensorFlowDNN\\\"],\\\"supported_models\\\":[\\\"ExtremeRandomTrees\\\",\\\"BernoulliNaiveBayes\\\",\\\"TensorFlowLinearClassifier\\\",\\\"RandomForest\\\",\\\"LogisticRegression\\\",\\\"MultinomialNaiveBayes\\\",\\\"LightGBM\\\",\\\"XGBoostClassifier\\\",\\\"SGD\\\",\\\"AveragedPerceptronClassifier\\\",\\\"KNN\\\",\\\"DecisionTree\\\",\\\"TensorFlowDNN\\\",\\\"LinearSVM\\\",\\\"GradientBoosting\\\",\\\"SVM\\\"],\\\"auto_blacklist\\\":true,\\\"blacklist_samples_reached\\\":false,\\\"exclude_nan_labels\\\":true,\\\"verbosity\\\":20,\\\"_debug_log\\\":\\\"azureml_automl.log\\\",\\\"show_warnings\\\":false,\\\"model_explainability\\\":true,\\\"service_url\\\":null,\\\"sdk_url\\\":null,\\\"sdk_packages\\\":null,\\\"enable_onnx_compatible_models\\\":false,\\\"enable_split_onnx_featurizer_estimator_models\\\":false,\\\"vm_type\\\":\\\"STANDARD_DS3_V2\\\",\\\"telemetry_verbosity\\\":20,\\\"send_telemetry\\\":true,\\\"enable_dnn\\\":false,\\\"scenario\\\":\\\"SDK-1.13.0\\\",\\\"environment_label\\\":null,\\\"force_text_dnn\\\":false,\\\"enable_feature_sweeping\\\":true,\\\"enable_early_stopping\\\":true,\\\"early_stopping_n_iters\\\":10,\\\"metrics\\\":null,\\\"enable_ensembling\\\":true,\\\"enable_stack_ensembling\\\":true,\\\"ensemble_iterations\\\":15,\\\"enable_tf\\\":false,\\\"enable_subsampling\\\":null,\\\"subsample_seed\\\":null,\\\"enable_nimbusml\\\":false,\\\"enable_streaming\\\":false,\\\"force_streaming\\\":false,\\\"track_child_runs\\\":true,\\\"allowed_private_models\\\":[],\\\"label_column_name\\\":\\\"DEATH_EVENT\\\",\\\"weight_column_name\\\":null,\\\"cv_split_column_names\\\":null,\\\"enable_local_managed\\\":false,\\\"_local_managed_run_id\\\":null,\\\"cost_mode\\\":1,\\\"lag_length\\\":0,\\\"metric_operation\\\":\\\"maximize\\\",\\\"preprocess\\\":true}\", \"DataPrepJsonString\": \"{\\\\\\\"training_data\\\\\\\": \\\\\\\"{\\\\\\\\\\\\\\\"blocks\\\\\\\\\\\\\\\": [{\\\\\\\\\\\\\\\"id\\\\\\\\\\\\\\\": \\\\\\\\\\\\\\\"0ccf3df4-3b2a-4671-93e6-0bd8014d8d36\\\\\\\\\\\\\\\", \\\\\\\\\\\\\\\"type\\\\\\\\\\\\\\\": \\\\\\\\\\\\\\\"Microsoft.DPrep.GetDatastoreFilesBlock\\\\\\\\\\\\\\\", \\\\\\\\\\\\\\\"arguments\\\\\\\\\\\\\\\": {\\\\\\\\\\\\\\\"datastores\\\\\\\\\\\\\\\": [{\\\\\\\\\\\\\\\"datastoreName\\\\\\\\\\\\\\\": \\\\\\\\\\\\\\\"workspaceblobstore\\\\\\\\\\\\\\\", \\\\\\\\\\\\\\\"path\\\\\\\\\\\\\\\": \\\\\\\\\\\\\\\"udacity-project/train_data.csv\\\\\\\\\\\\\\\", \\\\\\\\\\\\\\\"resourceGroup\\\\\\\\\\\\\\\": \\\\\\\\\\\\\\\"aml-quickstarts-133416\\\\\\\\\\\\\\\", \\\\\\\\\\\\\\\"subscription\\\\\\\\\\\\\\\": \\\\\\\\\\\\\\\"a0a76bad-11a1-4a2d-9887-97a29122c8ed\\\\\\\\\\\\\\\", \\\\\\\\\\\\\\\"workspaceName\\\\\\\\\\\\\\\": \\\\\\\\\\\\\\\"quick-starts-ws-133416\\\\\\\\\\\\\\\"}]}, \\\\\\\\\\\\\\\"localData\\\\\\\\\\\\\\\": {}, \\\\\\\\\\\\\\\"isEnabled\\\\\\\\\\\\\\\": true, \\\\\\\\\\\\\\\"name\\\\\\\\\\\\\\\": null, \\\\\\\\\\\\\\\"annotation\\\\\\\\\\\\\\\": null}, {\\\\\\\\\\\\\\\"id\\\\\\\\\\\\\\\": \\\\\\\\\\\\\\\"620bcbd0-08b8-4d20-9fbe-a798a5e65a22\\\\\\\\\\\\\\\", \\\\\\\\\\\\\\\"type\\\\\\\\\\\\\\\": \\\\\\\\\\\\\\\"Microsoft.DPrep.ParseDelimitedBlock\\\\\\\\\\\\\\\", \\\\\\\\\\\\\\\"arguments\\\\\\\\\\\\\\\": {\\\\\\\\\\\\\\\"columnHeadersMode\\\\\\\\\\\\\\\": 3, \\\\\\\\\\\\\\\"fileEncoding\\\\\\\\\\\\\\\": 0, \\\\\\\\\\\\\\\"handleQuotedLineBreaks\\\\\\\\\\\\\\\": false, \\\\\\\\\\\\\\\"preview\\\\\\\\\\\\\\\": false, \\\\\\\\\\\\\\\"separator\\\\\\\\\\\\\\\": \\\\\\\\\\\\\\\",\\\\\\\\\\\\\\\", \\\\\\\\\\\\\\\"skipRows\\\\\\\\\\\\\\\": 0, \\\\\\\\\\\\\\\"skipRowsMode\\\\\\\\\\\\\\\": 0}, \\\\\\\\\\\\\\\"localData\\\\\\\\\\\\\\\": {}, \\\\\\\\\\\\\\\"isEnabled\\\\\\\\\\\\\\\": true, \\\\\\\\\\\\\\\"name\\\\\\\\\\\\\\\": null, \\\\\\\\\\\\\\\"annotation\\\\\\\\\\\\\\\": null}, {\\\\\\\\\\\\\\\"id\\\\\\\\\\\\\\\": \\\\\\\\\\\\\\\"620af591-c6ed-4480-b611-bf773b16d79e\\\\\\\\\\\\\\\", \\\\\\\\\\\\\\\"type\\\\\\\\\\\\\\\": \\\\\\\\\\\\\\\"Microsoft.DPrep.DropColumnsBlock\\\\\\\\\\\\\\\", \\\\\\\\\\\\\\\"arguments\\\\\\\\\\\\\\\": {\\\\\\\\\\\\\\\"columns\\\\\\\\\\\\\\\": {\\\\\\\\\\\\\\\"type\\\\\\\\\\\\\\\": 0, \\\\\\\\\\\\\\\"details\\\\\\\\\\\\\\\": {\\\\\\\\\\\\\\\"selectedColumns\\\\\\\\\\\\\\\": [\\\\\\\\\\\\\\\"Path\\\\\\\\\\\\\\\"]}}}, \\\\\\\\\\\\\\\"localData\\\\\\\\\\\\\\\": {}, \\\\\\\\\\\\\\\"isEnabled\\\\\\\\\\\\\\\": true, \\\\\\\\\\\\\\\"name\\\\\\\\\\\\\\\": null, \\\\\\\\\\\\\\\"annotation\\\\\\\\\\\\\\\": null}, {\\\\\\\\\\\\\\\"id\\\\\\\\\\\\\\\": \\\\\\\\\\\\\\\"ce46223a-0d67-4754-801e-32f5dd64d31f\\\\\\\\\\\\\\\", \\\\\\\\\\\\\\\"type\\\\\\\\\\\\\\\": \\\\\\\\\\\\\\\"Microsoft.DPrep.SetColumnTypesBlock\\\\\\\\\\\\\\\", \\\\\\\\\\\\\\\"arguments\\\\\\\\\\\\\\\": {\\\\\\\\\\\\\\\"columnConversion\\\\\\\\\\\\\\\": [{\\\\\\\\\\\\\\\"column\\\\\\\\\\\\\\\": {\\\\\\\\\\\\\\\"type\\\\\\\\\\\\\\\": 2, \\\\\\\\\\\\\\\"details\\\\\\\\\\\\\\\": {\\\\\\\\\\\\\\\"selectedColumn\\\\\\\\\\\\\\\": \\\\\\\\\\\\\\\"age\\\\\\\\\\\\\\\"}}, \\\\\\\\\\\\\\\"typeProperty\\\\\\\\\\\\\\\": 3}, {\\\\\\\\\\\\\\\"column\\\\\\\\\\\\\\\": {\\\\\\\\\\\\\\\"type\\\\\\\\\\\\\\\": 2, \\\\\\\\\\\\\\\"details\\\\\\\\\\\\\\\": {\\\\\\\\\\\\\\\"selectedColumn\\\\\\\\\\\\\\\": \\\\\\\\\\\\\\\"anaemia\\\\\\\\\\\\\\\"}}, \\\\\\\\\\\\\\\"typeProperty\\\\\\\\\\\\\\\": 2}, {\\\\\\\\\\\\\\\"column\\\\\\\\\\\\\\\": {\\\\\\\\\\\\\\\"type\\\\\\\\\\\\\\\": 2, \\\\\\\\\\\\\\\"details\\\\\\\\\\\\\\\": {\\\\\\\\\\\\\\\"selectedColumn\\\\\\\\\\\\\\\": \\\\\\\\\\\\\\\"creatinine_phosphokinase\\\\\\\\\\\\\\\"}}, \\\\\\\\\\\\\\\"typeProperty\\\\\\\\\\\\\\\": 2}, {\\\\\\\\\\\\\\\"column\\\\\\\\\\\\\\\": {\\\\\\\\\\\\\\\"type\\\\\\\\\\\\\\\": 2, \\\\\\\\\\\\\\\"details\\\\\\\\\\\\\\\": {\\\\\\\\\\\\\\\"selectedColumn\\\\\\\\\\\\\\\": \\\\\\\\\\\\\\\"diabetes\\\\\\\\\\\\\\\"}}, \\\\\\\\\\\\\\\"typeProperty\\\\\\\\\\\\\\\": 2}, {\\\\\\\\\\\\\\\"column\\\\\\\\\\\\\\\": {\\\\\\\\\\\\\\\"type\\\\\\\\\\\\\\\": 2, \\\\\\\\\\\\\\\"details\\\\\\\\\\\\\\\": {\\\\\\\\\\\\\\\"selectedColumn\\\\\\\\\\\\\\\": \\\\\\\\\\\\\\\"ejection_fraction\\\\\\\\\\\\\\\"}}, \\\\\\\\\\\\\\\"typeProperty\\\\\\\\\\\\\\\": 2}, {\\\\\\\\\\\\\\\"column\\\\\\\\\\\\\\\": {\\\\\\\\\\\\\\\"type\\\\\\\\\\\\\\\": 2, \\\\\\\\\\\\\\\"details\\\\\\\\\\\\\\\": {\\\\\\\\\\\\\\\"selectedColumn\\\\\\\\\\\\\\\": \\\\\\\\\\\\\\\"high_blood_pressure\\\\\\\\\\\\\\\"}}, \\\\\\\\\\\\\\\"typeProperty\\\\\\\\\\\\\\\": 2}, {\\\\\\\\\\\\\\\"column\\\\\\\\\\\\\\\": {\\\\\\\\\\\\\\\"type\\\\\\\\\\\\\\\": 2, \\\\\\\\\\\\\\\"details\\\\\\\\\\\\\\\": {\\\\\\\\\\\\\\\"selectedColumn\\\\\\\\\\\\\\\": \\\\\\\\\\\\\\\"platelets\\\\\\\\\\\\\\\"}}, \\\\\\\\\\\\\\\"typeProperty\\\\\\\\\\\\\\\": 3}, {\\\\\\\\\\\\\\\"column\\\\\\\\\\\\\\\": {\\\\\\\\\\\\\\\"type\\\\\\\\\\\\\\\": 2, \\\\\\\\\\\\\\\"details\\\\\\\\\\\\\\\": {\\\\\\\\\\\\\\\"selectedColumn\\\\\\\\\\\\\\\": \\\\\\\\\\\\\\\"serum_creatinine\\\\\\\\\\\\\\\"}}, \\\\\\\\\\\\\\\"typeProperty\\\\\\\\\\\\\\\": 3}, {\\\\\\\\\\\\\\\"column\\\\\\\\\\\\\\\": {\\\\\\\\\\\\\\\"type\\\\\\\\\\\\\\\": 2, \\\\\\\\\\\\\\\"details\\\\\\\\\\\\\\\": {\\\\\\\\\\\\\\\"selectedColumn\\\\\\\\\\\\\\\": \\\\\\\\\\\\\\\"serum_sodium\\\\\\\\\\\\\\\"}}, \\\\\\\\\\\\\\\"typeProperty\\\\\\\\\\\\\\\": 2}, {\\\\\\\\\\\\\\\"column\\\\\\\\\\\\\\\": {\\\\\\\\\\\\\\\"type\\\\\\\\\\\\\\\": 2, \\\\\\\\\\\\\\\"details\\\\\\\\\\\\\\\": {\\\\\\\\\\\\\\\"selectedColumn\\\\\\\\\\\\\\\": \\\\\\\\\\\\\\\"sex\\\\\\\\\\\\\\\"}}, \\\\\\\\\\\\\\\"typeProperty\\\\\\\\\\\\\\\": 2}, {\\\\\\\\\\\\\\\"column\\\\\\\\\\\\\\\": {\\\\\\\\\\\\\\\"type\\\\\\\\\\\\\\\": 2, \\\\\\\\\\\\\\\"details\\\\\\\\\\\\\\\": {\\\\\\\\\\\\\\\"selectedColumn\\\\\\\\\\\\\\\": \\\\\\\\\\\\\\\"smoking\\\\\\\\\\\\\\\"}}, \\\\\\\\\\\\\\\"typeProperty\\\\\\\\\\\\\\\": 2}, {\\\\\\\\\\\\\\\"column\\\\\\\\\\\\\\\": {\\\\\\\\\\\\\\\"type\\\\\\\\\\\\\\\": 2, \\\\\\\\\\\\\\\"details\\\\\\\\\\\\\\\": {\\\\\\\\\\\\\\\"selectedColumn\\\\\\\\\\\\\\\": \\\\\\\\\\\\\\\"time\\\\\\\\\\\\\\\"}}, \\\\\\\\\\\\\\\"typeProperty\\\\\\\\\\\\\\\": 2}, {\\\\\\\\\\\\\\\"column\\\\\\\\\\\\\\\": {\\\\\\\\\\\\\\\"type\\\\\\\\\\\\\\\": 2, \\\\\\\\\\\\\\\"details\\\\\\\\\\\\\\\": {\\\\\\\\\\\\\\\"selectedColumn\\\\\\\\\\\\\\\": \\\\\\\\\\\\\\\"DEATH_EVENT\\\\\\\\\\\\\\\"}}, \\\\\\\\\\\\\\\"typeProperty\\\\\\\\\\\\\\\": 2}]}, \\\\\\\\\\\\\\\"localData\\\\\\\\\\\\\\\": {}, \\\\\\\\\\\\\\\"isEnabled\\\\\\\\\\\\\\\": true, \\\\\\\\\\\\\\\"name\\\\\\\\\\\\\\\": null, \\\\\\\\\\\\\\\"annotation\\\\\\\\\\\\\\\": null}], \\\\\\\\\\\\\\\"inspectors\\\\\\\\\\\\\\\": [], \\\\\\\\\\\\\\\"meta\\\\\\\\\\\\\\\": {\\\\\\\\\\\\\\\"savedDatasetId\\\\\\\\\\\\\\\": \\\\\\\\\\\\\\\"0bf59b08-8bc3-4812-adaf-018def03de90\\\\\\\\\\\\\\\", \\\\\\\\\\\\\\\"datasetType\\\\\\\\\\\\\\\": \\\\\\\\\\\\\\\"tabular\\\\\\\\\\\\\\\", \\\\\\\\\\\\\\\"subscriptionId\\\\\\\\\\\\\\\": \\\\\\\\\\\\\\\"a0a76bad-11a1-4a2d-9887-97a29122c8ed\\\\\\\\\\\\\\\", \\\\\\\\\\\\\\\"workspaceId\\\\\\\\\\\\\\\": \\\\\\\\\\\\\\\"4e6d7f4d-0119-406f-92f1-51367d31f816\\\\\\\\\\\\\\\", \\\\\\\\\\\\\\\"workspaceLocation\\\\\\\\\\\\\\\": \\\\\\\\\\\\\\\"southcentralus\\\\\\\\\\\\\\\"}}\\\\\\\", \\\\\\\"activities\\\\\\\": 0}\", \"EnableSubsampling\": null, \"runTemplate\": \"AutoML\", \"azureml.runsource\": \"automl\", \"display_task_type\": \"classification\", \"dependencies_versions\": \"{\\\"azureml-widgets\\\": \\\"1.19.0\\\", \\\"azureml-train\\\": \\\"1.19.0\\\", \\\"azureml-train-restclients-hyperdrive\\\": \\\"1.19.0\\\", \\\"azureml-train-core\\\": \\\"1.19.0\\\", \\\"azureml-train-automl\\\": \\\"1.19.0\\\", \\\"azureml-train-automl-runtime\\\": \\\"1.19.0\\\", \\\"azureml-train-automl-client\\\": \\\"1.19.0\\\", \\\"azureml-tensorboard\\\": \\\"1.19.0\\\", \\\"azureml-telemetry\\\": \\\"1.19.0\\\", \\\"azureml-sdk\\\": \\\"1.19.0\\\", \\\"azureml-samples\\\": \\\"0+unknown\\\", \\\"azureml-pipeline\\\": \\\"1.19.0\\\", \\\"azureml-pipeline-steps\\\": \\\"1.19.0\\\", \\\"azureml-pipeline-core\\\": \\\"1.19.0\\\", \\\"azureml-opendatasets\\\": \\\"1.19.0\\\", \\\"azureml-model-management-sdk\\\": \\\"1.0.1b6.post1\\\", \\\"azureml-mlflow\\\": \\\"1.19.0\\\", \\\"azureml-interpret\\\": \\\"1.19.0\\\", \\\"azureml-explain-model\\\": \\\"1.19.0\\\", \\\"azureml-defaults\\\": \\\"1.19.0\\\", \\\"azureml-dataset-runtime\\\": \\\"1.19.0\\\", \\\"azureml-dataprep\\\": \\\"2.6.1\\\", \\\"azureml-dataprep-rslex\\\": \\\"1.4.0\\\", \\\"azureml-dataprep-native\\\": \\\"26.0.0\\\", \\\"azureml-datadrift\\\": \\\"1.19.0\\\", \\\"azureml-core\\\": \\\"1.19.0\\\", \\\"azureml-contrib-services\\\": \\\"1.19.0\\\", \\\"azureml-contrib-server\\\": \\\"1.19.0\\\", \\\"azureml-contrib-reinforcementlearning\\\": \\\"1.19.0\\\", \\\"azureml-contrib-pipeline-steps\\\": \\\"1.19.0\\\", \\\"azureml-contrib-notebook\\\": \\\"1.19.0\\\", \\\"azureml-contrib-interpret\\\": \\\"1.19.0\\\", \\\"azureml-contrib-gbdt\\\": \\\"1.19.0\\\", \\\"azureml-contrib-fairness\\\": \\\"1.19.0\\\", \\\"azureml-contrib-dataset\\\": \\\"1.19.0\\\", \\\"azureml-cli-common\\\": \\\"1.19.0\\\", \\\"azureml-automl-runtime\\\": \\\"1.19.0\\\", \\\"azureml-automl-core\\\": \\\"1.19.0\\\", \\\"azureml-accel-models\\\": \\\"1.19.0\\\"}\", \"_aml_system_scenario_identification\": \"Remote.Parent\", \"ClientType\": \"SDK\", \"environment_cpu_name\": \"AzureML-AutoML\", \"environment_cpu_label\": \"prod\", \"environment_gpu_name\": \"AzureML-AutoML-GPU\", \"environment_gpu_label\": \"prod\", \"root_attribution\": \"automl\", \"attribution\": \"AutoML\", \"Orchestrator\": \"AutoML\", \"CancelUri\": \"https://southcentralus.experiments.azureml.net/jasmine/v1.0/subscriptions/a0a76bad-11a1-4a2d-9887-97a29122c8ed/resourceGroups/aml-quickstarts-133416/providers/Microsoft.MachineLearningServices/workspaces/quick-starts-ws-133416/experimentids/c7ef006b-d9e4-464f-bf4f-385919dc32f3/cancel/AutoML_32d8d192-6f8f-42bd-8e0c-83d0ba36ac51\", \"ClientSdkVersion\": \"1.19.0\", \"snapshotId\": \"00000000-0000-0000-0000-000000000000\", \"SetupRunId\": \"AutoML_32d8d192-6f8f-42bd-8e0c-83d0ba36ac51_setup\", \"SetupRunContainerId\": \"dcid.AutoML_32d8d192-6f8f-42bd-8e0c-83d0ba36ac51_setup\", \"FeaturizationRunJsonPath\": \"featurizer_container.json\", \"FeaturizationRunId\": \"AutoML_32d8d192-6f8f-42bd-8e0c-83d0ba36ac51_featurize\", \"ProblemInfoJsonString\": \"{\\\"dataset_num_categorical\\\": 0, \\\"is_sparse\\\": false, \\\"subsampling\\\": false, \\\"dataset_classes\\\": 2, \\\"dataset_features\\\": 12, \\\"dataset_samples\\\": 239, \\\"single_frequency_class_detected\\\": false}\", \"ModelExplainRunId\": \"AutoML_32d8d192-6f8f-42bd-8e0c-83d0ba36ac51_ModelExplain\"}, \"tags\": {\"model_explain_run\": \"best_run\", \"_aml_system_azureml.automlComponent\": \"AutoML\", \"pipeline_id\": \"\", \"score\": \"\", \"predicted_cost\": \"\", \"fit_time\": \"\", \"training_percent\": \"\", \"iteration\": \"\", \"run_preprocessor\": \"\", \"run_algorithm\": \"\", \"dynamic_whitelisting_iterations\": \"<25>;<30>;<35>;<40>;<45>;<50>;\", \"automl_best_child_run_id\": \"AutoML_32d8d192-6f8f-42bd-8e0c-83d0ba36ac51_51\", \"model_explain_best_run_child_id\": \"AutoML_32d8d192-6f8f-42bd-8e0c-83d0ba36ac51_51\"}, \"end_time_utc\": \"2021-01-05T02:13:29.501696Z\", \"status\": \"Completed\", \"log_files\": {}, \"log_groups\": [], \"run_duration\": \"0:23:11\"}, \"child_runs\": [{\"run_id\": \"AutoML_32d8d192-6f8f-42bd-8e0c-83d0ba36ac51_0\", \"run_number\": 5, \"metric\": null, \"status\": \"Completed\", \"run_type\": \"azureml.scriptrun\", \"training_percent\": \"100\", \"start_time\": \"2021-01-05T01:55:07.765702Z\", \"end_time\": \"2021-01-05T01:56:18.548787Z\", \"created_time\": \"2021-01-05T01:54:54.597746Z\", \"created_time_dt\": \"2021-01-05T01:54:54.597746Z\", \"duration\": \"0:01:23\", \"iteration\": \"0\", \"goal\": \"AUC_weighted_max\", \"run_name\": \"MaxAbsScaler, LightGBM\", \"run_properties\": \"copy=True\", \"primary_metric\": 0.89008929, \"best_metric\": 0.89008929}, {\"run_id\": \"AutoML_32d8d192-6f8f-42bd-8e0c-83d0ba36ac51_4\", \"run_number\": 6, \"metric\": null, \"status\": \"Completed\", \"run_type\": \"azureml.scriptrun\", \"training_percent\": \"100\", \"start_time\": \"2021-01-05T01:55:07.418198Z\", \"end_time\": \"2021-01-05T01:56:15.12239Z\", \"created_time\": \"2021-01-05T01:54:54.757891Z\", \"created_time_dt\": \"2021-01-05T01:54:54.757891Z\", \"duration\": \"0:01:20\", \"iteration\": \"4\", \"goal\": \"AUC_weighted_max\", \"run_name\": \"MinMaxScaler, RandomForest\", \"run_properties\": \"copy=True, feature_range=(0, 1\", \"primary_metric\": 0.88153853, \"best_metric\": 0.89640625}, {\"run_id\": \"AutoML_32d8d192-6f8f-42bd-8e0c-83d0ba36ac51_3\", \"run_number\": 7, \"metric\": null, \"status\": \"Completed\", \"run_type\": \"azureml.scriptrun\", \"training_percent\": \"100\", \"start_time\": \"2021-01-05T01:55:06.570938Z\", \"end_time\": \"2021-01-05T01:56:15.215648Z\", \"created_time\": \"2021-01-05T01:54:54.765633Z\", \"created_time_dt\": \"2021-01-05T01:54:54.765633Z\", \"duration\": \"0:01:20\", \"iteration\": \"3\", \"goal\": \"AUC_weighted_max\", \"run_name\": \"RobustScaler, ExtremeRandomTrees\", \"run_properties\": \"copy=True, quantile_range=[10, 90], with_centering=False,\\n             with_scaling=False\", \"primary_metric\": 0.88062252, \"best_metric\": 0.89640625}, {\"run_id\": \"AutoML_32d8d192-6f8f-42bd-8e0c-83d0ba36ac51_1\", \"run_number\": 8, \"metric\": null, \"status\": \"Completed\", \"run_type\": \"azureml.scriptrun\", \"training_percent\": \"100\", \"start_time\": \"2021-01-05T01:55:06.652906Z\", \"end_time\": \"2021-01-05T01:56:22.269068Z\", \"created_time\": \"2021-01-05T01:54:54.784395Z\", \"created_time_dt\": \"2021-01-05T01:54:54.784395Z\", \"duration\": \"0:01:27\", \"iteration\": \"1\", \"goal\": \"AUC_weighted_max\", \"run_name\": \"MaxAbsScaler, XGBoostClassifier\", \"run_properties\": \"copy=True\", \"primary_metric\": 0.88788938, \"best_metric\": 0.89008929}, {\"run_id\": \"AutoML_32d8d192-6f8f-42bd-8e0c-83d0ba36ac51_2\", \"run_number\": 9, \"metric\": null, \"status\": \"Completed\", \"run_type\": \"azureml.scriptrun\", \"training_percent\": \"100\", \"start_time\": \"2021-01-05T01:55:08.236355Z\", \"end_time\": \"2021-01-05T01:56:17.597123Z\", \"created_time\": \"2021-01-05T01:54:54.811987Z\", \"created_time_dt\": \"2021-01-05T01:54:54.811987Z\", \"duration\": \"0:01:22\", \"iteration\": \"2\", \"goal\": \"AUC_weighted_max\", \"run_name\": \"MinMaxScaler, RandomForest\", \"run_properties\": \"copy=True, feature_range=(0, 1\", \"primary_metric\": 0.89640625, \"best_metric\": 0.89640625}, {\"run_id\": \"AutoML_32d8d192-6f8f-42bd-8e0c-83d0ba36ac51_5\", \"run_number\": 10, \"metric\": null, \"status\": \"Completed\", \"run_type\": \"azureml.scriptrun\", \"training_percent\": \"100\", \"start_time\": \"2021-01-05T01:56:36.400783Z\", \"end_time\": \"2021-01-05T01:57:41.072976Z\", \"created_time\": \"2021-01-05T01:56:18.871296Z\", \"created_time_dt\": \"2021-01-05T01:56:18.871296Z\", \"duration\": \"0:01:22\", \"iteration\": \"5\", \"goal\": \"AUC_weighted_max\", \"run_name\": \"MinMaxScaler, RandomForest\", \"run_properties\": \"copy=True, feature_range=(0, 1\", \"primary_metric\": 0.90337963, \"best_metric\": 0.90337963}, {\"run_id\": \"AutoML_32d8d192-6f8f-42bd-8e0c-83d0ba36ac51_6\", \"run_number\": 11, \"metric\": null, \"status\": \"Completed\", \"run_type\": \"azureml.scriptrun\", \"training_percent\": \"100\", \"start_time\": \"2021-01-05T01:56:35.886345Z\", \"end_time\": \"2021-01-05T01:57:39.400446Z\", \"created_time\": \"2021-01-05T01:56:18.872981Z\", \"created_time_dt\": \"2021-01-05T01:56:18.872981Z\", \"duration\": \"0:01:20\", \"iteration\": \"6\", \"goal\": \"AUC_weighted_max\", \"run_name\": \"StandardScalerWrapper, RandomForest\", \"run_properties\": \"<azureml.automl.runtime.shared.model_wrappers.StandardScalerWrapper object at 0x7f03a8892978\", \"primary_metric\": 0.88954365, \"best_metric\": 0.90337963}, {\"run_id\": \"AutoML_32d8d192-6f8f-42bd-8e0c-83d0ba36ac51_7\", \"run_number\": 12, \"metric\": null, \"status\": \"Completed\", \"run_type\": \"azureml.scriptrun\", \"training_percent\": \"100\", \"start_time\": \"2021-01-05T01:56:37.999868Z\", \"end_time\": \"2021-01-05T01:57:45.854615Z\", \"created_time\": \"2021-01-05T01:56:25.455609Z\", \"created_time_dt\": \"2021-01-05T01:56:25.455609Z\", \"duration\": \"0:01:20\", \"iteration\": \"7\", \"goal\": \"AUC_weighted_max\", \"run_name\": \"MinMaxScaler, ExtremeRandomTrees\", \"run_properties\": \"copy=True, feature_range=(0, 1\", \"primary_metric\": 0.86489914, \"best_metric\": 0.90337963}, {\"run_id\": \"AutoML_32d8d192-6f8f-42bd-8e0c-83d0ba36ac51_8\", \"run_number\": 13, \"metric\": null, \"status\": \"Completed\", \"run_type\": \"azureml.scriptrun\", \"training_percent\": \"100\", \"start_time\": \"2021-01-05T01:56:39.203144Z\", \"end_time\": \"2021-01-05T01:57:46.744833Z\", \"created_time\": \"2021-01-05T01:56:25.466854Z\", \"created_time_dt\": \"2021-01-05T01:56:25.466854Z\", \"duration\": \"0:01:21\", \"iteration\": \"8\", \"goal\": \"AUC_weighted_max\", \"run_name\": \"MinMaxScaler, ExtremeRandomTrees\", \"run_properties\": \"copy=True, feature_range=(0, 1\", \"primary_metric\": 0.87825231, \"best_metric\": 0.90337963}, {\"run_id\": \"AutoML_32d8d192-6f8f-42bd-8e0c-83d0ba36ac51_9\", \"run_number\": 14, \"metric\": null, \"status\": \"Completed\", \"run_type\": \"azureml.scriptrun\", \"training_percent\": \"100\", \"start_time\": \"2021-01-05T01:56:39.197672Z\", \"end_time\": \"2021-01-05T01:57:40.2078Z\", \"created_time\": \"2021-01-05T01:56:25.457881Z\", \"created_time_dt\": \"2021-01-05T01:56:25.457881Z\", \"duration\": \"0:01:14\", \"iteration\": \"9\", \"goal\": \"AUC_weighted_max\", \"run_name\": \"SparseNormalizer, KNN\", \"run_properties\": \"<azureml.automl.runtime.shared.model_wrappers.SparseNormalizer object at 0x7f5451246860\", \"primary_metric\": 0.71834408, \"best_metric\": 0.90337963}, {\"run_id\": \"AutoML_32d8d192-6f8f-42bd-8e0c-83d0ba36ac51_10\", \"run_number\": 15, \"metric\": null, \"status\": \"Completed\", \"run_type\": \"azureml.scriptrun\", \"training_percent\": \"100\", \"start_time\": \"2021-01-05T01:57:55.766815Z\", \"end_time\": \"2021-01-05T01:59:05.878024Z\", \"created_time\": \"2021-01-05T01:57:42.650566Z\", \"created_time_dt\": \"2021-01-05T01:57:42.650566Z\", \"duration\": \"0:01:23\", \"iteration\": \"10\", \"goal\": \"AUC_weighted_max\", \"run_name\": \"MinMaxScaler, ExtremeRandomTrees\", \"run_properties\": \"copy=True, feature_range=(0, 1\", \"primary_metric\": 0.86693618, \"best_metric\": 0.90337963}, {\"run_id\": \"AutoML_32d8d192-6f8f-42bd-8e0c-83d0ba36ac51_11\", \"run_number\": 16, \"metric\": null, \"status\": \"Completed\", \"run_type\": \"azureml.scriptrun\", \"training_percent\": \"100\", \"start_time\": \"2021-01-05T01:57:59.636344Z\", \"end_time\": \"2021-01-05T01:59:06.685223Z\", \"created_time\": \"2021-01-05T01:57:47.038706Z\", \"created_time_dt\": \"2021-01-05T01:57:47.038706Z\", \"duration\": \"0:01:19\", \"iteration\": \"11\", \"goal\": \"AUC_weighted_max\", \"run_name\": \"RobustScaler, ExtremeRandomTrees\", \"run_properties\": \"copy=True, quantile_range=[10, 90], with_centering=True,\\n             with_scaling=False\", \"primary_metric\": 0.86684937, \"best_metric\": 0.90337963}, {\"run_id\": \"AutoML_32d8d192-6f8f-42bd-8e0c-83d0ba36ac51_12\", \"run_number\": 17, \"metric\": null, \"status\": \"Completed\", \"run_type\": \"azureml.scriptrun\", \"training_percent\": \"100\", \"start_time\": \"2021-01-05T01:57:57.181716Z\", \"end_time\": \"2021-01-05T01:59:02.76977Z\", \"created_time\": \"2021-01-05T01:57:47.098172Z\", \"created_time_dt\": \"2021-01-05T01:57:47.098172Z\", \"duration\": \"0:01:15\", \"iteration\": \"12\", \"goal\": \"AUC_weighted_max\", \"run_name\": \"StandardScalerWrapper, RandomForest\", \"run_properties\": \"<azureml.automl.runtime.shared.model_wrappers.StandardScalerWrapper object at 0x7f6ccb10f6a0\", \"primary_metric\": 0.90266782, \"best_metric\": 0.90337963}, {\"run_id\": \"AutoML_32d8d192-6f8f-42bd-8e0c-83d0ba36ac51_14\", \"run_number\": 18, \"metric\": null, \"status\": \"Completed\", \"run_type\": \"azureml.scriptrun\", \"training_percent\": \"100\", \"start_time\": \"2021-01-05T01:58:04.085042Z\", \"end_time\": \"2021-01-05T01:59:09.718216Z\", \"created_time\": \"2021-01-05T01:57:51.863995Z\", \"created_time_dt\": \"2021-01-05T01:57:51.863995Z\", \"duration\": \"0:01:17\", \"iteration\": \"14\", \"goal\": \"AUC_weighted_max\", \"run_name\": \"RobustScaler, RandomForest\", \"run_properties\": \"copy=True, quantile_range=[10, 90], with_centering=True,\\n             with_scaling=False\", \"primary_metric\": 0.88606233, \"best_metric\": 0.90337963}, {\"run_id\": \"AutoML_32d8d192-6f8f-42bd-8e0c-83d0ba36ac51_13\", \"run_number\": 19, \"metric\": null, \"status\": \"Completed\", \"run_type\": \"azureml.scriptrun\", \"training_percent\": \"100\", \"start_time\": \"2021-01-05T01:58:04.664392Z\", \"end_time\": \"2021-01-05T01:59:05.304523Z\", \"created_time\": \"2021-01-05T01:57:51.864763Z\", \"created_time_dt\": \"2021-01-05T01:57:51.864763Z\", \"duration\": \"0:01:13\", \"iteration\": \"13\", \"goal\": \"AUC_weighted_max\", \"run_name\": \"StandardScalerWrapper, SGD\", \"run_properties\": \"<azureml.automl.runtime.shared.model_wrappers.StandardScalerWrapper object at 0x7f3fad560320\", \"primary_metric\": 0.85235615, \"best_metric\": 0.90337963}, {\"run_id\": \"AutoML_32d8d192-6f8f-42bd-8e0c-83d0ba36ac51_15\", \"run_number\": 20, \"metric\": null, \"status\": \"Completed\", \"run_type\": \"azureml.scriptrun\", \"training_percent\": \"100\", \"start_time\": \"2021-01-05T01:59:20.440989Z\", \"end_time\": \"2021-01-05T02:00:43.893835Z\", \"created_time\": \"2021-01-05T01:59:06.937846Z\", \"created_time_dt\": \"2021-01-05T01:59:06.937846Z\", \"duration\": \"0:01:36\", \"iteration\": \"15\", \"goal\": \"AUC_weighted_max\", \"run_name\": \"StandardScalerWrapper, KNN\", \"run_properties\": \"<azureml.automl.runtime.shared.model_wrappers.StandardScalerWrapper object at 0x7ffb9a73a860\", \"primary_metric\": 0.58758681, \"best_metric\": 0.90337963}, {\"run_id\": \"AutoML_32d8d192-6f8f-42bd-8e0c-83d0ba36ac51_16\", \"run_number\": 21, \"metric\": null, \"status\": \"Completed\", \"run_type\": \"azureml.scriptrun\", \"training_percent\": \"100\", \"start_time\": \"2021-01-05T01:59:25.884955Z\", \"end_time\": \"2021-01-05T02:00:32.395763Z\", \"created_time\": \"2021-01-05T01:59:12.279752Z\", \"created_time_dt\": \"2021-01-05T01:59:12.279752Z\", \"duration\": \"0:01:20\", \"iteration\": \"16\", \"goal\": \"AUC_weighted_max\", \"run_name\": \"MinMaxScaler, RandomForest\", \"run_properties\": \"copy=True, feature_range=(0, 1\", \"primary_metric\": 0.86983052, \"best_metric\": 0.90337963}, {\"run_id\": \"AutoML_32d8d192-6f8f-42bd-8e0c-83d0ba36ac51_18\", \"run_number\": 22, \"metric\": null, \"status\": \"Completed\", \"run_type\": \"azureml.scriptrun\", \"training_percent\": \"100\", \"start_time\": \"2021-01-05T01:59:26.285837Z\", \"end_time\": \"2021-01-05T02:00:50.072863Z\", \"created_time\": \"2021-01-05T01:59:12.379242Z\", \"created_time_dt\": \"2021-01-05T01:59:12.379242Z\", \"duration\": \"0:01:37\", \"iteration\": \"18\", \"goal\": \"AUC_weighted_max\", \"run_name\": \"MaxAbsScaler, RandomForest\", \"run_properties\": \"copy=True\", \"primary_metric\": 0.89053241, \"best_metric\": 0.90337963}, {\"run_id\": \"AutoML_32d8d192-6f8f-42bd-8e0c-83d0ba36ac51_17\", \"run_number\": 23, \"metric\": null, \"status\": \"Completed\", \"run_type\": \"azureml.scriptrun\", \"training_percent\": \"100\", \"start_time\": \"2021-01-05T01:59:26.086085Z\", \"end_time\": \"2021-01-05T02:00:33.503717Z\", \"created_time\": \"2021-01-05T01:59:12.399945Z\", \"created_time_dt\": \"2021-01-05T01:59:12.399945Z\", \"duration\": \"0:01:21\", \"iteration\": \"17\", \"goal\": \"AUC_weighted_max\", \"run_name\": \"MinMaxScaler, ExtremeRandomTrees\", \"run_properties\": \"copy=True, feature_range=(0, 1\", \"primary_metric\": 0.80370453, \"best_metric\": 0.90337963}, {\"run_id\": \"AutoML_32d8d192-6f8f-42bd-8e0c-83d0ba36ac51_19\", \"run_number\": 24, \"metric\": null, \"status\": \"Completed\", \"run_type\": \"azureml.scriptrun\", \"training_percent\": \"100\", \"start_time\": \"2021-01-05T01:59:31.698782Z\", \"end_time\": \"2021-01-05T02:00:43.617467Z\", \"created_time\": \"2021-01-05T01:59:19.031766Z\", \"created_time_dt\": \"2021-01-05T01:59:19.031766Z\", \"duration\": \"0:01:24\", \"iteration\": \"19\", \"goal\": \"AUC_weighted_max\", \"run_name\": \"StandardScalerWrapper, XGBoostClassifier\", \"run_properties\": \"<azureml.automl.runtime.shared.model_wrappers.StandardScalerWrapper object at 0x7fa2b2e046a0\", \"primary_metric\": 0.89263228, \"best_metric\": 0.90337963}, {\"run_id\": \"AutoML_32d8d192-6f8f-42bd-8e0c-83d0ba36ac51_20\", \"run_number\": 25, \"metric\": null, \"status\": \"Completed\", \"run_type\": \"azureml.scriptrun\", \"training_percent\": \"100\", \"start_time\": \"2021-01-05T02:00:50.016116Z\", \"end_time\": \"2021-01-05T02:02:00.504132Z\", \"created_time\": \"2021-01-05T02:00:35.872705Z\", \"created_time_dt\": \"2021-01-05T02:00:35.872705Z\", \"duration\": \"0:01:24\", \"iteration\": \"20\", \"goal\": \"AUC_weighted_max\", \"run_name\": \"MaxAbsScaler, RandomForest\", \"run_properties\": \"copy=True\", \"primary_metric\": 0.85015046, \"best_metric\": 0.90337963}, {\"run_id\": \"AutoML_32d8d192-6f8f-42bd-8e0c-83d0ba36ac51_21\", \"run_number\": 26, \"metric\": null, \"status\": \"Completed\", \"run_type\": \"azureml.scriptrun\", \"training_percent\": \"100\", \"start_time\": \"2021-01-05T02:00:54.19797Z\", \"end_time\": \"2021-01-05T02:01:59.711189Z\", \"created_time\": \"2021-01-05T02:00:42.862194Z\", \"created_time_dt\": \"2021-01-05T02:00:42.862194Z\", \"duration\": \"0:01:16\", \"iteration\": \"21\", \"goal\": \"AUC_weighted_max\", \"run_name\": \"MaxAbsScaler, ExtremeRandomTrees\", \"run_properties\": \"copy=True\", \"primary_metric\": 0.86526868, \"best_metric\": 0.90337963}, {\"run_id\": \"AutoML_32d8d192-6f8f-42bd-8e0c-83d0ba36ac51_23\", \"run_number\": 27, \"metric\": null, \"status\": \"Completed\", \"run_type\": \"azureml.scriptrun\", \"training_percent\": \"100\", \"start_time\": \"2021-01-05T02:01:08.320776Z\", \"end_time\": \"2021-01-05T02:02:13.662566Z\", \"created_time\": \"2021-01-05T02:00:55.089995Z\", \"created_time_dt\": \"2021-01-05T02:00:55.089995Z\", \"duration\": \"0:01:18\", \"iteration\": \"23\", \"goal\": \"AUC_weighted_max\", \"run_name\": \"StandardScalerWrapper, XGBoostClassifier\", \"run_properties\": \"<azureml.automl.runtime.shared.model_wrappers.StandardScalerWrapper object at 0x7f62aa6431d0\", \"primary_metric\": 0.89719205, \"best_metric\": 0.90337963}, {\"run_id\": \"AutoML_32d8d192-6f8f-42bd-8e0c-83d0ba36ac51_22\", \"run_number\": 28, \"metric\": null, \"status\": \"Completed\", \"run_type\": \"azureml.scriptrun\", \"training_percent\": \"100\", \"start_time\": \"2021-01-05T02:01:08.484184Z\", \"end_time\": \"2021-01-05T02:02:10.293612Z\", \"created_time\": \"2021-01-05T02:00:55.28557Z\", \"created_time_dt\": \"2021-01-05T02:00:55.28557Z\", \"duration\": \"0:01:15\", \"iteration\": \"22\", \"goal\": \"AUC_weighted_max\", \"run_name\": \"MaxAbsScaler, ExtremeRandomTrees\", \"run_properties\": \"copy=True\", \"primary_metric\": 0.86330605, \"best_metric\": 0.90337963}, {\"run_id\": \"AutoML_32d8d192-6f8f-42bd-8e0c-83d0ba36ac51_24\", \"run_number\": 29, \"metric\": null, \"status\": \"Completed\", \"run_type\": \"azureml.scriptrun\", \"training_percent\": \"100\", \"start_time\": \"2021-01-05T02:01:13.556839Z\", \"end_time\": \"2021-01-05T02:02:22.517885Z\", \"created_time\": \"2021-01-05T02:01:01.516063Z\", \"created_time_dt\": \"2021-01-05T02:01:01.516063Z\", \"duration\": \"0:01:21\", \"iteration\": \"24\", \"goal\": \"AUC_weighted_max\", \"run_name\": \"MaxAbsScaler, RandomForest\", \"run_properties\": \"copy=True\", \"primary_metric\": 0.89374008, \"best_metric\": 0.90337963}, {\"run_id\": \"AutoML_32d8d192-6f8f-42bd-8e0c-83d0ba36ac51_25\", \"run_number\": 30, \"metric\": null, \"status\": \"Completed\", \"run_type\": \"azureml.scriptrun\", \"training_percent\": \"100\", \"start_time\": \"2021-01-05T02:02:21.710051Z\", \"end_time\": \"2021-01-05T02:03:30.048446Z\", \"created_time\": \"2021-01-05T02:02:04.752103Z\", \"created_time_dt\": \"2021-01-05T02:02:04.752103Z\", \"duration\": \"0:01:25\", \"iteration\": \"25\", \"goal\": \"AUC_weighted_max\", \"run_name\": \"MinMaxScaler, RandomForest\", \"run_properties\": \"copy=True, feature_range=(0, 1\", \"primary_metric\": 0.89265005, \"best_metric\": 0.90337963}, {\"run_id\": \"AutoML_32d8d192-6f8f-42bd-8e0c-83d0ba36ac51_26\", \"run_number\": 31, \"metric\": null, \"status\": \"Completed\", \"run_type\": \"azureml.scriptrun\", \"training_percent\": \"100\", \"start_time\": \"2021-01-05T02:02:24.34666Z\", \"end_time\": \"2021-01-05T02:03:44.926338Z\", \"created_time\": \"2021-01-05T02:02:11.232819Z\", \"created_time_dt\": \"2021-01-05T02:02:11.232819Z\", \"duration\": \"0:01:33\", \"iteration\": \"26\", \"goal\": \"AUC_weighted_max\", \"run_name\": \"StandardScalerWrapper, XGBoostClassifier\", \"run_properties\": \"<azureml.automl.runtime.shared.model_wrappers.StandardScalerWrapper object at 0x7f7ab41d0f98\", \"primary_metric\": 0.90065476, \"best_metric\": 0.90337963}, {\"run_id\": \"AutoML_32d8d192-6f8f-42bd-8e0c-83d0ba36ac51_27\", \"run_number\": 32, \"metric\": null, \"status\": \"Completed\", \"run_type\": \"azureml.scriptrun\", \"training_percent\": \"100\", \"start_time\": \"2021-01-05T02:02:27.80547Z\", \"end_time\": \"2021-01-05T02:03:43.200848Z\", \"created_time\": \"2021-01-05T02:02:16.503945Z\", \"created_time_dt\": \"2021-01-05T02:02:16.503945Z\", \"duration\": \"0:01:26\", \"iteration\": \"27\", \"goal\": \"AUC_weighted_max\", \"run_name\": \"RobustScaler, LightGBM\", \"run_properties\": \"copy=True, quantile_range=[10, 90], with_centering=True,\\n             with_scaling=True\", \"primary_metric\": 0.89983218, \"best_metric\": 0.90337963}, {\"run_id\": \"AutoML_32d8d192-6f8f-42bd-8e0c-83d0ba36ac51_28\", \"run_number\": 33, \"metric\": null, \"status\": \"Completed\", \"run_type\": \"azureml.scriptrun\", \"training_percent\": \"100\", \"start_time\": \"2021-01-05T02:02:27.767373Z\", \"end_time\": \"2021-01-05T02:04:43.77432Z\", \"created_time\": \"2021-01-05T02:02:16.510641Z\", \"created_time_dt\": \"2021-01-05T02:02:16.510641Z\", \"duration\": \"0:02:27\", \"iteration\": \"28\", \"goal\": \"AUC_weighted_max\", \"run_name\": \"StandardScalerWrapper, LightGBM\", \"run_properties\": \"<azureml.automl.runtime.shared.model_wrappers.StandardScalerWrapper object at 0x7f7ac89de7f0\", \"primary_metric\": 0.86158482, \"best_metric\": 0.90337963}, {\"run_id\": \"AutoML_32d8d192-6f8f-42bd-8e0c-83d0ba36ac51_29\", \"run_number\": 34, \"metric\": null, \"status\": \"Completed\", \"run_type\": \"azureml.scriptrun\", \"training_percent\": \"100\", \"start_time\": \"2021-01-05T02:02:37.179893Z\", \"end_time\": \"2021-01-05T02:03:50.74421Z\", \"created_time\": \"2021-01-05T02:02:24.705707Z\", \"created_time_dt\": \"2021-01-05T02:02:24.705707Z\", \"duration\": \"0:01:26\", \"iteration\": \"29\", \"goal\": \"AUC_weighted_max\", \"run_name\": \"MinMaxScaler, RandomForest\", \"run_properties\": \"copy=True, feature_range=(0, 1\", \"primary_metric\": 0.90598462, \"best_metric\": 0.90598462}, {\"run_id\": \"AutoML_32d8d192-6f8f-42bd-8e0c-83d0ba36ac51_30\", \"run_number\": 35, \"metric\": null, \"status\": \"Completed\", \"run_type\": \"azureml.scriptrun\", \"training_percent\": \"100\", \"start_time\": \"2021-01-05T02:03:50.224453Z\", \"end_time\": \"2021-01-05T02:05:07.802983Z\", \"created_time\": \"2021-01-05T02:03:38.385209Z\", \"created_time_dt\": \"2021-01-05T02:03:38.385209Z\", \"duration\": \"0:01:29\", \"iteration\": \"30\", \"goal\": \"AUC_weighted_max\", \"run_name\": \"PCA, RandomForest\", \"run_properties\": \"copy=True, iterated_power='auto', n_components=0.05947368421052632,\\n    random_state=None, svd_solver='auto', tol=0.0, whiten=True\", \"primary_metric\": 0.51512483, \"best_metric\": 0.90598462}, {\"run_id\": \"AutoML_32d8d192-6f8f-42bd-8e0c-83d0ba36ac51_31\", \"run_number\": 36, \"metric\": null, \"status\": \"Completed\", \"run_type\": \"azureml.scriptrun\", \"training_percent\": \"100\", \"start_time\": \"2021-01-05T02:03:57.4813Z\", \"end_time\": \"2021-01-05T02:05:55.282008Z\", \"created_time\": \"2021-01-05T02:03:45.374155Z\", \"created_time_dt\": \"2021-01-05T02:03:45.374155Z\", \"duration\": \"0:02:09\", \"iteration\": \"31\", \"goal\": \"AUC_weighted_max\", \"run_name\": \"RobustScaler, RandomForest\", \"run_properties\": \"copy=True, quantile_range=[25, 75], with_centering=True,\\n             with_scaling=False\", \"primary_metric\": 0.91225529, \"best_metric\": 0.91225529}, {\"run_id\": \"AutoML_32d8d192-6f8f-42bd-8e0c-83d0ba36ac51_32\", \"run_number\": 37, \"metric\": null, \"status\": \"Completed\", \"run_type\": \"azureml.scriptrun\", \"training_percent\": \"100\", \"start_time\": \"2021-01-05T02:04:00.067015Z\", \"end_time\": \"2021-01-05T02:05:06.175194Z\", \"created_time\": \"2021-01-05T02:03:49.422042Z\", \"created_time_dt\": \"2021-01-05T02:03:49.422042Z\", \"duration\": \"0:01:16\", \"iteration\": \"32\", \"goal\": \"AUC_weighted_max\", \"run_name\": \"TruncatedSVDWrapper, XGBoostClassifier\", \"run_properties\": \"n_components=0.8510526315789474, random_state=None\", \"primary_metric\": 0.85498016, \"best_metric\": 0.91225529}, {\"run_id\": \"AutoML_32d8d192-6f8f-42bd-8e0c-83d0ba36ac51_33\", \"run_number\": 38, \"metric\": null, \"status\": \"Completed\", \"run_type\": \"azureml.scriptrun\", \"training_percent\": \"100\", \"start_time\": \"2021-01-05T02:04:24.307444Z\", \"end_time\": \"2021-01-05T02:06:00.774496Z\", \"created_time\": \"2021-01-05T02:03:55.002929Z\", \"created_time_dt\": \"2021-01-05T02:03:55.002929Z\", \"duration\": \"0:02:05\", \"iteration\": \"33\", \"goal\": \"AUC_weighted_max\", \"run_name\": \"StandardScalerWrapper, LightGBM\", \"run_properties\": \"<azureml.automl.runtime.shared.model_wrappers.StandardScalerWrapper object at 0x7f5a4d0174e0\", \"primary_metric\": 0.88700728, \"best_metric\": 0.91225529}, {\"run_id\": \"AutoML_32d8d192-6f8f-42bd-8e0c-83d0ba36ac51_34\", \"run_number\": 39, \"metric\": null, \"status\": \"Completed\", \"run_type\": \"azureml.scriptrun\", \"training_percent\": \"100\", \"start_time\": \"2021-01-05T02:05:01.141854Z\", \"end_time\": \"2021-01-05T02:06:16.897446Z\", \"created_time\": \"2021-01-05T02:04:46.847924Z\", \"created_time_dt\": \"2021-01-05T02:04:46.847924Z\", \"duration\": \"0:01:30\", \"iteration\": \"34\", \"goal\": \"AUC_weighted_max\", \"run_name\": \"MinMaxScaler, GradientBoosting\", \"run_properties\": \"copy=True, feature_range=(0, 1\", \"primary_metric\": 0.90739749, \"best_metric\": 0.91225529}, {\"run_id\": \"AutoML_32d8d192-6f8f-42bd-8e0c-83d0ba36ac51_35\", \"run_number\": 40, \"metric\": null, \"status\": \"Completed\", \"run_type\": \"azureml.scriptrun\", \"training_percent\": \"100\", \"start_time\": \"2021-01-05T02:05:21.265367Z\", \"end_time\": \"2021-01-05T02:06:36.084133Z\", \"created_time\": \"2021-01-05T02:05:10.0716Z\", \"created_time_dt\": \"2021-01-05T02:05:10.0716Z\", \"duration\": \"0:01:26\", \"iteration\": \"35\", \"goal\": \"AUC_weighted_max\", \"run_name\": \"StandardScalerWrapper, RandomForest\", \"run_properties\": \"<azureml.automl.runtime.shared.model_wrappers.StandardScalerWrapper object at 0x7f967f4cd0b8\", \"primary_metric\": 0.73441344, \"best_metric\": 0.91225529}, {\"run_id\": \"AutoML_32d8d192-6f8f-42bd-8e0c-83d0ba36ac51_36\", \"run_number\": 41, \"metric\": null, \"status\": \"Completed\", \"run_type\": \"azureml.scriptrun\", \"training_percent\": \"100\", \"start_time\": \"2021-01-05T02:05:28.569261Z\", \"end_time\": \"2021-01-05T02:06:39.556889Z\", \"created_time\": \"2021-01-05T02:05:15.378475Z\", \"created_time_dt\": \"2021-01-05T02:05:15.378475Z\", \"duration\": \"0:01:24\", \"iteration\": \"36\", \"goal\": \"AUC_weighted_max\", \"run_name\": \"MaxAbsScaler, LogisticRegression\", \"run_properties\": \"copy=True\", \"primary_metric\": 0.84975033, \"best_metric\": 0.91225529}, {\"run_id\": \"AutoML_32d8d192-6f8f-42bd-8e0c-83d0ba36ac51_37\", \"run_number\": 42, \"metric\": null, \"status\": \"Completed\", \"run_type\": \"azureml.scriptrun\", \"training_percent\": \"100\", \"start_time\": \"2021-01-05T02:06:16.184828Z\", \"end_time\": \"2021-01-05T02:07:43.358283Z\", \"created_time\": \"2021-01-05T02:05:58.348945Z\", \"created_time_dt\": \"2021-01-05T02:05:58.348945Z\", \"duration\": \"0:01:45\", \"iteration\": \"37\", \"goal\": \"AUC_weighted_max\", \"run_name\": \"StandardScalerWrapper, XGBoostClassifier\", \"run_properties\": \"<azureml.automl.runtime.shared.model_wrappers.StandardScalerWrapper object at 0x7f823724d0b8\", \"primary_metric\": 0.88976521, \"best_metric\": 0.91225529}, {\"run_id\": \"AutoML_32d8d192-6f8f-42bd-8e0c-83d0ba36ac51_38\", \"run_number\": 43, \"metric\": null, \"status\": \"Completed\", \"run_type\": \"azureml.scriptrun\", \"training_percent\": \"100\", \"start_time\": \"2021-01-05T02:06:17.842203Z\", \"end_time\": \"2021-01-05T02:07:51.205477Z\", \"created_time\": \"2021-01-05T02:06:03.921279Z\", \"created_time_dt\": \"2021-01-05T02:06:03.921279Z\", \"duration\": \"0:01:47\", \"iteration\": \"38\", \"goal\": \"AUC_weighted_max\", \"run_name\": \"StandardScalerWrapper, LogisticRegression\", \"run_properties\": \"<azureml.automl.runtime.shared.model_wrappers.StandardScalerWrapper object at 0x7ff590f4f908\", \"primary_metric\": 0.84059441, \"best_metric\": 0.91225529}, {\"run_id\": \"AutoML_32d8d192-6f8f-42bd-8e0c-83d0ba36ac51_39\", \"run_number\": 44, \"metric\": null, \"status\": \"Completed\", \"run_type\": \"azureml.scriptrun\", \"training_percent\": \"100\", \"start_time\": \"2021-01-05T02:06:33.362916Z\", \"end_time\": \"2021-01-05T02:07:45.515153Z\", \"created_time\": \"2021-01-05T02:06:20.098519Z\", \"created_time_dt\": \"2021-01-05T02:06:20.098519Z\", \"duration\": \"0:01:25\", \"iteration\": \"39\", \"goal\": \"AUC_weighted_max\", \"run_name\": \"RobustScaler, LogisticRegression\", \"run_properties\": \"copy=True, quantile_range=[10, 90], with_centering=True,\\n             with_scaling=True\", \"primary_metric\": 0.84443204, \"best_metric\": 0.91225529}, {\"run_id\": \"AutoML_32d8d192-6f8f-42bd-8e0c-83d0ba36ac51_40\", \"run_number\": 45, \"metric\": null, \"status\": \"Completed\", \"run_type\": \"azureml.scriptrun\", \"training_percent\": \"100\", \"start_time\": \"2021-01-05T02:06:52.01662Z\", \"end_time\": \"2021-01-05T02:08:12.793046Z\", \"created_time\": \"2021-01-05T02:06:39.227918Z\", \"created_time_dt\": \"2021-01-05T02:06:39.227918Z\", \"duration\": \"0:01:33\", \"iteration\": \"40\", \"goal\": \"AUC_weighted_max\", \"run_name\": \"RobustScaler, RandomForest\", \"run_properties\": \"copy=True, quantile_range=[25, 75], with_centering=True,\\n             with_scaling=True\", \"primary_metric\": 0.9100339, \"best_metric\": 0.91225529}, {\"run_id\": \"AutoML_32d8d192-6f8f-42bd-8e0c-83d0ba36ac51_41\", \"run_number\": 46, \"metric\": null, \"status\": \"Completed\", \"run_type\": \"azureml.scriptrun\", \"training_percent\": \"100\", \"start_time\": \"2021-01-05T02:07:01.192965Z\", \"end_time\": \"2021-01-05T02:08:08.703389Z\", \"created_time\": \"2021-01-05T02:06:44.126937Z\", \"created_time_dt\": \"2021-01-05T02:06:44.126937Z\", \"duration\": \"0:01:24\", \"iteration\": \"41\", \"goal\": \"AUC_weighted_max\", \"run_name\": \"RobustScaler, LightGBM\", \"run_properties\": \"copy=True, quantile_range=[25, 75], with_centering=False,\\n             with_scaling=True\", \"primary_metric\": 0.91143932, \"best_metric\": 0.91225529}, {\"run_id\": \"AutoML_32d8d192-6f8f-42bd-8e0c-83d0ba36ac51_42\", \"run_number\": 47, \"metric\": null, \"status\": \"Completed\", \"run_type\": \"azureml.scriptrun\", \"training_percent\": \"100\", \"start_time\": \"2021-01-05T02:08:02.39344Z\", \"end_time\": \"2021-01-05T02:09:16.875768Z\", \"created_time\": \"2021-01-05T02:07:45.712224Z\", \"created_time_dt\": \"2021-01-05T02:07:45.712224Z\", \"duration\": \"0:01:31\", \"iteration\": \"42\", \"goal\": \"AUC_weighted_max\", \"run_name\": \"MinMaxScaler, LightGBM\", \"run_properties\": \"copy=True, feature_range=(0, 1\", \"primary_metric\": 0.9089881, \"best_metric\": 0.91225529}, {\"run_id\": \"AutoML_32d8d192-6f8f-42bd-8e0c-83d0ba36ac51_43\", \"run_number\": 48, \"metric\": null, \"status\": \"Completed\", \"run_type\": \"azureml.scriptrun\", \"training_percent\": \"100\", \"start_time\": \"2021-01-05T02:08:02.656971Z\", \"end_time\": \"2021-01-05T02:09:14.188321Z\", \"created_time\": \"2021-01-05T02:07:49.978498Z\", \"created_time_dt\": \"2021-01-05T02:07:49.978498Z\", \"duration\": \"0:01:24\", \"iteration\": \"43\", \"goal\": \"AUC_weighted_max\", \"run_name\": \"StandardScalerWrapper, LightGBM\", \"run_properties\": \"<azureml.automl.runtime.shared.model_wrappers.StandardScalerWrapper object at 0x7fa9782cd438\", \"primary_metric\": 0.90219659, \"best_metric\": 0.91225529}, {\"run_id\": \"AutoML_32d8d192-6f8f-42bd-8e0c-83d0ba36ac51_44\", \"run_number\": 49, \"metric\": null, \"status\": \"Completed\", \"run_type\": \"azureml.scriptrun\", \"training_percent\": \"100\", \"start_time\": \"2021-01-05T02:08:04.235116Z\", \"end_time\": \"2021-01-05T02:09:13.100663Z\", \"created_time\": \"2021-01-05T02:07:53.828861Z\", \"created_time_dt\": \"2021-01-05T02:07:53.828861Z\", \"duration\": \"0:01:19\", \"iteration\": \"44\", \"goal\": \"AUC_weighted_max\", \"run_name\": \"RobustScaler, LightGBM\", \"run_properties\": \"copy=True, quantile_range=[25, 75], with_centering=True,\\n             with_scaling=False\", \"primary_metric\": 0.89765294, \"best_metric\": 0.91225529}, {\"run_id\": \"AutoML_32d8d192-6f8f-42bd-8e0c-83d0ba36ac51_45\", \"run_number\": 50, \"metric\": null, \"status\": \"Completed\", \"run_type\": \"azureml.scriptrun\", \"training_percent\": \"100\", \"start_time\": \"2021-01-05T02:08:28.290742Z\", \"end_time\": \"2021-01-05T02:09:31.434629Z\", \"created_time\": \"2021-01-05T02:08:12.770631Z\", \"created_time_dt\": \"2021-01-05T02:08:12.770631Z\", \"duration\": \"0:01:18\", \"iteration\": \"45\", \"goal\": \"AUC_weighted_max\", \"run_name\": \"MinMaxScaler, RandomForest\", \"run_properties\": \"copy=True, feature_range=(0, 1\", \"primary_metric\": 0.90244296, \"best_metric\": 0.91225529}, {\"run_id\": \"AutoML_32d8d192-6f8f-42bd-8e0c-83d0ba36ac51_46\", \"run_number\": 51, \"metric\": null, \"status\": \"Completed\", \"run_type\": \"azureml.scriptrun\", \"training_percent\": \"100\", \"start_time\": \"2021-01-05T02:08:29.603954Z\", \"end_time\": \"2021-01-05T02:09:37.702482Z\", \"created_time\": \"2021-01-05T02:08:17.337153Z\", \"created_time_dt\": \"2021-01-05T02:08:17.337153Z\", \"duration\": \"0:01:20\", \"iteration\": \"46\", \"goal\": \"AUC_weighted_max\", \"run_name\": \"StandardScalerWrapper, RandomForest\", \"run_properties\": \"<azureml.automl.runtime.shared.model_wrappers.StandardScalerWrapper object at 0x7f707f3286a0\", \"primary_metric\": 0.90251819, \"best_metric\": 0.91225529}, {\"run_id\": \"AutoML_32d8d192-6f8f-42bd-8e0c-83d0ba36ac51_47\", \"run_number\": 52, \"metric\": null, \"status\": \"Canceled\", \"run_type\": \"azureml.scriptrun\", \"training_percent\": \"100\", \"start_time\": \"2021-01-05T02:09:26.790015Z\", \"end_time\": \"2021-01-05T02:09:48.049937Z\", \"created_time\": \"2021-01-05T02:09:15.350222Z\", \"created_time_dt\": \"2021-01-05T02:09:15.350222Z\", \"duration\": \"0:00:32\", \"iteration\": \"47\", \"goal\": null, \"run_name\": \"Canceled\", \"run_properties\": null}, {\"run_id\": \"AutoML_32d8d192-6f8f-42bd-8e0c-83d0ba36ac51_48\", \"run_number\": 53, \"metric\": null, \"status\": \"Canceled\", \"run_type\": \"azureml.scriptrun\", \"training_percent\": \"100\", \"start_time\": \"2021-01-05T02:09:32.5298Z\", \"end_time\": \"2021-01-05T02:09:47.357481Z\", \"created_time\": \"2021-01-05T02:09:20.167939Z\", \"created_time_dt\": \"2021-01-05T02:09:20.167939Z\", \"duration\": \"0:00:27\", \"iteration\": \"48\", \"goal\": null, \"run_name\": \"Canceled\", \"run_properties\": null}, {\"run_id\": \"AutoML_32d8d192-6f8f-42bd-8e0c-83d0ba36ac51_49\", \"run_number\": 54, \"metric\": null, \"status\": \"Canceled\", \"run_type\": \"azureml.scriptrun\", \"training_percent\": \"100\", \"start_time\": \"2021-01-05T02:09:31.547587Z\", \"end_time\": \"2021-01-05T02:09:45.771433Z\", \"created_time\": \"2021-01-05T02:09:20.330118Z\", \"created_time_dt\": \"2021-01-05T02:09:20.330118Z\", \"duration\": \"0:00:25\", \"iteration\": \"49\", \"goal\": null, \"run_name\": \"Canceled\", \"run_properties\": null}, {\"run_id\": \"AutoML_32d8d192-6f8f-42bd-8e0c-83d0ba36ac51_50\", \"run_number\": 55, \"metric\": null, \"status\": \"Canceled\", \"run_type\": \"azureml.scriptrun\", \"training_percent\": \"100\", \"start_time\": \"2021-01-05T02:09:36.97173Z\", \"end_time\": \"2021-01-05T02:09:54.158317Z\", \"created_time\": \"2021-01-05T02:09:36.97173Z\", \"created_time_dt\": \"2021-01-05T02:09:36.97173Z\", \"duration\": \"0:00:17\", \"iteration\": \"50\", \"goal\": null, \"run_name\": \"Canceled\", \"run_properties\": null}, {\"run_id\": \"AutoML_32d8d192-6f8f-42bd-8e0c-83d0ba36ac51_51\", \"run_number\": 56, \"metric\": null, \"status\": \"Completed\", \"run_type\": \"azureml.scriptrun\", \"training_percent\": \"100\", \"start_time\": \"2021-01-05T02:10:08.737716Z\", \"end_time\": \"2021-01-05T02:13:15.153725Z\", \"created_time\": \"2021-01-05T02:09:55.370601Z\", \"created_time_dt\": \"2021-01-05T02:09:55.370601Z\", \"duration\": \"0:03:19\", \"iteration\": \"51\", \"goal\": \"AUC_weighted_max\", \"run_name\": \"VotingEnsemble\", \"run_properties\": \"classification_labels=None,\\n                              estimators=[('31',\\n                                           Pipeline(memory=None,\\n                                                    steps=[('robustscaler',\\n                                                            RobustScaler(copy=True,\\n                                                                         quantile_range=[25,\\n                                                                                         75],\\n                                                                         with_centering=True,\\n                                                                         with_scaling=False\", \"primary_metric\": 0.92384011, \"best_metric\": 0.92384011}, {\"run_id\": \"AutoML_32d8d192-6f8f-42bd-8e0c-83d0ba36ac51_52\", \"run_number\": 57, \"metric\": null, \"status\": \"Completed\", \"run_type\": \"azureml.scriptrun\", \"training_percent\": \"100\", \"start_time\": \"2021-01-05T02:10:08.16412Z\", \"end_time\": \"2021-01-05T02:13:15.096075Z\", \"created_time\": \"2021-01-05T02:09:55.384587Z\", \"created_time_dt\": \"2021-01-05T02:09:55.384587Z\", \"duration\": \"0:03:19\", \"iteration\": \"52\", \"goal\": \"AUC_weighted_max\", \"run_name\": \"StackEnsemble\", \"run_properties\": \"base_learners=[('31',\\n                                        Pipeline(memory=None,\\n                                                 steps=[('robustscaler',\\n                                                         RobustScaler(copy=True,\\n                                                                      quantile_range=[25,\\n                                                                                      75],\\n                                                                      with_centering=True,\\n                                                                      with_scaling=False\", \"primary_metric\": 0.91461971, \"best_metric\": 0.92384011}], \"children_metrics\": {\"categories\": [0], \"series\": {\"precision_score_micro\": [{\"categories\": [\"0\", \"1\", \"2\", \"3\", \"4\", \"5\", \"6\", \"7\", \"8\", \"9\", \"10\", \"11\", \"12\", \"13\", \"14\", \"15\", \"16\", \"17\", \"18\", \"19\", \"20\", \"21\", \"22\", \"23\", \"24\", \"25\", \"26\", \"27\", \"28\", \"29\", \"30\", \"31\", \"32\", \"33\", \"34\", \"35\", \"36\", \"37\", \"38\", \"39\", \"40\", \"41\", \"42\", \"43\", \"44\", \"45\", \"46\", \"51\", \"52\"], \"mode\": \"markers\", \"name\": \"precision_score_micro\", \"stepped\": false, \"type\": \"scatter\", \"data\": [0.803623188405797, 0.8327898550724638, 0.8367753623188404, 0.770108695652174, 0.8159420289855073, 0.8621376811594204, 0.8115942028985508, 0.8413043478260869, 0.7994565217391305, 0.7244565217391306, 0.7661231884057972, 0.8202898550724637, 0.8201086956521738, 0.7907608695652173, 0.8161231884057971, 0.6237318840579709, 0.7365942028985507, 0.7326086956521739, 0.8112318840579711, 0.8409420289855072, 0.7909420289855074, 0.8076086956521739, 0.8076086956521739, 0.8409420289855072, 0.816304347826087, 0.8159420289855073, 0.841123188405797, 0.7697463768115942, 0.6945652173913043, 0.8536231884057971, 0.6028985507246377, 0.8076086956521739, 0.7784420289855073, 0.8117753623188406, 0.841123188405797, 0.682427536231884, 0.7951086956521739, 0.8286231884057971, 0.7532608695652174, 0.7907608695652174, 0.8452898550724637, 0.8327898550724637, 0.8201086956521738, 0.8369565217391305, 0.8034420289855072, 0.8536231884057971, 0.8451086956521738, 0.8452898550724639, 0.7737318840579709]}, {\"categories\": [\"0\", \"1\", \"2\", \"3\", \"4\", \"5\", \"6\", \"7\", \"8\", \"9\", \"10\", \"11\", \"12\", \"13\", \"14\", \"15\", \"16\", \"17\", \"18\", \"19\", \"20\", \"21\", \"22\", \"23\", \"24\", \"25\", \"26\", \"27\", \"28\", \"29\", \"30\", \"31\", \"32\", \"33\", \"34\", \"35\", \"36\", \"37\", \"38\", \"39\", \"40\", \"41\", \"42\", \"43\", \"44\", \"45\", \"46\", \"51\", \"52\"], \"mode\": \"lines\", \"name\": \"precision_score_micro_max\", \"stepped\": true, \"type\": \"scatter\", \"data\": [0.803623188405797, 0.8327898550724638, 0.8367753623188404, 0.8367753623188404, 0.8367753623188404, 0.8621376811594204, 0.8621376811594204, 0.8621376811594204, 0.8621376811594204, 0.8621376811594204, 0.8621376811594204, 0.8621376811594204, 0.8621376811594204, 0.8621376811594204, 0.8621376811594204, 0.8621376811594204, 0.8621376811594204, 0.8621376811594204, 0.8621376811594204, 0.8621376811594204, 0.8621376811594204, 0.8621376811594204, 0.8621376811594204, 0.8621376811594204, 0.8621376811594204, 0.8621376811594204, 0.8621376811594204, 0.8621376811594204, 0.8621376811594204, 0.8621376811594204, 0.8621376811594204, 0.8621376811594204, 0.8621376811594204, 0.8621376811594204, 0.8621376811594204, 0.8621376811594204, 0.8621376811594204, 0.8621376811594204, 0.8621376811594204, 0.8621376811594204, 0.8621376811594204, 0.8621376811594204, 0.8621376811594204, 0.8621376811594204, 0.8621376811594204, 0.8621376811594204, 0.8621376811594204, 0.8621376811594204, 0.8621376811594204]}], \"accuracy\": [{\"categories\": [\"0\", \"1\", \"2\", \"3\", \"4\", \"5\", \"6\", \"7\", \"8\", \"9\", \"10\", \"11\", \"12\", \"13\", \"14\", \"15\", \"16\", \"17\", \"18\", \"19\", \"20\", \"21\", \"22\", \"23\", \"24\", \"25\", \"26\", \"27\", \"28\", \"29\", \"30\", \"31\", \"32\", \"33\", \"34\", \"35\", \"36\", \"37\", \"38\", \"39\", \"40\", \"41\", \"42\", \"43\", \"44\", \"45\", \"46\", \"51\", \"52\"], \"mode\": \"markers\", \"name\": \"accuracy\", \"stepped\": false, \"type\": \"scatter\", \"data\": [0.803623188405797, 0.8327898550724638, 0.8367753623188404, 0.770108695652174, 0.8159420289855073, 0.8621376811594204, 0.8115942028985508, 0.8413043478260869, 0.7994565217391305, 0.7244565217391306, 0.7661231884057972, 0.8202898550724637, 0.8201086956521738, 0.7907608695652173, 0.8161231884057971, 0.6237318840579709, 0.7365942028985507, 0.7326086956521739, 0.8112318840579711, 0.8409420289855072, 0.7909420289855074, 0.8076086956521739, 0.8076086956521739, 0.8409420289855072, 0.816304347826087, 0.8159420289855073, 0.841123188405797, 0.7697463768115942, 0.6945652173913043, 0.8536231884057971, 0.6028985507246377, 0.8076086956521739, 0.7784420289855073, 0.8117753623188406, 0.841123188405797, 0.682427536231884, 0.7951086956521739, 0.8286231884057971, 0.7532608695652174, 0.7907608695652174, 0.8452898550724637, 0.8327898550724637, 0.8201086956521738, 0.8369565217391305, 0.8034420289855072, 0.8536231884057971, 0.8451086956521738, 0.8452898550724639, 0.7737318840579709]}, {\"categories\": [\"0\", \"1\", \"2\", \"3\", \"4\", \"5\", \"6\", \"7\", \"8\", \"9\", \"10\", \"11\", \"12\", \"13\", \"14\", \"15\", \"16\", \"17\", \"18\", \"19\", \"20\", \"21\", \"22\", \"23\", \"24\", \"25\", \"26\", \"27\", \"28\", \"29\", \"30\", \"31\", \"32\", \"33\", \"34\", \"35\", \"36\", \"37\", \"38\", \"39\", \"40\", \"41\", \"42\", \"43\", \"44\", \"45\", \"46\", \"51\", \"52\"], \"mode\": \"lines\", \"name\": \"accuracy_max\", \"stepped\": true, \"type\": \"scatter\", \"data\": [0.803623188405797, 0.8327898550724638, 0.8367753623188404, 0.8367753623188404, 0.8367753623188404, 0.8621376811594204, 0.8621376811594204, 0.8621376811594204, 0.8621376811594204, 0.8621376811594204, 0.8621376811594204, 0.8621376811594204, 0.8621376811594204, 0.8621376811594204, 0.8621376811594204, 0.8621376811594204, 0.8621376811594204, 0.8621376811594204, 0.8621376811594204, 0.8621376811594204, 0.8621376811594204, 0.8621376811594204, 0.8621376811594204, 0.8621376811594204, 0.8621376811594204, 0.8621376811594204, 0.8621376811594204, 0.8621376811594204, 0.8621376811594204, 0.8621376811594204, 0.8621376811594204, 0.8621376811594204, 0.8621376811594204, 0.8621376811594204, 0.8621376811594204, 0.8621376811594204, 0.8621376811594204, 0.8621376811594204, 0.8621376811594204, 0.8621376811594204, 0.8621376811594204, 0.8621376811594204, 0.8621376811594204, 0.8621376811594204, 0.8621376811594204, 0.8621376811594204, 0.8621376811594204, 0.8621376811594204, 0.8621376811594204]}], \"average_precision_score_macro\": [{\"categories\": [\"0\", \"1\", \"2\", \"3\", \"4\", \"5\", \"6\", \"7\", \"8\", \"9\", \"10\", \"11\", \"12\", \"13\", \"14\", \"15\", \"16\", \"17\", \"18\", \"19\", \"20\", \"21\", \"22\", \"23\", \"24\", \"25\", \"26\", \"27\", \"28\", \"29\", \"30\", \"31\", \"32\", \"33\", \"34\", \"35\", \"36\", \"37\", \"38\", \"39\", \"40\", \"41\", \"42\", \"43\", \"44\", \"45\", \"46\", \"51\", \"52\"], \"mode\": \"markers\", \"name\": \"average_precision_score_macro\", \"stepped\": false, \"type\": \"scatter\", \"data\": [0.8734810462911631, 0.8810761649352858, 0.8897641124173534, 0.886867391403775, 0.8753645607490155, 0.9047855146160295, 0.8700660853768551, 0.8683032866631532, 0.8807436576658004, 0.7454483439021045, 0.8621660554068118, 0.8705646557332447, 0.8968133397571888, 0.8510032540927872, 0.885196249760499, 0.6303247521818182, 0.8556582581084063, 0.80527619735891, 0.8857531569367103, 0.8877463769846772, 0.8562674610948704, 0.8700397981661174, 0.8631056812320086, 0.8873857296317016, 0.8907674778703603, 0.8880213481847996, 0.883703379624173, 0.8939719364430637, 0.865637216942854, 0.9018867418360491, 0.5299817908054266, 0.9077492332700932, 0.8465173786604087, 0.8809488777869292, 0.9018794745686854, 0.6846566443257461, 0.8510073887065012, 0.8784568811032741, 0.8428851879951974, 0.8447728244657075, 0.9057075475459065, 0.901344190767013, 0.9027368652870932, 0.8924583037544054, 0.8897687544494921, 0.8963278843399467, 0.8988529771481039, 0.9188774561908521, 0.912116060157083]}, {\"categories\": [\"0\", \"1\", \"2\", \"3\", \"4\", \"5\", \"6\", \"7\", \"8\", \"9\", \"10\", \"11\", \"12\", \"13\", \"14\", \"15\", \"16\", \"17\", \"18\", \"19\", \"20\", \"21\", \"22\", \"23\", \"24\", \"25\", \"26\", \"27\", \"28\", \"29\", \"30\", \"31\", \"32\", \"33\", \"34\", \"35\", \"36\", \"37\", \"38\", \"39\", \"40\", \"41\", \"42\", \"43\", \"44\", \"45\", \"46\", \"51\", \"52\"], \"mode\": \"lines\", \"name\": \"average_precision_score_macro_max\", \"stepped\": true, \"type\": \"scatter\", \"data\": [0.8734810462911631, 0.8810761649352858, 0.8897641124173534, 0.8897641124173534, 0.8897641124173534, 0.9047855146160295, 0.9047855146160295, 0.9047855146160295, 0.9047855146160295, 0.9047855146160295, 0.9047855146160295, 0.9047855146160295, 0.9047855146160295, 0.9047855146160295, 0.9047855146160295, 0.9047855146160295, 0.9047855146160295, 0.9047855146160295, 0.9047855146160295, 0.9047855146160295, 0.9047855146160295, 0.9047855146160295, 0.9047855146160295, 0.9047855146160295, 0.9047855146160295, 0.9047855146160295, 0.9047855146160295, 0.9047855146160295, 0.9047855146160295, 0.9047855146160295, 0.9047855146160295, 0.9077492332700932, 0.9077492332700932, 0.9077492332700932, 0.9077492332700932, 0.9077492332700932, 0.9077492332700932, 0.9077492332700932, 0.9077492332700932, 0.9077492332700932, 0.9077492332700932, 0.9077492332700932, 0.9077492332700932, 0.9077492332700932, 0.9077492332700932, 0.9077492332700932, 0.9077492332700932, 0.9188774561908521, 0.9188774561908521]}], \"balanced_accuracy\": [{\"categories\": [\"0\", \"1\", \"2\", \"3\", \"4\", \"5\", \"6\", \"7\", \"8\", \"9\", \"10\", \"11\", \"12\", \"13\", \"14\", \"15\", \"16\", \"17\", \"18\", \"19\", \"20\", \"21\", \"22\", \"23\", \"24\", \"25\", \"26\", \"27\", \"28\", \"29\", \"30\", \"31\", \"32\", \"33\", \"34\", \"35\", \"36\", \"37\", \"38\", \"39\", \"40\", \"41\", \"42\", \"43\", \"44\", \"45\", \"46\", \"51\", \"52\"], \"mode\": \"markers\", \"name\": \"balanced_accuracy\", \"stepped\": false, \"type\": \"scatter\", \"data\": [0.7736210317460317, 0.8073313492063491, 0.8063690476190477, 0.6864880952380952, 0.8011706349206349, 0.8415277777777778, 0.7934821428571428, 0.7977579365079366, 0.7288392857142856, 0.6502579365079365, 0.6846031746031744, 0.7703670634920636, 0.8152380952380952, 0.753640873015873, 0.8070039682539683, 0.5407142857142857, 0.639265873015873, 0.7101289682539683, 0.8043353174603174, 0.8146031746031746, 0.7549007936507938, 0.8007539682539683, 0.7807837301587301, 0.799047619047619, 0.7600694444444445, 0.8183333333333334, 0.8228968253968254, 0.6871130952380953, 0.5542956349206349, 0.8504662698412698, 0.5585912698412698, 0.8011011904761904, 0.7208035714285715, 0.7537797619047619, 0.8218551587301587, 0.6963392857142857, 0.756656746031746, 0.8079662698412697, 0.7390277777777777, 0.7514186507936508, 0.8435615079365079, 0.8019841269841269, 0.7811607142857143, 0.8097619047619048, 0.7646626984126985, 0.8462003968253968, 0.8207638888888888, 0.8159722222222221, 0.6594444444444445]}, {\"categories\": [\"0\", \"1\", \"2\", \"3\", \"4\", \"5\", \"6\", \"7\", \"8\", \"9\", \"10\", \"11\", \"12\", \"13\", \"14\", \"15\", \"16\", \"17\", \"18\", \"19\", \"20\", \"21\", \"22\", \"23\", \"24\", \"25\", \"26\", \"27\", \"28\", \"29\", \"30\", \"31\", \"32\", \"33\", \"34\", \"35\", \"36\", \"37\", \"38\", \"39\", \"40\", \"41\", \"42\", \"43\", \"44\", \"45\", \"46\", \"51\", \"52\"], \"mode\": \"lines\", \"name\": \"balanced_accuracy_max\", \"stepped\": true, \"type\": \"scatter\", \"data\": [0.7736210317460317, 0.8073313492063491, 0.8073313492063491, 0.8073313492063491, 0.8073313492063491, 0.8415277777777778, 0.8415277777777778, 0.8415277777777778, 0.8415277777777778, 0.8415277777777778, 0.8415277777777778, 0.8415277777777778, 0.8415277777777778, 0.8415277777777778, 0.8415277777777778, 0.8415277777777778, 0.8415277777777778, 0.8415277777777778, 0.8415277777777778, 0.8415277777777778, 0.8415277777777778, 0.8415277777777778, 0.8415277777777778, 0.8415277777777778, 0.8415277777777778, 0.8415277777777778, 0.8415277777777778, 0.8415277777777778, 0.8415277777777778, 0.8504662698412698, 0.8504662698412698, 0.8504662698412698, 0.8504662698412698, 0.8504662698412698, 0.8504662698412698, 0.8504662698412698, 0.8504662698412698, 0.8504662698412698, 0.8504662698412698, 0.8504662698412698, 0.8504662698412698, 0.8504662698412698, 0.8504662698412698, 0.8504662698412698, 0.8504662698412698, 0.8504662698412698, 0.8504662698412698, 0.8504662698412698, 0.8504662698412698]}], \"recall_score_weighted\": [{\"categories\": [\"0\", \"1\", \"2\", \"3\", \"4\", \"5\", \"6\", \"7\", \"8\", \"9\", \"10\", \"11\", \"12\", \"13\", \"14\", \"15\", \"16\", \"17\", \"18\", \"19\", \"20\", \"21\", \"22\", \"23\", \"24\", \"25\", \"26\", \"27\", \"28\", \"29\", \"30\", \"31\", \"32\", \"33\", \"34\", \"35\", \"36\", \"37\", \"38\", \"39\", \"40\", \"41\", \"42\", \"43\", \"44\", \"45\", \"46\", \"51\", \"52\"], \"mode\": \"markers\", \"name\": \"recall_score_weighted\", \"stepped\": false, \"type\": \"scatter\", \"data\": [0.803623188405797, 0.8327898550724638, 0.8367753623188404, 0.770108695652174, 0.8159420289855073, 0.8621376811594204, 0.8115942028985508, 0.8413043478260869, 0.7994565217391305, 0.7244565217391306, 0.7661231884057972, 0.8202898550724637, 0.8201086956521738, 0.7907608695652173, 0.8161231884057971, 0.6237318840579709, 0.7365942028985507, 0.7326086956521739, 0.8112318840579711, 0.8409420289855072, 0.7909420289855074, 0.8076086956521739, 0.8076086956521739, 0.8409420289855072, 0.816304347826087, 0.8159420289855073, 0.841123188405797, 0.7697463768115942, 0.6945652173913043, 0.8536231884057971, 0.6028985507246377, 0.8076086956521739, 0.7784420289855073, 0.8117753623188406, 0.841123188405797, 0.682427536231884, 0.7951086956521739, 0.8286231884057971, 0.7532608695652174, 0.7907608695652174, 0.8452898550724637, 0.8327898550724637, 0.8201086956521738, 0.8369565217391305, 0.8034420289855072, 0.8536231884057971, 0.8451086956521738, 0.8452898550724639, 0.7737318840579709]}, {\"categories\": [\"0\", \"1\", \"2\", \"3\", \"4\", \"5\", \"6\", \"7\", \"8\", \"9\", \"10\", \"11\", \"12\", \"13\", \"14\", \"15\", \"16\", \"17\", \"18\", \"19\", \"20\", \"21\", \"22\", \"23\", \"24\", \"25\", \"26\", \"27\", \"28\", \"29\", \"30\", \"31\", \"32\", \"33\", \"34\", \"35\", \"36\", \"37\", \"38\", \"39\", \"40\", \"41\", \"42\", \"43\", \"44\", \"45\", \"46\", \"51\", \"52\"], \"mode\": \"lines\", \"name\": \"recall_score_weighted_max\", \"stepped\": true, \"type\": \"scatter\", \"data\": [0.803623188405797, 0.8327898550724638, 0.8367753623188404, 0.8367753623188404, 0.8367753623188404, 0.8621376811594204, 0.8621376811594204, 0.8621376811594204, 0.8621376811594204, 0.8621376811594204, 0.8621376811594204, 0.8621376811594204, 0.8621376811594204, 0.8621376811594204, 0.8621376811594204, 0.8621376811594204, 0.8621376811594204, 0.8621376811594204, 0.8621376811594204, 0.8621376811594204, 0.8621376811594204, 0.8621376811594204, 0.8621376811594204, 0.8621376811594204, 0.8621376811594204, 0.8621376811594204, 0.8621376811594204, 0.8621376811594204, 0.8621376811594204, 0.8621376811594204, 0.8621376811594204, 0.8621376811594204, 0.8621376811594204, 0.8621376811594204, 0.8621376811594204, 0.8621376811594204, 0.8621376811594204, 0.8621376811594204, 0.8621376811594204, 0.8621376811594204, 0.8621376811594204, 0.8621376811594204, 0.8621376811594204, 0.8621376811594204, 0.8621376811594204, 0.8621376811594204, 0.8621376811594204, 0.8621376811594204, 0.8621376811594204]}], \"average_precision_score_weighted\": [{\"categories\": [\"0\", \"1\", \"2\", \"3\", \"4\", \"5\", \"6\", \"7\", \"8\", \"9\", \"10\", \"11\", \"12\", \"13\", \"14\", \"15\", \"16\", \"17\", \"18\", \"19\", \"20\", \"21\", \"22\", \"23\", \"24\", \"25\", \"26\", \"27\", \"28\", \"29\", \"30\", \"31\", \"32\", \"33\", \"34\", \"35\", \"36\", \"37\", \"38\", \"39\", \"40\", \"41\", \"42\", \"43\", \"44\", \"45\", \"46\", \"51\", \"52\"], \"mode\": \"markers\", \"name\": \"average_precision_score_weighted\", \"stepped\": false, \"type\": \"scatter\", \"data\": [0.9000109067542017, 0.9062493235409341, 0.9098170716259455, 0.9074505026607429, 0.9017444255701423, 0.9218760850784424, 0.8992799447830023, 0.8910059121109144, 0.9035509919326298, 0.7742392515539979, 0.8874849330454495, 0.8949315817755379, 0.919972260874847, 0.8792617561278613, 0.9054069944171868, 0.671176368203771, 0.8859987225862319, 0.8376788158304007, 0.9096467761611329, 0.9101443063426716, 0.8806291823358385, 0.8921132097709549, 0.8870103171864219, 0.9099272165083111, 0.911978894019251, 0.9102344363716603, 0.9105821011366002, 0.9129058052940389, 0.887815101299735, 0.9220220005339342, 0.5793842358423362, 0.9269584551174436, 0.8772139232081477, 0.9058012524843104, 0.9215984340268184, 0.7339016717667145, 0.8796177758556419, 0.9050640195378298, 0.8711794960032249, 0.8733673496800491, 0.9243233187654963, 0.923340268336798, 0.9229623037807391, 0.9153322808565354, 0.9134615667328052, 0.9175943150044855, 0.9185841028895275, 0.9362627205455774, 0.9301723655209152]}, {\"categories\": [\"0\", \"1\", \"2\", \"3\", \"4\", \"5\", \"6\", \"7\", \"8\", \"9\", \"10\", \"11\", \"12\", \"13\", \"14\", \"15\", \"16\", \"17\", \"18\", \"19\", \"20\", \"21\", \"22\", \"23\", \"24\", \"25\", \"26\", \"27\", \"28\", \"29\", \"30\", \"31\", \"32\", \"33\", \"34\", \"35\", \"36\", \"37\", \"38\", \"39\", \"40\", \"41\", \"42\", \"43\", \"44\", \"45\", \"46\", \"51\", \"52\"], \"mode\": \"lines\", \"name\": \"average_precision_score_weighted_max\", \"stepped\": true, \"type\": \"scatter\", \"data\": [0.9000109067542017, 0.9062493235409341, 0.9098170716259455, 0.9098170716259455, 0.9098170716259455, 0.9218760850784424, 0.9218760850784424, 0.9218760850784424, 0.9218760850784424, 0.9218760850784424, 0.9218760850784424, 0.9218760850784424, 0.9218760850784424, 0.9218760850784424, 0.9218760850784424, 0.9218760850784424, 0.9218760850784424, 0.9218760850784424, 0.9218760850784424, 0.9218760850784424, 0.9218760850784424, 0.9218760850784424, 0.9218760850784424, 0.9218760850784424, 0.9218760850784424, 0.9218760850784424, 0.9218760850784424, 0.9218760850784424, 0.9218760850784424, 0.9220220005339342, 0.9220220005339342, 0.9269584551174436, 0.9269584551174436, 0.9269584551174436, 0.9269584551174436, 0.9269584551174436, 0.9269584551174436, 0.9269584551174436, 0.9269584551174436, 0.9269584551174436, 0.9269584551174436, 0.9269584551174436, 0.9269584551174436, 0.9269584551174436, 0.9269584551174436, 0.9269584551174436, 0.9269584551174436, 0.9362627205455774, 0.9362627205455774]}], \"log_loss\": [{\"categories\": [\"0\", \"1\", \"2\", \"3\", \"4\", \"5\", \"6\", \"7\", \"8\", \"9\", \"10\", \"11\", \"12\", \"13\", \"14\", \"15\", \"16\", \"17\", \"18\", \"19\", \"20\", \"21\", \"22\", \"23\", \"24\", \"25\", \"26\", \"27\", \"28\", \"29\", \"30\", \"31\", \"32\", \"33\", \"34\", \"35\", \"36\", \"37\", \"38\", \"39\", \"40\", \"41\", \"42\", \"43\", \"44\", \"45\", \"46\", \"51\", \"52\"], \"mode\": \"markers\", \"name\": \"log_loss\", \"stepped\": false, \"type\": \"scatter\", \"data\": [0.5113835461600813, 0.43916675172891606, 0.5254919633539865, 0.482719957133238, 0.42505296451368046, 0.40844778665213577, 0.4138249181912341, 0.4380923004356728, 0.49430970382237555, 1.1099851948022064, 0.5003978155703083, 0.46365965656492697, 0.4310050274976258, 0.4417253446086555, 0.4353872254345534, 0.7364294315179739, 0.5083574639930235, 0.6416557770866482, 0.5316256436619464, 0.49390392784680426, 0.4556490158598538, 0.5190133256767331, 0.5039148367292029, 0.4189207491804071, 0.4582146952274753, 0.47369062046568544, 0.42284156063672934, 0.49086986275692623, 0.5561379709255314, 0.46832185121736447, 0.6877949816356007, 0.4219526707186544, 0.4670592650783757, 0.46765606067857524, 0.38385992340859554, 0.6480434018894157, 0.45511358771644217, 0.4328557190107545, 0.48783330429249994, 0.4659777613179855, 0.4947583925465394, 0.3743459806010905, 0.4268423929919445, 0.38547696564066436, 0.39838055526912936, 0.48372529942794384, 0.4051563363547128, 0.4545928012754919, 0.5092958761631354]}, {\"categories\": [\"0\", \"1\", \"2\", \"3\", \"4\", \"5\", \"6\", \"7\", \"8\", \"9\", \"10\", \"11\", \"12\", \"13\", \"14\", \"15\", \"16\", \"17\", \"18\", \"19\", \"20\", \"21\", \"22\", \"23\", \"24\", \"25\", \"26\", \"27\", \"28\", \"29\", \"30\", \"31\", \"32\", \"33\", \"34\", \"35\", \"36\", \"37\", \"38\", \"39\", \"40\", \"41\", \"42\", \"43\", \"44\", \"45\", \"46\", \"51\", \"52\"], \"mode\": \"lines\", \"name\": \"log_loss_min\", \"stepped\": true, \"type\": \"scatter\", \"data\": [0.5113835461600813, 0.43916675172891606, 0.43916675172891606, 0.43916675172891606, 0.42505296451368046, 0.40844778665213577, 0.40844778665213577, 0.40844778665213577, 0.40844778665213577, 0.40844778665213577, 0.40844778665213577, 0.40844778665213577, 0.40844778665213577, 0.40844778665213577, 0.40844778665213577, 0.40844778665213577, 0.40844778665213577, 0.40844778665213577, 0.40844778665213577, 0.40844778665213577, 0.40844778665213577, 0.40844778665213577, 0.40844778665213577, 0.40844778665213577, 0.40844778665213577, 0.40844778665213577, 0.40844778665213577, 0.40844778665213577, 0.40844778665213577, 0.40844778665213577, 0.40844778665213577, 0.40844778665213577, 0.40844778665213577, 0.40844778665213577, 0.38385992340859554, 0.38385992340859554, 0.38385992340859554, 0.38385992340859554, 0.38385992340859554, 0.38385992340859554, 0.38385992340859554, 0.3743459806010905, 0.3743459806010905, 0.3743459806010905, 0.3743459806010905, 0.3743459806010905, 0.3743459806010905, 0.3743459806010905, 0.3743459806010905]}], \"precision_score_macro\": [{\"categories\": [\"0\", \"1\", \"2\", \"3\", \"4\", \"5\", \"6\", \"7\", \"8\", \"9\", \"10\", \"11\", \"12\", \"13\", \"14\", \"15\", \"16\", \"17\", \"18\", \"19\", \"20\", \"21\", \"22\", \"23\", \"24\", \"25\", \"26\", \"27\", \"28\", \"29\", \"30\", \"31\", \"32\", \"33\", \"34\", \"35\", \"36\", \"37\", \"38\", \"39\", \"40\", \"41\", \"42\", \"43\", \"44\", \"45\", \"46\", \"51\", \"52\"], \"mode\": \"markers\", \"name\": \"precision_score_macro\", \"stepped\": false, \"type\": \"scatter\", \"data\": [0.8126825341840822, 0.8394327731092437, 0.8361968954248367, 0.7765166029659905, 0.8053682306255837, 0.8702696078431373, 0.8056347369950311, 0.8561858244095086, 0.8543152665337684, 0.7443658830288928, 0.8224969673223981, 0.8459582333730941, 0.8183658008658009, 0.779839162385602, 0.8107631216822393, 0.5615571711140597, 0.7784631655866008, 0.7247641370067841, 0.8098218325791855, 0.8398336834733893, 0.784312558356676, 0.7942470723720724, 0.7951608807858808, 0.8521660937102113, 0.8546671100657168, 0.8072669764446081, 0.8431790880687939, 0.7993578168907117, 0.6171866177300961, 0.8506559290382819, 0.5583825032896239, 0.8073153806977336, 0.7689742124920145, 0.841961862097311, 0.8384033613445379, 0.686160759175465, 0.7908970342522974, 0.8314914129987659, 0.7340832728932575, 0.7884857789269554, 0.842559025941379, 0.8354108309990662, 0.8246832768194998, 0.8393522408963585, 0.808483083823641, 0.8485816563467493, 0.8502092882607588, 0.85234360410831, 0.6226926411296784]}, {\"categories\": [\"0\", \"1\", \"2\", \"3\", \"4\", \"5\", \"6\", \"7\", \"8\", \"9\", \"10\", \"11\", \"12\", \"13\", \"14\", \"15\", \"16\", \"17\", \"18\", \"19\", \"20\", \"21\", \"22\", \"23\", \"24\", \"25\", \"26\", \"27\", \"28\", \"29\", \"30\", \"31\", \"32\", \"33\", \"34\", \"35\", \"36\", \"37\", \"38\", \"39\", \"40\", \"41\", \"42\", \"43\", \"44\", \"45\", \"46\", \"51\", \"52\"], \"mode\": \"lines\", \"name\": \"precision_score_macro_max\", \"stepped\": true, \"type\": \"scatter\", \"data\": [0.8126825341840822, 0.8394327731092437, 0.8394327731092437, 0.8394327731092437, 0.8394327731092437, 0.8702696078431373, 0.8702696078431373, 0.8702696078431373, 0.8702696078431373, 0.8702696078431373, 0.8702696078431373, 0.8702696078431373, 0.8702696078431373, 0.8702696078431373, 0.8702696078431373, 0.8702696078431373, 0.8702696078431373, 0.8702696078431373, 0.8702696078431373, 0.8702696078431373, 0.8702696078431373, 0.8702696078431373, 0.8702696078431373, 0.8702696078431373, 0.8702696078431373, 0.8702696078431373, 0.8702696078431373, 0.8702696078431373, 0.8702696078431373, 0.8702696078431373, 0.8702696078431373, 0.8702696078431373, 0.8702696078431373, 0.8702696078431373, 0.8702696078431373, 0.8702696078431373, 0.8702696078431373, 0.8702696078431373, 0.8702696078431373, 0.8702696078431373, 0.8702696078431373, 0.8702696078431373, 0.8702696078431373, 0.8702696078431373, 0.8702696078431373, 0.8702696078431373, 0.8702696078431373, 0.8702696078431373, 0.8702696078431373]}], \"average_precision_score_micro\": [{\"categories\": [\"0\", \"1\", \"2\", \"3\", \"4\", \"5\", \"6\", \"7\", \"8\", \"9\", \"10\", \"11\", \"12\", \"13\", \"14\", \"15\", \"16\", \"17\", \"18\", \"19\", \"20\", \"21\", \"22\", \"23\", \"24\", \"25\", \"26\", \"27\", \"28\", \"29\", \"30\", \"31\", \"32\", \"33\", \"34\", \"35\", \"36\", \"37\", \"38\", \"39\", \"40\", \"41\", \"42\", \"43\", \"44\", \"45\", \"46\", \"51\", \"52\"], \"mode\": \"markers\", \"name\": \"average_precision_score_micro\", \"stepped\": false, \"type\": \"scatter\", \"data\": [0.8883364970720043, 0.9012837561354352, 0.9026824497714164, 0.8821795623642059, 0.8962093800924225, 0.9122979692559756, 0.8985437846462636, 0.8917288898612441, 0.8787068904013688, 0.7711136281863581, 0.8642734928971297, 0.8805387997849289, 0.9089221775699675, 0.8786727371379641, 0.8946778373919985, 0.6861431613770802, 0.8706948762791585, 0.8224963245594127, 0.8973431003356271, 0.9028369366934677, 0.8694177988945198, 0.8744805869279307, 0.8757250006639957, 0.9026264459324503, 0.8954921855451712, 0.8925421267193286, 0.9049766602346387, 0.8832675206270693, 0.8439140739126507, 0.9121007464329264, 0.5236391859693208, 0.913141198965036, 0.8735596599973181, 0.8967954503999996, 0.9140888038014507, 0.7447657174480998, 0.8798610012652173, 0.899218344544822, 0.8595327910629479, 0.8731268126729924, 0.9100694597396786, 0.9204217529404464, 0.9144842558588058, 0.9119916534915266, 0.9088657709335856, 0.9129503613794402, 0.9113416695419616, 0.9223983205364357, 0.8979331863246369]}, {\"categories\": [\"0\", \"1\", \"2\", \"3\", \"4\", \"5\", \"6\", \"7\", \"8\", \"9\", \"10\", \"11\", \"12\", \"13\", \"14\", \"15\", \"16\", \"17\", \"18\", \"19\", \"20\", \"21\", \"22\", \"23\", \"24\", \"25\", \"26\", \"27\", \"28\", \"29\", \"30\", \"31\", \"32\", \"33\", \"34\", \"35\", \"36\", \"37\", \"38\", \"39\", \"40\", \"41\", \"42\", \"43\", \"44\", \"45\", \"46\", \"51\", \"52\"], \"mode\": \"lines\", \"name\": \"average_precision_score_micro_max\", \"stepped\": true, \"type\": \"scatter\", \"data\": [0.8883364970720043, 0.9012837561354352, 0.9026824497714164, 0.9026824497714164, 0.9026824497714164, 0.9122979692559756, 0.9122979692559756, 0.9122979692559756, 0.9122979692559756, 0.9122979692559756, 0.9122979692559756, 0.9122979692559756, 0.9122979692559756, 0.9122979692559756, 0.9122979692559756, 0.9122979692559756, 0.9122979692559756, 0.9122979692559756, 0.9122979692559756, 0.9122979692559756, 0.9122979692559756, 0.9122979692559756, 0.9122979692559756, 0.9122979692559756, 0.9122979692559756, 0.9122979692559756, 0.9122979692559756, 0.9122979692559756, 0.9122979692559756, 0.9122979692559756, 0.9122979692559756, 0.913141198965036, 0.913141198965036, 0.913141198965036, 0.9140888038014507, 0.9140888038014507, 0.9140888038014507, 0.9140888038014507, 0.9140888038014507, 0.9140888038014507, 0.9140888038014507, 0.9204217529404464, 0.9204217529404464, 0.9204217529404464, 0.9204217529404464, 0.9204217529404464, 0.9204217529404464, 0.9223983205364357, 0.9223983205364357]}], \"recall_score_macro\": [{\"categories\": [\"0\", \"1\", \"2\", \"3\", \"4\", \"5\", \"6\", \"7\", \"8\", \"9\", \"10\", \"11\", \"12\", \"13\", \"14\", \"15\", \"16\", \"17\", \"18\", \"19\", \"20\", \"21\", \"22\", \"23\", \"24\", \"25\", \"26\", \"27\", \"28\", \"29\", \"30\", \"31\", \"32\", \"33\", \"34\", \"35\", \"36\", \"37\", \"38\", \"39\", \"40\", \"41\", \"42\", \"43\", \"44\", \"45\", \"46\", \"51\", \"52\"], \"mode\": \"markers\", \"name\": \"recall_score_macro\", \"stepped\": false, \"type\": \"scatter\", \"data\": [0.7736210317460317, 0.8073313492063491, 0.8063690476190477, 0.6864880952380952, 0.8011706349206349, 0.8415277777777778, 0.7934821428571428, 0.7977579365079366, 0.7288392857142856, 0.6502579365079365, 0.6846031746031744, 0.7703670634920636, 0.8152380952380952, 0.753640873015873, 0.8070039682539683, 0.5407142857142857, 0.639265873015873, 0.7101289682539683, 0.8043353174603174, 0.8146031746031746, 0.7549007936507938, 0.8007539682539683, 0.7807837301587301, 0.799047619047619, 0.7600694444444445, 0.8183333333333334, 0.8228968253968254, 0.6871130952380953, 0.5542956349206349, 0.8504662698412698, 0.5585912698412698, 0.8011011904761904, 0.7208035714285715, 0.7537797619047619, 0.8218551587301587, 0.6963392857142857, 0.756656746031746, 0.8079662698412697, 0.7390277777777777, 0.7514186507936508, 0.8435615079365079, 0.8019841269841269, 0.7811607142857143, 0.8097619047619048, 0.7646626984126985, 0.8462003968253968, 0.8207638888888888, 0.8159722222222221, 0.6594444444444445]}, {\"categories\": [\"0\", \"1\", \"2\", \"3\", \"4\", \"5\", \"6\", \"7\", \"8\", \"9\", \"10\", \"11\", \"12\", \"13\", \"14\", \"15\", \"16\", \"17\", \"18\", \"19\", \"20\", \"21\", \"22\", \"23\", \"24\", \"25\", \"26\", \"27\", \"28\", \"29\", \"30\", \"31\", \"32\", \"33\", \"34\", \"35\", \"36\", \"37\", \"38\", \"39\", \"40\", \"41\", \"42\", \"43\", \"44\", \"45\", \"46\", \"51\", \"52\"], \"mode\": \"lines\", \"name\": \"recall_score_macro_max\", \"stepped\": true, \"type\": \"scatter\", \"data\": [0.7736210317460317, 0.8073313492063491, 0.8073313492063491, 0.8073313492063491, 0.8073313492063491, 0.8415277777777778, 0.8415277777777778, 0.8415277777777778, 0.8415277777777778, 0.8415277777777778, 0.8415277777777778, 0.8415277777777778, 0.8415277777777778, 0.8415277777777778, 0.8415277777777778, 0.8415277777777778, 0.8415277777777778, 0.8415277777777778, 0.8415277777777778, 0.8415277777777778, 0.8415277777777778, 0.8415277777777778, 0.8415277777777778, 0.8415277777777778, 0.8415277777777778, 0.8415277777777778, 0.8415277777777778, 0.8415277777777778, 0.8415277777777778, 0.8504662698412698, 0.8504662698412698, 0.8504662698412698, 0.8504662698412698, 0.8504662698412698, 0.8504662698412698, 0.8504662698412698, 0.8504662698412698, 0.8504662698412698, 0.8504662698412698, 0.8504662698412698, 0.8504662698412698, 0.8504662698412698, 0.8504662698412698, 0.8504662698412698, 0.8504662698412698, 0.8504662698412698, 0.8504662698412698, 0.8504662698412698, 0.8504662698412698]}], \"precision_score_weighted\": [{\"categories\": [\"0\", \"1\", \"2\", \"3\", \"4\", \"5\", \"6\", \"7\", \"8\", \"9\", \"10\", \"11\", \"12\", \"13\", \"14\", \"15\", \"16\", \"17\", \"18\", \"19\", \"20\", \"21\", \"22\", \"23\", \"24\", \"25\", \"26\", \"27\", \"28\", \"29\", \"30\", \"31\", \"32\", \"33\", \"34\", \"35\", \"36\", \"37\", \"38\", \"39\", \"40\", \"41\", \"42\", \"43\", \"44\", \"45\", \"46\", \"51\", \"52\"], \"mode\": \"markers\", \"name\": \"precision_score_weighted\", \"stepped\": false, \"type\": \"scatter\", \"data\": [0.8264842830302515, 0.8525607416879796, 0.8483457552707072, 0.7732731343814601, 0.8321700627714854, 0.88263291790146, 0.8311708617203344, 0.8575699091409904, 0.8415137539251655, 0.7459292146752606, 0.8124255191206918, 0.8457883855412123, 0.8452224888637933, 0.8007138680358705, 0.835793160821134, 0.6022469282176385, 0.7752285071160425, 0.7605630261800338, 0.8363576332022623, 0.8533072398645448, 0.7992543539154793, 0.8271176423214467, 0.8203904215249324, 0.8566839722274505, 0.8499659796482215, 0.847197473817182, 0.8598183125484915, 0.7957319847708864, 0.6549732574189095, 0.8742737046509426, 0.6110802719986325, 0.8348104907312068, 0.7798927554749334, 0.8382249336123511, 0.8551130195435661, 0.7433740989639328, 0.8066626617116462, 0.8480791863424535, 0.7739711078362604, 0.8034206349531636, 0.8675316966589346, 0.8478241248190097, 0.8343802681255568, 0.8524173787872638, 0.8219356919547053, 0.8692529624359278, 0.8637264668438742, 0.8630641652796383, 0.6763823618650856]}, {\"categories\": [\"0\", \"1\", \"2\", \"3\", \"4\", \"5\", \"6\", \"7\", \"8\", \"9\", \"10\", \"11\", \"12\", \"13\", \"14\", \"15\", \"16\", \"17\", \"18\", \"19\", \"20\", \"21\", \"22\", \"23\", \"24\", \"25\", \"26\", \"27\", \"28\", \"29\", \"30\", \"31\", \"32\", \"33\", \"34\", \"35\", \"36\", \"37\", \"38\", \"39\", \"40\", \"41\", \"42\", \"43\", \"44\", \"45\", \"46\", \"51\", \"52\"], \"mode\": \"lines\", \"name\": \"precision_score_weighted_max\", \"stepped\": true, \"type\": \"scatter\", \"data\": [0.8264842830302515, 0.8525607416879796, 0.8525607416879796, 0.8525607416879796, 0.8525607416879796, 0.88263291790146, 0.88263291790146, 0.88263291790146, 0.88263291790146, 0.88263291790146, 0.88263291790146, 0.88263291790146, 0.88263291790146, 0.88263291790146, 0.88263291790146, 0.88263291790146, 0.88263291790146, 0.88263291790146, 0.88263291790146, 0.88263291790146, 0.88263291790146, 0.88263291790146, 0.88263291790146, 0.88263291790146, 0.88263291790146, 0.88263291790146, 0.88263291790146, 0.88263291790146, 0.88263291790146, 0.88263291790146, 0.88263291790146, 0.88263291790146, 0.88263291790146, 0.88263291790146, 0.88263291790146, 0.88263291790146, 0.88263291790146, 0.88263291790146, 0.88263291790146, 0.88263291790146, 0.88263291790146, 0.88263291790146, 0.88263291790146, 0.88263291790146, 0.88263291790146, 0.88263291790146, 0.88263291790146, 0.88263291790146, 0.88263291790146]}], \"AUC_macro\": [{\"categories\": [\"0\", \"1\", \"2\", \"3\", \"4\", \"5\", \"6\", \"7\", \"8\", \"9\", \"10\", \"11\", \"12\", \"13\", \"14\", \"15\", \"16\", \"17\", \"18\", \"19\", \"20\", \"21\", \"22\", \"23\", \"24\", \"25\", \"26\", \"27\", \"28\", \"29\", \"30\", \"31\", \"32\", \"33\", \"34\", \"35\", \"36\", \"37\", \"38\", \"39\", \"40\", \"41\", \"42\", \"43\", \"44\", \"45\", \"46\", \"51\", \"52\"], \"mode\": \"markers\", \"name\": \"AUC_macro\", \"stepped\": false, \"type\": \"scatter\", \"data\": [0.8900892857142857, 0.8878893849206347, 0.8964062499999998, 0.8806225198412699, 0.8815385251322752, 0.9033796296296297, 0.8895436507936507, 0.8648991402116403, 0.8782523148148149, 0.7183440806878307, 0.8669361772486772, 0.8668493716931216, 0.9026678240740742, 0.8523561507936508, 0.8860623346560846, 0.5875868055555555, 0.8698305224867724, 0.8037045304232804, 0.8905324074074075, 0.8926322751322753, 0.850150462962963, 0.8652686838624337, 0.8633060515873016, 0.897192046957672, 0.8937400793650794, 0.8926500496031746, 0.900654761904762, 0.8998321759259259, 0.8615848214285714, 0.905984623015873, 0.5151248346560846, 0.912255291005291, 0.8549801587301588, 0.8870072751322752, 0.907397486772487, 0.7344134424603175, 0.8497503306878308, 0.8897652116402115, 0.8405944113756613, 0.8444320436507937, 0.9100338955026455, 0.9114393187830689, 0.9089880952380953, 0.9021965939153439, 0.8976529431216932, 0.9024429563492065, 0.9025181878306879, 0.9238401124338627, 0.914619708994709]}, {\"categories\": [\"0\", \"1\", \"2\", \"3\", \"4\", \"5\", \"6\", \"7\", \"8\", \"9\", \"10\", \"11\", \"12\", \"13\", \"14\", \"15\", \"16\", \"17\", \"18\", \"19\", \"20\", \"21\", \"22\", \"23\", \"24\", \"25\", \"26\", \"27\", \"28\", \"29\", \"30\", \"31\", \"32\", \"33\", \"34\", \"35\", \"36\", \"37\", \"38\", \"39\", \"40\", \"41\", \"42\", \"43\", \"44\", \"45\", \"46\", \"51\", \"52\"], \"mode\": \"lines\", \"name\": \"AUC_macro_max\", \"stepped\": true, \"type\": \"scatter\", \"data\": [0.8900892857142857, 0.8900892857142857, 0.8964062499999998, 0.8964062499999998, 0.8964062499999998, 0.9033796296296297, 0.9033796296296297, 0.9033796296296297, 0.9033796296296297, 0.9033796296296297, 0.9033796296296297, 0.9033796296296297, 0.9033796296296297, 0.9033796296296297, 0.9033796296296297, 0.9033796296296297, 0.9033796296296297, 0.9033796296296297, 0.9033796296296297, 0.9033796296296297, 0.9033796296296297, 0.9033796296296297, 0.9033796296296297, 0.9033796296296297, 0.9033796296296297, 0.9033796296296297, 0.9033796296296297, 0.9033796296296297, 0.9033796296296297, 0.905984623015873, 0.905984623015873, 0.912255291005291, 0.912255291005291, 0.912255291005291, 0.912255291005291, 0.912255291005291, 0.912255291005291, 0.912255291005291, 0.912255291005291, 0.912255291005291, 0.912255291005291, 0.912255291005291, 0.912255291005291, 0.912255291005291, 0.912255291005291, 0.912255291005291, 0.912255291005291, 0.9238401124338627, 0.9238401124338627]}], \"matthews_correlation\": [{\"categories\": [\"0\", \"1\", \"2\", \"3\", \"4\", \"5\", \"6\", \"7\", \"8\", \"9\", \"10\", \"11\", \"12\", \"13\", \"14\", \"15\", \"16\", \"17\", \"18\", \"19\", \"20\", \"21\", \"22\", \"23\", \"24\", \"25\", \"26\", \"27\", \"28\", \"29\", \"30\", \"31\", \"32\", \"33\", \"34\", \"35\", \"36\", \"37\", \"38\", \"39\", \"40\", \"41\", \"42\", \"43\", \"44\", \"45\", \"46\", \"51\", \"52\"], \"mode\": \"markers\", \"name\": \"matthews_correlation\", \"stepped\": false, \"type\": \"scatter\", \"data\": [0.5811470680333605, 0.6424444597531219, 0.638794589176509, 0.4600164726809671, 0.6051586847775088, 0.7073610631722678, 0.5974425643484886, 0.645492007573618, 0.5529455006645929, 0.37193017783606275, 0.4671390544462077, 0.6056741008211419, 0.6304506711175988, 0.5312302384242724, 0.6158849805680907, 0.09891081243656913, 0.3769768529188659, 0.43374836303661307, 0.6125892111346372, 0.6507755527252388, 0.5356667964318035, 0.5935489290172455, 0.5733446266943283, 0.6436827747879307, 0.5972560291139941, 0.6247240096794687, 0.662287513528249, 0.46949405530783006, 0.19620670267001203, 0.6993457268057521, 0.11664068427990908, 0.6050804290845794, 0.4851962695196327, 0.5837411059728297, 0.656986276268656, 0.3817463381721287, 0.5435352853271226, 0.6355113571998589, 0.4724061423009938, 0.5354059267882665, 0.6843253399644942, 0.6335786443962867, 0.6011288355185561, 0.6451427889691319, 0.5657146595612499, 0.6934934704285383, 0.6669373211837453, 0.6637579733642308, 0.3579600864659893]}, {\"categories\": [\"0\", \"1\", \"2\", \"3\", \"4\", \"5\", \"6\", \"7\", \"8\", \"9\", \"10\", \"11\", \"12\", \"13\", \"14\", \"15\", \"16\", \"17\", \"18\", \"19\", \"20\", \"21\", \"22\", \"23\", \"24\", \"25\", \"26\", \"27\", \"28\", \"29\", \"30\", \"31\", \"32\", \"33\", \"34\", \"35\", \"36\", \"37\", \"38\", \"39\", \"40\", \"41\", \"42\", \"43\", \"44\", \"45\", \"46\", \"51\", \"52\"], \"mode\": \"lines\", \"name\": \"matthews_correlation_max\", \"stepped\": true, \"type\": \"scatter\", \"data\": [0.5811470680333605, 0.6424444597531219, 0.6424444597531219, 0.6424444597531219, 0.6424444597531219, 0.7073610631722678, 0.7073610631722678, 0.7073610631722678, 0.7073610631722678, 0.7073610631722678, 0.7073610631722678, 0.7073610631722678, 0.7073610631722678, 0.7073610631722678, 0.7073610631722678, 0.7073610631722678, 0.7073610631722678, 0.7073610631722678, 0.7073610631722678, 0.7073610631722678, 0.7073610631722678, 0.7073610631722678, 0.7073610631722678, 0.7073610631722678, 0.7073610631722678, 0.7073610631722678, 0.7073610631722678, 0.7073610631722678, 0.7073610631722678, 0.7073610631722678, 0.7073610631722678, 0.7073610631722678, 0.7073610631722678, 0.7073610631722678, 0.7073610631722678, 0.7073610631722678, 0.7073610631722678, 0.7073610631722678, 0.7073610631722678, 0.7073610631722678, 0.7073610631722678, 0.7073610631722678, 0.7073610631722678, 0.7073610631722678, 0.7073610631722678, 0.7073610631722678, 0.7073610631722678, 0.7073610631722678, 0.7073610631722678]}], \"AUC_micro\": [{\"categories\": [\"0\", \"1\", \"2\", \"3\", \"4\", \"5\", \"6\", \"7\", \"8\", \"9\", \"10\", \"11\", \"12\", \"13\", \"14\", \"15\", \"16\", \"17\", \"18\", \"19\", \"20\", \"21\", \"22\", \"23\", \"24\", \"25\", \"26\", \"27\", \"28\", \"29\", \"30\", \"31\", \"32\", \"33\", \"34\", \"35\", \"36\", \"37\", \"38\", \"39\", \"40\", \"41\", \"42\", \"43\", \"44\", \"45\", \"46\", \"51\", \"52\"], \"mode\": \"markers\", \"name\": \"AUC_micro\", \"stepped\": false, \"type\": \"scatter\", \"data\": [0.8869486452425962, 0.8970683023524471, 0.9015359168241966, 0.8724732855492544, 0.8910267013232515, 0.9070333832178115, 0.8916422167086747, 0.8910109483301827, 0.8699770925225794, 0.7709879095778197, 0.8617133349086326, 0.8761151806343206, 0.9031486294896031, 0.8700158186305398, 0.8948845436883008, 0.670618370615417, 0.8560150178533922, 0.8188044791010292, 0.8919180581810544, 0.8992750341314849, 0.8645800514597776, 0.8719911783238816, 0.8731870930476789, 0.9003281873555975, 0.8892210144927537, 0.8889666692921654, 0.9023074852972066, 0.8744525834908634, 0.8276510974585172, 0.906015017853392, 0.521602604494854, 0.9061115049359378, 0.864456324826717, 0.8877510633270322, 0.908364511132115, 0.7616207860743541, 0.8711848219911783, 0.8936462927956311, 0.8519487765175384, 0.8644602630749842, 0.9038699852972065, 0.9142055896870405, 0.907604429216551, 0.9052280245746692, 0.9015474033816424, 0.9092712927956311, 0.9075427299936989, 0.9159531873555975, 0.8868137602394455]}, {\"categories\": [\"0\", \"1\", \"2\", \"3\", \"4\", \"5\", \"6\", \"7\", \"8\", \"9\", \"10\", \"11\", \"12\", \"13\", \"14\", \"15\", \"16\", \"17\", \"18\", \"19\", \"20\", \"21\", \"22\", \"23\", \"24\", \"25\", \"26\", \"27\", \"28\", \"29\", \"30\", \"31\", \"32\", \"33\", \"34\", \"35\", \"36\", \"37\", \"38\", \"39\", \"40\", \"41\", \"42\", \"43\", \"44\", \"45\", \"46\", \"51\", \"52\"], \"mode\": \"lines\", \"name\": \"AUC_micro_max\", \"stepped\": true, \"type\": \"scatter\", \"data\": [0.8869486452425962, 0.8970683023524471, 0.9015359168241966, 0.9015359168241966, 0.9015359168241966, 0.9070333832178115, 0.9070333832178115, 0.9070333832178115, 0.9070333832178115, 0.9070333832178115, 0.9070333832178115, 0.9070333832178115, 0.9070333832178115, 0.9070333832178115, 0.9070333832178115, 0.9070333832178115, 0.9070333832178115, 0.9070333832178115, 0.9070333832178115, 0.9070333832178115, 0.9070333832178115, 0.9070333832178115, 0.9070333832178115, 0.9070333832178115, 0.9070333832178115, 0.9070333832178115, 0.9070333832178115, 0.9070333832178115, 0.9070333832178115, 0.9070333832178115, 0.9070333832178115, 0.9070333832178115, 0.9070333832178115, 0.9070333832178115, 0.908364511132115, 0.908364511132115, 0.908364511132115, 0.908364511132115, 0.908364511132115, 0.908364511132115, 0.908364511132115, 0.9142055896870405, 0.9142055896870405, 0.9142055896870405, 0.9142055896870405, 0.9142055896870405, 0.9142055896870405, 0.9159531873555975, 0.9159531873555975]}], \"f1_score_micro\": [{\"categories\": [\"0\", \"1\", \"2\", \"3\", \"4\", \"5\", \"6\", \"7\", \"8\", \"9\", \"10\", \"11\", \"12\", \"13\", \"14\", \"15\", \"16\", \"17\", \"18\", \"19\", \"20\", \"21\", \"22\", \"23\", \"24\", \"25\", \"26\", \"27\", \"28\", \"29\", \"30\", \"31\", \"32\", \"33\", \"34\", \"35\", \"36\", \"37\", \"38\", \"39\", \"40\", \"41\", \"42\", \"43\", \"44\", \"45\", \"46\", \"51\", \"52\"], \"mode\": \"markers\", \"name\": \"f1_score_micro\", \"stepped\": false, \"type\": \"scatter\", \"data\": [0.803623188405797, 0.8327898550724638, 0.8367753623188404, 0.770108695652174, 0.8159420289855073, 0.8621376811594204, 0.8115942028985508, 0.8413043478260869, 0.7994565217391305, 0.7244565217391306, 0.7661231884057972, 0.8202898550724637, 0.8201086956521738, 0.7907608695652173, 0.8161231884057971, 0.6237318840579709, 0.7365942028985507, 0.7326086956521739, 0.8112318840579711, 0.8409420289855072, 0.7909420289855074, 0.8076086956521739, 0.8076086956521739, 0.8409420289855072, 0.816304347826087, 0.8159420289855073, 0.841123188405797, 0.7697463768115942, 0.6945652173913043, 0.8536231884057971, 0.6028985507246377, 0.8076086956521739, 0.7784420289855073, 0.8117753623188406, 0.841123188405797, 0.682427536231884, 0.7951086956521739, 0.8286231884057971, 0.7532608695652174, 0.7907608695652174, 0.8452898550724637, 0.8327898550724637, 0.8201086956521738, 0.8369565217391305, 0.8034420289855072, 0.8536231884057971, 0.8451086956521738, 0.8452898550724639, 0.7737318840579709]}, {\"categories\": [\"0\", \"1\", \"2\", \"3\", \"4\", \"5\", \"6\", \"7\", \"8\", \"9\", \"10\", \"11\", \"12\", \"13\", \"14\", \"15\", \"16\", \"17\", \"18\", \"19\", \"20\", \"21\", \"22\", \"23\", \"24\", \"25\", \"26\", \"27\", \"28\", \"29\", \"30\", \"31\", \"32\", \"33\", \"34\", \"35\", \"36\", \"37\", \"38\", \"39\", \"40\", \"41\", \"42\", \"43\", \"44\", \"45\", \"46\", \"51\", \"52\"], \"mode\": \"lines\", \"name\": \"f1_score_micro_max\", \"stepped\": true, \"type\": \"scatter\", \"data\": [0.803623188405797, 0.8327898550724638, 0.8367753623188404, 0.8367753623188404, 0.8367753623188404, 0.8621376811594204, 0.8621376811594204, 0.8621376811594204, 0.8621376811594204, 0.8621376811594204, 0.8621376811594204, 0.8621376811594204, 0.8621376811594204, 0.8621376811594204, 0.8621376811594204, 0.8621376811594204, 0.8621376811594204, 0.8621376811594204, 0.8621376811594204, 0.8621376811594204, 0.8621376811594204, 0.8621376811594204, 0.8621376811594204, 0.8621376811594204, 0.8621376811594204, 0.8621376811594204, 0.8621376811594204, 0.8621376811594204, 0.8621376811594204, 0.8621376811594204, 0.8621376811594204, 0.8621376811594204, 0.8621376811594204, 0.8621376811594204, 0.8621376811594204, 0.8621376811594204, 0.8621376811594204, 0.8621376811594204, 0.8621376811594204, 0.8621376811594204, 0.8621376811594204, 0.8621376811594204, 0.8621376811594204, 0.8621376811594204, 0.8621376811594204, 0.8621376811594204, 0.8621376811594204, 0.8621376811594204, 0.8621376811594204]}], \"AUC_weighted\": [{\"categories\": [\"0\", \"1\", \"2\", \"3\", \"4\", \"5\", \"6\", \"7\", \"8\", \"9\", \"10\", \"11\", \"12\", \"13\", \"14\", \"15\", \"16\", \"17\", \"18\", \"19\", \"20\", \"21\", \"22\", \"23\", \"24\", \"25\", \"26\", \"27\", \"28\", \"29\", \"30\", \"31\", \"32\", \"33\", \"34\", \"35\", \"36\", \"37\", \"38\", \"39\", \"40\", \"41\", \"42\", \"43\", \"44\", \"45\", \"46\", \"51\", \"52\"], \"mode\": \"markers\", \"name\": \"AUC_weighted\", \"stepped\": false, \"type\": \"scatter\", \"data\": [0.8900892857142857, 0.887889384920635, 0.8964062500000001, 0.8806225198412699, 0.8815385251322752, 0.9033796296296297, 0.8895436507936509, 0.8648991402116403, 0.8782523148148149, 0.7183440806878306, 0.8669361772486772, 0.8668493716931218, 0.902667824074074, 0.8523561507936508, 0.8860623346560846, 0.5875868055555555, 0.8698305224867724, 0.8037045304232805, 0.8905324074074075, 0.8926322751322753, 0.850150462962963, 0.8652686838624339, 0.8633060515873016, 0.897192046957672, 0.8937400793650794, 0.8926500496031744, 0.900654761904762, 0.8998321759259259, 0.8615848214285714, 0.905984623015873, 0.5151248346560846, 0.912255291005291, 0.8549801587301588, 0.8870072751322752, 0.9073974867724868, 0.7344134424603175, 0.8497503306878308, 0.8897652116402117, 0.8405944113756613, 0.8444320436507937, 0.9100338955026455, 0.9114393187830689, 0.9089880952380952, 0.9021965939153439, 0.8976529431216932, 0.9024429563492063, 0.9025181878306878, 0.9238401124338624, 0.914619708994709]}, {\"categories\": [\"0\", \"1\", \"2\", \"3\", \"4\", \"5\", \"6\", \"7\", \"8\", \"9\", \"10\", \"11\", \"12\", \"13\", \"14\", \"15\", \"16\", \"17\", \"18\", \"19\", \"20\", \"21\", \"22\", \"23\", \"24\", \"25\", \"26\", \"27\", \"28\", \"29\", \"30\", \"31\", \"32\", \"33\", \"34\", \"35\", \"36\", \"37\", \"38\", \"39\", \"40\", \"41\", \"42\", \"43\", \"44\", \"45\", \"46\", \"51\", \"52\"], \"mode\": \"lines\", \"name\": \"AUC_weighted_max\", \"stepped\": true, \"type\": \"scatter\", \"data\": [0.8900892857142857, 0.8900892857142857, 0.8964062500000001, 0.8964062500000001, 0.8964062500000001, 0.9033796296296297, 0.9033796296296297, 0.9033796296296297, 0.9033796296296297, 0.9033796296296297, 0.9033796296296297, 0.9033796296296297, 0.9033796296296297, 0.9033796296296297, 0.9033796296296297, 0.9033796296296297, 0.9033796296296297, 0.9033796296296297, 0.9033796296296297, 0.9033796296296297, 0.9033796296296297, 0.9033796296296297, 0.9033796296296297, 0.9033796296296297, 0.9033796296296297, 0.9033796296296297, 0.9033796296296297, 0.9033796296296297, 0.9033796296296297, 0.905984623015873, 0.905984623015873, 0.912255291005291, 0.912255291005291, 0.912255291005291, 0.912255291005291, 0.912255291005291, 0.912255291005291, 0.912255291005291, 0.912255291005291, 0.912255291005291, 0.912255291005291, 0.912255291005291, 0.912255291005291, 0.912255291005291, 0.912255291005291, 0.912255291005291, 0.912255291005291, 0.9238401124338624, 0.9238401124338624]}], \"weighted_accuracy\": [{\"categories\": [\"0\", \"1\", \"2\", \"3\", \"4\", \"5\", \"6\", \"7\", \"8\", \"9\", \"10\", \"11\", \"12\", \"13\", \"14\", \"15\", \"16\", \"17\", \"18\", \"19\", \"20\", \"21\", \"22\", \"23\", \"24\", \"25\", \"26\", \"27\", \"28\", \"29\", \"30\", \"31\", \"32\", \"33\", \"34\", \"35\", \"36\", \"37\", \"38\", \"39\", \"40\", \"41\", \"42\", \"43\", \"44\", \"45\", \"46\", \"51\", \"52\"], \"mode\": \"markers\", \"name\": \"weighted_accuracy\", \"stepped\": false, \"type\": \"scatter\", \"data\": [0.8281719400210239, 0.8530407794486867, 0.8601044680167149, 0.8341009669264251, 0.8277078066494653, 0.878363522635461, 0.8262996385971315, 0.8745708340934957, 0.8539410939386831, 0.7809592162075287, 0.8288960488936381, 0.8592723075051907, 0.8232069074860782, 0.8187244911256484, 0.823525676110054, 0.6877134970071325, 0.8103746731302179, 0.7506612760301284, 0.8161619406291539, 0.8608159147575734, 0.8187269888017237, 0.812156298053116, 0.8279317070204245, 0.8726419331578444, 0.8600911325983651, 0.8131834293309703, 0.8553420513087822, 0.832424743933905, 0.8004669133936252, 0.856371463073488, 0.6357125978437455, 0.812156298053116, 0.8210918536665887, 0.8571812530949465, 0.8557832277793704, 0.6706035036965606, 0.8237981617104086, 0.8449008748381941, 0.7625612690800734, 0.82034611274727, 0.8467397725594447, 0.8563780873448182, 0.8502634505286386, 0.858481955919275, 0.8328809933366348, 0.8602652097613523, 0.8639461761665232, 0.868215660211803, 0.8587701443005203]}, {\"categories\": [\"0\", \"1\", \"2\", \"3\", \"4\", \"5\", \"6\", \"7\", \"8\", \"9\", \"10\", \"11\", \"12\", \"13\", \"14\", \"15\", \"16\", \"17\", \"18\", \"19\", \"20\", \"21\", \"22\", \"23\", \"24\", \"25\", \"26\", \"27\", \"28\", \"29\", \"30\", \"31\", \"32\", \"33\", \"34\", \"35\", \"36\", \"37\", \"38\", \"39\", \"40\", \"41\", \"42\", \"43\", \"44\", \"45\", \"46\", \"51\", \"52\"], \"mode\": \"lines\", \"name\": \"weighted_accuracy_max\", \"stepped\": true, \"type\": \"scatter\", \"data\": [0.8281719400210239, 0.8530407794486867, 0.8601044680167149, 0.8601044680167149, 0.8601044680167149, 0.878363522635461, 0.878363522635461, 0.878363522635461, 0.878363522635461, 0.878363522635461, 0.878363522635461, 0.878363522635461, 0.878363522635461, 0.878363522635461, 0.878363522635461, 0.878363522635461, 0.878363522635461, 0.878363522635461, 0.878363522635461, 0.878363522635461, 0.878363522635461, 0.878363522635461, 0.878363522635461, 0.878363522635461, 0.878363522635461, 0.878363522635461, 0.878363522635461, 0.878363522635461, 0.878363522635461, 0.878363522635461, 0.878363522635461, 0.878363522635461, 0.878363522635461, 0.878363522635461, 0.878363522635461, 0.878363522635461, 0.878363522635461, 0.878363522635461, 0.878363522635461, 0.878363522635461, 0.878363522635461, 0.878363522635461, 0.878363522635461, 0.878363522635461, 0.878363522635461, 0.878363522635461, 0.878363522635461, 0.878363522635461, 0.878363522635461]}], \"recall_score_micro\": [{\"categories\": [\"0\", \"1\", \"2\", \"3\", \"4\", \"5\", \"6\", \"7\", \"8\", \"9\", \"10\", \"11\", \"12\", \"13\", \"14\", \"15\", \"16\", \"17\", \"18\", \"19\", \"20\", \"21\", \"22\", \"23\", \"24\", \"25\", \"26\", \"27\", \"28\", \"29\", \"30\", \"31\", \"32\", \"33\", \"34\", \"35\", \"36\", \"37\", \"38\", \"39\", \"40\", \"41\", \"42\", \"43\", \"44\", \"45\", \"46\", \"51\", \"52\"], \"mode\": \"markers\", \"name\": \"recall_score_micro\", \"stepped\": false, \"type\": \"scatter\", \"data\": [0.803623188405797, 0.8327898550724638, 0.8367753623188404, 0.770108695652174, 0.8159420289855073, 0.8621376811594204, 0.8115942028985508, 0.8413043478260869, 0.7994565217391305, 0.7244565217391306, 0.7661231884057972, 0.8202898550724637, 0.8201086956521738, 0.7907608695652173, 0.8161231884057971, 0.6237318840579709, 0.7365942028985507, 0.7326086956521739, 0.8112318840579711, 0.8409420289855072, 0.7909420289855074, 0.8076086956521739, 0.8076086956521739, 0.8409420289855072, 0.816304347826087, 0.8159420289855073, 0.841123188405797, 0.7697463768115942, 0.6945652173913043, 0.8536231884057971, 0.6028985507246377, 0.8076086956521739, 0.7784420289855073, 0.8117753623188406, 0.841123188405797, 0.682427536231884, 0.7951086956521739, 0.8286231884057971, 0.7532608695652174, 0.7907608695652174, 0.8452898550724637, 0.8327898550724637, 0.8201086956521738, 0.8369565217391305, 0.8034420289855072, 0.8536231884057971, 0.8451086956521738, 0.8452898550724639, 0.7737318840579709]}, {\"categories\": [\"0\", \"1\", \"2\", \"3\", \"4\", \"5\", \"6\", \"7\", \"8\", \"9\", \"10\", \"11\", \"12\", \"13\", \"14\", \"15\", \"16\", \"17\", \"18\", \"19\", \"20\", \"21\", \"22\", \"23\", \"24\", \"25\", \"26\", \"27\", \"28\", \"29\", \"30\", \"31\", \"32\", \"33\", \"34\", \"35\", \"36\", \"37\", \"38\", \"39\", \"40\", \"41\", \"42\", \"43\", \"44\", \"45\", \"46\", \"51\", \"52\"], \"mode\": \"lines\", \"name\": \"recall_score_micro_max\", \"stepped\": true, \"type\": \"scatter\", \"data\": [0.803623188405797, 0.8327898550724638, 0.8367753623188404, 0.8367753623188404, 0.8367753623188404, 0.8621376811594204, 0.8621376811594204, 0.8621376811594204, 0.8621376811594204, 0.8621376811594204, 0.8621376811594204, 0.8621376811594204, 0.8621376811594204, 0.8621376811594204, 0.8621376811594204, 0.8621376811594204, 0.8621376811594204, 0.8621376811594204, 0.8621376811594204, 0.8621376811594204, 0.8621376811594204, 0.8621376811594204, 0.8621376811594204, 0.8621376811594204, 0.8621376811594204, 0.8621376811594204, 0.8621376811594204, 0.8621376811594204, 0.8621376811594204, 0.8621376811594204, 0.8621376811594204, 0.8621376811594204, 0.8621376811594204, 0.8621376811594204, 0.8621376811594204, 0.8621376811594204, 0.8621376811594204, 0.8621376811594204, 0.8621376811594204, 0.8621376811594204, 0.8621376811594204, 0.8621376811594204, 0.8621376811594204, 0.8621376811594204, 0.8621376811594204, 0.8621376811594204, 0.8621376811594204, 0.8621376811594204, 0.8621376811594204]}], \"norm_macro_recall\": [{\"categories\": [\"0\", \"1\", \"2\", \"3\", \"4\", \"5\", \"6\", \"7\", \"8\", \"9\", \"10\", \"11\", \"12\", \"13\", \"14\", \"15\", \"16\", \"17\", \"18\", \"19\", \"20\", \"21\", \"22\", \"23\", \"24\", \"25\", \"26\", \"27\", \"28\", \"29\", \"30\", \"31\", \"32\", \"33\", \"34\", \"35\", \"36\", \"37\", \"38\", \"39\", \"40\", \"41\", \"42\", \"43\", \"44\", \"45\", \"46\", \"51\", \"52\"], \"mode\": \"markers\", \"name\": \"norm_macro_recall\", \"stepped\": false, \"type\": \"scatter\", \"data\": [0.5472420634920635, 0.6146626984126984, 0.6127380952380953, 0.37297619047619046, 0.6023412698412699, 0.6830555555555555, 0.5869642857142857, 0.5955158730158729, 0.4576785714285715, 0.30051587301587296, 0.3692063492063492, 0.540734126984127, 0.6304761904761905, 0.5072817460317461, 0.6140079365079364, 0.11482142857142852, 0.2785317460317461, 0.4202579365079366, 0.608670634920635, 0.6292063492063493, 0.5098015873015873, 0.6015079365079365, 0.5615674603174602, 0.5980952380952381, 0.5201388888888888, 0.6366666666666667, 0.6457936507936507, 0.37422619047619043, 0.10859126984126985, 0.7009325396825397, 0.15079365079365079, 0.6022023809523811, 0.441607142857143, 0.5075595238095237, 0.6437103174603174, 0.3926785714285715, 0.5133134920634921, 0.6159325396825397, 0.4780555555555555, 0.5028373015873016, 0.6871230158730158, 0.6039682539682539, 0.5623214285714285, 0.6195238095238095, 0.5293253968253968, 0.6924007936507938, 0.6415277777777778, 0.6319444444444444, 0.3188888888888889]}, {\"categories\": [\"0\", \"1\", \"2\", \"3\", \"4\", \"5\", \"6\", \"7\", \"8\", \"9\", \"10\", \"11\", \"12\", \"13\", \"14\", \"15\", \"16\", \"17\", \"18\", \"19\", \"20\", \"21\", \"22\", \"23\", \"24\", \"25\", \"26\", \"27\", \"28\", \"29\", \"30\", \"31\", \"32\", \"33\", \"34\", \"35\", \"36\", \"37\", \"38\", \"39\", \"40\", \"41\", \"42\", \"43\", \"44\", \"45\", \"46\", \"51\", \"52\"], \"mode\": \"lines\", \"name\": \"norm_macro_recall_max\", \"stepped\": true, \"type\": \"scatter\", \"data\": [0.5472420634920635, 0.6146626984126984, 0.6146626984126984, 0.6146626984126984, 0.6146626984126984, 0.6830555555555555, 0.6830555555555555, 0.6830555555555555, 0.6830555555555555, 0.6830555555555555, 0.6830555555555555, 0.6830555555555555, 0.6830555555555555, 0.6830555555555555, 0.6830555555555555, 0.6830555555555555, 0.6830555555555555, 0.6830555555555555, 0.6830555555555555, 0.6830555555555555, 0.6830555555555555, 0.6830555555555555, 0.6830555555555555, 0.6830555555555555, 0.6830555555555555, 0.6830555555555555, 0.6830555555555555, 0.6830555555555555, 0.6830555555555555, 0.7009325396825397, 0.7009325396825397, 0.7009325396825397, 0.7009325396825397, 0.7009325396825397, 0.7009325396825397, 0.7009325396825397, 0.7009325396825397, 0.7009325396825397, 0.7009325396825397, 0.7009325396825397, 0.7009325396825397, 0.7009325396825397, 0.7009325396825397, 0.7009325396825397, 0.7009325396825397, 0.7009325396825397, 0.7009325396825397, 0.7009325396825397, 0.7009325396825397]}], \"f1_score_macro\": [{\"categories\": [\"0\", \"1\", \"2\", \"3\", \"4\", \"5\", \"6\", \"7\", \"8\", \"9\", \"10\", \"11\", \"12\", \"13\", \"14\", \"15\", \"16\", \"17\", \"18\", \"19\", \"20\", \"21\", \"22\", \"23\", \"24\", \"25\", \"26\", \"27\", \"28\", \"29\", \"30\", \"31\", \"32\", \"33\", \"34\", \"35\", \"36\", \"37\", \"38\", \"39\", \"40\", \"41\", \"42\", \"43\", \"44\", \"45\", \"46\", \"51\", \"52\"], \"mode\": \"markers\", \"name\": \"f1_score_macro\", \"stepped\": false, \"type\": \"scatter\", \"data\": [0.7716529969862921, 0.8066550600718466, 0.8090540951862268, 0.6802883982663867, 0.7937114729778492, 0.8391399572649572, 0.7868132120583309, 0.8040411028051814, 0.7297330847079772, 0.6498604507409158, 0.6772571170481858, 0.7769479091170268, 0.8025996066096004, 0.7556424262530463, 0.7978735349933547, 0.5308222516969895, 0.6279841749327515, 0.7010543921869823, 0.7953105242171675, 0.8155212372869762, 0.7582018574404723, 0.7876056876721638, 0.7756670031277138, 0.8054473165050384, 0.7634498395670122, 0.7983578029081719, 0.8185482513588604, 0.6954952459228775, 0.4987872629977894, 0.8394940818862133, 0.5474123493550651, 0.7884988265126154, 0.7296847050180755, 0.7634863992216934, 0.8192755867416567, 0.6651208393005292, 0.7599932132576979, 0.8045511277987443, 0.728191325473204, 0.753996023120575, 0.8313972113574009, 0.8045878355769656, 0.7856571221051771, 0.8093611857772608, 0.7640960071711969, 0.8384275202727594, 0.8199145537533477, 0.8170955397756934, 0.6208895994107095]}, {\"categories\": [\"0\", \"1\", \"2\", \"3\", \"4\", \"5\", \"6\", \"7\", \"8\", \"9\", \"10\", \"11\", \"12\", \"13\", \"14\", \"15\", \"16\", \"17\", \"18\", \"19\", \"20\", \"21\", \"22\", \"23\", \"24\", \"25\", \"26\", \"27\", \"28\", \"29\", \"30\", \"31\", \"32\", \"33\", \"34\", \"35\", \"36\", \"37\", \"38\", \"39\", \"40\", \"41\", \"42\", \"43\", \"44\", \"45\", \"46\", \"51\", \"52\"], \"mode\": \"lines\", \"name\": \"f1_score_macro_max\", \"stepped\": true, \"type\": \"scatter\", \"data\": [0.7716529969862921, 0.8066550600718466, 0.8090540951862268, 0.8090540951862268, 0.8090540951862268, 0.8391399572649572, 0.8391399572649572, 0.8391399572649572, 0.8391399572649572, 0.8391399572649572, 0.8391399572649572, 0.8391399572649572, 0.8391399572649572, 0.8391399572649572, 0.8391399572649572, 0.8391399572649572, 0.8391399572649572, 0.8391399572649572, 0.8391399572649572, 0.8391399572649572, 0.8391399572649572, 0.8391399572649572, 0.8391399572649572, 0.8391399572649572, 0.8391399572649572, 0.8391399572649572, 0.8391399572649572, 0.8391399572649572, 0.8391399572649572, 0.8394940818862133, 0.8394940818862133, 0.8394940818862133, 0.8394940818862133, 0.8394940818862133, 0.8394940818862133, 0.8394940818862133, 0.8394940818862133, 0.8394940818862133, 0.8394940818862133, 0.8394940818862133, 0.8394940818862133, 0.8394940818862133, 0.8394940818862133, 0.8394940818862133, 0.8394940818862133, 0.8394940818862133, 0.8394940818862133, 0.8394940818862133, 0.8394940818862133]}], \"f1_score_weighted\": [{\"categories\": [\"0\", \"1\", \"2\", \"3\", \"4\", \"5\", \"6\", \"7\", \"8\", \"9\", \"10\", \"11\", \"12\", \"13\", \"14\", \"15\", \"16\", \"17\", \"18\", \"19\", \"20\", \"21\", \"22\", \"23\", \"24\", \"25\", \"26\", \"27\", \"28\", \"29\", \"30\", \"31\", \"32\", \"33\", \"34\", \"35\", \"36\", \"37\", \"38\", \"39\", \"40\", \"41\", \"42\", \"43\", \"44\", \"45\", \"46\", \"51\", \"52\"], \"mode\": \"markers\", \"name\": \"f1_score_weighted\", \"stepped\": false, \"type\": \"scatter\", \"data\": [0.7983012006870832, 0.8299387381180269, 0.8335860616144071, 0.7341879975749643, 0.8164242064193777, 0.8594114254304472, 0.8109253565217728, 0.8328805527524172, 0.773364476708369, 0.7015050591294317, 0.7316115322807922, 0.8092738578024703, 0.8219976254577375, 0.7865746602827669, 0.8172949116004042, 0.596362365371599, 0.6933367185728155, 0.7314044538748179, 0.8141301584389371, 0.8385756007397422, 0.7867822038920366, 0.8094813317934941, 0.8045100029739547, 0.8343794717915172, 0.799123334993519, 0.8188522621136126, 0.839678493006413, 0.7453990515432162, 0.6022538607435631, 0.8551947115592975, 0.5967631725250021, 0.8091562445402865, 0.7674119738146428, 0.7970218970370825, 0.8404627959337961, 0.6883118534269554, 0.7903113356279338, 0.8270815234182732, 0.75636420525376, 0.7846500008348876, 0.8470962726139136, 0.8295461027932877, 0.8138650819031845, 0.8331876185597441, 0.7960820615886075, 0.8540880795516138, 0.8424270496877178, 0.8409350042252699, 0.7050207333084029]}, {\"categories\": [\"0\", \"1\", \"2\", \"3\", \"4\", \"5\", \"6\", \"7\", \"8\", \"9\", \"10\", \"11\", \"12\", \"13\", \"14\", \"15\", \"16\", \"17\", \"18\", \"19\", \"20\", \"21\", \"22\", \"23\", \"24\", \"25\", \"26\", \"27\", \"28\", \"29\", \"30\", \"31\", \"32\", \"33\", \"34\", \"35\", \"36\", \"37\", \"38\", \"39\", \"40\", \"41\", \"42\", \"43\", \"44\", \"45\", \"46\", \"51\", \"52\"], \"mode\": \"lines\", \"name\": \"f1_score_weighted_max\", \"stepped\": true, \"type\": \"scatter\", \"data\": [0.7983012006870832, 0.8299387381180269, 0.8335860616144071, 0.8335860616144071, 0.8335860616144071, 0.8594114254304472, 0.8594114254304472, 0.8594114254304472, 0.8594114254304472, 0.8594114254304472, 0.8594114254304472, 0.8594114254304472, 0.8594114254304472, 0.8594114254304472, 0.8594114254304472, 0.8594114254304472, 0.8594114254304472, 0.8594114254304472, 0.8594114254304472, 0.8594114254304472, 0.8594114254304472, 0.8594114254304472, 0.8594114254304472, 0.8594114254304472, 0.8594114254304472, 0.8594114254304472, 0.8594114254304472, 0.8594114254304472, 0.8594114254304472, 0.8594114254304472, 0.8594114254304472, 0.8594114254304472, 0.8594114254304472, 0.8594114254304472, 0.8594114254304472, 0.8594114254304472, 0.8594114254304472, 0.8594114254304472, 0.8594114254304472, 0.8594114254304472, 0.8594114254304472, 0.8594114254304472, 0.8594114254304472, 0.8594114254304472, 0.8594114254304472, 0.8594114254304472, 0.8594114254304472, 0.8594114254304472, 0.8594114254304472]}]}, \"metricName\": null, \"primaryMetricName\": \"AUC_weighted\", \"showLegend\": false}, \"run_metrics\": [{\"name\": \"experiment_status\", \"run_id\": \"AutoML_32d8d192-6f8f-42bd-8e0c-83d0ba36ac51\", \"categories\": [0, 1, 2, 3, 4, 5, 6, 7, 8, 9, 10, 11, 12, 13], \"series\": [{\"data\": [\"DatasetEvaluation\", \"FeaturesGeneration\", \"DatasetFeaturization\", \"DatasetFeaturizationCompleted\", \"DatasetCrossValidationSplit\", \"ModelSelection\", \"BestRunExplainModel\", \"ModelExplanationDataSetSetup\", \"PickSurrogateModel\", \"EngineeredFeatureExplanations\", \"EngineeredFeatureExplanations\", \"RawFeaturesExplanations\", \"RawFeaturesExplanations\", \"BestRunExplainModel\"]}]}, {\"name\": \"experiment_status_description\", \"run_id\": \"AutoML_32d8d192-6f8f-42bd-8e0c-83d0ba36ac51\", \"categories\": [0, 1, 2, 3, 4, 5, 6, 7, 8, 9, 10, 11, 12, 13], \"series\": [{\"data\": [\"Gathering dataset statistics.\", \"Generating features for the dataset.\", \"Beginning to fit featurizers and featurize the dataset.\", \"Completed fit featurizers and featurizing the dataset.\", \"Generating individually featurized CV splits.\", \"Beginning model selection.\", \"Best run model explanations started\", \"Model explanations data setup completed\", \"Choosing LightGBM as the surrogate model for explanations\", \"Computation of engineered features started\", \"Computation of engineered features completed\", \"Computation of raw features started\", \"Computation of raw features completed\", \"Best run model explanations completed\"]}]}, {\"name\": \"log_loss\", \"run_id\": \"AutoML_32d8d192-6f8f-42bd-8e0c-83d0ba36ac51\", \"categories\": [0], \"series\": [{\"data\": [0.4545928012754919]}]}, {\"name\": \"recall_score_macro\", \"run_id\": \"AutoML_32d8d192-6f8f-42bd-8e0c-83d0ba36ac51\", \"categories\": [0], \"series\": [{\"data\": [0.8159722222222221]}]}, {\"name\": \"f1_score_micro\", \"run_id\": \"AutoML_32d8d192-6f8f-42bd-8e0c-83d0ba36ac51\", \"categories\": [0], \"series\": [{\"data\": [0.8452898550724639]}]}, {\"name\": \"AUC_micro\", \"run_id\": \"AutoML_32d8d192-6f8f-42bd-8e0c-83d0ba36ac51\", \"categories\": [0], \"series\": [{\"data\": [0.9159531873555975]}]}, {\"name\": \"f1_score_weighted\", \"run_id\": \"AutoML_32d8d192-6f8f-42bd-8e0c-83d0ba36ac51\", \"categories\": [0], \"series\": [{\"data\": [0.8409350042252699]}]}, {\"name\": \"f1_score_macro\", \"run_id\": \"AutoML_32d8d192-6f8f-42bd-8e0c-83d0ba36ac51\", \"categories\": [0], \"series\": [{\"data\": [0.8170955397756934]}]}, {\"name\": \"recall_score_micro\", \"run_id\": \"AutoML_32d8d192-6f8f-42bd-8e0c-83d0ba36ac51\", \"categories\": [0], \"series\": [{\"data\": [0.8452898550724639]}]}, {\"name\": \"precision_score_weighted\", \"run_id\": \"AutoML_32d8d192-6f8f-42bd-8e0c-83d0ba36ac51\", \"categories\": [0], \"series\": [{\"data\": [0.8630641652796383]}]}, {\"name\": \"precision_score_micro\", \"run_id\": \"AutoML_32d8d192-6f8f-42bd-8e0c-83d0ba36ac51\", \"categories\": [0], \"series\": [{\"data\": [0.8452898550724639]}]}, {\"name\": \"norm_macro_recall\", \"run_id\": \"AutoML_32d8d192-6f8f-42bd-8e0c-83d0ba36ac51\", \"categories\": [0], \"series\": [{\"data\": [0.6319444444444444]}]}, {\"name\": \"average_precision_score_weighted\", \"run_id\": \"AutoML_32d8d192-6f8f-42bd-8e0c-83d0ba36ac51\", \"categories\": [0], \"series\": [{\"data\": [0.9362627205455774]}]}, {\"name\": \"average_precision_score_micro\", \"run_id\": \"AutoML_32d8d192-6f8f-42bd-8e0c-83d0ba36ac51\", \"categories\": [0], \"series\": [{\"data\": [0.9223983205364357]}]}, {\"name\": \"AUC_macro\", \"run_id\": \"AutoML_32d8d192-6f8f-42bd-8e0c-83d0ba36ac51\", \"categories\": [0], \"series\": [{\"data\": [0.9238401124338627]}]}, {\"name\": \"average_precision_score_macro\", \"run_id\": \"AutoML_32d8d192-6f8f-42bd-8e0c-83d0ba36ac51\", \"categories\": [0], \"series\": [{\"data\": [0.9188774561908521]}]}, {\"name\": \"matthews_correlation\", \"run_id\": \"AutoML_32d8d192-6f8f-42bd-8e0c-83d0ba36ac51\", \"categories\": [0], \"series\": [{\"data\": [0.6637579733642308]}]}, {\"name\": \"balanced_accuracy\", \"run_id\": \"AutoML_32d8d192-6f8f-42bd-8e0c-83d0ba36ac51\", \"categories\": [0], \"series\": [{\"data\": [0.8159722222222221]}]}, {\"name\": \"precision_score_macro\", \"run_id\": \"AutoML_32d8d192-6f8f-42bd-8e0c-83d0ba36ac51\", \"categories\": [0], \"series\": [{\"data\": [0.85234360410831]}]}, {\"name\": \"recall_score_weighted\", \"run_id\": \"AutoML_32d8d192-6f8f-42bd-8e0c-83d0ba36ac51\", \"categories\": [0], \"series\": [{\"data\": [0.8452898550724639]}]}, {\"name\": \"accuracy\", \"run_id\": \"AutoML_32d8d192-6f8f-42bd-8e0c-83d0ba36ac51\", \"categories\": [0], \"series\": [{\"data\": [0.8452898550724639]}]}, {\"name\": \"AUC_weighted\", \"run_id\": \"AutoML_32d8d192-6f8f-42bd-8e0c-83d0ba36ac51\", \"categories\": [0], \"series\": [{\"data\": [0.9238401124338624]}]}, {\"name\": \"weighted_accuracy\", \"run_id\": \"AutoML_32d8d192-6f8f-42bd-8e0c-83d0ba36ac51\", \"categories\": [0], \"series\": [{\"data\": [0.868215660211803]}]}], \"run_logs\": \"\\nRun is completed.\", \"graph\": {}, \"widget_settings\": {\"childWidgetDisplay\": \"popup\", \"send_telemetry\": false, \"log_level\": \"INFO\", \"sdk_version\": \"1.19.0\"}, \"loading\": false}"
          },
          "metadata": {}
        }
      ],
      "execution_count": 12,
      "metadata": {
        "collapsed": true,
        "gather": {
          "logged": 1609812810958
        },
        "jupyter": {
          "outputs_hidden": false,
          "source_hidden": false
        },
        "nteract": {
          "transient": {
            "deleting": false
          }
        }
      }
    },
    {
      "cell_type": "markdown",
      "source": [
        "## Run Details\n",
        "\n",
        "OPTIONAL: Write about the different models trained and their performance. Why do you think some models did better than others?\n",
        "\n",
        "TODO: In the cell below, use the `RunDetails` widget to show the different experiments."
      ],
      "metadata": {}
    },
    {
      "cell_type": "code",
      "source": [
        "remote_run.wait_for_completion(show_output=True)"
      ],
      "outputs": [
        {
          "output_type": "stream",
          "name": "stdout",
          "text": [
            "\n",
            "\n",
            "****************************************************************************************************\n",
            "DATA GUARDRAILS: \n",
            "\n",
            "TYPE:         Cross validation\n",
            "STATUS:       DONE\n",
            "DESCRIPTION:  Each iteration of the trained model was validated through cross-validation.\n",
            "              \n",
            "DETAILS:      \n",
            "+---------------------------------+\n",
            "|Number of folds                  |\n",
            "+=================================+\n",
            "|10                               |\n",
            "+---------------------------------+\n",
            "\n",
            "****************************************************************************************************\n",
            "\n",
            "TYPE:         Class balancing detection\n",
            "STATUS:       PASSED\n",
            "DESCRIPTION:  Your inputs were analyzed, and all classes are balanced in your training data.\n",
            "              Learn more about imbalanced data: https://aka.ms/AutomatedMLImbalancedData\n",
            "\n",
            "****************************************************************************************************\n",
            "\n",
            "TYPE:         Missing feature values imputation\n",
            "STATUS:       PASSED\n",
            "DESCRIPTION:  No feature missing values were detected in the training data.\n",
            "              Learn more about missing value imputation: https://aka.ms/AutomatedMLFeaturization\n",
            "\n",
            "****************************************************************************************************\n",
            "\n",
            "TYPE:         High cardinality feature detection\n",
            "STATUS:       PASSED\n",
            "DESCRIPTION:  Your inputs were analyzed, and no high cardinality features were detected.\n",
            "              Learn more about high cardinality feature handling: https://aka.ms/AutomatedMLFeaturization\n",
            "\n",
            "****************************************************************************************************\n",
            "\n",
            "****************************************************************************************************\n",
            "ITERATION: The iteration being evaluated.\n",
            "PIPELINE: A summary description of the pipeline being evaluated.\n",
            "DURATION: Time taken for the current iteration.\n",
            "METRIC: The result of computing score on the fitted pipeline.\n",
            "BEST: The best observed score thus far.\n",
            "****************************************************************************************************\n",
            "\n",
            " ITERATION   PIPELINE                                       DURATION      METRIC      BEST\n",
            "         0   MaxAbsScaler LightGBM                          0:01:11       0.8901    0.8901\n",
            "         1   MaxAbsScaler XGBoostClassifier                 0:01:16       0.8879    0.8901\n",
            "         2   MinMaxScaler RandomForest                      0:01:09       0.8964    0.8964\n",
            "         3   RobustScaler ExtremeRandomTrees                0:01:09       0.8806    0.8964\n",
            "         4   MinMaxScaler RandomForest                      0:01:08       0.8815    0.8964\n",
            "         5   MinMaxScaler RandomForest                      0:01:05       0.9034    0.9034\n",
            "         6   StandardScalerWrapper RandomForest             0:01:04       0.8895    0.9034\n",
            "         7   MinMaxScaler ExtremeRandomTrees                0:01:08       0.8649    0.9034\n",
            "         8   MinMaxScaler ExtremeRandomTrees                0:01:08       0.8783    0.9034\n",
            "         9   SparseNormalizer KNN                           0:01:01       0.7183    0.9034\n",
            "        10   MinMaxScaler ExtremeRandomTrees                0:01:10       0.8669    0.9034\n",
            "        11   RobustScaler ExtremeRandomTrees                0:01:07       0.8668    0.9034\n",
            "        12   StandardScalerWrapper RandomForest             0:01:06       0.9027    0.9034\n",
            "        13   StandardScalerWrapper SGD                      0:01:01       0.8524    0.9034\n",
            "        14   RobustScaler RandomForest                      0:01:06       0.8861    0.9034\n",
            "        15   StandardScalerWrapper KNN                      0:01:23       0.5876    0.9034\n",
            "        16   MinMaxScaler RandomForest                      0:01:07       0.8698    0.9034\n",
            "        17   MinMaxScaler ExtremeRandomTrees                0:01:07       0.8037    0.9034\n",
            "        18   MaxAbsScaler RandomForest                      0:01:24       0.8905    0.9034\n",
            "        19   StandardScalerWrapper XGBoostClassifier        0:01:12       0.8926    0.9034\n",
            "        20   MaxAbsScaler RandomForest                      0:01:10       0.8502    0.9034\n",
            "        21   MaxAbsScaler ExtremeRandomTrees                0:01:06       0.8653    0.9034\n",
            "        22   MaxAbsScaler ExtremeRandomTrees                0:01:02       0.8633    0.9034\n",
            "        23   StandardScalerWrapper XGBoostClassifier        0:01:05       0.8972    0.9034\n",
            "        24   MaxAbsScaler RandomForest                      0:01:09       0.8937    0.9034\n",
            "        25   MinMaxScaler RandomForest                      0:01:08       0.8927    0.9034\n",
            "        26   StandardScalerWrapper XGBoostClassifier        0:01:21       0.9007    0.9034\n",
            "        27   RobustScaler LightGBM                          0:01:15       0.8998    0.9034\n",
            "        28   StandardScalerWrapper LightGBM                 0:02:16       0.8616    0.9034\n",
            "        29   MinMaxScaler RandomForest                      0:01:14       0.9060    0.9060\n",
            "        30   PCA RandomForest                               0:01:18       0.5151    0.9060\n",
            "        31   RobustScaler RandomForest                      0:01:58       0.9123    0.9123\n",
            "        32   TruncatedSVDWrapper XGBoostClassifier          0:01:06       0.8550    0.9123\n",
            "        33   StandardScalerWrapper LightGBM                 0:01:36       0.8870    0.9123\n",
            "        34   MinMaxScaler GradientBoosting                  0:01:16       0.9074    0.9123\n",
            "        35   StandardScalerWrapper RandomForest             0:01:15       0.7344    0.9123\n",
            "        36   MaxAbsScaler LogisticRegression                0:01:11       0.8498    0.9123\n",
            "        37   StandardScalerWrapper XGBoostClassifier        0:01:27       0.8898    0.9123\n",
            "        38   StandardScalerWrapper LogisticRegression       0:01:33       0.8406    0.9123\n",
            "        39   RobustScaler LogisticRegression                0:01:12       0.8444    0.9123\n",
            "        40   RobustScaler RandomForest                      0:01:21       0.9100    0.9123\n",
            "        41   RobustScaler LightGBM                          0:01:08       0.9114    0.9123\n",
            "        42   MinMaxScaler LightGBM                          0:01:14       0.9090    0.9123\n",
            "        43   StandardScalerWrapper LightGBM                 0:01:12       0.9022    0.9123\n",
            "        44   RobustScaler LightGBM                          0:01:09       0.8977    0.9123\n",
            "        45   MinMaxScaler RandomForest                      0:01:03       0.9024    0.9123\n",
            "        46   StandardScalerWrapper RandomForest             0:01:08       0.9025    0.9123\n",
            "        47                                                  0:00:21          nan    0.9123\n",
            "        48                                                  0:00:15          nan    0.9123\n",
            "        49                                                  0:00:14          nan    0.9123\n",
            "        50                                                  0:00:17          nan    0.9123\n",
            "        51    VotingEnsemble                                0:03:06       0.9238    0.9238\n",
            "        52    StackEnsemble                                 0:03:07       0.9146    0.9238\n"
          ]
        },
        {
          "output_type": "execute_result",
          "execution_count": 13,
          "data": {
            "text/plain": "{'runId': 'AutoML_32d8d192-6f8f-42bd-8e0c-83d0ba36ac51',\n 'target': 'notebook133416',\n 'status': 'Completed',\n 'startTimeUtc': '2021-01-05T01:50:34.973166Z',\n 'endTimeUtc': '2021-01-05T02:13:29.501696Z',\n 'properties': {'num_iterations': '1000',\n  'training_type': 'TrainFull',\n  'acquisition_function': 'EI',\n  'primary_metric': 'AUC_weighted',\n  'train_split': '0',\n  'acquisition_parameter': '0',\n  'num_cross_validation': None,\n  'target': 'notebook133416',\n  'AMLSettingsJsonString': '{\"path\":null,\"name\":\"ml-experiment-1\",\"subscription_id\":\"a0a76bad-11a1-4a2d-9887-97a29122c8ed\",\"resource_group\":\"aml-quickstarts-133416\",\"workspace_name\":\"quick-starts-ws-133416\",\"region\":\"southcentralus\",\"compute_target\":\"notebook133416\",\"spark_service\":null,\"azure_service\":\"remote\",\"many_models\":false,\"pipeline_fetch_max_batch_size\":1,\"iterations\":1000,\"primary_metric\":\"AUC_weighted\",\"task_type\":\"classification\",\"data_script\":null,\"validation_size\":0.0,\"n_cross_validations\":null,\"y_min\":null,\"y_max\":null,\"num_classes\":null,\"featurization\":\"auto\",\"_ignore_package_version_incompatibilities\":false,\"is_timeseries\":false,\"max_cores_per_iteration\":1,\"max_concurrent_iterations\":5,\"iteration_timeout_minutes\":null,\"mem_in_mb\":null,\"enforce_time_on_windows\":false,\"experiment_timeout_minutes\":20,\"experiment_exit_score\":null,\"whitelist_models\":null,\"blacklist_algos\":[\"TensorFlowLinearClassifier\",\"TensorFlowDNN\"],\"supported_models\":[\"ExtremeRandomTrees\",\"BernoulliNaiveBayes\",\"TensorFlowLinearClassifier\",\"RandomForest\",\"LogisticRegression\",\"MultinomialNaiveBayes\",\"LightGBM\",\"XGBoostClassifier\",\"SGD\",\"AveragedPerceptronClassifier\",\"KNN\",\"DecisionTree\",\"TensorFlowDNN\",\"LinearSVM\",\"GradientBoosting\",\"SVM\"],\"auto_blacklist\":true,\"blacklist_samples_reached\":false,\"exclude_nan_labels\":true,\"verbosity\":20,\"_debug_log\":\"azureml_automl.log\",\"show_warnings\":false,\"model_explainability\":true,\"service_url\":null,\"sdk_url\":null,\"sdk_packages\":null,\"enable_onnx_compatible_models\":false,\"enable_split_onnx_featurizer_estimator_models\":false,\"vm_type\":\"STANDARD_DS3_V2\",\"telemetry_verbosity\":20,\"send_telemetry\":true,\"enable_dnn\":false,\"scenario\":\"SDK-1.13.0\",\"environment_label\":null,\"force_text_dnn\":false,\"enable_feature_sweeping\":true,\"enable_early_stopping\":true,\"early_stopping_n_iters\":10,\"metrics\":null,\"enable_ensembling\":true,\"enable_stack_ensembling\":true,\"ensemble_iterations\":15,\"enable_tf\":false,\"enable_subsampling\":null,\"subsample_seed\":null,\"enable_nimbusml\":false,\"enable_streaming\":false,\"force_streaming\":false,\"track_child_runs\":true,\"allowed_private_models\":[],\"label_column_name\":\"DEATH_EVENT\",\"weight_column_name\":null,\"cv_split_column_names\":null,\"enable_local_managed\":false,\"_local_managed_run_id\":null,\"cost_mode\":1,\"lag_length\":0,\"metric_operation\":\"maximize\",\"preprocess\":true}',\n  'DataPrepJsonString': '{\\\\\"training_data\\\\\": \\\\\"{\\\\\\\\\\\\\"blocks\\\\\\\\\\\\\": [{\\\\\\\\\\\\\"id\\\\\\\\\\\\\": \\\\\\\\\\\\\"0ccf3df4-3b2a-4671-93e6-0bd8014d8d36\\\\\\\\\\\\\", \\\\\\\\\\\\\"type\\\\\\\\\\\\\": \\\\\\\\\\\\\"Microsoft.DPrep.GetDatastoreFilesBlock\\\\\\\\\\\\\", \\\\\\\\\\\\\"arguments\\\\\\\\\\\\\": {\\\\\\\\\\\\\"datastores\\\\\\\\\\\\\": [{\\\\\\\\\\\\\"datastoreName\\\\\\\\\\\\\": \\\\\\\\\\\\\"workspaceblobstore\\\\\\\\\\\\\", \\\\\\\\\\\\\"path\\\\\\\\\\\\\": \\\\\\\\\\\\\"udacity-project/train_data.csv\\\\\\\\\\\\\", \\\\\\\\\\\\\"resourceGroup\\\\\\\\\\\\\": \\\\\\\\\\\\\"aml-quickstarts-133416\\\\\\\\\\\\\", \\\\\\\\\\\\\"subscription\\\\\\\\\\\\\": \\\\\\\\\\\\\"a0a76bad-11a1-4a2d-9887-97a29122c8ed\\\\\\\\\\\\\", \\\\\\\\\\\\\"workspaceName\\\\\\\\\\\\\": \\\\\\\\\\\\\"quick-starts-ws-133416\\\\\\\\\\\\\"}]}, \\\\\\\\\\\\\"localData\\\\\\\\\\\\\": {}, \\\\\\\\\\\\\"isEnabled\\\\\\\\\\\\\": true, \\\\\\\\\\\\\"name\\\\\\\\\\\\\": null, \\\\\\\\\\\\\"annotation\\\\\\\\\\\\\": null}, {\\\\\\\\\\\\\"id\\\\\\\\\\\\\": \\\\\\\\\\\\\"620bcbd0-08b8-4d20-9fbe-a798a5e65a22\\\\\\\\\\\\\", \\\\\\\\\\\\\"type\\\\\\\\\\\\\": \\\\\\\\\\\\\"Microsoft.DPrep.ParseDelimitedBlock\\\\\\\\\\\\\", \\\\\\\\\\\\\"arguments\\\\\\\\\\\\\": {\\\\\\\\\\\\\"columnHeadersMode\\\\\\\\\\\\\": 3, \\\\\\\\\\\\\"fileEncoding\\\\\\\\\\\\\": 0, \\\\\\\\\\\\\"handleQuotedLineBreaks\\\\\\\\\\\\\": false, \\\\\\\\\\\\\"preview\\\\\\\\\\\\\": false, \\\\\\\\\\\\\"separator\\\\\\\\\\\\\": \\\\\\\\\\\\\",\\\\\\\\\\\\\", \\\\\\\\\\\\\"skipRows\\\\\\\\\\\\\": 0, \\\\\\\\\\\\\"skipRowsMode\\\\\\\\\\\\\": 0}, \\\\\\\\\\\\\"localData\\\\\\\\\\\\\": {}, \\\\\\\\\\\\\"isEnabled\\\\\\\\\\\\\": true, \\\\\\\\\\\\\"name\\\\\\\\\\\\\": null, \\\\\\\\\\\\\"annotation\\\\\\\\\\\\\": null}, {\\\\\\\\\\\\\"id\\\\\\\\\\\\\": \\\\\\\\\\\\\"620af591-c6ed-4480-b611-bf773b16d79e\\\\\\\\\\\\\", \\\\\\\\\\\\\"type\\\\\\\\\\\\\": \\\\\\\\\\\\\"Microsoft.DPrep.DropColumnsBlock\\\\\\\\\\\\\", \\\\\\\\\\\\\"arguments\\\\\\\\\\\\\": {\\\\\\\\\\\\\"columns\\\\\\\\\\\\\": {\\\\\\\\\\\\\"type\\\\\\\\\\\\\": 0, \\\\\\\\\\\\\"details\\\\\\\\\\\\\": {\\\\\\\\\\\\\"selectedColumns\\\\\\\\\\\\\": [\\\\\\\\\\\\\"Path\\\\\\\\\\\\\"]}}}, \\\\\\\\\\\\\"localData\\\\\\\\\\\\\": {}, \\\\\\\\\\\\\"isEnabled\\\\\\\\\\\\\": true, \\\\\\\\\\\\\"name\\\\\\\\\\\\\": null, \\\\\\\\\\\\\"annotation\\\\\\\\\\\\\": null}, {\\\\\\\\\\\\\"id\\\\\\\\\\\\\": \\\\\\\\\\\\\"ce46223a-0d67-4754-801e-32f5dd64d31f\\\\\\\\\\\\\", \\\\\\\\\\\\\"type\\\\\\\\\\\\\": \\\\\\\\\\\\\"Microsoft.DPrep.SetColumnTypesBlock\\\\\\\\\\\\\", \\\\\\\\\\\\\"arguments\\\\\\\\\\\\\": {\\\\\\\\\\\\\"columnConversion\\\\\\\\\\\\\": [{\\\\\\\\\\\\\"column\\\\\\\\\\\\\": {\\\\\\\\\\\\\"type\\\\\\\\\\\\\": 2, \\\\\\\\\\\\\"details\\\\\\\\\\\\\": {\\\\\\\\\\\\\"selectedColumn\\\\\\\\\\\\\": \\\\\\\\\\\\\"age\\\\\\\\\\\\\"}}, \\\\\\\\\\\\\"typeProperty\\\\\\\\\\\\\": 3}, {\\\\\\\\\\\\\"column\\\\\\\\\\\\\": {\\\\\\\\\\\\\"type\\\\\\\\\\\\\": 2, \\\\\\\\\\\\\"details\\\\\\\\\\\\\": {\\\\\\\\\\\\\"selectedColumn\\\\\\\\\\\\\": \\\\\\\\\\\\\"anaemia\\\\\\\\\\\\\"}}, \\\\\\\\\\\\\"typeProperty\\\\\\\\\\\\\": 2}, {\\\\\\\\\\\\\"column\\\\\\\\\\\\\": {\\\\\\\\\\\\\"type\\\\\\\\\\\\\": 2, \\\\\\\\\\\\\"details\\\\\\\\\\\\\": {\\\\\\\\\\\\\"selectedColumn\\\\\\\\\\\\\": \\\\\\\\\\\\\"creatinine_phosphokinase\\\\\\\\\\\\\"}}, \\\\\\\\\\\\\"typeProperty\\\\\\\\\\\\\": 2}, {\\\\\\\\\\\\\"column\\\\\\\\\\\\\": {\\\\\\\\\\\\\"type\\\\\\\\\\\\\": 2, \\\\\\\\\\\\\"details\\\\\\\\\\\\\": {\\\\\\\\\\\\\"selectedColumn\\\\\\\\\\\\\": \\\\\\\\\\\\\"diabetes\\\\\\\\\\\\\"}}, \\\\\\\\\\\\\"typeProperty\\\\\\\\\\\\\": 2}, {\\\\\\\\\\\\\"column\\\\\\\\\\\\\": {\\\\\\\\\\\\\"type\\\\\\\\\\\\\": 2, \\\\\\\\\\\\\"details\\\\\\\\\\\\\": {\\\\\\\\\\\\\"selectedColumn\\\\\\\\\\\\\": \\\\\\\\\\\\\"ejection_fraction\\\\\\\\\\\\\"}}, \\\\\\\\\\\\\"typeProperty\\\\\\\\\\\\\": 2}, {\\\\\\\\\\\\\"column\\\\\\\\\\\\\": {\\\\\\\\\\\\\"type\\\\\\\\\\\\\": 2, \\\\\\\\\\\\\"details\\\\\\\\\\\\\": {\\\\\\\\\\\\\"selectedColumn\\\\\\\\\\\\\": \\\\\\\\\\\\\"high_blood_pressure\\\\\\\\\\\\\"}}, \\\\\\\\\\\\\"typeProperty\\\\\\\\\\\\\": 2}, {\\\\\\\\\\\\\"column\\\\\\\\\\\\\": {\\\\\\\\\\\\\"type\\\\\\\\\\\\\": 2, \\\\\\\\\\\\\"details\\\\\\\\\\\\\": {\\\\\\\\\\\\\"selectedColumn\\\\\\\\\\\\\": \\\\\\\\\\\\\"platelets\\\\\\\\\\\\\"}}, \\\\\\\\\\\\\"typeProperty\\\\\\\\\\\\\": 3}, {\\\\\\\\\\\\\"column\\\\\\\\\\\\\": {\\\\\\\\\\\\\"type\\\\\\\\\\\\\": 2, \\\\\\\\\\\\\"details\\\\\\\\\\\\\": {\\\\\\\\\\\\\"selectedColumn\\\\\\\\\\\\\": \\\\\\\\\\\\\"serum_creatinine\\\\\\\\\\\\\"}}, \\\\\\\\\\\\\"typeProperty\\\\\\\\\\\\\": 3}, {\\\\\\\\\\\\\"column\\\\\\\\\\\\\": {\\\\\\\\\\\\\"type\\\\\\\\\\\\\": 2, \\\\\\\\\\\\\"details\\\\\\\\\\\\\": {\\\\\\\\\\\\\"selectedColumn\\\\\\\\\\\\\": \\\\\\\\\\\\\"serum_sodium\\\\\\\\\\\\\"}}, \\\\\\\\\\\\\"typeProperty\\\\\\\\\\\\\": 2}, {\\\\\\\\\\\\\"column\\\\\\\\\\\\\": {\\\\\\\\\\\\\"type\\\\\\\\\\\\\": 2, \\\\\\\\\\\\\"details\\\\\\\\\\\\\": {\\\\\\\\\\\\\"selectedColumn\\\\\\\\\\\\\": \\\\\\\\\\\\\"sex\\\\\\\\\\\\\"}}, \\\\\\\\\\\\\"typeProperty\\\\\\\\\\\\\": 2}, {\\\\\\\\\\\\\"column\\\\\\\\\\\\\": {\\\\\\\\\\\\\"type\\\\\\\\\\\\\": 2, \\\\\\\\\\\\\"details\\\\\\\\\\\\\": {\\\\\\\\\\\\\"selectedColumn\\\\\\\\\\\\\": \\\\\\\\\\\\\"smoking\\\\\\\\\\\\\"}}, \\\\\\\\\\\\\"typeProperty\\\\\\\\\\\\\": 2}, {\\\\\\\\\\\\\"column\\\\\\\\\\\\\": {\\\\\\\\\\\\\"type\\\\\\\\\\\\\": 2, \\\\\\\\\\\\\"details\\\\\\\\\\\\\": {\\\\\\\\\\\\\"selectedColumn\\\\\\\\\\\\\": \\\\\\\\\\\\\"time\\\\\\\\\\\\\"}}, \\\\\\\\\\\\\"typeProperty\\\\\\\\\\\\\": 2}, {\\\\\\\\\\\\\"column\\\\\\\\\\\\\": {\\\\\\\\\\\\\"type\\\\\\\\\\\\\": 2, \\\\\\\\\\\\\"details\\\\\\\\\\\\\": {\\\\\\\\\\\\\"selectedColumn\\\\\\\\\\\\\": \\\\\\\\\\\\\"DEATH_EVENT\\\\\\\\\\\\\"}}, \\\\\\\\\\\\\"typeProperty\\\\\\\\\\\\\": 2}]}, \\\\\\\\\\\\\"localData\\\\\\\\\\\\\": {}, \\\\\\\\\\\\\"isEnabled\\\\\\\\\\\\\": true, \\\\\\\\\\\\\"name\\\\\\\\\\\\\": null, \\\\\\\\\\\\\"annotation\\\\\\\\\\\\\": null}], \\\\\\\\\\\\\"inspectors\\\\\\\\\\\\\": [], \\\\\\\\\\\\\"meta\\\\\\\\\\\\\": {\\\\\\\\\\\\\"savedDatasetId\\\\\\\\\\\\\": \\\\\\\\\\\\\"0bf59b08-8bc3-4812-adaf-018def03de90\\\\\\\\\\\\\", \\\\\\\\\\\\\"datasetType\\\\\\\\\\\\\": \\\\\\\\\\\\\"tabular\\\\\\\\\\\\\", \\\\\\\\\\\\\"subscriptionId\\\\\\\\\\\\\": \\\\\\\\\\\\\"a0a76bad-11a1-4a2d-9887-97a29122c8ed\\\\\\\\\\\\\", \\\\\\\\\\\\\"workspaceId\\\\\\\\\\\\\": \\\\\\\\\\\\\"4e6d7f4d-0119-406f-92f1-51367d31f816\\\\\\\\\\\\\", \\\\\\\\\\\\\"workspaceLocation\\\\\\\\\\\\\": \\\\\\\\\\\\\"southcentralus\\\\\\\\\\\\\"}}\\\\\", \\\\\"activities\\\\\": 0}',\n  'EnableSubsampling': None,\n  'runTemplate': 'AutoML',\n  'azureml.runsource': 'automl',\n  'display_task_type': 'classification',\n  'dependencies_versions': '{\"azureml-widgets\": \"1.19.0\", \"azureml-train\": \"1.19.0\", \"azureml-train-restclients-hyperdrive\": \"1.19.0\", \"azureml-train-core\": \"1.19.0\", \"azureml-train-automl\": \"1.19.0\", \"azureml-train-automl-runtime\": \"1.19.0\", \"azureml-train-automl-client\": \"1.19.0\", \"azureml-tensorboard\": \"1.19.0\", \"azureml-telemetry\": \"1.19.0\", \"azureml-sdk\": \"1.19.0\", \"azureml-samples\": \"0+unknown\", \"azureml-pipeline\": \"1.19.0\", \"azureml-pipeline-steps\": \"1.19.0\", \"azureml-pipeline-core\": \"1.19.0\", \"azureml-opendatasets\": \"1.19.0\", \"azureml-model-management-sdk\": \"1.0.1b6.post1\", \"azureml-mlflow\": \"1.19.0\", \"azureml-interpret\": \"1.19.0\", \"azureml-explain-model\": \"1.19.0\", \"azureml-defaults\": \"1.19.0\", \"azureml-dataset-runtime\": \"1.19.0\", \"azureml-dataprep\": \"2.6.1\", \"azureml-dataprep-rslex\": \"1.4.0\", \"azureml-dataprep-native\": \"26.0.0\", \"azureml-datadrift\": \"1.19.0\", \"azureml-core\": \"1.19.0\", \"azureml-contrib-services\": \"1.19.0\", \"azureml-contrib-server\": \"1.19.0\", \"azureml-contrib-reinforcementlearning\": \"1.19.0\", \"azureml-contrib-pipeline-steps\": \"1.19.0\", \"azureml-contrib-notebook\": \"1.19.0\", \"azureml-contrib-interpret\": \"1.19.0\", \"azureml-contrib-gbdt\": \"1.19.0\", \"azureml-contrib-fairness\": \"1.19.0\", \"azureml-contrib-dataset\": \"1.19.0\", \"azureml-cli-common\": \"1.19.0\", \"azureml-automl-runtime\": \"1.19.0\", \"azureml-automl-core\": \"1.19.0\", \"azureml-accel-models\": \"1.19.0\"}',\n  '_aml_system_scenario_identification': 'Remote.Parent',\n  'ClientType': 'SDK',\n  'environment_cpu_name': 'AzureML-AutoML',\n  'environment_cpu_label': 'prod',\n  'environment_gpu_name': 'AzureML-AutoML-GPU',\n  'environment_gpu_label': 'prod',\n  'root_attribution': 'automl',\n  'attribution': 'AutoML',\n  'Orchestrator': 'AutoML',\n  'CancelUri': 'https://southcentralus.experiments.azureml.net/jasmine/v1.0/subscriptions/a0a76bad-11a1-4a2d-9887-97a29122c8ed/resourceGroups/aml-quickstarts-133416/providers/Microsoft.MachineLearningServices/workspaces/quick-starts-ws-133416/experimentids/c7ef006b-d9e4-464f-bf4f-385919dc32f3/cancel/AutoML_32d8d192-6f8f-42bd-8e0c-83d0ba36ac51',\n  'ClientSdkVersion': '1.19.0',\n  'snapshotId': '00000000-0000-0000-0000-000000000000',\n  'SetupRunId': 'AutoML_32d8d192-6f8f-42bd-8e0c-83d0ba36ac51_setup',\n  'SetupRunContainerId': 'dcid.AutoML_32d8d192-6f8f-42bd-8e0c-83d0ba36ac51_setup',\n  'FeaturizationRunJsonPath': 'featurizer_container.json',\n  'FeaturizationRunId': 'AutoML_32d8d192-6f8f-42bd-8e0c-83d0ba36ac51_featurize',\n  'ProblemInfoJsonString': '{\"dataset_num_categorical\": 0, \"is_sparse\": false, \"subsampling\": false, \"dataset_classes\": 2, \"dataset_features\": 12, \"dataset_samples\": 239, \"single_frequency_class_detected\": false}',\n  'ModelExplainRunId': 'AutoML_32d8d192-6f8f-42bd-8e0c-83d0ba36ac51_ModelExplain'},\n 'inputDatasets': [{'dataset': {'id': '0bf59b08-8bc3-4812-adaf-018def03de90'}, 'consumptionDetails': {'type': 'RunInput', 'inputName': 'training_data', 'mechanism': 'Direct'}}],\n 'outputDatasets': [],\n 'logFiles': {}}"
          },
          "metadata": {}
        }
      ],
      "execution_count": 13,
      "metadata": {
        "gather": {
          "logged": 1609812965145
        },
        "jupyter": {
          "outputs_hidden": false,
          "source_hidden": false
        },
        "nteract": {
          "transient": {
            "deleting": false
          }
        }
      }
    },
    {
      "cell_type": "markdown",
      "source": [
        "## Best Model\n",
        "\n",
        "TODO: In the cell below, get the best model from the automl experiments and display all the properties of the model.\n",
        "\n"
      ],
      "metadata": {}
    },
    {
      "cell_type": "code",
      "source": [
        "best_model, fitted_model = remote_run.get_output()\n",
        "\n",
        "print(best_model)\n",
        "\n",
        "# Take SS"
      ],
      "outputs": [
        {
          "output_type": "stream",
          "name": "stdout",
          "text": [
            "Run(Experiment: ml-experiment-1,\n",
            "Id: AutoML_32d8d192-6f8f-42bd-8e0c-83d0ba36ac51_51,\n",
            "Type: azureml.scriptrun,\n",
            "Status: Completed)\n"
          ]
        }
      ],
      "execution_count": 14,
      "metadata": {
        "gather": {
          "logged": 1609813304543
        },
        "jupyter": {
          "outputs_hidden": false,
          "source_hidden": false
        },
        "nteract": {
          "transient": {
            "deleting": false
          }
        }
      }
    },
    {
      "cell_type": "code",
      "source": [
        "print(fitted_model)"
      ],
      "outputs": [
        {
          "output_type": "stream",
          "name": "stdout",
          "text": [
            "Pipeline(memory=None,\n",
            "         steps=[('datatransformer',\n",
            "                 DataTransformer(enable_dnn=None, enable_feature_sweeping=None,\n",
            "                                 feature_sweeping_config=None,\n",
            "                                 feature_sweeping_timeout=None,\n",
            "                                 featurization_config=None, force_text_dnn=None,\n",
            "                                 is_cross_validation=None,\n",
            "                                 is_onnx_compatible=None, logger=None,\n",
            "                                 observer=None, task=None, working_dir=None)),\n",
            "                ('prefittedsoftvotingclassifier',...\n",
            "                                                                                               tree_method='auto',\n",
            "                                                                                               verbose=-10,\n",
            "                                                                                               verbosity=0))],\n",
            "                                                                     verbose=False))],\n",
            "                                               flatten_transform=None,\n",
            "                                               weights=[0.06666666666666667,\n",
            "                                                        0.13333333333333333,\n",
            "                                                        0.06666666666666667,\n",
            "                                                        0.06666666666666667,\n",
            "                                                        0.06666666666666667,\n",
            "                                                        0.13333333333333333,\n",
            "                                                        0.06666666666666667,\n",
            "                                                        0.13333333333333333,\n",
            "                                                        0.06666666666666667,\n",
            "                                                        0.06666666666666667,\n",
            "                                                        0.06666666666666667,\n",
            "                                                        0.06666666666666667]))],\n",
            "         verbose=False)\n"
          ]
        }
      ],
      "execution_count": 15,
      "metadata": {
        "gather": {
          "logged": 1609813312496
        }
      }
    },
    {
      "cell_type": "code",
      "source": [
        "#TODO: Save the best model\n",
        "# joblib.dump(fitted_model, \"models/automl_hearth.pkl\")\n",
        "\n",
        "best_model.download_file('outputs/model.pkl', 'outputs/automl_hearth.pkl')\n",
        "best_model.download_file('outputs/scoring_file_v_1_0_0.py', 'outputs/score_aml.py')\n",
        "best_model.download_file('automl_driver.py', 'outputs/automl_driver.py')"
      ],
      "outputs": [],
      "execution_count": 16,
      "metadata": {
        "gather": {
          "logged": 1609813342615
        }
      }
    },
    {
      "cell_type": "markdown",
      "source": [
        "## Model Deployment\n",
        "\n",
        "Remember you have to deploy only one of the two models you trained.. Perform the steps in the rest of this notebook only if you wish to deploy this model.\n",
        "\n",
        "TODO: In the cell below, register the model, create an inference config and deploy the model as a web service."
      ],
      "metadata": {}
    },
    {
      "cell_type": "code",
      "source": [
        "model = Model.register(workspace = ws,\n",
        "                        model_path =\"outputs/automl_hearth.pkl\",\n",
        "                        model_name = \"automl_hearth\")\n",
        "\n",
        "# model = Model.register(model_path = \"./models/automl_hearth.pkl\",\n",
        "#                       model_name = \"automl_hearth.pkl\",\n",
        "#                       description = \"Best model trained with AutoML\",\n",
        "#                       workspace = ws, model_framework=Model.Framework.SCIKITLEARN)\n",
        "print(model.name)"
      ],
      "outputs": [
        {
          "output_type": "stream",
          "name": "stdout",
          "text": [
            "Registering model automl_hearth\n",
            "automl_hearth\n"
          ]
        }
      ],
      "execution_count": 17,
      "metadata": {
        "gather": {
          "logged": 1609813349870
        },
        "jupyter": {
          "outputs_hidden": false,
          "source_hidden": false
        },
        "nteract": {
          "transient": {
            "deleting": false
          }
        }
      }
    },
    {
      "cell_type": "code",
      "source": [
        "# Define Deployment\n",
        "\n",
        "aci_config = AciWebservice.deploy_configuration(cpu_cores=1, memory_gb=2,\n",
        "                                              enable_app_insights=True) \n",
        "\n",
        "# deployment_config = AciWebservice.deploy_configuration()"
      ],
      "outputs": [],
      "execution_count": 18,
      "metadata": {
        "gather": {
          "logged": 1609813835082
        }
      }
    },
    {
      "cell_type": "code",
      "source": [
        "# Create the environment\n",
        "\n",
        "env = Environment.from_conda_specification(name='myenv',file_path = 'env.yml')\n",
        "\n",
        "# myenv = Environment(workspace=ws, name=\"myenv\")\n",
        "\n",
        "inference_config = InferenceConfig(entry_script='./score.py',\n",
        "                                    environment=env)\n",
        "\n",
        "f = open(\"envnew.yml\", \"w\")\n",
        "f.write(env.python.conda_dependencies.serialize_to_string())\n",
        "f.close()\n",
        "\n",
        "print(\"packages\", env.python.conda_dependencies.serialize_to_string())"
      ],
      "outputs": [
        {
          "output_type": "stream",
          "name": "stdout",
          "text": [
            "packages channels:\n",
            "- anaconda\n",
            "- conda-forge\n",
            "dependencies:\n",
            "- pip\n",
            "- python=3.6.2\n",
            "- pip:\n",
            "  - azureml-core==1.19.0\n",
            "  - azureml-defaults==1.19.0\n",
            "  - azureml-telemetry==1.19.0\n",
            "  - azureml-train-core==1.19.0\n",
            "  - azureml-widgets==1.19.0\n",
            "  - azureml-sdk==1.19.0\n",
            "  - azureml-train-automl-runtime==1.19.0\n",
            "  - azureml-automl-runtime==1.19.0\n",
            "  - mlflow\n",
            "  - sklearn-pandas\n",
            "- pandas\n",
            "- numpy\n",
            "- tqdm\n",
            "- py-xgboost\n",
            "- joblib\n",
            "- xgboost\n",
            "- scikit-learn==0.22.1\n",
            "- matplotlib\n",
            "name: azureml_a1736710baabf05d37337a101fa8d6d1\n",
            "\n"
          ]
        }
      ],
      "execution_count": 20,
      "metadata": {
        "gather": {
          "logged": 1609814125364
        }
      }
    },
    {
      "cell_type": "code",
      "source": [
        "service_name = 'my-service'\n",
        "\n",
        "service = Model.deploy(ws, service_name, [model], inference_config, deployment_config=aci_config)\n",
        "\n",
        "# service = Model.deploy(ws, 'myservice2', [model], inference_config, deployment_config)\n",
        "# service.update(enable_app_insights=True)"
      ],
      "outputs": [],
      "execution_count": 21,
      "metadata": {
        "collapsed": true,
        "gather": {
          "logged": 1609814144754
        },
        "jupyter": {
          "outputs_hidden": false,
          "source_hidden": false
        },
        "nteract": {
          "transient": {
            "deleting": false
          }
        }
      }
    },
    {
      "cell_type": "code",
      "source": [
        "service.wait_for_deployment(True)\n",
        "print(service.state)"
      ],
      "outputs": [
        {
          "output_type": "stream",
          "name": "stdout",
          "text": [
            "Tips: You can try get_logs(): https://aka.ms/debugimage#dockerlog or local deployment: https://aka.ms/debugimage#debug-locally to debug if deployment takes longer than 10 minutes.\n",
            "Running..........................................................................................................................................................\n",
            "Succeeded\n",
            "ACI service creation operation finished, operation \"Succeeded\"\n",
            "Healthy\n"
          ]
        }
      ],
      "execution_count": 22,
      "metadata": {
        "collapsed": true,
        "gather": {
          "logged": 1609814950171
        },
        "jupyter": {
          "outputs_hidden": false,
          "source_hidden": false
        },
        "nteract": {
          "transient": {
            "deleting": false
          }
        }
      }
    },
    {
      "cell_type": "code",
      "source": [
        "print(\"scoring URI: \" + service.scoring_uri)\n"
      ],
      "outputs": [
        {
          "output_type": "stream",
          "name": "stdout",
          "text": [
            "scoring URI: http://973f9601-a8f9-4bd4-9ade-76ee4b5d8d78.southcentralus.azurecontainer.io/score\n"
          ]
        }
      ],
      "execution_count": 23,
      "metadata": {
        "collapsed": true,
        "jupyter": {
          "outputs_hidden": false,
          "source_hidden": false
        },
        "nteract": {
          "transient": {
            "deleting": false
          }
        },
        "gather": {
          "logged": 1609815613900
        }
      }
    },
    {
      "cell_type": "markdown",
      "source": [
        "TODO: In the cell below, send a request to the web service you deployed to test it."
      ],
      "metadata": {
        "collapsed": true,
        "gather": {
          "logged": 1598431657736
        },
        "jupyter": {
          "outputs_hidden": false,
          "source_hidden": false
        },
        "nteract": {
          "transient": {
            "deleting": false
          }
        }
      }
    },
    {
      "cell_type": "code",
      "source": [
        "scoring_uri = 'http://973f9601-a8f9-4bd4-9ade-76ee4b5d8d78.southcentralus.azurecontainer.io/score'\n",
        "headers = {'Content-Type':'application/json'}\n",
        "\n",
        "test_data = json.dumps({'data':[{\n",
        "    'age':75,\n",
        "    'anaemia':0,\n",
        "    'creatinine_phosphokinase':582,\n",
        "    'diabetes':0,\n",
        "    'ejection_fraction':20,\n",
        "    'high_blood_pressure':1,\n",
        "    'platelets':265000,\n",
        "    'serum_creatinine':1.9,\n",
        "    'serum_sodium':130,\n",
        "    'sex':1,\n",
        "    'smoking':0,\n",
        "    'time':4}\n",
        "    ]\n",
        "        })\n",
        "\n",
        "test_data2 = json.dumps({'data':[{\n",
        "    'age':40,\n",
        "    'anaemia':0,\n",
        "    'creatinine_phosphokinase':321,\n",
        "    'diabetes':0,\n",
        "    'ejection_fraction':35,\n",
        "    'high_blood_pressure':0,\n",
        "    'platelets':265000,\n",
        "    'serum_creatinine':1,\n",
        "    'serum_sodium':130,\n",
        "    'sex':1,\n",
        "    'smoking':0,\n",
        "    'time':198}\n",
        "    ]\n",
        "        })\n",
        "\n",
        "\n",
        "response = requests.post(scoring_uri, data=test_data2, headers=headers)\n",
        "\n",
        "print(\"Result:\",response.text)\n",
        "\n"
      ],
      "outputs": [
        {
          "output_type": "stream",
          "name": "stdout",
          "text": [
            "Result: [0]\n"
          ]
        }
      ],
      "execution_count": 26,
      "metadata": {
        "gather": {
          "logged": 1609815755532
        },
        "jupyter": {
          "outputs_hidden": false,
          "source_hidden": false
        },
        "nteract": {
          "transient": {
            "deleting": false
          }
        }
      }
    },
    {
      "cell_type": "code",
      "source": [
        "# myenv.save_to_directory('./training',overwrite=False)\n",
        "\n",
        "print(service.get_logs())"
      ],
      "outputs": [
        {
          "output_type": "stream",
          "name": "stdout",
          "text": [
            "2021-01-05T02:48:47,110785100+00:00 - gunicorn/run \n",
            "2021-01-05T02:48:47,136185600+00:00 - nginx/run \n",
            "2021-01-05T02:48:47,135274000+00:00 - iot-server/run \n",
            "2021-01-05T02:48:47,140213100+00:00 - rsyslog/run \n",
            "/usr/sbin/nginx: /azureml-envs/azureml_78b912a296061c9d6178810a04b724e8/lib/libcrypto.so.1.0.0: no version information available (required by /usr/sbin/nginx)\n",
            "/usr/sbin/nginx: /azureml-envs/azureml_78b912a296061c9d6178810a04b724e8/lib/libcrypto.so.1.0.0: no version information available (required by /usr/sbin/nginx)\n",
            "/usr/sbin/nginx: /azureml-envs/azureml_78b912a296061c9d6178810a04b724e8/lib/libssl.so.1.0.0: no version information available (required by /usr/sbin/nginx)\n",
            "/usr/sbin/nginx: /azureml-envs/azureml_78b912a296061c9d6178810a04b724e8/lib/libssl.so.1.0.0: no version information available (required by /usr/sbin/nginx)\n",
            "/usr/sbin/nginx: /azureml-envs/azureml_78b912a296061c9d6178810a04b724e8/lib/libssl.so.1.0.0: no version information available (required by /usr/sbin/nginx)\n",
            "rsyslogd: /azureml-envs/azureml_78b912a296061c9d6178810a04b724e8/lib/libuuid.so.1: no version information available (required by rsyslogd)\n",
            "EdgeHubConnectionString and IOTEDGE_IOTHUBHOSTNAME are not set. Exiting...\n",
            "2021-01-05T02:48:48,836350300+00:00 - iot-server/finish 1 0\n",
            "2021-01-05T02:48:48,847094000+00:00 - Exit code 1 is normal. Not restarting iot-server.\n",
            "Starting gunicorn 19.9.0\n",
            "Listening at: http://127.0.0.1:31311 (65)\n",
            "Using worker: sync\n",
            "worker timeout is set to 300\n",
            "Booting worker with pid: 96\n",
            "SPARK_HOME not set. Skipping PySpark Initialization.\n",
            "Generating new fontManager, this may take some time...\n",
            "Initializing logger\n",
            "2021-01-05 02:48:53,615 | root | INFO | Starting up app insights client\n",
            "Starting up app insights client\n",
            "2021-01-05 02:48:53,617 | root | INFO | Starting up request id generator\n",
            "Starting up request id generator\n",
            "2021-01-05 02:48:53,617 | root | INFO | Starting up app insight hooks\n",
            "Starting up app insight hooks\n",
            "2021-01-05 02:48:53,618 | root | INFO | Invoking user's init function\n",
            "Invoking user's init function\n",
            "Found model:\n",
            "True\n",
            "2021-01-05 02:49:04,774 | root | INFO | Users's init has completed successfully\n",
            "Users's init has completed successfully\n",
            "2021-01-05 02:49:04,780 | root | INFO | Skipping middleware: dbg_model_info as it's not enabled.\n",
            "Skipping middleware: dbg_model_info as it's not enabled.\n",
            "2021-01-05 02:49:04,780 | root | INFO | Skipping middleware: dbg_resource_usage as it's not enabled.\n",
            "Skipping middleware: dbg_resource_usage as it's not enabled.\n",
            "2021-01-05 02:49:04,781 | root | INFO | Scoring timeout is found from os.environ: 60000 ms\n",
            "Scoring timeout is found from os.environ: 60000 ms\n",
            "2021-01-05 02:49:04,800 | root | INFO | Swagger file not present\n",
            "Swagger file not present\n",
            "2021-01-05 02:49:04,800 | root | INFO | 404\n",
            "404\n",
            "127.0.0.1 - - [05/Jan/2021:02:49:04 +0000] \"GET /swagger.json HTTP/1.0\" 404 19 \"-\" \"Go-http-client/1.1\"\n",
            "2021-01-05 02:49:09,895 | root | INFO | Swagger file not present\n",
            "Swagger file not present\n",
            "2021-01-05 02:49:09,895 | root | INFO | 404\n",
            "404\n",
            "127.0.0.1 - - [05/Jan/2021:02:49:09 +0000] \"GET /swagger.json HTTP/1.0\" 404 19 \"-\" \"Go-http-client/1.1\"\n",
            "127.0.0.1 - ibLTpSJ7 [05/Jan/2021:02:55:43 +0000] \"GET /manager/html/ HTTP/1.0\" 404 232 \"-\" \"Go-http-client/1.1\"\n",
            "2021-01-05 03:00:30,889 | root | INFO | Swagger file not present\n",
            "Swagger file not present\n",
            "2021-01-05 03:00:30,890 | root | INFO | 404\n",
            "404\n",
            "127.0.0.1 - - [05/Jan/2021:03:00:30 +0000] \"GET /swagger.json HTTP/1.0\" 404 19 \"-\" \"Go-http-client/1.1\"\n",
            "2021-01-05 03:01:51,047 | root | INFO | Validation Request Content-Type\n",
            "Validation Request Content-Type\n",
            "2021-01-05 03:01:51,048 | root | INFO | \tHost: localhost:5001\n",
            "\tHost: localhost:5001\n",
            "2021-01-05 03:01:51,048 | root | INFO | \tX-Real-Ip: 127.0.0.1\n",
            "\tX-Real-Ip: 127.0.0.1\n",
            "2021-01-05 03:01:51,048 | root | INFO | \tX-Forwarded-For: 127.0.0.1\n",
            "\tX-Forwarded-For: 127.0.0.1\n",
            "2021-01-05 03:01:51,048 | root | INFO | \tX-Forwarded-Proto: http\n",
            "\tX-Forwarded-Proto: http\n",
            "2021-01-05 03:01:51,048 | root | INFO | \tConnection: close\n",
            "\tConnection: close\n",
            "2021-01-05 03:01:51,049 | root | INFO | \tContent-Length: 238\n",
            "\tContent-Length: 238\n",
            "2021-01-05 03:01:51,049 | root | INFO | \tUser-Agent: python-requests/2.25.0\n",
            "\tUser-Agent: python-requests/2.25.0\n",
            "2021-01-05 03:01:51,049 | root | INFO | \tAccept: */*\n",
            "\tAccept: */*\n",
            "2021-01-05 03:01:51,049 | root | INFO | \tAccept-Encoding: gzip, deflate\n",
            "\tAccept-Encoding: gzip, deflate\n",
            "2021-01-05 03:01:51,049 | root | INFO | \tContent-Type: application/json\n",
            "\tContent-Type: application/json\n",
            "2021-01-05 03:01:51,049 | root | INFO | \tX-Ms-Request-Id: c4a8e394-fba0-4906-ad52-a24bfb50aa6f\n",
            "\tX-Ms-Request-Id: c4a8e394-fba0-4906-ad52-a24bfb50aa6f\n",
            "2021-01-05 03:01:51,050 | root | INFO | Scoring Timer is set to 60.0 seconds\n",
            "Scoring Timer is set to 60.0 seconds\n",
            "[TRANSFORM] ['age']: 0.005663 secs\n",
            "[TRANSFORM] ['anaemia']: 0.000817 secs\n",
            "[TRANSFORM] ['creatinine_phosphokinase']: 0.001438 secs\n",
            "[TRANSFORM] ['diabetes']: 0.001022 secs\n",
            "[TRANSFORM] ['ejection_fraction']: 0.000923 secs\n",
            "[TRANSFORM] ['high_blood_pressure']: 0.000898 secs\n",
            "[TRANSFORM] ['platelets']: 0.001338 secs\n",
            "[TRANSFORM] ['serum_creatinine']: 0.000963 secs\n",
            "[TRANSFORM] ['serum_sodium']: 0.001186 secs\n",
            "[TRANSFORM] ['sex']: 0.000816 secs\n",
            "[TRANSFORM] ['smoking']: 0.00496 secs\n",
            "[TRANSFORM] ['time']: 0.000904 secs\n",
            "2021-01-05 03:01:51,273 | root | INFO | 200\n",
            "200\n",
            "127.0.0.1 - - [05/Jan/2021:03:01:51 +0000] \"POST /score HTTP/1.0\" 200 3 \"-\" \"python-requests/2.25.0\"\n",
            "2021-01-05 03:02:34,783 | root | INFO | Validation Request Content-Type\n",
            "Validation Request Content-Type\n",
            "2021-01-05 03:02:34,784 | root | INFO | \tHost: localhost:5001\n",
            "\tHost: localhost:5001\n",
            "2021-01-05 03:02:34,784 | root | INFO | \tX-Real-Ip: 127.0.0.1\n",
            "\tX-Real-Ip: 127.0.0.1\n",
            "2021-01-05 03:02:34,784 | root | INFO | \tX-Forwarded-For: 127.0.0.1\n",
            "\tX-Forwarded-For: 127.0.0.1\n",
            "2021-01-05 03:02:34,784 | root | INFO | \tX-Forwarded-Proto: http\n",
            "\tX-Forwarded-Proto: http\n",
            "2021-01-05 03:02:34,785 | root | INFO | \tConnection: close\n",
            "\tConnection: close\n",
            "2021-01-05 03:02:34,785 | root | INFO | \tContent-Length: 238\n",
            "\tContent-Length: 238\n",
            "2021-01-05 03:02:34,785 | root | INFO | \tUser-Agent: python-requests/2.25.0\n",
            "\tUser-Agent: python-requests/2.25.0\n",
            "2021-01-05 03:02:34,785 | root | INFO | \tAccept: */*\n",
            "\tAccept: */*\n",
            "2021-01-05 03:02:34,785 | root | INFO | \tAccept-Encoding: gzip, deflate\n",
            "\tAccept-Encoding: gzip, deflate\n",
            "2021-01-05 03:02:34,785 | root | INFO | \tContent-Type: application/json\n",
            "\tContent-Type: application/json\n",
            "2021-01-05 03:02:34,786 | root | INFO | \tX-Ms-Request-Id: 3d01abe4-c23f-4048-840a-fc1471a20635\n",
            "\tX-Ms-Request-Id: 3d01abe4-c23f-4048-840a-fc1471a20635\n",
            "2021-01-05 03:02:34,786 | root | INFO | Scoring Timer is set to 60.0 seconds\n",
            "Scoring Timer is set to 60.0 seconds\n",
            "[TRANSFORM] ['age']: 0.005207 secs\n",
            "[TRANSFORM] ['anaemia']: 0.001035 secs\n",
            "[TRANSFORM] ['creatinine_phosphokinase']: 0.00141 secs\n",
            "[TRANSFORM] ['diabetes']: 0.000915 secs\n",
            "[TRANSFORM] ['ejection_fraction']: 0.001025 secs\n",
            "[TRANSFORM] ['high_blood_pressure']: 0.004742 secs\n",
            "[TRANSFORM] ['platelets']: 0.001025 secs\n",
            "[TRANSFORM] ['serum_creatinine']: 0.001089 secs\n",
            "[TRANSFORM] ['serum_sodium']: 0.004338 secs\n",
            "[TRANSFORM] ['sex']: 0.001103 secs\n",
            "[TRANSFORM] ['smoking']: 0.001033 secs\n",
            "[TRANSFORM] ['time']: 0.000988 secs\n",
            "2021-01-05 03:02:35,077 | root | INFO | 200\n",
            "200\n",
            "127.0.0.1 - - [05/Jan/2021:03:02:35 +0000] \"POST /score HTTP/1.0\" 200 3 \"-\" \"python-requests/2.25.0\"\n",
            "\n"
          ]
        }
      ],
      "execution_count": 27,
      "metadata": {
        "gather": {
          "logged": 1609815792407
        }
      }
    },
    {
      "cell_type": "markdown",
      "source": [
        "TODO: In the cell below, print the logs of the web service and delete the service"
      ],
      "metadata": {
        "collapsed": true,
        "gather": {
          "logged": 1598432765711
        },
        "jupyter": {
          "outputs_hidden": false,
          "source_hidden": false
        },
        "nteract": {
          "transient": {
            "deleting": false
          }
        }
      }
    },
    {
      "cell_type": "code",
      "source": [
        "print(response.status_code)\n",
        "print(response.elapsed)\n",
        "print(response.json())\n",
        "\n"
      ],
      "outputs": [
        {
          "output_type": "stream",
          "name": "stdout",
          "text": [
            "200\n",
            "0:00:00.306877\n",
            "[0]\n"
          ]
        }
      ],
      "execution_count": 28,
      "metadata": {
        "jupyter": {
          "outputs_hidden": false,
          "source_hidden": false
        },
        "nteract": {
          "transient": {
            "deleting": false
          }
        },
        "gather": {
          "logged": 1609815808035
        }
      }
    },
    {
      "cell_type": "code",
      "source": [
        "service.delete()"
      ],
      "outputs": [],
      "execution_count": 29,
      "metadata": {
        "collapsed": true,
        "gather": {
          "logged": 1609815817782
        },
        "jupyter": {
          "outputs_hidden": false,
          "source_hidden": false
        },
        "nteract": {
          "transient": {
            "deleting": false
          }
        }
      }
    }
  ],
  "metadata": {
    "kernel_info": {
      "name": "python3"
    },
    "kernelspec": {
      "name": "python3",
      "language": "python",
      "display_name": "Python 3"
    },
    "language_info": {
      "name": "python",
      "version": "3.6.9",
      "mimetype": "text/x-python",
      "codemirror_mode": {
        "name": "ipython",
        "version": 3
      },
      "pygments_lexer": "ipython3",
      "nbconvert_exporter": "python",
      "file_extension": ".py"
    },
    "nteract": {
      "version": "nteract-front-end@1.0.0"
    }
  },
  "nbformat": 4,
  "nbformat_minor": 2
}