{
  "cells": [
    {
      "cell_type": "markdown",
      "source": [
        "# Automated ML\n",
        "\n",
        "TODO: Import Dependencies. In the cell below, import all the dependencies that you will need to complete the project."
      ],
      "metadata": {}
    },
    {
      "cell_type": "code",
      "source": [
        "# Import Dependencies.\n",
        "\n",
        "from azureml.core.experiment import Experiment\n",
        "from azureml.core.workspace import Workspace\n",
        "\n",
        "from azureml.core.compute import AmlCompute\n",
        "from azureml.core.compute import ComputeTarget\n",
        "from azureml.core.compute_target import ComputeTargetException\n",
        "\n",
        "import logging\n",
        "import os\n",
        "\n",
        "import azureml.core\n",
        "from azureml.train.automl import AutoMLConfig\n",
        "from azureml.core.dataset import Dataset\n",
        "from azureml.data.dataset_factory import TabularDatasetFactory\n",
        "\n",
        "from sklearn.model_selection import train_test_split\n",
        "\n",
        "import pandas as pd\n",
        "from azureml.widgets import RunDetails\n",
        "\n",
        "import joblib \n",
        "import azureml.automl\n",
        "\n",
        "from azureml.core.model import Model\n",
        "\n",
        "from azureml.pipeline.core import PipelineData, TrainingOutput\n",
        "\n",
        "from azureml.pipeline.core import Pipeline\n",
        "\n",
        "import pickle\n",
        "\n",
        "from azureml.core.model import InferenceConfig\n",
        "from azureml.core.environment import Environment\n",
        "from azureml.core.conda_dependencies import CondaDependencies\n",
        "\n",
        "from azureml.core.webservice import Webservice, AciWebservice\n",
        "\n",
        "import requests\n",
        "import json\n",
        "\n",
        "# Check core SDK version number\n",
        "print(\"SDK version:\", azureml.core.VERSION)"
      ],
      "outputs": [
        {
          "output_type": "stream",
          "name": "stdout",
          "text": [
            "SDK version: 1.19.0\n"
          ]
        }
      ],
      "execution_count": 20,
      "metadata": {
        "gather": {
          "logged": 1609606329730
        },
        "jupyter": {
          "outputs_hidden": false,
          "source_hidden": false
        },
        "nteract": {
          "transient": {
            "deleting": false
          }
        }
      }
    },
    {
      "cell_type": "markdown",
      "source": [
        "## Dataset\n",
        "\n",
        "### Overview\n",
        "\n",
        "There are some factors that affects Death Event. We use Kaggle's dataset Heart Failure Clinical Records which contains  information like age, sex, blood pressure, smoke, diabetes, ejection fraction, creatinine phosphokinase, serum_creatinine, serum_sodium, time and we have to predict their death_event.\n",
        "\n",
        "Dataset was uploaded and register as dataset in the workspace\n"
      ],
      "metadata": {}
    },
    {
      "cell_type": "code",
      "source": [
        "# Create a workspace\n",
        "\n",
        "ws = Workspace.from_config()\n",
        "print(ws.name, ws.resource_group, ws.location, ws.subscription_id, sep = '\\n')\n"
      ],
      "outputs": [
        {
          "output_type": "stream",
          "name": "stdout",
          "text": [
            "quick-starts-ws-132965\n",
            "aml-quickstarts-132965\n",
            "southcentralus\n",
            "2c48c51c-bd47-40d4-abbe-fb8eabd19c8c\n"
          ]
        }
      ],
      "execution_count": 2,
      "metadata": {
        "gather": {
          "logged": 1609601786894
        },
        "jupyter": {
          "outputs_hidden": false,
          "source_hidden": false
        },
        "nteract": {
          "transient": {
            "deleting": false
          }
        }
      }
    },
    {
      "cell_type": "code",
      "source": [
        "# choose a name for experiment\n",
        "experiment_name = 'ml-experiment-1'\n",
        "project_folder = './pipeline-project'\n",
        "\n",
        "experiment=Experiment(ws, experiment_name)\n",
        "\n",
        "experiment\n",
        "\n"
      ],
      "outputs": [
        {
          "output_type": "execute_result",
          "execution_count": 3,
          "data": {
            "text/plain": "Experiment(Name: ml-experiment-1,\nWorkspace: quick-starts-ws-132965)",
            "text/html": "<table style=\"width:100%\"><tr><th>Name</th><th>Workspace</th><th>Report Page</th><th>Docs Page</th></tr><tr><td>ml-experiment-1</td><td>quick-starts-ws-132965</td><td><a href=\"https://ml.azure.com/experiments/ml-experiment-1?wsid=/subscriptions/2c48c51c-bd47-40d4-abbe-fb8eabd19c8c/resourcegroups/aml-quickstarts-132965/workspaces/quick-starts-ws-132965\" target=\"_blank\" rel=\"noopener\">Link to Azure Machine Learning studio</a></td><td><a href=\"https://docs.microsoft.com/en-us/python/api/azureml-core/azureml.core.experiment.Experiment?view=azure-ml-py\" target=\"_blank\" rel=\"noopener\">Link to Documentation</a></td></tr></table>"
          },
          "metadata": {}
        }
      ],
      "execution_count": 3,
      "metadata": {
        "gather": {
          "logged": 1609601794198
        }
      }
    },
    {
      "cell_type": "code",
      "source": [
        "# NOTE: update the cluster name to match the existing cluster\n",
        "# Choose a name for your CPU cluster\n",
        "\n",
        "amlcompute_cluster_name = \"notebook132965\"\n",
        "\n",
        "# Verify that cluster does not exist already\n",
        "\n",
        "try:\n",
        "    compute_target = ComputeTarget(workspace=ws, name=amlcompute_cluster_name)\n",
        "    print('Found existing cluster, use it.')\n",
        "except ComputeTargetException:\n",
        "    compute_config = AmlCompute.provisioning_configuration(vm_size='STANDARD_D2_V2',# for GPU, use \"STANDARD_NC6\"\n",
        "                                                           #vm_priority = 'lowpriority', # optional\n",
        "                                                           max_nodes=4)\n",
        "    compute_target = ComputeTarget.create(ws, amlcompute_cluster_name, compute_config)\n",
        "\n",
        "compute_target.wait_for_completion(show_output=True)\n",
        "\n",
        "# For a more detailed view of current AmlCompute status, use get_status().\n"
      ],
      "outputs": [
        {
          "output_type": "stream",
          "name": "stdout",
          "text": [
            "Found existing cluster, use it.\n",
            "\n",
            "Running\n"
          ]
        }
      ],
      "execution_count": 4,
      "metadata": {
        "gather": {
          "logged": 1609601814771
        }
      }
    },
    {
      "cell_type": "code",
      "source": [
        "# dataset = Dataset.get_by_name(ws, name='heart')\n",
        "# ds = dataset.to_pandas_dataframe()\n",
        "# ds"
      ],
      "outputs": [],
      "execution_count": null,
      "metadata": {
        "gather": {
          "logged": 1609125910393
        }
      }
    },
    {
      "cell_type": "code",
      "source": [
        "#upload Heart Failure Dataset\n",
        "\n",
        "data = pd.read_csv(\"heart_failure_clinical_records_dataset.csv\")\n",
        "data.describe()"
      ],
      "outputs": [
        {
          "output_type": "execute_result",
          "execution_count": 5,
          "data": {
            "text/plain": "              age     anaemia  creatinine_phosphokinase    diabetes  \\\ncount  299.000000  299.000000                299.000000  299.000000   \nmean    60.833893    0.431438                581.839465    0.418060   \nstd     11.894809    0.496107                970.287881    0.494067   \nmin     40.000000    0.000000                 23.000000    0.000000   \n25%     51.000000    0.000000                116.500000    0.000000   \n50%     60.000000    0.000000                250.000000    0.000000   \n75%     70.000000    1.000000                582.000000    1.000000   \nmax     95.000000    1.000000               7861.000000    1.000000   \n\n       ejection_fraction  high_blood_pressure      platelets  \\\ncount         299.000000           299.000000     299.000000   \nmean           38.083612             0.351171  263358.029264   \nstd            11.834841             0.478136   97804.236869   \nmin            14.000000             0.000000   25100.000000   \n25%            30.000000             0.000000  212500.000000   \n50%            38.000000             0.000000  262000.000000   \n75%            45.000000             1.000000  303500.000000   \nmax            80.000000             1.000000  850000.000000   \n\n       serum_creatinine  serum_sodium         sex    smoking        time  \\\ncount         299.00000    299.000000  299.000000  299.00000  299.000000   \nmean            1.39388    136.625418    0.648829    0.32107  130.260870   \nstd             1.03451      4.412477    0.478136    0.46767   77.614208   \nmin             0.50000    113.000000    0.000000    0.00000    4.000000   \n25%             0.90000    134.000000    0.000000    0.00000   73.000000   \n50%             1.10000    137.000000    1.000000    0.00000  115.000000   \n75%             1.40000    140.000000    1.000000    1.00000  203.000000   \nmax             9.40000    148.000000    1.000000    1.00000  285.000000   \n\n       DEATH_EVENT  \ncount    299.00000  \nmean       0.32107  \nstd        0.46767  \nmin        0.00000  \n25%        0.00000  \n50%        0.00000  \n75%        1.00000  \nmax        1.00000  ",
            "text/html": "<div>\n<style scoped>\n    .dataframe tbody tr th:only-of-type {\n        vertical-align: middle;\n    }\n\n    .dataframe tbody tr th {\n        vertical-align: top;\n    }\n\n    .dataframe thead th {\n        text-align: right;\n    }\n</style>\n<table border=\"1\" class=\"dataframe\">\n  <thead>\n    <tr style=\"text-align: right;\">\n      <th></th>\n      <th>age</th>\n      <th>anaemia</th>\n      <th>creatinine_phosphokinase</th>\n      <th>diabetes</th>\n      <th>ejection_fraction</th>\n      <th>high_blood_pressure</th>\n      <th>platelets</th>\n      <th>serum_creatinine</th>\n      <th>serum_sodium</th>\n      <th>sex</th>\n      <th>smoking</th>\n      <th>time</th>\n      <th>DEATH_EVENT</th>\n    </tr>\n  </thead>\n  <tbody>\n    <tr>\n      <th>count</th>\n      <td>299.000000</td>\n      <td>299.000000</td>\n      <td>299.000000</td>\n      <td>299.000000</td>\n      <td>299.000000</td>\n      <td>299.000000</td>\n      <td>299.000000</td>\n      <td>299.00000</td>\n      <td>299.000000</td>\n      <td>299.000000</td>\n      <td>299.00000</td>\n      <td>299.000000</td>\n      <td>299.00000</td>\n    </tr>\n    <tr>\n      <th>mean</th>\n      <td>60.833893</td>\n      <td>0.431438</td>\n      <td>581.839465</td>\n      <td>0.418060</td>\n      <td>38.083612</td>\n      <td>0.351171</td>\n      <td>263358.029264</td>\n      <td>1.39388</td>\n      <td>136.625418</td>\n      <td>0.648829</td>\n      <td>0.32107</td>\n      <td>130.260870</td>\n      <td>0.32107</td>\n    </tr>\n    <tr>\n      <th>std</th>\n      <td>11.894809</td>\n      <td>0.496107</td>\n      <td>970.287881</td>\n      <td>0.494067</td>\n      <td>11.834841</td>\n      <td>0.478136</td>\n      <td>97804.236869</td>\n      <td>1.03451</td>\n      <td>4.412477</td>\n      <td>0.478136</td>\n      <td>0.46767</td>\n      <td>77.614208</td>\n      <td>0.46767</td>\n    </tr>\n    <tr>\n      <th>min</th>\n      <td>40.000000</td>\n      <td>0.000000</td>\n      <td>23.000000</td>\n      <td>0.000000</td>\n      <td>14.000000</td>\n      <td>0.000000</td>\n      <td>25100.000000</td>\n      <td>0.50000</td>\n      <td>113.000000</td>\n      <td>0.000000</td>\n      <td>0.00000</td>\n      <td>4.000000</td>\n      <td>0.00000</td>\n    </tr>\n    <tr>\n      <th>25%</th>\n      <td>51.000000</td>\n      <td>0.000000</td>\n      <td>116.500000</td>\n      <td>0.000000</td>\n      <td>30.000000</td>\n      <td>0.000000</td>\n      <td>212500.000000</td>\n      <td>0.90000</td>\n      <td>134.000000</td>\n      <td>0.000000</td>\n      <td>0.00000</td>\n      <td>73.000000</td>\n      <td>0.00000</td>\n    </tr>\n    <tr>\n      <th>50%</th>\n      <td>60.000000</td>\n      <td>0.000000</td>\n      <td>250.000000</td>\n      <td>0.000000</td>\n      <td>38.000000</td>\n      <td>0.000000</td>\n      <td>262000.000000</td>\n      <td>1.10000</td>\n      <td>137.000000</td>\n      <td>1.000000</td>\n      <td>0.00000</td>\n      <td>115.000000</td>\n      <td>0.00000</td>\n    </tr>\n    <tr>\n      <th>75%</th>\n      <td>70.000000</td>\n      <td>1.000000</td>\n      <td>582.000000</td>\n      <td>1.000000</td>\n      <td>45.000000</td>\n      <td>1.000000</td>\n      <td>303500.000000</td>\n      <td>1.40000</td>\n      <td>140.000000</td>\n      <td>1.000000</td>\n      <td>1.00000</td>\n      <td>203.000000</td>\n      <td>1.00000</td>\n    </tr>\n    <tr>\n      <th>max</th>\n      <td>95.000000</td>\n      <td>1.000000</td>\n      <td>7861.000000</td>\n      <td>1.000000</td>\n      <td>80.000000</td>\n      <td>1.000000</td>\n      <td>850000.000000</td>\n      <td>9.40000</td>\n      <td>148.000000</td>\n      <td>1.000000</td>\n      <td>1.00000</td>\n      <td>285.000000</td>\n      <td>1.00000</td>\n    </tr>\n  </tbody>\n</table>\n</div>"
          },
          "metadata": {}
        }
      ],
      "execution_count": 5,
      "metadata": {
        "gather": {
          "logged": 1609601825669
        },
        "jupyter": {
          "outputs_hidden": false,
          "source_hidden": false
        },
        "nteract": {
          "transient": {
            "deleting": false
          }
        }
      }
    },
    {
      "cell_type": "code",
      "source": [
        "train, test = train_test_split(data, test_size=0.2, random_state=1 )\n",
        "\n",
        "if \"training\" not in os.listdir():\n",
        "    os.mkdir(\"./training\")\n",
        "\n",
        "if \"models\" not in os.listdir():\n",
        "    os.mkdir(\"./models\")\n",
        "\n",
        "train.to_csv(\"training/train_data.csv\", index = False)\n",
        "\n",
        "data_store = ws.get_default_datastore()\n",
        "data_store.upload(src_dir = \"./training\", target_path = 'udacity-project', overwrite = True,  show_progress = True)\n"
      ],
      "outputs": [
        {
          "output_type": "stream",
          "name": "stdout",
          "text": [
            "Uploading an estimated of 1 files\n",
            "Uploading ./training/train_data.csv\n",
            "Uploaded ./training/train_data.csv, 1 files out of an estimated total of 1\n",
            "Uploaded 1 files\n"
          ]
        },
        {
          "output_type": "execute_result",
          "execution_count": 6,
          "data": {
            "text/plain": "$AZUREML_DATAREFERENCE_48ef03080ff14baea8e6f71a678ce67b"
          },
          "metadata": {}
        }
      ],
      "execution_count": 6,
      "metadata": {
        "gather": {
          "logged": 1609601832071
        }
      }
    },
    {
      "cell_type": "code",
      "source": [
        "train_data = Dataset.Tabular.from_delimited_files(path=data_store.path(\"udacity-project/train_data.csv\"))\n",
        "# train=TabularDatasetFactory.from_delimited_files([(data_store, 'training/train_data.csv')])\n"
      ],
      "outputs": [],
      "execution_count": 7,
      "metadata": {
        "gather": {
          "logged": 1609601843959
        }
      }
    },
    {
      "cell_type": "code",
      "source": [],
      "outputs": [],
      "execution_count": null,
      "metadata": {
        "gather": {
          "logged": 1608759287765
        }
      }
    },
    {
      "cell_type": "markdown",
      "source": [
        "## AutoML Configuration\n",
        "\n",
        "TODO: Explain why you chose the automl settings and cofiguration you used below.\n",
        "\n",
        "We are trying to predict DEATH_EVENT, therefore we need to define the task as classification. Also define Featurization as auto and enable early stopping and the primary metric AUC_weighted"
      ],
      "metadata": {}
    },
    {
      "cell_type": "code",
      "source": [
        "# TODO: Put your automl settings here\n",
        "automl_settings = {\n",
        "    \"experiment_timeout_minutes\": 20,\n",
        "    \"max_concurrent_iterations\": 5,\n",
        "    \"primary_metric\" : 'AUC_weighted'    \n",
        "}\n",
        "\n",
        "# TODO: Put your automl config here\n",
        "automl_config = AutoMLConfig(\n",
        "    \n",
        "    compute_target = compute_target,\n",
        "    task = \"classification\",\n",
        "    training_data = train_data,\n",
        "    label_column_name = \"DEATH_EVENT\",   \n",
        "    path = project_folder,\n",
        "    enable_early_stopping= True,\n",
        "    featurization= 'auto',\n",
        "    debug_log = \"automl_errors.log\",\n",
        "    **automl_settings \n",
        ")"
      ],
      "outputs": [],
      "execution_count": 8,
      "metadata": {
        "gather": {
          "logged": 1609601851523
        },
        "jupyter": {
          "outputs_hidden": false,
          "source_hidden": false
        },
        "nteract": {
          "transient": {
            "deleting": false
          }
        }
      }
    },
    {
      "cell_type": "code",
      "source": [
        "# TODO: Submit your experiment"
      ],
      "outputs": [],
      "execution_count": null,
      "metadata": {
        "gather": {
          "logged": 1608761042998
        },
        "jupyter": {
          "outputs_hidden": false,
          "source_hidden": false
        },
        "nteract": {
          "transient": {
            "deleting": false
          }
        }
      }
    },
    {
      "cell_type": "code",
      "source": [
        "remote_run = experiment.submit(automl_config, show_output = True)\n",
        "RunDetails(remote_run).show()\n",
        "#Take SS"
      ],
      "outputs": [
        {
          "output_type": "stream",
          "name": "stdout",
          "text": [
            "Running on remote.\n",
            "No run_configuration provided, running on notebook132965 with default configuration\n",
            "Running on remote compute: notebook132965\n",
            "Parent Run ID: AutoML_e4d55488-8866-412b-8c0c-e2b1d6adf5c1\n",
            "\n",
            "Current status: FeaturesGeneration. Generating features for the dataset.\n",
            "Current status: DatasetCrossValidationSplit. Generating individually featurized CV splits.\n",
            "Current status: ModelSelection. Beginning model selection.\n",
            "\n",
            "****************************************************************************************************\n",
            "DATA GUARDRAILS: \n",
            "\n",
            "TYPE:         Cross validation\n",
            "STATUS:       DONE\n",
            "DESCRIPTION:  Each iteration of the trained model was validated through cross-validation.\n",
            "              \n",
            "DETAILS:      \n",
            "+---------------------------------+\n",
            "|Number of folds                  |\n",
            "+=================================+\n",
            "|10                               |\n",
            "+---------------------------------+\n",
            "\n",
            "****************************************************************************************************\n",
            "\n",
            "TYPE:         Class balancing detection\n",
            "STATUS:       PASSED\n",
            "DESCRIPTION:  Your inputs were analyzed, and all classes are balanced in your training data.\n",
            "              Learn more about imbalanced data: https://aka.ms/AutomatedMLImbalancedData\n",
            "\n",
            "****************************************************************************************************\n",
            "\n",
            "TYPE:         Missing feature values imputation\n",
            "STATUS:       PASSED\n",
            "DESCRIPTION:  No feature missing values were detected in the training data.\n",
            "              Learn more about missing value imputation: https://aka.ms/AutomatedMLFeaturization\n",
            "\n",
            "****************************************************************************************************\n",
            "\n",
            "TYPE:         High cardinality feature detection\n",
            "STATUS:       PASSED\n",
            "DESCRIPTION:  Your inputs were analyzed, and no high cardinality features were detected.\n",
            "              Learn more about high cardinality feature handling: https://aka.ms/AutomatedMLFeaturization\n",
            "\n",
            "****************************************************************************************************\n",
            "\n",
            "****************************************************************************************************\n",
            "ITERATION: The iteration being evaluated.\n",
            "PIPELINE: A summary description of the pipeline being evaluated.\n",
            "DURATION: Time taken for the current iteration.\n",
            "METRIC: The result of computing score on the fitted pipeline.\n",
            "BEST: The best observed score thus far.\n",
            "****************************************************************************************************\n",
            "\n",
            " ITERATION   PIPELINE                                       DURATION      METRIC      BEST\n",
            "         1   MaxAbsScaler XGBoostClassifier                 0:00:57       0.8879    0.8879\n",
            "         2   MinMaxScaler RandomForest                      0:00:59       0.8977    0.8977\n",
            "         0   MaxAbsScaler LightGBM                          0:01:04       0.8901    0.8977\n",
            "         3   RobustScaler ExtremeRandomTrees                0:01:03       0.8777    0.8977\n",
            "         4   MinMaxScaler RandomForest                      0:01:09       0.8894    0.8977\n",
            "         5   MinMaxScaler RandomForest                      0:00:58       0.8768    0.8977\n",
            "         6   StandardScalerWrapper RandomForest             0:00:58       0.8810    0.8977\n",
            "         8   MinMaxScaler ExtremeRandomTrees                0:01:32       0.8662    0.8977\n",
            "         9   SparseNormalizer KNN                           0:01:30       0.7183    0.8977\n",
            "         7   MinMaxScaler ExtremeRandomTrees                0:01:42       0.8813    0.8977\n",
            "        10   MinMaxScaler ExtremeRandomTrees                0:01:06       0.8553    0.8977\n",
            "        11   RobustScaler ExtremeRandomTrees                0:01:35       0.8629    0.8977\n",
            "        12   StandardScalerWrapper RandomForest             0:01:19       0.8996    0.8996\n",
            "        13   StandardScalerWrapper SGD                      0:01:16       0.8466    0.8996\n",
            "        14   RobustScaler RandomForest                      0:01:14       0.8647    0.8996\n",
            "        15   StandardScalerWrapper KNN                      0:01:16       0.5876    0.8996\n",
            "        16   MinMaxScaler RandomForest                      0:01:38       0.8741    0.8996\n",
            "        17   MinMaxScaler ExtremeRandomTrees                0:01:18       0.8233    0.8996\n",
            "        18   MaxAbsScaler RandomForest                      0:01:15       0.8827    0.8996\n",
            "        19   StandardScalerWrapper XGBoostClassifier        0:01:09       0.8926    0.8996\n",
            "        20   MaxAbsScaler RandomForest                      0:01:15       0.8683    0.8996\n",
            "        21   MaxAbsScaler ExtremeRandomTrees                0:01:15       0.8415    0.8996\n",
            "        22   MaxAbsScaler ExtremeRandomTrees                0:01:09       0.8549    0.8996\n",
            "        23   MinMaxScaler ExtremeRandomTrees                0:01:15       0.8856    0.8996\n",
            "        24   StandardScalerWrapper XGBoostClassifier        0:01:10       0.9007    0.9007\n",
            "        25   MinMaxScaler RandomForest                      0:01:17       0.9026    0.9026\n",
            "        26   MaxAbsScaler ExtremeRandomTrees                0:01:15       0.8854    0.9026\n",
            "        27   StandardScalerWrapper LightGBM                 0:01:19       0.8932    0.9026\n",
            "        28   RobustScaler LightGBM                          0:01:09       0.8998    0.9026\n",
            "        29   MinMaxScaler RandomForest                      0:01:20       0.9126    0.9126\n",
            "        30   RobustScaler RandomForest                      0:01:05       0.7743    0.9126\n",
            "        31   StandardScalerWrapper XGBoostClassifier        0:01:09       0.8798    0.9126\n",
            "        32   MaxAbsScaler LightGBM                          0:01:08       0.8993    0.9126\n",
            "        33   StandardScalerWrapper LightGBM                 0:01:07       0.9091    0.9126\n",
            "        34   StandardScalerWrapper XGBoostClassifier        0:01:09       0.8837    0.9126\n",
            "        35   TruncatedSVDWrapper RandomForest               0:01:07       0.7216    0.9126\n",
            "        36   MinMaxScaler LightGBM                          0:01:09       0.8991    0.9126\n",
            "        37   MinMaxScaler GradientBoosting                  0:01:06       0.9097    0.9126\n",
            "        39   StandardScalerWrapper SVM                      0:00:58       0.8613    0.9126\n",
            "        38   MaxAbsScaler GradientBoosting                  0:01:07       0.9101    0.9126\n",
            "        40   StandardScalerWrapper RandomForest             0:01:17       0.9133    0.9133\n",
            "        43   RobustScaler ExtremeRandomTrees                0:01:22       0.8995    0.9133\n",
            "        41   StandardScalerWrapper GradientBoosting         0:01:27       0.9061    0.9133\n",
            "        42   StandardScalerWrapper XGBoostClassifier        0:01:23       0.8900    0.9133\n",
            "        44   RobustScaler GradientBoosting                  0:01:24       0.9117    0.9133\n",
            "        45   StandardScalerWrapper RandomForest             0:01:26       0.7865    0.9133\n",
            "        46   RobustScaler GradientBoosting                  0:01:18       0.8738    0.9133\n",
            "        47   MinMaxScaler GradientBoosting                  0:01:19       0.9075    0.9133\n",
            "        48   StandardScalerWrapper RandomForest             0:01:14       0.9117    0.9133\n",
            "        49   RobustScaler RandomForest                      0:01:19       0.9121    0.9133\n",
            "        50   MinMaxScaler RandomForest                      0:01:04       0.9067    0.9133\n",
            "        52   MaxAbsScaler LightGBM                          0:01:12       0.9009    0.9133\n",
            "        53   MaxAbsScaler LightGBM                          0:01:07       0.8975    0.9133\n",
            "        54   StandardScalerWrapper XGBoostClassifier        0:01:12       0.8938    0.9133\n",
            "        51   StandardScalerWrapper XGBoostClassifier        0:01:13       0.8983    0.9133\n",
            "        55   StandardScalerWrapper RandomForest             0:01:00       0.8463    0.9133\n",
            "        56                                                  0:00:18          nan    0.9133\n",
            "        57    VotingEnsemble                                0:02:55       0.9248    0.9248\n",
            "        58    StackEnsemble                                 0:02:56       0.9186    0.9248\n"
          ]
        },
        {
          "output_type": "display_data",
          "data": {
            "text/plain": "_AutoMLWidget(widget_settings={'childWidgetDisplay': 'popup', 'send_telemetry': False, 'log_level': 'INFO', 's…",
            "application/vnd.jupyter.widget-view+json": {
              "version_major": 2,
              "version_minor": 0,
              "model_id": "18e1d8a47af34f399ed9421c8aa6b413"
            }
          },
          "metadata": {}
        },
        {
          "output_type": "display_data",
          "data": {
            "application/aml.mini.widget.v1": "{\"status\": \"Completed\", \"workbench_run_details_uri\": \"https://ml.azure.com/experiments/ml-experiment-1/runs/AutoML_e4d55488-8866-412b-8c0c-e2b1d6adf5c1?wsid=/subscriptions/2c48c51c-bd47-40d4-abbe-fb8eabd19c8c/resourcegroups/aml-quickstarts-132965/workspaces/quick-starts-ws-132965\", \"run_id\": \"AutoML_e4d55488-8866-412b-8c0c-e2b1d6adf5c1\", \"run_properties\": {\"run_id\": \"AutoML_e4d55488-8866-412b-8c0c-e2b1d6adf5c1\", \"created_utc\": \"2021-01-02T15:37:40.070931Z\", \"properties\": {\"num_iterations\": \"1000\", \"training_type\": \"TrainFull\", \"acquisition_function\": \"EI\", \"primary_metric\": \"AUC_weighted\", \"train_split\": \"0\", \"acquisition_parameter\": \"0\", \"num_cross_validation\": null, \"target\": \"notebook132965\", \"AMLSettingsJsonString\": \"{\\\"path\\\":null,\\\"name\\\":\\\"ml-experiment-1\\\",\\\"subscription_id\\\":\\\"2c48c51c-bd47-40d4-abbe-fb8eabd19c8c\\\",\\\"resource_group\\\":\\\"aml-quickstarts-132965\\\",\\\"workspace_name\\\":\\\"quick-starts-ws-132965\\\",\\\"region\\\":\\\"southcentralus\\\",\\\"compute_target\\\":\\\"notebook132965\\\",\\\"spark_service\\\":null,\\\"azure_service\\\":\\\"remote\\\",\\\"many_models\\\":false,\\\"pipeline_fetch_max_batch_size\\\":1,\\\"iterations\\\":1000,\\\"primary_metric\\\":\\\"AUC_weighted\\\",\\\"task_type\\\":\\\"classification\\\",\\\"data_script\\\":null,\\\"validation_size\\\":0.0,\\\"n_cross_validations\\\":null,\\\"y_min\\\":null,\\\"y_max\\\":null,\\\"num_classes\\\":null,\\\"featurization\\\":\\\"auto\\\",\\\"_ignore_package_version_incompatibilities\\\":false,\\\"is_timeseries\\\":false,\\\"max_cores_per_iteration\\\":1,\\\"max_concurrent_iterations\\\":5,\\\"iteration_timeout_minutes\\\":null,\\\"mem_in_mb\\\":null,\\\"enforce_time_on_windows\\\":false,\\\"experiment_timeout_minutes\\\":20,\\\"experiment_exit_score\\\":null,\\\"whitelist_models\\\":null,\\\"blacklist_algos\\\":[\\\"TensorFlowLinearClassifier\\\",\\\"TensorFlowDNN\\\"],\\\"supported_models\\\":[\\\"XGBoostClassifier\\\",\\\"KNN\\\",\\\"ExtremeRandomTrees\\\",\\\"BernoulliNaiveBayes\\\",\\\"DecisionTree\\\",\\\"TensorFlowLinearClassifier\\\",\\\"SGD\\\",\\\"LinearSVM\\\",\\\"RandomForest\\\",\\\"GradientBoosting\\\",\\\"TensorFlowDNN\\\",\\\"LogisticRegression\\\",\\\"SVM\\\",\\\"MultinomialNaiveBayes\\\",\\\"LightGBM\\\",\\\"AveragedPerceptronClassifier\\\"],\\\"auto_blacklist\\\":true,\\\"blacklist_samples_reached\\\":false,\\\"exclude_nan_labels\\\":true,\\\"verbosity\\\":20,\\\"_debug_log\\\":\\\"azureml_automl.log\\\",\\\"show_warnings\\\":false,\\\"model_explainability\\\":true,\\\"service_url\\\":null,\\\"sdk_url\\\":null,\\\"sdk_packages\\\":null,\\\"enable_onnx_compatible_models\\\":false,\\\"enable_split_onnx_featurizer_estimator_models\\\":false,\\\"vm_type\\\":\\\"STANDARD_DS3_V2\\\",\\\"telemetry_verbosity\\\":20,\\\"send_telemetry\\\":true,\\\"enable_dnn\\\":false,\\\"scenario\\\":\\\"SDK-1.13.0\\\",\\\"environment_label\\\":null,\\\"force_text_dnn\\\":false,\\\"enable_feature_sweeping\\\":true,\\\"enable_early_stopping\\\":true,\\\"early_stopping_n_iters\\\":10,\\\"metrics\\\":null,\\\"enable_ensembling\\\":true,\\\"enable_stack_ensembling\\\":true,\\\"ensemble_iterations\\\":15,\\\"enable_tf\\\":false,\\\"enable_subsampling\\\":null,\\\"subsample_seed\\\":null,\\\"enable_nimbusml\\\":false,\\\"enable_streaming\\\":false,\\\"force_streaming\\\":false,\\\"track_child_runs\\\":true,\\\"allowed_private_models\\\":[],\\\"label_column_name\\\":\\\"DEATH_EVENT\\\",\\\"weight_column_name\\\":null,\\\"cv_split_column_names\\\":null,\\\"enable_local_managed\\\":false,\\\"_local_managed_run_id\\\":null,\\\"cost_mode\\\":1,\\\"lag_length\\\":0,\\\"metric_operation\\\":\\\"maximize\\\",\\\"preprocess\\\":true}\", \"DataPrepJsonString\": \"{\\\\\\\"training_data\\\\\\\": \\\\\\\"{\\\\\\\\\\\\\\\"blocks\\\\\\\\\\\\\\\": [{\\\\\\\\\\\\\\\"id\\\\\\\\\\\\\\\": \\\\\\\\\\\\\\\"df20492f-f0f1-4175-84a6-f9b51f968e0a\\\\\\\\\\\\\\\", \\\\\\\\\\\\\\\"type\\\\\\\\\\\\\\\": \\\\\\\\\\\\\\\"Microsoft.DPrep.GetDatastoreFilesBlock\\\\\\\\\\\\\\\", \\\\\\\\\\\\\\\"arguments\\\\\\\\\\\\\\\": {\\\\\\\\\\\\\\\"datastores\\\\\\\\\\\\\\\": [{\\\\\\\\\\\\\\\"datastoreName\\\\\\\\\\\\\\\": \\\\\\\\\\\\\\\"workspaceblobstore\\\\\\\\\\\\\\\", \\\\\\\\\\\\\\\"path\\\\\\\\\\\\\\\": \\\\\\\\\\\\\\\"udacity-project/train_data.csv\\\\\\\\\\\\\\\", \\\\\\\\\\\\\\\"resourceGroup\\\\\\\\\\\\\\\": \\\\\\\\\\\\\\\"aml-quickstarts-132965\\\\\\\\\\\\\\\", \\\\\\\\\\\\\\\"subscription\\\\\\\\\\\\\\\": \\\\\\\\\\\\\\\"2c48c51c-bd47-40d4-abbe-fb8eabd19c8c\\\\\\\\\\\\\\\", \\\\\\\\\\\\\\\"workspaceName\\\\\\\\\\\\\\\": \\\\\\\\\\\\\\\"quick-starts-ws-132965\\\\\\\\\\\\\\\"}]}, \\\\\\\\\\\\\\\"localData\\\\\\\\\\\\\\\": {}, \\\\\\\\\\\\\\\"isEnabled\\\\\\\\\\\\\\\": true, \\\\\\\\\\\\\\\"name\\\\\\\\\\\\\\\": null, \\\\\\\\\\\\\\\"annotation\\\\\\\\\\\\\\\": null}, {\\\\\\\\\\\\\\\"id\\\\\\\\\\\\\\\": \\\\\\\\\\\\\\\"1679b350-7c0c-4e35-8533-9aad776a736e\\\\\\\\\\\\\\\", \\\\\\\\\\\\\\\"type\\\\\\\\\\\\\\\": \\\\\\\\\\\\\\\"Microsoft.DPrep.ParseDelimitedBlock\\\\\\\\\\\\\\\", \\\\\\\\\\\\\\\"arguments\\\\\\\\\\\\\\\": {\\\\\\\\\\\\\\\"columnHeadersMode\\\\\\\\\\\\\\\": 3, \\\\\\\\\\\\\\\"fileEncoding\\\\\\\\\\\\\\\": 0, \\\\\\\\\\\\\\\"handleQuotedLineBreaks\\\\\\\\\\\\\\\": false, \\\\\\\\\\\\\\\"preview\\\\\\\\\\\\\\\": false, \\\\\\\\\\\\\\\"separator\\\\\\\\\\\\\\\": \\\\\\\\\\\\\\\",\\\\\\\\\\\\\\\", \\\\\\\\\\\\\\\"skipRows\\\\\\\\\\\\\\\": 0, \\\\\\\\\\\\\\\"skipRowsMode\\\\\\\\\\\\\\\": 0}, \\\\\\\\\\\\\\\"localData\\\\\\\\\\\\\\\": {}, \\\\\\\\\\\\\\\"isEnabled\\\\\\\\\\\\\\\": true, \\\\\\\\\\\\\\\"name\\\\\\\\\\\\\\\": null, \\\\\\\\\\\\\\\"annotation\\\\\\\\\\\\\\\": null}, {\\\\\\\\\\\\\\\"id\\\\\\\\\\\\\\\": \\\\\\\\\\\\\\\"85bbfda7-3632-4846-a13b-35e7211a832a\\\\\\\\\\\\\\\", \\\\\\\\\\\\\\\"type\\\\\\\\\\\\\\\": \\\\\\\\\\\\\\\"Microsoft.DPrep.DropColumnsBlock\\\\\\\\\\\\\\\", \\\\\\\\\\\\\\\"arguments\\\\\\\\\\\\\\\": {\\\\\\\\\\\\\\\"columns\\\\\\\\\\\\\\\": {\\\\\\\\\\\\\\\"type\\\\\\\\\\\\\\\": 0, \\\\\\\\\\\\\\\"details\\\\\\\\\\\\\\\": {\\\\\\\\\\\\\\\"selectedColumns\\\\\\\\\\\\\\\": [\\\\\\\\\\\\\\\"Path\\\\\\\\\\\\\\\"]}}}, \\\\\\\\\\\\\\\"localData\\\\\\\\\\\\\\\": {}, \\\\\\\\\\\\\\\"isEnabled\\\\\\\\\\\\\\\": true, \\\\\\\\\\\\\\\"name\\\\\\\\\\\\\\\": null, \\\\\\\\\\\\\\\"annotation\\\\\\\\\\\\\\\": null}, {\\\\\\\\\\\\\\\"id\\\\\\\\\\\\\\\": \\\\\\\\\\\\\\\"97d33143-462a-48d4-9798-f31776631c72\\\\\\\\\\\\\\\", \\\\\\\\\\\\\\\"type\\\\\\\\\\\\\\\": \\\\\\\\\\\\\\\"Microsoft.DPrep.SetColumnTypesBlock\\\\\\\\\\\\\\\", \\\\\\\\\\\\\\\"arguments\\\\\\\\\\\\\\\": {\\\\\\\\\\\\\\\"columnConversion\\\\\\\\\\\\\\\": [{\\\\\\\\\\\\\\\"column\\\\\\\\\\\\\\\": {\\\\\\\\\\\\\\\"type\\\\\\\\\\\\\\\": 2, \\\\\\\\\\\\\\\"details\\\\\\\\\\\\\\\": {\\\\\\\\\\\\\\\"selectedColumn\\\\\\\\\\\\\\\": \\\\\\\\\\\\\\\"age\\\\\\\\\\\\\\\"}}, \\\\\\\\\\\\\\\"typeProperty\\\\\\\\\\\\\\\": 3}, {\\\\\\\\\\\\\\\"column\\\\\\\\\\\\\\\": {\\\\\\\\\\\\\\\"type\\\\\\\\\\\\\\\": 2, \\\\\\\\\\\\\\\"details\\\\\\\\\\\\\\\": {\\\\\\\\\\\\\\\"selectedColumn\\\\\\\\\\\\\\\": \\\\\\\\\\\\\\\"anaemia\\\\\\\\\\\\\\\"}}, \\\\\\\\\\\\\\\"typeProperty\\\\\\\\\\\\\\\": 2}, {\\\\\\\\\\\\\\\"column\\\\\\\\\\\\\\\": {\\\\\\\\\\\\\\\"type\\\\\\\\\\\\\\\": 2, \\\\\\\\\\\\\\\"details\\\\\\\\\\\\\\\": {\\\\\\\\\\\\\\\"selectedColumn\\\\\\\\\\\\\\\": \\\\\\\\\\\\\\\"creatinine_phosphokinase\\\\\\\\\\\\\\\"}}, \\\\\\\\\\\\\\\"typeProperty\\\\\\\\\\\\\\\": 2}, {\\\\\\\\\\\\\\\"column\\\\\\\\\\\\\\\": {\\\\\\\\\\\\\\\"type\\\\\\\\\\\\\\\": 2, \\\\\\\\\\\\\\\"details\\\\\\\\\\\\\\\": {\\\\\\\\\\\\\\\"selectedColumn\\\\\\\\\\\\\\\": \\\\\\\\\\\\\\\"diabetes\\\\\\\\\\\\\\\"}}, \\\\\\\\\\\\\\\"typeProperty\\\\\\\\\\\\\\\": 2}, {\\\\\\\\\\\\\\\"column\\\\\\\\\\\\\\\": {\\\\\\\\\\\\\\\"type\\\\\\\\\\\\\\\": 2, \\\\\\\\\\\\\\\"details\\\\\\\\\\\\\\\": {\\\\\\\\\\\\\\\"selectedColumn\\\\\\\\\\\\\\\": \\\\\\\\\\\\\\\"ejection_fraction\\\\\\\\\\\\\\\"}}, \\\\\\\\\\\\\\\"typeProperty\\\\\\\\\\\\\\\": 2}, {\\\\\\\\\\\\\\\"column\\\\\\\\\\\\\\\": {\\\\\\\\\\\\\\\"type\\\\\\\\\\\\\\\": 2, \\\\\\\\\\\\\\\"details\\\\\\\\\\\\\\\": {\\\\\\\\\\\\\\\"selectedColumn\\\\\\\\\\\\\\\": \\\\\\\\\\\\\\\"high_blood_pressure\\\\\\\\\\\\\\\"}}, \\\\\\\\\\\\\\\"typeProperty\\\\\\\\\\\\\\\": 2}, {\\\\\\\\\\\\\\\"column\\\\\\\\\\\\\\\": {\\\\\\\\\\\\\\\"type\\\\\\\\\\\\\\\": 2, \\\\\\\\\\\\\\\"details\\\\\\\\\\\\\\\": {\\\\\\\\\\\\\\\"selectedColumn\\\\\\\\\\\\\\\": \\\\\\\\\\\\\\\"platelets\\\\\\\\\\\\\\\"}}, \\\\\\\\\\\\\\\"typeProperty\\\\\\\\\\\\\\\": 3}, {\\\\\\\\\\\\\\\"column\\\\\\\\\\\\\\\": {\\\\\\\\\\\\\\\"type\\\\\\\\\\\\\\\": 2, \\\\\\\\\\\\\\\"details\\\\\\\\\\\\\\\": {\\\\\\\\\\\\\\\"selectedColumn\\\\\\\\\\\\\\\": \\\\\\\\\\\\\\\"serum_creatinine\\\\\\\\\\\\\\\"}}, \\\\\\\\\\\\\\\"typeProperty\\\\\\\\\\\\\\\": 3}, {\\\\\\\\\\\\\\\"column\\\\\\\\\\\\\\\": {\\\\\\\\\\\\\\\"type\\\\\\\\\\\\\\\": 2, \\\\\\\\\\\\\\\"details\\\\\\\\\\\\\\\": {\\\\\\\\\\\\\\\"selectedColumn\\\\\\\\\\\\\\\": \\\\\\\\\\\\\\\"serum_sodium\\\\\\\\\\\\\\\"}}, \\\\\\\\\\\\\\\"typeProperty\\\\\\\\\\\\\\\": 2}, {\\\\\\\\\\\\\\\"column\\\\\\\\\\\\\\\": {\\\\\\\\\\\\\\\"type\\\\\\\\\\\\\\\": 2, \\\\\\\\\\\\\\\"details\\\\\\\\\\\\\\\": {\\\\\\\\\\\\\\\"selectedColumn\\\\\\\\\\\\\\\": \\\\\\\\\\\\\\\"sex\\\\\\\\\\\\\\\"}}, \\\\\\\\\\\\\\\"typeProperty\\\\\\\\\\\\\\\": 2}, {\\\\\\\\\\\\\\\"column\\\\\\\\\\\\\\\": {\\\\\\\\\\\\\\\"type\\\\\\\\\\\\\\\": 2, \\\\\\\\\\\\\\\"details\\\\\\\\\\\\\\\": {\\\\\\\\\\\\\\\"selectedColumn\\\\\\\\\\\\\\\": \\\\\\\\\\\\\\\"smoking\\\\\\\\\\\\\\\"}}, \\\\\\\\\\\\\\\"typeProperty\\\\\\\\\\\\\\\": 2}, {\\\\\\\\\\\\\\\"column\\\\\\\\\\\\\\\": {\\\\\\\\\\\\\\\"type\\\\\\\\\\\\\\\": 2, \\\\\\\\\\\\\\\"details\\\\\\\\\\\\\\\": {\\\\\\\\\\\\\\\"selectedColumn\\\\\\\\\\\\\\\": \\\\\\\\\\\\\\\"time\\\\\\\\\\\\\\\"}}, \\\\\\\\\\\\\\\"typeProperty\\\\\\\\\\\\\\\": 2}, {\\\\\\\\\\\\\\\"column\\\\\\\\\\\\\\\": {\\\\\\\\\\\\\\\"type\\\\\\\\\\\\\\\": 2, \\\\\\\\\\\\\\\"details\\\\\\\\\\\\\\\": {\\\\\\\\\\\\\\\"selectedColumn\\\\\\\\\\\\\\\": \\\\\\\\\\\\\\\"DEATH_EVENT\\\\\\\\\\\\\\\"}}, \\\\\\\\\\\\\\\"typeProperty\\\\\\\\\\\\\\\": 2}]}, \\\\\\\\\\\\\\\"localData\\\\\\\\\\\\\\\": {}, \\\\\\\\\\\\\\\"isEnabled\\\\\\\\\\\\\\\": true, \\\\\\\\\\\\\\\"name\\\\\\\\\\\\\\\": null, \\\\\\\\\\\\\\\"annotation\\\\\\\\\\\\\\\": null}], \\\\\\\\\\\\\\\"inspectors\\\\\\\\\\\\\\\": [], \\\\\\\\\\\\\\\"meta\\\\\\\\\\\\\\\": {\\\\\\\\\\\\\\\"savedDatasetId\\\\\\\\\\\\\\\": \\\\\\\\\\\\\\\"a5791ee6-934c-4342-aaff-ed249905198c\\\\\\\\\\\\\\\", \\\\\\\\\\\\\\\"datasetType\\\\\\\\\\\\\\\": \\\\\\\\\\\\\\\"tabular\\\\\\\\\\\\\\\", \\\\\\\\\\\\\\\"subscriptionId\\\\\\\\\\\\\\\": \\\\\\\\\\\\\\\"2c48c51c-bd47-40d4-abbe-fb8eabd19c8c\\\\\\\\\\\\\\\", \\\\\\\\\\\\\\\"workspaceId\\\\\\\\\\\\\\\": \\\\\\\\\\\\\\\"728f4edb-080a-421e-9bfa-02c8c9b6730d\\\\\\\\\\\\\\\", \\\\\\\\\\\\\\\"workspaceLocation\\\\\\\\\\\\\\\": \\\\\\\\\\\\\\\"southcentralus\\\\\\\\\\\\\\\"}}\\\\\\\", \\\\\\\"activities\\\\\\\": 0}\", \"EnableSubsampling\": null, \"runTemplate\": \"AutoML\", \"azureml.runsource\": \"automl\", \"display_task_type\": \"classification\", \"dependencies_versions\": \"{\\\"azureml-widgets\\\": \\\"1.19.0\\\", \\\"azureml-train\\\": \\\"1.19.0\\\", \\\"azureml-train-restclients-hyperdrive\\\": \\\"1.19.0\\\", \\\"azureml-train-core\\\": \\\"1.19.0\\\", \\\"azureml-train-automl\\\": \\\"1.19.0\\\", \\\"azureml-train-automl-runtime\\\": \\\"1.19.0\\\", \\\"azureml-train-automl-client\\\": \\\"1.19.0\\\", \\\"azureml-tensorboard\\\": \\\"1.19.0\\\", \\\"azureml-telemetry\\\": \\\"1.19.0\\\", \\\"azureml-sdk\\\": \\\"1.19.0\\\", \\\"azureml-samples\\\": \\\"0+unknown\\\", \\\"azureml-pipeline\\\": \\\"1.19.0\\\", \\\"azureml-pipeline-steps\\\": \\\"1.19.0\\\", \\\"azureml-pipeline-core\\\": \\\"1.19.0\\\", \\\"azureml-opendatasets\\\": \\\"1.19.0\\\", \\\"azureml-model-management-sdk\\\": \\\"1.0.1b6.post1\\\", \\\"azureml-mlflow\\\": \\\"1.19.0\\\", \\\"azureml-interpret\\\": \\\"1.19.0\\\", \\\"azureml-explain-model\\\": \\\"1.19.0\\\", \\\"azureml-defaults\\\": \\\"1.19.0\\\", \\\"azureml-dataset-runtime\\\": \\\"1.19.0\\\", \\\"azureml-dataprep\\\": \\\"2.6.1\\\", \\\"azureml-dataprep-rslex\\\": \\\"1.4.0\\\", \\\"azureml-dataprep-native\\\": \\\"26.0.0\\\", \\\"azureml-datadrift\\\": \\\"1.19.0\\\", \\\"azureml-core\\\": \\\"1.19.0\\\", \\\"azureml-contrib-services\\\": \\\"1.19.0\\\", \\\"azureml-contrib-server\\\": \\\"1.19.0\\\", \\\"azureml-contrib-reinforcementlearning\\\": \\\"1.19.0\\\", \\\"azureml-contrib-pipeline-steps\\\": \\\"1.19.0\\\", \\\"azureml-contrib-notebook\\\": \\\"1.19.0\\\", \\\"azureml-contrib-interpret\\\": \\\"1.19.0\\\", \\\"azureml-contrib-gbdt\\\": \\\"1.19.0\\\", \\\"azureml-contrib-fairness\\\": \\\"1.19.0\\\", \\\"azureml-contrib-dataset\\\": \\\"1.19.0\\\", \\\"azureml-cli-common\\\": \\\"1.19.0\\\", \\\"azureml-automl-runtime\\\": \\\"1.19.0\\\", \\\"azureml-automl-core\\\": \\\"1.19.0\\\", \\\"azureml-accel-models\\\": \\\"1.19.0\\\"}\", \"_aml_system_scenario_identification\": \"Remote.Parent\", \"ClientType\": \"SDK\", \"environment_cpu_name\": \"AzureML-AutoML\", \"environment_cpu_label\": \"prod\", \"environment_gpu_name\": \"AzureML-AutoML-GPU\", \"environment_gpu_label\": \"prod\", \"root_attribution\": \"automl\", \"attribution\": \"AutoML\", \"Orchestrator\": \"AutoML\", \"CancelUri\": \"https://southcentralus.experiments.azureml.net/jasmine/v1.0/subscriptions/2c48c51c-bd47-40d4-abbe-fb8eabd19c8c/resourceGroups/aml-quickstarts-132965/providers/Microsoft.MachineLearningServices/workspaces/quick-starts-ws-132965/experimentids/af6fa584-997d-4d97-a719-f9b82684280f/cancel/AutoML_e4d55488-8866-412b-8c0c-e2b1d6adf5c1\", \"ClientSdkVersion\": \"1.19.0\", \"snapshotId\": \"00000000-0000-0000-0000-000000000000\", \"SetupRunId\": \"AutoML_e4d55488-8866-412b-8c0c-e2b1d6adf5c1_setup\", \"SetupRunContainerId\": \"dcid.AutoML_e4d55488-8866-412b-8c0c-e2b1d6adf5c1_setup\", \"FeaturizationRunJsonPath\": \"featurizer_container.json\", \"FeaturizationRunId\": \"AutoML_e4d55488-8866-412b-8c0c-e2b1d6adf5c1_featurize\", \"ProblemInfoJsonString\": \"{\\\"dataset_num_categorical\\\": 0, \\\"is_sparse\\\": false, \\\"subsampling\\\": false, \\\"dataset_classes\\\": 2, \\\"dataset_features\\\": 12, \\\"dataset_samples\\\": 239, \\\"single_frequency_class_detected\\\": false}\", \"ModelExplainRunId\": \"AutoML_e4d55488-8866-412b-8c0c-e2b1d6adf5c1_ModelExplain\"}, \"tags\": {\"model_explain_run\": \"best_run\", \"_aml_system_azureml.automlComponent\": \"AutoML\", \"pipeline_id\": \"\", \"score\": \"\", \"predicted_cost\": \"\", \"fit_time\": \"\", \"training_percent\": \"\", \"iteration\": \"\", \"run_preprocessor\": \"\", \"run_algorithm\": \"\", \"dynamic_whitelisting_iterations\": \"<25>;<30>;<35>;<40>;<45>;<50>;<55>;\", \"automl_best_child_run_id\": \"AutoML_e4d55488-8866-412b-8c0c-e2b1d6adf5c1_57\", \"model_explain_best_run_child_id\": \"AutoML_e4d55488-8866-412b-8c0c-e2b1d6adf5c1_57\"}, \"end_time_utc\": \"2021-01-02T16:02:35.977106Z\", \"status\": \"Completed\", \"log_files\": {}, \"log_groups\": [], \"run_duration\": \"0:24:55\"}, \"child_runs\": [{\"run_id\": \"AutoML_e4d55488-8866-412b-8c0c-e2b1d6adf5c1_0\", \"run_number\": 5, \"metric\": null, \"status\": \"Completed\", \"run_type\": \"azureml.scriptrun\", \"training_percent\": \"100\", \"start_time\": \"2021-01-02T15:42:27.444955Z\", \"end_time\": \"2021-01-02T15:43:31.293699Z\", \"created_time\": \"2021-01-02T15:42:14.851798Z\", \"created_time_dt\": \"2021-01-02T15:42:14.851798Z\", \"duration\": \"0:01:16\", \"iteration\": \"0\", \"goal\": \"AUC_weighted_max\", \"run_name\": \"MaxAbsScaler, LightGBM\", \"run_properties\": \"copy=True\", \"primary_metric\": 0.89008929, \"best_metric\": 0.89008929}, {\"run_id\": \"AutoML_e4d55488-8866-412b-8c0c-e2b1d6adf5c1_1\", \"run_number\": 6, \"metric\": null, \"status\": \"Completed\", \"run_type\": \"azureml.scriptrun\", \"training_percent\": \"100\", \"start_time\": \"2021-01-02T15:42:26.377349Z\", \"end_time\": \"2021-01-02T15:43:23.221648Z\", \"created_time\": \"2021-01-02T15:42:14.857995Z\", \"created_time_dt\": \"2021-01-02T15:42:14.857995Z\", \"duration\": \"0:01:08\", \"iteration\": \"1\", \"goal\": \"AUC_weighted_max\", \"run_name\": \"MaxAbsScaler, XGBoostClassifier\", \"run_properties\": \"copy=True\", \"primary_metric\": 0.88788938, \"best_metric\": 0.89008929}, {\"run_id\": \"AutoML_e4d55488-8866-412b-8c0c-e2b1d6adf5c1_2\", \"run_number\": 7, \"metric\": null, \"status\": \"Completed\", \"run_type\": \"azureml.scriptrun\", \"training_percent\": \"100\", \"start_time\": \"2021-01-02T15:42:25.148476Z\", \"end_time\": \"2021-01-02T15:43:24.477749Z\", \"created_time\": \"2021-01-02T15:42:14.865228Z\", \"created_time_dt\": \"2021-01-02T15:42:14.865228Z\", \"duration\": \"0:01:09\", \"iteration\": \"2\", \"goal\": \"AUC_weighted_max\", \"run_name\": \"MinMaxScaler, RandomForest\", \"run_properties\": \"copy=True, feature_range=(0, 1\", \"primary_metric\": 0.89768713, \"best_metric\": 0.89768713}, {\"run_id\": \"AutoML_e4d55488-8866-412b-8c0c-e2b1d6adf5c1_4\", \"run_number\": 8, \"metric\": null, \"status\": \"Completed\", \"run_type\": \"azureml.scriptrun\", \"training_percent\": \"100\", \"start_time\": \"2021-01-02T15:42:25.422963Z\", \"end_time\": \"2021-01-02T15:43:34.135293Z\", \"created_time\": \"2021-01-02T15:42:14.873086Z\", \"created_time_dt\": \"2021-01-02T15:42:14.873086Z\", \"duration\": \"0:01:19\", \"iteration\": \"4\", \"goal\": \"AUC_weighted_max\", \"run_name\": \"MinMaxScaler, RandomForest\", \"run_properties\": \"copy=True, feature_range=(0, 1\", \"primary_metric\": 0.88937004, \"best_metric\": 0.89768713}, {\"run_id\": \"AutoML_e4d55488-8866-412b-8c0c-e2b1d6adf5c1_3\", \"run_number\": 9, \"metric\": null, \"status\": \"Completed\", \"run_type\": \"azureml.scriptrun\", \"training_percent\": \"100\", \"start_time\": \"2021-01-02T15:42:25.215355Z\", \"end_time\": \"2021-01-02T15:43:27.745422Z\", \"created_time\": \"2021-01-02T15:42:14.902857Z\", \"created_time_dt\": \"2021-01-02T15:42:14.902857Z\", \"duration\": \"0:01:12\", \"iteration\": \"3\", \"goal\": \"AUC_weighted_max\", \"run_name\": \"RobustScaler, ExtremeRandomTrees\", \"run_properties\": \"copy=True, quantile_range=[10, 90], with_centering=False,\\n             with_scaling=False\", \"primary_metric\": 0.87768353, \"best_metric\": 0.89768713}, {\"run_id\": \"AutoML_e4d55488-8866-412b-8c0c-e2b1d6adf5c1_5\", \"run_number\": 10, \"metric\": null, \"status\": \"Completed\", \"run_type\": \"azureml.scriptrun\", \"training_percent\": \"100\", \"start_time\": \"2021-01-02T15:43:37.610953Z\", \"end_time\": \"2021-01-02T15:44:35.163487Z\", \"created_time\": \"2021-01-02T15:43:24.788432Z\", \"created_time_dt\": \"2021-01-02T15:43:24.788432Z\", \"duration\": \"0:01:10\", \"iteration\": \"5\", \"goal\": \"AUC_weighted_max\", \"run_name\": \"MinMaxScaler, RandomForest\", \"run_properties\": \"copy=True, feature_range=(0, 1\", \"primary_metric\": 0.87684524, \"best_metric\": 0.89768713}, {\"run_id\": \"AutoML_e4d55488-8866-412b-8c0c-e2b1d6adf5c1_6\", \"run_number\": 11, \"metric\": null, \"status\": \"Completed\", \"run_type\": \"azureml.scriptrun\", \"training_percent\": \"100\", \"start_time\": \"2021-01-02T15:43:45.627123Z\", \"end_time\": \"2021-01-02T15:44:43.347463Z\", \"created_time\": \"2021-01-02T15:43:30.853822Z\", \"created_time_dt\": \"2021-01-02T15:43:30.853822Z\", \"duration\": \"0:01:12\", \"iteration\": \"6\", \"goal\": \"AUC_weighted_max\", \"run_name\": \"StandardScalerWrapper, RandomForest\", \"run_properties\": \"<azureml.automl.runtime.shared.model_wrappers.StandardScalerWrapper object at 0x7f23369505f8\", \"primary_metric\": 0.88098008, \"best_metric\": 0.89768713}, {\"run_id\": \"AutoML_e4d55488-8866-412b-8c0c-e2b1d6adf5c1_7\", \"run_number\": 12, \"metric\": null, \"status\": \"Completed\", \"run_type\": \"azureml.scriptrun\", \"training_percent\": \"100\", \"start_time\": \"2021-01-02T15:43:43.01208Z\", \"end_time\": \"2021-01-02T15:45:25.090411Z\", \"created_time\": \"2021-01-02T15:43:30.873472Z\", \"created_time_dt\": \"2021-01-02T15:43:30.873472Z\", \"duration\": \"0:01:54\", \"iteration\": \"7\", \"goal\": \"AUC_weighted_max\", \"run_name\": \"MinMaxScaler, ExtremeRandomTrees\", \"run_properties\": \"copy=True, feature_range=(0, 1\", \"primary_metric\": 0.88134177, \"best_metric\": 0.89768713}, {\"run_id\": \"AutoML_e4d55488-8866-412b-8c0c-e2b1d6adf5c1_8\", \"run_number\": 13, \"metric\": null, \"status\": \"Completed\", \"run_type\": \"azureml.scriptrun\", \"training_percent\": \"100\", \"start_time\": \"2021-01-02T15:43:48.847364Z\", \"end_time\": \"2021-01-02T15:45:21.314537Z\", \"created_time\": \"2021-01-02T15:43:38.05295Z\", \"created_time_dt\": \"2021-01-02T15:43:38.05295Z\", \"duration\": \"0:01:43\", \"iteration\": \"8\", \"goal\": \"AUC_weighted_max\", \"run_name\": \"MinMaxScaler, ExtremeRandomTrees\", \"run_properties\": \"copy=True, feature_range=(0, 1\", \"primary_metric\": 0.86623429, \"best_metric\": 0.89768713}, {\"run_id\": \"AutoML_e4d55488-8866-412b-8c0c-e2b1d6adf5c1_9\", \"run_number\": 14, \"metric\": null, \"status\": \"Completed\", \"run_type\": \"azureml.scriptrun\", \"training_percent\": \"100\", \"start_time\": \"2021-01-02T15:43:49.621731Z\", \"end_time\": \"2021-01-02T15:45:19.263176Z\", \"created_time\": \"2021-01-02T15:43:38.061542Z\", \"created_time_dt\": \"2021-01-02T15:43:38.061542Z\", \"duration\": \"0:01:41\", \"iteration\": \"9\", \"goal\": \"AUC_weighted_max\", \"run_name\": \"SparseNormalizer, KNN\", \"run_properties\": \"<azureml.automl.runtime.shared.model_wrappers.SparseNormalizer object at 0x7fdb157b8ac8\", \"primary_metric\": 0.71834408, \"best_metric\": 0.89768713}, {\"run_id\": \"AutoML_e4d55488-8866-412b-8c0c-e2b1d6adf5c1_10\", \"run_number\": 15, \"metric\": null, \"status\": \"Completed\", \"run_type\": \"azureml.scriptrun\", \"training_percent\": \"100\", \"start_time\": \"2021-01-02T15:44:49.661658Z\", \"end_time\": \"2021-01-02T15:45:55.854197Z\", \"created_time\": \"2021-01-02T15:44:38.248054Z\", \"created_time_dt\": \"2021-01-02T15:44:38.248054Z\", \"duration\": \"0:01:17\", \"iteration\": \"10\", \"goal\": \"AUC_weighted_max\", \"run_name\": \"MinMaxScaler, ExtremeRandomTrees\", \"run_properties\": \"copy=True, feature_range=(0, 1\", \"primary_metric\": 0.85532655, \"best_metric\": 0.89768713}, {\"run_id\": \"AutoML_e4d55488-8866-412b-8c0c-e2b1d6adf5c1_11\", \"run_number\": 16, \"metric\": null, \"status\": \"Completed\", \"run_type\": \"azureml.scriptrun\", \"training_percent\": \"100\", \"start_time\": \"2021-01-02T15:44:59.961243Z\", \"end_time\": \"2021-01-02T15:46:34.805579Z\", \"created_time\": \"2021-01-02T15:44:46.741206Z\", \"created_time_dt\": \"2021-01-02T15:44:46.741206Z\", \"duration\": \"0:01:48\", \"iteration\": \"11\", \"goal\": \"AUC_weighted_max\", \"run_name\": \"RobustScaler, ExtremeRandomTrees\", \"run_properties\": \"copy=True, quantile_range=[10, 90], with_centering=True,\\n             with_scaling=False\", \"primary_metric\": 0.86290344, \"best_metric\": 0.89768713}, {\"run_id\": \"AutoML_e4d55488-8866-412b-8c0c-e2b1d6adf5c1_12\", \"run_number\": 17, \"metric\": null, \"status\": \"Completed\", \"run_type\": \"azureml.scriptrun\", \"training_percent\": \"100\", \"start_time\": \"2021-01-02T15:45:37.270319Z\", \"end_time\": \"2021-01-02T15:46:55.890145Z\", \"created_time\": \"2021-01-02T15:45:22.265676Z\", \"created_time_dt\": \"2021-01-02T15:45:22.265676Z\", \"duration\": \"0:01:33\", \"iteration\": \"12\", \"goal\": \"AUC_weighted_max\", \"run_name\": \"StandardScalerWrapper, RandomForest\", \"run_properties\": \"<azureml.automl.runtime.shared.model_wrappers.StandardScalerWrapper object at 0x7f465c5f2ef0\", \"primary_metric\": 0.89964368, \"best_metric\": 0.89964368}, {\"run_id\": \"AutoML_e4d55488-8866-412b-8c0c-e2b1d6adf5c1_13\", \"run_number\": 18, \"metric\": null, \"status\": \"Completed\", \"run_type\": \"azureml.scriptrun\", \"training_percent\": \"100\", \"start_time\": \"2021-01-02T15:45:38.685735Z\", \"end_time\": \"2021-01-02T15:46:54.201502Z\", \"created_time\": \"2021-01-02T15:45:27.409694Z\", \"created_time_dt\": \"2021-01-02T15:45:27.409694Z\", \"duration\": \"0:01:26\", \"iteration\": \"13\", \"goal\": \"AUC_weighted_max\", \"run_name\": \"StandardScalerWrapper, SGD\", \"run_properties\": \"<azureml.automl.runtime.shared.model_wrappers.StandardScalerWrapper object at 0x7f77695e6da0\", \"primary_metric\": 0.84656085, \"best_metric\": 0.89964368}, {\"run_id\": \"AutoML_e4d55488-8866-412b-8c0c-e2b1d6adf5c1_14\", \"run_number\": 19, \"metric\": null, \"status\": \"Completed\", \"run_type\": \"azureml.scriptrun\", \"training_percent\": \"100\", \"start_time\": \"2021-01-02T15:45:47.330192Z\", \"end_time\": \"2021-01-02T15:47:01.324459Z\", \"created_time\": \"2021-01-02T15:45:32.646327Z\", \"created_time_dt\": \"2021-01-02T15:45:32.646327Z\", \"duration\": \"0:01:28\", \"iteration\": \"14\", \"goal\": \"AUC_weighted_max\", \"run_name\": \"RobustScaler, RandomForest\", \"run_properties\": \"copy=True, quantile_range=[10, 90], with_centering=True,\\n             with_scaling=False\", \"primary_metric\": 0.86474289, \"best_metric\": 0.89964368}, {\"run_id\": \"AutoML_e4d55488-8866-412b-8c0c-e2b1d6adf5c1_15\", \"run_number\": 20, \"metric\": null, \"status\": \"Completed\", \"run_type\": \"azureml.scriptrun\", \"training_percent\": \"100\", \"start_time\": \"2021-01-02T15:46:11.971999Z\", \"end_time\": \"2021-01-02T15:47:27.62821Z\", \"created_time\": \"2021-01-02T15:46:00.23617Z\", \"created_time_dt\": \"2021-01-02T15:46:00.23617Z\", \"duration\": \"0:01:27\", \"iteration\": \"15\", \"goal\": \"AUC_weighted_max\", \"run_name\": \"StandardScalerWrapper, KNN\", \"run_properties\": \"<azureml.automl.runtime.shared.model_wrappers.StandardScalerWrapper object at 0x7efd98fc39e8\", \"primary_metric\": 0.58758681, \"best_metric\": 0.89964368}, {\"run_id\": \"AutoML_e4d55488-8866-412b-8c0c-e2b1d6adf5c1_16\", \"run_number\": 21, \"metric\": null, \"status\": \"Completed\", \"run_type\": \"azureml.scriptrun\", \"training_percent\": \"100\", \"start_time\": \"2021-01-02T15:46:50.369835Z\", \"end_time\": \"2021-01-02T15:48:28.81677Z\", \"created_time\": \"2021-01-02T15:46:37.723951Z\", \"created_time_dt\": \"2021-01-02T15:46:37.723951Z\", \"duration\": \"0:01:51\", \"iteration\": \"16\", \"goal\": \"AUC_weighted_max\", \"run_name\": \"MinMaxScaler, RandomForest\", \"run_properties\": \"copy=True, feature_range=(0, 1\", \"primary_metric\": 0.87414765, \"best_metric\": 0.89964368}, {\"run_id\": \"AutoML_e4d55488-8866-412b-8c0c-e2b1d6adf5c1_17\", \"run_number\": 22, \"metric\": null, \"status\": \"Completed\", \"run_type\": \"azureml.scriptrun\", \"training_percent\": \"100\", \"start_time\": \"2021-01-02T15:47:10.133411Z\", \"end_time\": \"2021-01-02T15:48:28.551668Z\", \"created_time\": \"2021-01-02T15:46:56.924274Z\", \"created_time_dt\": \"2021-01-02T15:46:56.924274Z\", \"duration\": \"0:01:31\", \"iteration\": \"17\", \"goal\": \"AUC_weighted_max\", \"run_name\": \"MinMaxScaler, ExtremeRandomTrees\", \"run_properties\": \"copy=True, feature_range=(0, 1\", \"primary_metric\": 0.82331763, \"best_metric\": 0.89964368}, {\"run_id\": \"AutoML_e4d55488-8866-412b-8c0c-e2b1d6adf5c1_18\", \"run_number\": 23, \"metric\": null, \"status\": \"Completed\", \"run_type\": \"azureml.scriptrun\", \"training_percent\": \"100\", \"start_time\": \"2021-01-02T15:47:15.519299Z\", \"end_time\": \"2021-01-02T15:48:30.280882Z\", \"created_time\": \"2021-01-02T15:47:02.445489Z\", \"created_time_dt\": \"2021-01-02T15:47:02.445489Z\", \"duration\": \"0:01:27\", \"iteration\": \"18\", \"goal\": \"AUC_weighted_max\", \"run_name\": \"MaxAbsScaler, RandomForest\", \"run_properties\": \"copy=True\", \"primary_metric\": 0.88274884, \"best_metric\": 0.89964368}, {\"run_id\": \"AutoML_e4d55488-8866-412b-8c0c-e2b1d6adf5c1_19\", \"run_number\": 24, \"metric\": null, \"status\": \"Completed\", \"run_type\": \"azureml.scriptrun\", \"training_percent\": \"100\", \"start_time\": \"2021-01-02T15:47:18.374058Z\", \"end_time\": \"2021-01-02T15:48:27.826284Z\", \"created_time\": \"2021-01-02T15:47:07.713119Z\", \"created_time_dt\": \"2021-01-02T15:47:07.713119Z\", \"duration\": \"0:01:20\", \"iteration\": \"19\", \"goal\": \"AUC_weighted_max\", \"run_name\": \"StandardScalerWrapper, XGBoostClassifier\", \"run_properties\": \"<azureml.automl.runtime.shared.model_wrappers.StandardScalerWrapper object at 0x7f1c046c2a90\", \"primary_metric\": 0.89263228, \"best_metric\": 0.89964368}, {\"run_id\": \"AutoML_e4d55488-8866-412b-8c0c-e2b1d6adf5c1_20\", \"run_number\": 25, \"metric\": null, \"status\": \"Completed\", \"run_type\": \"azureml.scriptrun\", \"training_percent\": \"100\", \"start_time\": \"2021-01-02T15:47:41.386473Z\", \"end_time\": \"2021-01-02T15:48:56.798017Z\", \"created_time\": \"2021-01-02T15:47:30.372128Z\", \"created_time_dt\": \"2021-01-02T15:47:30.372128Z\", \"duration\": \"0:01:26\", \"iteration\": \"20\", \"goal\": \"AUC_weighted_max\", \"run_name\": \"MaxAbsScaler, RandomForest\", \"run_properties\": \"copy=True\", \"primary_metric\": 0.86832837, \"best_metric\": 0.89964368}, {\"run_id\": \"AutoML_e4d55488-8866-412b-8c0c-e2b1d6adf5c1_21\", \"run_number\": 26, \"metric\": null, \"status\": \"Completed\", \"run_type\": \"azureml.scriptrun\", \"training_percent\": \"100\", \"start_time\": \"2021-01-02T15:48:42.776352Z\", \"end_time\": \"2021-01-02T15:49:58.199417Z\", \"created_time\": \"2021-01-02T15:48:31.620663Z\", \"created_time_dt\": \"2021-01-02T15:48:31.620663Z\", \"duration\": \"0:01:26\", \"iteration\": \"21\", \"goal\": \"AUC_weighted_max\", \"run_name\": \"MaxAbsScaler, ExtremeRandomTrees\", \"run_properties\": \"copy=True\", \"primary_metric\": 0.84150463, \"best_metric\": 0.89964368}, {\"run_id\": \"AutoML_e4d55488-8866-412b-8c0c-e2b1d6adf5c1_22\", \"run_number\": 27, \"metric\": null, \"status\": \"Completed\", \"run_type\": \"azureml.scriptrun\", \"training_percent\": \"100\", \"start_time\": \"2021-01-02T15:48:51.128149Z\", \"end_time\": \"2021-01-02T15:50:00.005053Z\", \"created_time\": \"2021-01-02T15:48:38.128344Z\", \"created_time_dt\": \"2021-01-02T15:48:38.128344Z\", \"duration\": \"0:01:21\", \"iteration\": \"22\", \"goal\": \"AUC_weighted_max\", \"run_name\": \"MaxAbsScaler, ExtremeRandomTrees\", \"run_properties\": \"copy=True\", \"primary_metric\": 0.85487351, \"best_metric\": 0.89964368}, {\"run_id\": \"AutoML_e4d55488-8866-412b-8c0c-e2b1d6adf5c1_23\", \"run_number\": 28, \"metric\": null, \"status\": \"Completed\", \"run_type\": \"azureml.scriptrun\", \"training_percent\": \"100\", \"start_time\": \"2021-01-02T15:48:51.024777Z\", \"end_time\": \"2021-01-02T15:50:05.731484Z\", \"created_time\": \"2021-01-02T15:48:38.157099Z\", \"created_time_dt\": \"2021-01-02T15:48:38.157099Z\", \"duration\": \"0:01:27\", \"iteration\": \"23\", \"goal\": \"AUC_weighted_max\", \"run_name\": \"MinMaxScaler, ExtremeRandomTrees\", \"run_properties\": \"copy=True, feature_range=(0, 1\", \"primary_metric\": 0.88558366, \"best_metric\": 0.89964368}, {\"run_id\": \"AutoML_e4d55488-8866-412b-8c0c-e2b1d6adf5c1_24\", \"run_number\": 29, \"metric\": null, \"status\": \"Completed\", \"run_type\": \"azureml.scriptrun\", \"training_percent\": \"100\", \"start_time\": \"2021-01-02T15:48:53.965223Z\", \"end_time\": \"2021-01-02T15:50:04.329753Z\", \"created_time\": \"2021-01-02T15:48:38.19789Z\", \"created_time_dt\": \"2021-01-02T15:48:38.19789Z\", \"duration\": \"0:01:26\", \"iteration\": \"24\", \"goal\": \"AUC_weighted_max\", \"run_name\": \"StandardScalerWrapper, XGBoostClassifier\", \"run_properties\": \"<azureml.automl.runtime.shared.model_wrappers.StandardScalerWrapper object at 0x7f8c77b435c0\", \"primary_metric\": 0.90065476, \"best_metric\": 0.90065476}, {\"run_id\": \"AutoML_e4d55488-8866-412b-8c0c-e2b1d6adf5c1_25\", \"run_number\": 30, \"metric\": null, \"status\": \"Completed\", \"run_type\": \"azureml.scriptrun\", \"training_percent\": \"100\", \"start_time\": \"2021-01-02T15:49:14.405982Z\", \"end_time\": \"2021-01-02T15:50:31.505847Z\", \"created_time\": \"2021-01-02T15:49:01.889489Z\", \"created_time_dt\": \"2021-01-02T15:49:01.889489Z\", \"duration\": \"0:01:29\", \"iteration\": \"25\", \"goal\": \"AUC_weighted_max\", \"run_name\": \"MinMaxScaler, RandomForest\", \"run_properties\": \"copy=True, feature_range=(0, 1\", \"primary_metric\": 0.90256242, \"best_metric\": 0.90256242}, {\"run_id\": \"AutoML_e4d55488-8866-412b-8c0c-e2b1d6adf5c1_26\", \"run_number\": 31, \"metric\": null, \"status\": \"Completed\", \"run_type\": \"azureml.scriptrun\", \"training_percent\": \"100\", \"start_time\": \"2021-01-02T15:50:12.703748Z\", \"end_time\": \"2021-01-02T15:51:28.002793Z\", \"created_time\": \"2021-01-02T15:50:00.25108Z\", \"created_time_dt\": \"2021-01-02T15:50:00.25108Z\", \"duration\": \"0:01:27\", \"iteration\": \"26\", \"goal\": \"AUC_weighted_max\", \"run_name\": \"MaxAbsScaler, ExtremeRandomTrees\", \"run_properties\": \"copy=True\", \"primary_metric\": 0.88543485, \"best_metric\": 0.90256242}, {\"run_id\": \"AutoML_e4d55488-8866-412b-8c0c-e2b1d6adf5c1_27\", \"run_number\": 32, \"metric\": null, \"status\": \"Completed\", \"run_type\": \"azureml.scriptrun\", \"training_percent\": \"100\", \"start_time\": \"2021-01-02T15:50:15.956863Z\", \"end_time\": \"2021-01-02T15:51:35.208516Z\", \"created_time\": \"2021-01-02T15:50:04.843082Z\", \"created_time_dt\": \"2021-01-02T15:50:04.843082Z\", \"duration\": \"0:01:30\", \"iteration\": \"27\", \"goal\": \"AUC_weighted_max\", \"run_name\": \"StandardScalerWrapper, LightGBM\", \"run_properties\": \"<azureml.automl.runtime.shared.model_wrappers.StandardScalerWrapper object at 0x7feef24f0550\", \"primary_metric\": 0.89322669, \"best_metric\": 0.90256242}, {\"run_id\": \"AutoML_e4d55488-8866-412b-8c0c-e2b1d6adf5c1_29\", \"run_number\": 33, \"metric\": null, \"status\": \"Completed\", \"run_type\": \"azureml.scriptrun\", \"training_percent\": \"100\", \"start_time\": \"2021-01-02T15:50:21.082207Z\", \"end_time\": \"2021-01-02T15:51:41.339161Z\", \"created_time\": \"2021-01-02T15:50:08.740476Z\", \"created_time_dt\": \"2021-01-02T15:50:08.740476Z\", \"duration\": \"0:01:32\", \"iteration\": \"29\", \"goal\": \"AUC_weighted_max\", \"run_name\": \"MinMaxScaler, RandomForest\", \"run_properties\": \"copy=True, feature_range=(0, 1\", \"primary_metric\": 0.91261657, \"best_metric\": 0.91261657}, {\"run_id\": \"AutoML_e4d55488-8866-412b-8c0c-e2b1d6adf5c1_28\", \"run_number\": 34, \"metric\": null, \"status\": \"Completed\", \"run_type\": \"azureml.scriptrun\", \"training_percent\": \"100\", \"start_time\": \"2021-01-02T15:50:21.176461Z\", \"end_time\": \"2021-01-02T15:51:30.099045Z\", \"created_time\": \"2021-01-02T15:50:08.742117Z\", \"created_time_dt\": \"2021-01-02T15:50:08.742117Z\", \"duration\": \"0:01:21\", \"iteration\": \"28\", \"goal\": \"AUC_weighted_max\", \"run_name\": \"RobustScaler, LightGBM\", \"run_properties\": \"copy=True, quantile_range=[10, 90], with_centering=True,\\n             with_scaling=True\", \"primary_metric\": 0.89983218, \"best_metric\": 0.90256242}, {\"run_id\": \"AutoML_e4d55488-8866-412b-8c0c-e2b1d6adf5c1_30\", \"run_number\": 35, \"metric\": null, \"status\": \"Completed\", \"run_type\": \"azureml.scriptrun\", \"training_percent\": \"100\", \"start_time\": \"2021-01-02T15:50:49.949814Z\", \"end_time\": \"2021-01-02T15:51:55.100778Z\", \"created_time\": \"2021-01-02T15:50:34.274891Z\", \"created_time_dt\": \"2021-01-02T15:50:34.274891Z\", \"duration\": \"0:01:20\", \"iteration\": \"30\", \"goal\": \"AUC_weighted_max\", \"run_name\": \"RobustScaler, RandomForest\", \"run_properties\": \"copy=True, quantile_range=[25, 75], with_centering=False,\\n             with_scaling=True\", \"primary_metric\": 0.77430556, \"best_metric\": 0.91261657}, {\"run_id\": \"AutoML_e4d55488-8866-412b-8c0c-e2b1d6adf5c1_31\", \"run_number\": 36, \"metric\": null, \"status\": \"Completed\", \"run_type\": \"azureml.scriptrun\", \"training_percent\": \"100\", \"start_time\": \"2021-01-02T15:51:46.772013Z\", \"end_time\": \"2021-01-02T15:52:56.098889Z\", \"created_time\": \"2021-01-02T15:51:29.729272Z\", \"created_time_dt\": \"2021-01-02T15:51:29.729272Z\", \"duration\": \"0:01:26\", \"iteration\": \"31\", \"goal\": \"AUC_weighted_max\", \"run_name\": \"StandardScalerWrapper, XGBoostClassifier\", \"run_properties\": \"<azureml.automl.runtime.shared.model_wrappers.StandardScalerWrapper object at 0x7f444d1e7780\", \"primary_metric\": 0.87980365, \"best_metric\": 0.91261657}, {\"run_id\": \"AutoML_e4d55488-8866-412b-8c0c-e2b1d6adf5c1_32\", \"run_number\": 37, \"metric\": null, \"status\": \"Completed\", \"run_type\": \"azureml.scriptrun\", \"training_percent\": \"100\", \"start_time\": \"2021-01-02T15:51:48.857259Z\", \"end_time\": \"2021-01-02T15:52:57.327017Z\", \"created_time\": \"2021-01-02T15:51:33.844602Z\", \"created_time_dt\": \"2021-01-02T15:51:33.844602Z\", \"duration\": \"0:01:23\", \"iteration\": \"32\", \"goal\": \"AUC_weighted_max\", \"run_name\": \"MaxAbsScaler, LightGBM\", \"run_properties\": \"copy=True\", \"primary_metric\": 0.89926009, \"best_metric\": 0.91261657}, {\"run_id\": \"AutoML_e4d55488-8866-412b-8c0c-e2b1d6adf5c1_33\", \"run_number\": 38, \"metric\": null, \"status\": \"Completed\", \"run_type\": \"azureml.scriptrun\", \"training_percent\": \"100\", \"start_time\": \"2021-01-02T15:51:51.987802Z\", \"end_time\": \"2021-01-02T15:52:59.057032Z\", \"created_time\": \"2021-01-02T15:51:37.799463Z\", \"created_time_dt\": \"2021-01-02T15:51:37.799463Z\", \"duration\": \"0:01:21\", \"iteration\": \"33\", \"goal\": \"AUC_weighted_max\", \"run_name\": \"StandardScalerWrapper, LightGBM\", \"run_properties\": \"<azureml.automl.runtime.shared.model_wrappers.StandardScalerWrapper object at 0x7fbee5e94390\", \"primary_metric\": 0.90909144, \"best_metric\": 0.91261657}, {\"run_id\": \"AutoML_e4d55488-8866-412b-8c0c-e2b1d6adf5c1_34\", \"run_number\": 39, \"metric\": null, \"status\": \"Completed\", \"run_type\": \"azureml.scriptrun\", \"training_percent\": \"100\", \"start_time\": \"2021-01-02T15:51:55.713323Z\", \"end_time\": \"2021-01-02T15:53:04.771678Z\", \"created_time\": \"2021-01-02T15:51:43.611863Z\", \"created_time_dt\": \"2021-01-02T15:51:43.611863Z\", \"duration\": \"0:01:21\", \"iteration\": \"34\", \"goal\": \"AUC_weighted_max\", \"run_name\": \"StandardScalerWrapper, XGBoostClassifier\", \"run_properties\": \"<azureml.automl.runtime.shared.model_wrappers.StandardScalerWrapper object at 0x7f911025d5c0\", \"primary_metric\": 0.88371941, \"best_metric\": 0.91261657}, {\"run_id\": \"AutoML_e4d55488-8866-412b-8c0c-e2b1d6adf5c1_35\", \"run_number\": 40, \"metric\": null, \"status\": \"Completed\", \"run_type\": \"azureml.scriptrun\", \"training_percent\": \"100\", \"start_time\": \"2021-01-02T15:52:10.148899Z\", \"end_time\": \"2021-01-02T15:53:17.439251Z\", \"created_time\": \"2021-01-02T15:51:57.936003Z\", \"created_time_dt\": \"2021-01-02T15:51:57.936003Z\", \"duration\": \"0:01:19\", \"iteration\": \"35\", \"goal\": \"AUC_weighted_max\", \"run_name\": \"TruncatedSVDWrapper, RandomForest\", \"run_properties\": \"n_components=0.3068421052631579, random_state=None\", \"primary_metric\": 0.72158565, \"best_metric\": 0.91261657}, {\"run_id\": \"AutoML_e4d55488-8866-412b-8c0c-e2b1d6adf5c1_36\", \"run_number\": 41, \"metric\": null, \"status\": \"Completed\", \"run_type\": \"azureml.scriptrun\", \"training_percent\": \"100\", \"start_time\": \"2021-01-02T15:53:09.922077Z\", \"end_time\": \"2021-01-02T15:54:19.057181Z\", \"created_time\": \"2021-01-02T15:52:57.962225Z\", \"created_time_dt\": \"2021-01-02T15:52:57.962225Z\", \"duration\": \"0:01:21\", \"iteration\": \"36\", \"goal\": \"AUC_weighted_max\", \"run_name\": \"MinMaxScaler, LightGBM\", \"run_properties\": \"copy=True, feature_range=(0, 1\", \"primary_metric\": 0.89914352, \"best_metric\": 0.91261657}, {\"run_id\": \"AutoML_e4d55488-8866-412b-8c0c-e2b1d6adf5c1_37\", \"run_number\": 42, \"metric\": null, \"status\": \"Completed\", \"run_type\": \"azureml.scriptrun\", \"training_percent\": \"100\", \"start_time\": \"2021-01-02T15:53:13.408918Z\", \"end_time\": \"2021-01-02T15:54:19.046774Z\", \"created_time\": \"2021-01-02T15:53:02.269896Z\", \"created_time_dt\": \"2021-01-02T15:53:02.269896Z\", \"duration\": \"0:01:16\", \"iteration\": \"37\", \"goal\": \"AUC_weighted_max\", \"run_name\": \"MinMaxScaler, GradientBoosting\", \"run_properties\": \"copy=True, feature_range=(0, 1\", \"primary_metric\": 0.90968833, \"best_metric\": 0.91261657}, {\"run_id\": \"AutoML_e4d55488-8866-412b-8c0c-e2b1d6adf5c1_38\", \"run_number\": 43, \"metric\": null, \"status\": \"Completed\", \"run_type\": \"azureml.scriptrun\", \"training_percent\": \"100\", \"start_time\": \"2021-01-02T15:53:14.682502Z\", \"end_time\": \"2021-01-02T15:54:21.762969Z\", \"created_time\": \"2021-01-02T15:53:02.337938Z\", \"created_time_dt\": \"2021-01-02T15:53:02.337938Z\", \"duration\": \"0:01:19\", \"iteration\": \"38\", \"goal\": \"AUC_weighted_max\", \"run_name\": \"MaxAbsScaler, GradientBoosting\", \"run_properties\": \"copy=True\", \"primary_metric\": 0.91007937, \"best_metric\": 0.91261657}, {\"run_id\": \"AutoML_e4d55488-8866-412b-8c0c-e2b1d6adf5c1_39\", \"run_number\": 44, \"metric\": null, \"status\": \"Completed\", \"run_type\": \"azureml.scriptrun\", \"training_percent\": \"100\", \"start_time\": \"2021-01-02T15:53:19.467569Z\", \"end_time\": \"2021-01-02T15:54:17.418136Z\", \"created_time\": \"2021-01-02T15:53:06.456709Z\", \"created_time_dt\": \"2021-01-02T15:53:06.456709Z\", \"duration\": \"0:01:10\", \"iteration\": \"39\", \"goal\": \"AUC_weighted_max\", \"run_name\": \"StandardScalerWrapper, SVM\", \"run_properties\": \"<azureml.automl.runtime.shared.model_wrappers.StandardScalerWrapper object at 0x7fe57c6bc6d8\", \"primary_metric\": 0.86133185, \"best_metric\": 0.91261657}, {\"run_id\": \"AutoML_e4d55488-8866-412b-8c0c-e2b1d6adf5c1_40\", \"run_number\": 45, \"metric\": null, \"status\": \"Completed\", \"run_type\": \"azureml.scriptrun\", \"training_percent\": \"100\", \"start_time\": \"2021-01-02T15:53:36.888059Z\", \"end_time\": \"2021-01-02T15:54:54.039439Z\", \"created_time\": \"2021-01-02T15:53:20.132056Z\", \"created_time_dt\": \"2021-01-02T15:53:20.132056Z\", \"duration\": \"0:01:33\", \"iteration\": \"40\", \"goal\": \"AUC_weighted_max\", \"run_name\": \"StandardScalerWrapper, RandomForest\", \"run_properties\": \"<azureml.automl.runtime.shared.model_wrappers.StandardScalerWrapper object at 0x7fa4d6027c18\", \"primary_metric\": 0.91333747, \"best_metric\": 0.91333747}, {\"run_id\": \"AutoML_e4d55488-8866-412b-8c0c-e2b1d6adf5c1_41\", \"run_number\": 46, \"metric\": null, \"status\": \"Completed\", \"run_type\": \"azureml.scriptrun\", \"training_percent\": \"100\", \"start_time\": \"2021-01-02T15:54:31.918343Z\", \"end_time\": \"2021-01-02T15:55:59.376451Z\", \"created_time\": \"2021-01-02T15:54:19.103107Z\", \"created_time_dt\": \"2021-01-02T15:54:19.103107Z\", \"duration\": \"0:01:40\", \"iteration\": \"41\", \"goal\": \"AUC_weighted_max\", \"run_name\": \"StandardScalerWrapper, GradientBoosting\", \"run_properties\": \"<azureml.automl.runtime.shared.model_wrappers.StandardScalerWrapper object at 0x7f5146a6b080\", \"primary_metric\": 0.90613178, \"best_metric\": 0.91333747}, {\"run_id\": \"AutoML_e4d55488-8866-412b-8c0c-e2b1d6adf5c1_42\", \"run_number\": 47, \"metric\": null, \"status\": \"Completed\", \"run_type\": \"azureml.scriptrun\", \"training_percent\": \"100\", \"start_time\": \"2021-01-02T15:54:36.517205Z\", \"end_time\": \"2021-01-02T15:55:59.272649Z\", \"created_time\": \"2021-01-02T15:54:23.933329Z\", \"created_time_dt\": \"2021-01-02T15:54:23.933329Z\", \"duration\": \"0:01:35\", \"iteration\": \"42\", \"goal\": \"AUC_weighted_max\", \"run_name\": \"StandardScalerWrapper, XGBoostClassifier\", \"run_properties\": \"<azureml.automl.runtime.shared.model_wrappers.StandardScalerWrapper object at 0x7f6498ef9240\", \"primary_metric\": 0.89004712, \"best_metric\": 0.91333747}, {\"run_id\": \"AutoML_e4d55488-8866-412b-8c0c-e2b1d6adf5c1_43\", \"run_number\": 48, \"metric\": null, \"status\": \"Completed\", \"run_type\": \"azureml.scriptrun\", \"training_percent\": \"100\", \"start_time\": \"2021-01-02T15:54:34.458583Z\", \"end_time\": \"2021-01-02T15:55:56.355945Z\", \"created_time\": \"2021-01-02T15:54:23.962845Z\", \"created_time_dt\": \"2021-01-02T15:54:23.962845Z\", \"duration\": \"0:01:32\", \"iteration\": \"43\", \"goal\": \"AUC_weighted_max\", \"run_name\": \"RobustScaler, ExtremeRandomTrees\", \"run_properties\": \"copy=True, quantile_range=[25, 75], with_centering=True,\\n             with_scaling=True\", \"primary_metric\": 0.89950645, \"best_metric\": 0.91333747}, {\"run_id\": \"AutoML_e4d55488-8866-412b-8c0c-e2b1d6adf5c1_44\", \"run_number\": 49, \"metric\": null, \"status\": \"Completed\", \"run_type\": \"azureml.scriptrun\", \"training_percent\": \"100\", \"start_time\": \"2021-01-02T15:54:36.396667Z\", \"end_time\": \"2021-01-02T15:56:00.608116Z\", \"created_time\": \"2021-01-02T15:54:24.002962Z\", \"created_time_dt\": \"2021-01-02T15:54:24.002962Z\", \"duration\": \"0:01:36\", \"iteration\": \"44\", \"goal\": \"AUC_weighted_max\", \"run_name\": \"RobustScaler, GradientBoosting\", \"run_properties\": \"copy=True, quantile_range=[25, 75], with_centering=True,\\n             with_scaling=True\", \"primary_metric\": 0.91168155, \"best_metric\": 0.91333747}, {\"run_id\": \"AutoML_e4d55488-8866-412b-8c0c-e2b1d6adf5c1_45\", \"run_number\": 50, \"metric\": null, \"status\": \"Completed\", \"run_type\": \"azureml.scriptrun\", \"training_percent\": \"100\", \"start_time\": \"2021-01-02T15:55:08.022632Z\", \"end_time\": \"2021-01-02T15:56:33.666562Z\", \"created_time\": \"2021-01-02T15:54:56.951835Z\", \"created_time_dt\": \"2021-01-02T15:54:56.951835Z\", \"duration\": \"0:01:36\", \"iteration\": \"45\", \"goal\": \"AUC_weighted_max\", \"run_name\": \"StandardScalerWrapper, RandomForest\", \"run_properties\": \"<azureml.automl.runtime.shared.model_wrappers.StandardScalerWrapper object at 0x7f5c981147f0\", \"primary_metric\": 0.78652819, \"best_metric\": 0.91333747}, {\"run_id\": \"AutoML_e4d55488-8866-412b-8c0c-e2b1d6adf5c1_46\", \"run_number\": 51, \"metric\": null, \"status\": \"Completed\", \"run_type\": \"azureml.scriptrun\", \"training_percent\": \"100\", \"start_time\": \"2021-01-02T15:56:14.303781Z\", \"end_time\": \"2021-01-02T15:57:32.000823Z\", \"created_time\": \"2021-01-02T15:55:58.436666Z\", \"created_time_dt\": \"2021-01-02T15:55:58.436666Z\", \"duration\": \"0:01:33\", \"iteration\": \"46\", \"goal\": \"AUC_weighted_max\", \"run_name\": \"RobustScaler, GradientBoosting\", \"run_properties\": \"copy=True, quantile_range=[25, 75], with_centering=False,\\n             with_scaling=True\", \"primary_metric\": 0.87382523, \"best_metric\": 0.91333747}, {\"run_id\": \"AutoML_e4d55488-8866-412b-8c0c-e2b1d6adf5c1_47\", \"run_number\": 52, \"metric\": null, \"status\": \"Completed\", \"run_type\": \"azureml.scriptrun\", \"training_percent\": \"100\", \"start_time\": \"2021-01-02T15:56:13.656849Z\", \"end_time\": \"2021-01-02T15:57:32.211166Z\", \"created_time\": \"2021-01-02T15:56:03.121816Z\", \"created_time_dt\": \"2021-01-02T15:56:03.121816Z\", \"duration\": \"0:01:29\", \"iteration\": \"47\", \"goal\": \"AUC_weighted_max\", \"run_name\": \"MinMaxScaler, GradientBoosting\", \"run_properties\": \"copy=True, feature_range=(0, 1\", \"primary_metric\": 0.90754134, \"best_metric\": 0.91333747}, {\"run_id\": \"AutoML_e4d55488-8866-412b-8c0c-e2b1d6adf5c1_48\", \"run_number\": 53, \"metric\": null, \"status\": \"Completed\", \"run_type\": \"azureml.scriptrun\", \"training_percent\": \"100\", \"start_time\": \"2021-01-02T15:56:15.967093Z\", \"end_time\": \"2021-01-02T15:57:29.546609Z\", \"created_time\": \"2021-01-02T15:56:03.129541Z\", \"created_time_dt\": \"2021-01-02T15:56:03.129541Z\", \"duration\": \"0:01:26\", \"iteration\": \"48\", \"goal\": \"AUC_weighted_max\", \"run_name\": \"StandardScalerWrapper, RandomForest\", \"run_properties\": \"<azureml.automl.runtime.shared.model_wrappers.StandardScalerWrapper object at 0x7f9b40316630\", \"primary_metric\": 0.91165427, \"best_metric\": 0.91333747}, {\"run_id\": \"AutoML_e4d55488-8866-412b-8c0c-e2b1d6adf5c1_49\", \"run_number\": 54, \"metric\": null, \"status\": \"Completed\", \"run_type\": \"azureml.scriptrun\", \"training_percent\": \"100\", \"start_time\": \"2021-01-02T15:56:13.416103Z\", \"end_time\": \"2021-01-02T15:57:31.924486Z\", \"created_time\": \"2021-01-02T15:56:03.162425Z\", \"created_time_dt\": \"2021-01-02T15:56:03.162425Z\", \"duration\": \"0:01:28\", \"iteration\": \"49\", \"goal\": \"AUC_weighted_max\", \"run_name\": \"RobustScaler, RandomForest\", \"run_properties\": \"copy=True, quantile_range=[25, 75], with_centering=True,\\n             with_scaling=False\", \"primary_metric\": 0.91213459, \"best_metric\": 0.91333747}, {\"run_id\": \"AutoML_e4d55488-8866-412b-8c0c-e2b1d6adf5c1_50\", \"run_number\": 55, \"metric\": null, \"status\": \"Completed\", \"run_type\": \"azureml.scriptrun\", \"training_percent\": \"100\", \"start_time\": \"2021-01-02T15:56:49.698523Z\", \"end_time\": \"2021-01-02T15:57:53.617671Z\", \"created_time\": \"2021-01-02T15:56:36.532968Z\", \"created_time_dt\": \"2021-01-02T15:56:36.532968Z\", \"duration\": \"0:01:17\", \"iteration\": \"50\", \"goal\": \"AUC_weighted_max\", \"run_name\": \"MinMaxScaler, RandomForest\", \"run_properties\": \"copy=True, feature_range=(0, 1\", \"primary_metric\": 0.90670304, \"best_metric\": 0.91333747}, {\"run_id\": \"AutoML_e4d55488-8866-412b-8c0c-e2b1d6adf5c1_51\", \"run_number\": 56, \"metric\": null, \"status\": \"Completed\", \"run_type\": \"azureml.scriptrun\", \"training_percent\": \"100\", \"start_time\": \"2021-01-02T15:57:45.770436Z\", \"end_time\": \"2021-01-02T15:58:59.040576Z\", \"created_time\": \"2021-01-02T15:57:31.41045Z\", \"created_time_dt\": \"2021-01-02T15:57:31.41045Z\", \"duration\": \"0:01:27\", \"iteration\": \"51\", \"goal\": \"AUC_weighted_max\", \"run_name\": \"StandardScalerWrapper, XGBoostClassifier\", \"run_properties\": \"<azureml.automl.runtime.shared.model_wrappers.StandardScalerWrapper object at 0x7f09a8366048\", \"primary_metric\": 0.89829902, \"best_metric\": 0.91333747}, {\"run_id\": \"AutoML_e4d55488-8866-412b-8c0c-e2b1d6adf5c1_52\", \"run_number\": 57, \"metric\": null, \"status\": \"Completed\", \"run_type\": \"azureml.scriptrun\", \"training_percent\": \"100\", \"start_time\": \"2021-01-02T15:57:46.4798Z\", \"end_time\": \"2021-01-02T15:58:58.421596Z\", \"created_time\": \"2021-01-02T15:57:35.710299Z\", \"created_time_dt\": \"2021-01-02T15:57:35.710299Z\", \"duration\": \"0:01:22\", \"iteration\": \"52\", \"goal\": \"AUC_weighted_max\", \"run_name\": \"MaxAbsScaler, LightGBM\", \"run_properties\": \"copy=True\", \"primary_metric\": 0.90094825, \"best_metric\": 0.91333747}, {\"run_id\": \"AutoML_e4d55488-8866-412b-8c0c-e2b1d6adf5c1_54\", \"run_number\": 58, \"metric\": null, \"status\": \"Completed\", \"run_type\": \"azureml.scriptrun\", \"training_percent\": \"100\", \"start_time\": \"2021-01-02T15:57:45.766249Z\", \"end_time\": \"2021-01-02T15:58:57.765743Z\", \"created_time\": \"2021-01-02T15:57:35.714023Z\", \"created_time_dt\": \"2021-01-02T15:57:35.714023Z\", \"duration\": \"0:01:22\", \"iteration\": \"54\", \"goal\": \"AUC_weighted_max\", \"run_name\": \"StandardScalerWrapper, XGBoostClassifier\", \"run_properties\": \"<azureml.automl.runtime.shared.model_wrappers.StandardScalerWrapper object at 0x7f2d8ffb6668\", \"primary_metric\": 0.89382606, \"best_metric\": 0.91333747}, {\"run_id\": \"AutoML_e4d55488-8866-412b-8c0c-e2b1d6adf5c1_53\", \"run_number\": 59, \"metric\": null, \"status\": \"Completed\", \"run_type\": \"azureml.scriptrun\", \"training_percent\": \"100\", \"start_time\": \"2021-01-02T15:57:49.770126Z\", \"end_time\": \"2021-01-02T15:58:57.021426Z\", \"created_time\": \"2021-01-02T15:57:35.746745Z\", \"created_time_dt\": \"2021-01-02T15:57:35.746745Z\", \"duration\": \"0:01:21\", \"iteration\": \"53\", \"goal\": \"AUC_weighted_max\", \"run_name\": \"MaxAbsScaler, LightGBM\", \"run_properties\": \"copy=True\", \"primary_metric\": 0.89749587, \"best_metric\": 0.91333747}, {\"run_id\": \"AutoML_e4d55488-8866-412b-8c0c-e2b1d6adf5c1_55\", \"run_number\": 60, \"metric\": null, \"status\": \"Canceled\", \"run_type\": \"azureml.scriptrun\", \"training_percent\": \"100\", \"start_time\": \"2021-01-02T15:58:09.30713Z\", \"end_time\": \"2021-01-02T15:59:09.693469Z\", \"created_time\": \"2021-01-02T15:57:56.342768Z\", \"created_time_dt\": \"2021-01-02T15:57:56.342768Z\", \"duration\": \"0:01:13\", \"iteration\": \"55\", \"goal\": \"AUC_weighted_max\", \"run_name\": \"StandardScalerWrapper, RandomForest\", \"run_properties\": \"<azureml.automl.runtime.shared.model_wrappers.StandardScalerWrapper object at 0x7f76351cf1d0\", \"primary_metric\": 0.84632812, \"best_metric\": 0.91333747}, {\"run_id\": \"AutoML_e4d55488-8866-412b-8c0c-e2b1d6adf5c1_56\", \"run_number\": 61, \"metric\": null, \"status\": \"Canceled\", \"run_type\": \"azureml.scriptrun\", \"training_percent\": \"100\", \"start_time\": \"2021-01-02T15:58:58.803547Z\", \"end_time\": \"2021-01-02T15:59:16.53454Z\", \"created_time\": \"2021-01-02T15:58:58.803547Z\", \"created_time_dt\": \"2021-01-02T15:58:58.803547Z\", \"duration\": \"0:00:17\", \"iteration\": \"56\", \"goal\": null, \"run_name\": \"Canceled\", \"run_properties\": null}, {\"run_id\": \"AutoML_e4d55488-8866-412b-8c0c-e2b1d6adf5c1_57\", \"run_number\": 62, \"metric\": null, \"status\": \"Completed\", \"run_type\": \"azureml.scriptrun\", \"training_percent\": \"100\", \"start_time\": \"2021-01-02T15:59:27.588926Z\", \"end_time\": \"2021-01-02T16:02:22.980396Z\", \"created_time\": \"2021-01-02T15:59:17.37625Z\", \"created_time_dt\": \"2021-01-02T15:59:17.37625Z\", \"duration\": \"0:03:05\", \"iteration\": \"57\", \"goal\": \"AUC_weighted_max\", \"run_name\": \"VotingEnsemble\", \"run_properties\": \"classification_labels=None,\\n                              estimators=[('40',\\n                                           Pipeline(memory=None,\\n                                                    steps=[('standardscalerwrapper',\\n                                                            <azureml.automl.runtime.shared.model_wrappers.StandardScalerWrapper object at 0x7fd90c693f98>\", \"primary_metric\": 0.92475529, \"best_metric\": 0.92475529}, {\"run_id\": \"AutoML_e4d55488-8866-412b-8c0c-e2b1d6adf5c1_58\", \"run_number\": 63, \"metric\": null, \"status\": \"Completed\", \"run_type\": \"azureml.scriptrun\", \"training_percent\": \"100\", \"start_time\": \"2021-01-02T15:59:27.956009Z\", \"end_time\": \"2021-01-02T16:02:24.453282Z\", \"created_time\": \"2021-01-02T15:59:17.376757Z\", \"created_time_dt\": \"2021-01-02T15:59:17.376757Z\", \"duration\": \"0:03:07\", \"iteration\": \"58\", \"goal\": \"AUC_weighted_max\", \"run_name\": \"StackEnsemble\", \"run_properties\": \"base_learners=[('40',\\n                                        Pipeline(memory=None,\\n                                                 steps=[('standardscalerwrapper',\\n                                                         <azureml.automl.runtime.shared.model_wrappers.StandardScalerWrapper object at 0x7fb40e157ef0>\", \"primary_metric\": 0.91856895, \"best_metric\": 0.92475529}], \"children_metrics\": {\"categories\": [0], \"series\": {\"accuracy\": [{\"categories\": [\"0\", \"1\", \"2\", \"3\", \"4\", \"5\", \"6\", \"7\", \"8\", \"9\", \"10\", \"11\", \"12\", \"13\", \"14\", \"15\", \"16\", \"17\", \"18\", \"19\", \"20\", \"21\", \"22\", \"23\", \"24\", \"25\", \"26\", \"27\", \"28\", \"29\", \"30\", \"31\", \"32\", \"33\", \"34\", \"35\", \"36\", \"37\", \"38\", \"39\", \"40\", \"41\", \"42\", \"43\", \"44\", \"45\", \"46\", \"47\", \"48\", \"49\", \"50\", \"51\", \"52\", \"53\", \"54\", \"55\", \"57\", \"58\"], \"mode\": \"markers\", \"name\": \"accuracy\", \"stepped\": false, \"type\": \"scatter\", \"data\": [0.803623188405797, 0.8327898550724638, 0.8407608695652173, 0.7619565217391305, 0.8327898550724638, 0.8286231884057971, 0.8074275362318841, 0.8413043478260869, 0.7780797101449275, 0.7244565217391306, 0.745108695652174, 0.8202898550724637, 0.8242753623188405, 0.7865942028985506, 0.7913043478260869, 0.6237318840579709, 0.7911231884057972, 0.7742753623188406, 0.8159420289855073, 0.8409420289855072, 0.7784420289855072, 0.7744565217391305, 0.7994565217391305, 0.8288043478260869, 0.841123188405797, 0.803623188405797, 0.8117753623188406, 0.7951086956521738, 0.7697463768115942, 0.8369565217391305, 0.7242753623188405, 0.8534420289855073, 0.8077898550724637, 0.8369565217391305, 0.8119565217391305, 0.6905797101449275, 0.8286231884057971, 0.841123188405797, 0.8244565217391304, 0.8079710144927535, 0.8409420289855072, 0.8246376811594203, 0.8202898550724639, 0.8452898550724637, 0.8327898550724638, 0.694927536231884, 0.7994565217391304, 0.8327898550724637, 0.8409420289855072, 0.8244565217391304, 0.8202898550724639, 0.8409420289855072, 0.8244565217391304, 0.7784420289855072, 0.8327898550724637, 0.7951086956521739, 0.8494565217391304, 0.6570652173913043]}, {\"categories\": [\"0\", \"1\", \"2\", \"3\", \"4\", \"5\", \"6\", \"7\", \"8\", \"9\", \"10\", \"11\", \"12\", \"13\", \"14\", \"15\", \"16\", \"17\", \"18\", \"19\", \"20\", \"21\", \"22\", \"23\", \"24\", \"25\", \"26\", \"27\", \"28\", \"29\", \"30\", \"31\", \"32\", \"33\", \"34\", \"35\", \"36\", \"37\", \"38\", \"39\", \"40\", \"41\", \"42\", \"43\", \"44\", \"45\", \"46\", \"47\", \"48\", \"49\", \"50\", \"51\", \"52\", \"53\", \"54\", \"55\", \"57\", \"58\"], \"mode\": \"lines\", \"name\": \"accuracy_max\", \"stepped\": true, \"type\": \"scatter\", \"data\": [0.803623188405797, 0.8327898550724638, 0.8407608695652173, 0.8407608695652173, 0.8407608695652173, 0.8407608695652173, 0.8407608695652173, 0.8413043478260869, 0.8413043478260869, 0.8413043478260869, 0.8413043478260869, 0.8413043478260869, 0.8413043478260869, 0.8413043478260869, 0.8413043478260869, 0.8413043478260869, 0.8413043478260869, 0.8413043478260869, 0.8413043478260869, 0.8413043478260869, 0.8413043478260869, 0.8413043478260869, 0.8413043478260869, 0.8413043478260869, 0.8413043478260869, 0.8413043478260869, 0.8413043478260869, 0.8413043478260869, 0.8413043478260869, 0.8413043478260869, 0.8413043478260869, 0.8534420289855073, 0.8534420289855073, 0.8534420289855073, 0.8534420289855073, 0.8534420289855073, 0.8534420289855073, 0.8534420289855073, 0.8534420289855073, 0.8534420289855073, 0.8534420289855073, 0.8534420289855073, 0.8534420289855073, 0.8534420289855073, 0.8534420289855073, 0.8534420289855073, 0.8534420289855073, 0.8534420289855073, 0.8534420289855073, 0.8534420289855073, 0.8534420289855073, 0.8534420289855073, 0.8534420289855073, 0.8534420289855073, 0.8534420289855073, 0.8534420289855073, 0.8534420289855073, 0.8534420289855073]}], \"balanced_accuracy\": [{\"categories\": [\"0\", \"1\", \"2\", \"3\", \"4\", \"5\", \"6\", \"7\", \"8\", \"9\", \"10\", \"11\", \"12\", \"13\", \"14\", \"15\", \"16\", \"17\", \"18\", \"19\", \"20\", \"21\", \"22\", \"23\", \"24\", \"25\", \"26\", \"27\", \"28\", \"29\", \"30\", \"31\", \"32\", \"33\", \"34\", \"35\", \"36\", \"37\", \"38\", \"39\", \"40\", \"41\", \"42\", \"43\", \"44\", \"45\", \"46\", \"47\", \"48\", \"49\", \"50\", \"51\", \"52\", \"53\", \"54\", \"55\", \"57\", \"58\"], \"mode\": \"markers\", \"name\": \"balanced_accuracy\", \"stepped\": false, \"type\": \"scatter\", \"data\": [0.7736210317460317, 0.8073313492063491, 0.8164781746031746, 0.6805059523809524, 0.8179662698412699, 0.7827678571428571, 0.7809623015873017, 0.801954365079365, 0.699563492063492, 0.6502579365079365, 0.6605853174603175, 0.7659920634920635, 0.8231547619047619, 0.7480853174603175, 0.7841865079365079, 0.5407142857142857, 0.7157142857142856, 0.7643353174603175, 0.8187698412698413, 0.8146031746031746, 0.7402777777777778, 0.7626289682539682, 0.774454365079365, 0.8102876984126984, 0.8228968253968254, 0.801438492063492, 0.7944246031746032, 0.7243253968253969, 0.6871130952380953, 0.8291865079365079, 0.6974305555555557, 0.8187698412698413, 0.7765376984126984, 0.8090674603174604, 0.7816071428571428, 0.5558234126984127, 0.8067162698412698, 0.8194246031746031, 0.8071726190476192, 0.7691567460317461, 0.7984920634920636, 0.7937599206349206, 0.7958829365079365, 0.8030753968253969, 0.8050793650793651, 0.7017162698412698, 0.7688392857142857, 0.8103968253968254, 0.8127281746031745, 0.8198511904761905, 0.8165873015873016, 0.799047619047619, 0.7994246031746032, 0.6905059523809524, 0.7987996031746032, 0.7265476190476191, 0.8236507936507937, 0.5]}, {\"categories\": [\"0\", \"1\", \"2\", \"3\", \"4\", \"5\", \"6\", \"7\", \"8\", \"9\", \"10\", \"11\", \"12\", \"13\", \"14\", \"15\", \"16\", \"17\", \"18\", \"19\", \"20\", \"21\", \"22\", \"23\", \"24\", \"25\", \"26\", \"27\", \"28\", \"29\", \"30\", \"31\", \"32\", \"33\", \"34\", \"35\", \"36\", \"37\", \"38\", \"39\", \"40\", \"41\", \"42\", \"43\", \"44\", \"45\", \"46\", \"47\", \"48\", \"49\", \"50\", \"51\", \"52\", \"53\", \"54\", \"55\", \"57\", \"58\"], \"mode\": \"lines\", \"name\": \"balanced_accuracy_max\", \"stepped\": true, \"type\": \"scatter\", \"data\": [0.7736210317460317, 0.8073313492063491, 0.8164781746031746, 0.8164781746031746, 0.8179662698412699, 0.8179662698412699, 0.8179662698412699, 0.8179662698412699, 0.8179662698412699, 0.8179662698412699, 0.8179662698412699, 0.8179662698412699, 0.8231547619047619, 0.8231547619047619, 0.8231547619047619, 0.8231547619047619, 0.8231547619047619, 0.8231547619047619, 0.8231547619047619, 0.8231547619047619, 0.8231547619047619, 0.8231547619047619, 0.8231547619047619, 0.8231547619047619, 0.8231547619047619, 0.8231547619047619, 0.8231547619047619, 0.8231547619047619, 0.8231547619047619, 0.8291865079365079, 0.8291865079365079, 0.8291865079365079, 0.8291865079365079, 0.8291865079365079, 0.8291865079365079, 0.8291865079365079, 0.8291865079365079, 0.8291865079365079, 0.8291865079365079, 0.8291865079365079, 0.8291865079365079, 0.8291865079365079, 0.8291865079365079, 0.8291865079365079, 0.8291865079365079, 0.8291865079365079, 0.8291865079365079, 0.8291865079365079, 0.8291865079365079, 0.8291865079365079, 0.8291865079365079, 0.8291865079365079, 0.8291865079365079, 0.8291865079365079, 0.8291865079365079, 0.8291865079365079, 0.8291865079365079, 0.8291865079365079]}], \"norm_macro_recall\": [{\"categories\": [\"0\", \"1\", \"2\", \"3\", \"4\", \"5\", \"6\", \"7\", \"8\", \"9\", \"10\", \"11\", \"12\", \"13\", \"14\", \"15\", \"16\", \"17\", \"18\", \"19\", \"20\", \"21\", \"22\", \"23\", \"24\", \"25\", \"26\", \"27\", \"28\", \"29\", \"30\", \"31\", \"32\", \"33\", \"34\", \"35\", \"36\", \"37\", \"38\", \"39\", \"40\", \"41\", \"42\", \"43\", \"44\", \"45\", \"46\", \"47\", \"48\", \"49\", \"50\", \"51\", \"52\", \"53\", \"54\", \"55\", \"57\", \"58\"], \"mode\": \"markers\", \"name\": \"norm_macro_recall\", \"stepped\": false, \"type\": \"scatter\", \"data\": [0.5472420634920635, 0.6146626984126984, 0.6329563492063492, 0.3610119047619048, 0.6359325396825397, 0.5655357142857141, 0.5619246031746032, 0.6039087301587301, 0.39912698412698405, 0.30051587301587296, 0.32117063492063486, 0.531984126984127, 0.6463095238095239, 0.49617063492063485, 0.5683730158730158, 0.11482142857142852, 0.4314285714285714, 0.5286706349206349, 0.6375396825396825, 0.6292063492063493, 0.4805555555555555, 0.5252579365079366, 0.5489087301587302, 0.6205753968253969, 0.6457936507936507, 0.6028769841269842, 0.5888492063492063, 0.44865079365079363, 0.37422619047619043, 0.6583730158730159, 0.3948611111111111, 0.6375396825396826, 0.5530753968253967, 0.6181349206349206, 0.5632142857142857, 0.11164682539682538, 0.6134325396825396, 0.6388492063492063, 0.6143452380952381, 0.5383134920634921, 0.596984126984127, 0.5875198412698414, 0.591765873015873, 0.6061507936507937, 0.6101587301587301, 0.40343253968253967, 0.5376785714285715, 0.6207936507936508, 0.6254563492063493, 0.6397023809523811, 0.6331746031746031, 0.5980952380952381, 0.5988492063492064, 0.3810119047619048, 0.5975992063492063, 0.4530952380952381, 0.6473015873015873, 0.0]}, {\"categories\": [\"0\", \"1\", \"2\", \"3\", \"4\", \"5\", \"6\", \"7\", \"8\", \"9\", \"10\", \"11\", \"12\", \"13\", \"14\", \"15\", \"16\", \"17\", \"18\", \"19\", \"20\", \"21\", \"22\", \"23\", \"24\", \"25\", \"26\", \"27\", \"28\", \"29\", \"30\", \"31\", \"32\", \"33\", \"34\", \"35\", \"36\", \"37\", \"38\", \"39\", \"40\", \"41\", \"42\", \"43\", \"44\", \"45\", \"46\", \"47\", \"48\", \"49\", \"50\", \"51\", \"52\", \"53\", \"54\", \"55\", \"57\", \"58\"], \"mode\": \"lines\", \"name\": \"norm_macro_recall_max\", \"stepped\": true, \"type\": \"scatter\", \"data\": [0.5472420634920635, 0.6146626984126984, 0.6329563492063492, 0.6329563492063492, 0.6359325396825397, 0.6359325396825397, 0.6359325396825397, 0.6359325396825397, 0.6359325396825397, 0.6359325396825397, 0.6359325396825397, 0.6359325396825397, 0.6463095238095239, 0.6463095238095239, 0.6463095238095239, 0.6463095238095239, 0.6463095238095239, 0.6463095238095239, 0.6463095238095239, 0.6463095238095239, 0.6463095238095239, 0.6463095238095239, 0.6463095238095239, 0.6463095238095239, 0.6463095238095239, 0.6463095238095239, 0.6463095238095239, 0.6463095238095239, 0.6463095238095239, 0.6583730158730159, 0.6583730158730159, 0.6583730158730159, 0.6583730158730159, 0.6583730158730159, 0.6583730158730159, 0.6583730158730159, 0.6583730158730159, 0.6583730158730159, 0.6583730158730159, 0.6583730158730159, 0.6583730158730159, 0.6583730158730159, 0.6583730158730159, 0.6583730158730159, 0.6583730158730159, 0.6583730158730159, 0.6583730158730159, 0.6583730158730159, 0.6583730158730159, 0.6583730158730159, 0.6583730158730159, 0.6583730158730159, 0.6583730158730159, 0.6583730158730159, 0.6583730158730159, 0.6583730158730159, 0.6583730158730159, 0.6583730158730159]}], \"average_precision_score_macro\": [{\"categories\": [\"0\", \"1\", \"2\", \"3\", \"4\", \"5\", \"6\", \"7\", \"8\", \"9\", \"10\", \"11\", \"12\", \"13\", \"14\", \"15\", \"16\", \"17\", \"18\", \"19\", \"20\", \"21\", \"22\", \"23\", \"24\", \"25\", \"26\", \"27\", \"28\", \"29\", \"30\", \"31\", \"32\", \"33\", \"34\", \"35\", \"36\", \"37\", \"38\", \"39\", \"40\", \"41\", \"42\", \"43\", \"44\", \"45\", \"46\", \"47\", \"48\", \"49\", \"50\", \"51\", \"52\", \"53\", \"54\", \"55\", \"57\", \"58\"], \"mode\": \"markers\", \"name\": \"average_precision_score_macro\", \"stepped\": false, \"type\": \"scatter\", \"data\": [0.8734810462911631, 0.8810761649352858, 0.8910401854117251, 0.8789958199236476, 0.8804504947288694, 0.8678719513483018, 0.8601267604232354, 0.8768936024838222, 0.8682533274093893, 0.7454483439021045, 0.858044830662763, 0.8696298146844889, 0.894017453484631, 0.846321702390424, 0.8552096723452103, 0.6303247521818182, 0.8685384995209589, 0.8295304450655527, 0.881161039031839, 0.8877463769846772, 0.8590375081094882, 0.8436784144482943, 0.8435736765433125, 0.8754643420528214, 0.883703379624173, 0.8996951722173963, 0.8813054234735921, 0.8860731117472236, 0.8939719364430637, 0.9096032283505266, 0.746495722213816, 0.863317253202031, 0.8895348397828574, 0.8983169987862064, 0.8744933160047509, 0.7266907688454562, 0.8907885938361444, 0.9042330632458034, 0.9041339536650428, 0.865814556815554, 0.906167906146085, 0.9013810201090907, 0.8776976689722851, 0.8948430938887484, 0.9032660799500111, 0.7507088445314661, 0.8703807659243271, 0.898282280972499, 0.9066025417114254, 0.9066485688926514, 0.9046752267503295, 0.896715900291434, 0.8910933442488727, 0.8867643187975307, 0.8868420673739799, 0.8170851616666338, 0.9200459730574471, 0.9144719150291918]}, {\"categories\": [\"0\", \"1\", \"2\", \"3\", \"4\", \"5\", \"6\", \"7\", \"8\", \"9\", \"10\", \"11\", \"12\", \"13\", \"14\", \"15\", \"16\", \"17\", \"18\", \"19\", \"20\", \"21\", \"22\", \"23\", \"24\", \"25\", \"26\", \"27\", \"28\", \"29\", \"30\", \"31\", \"32\", \"33\", \"34\", \"35\", \"36\", \"37\", \"38\", \"39\", \"40\", \"41\", \"42\", \"43\", \"44\", \"45\", \"46\", \"47\", \"48\", \"49\", \"50\", \"51\", \"52\", \"53\", \"54\", \"55\", \"57\", \"58\"], \"mode\": \"lines\", \"name\": \"average_precision_score_macro_max\", \"stepped\": true, \"type\": \"scatter\", \"data\": [0.8734810462911631, 0.8810761649352858, 0.8910401854117251, 0.8910401854117251, 0.8910401854117251, 0.8910401854117251, 0.8910401854117251, 0.8910401854117251, 0.8910401854117251, 0.8910401854117251, 0.8910401854117251, 0.8910401854117251, 0.894017453484631, 0.894017453484631, 0.894017453484631, 0.894017453484631, 0.894017453484631, 0.894017453484631, 0.894017453484631, 0.894017453484631, 0.894017453484631, 0.894017453484631, 0.894017453484631, 0.894017453484631, 0.894017453484631, 0.8996951722173963, 0.8996951722173963, 0.8996951722173963, 0.8996951722173963, 0.9096032283505266, 0.9096032283505266, 0.9096032283505266, 0.9096032283505266, 0.9096032283505266, 0.9096032283505266, 0.9096032283505266, 0.9096032283505266, 0.9096032283505266, 0.9096032283505266, 0.9096032283505266, 0.9096032283505266, 0.9096032283505266, 0.9096032283505266, 0.9096032283505266, 0.9096032283505266, 0.9096032283505266, 0.9096032283505266, 0.9096032283505266, 0.9096032283505266, 0.9096032283505266, 0.9096032283505266, 0.9096032283505266, 0.9096032283505266, 0.9096032283505266, 0.9096032283505266, 0.9096032283505266, 0.9200459730574471, 0.9200459730574471]}], \"weighted_accuracy\": [{\"categories\": [\"0\", \"1\", \"2\", \"3\", \"4\", \"5\", \"6\", \"7\", \"8\", \"9\", \"10\", \"11\", \"12\", \"13\", \"14\", \"15\", \"16\", \"17\", \"18\", \"19\", \"20\", \"21\", \"22\", \"23\", \"24\", \"25\", \"26\", \"27\", \"28\", \"29\", \"30\", \"31\", \"32\", \"33\", \"34\", \"35\", \"36\", \"37\", \"38\", \"39\", \"40\", \"41\", \"42\", \"43\", \"44\", \"45\", \"46\", \"47\", \"48\", \"49\", \"50\", \"51\", \"52\", \"53\", \"54\", \"55\", \"57\", \"58\"], \"mode\": \"markers\", \"name\": \"weighted_accuracy\", \"stepped\": false, \"type\": \"scatter\", \"data\": [0.8281719400210239, 0.8530407794486867, 0.8589483914966076, 0.8236430017288262, 0.8439204826813314, 0.8612340474515017, 0.826771655937519, 0.8724947874586254, 0.8387185401409123, 0.7809592162075287, 0.8100363140382427, 0.8626506858835692, 0.8241833250801429, 0.8157833146550602, 0.7969896487615871, 0.6877134970071325, 0.8482958899111261, 0.7833291633002337, 0.8152842789752144, 0.8608159147575734, 0.8072759041587393, 0.7839748017062387, 0.8199326713405787, 0.843017735672027, 0.8553420513087822, 0.8052970062637372, 0.8251981634479224, 0.849475531462031, 0.832424743933905, 0.8424750666770917, 0.7464098186904359, 0.8790595272224973, 0.8312601753151416, 0.8589231323898634, 0.8365542929622004, 0.7912440815936478, 0.8454400905244686, 0.8578420513087822, 0.8377731588869486, 0.8371291276812011, 0.8730791350656346, 0.8485158808760545, 0.8386382887226667, 0.8774506328893986, 0.8540542929622005, 0.6889156393616374, 0.8225770804555761, 0.8500028886166783, 0.862437536379195, 0.8274021996924601, 0.8231904879807483, 0.8726419331578444, 0.8443285377952687, 0.8448226432797311, 0.8585773454264294, 0.8480049432267368, 0.8693643088604516, 0.7769550939560583]}, {\"categories\": [\"0\", \"1\", \"2\", \"3\", \"4\", \"5\", \"6\", \"7\", \"8\", \"9\", \"10\", \"11\", \"12\", \"13\", \"14\", \"15\", \"16\", \"17\", \"18\", \"19\", \"20\", \"21\", \"22\", \"23\", \"24\", \"25\", \"26\", \"27\", \"28\", \"29\", \"30\", \"31\", \"32\", \"33\", \"34\", \"35\", \"36\", \"37\", \"38\", \"39\", \"40\", \"41\", \"42\", \"43\", \"44\", \"45\", \"46\", \"47\", \"48\", \"49\", \"50\", \"51\", \"52\", \"53\", \"54\", \"55\", \"57\", \"58\"], \"mode\": \"lines\", \"name\": \"weighted_accuracy_max\", \"stepped\": true, \"type\": \"scatter\", \"data\": [0.8281719400210239, 0.8530407794486867, 0.8589483914966076, 0.8589483914966076, 0.8589483914966076, 0.8612340474515017, 0.8612340474515017, 0.8724947874586254, 0.8724947874586254, 0.8724947874586254, 0.8724947874586254, 0.8724947874586254, 0.8724947874586254, 0.8724947874586254, 0.8724947874586254, 0.8724947874586254, 0.8724947874586254, 0.8724947874586254, 0.8724947874586254, 0.8724947874586254, 0.8724947874586254, 0.8724947874586254, 0.8724947874586254, 0.8724947874586254, 0.8724947874586254, 0.8724947874586254, 0.8724947874586254, 0.8724947874586254, 0.8724947874586254, 0.8724947874586254, 0.8724947874586254, 0.8790595272224973, 0.8790595272224973, 0.8790595272224973, 0.8790595272224973, 0.8790595272224973, 0.8790595272224973, 0.8790595272224973, 0.8790595272224973, 0.8790595272224973, 0.8790595272224973, 0.8790595272224973, 0.8790595272224973, 0.8790595272224973, 0.8790595272224973, 0.8790595272224973, 0.8790595272224973, 0.8790595272224973, 0.8790595272224973, 0.8790595272224973, 0.8790595272224973, 0.8790595272224973, 0.8790595272224973, 0.8790595272224973, 0.8790595272224973, 0.8790595272224973, 0.8790595272224973, 0.8790595272224973]}], \"precision_score_weighted\": [{\"categories\": [\"0\", \"1\", \"2\", \"3\", \"4\", \"5\", \"6\", \"7\", \"8\", \"9\", \"10\", \"11\", \"12\", \"13\", \"14\", \"15\", \"16\", \"17\", \"18\", \"19\", \"20\", \"21\", \"22\", \"23\", \"24\", \"25\", \"26\", \"27\", \"28\", \"29\", \"30\", \"31\", \"32\", \"33\", \"34\", \"35\", \"36\", \"37\", \"38\", \"39\", \"40\", \"41\", \"42\", \"43\", \"44\", \"45\", \"46\", \"47\", \"48\", \"49\", \"50\", \"51\", \"52\", \"53\", \"54\", \"55\", \"57\", \"58\"], \"mode\": \"markers\", \"name\": \"precision_score_weighted\", \"stepped\": false, \"type\": \"scatter\", \"data\": [0.8264842830302515, 0.8525607416879796, 0.8519724167770043, 0.7917643541479185, 0.8492875585802375, 0.8334001046345195, 0.8144763072220712, 0.8636612818277577, 0.8071167041175622, 0.7459292146752606, 0.7190517397468199, 0.8487311591418806, 0.8453988402901447, 0.797972639965695, 0.8129814402260853, 0.6022469282176385, 0.8103466850704871, 0.7930149521549776, 0.8497132668336734, 0.8533072398645448, 0.7873232721173224, 0.7950110075849366, 0.8228057424660685, 0.845214531889324, 0.8598183125484915, 0.8328013082428842, 0.8308653791298453, 0.8272446712718787, 0.7957319847708864, 0.85923994211718, 0.7494270498878076, 0.8668623491337686, 0.8261070252332956, 0.852688737330681, 0.8313573726169633, 0.6254082876823152, 0.8422374457029187, 0.8561109187032301, 0.8419480394392478, 0.8189587703407069, 0.8551030898745091, 0.8394681483386641, 0.8333462225469898, 0.8659543821299062, 0.8501577212692857, 0.7460199879333511, 0.8189966668739046, 0.8461306140813812, 0.8542456152146849, 0.8500805829578206, 0.8416254270026648, 0.8566839722274505, 0.8401607261261992, 0.8136135243686731, 0.8460773149839647, 0.8032651617410249, 0.8636555129298096, 0.4350251391514388]}, {\"categories\": [\"0\", \"1\", \"2\", \"3\", \"4\", \"5\", \"6\", \"7\", \"8\", \"9\", \"10\", \"11\", \"12\", \"13\", \"14\", \"15\", \"16\", \"17\", \"18\", \"19\", \"20\", \"21\", \"22\", \"23\", \"24\", \"25\", \"26\", \"27\", \"28\", \"29\", \"30\", \"31\", \"32\", \"33\", \"34\", \"35\", \"36\", \"37\", \"38\", \"39\", \"40\", \"41\", \"42\", \"43\", \"44\", \"45\", \"46\", \"47\", \"48\", \"49\", \"50\", \"51\", \"52\", \"53\", \"54\", \"55\", \"57\", \"58\"], \"mode\": \"lines\", \"name\": \"precision_score_weighted_max\", \"stepped\": true, \"type\": \"scatter\", \"data\": [0.8264842830302515, 0.8525607416879796, 0.8525607416879796, 0.8525607416879796, 0.8525607416879796, 0.8525607416879796, 0.8525607416879796, 0.8636612818277577, 0.8636612818277577, 0.8636612818277577, 0.8636612818277577, 0.8636612818277577, 0.8636612818277577, 0.8636612818277577, 0.8636612818277577, 0.8636612818277577, 0.8636612818277577, 0.8636612818277577, 0.8636612818277577, 0.8636612818277577, 0.8636612818277577, 0.8636612818277577, 0.8636612818277577, 0.8636612818277577, 0.8636612818277577, 0.8636612818277577, 0.8636612818277577, 0.8636612818277577, 0.8636612818277577, 0.8636612818277577, 0.8636612818277577, 0.8668623491337686, 0.8668623491337686, 0.8668623491337686, 0.8668623491337686, 0.8668623491337686, 0.8668623491337686, 0.8668623491337686, 0.8668623491337686, 0.8668623491337686, 0.8668623491337686, 0.8668623491337686, 0.8668623491337686, 0.8668623491337686, 0.8668623491337686, 0.8668623491337686, 0.8668623491337686, 0.8668623491337686, 0.8668623491337686, 0.8668623491337686, 0.8668623491337686, 0.8668623491337686, 0.8668623491337686, 0.8668623491337686, 0.8668623491337686, 0.8668623491337686, 0.8668623491337686, 0.8668623491337686]}], \"average_precision_score_micro\": [{\"categories\": [\"0\", \"1\", \"2\", \"3\", \"4\", \"5\", \"6\", \"7\", \"8\", \"9\", \"10\", \"11\", \"12\", \"13\", \"14\", \"15\", \"16\", \"17\", \"18\", \"19\", \"20\", \"21\", \"22\", \"23\", \"24\", \"25\", \"26\", \"27\", \"28\", \"29\", \"30\", \"31\", \"32\", \"33\", \"34\", \"35\", \"36\", \"37\", \"38\", \"39\", \"40\", \"41\", \"42\", \"43\", \"44\", \"45\", \"46\", \"47\", \"48\", \"49\", \"50\", \"51\", \"52\", \"53\", \"54\", \"55\", \"57\", \"58\"], \"mode\": \"markers\", \"name\": \"average_precision_score_micro\", \"stepped\": false, \"type\": \"scatter\", \"data\": [0.8883364970720043, 0.9012837561354352, 0.9064932735742086, 0.8796776894391481, 0.8995151792994326, 0.8881357440085409, 0.8851714524224553, 0.8990659902587865, 0.8726873097501986, 0.7711136281863581, 0.8611689998454756, 0.8769893558348445, 0.8997092067676158, 0.8757994820639251, 0.8793743527959, 0.6861431613770802, 0.8762530211035042, 0.836765777687177, 0.8959293621035158, 0.9028369366934677, 0.8798842387443679, 0.8540378284577586, 0.8675030412614422, 0.8909197795420489, 0.9049766602346387, 0.9000494968147711, 0.8924725372915251, 0.8915073909180149, 0.8832675206270693, 0.9163221287040025, 0.7971455679687762, 0.8876734557798436, 0.9080046834905741, 0.9170539454536364, 0.8950200628146898, 0.7669090750798984, 0.905132655462696, 0.9152996482868285, 0.9137731709991161, 0.8847984552547847, 0.914612611804848, 0.9141639993430022, 0.9027433187998598, 0.9082445828466277, 0.9185987724577075, 0.7931090294254275, 0.8857349588378339, 0.9169284149749135, 0.9148096721829695, 0.9143926987250707, 0.9101919505155698, 0.9025324280574253, 0.9079393910159197, 0.8890395931063138, 0.8980789639251089, 0.8269872978982036, 0.9241757429282534, 0.8636221816106848]}, {\"categories\": [\"0\", \"1\", \"2\", \"3\", \"4\", \"5\", \"6\", \"7\", \"8\", \"9\", \"10\", \"11\", \"12\", \"13\", \"14\", \"15\", \"16\", \"17\", \"18\", \"19\", \"20\", \"21\", \"22\", \"23\", \"24\", \"25\", \"26\", \"27\", \"28\", \"29\", \"30\", \"31\", \"32\", \"33\", \"34\", \"35\", \"36\", \"37\", \"38\", \"39\", \"40\", \"41\", \"42\", \"43\", \"44\", \"45\", \"46\", \"47\", \"48\", \"49\", \"50\", \"51\", \"52\", \"53\", \"54\", \"55\", \"57\", \"58\"], \"mode\": \"lines\", \"name\": \"average_precision_score_micro_max\", \"stepped\": true, \"type\": \"scatter\", \"data\": [0.8883364970720043, 0.9012837561354352, 0.9064932735742086, 0.9064932735742086, 0.9064932735742086, 0.9064932735742086, 0.9064932735742086, 0.9064932735742086, 0.9064932735742086, 0.9064932735742086, 0.9064932735742086, 0.9064932735742086, 0.9064932735742086, 0.9064932735742086, 0.9064932735742086, 0.9064932735742086, 0.9064932735742086, 0.9064932735742086, 0.9064932735742086, 0.9064932735742086, 0.9064932735742086, 0.9064932735742086, 0.9064932735742086, 0.9064932735742086, 0.9064932735742086, 0.9064932735742086, 0.9064932735742086, 0.9064932735742086, 0.9064932735742086, 0.9163221287040025, 0.9163221287040025, 0.9163221287040025, 0.9163221287040025, 0.9170539454536364, 0.9170539454536364, 0.9170539454536364, 0.9170539454536364, 0.9170539454536364, 0.9170539454536364, 0.9170539454536364, 0.9170539454536364, 0.9170539454536364, 0.9170539454536364, 0.9170539454536364, 0.9185987724577075, 0.9185987724577075, 0.9185987724577075, 0.9185987724577075, 0.9185987724577075, 0.9185987724577075, 0.9185987724577075, 0.9185987724577075, 0.9185987724577075, 0.9185987724577075, 0.9185987724577075, 0.9185987724577075, 0.9241757429282534, 0.9241757429282534]}], \"recall_score_macro\": [{\"categories\": [\"0\", \"1\", \"2\", \"3\", \"4\", \"5\", \"6\", \"7\", \"8\", \"9\", \"10\", \"11\", \"12\", \"13\", \"14\", \"15\", \"16\", \"17\", \"18\", \"19\", \"20\", \"21\", \"22\", \"23\", \"24\", \"25\", \"26\", \"27\", \"28\", \"29\", \"30\", \"31\", \"32\", \"33\", \"34\", \"35\", \"36\", \"37\", \"38\", \"39\", \"40\", \"41\", \"42\", \"43\", \"44\", \"45\", \"46\", \"47\", \"48\", \"49\", \"50\", \"51\", \"52\", \"53\", \"54\", \"55\", \"57\", \"58\"], \"mode\": \"markers\", \"name\": \"recall_score_macro\", \"stepped\": false, \"type\": \"scatter\", \"data\": [0.7736210317460317, 0.8073313492063491, 0.8164781746031746, 0.6805059523809524, 0.8179662698412699, 0.7827678571428571, 0.7809623015873017, 0.801954365079365, 0.699563492063492, 0.6502579365079365, 0.6605853174603175, 0.7659920634920635, 0.8231547619047619, 0.7480853174603175, 0.7841865079365079, 0.5407142857142857, 0.7157142857142856, 0.7643353174603175, 0.8187698412698413, 0.8146031746031746, 0.7402777777777778, 0.7626289682539682, 0.774454365079365, 0.8102876984126984, 0.8228968253968254, 0.801438492063492, 0.7944246031746032, 0.7243253968253969, 0.6871130952380953, 0.8291865079365079, 0.6974305555555557, 0.8187698412698413, 0.7765376984126984, 0.8090674603174604, 0.7816071428571428, 0.5558234126984127, 0.8067162698412698, 0.8194246031746031, 0.8071726190476192, 0.7691567460317461, 0.7984920634920636, 0.7937599206349206, 0.7958829365079365, 0.8030753968253969, 0.8050793650793651, 0.7017162698412698, 0.7688392857142857, 0.8103968253968254, 0.8127281746031745, 0.8198511904761905, 0.8165873015873016, 0.799047619047619, 0.7994246031746032, 0.6905059523809524, 0.7987996031746032, 0.7265476190476191, 0.8236507936507937, 0.5]}, {\"categories\": [\"0\", \"1\", \"2\", \"3\", \"4\", \"5\", \"6\", \"7\", \"8\", \"9\", \"10\", \"11\", \"12\", \"13\", \"14\", \"15\", \"16\", \"17\", \"18\", \"19\", \"20\", \"21\", \"22\", \"23\", \"24\", \"25\", \"26\", \"27\", \"28\", \"29\", \"30\", \"31\", \"32\", \"33\", \"34\", \"35\", \"36\", \"37\", \"38\", \"39\", \"40\", \"41\", \"42\", \"43\", \"44\", \"45\", \"46\", \"47\", \"48\", \"49\", \"50\", \"51\", \"52\", \"53\", \"54\", \"55\", \"57\", \"58\"], \"mode\": \"lines\", \"name\": \"recall_score_macro_max\", \"stepped\": true, \"type\": \"scatter\", \"data\": [0.7736210317460317, 0.8073313492063491, 0.8164781746031746, 0.8164781746031746, 0.8179662698412699, 0.8179662698412699, 0.8179662698412699, 0.8179662698412699, 0.8179662698412699, 0.8179662698412699, 0.8179662698412699, 0.8179662698412699, 0.8231547619047619, 0.8231547619047619, 0.8231547619047619, 0.8231547619047619, 0.8231547619047619, 0.8231547619047619, 0.8231547619047619, 0.8231547619047619, 0.8231547619047619, 0.8231547619047619, 0.8231547619047619, 0.8231547619047619, 0.8231547619047619, 0.8231547619047619, 0.8231547619047619, 0.8231547619047619, 0.8231547619047619, 0.8291865079365079, 0.8291865079365079, 0.8291865079365079, 0.8291865079365079, 0.8291865079365079, 0.8291865079365079, 0.8291865079365079, 0.8291865079365079, 0.8291865079365079, 0.8291865079365079, 0.8291865079365079, 0.8291865079365079, 0.8291865079365079, 0.8291865079365079, 0.8291865079365079, 0.8291865079365079, 0.8291865079365079, 0.8291865079365079, 0.8291865079365079, 0.8291865079365079, 0.8291865079365079, 0.8291865079365079, 0.8291865079365079, 0.8291865079365079, 0.8291865079365079, 0.8291865079365079, 0.8291865079365079, 0.8291865079365079, 0.8291865079365079]}], \"average_precision_score_weighted\": [{\"categories\": [\"0\", \"1\", \"2\", \"3\", \"4\", \"5\", \"6\", \"7\", \"8\", \"9\", \"10\", \"11\", \"12\", \"13\", \"14\", \"15\", \"16\", \"17\", \"18\", \"19\", \"20\", \"21\", \"22\", \"23\", \"24\", \"25\", \"26\", \"27\", \"28\", \"29\", \"30\", \"31\", \"32\", \"33\", \"34\", \"35\", \"36\", \"37\", \"38\", \"39\", \"40\", \"41\", \"42\", \"43\", \"44\", \"45\", \"46\", \"47\", \"48\", \"49\", \"50\", \"51\", \"52\", \"53\", \"54\", \"55\", \"57\", \"58\"], \"mode\": \"markers\", \"name\": \"average_precision_score_weighted\", \"stepped\": false, \"type\": \"scatter\", \"data\": [0.9000109067542017, 0.9062493235409341, 0.914424086059211, 0.9024737503727147, 0.9053493254989504, 0.8925045255225126, 0.8908398920489017, 0.9017819755820747, 0.8921549623566232, 0.7742392515539979, 0.8834387697082036, 0.8896834853532634, 0.9157908886517652, 0.8748187859036409, 0.8830915343188194, 0.671176368203771, 0.8936802156532286, 0.8515611269910511, 0.9030718874443846, 0.9101443063426716, 0.8828978772375218, 0.8727552813823678, 0.874347056595847, 0.9011185288910675, 0.9105821011366002, 0.918306919763206, 0.9052574932842928, 0.9086835797173032, 0.9129058052940389, 0.9277994133497274, 0.788045976876533, 0.8866817086073986, 0.912972613659386, 0.9207122642233777, 0.9002690895907935, 0.7685606685703854, 0.9120090150280115, 0.9236913711715165, 0.9239377416457524, 0.8893341817132031, 0.9269222058748324, 0.9226192088214038, 0.9041741305161264, 0.9177355037763781, 0.9242722531783139, 0.7892548595874246, 0.895799003824836, 0.920742689681519, 0.9257633315634075, 0.9268141994878013, 0.923460826917277, 0.9152930761058539, 0.9140041343124279, 0.9120162553244269, 0.908548412005409, 0.8404231072575374, 0.9371380909289779, 0.9321313287079412]}, {\"categories\": [\"0\", \"1\", \"2\", \"3\", \"4\", \"5\", \"6\", \"7\", \"8\", \"9\", \"10\", \"11\", \"12\", \"13\", \"14\", \"15\", \"16\", \"17\", \"18\", \"19\", \"20\", \"21\", \"22\", \"23\", \"24\", \"25\", \"26\", \"27\", \"28\", \"29\", \"30\", \"31\", \"32\", \"33\", \"34\", \"35\", \"36\", \"37\", \"38\", \"39\", \"40\", \"41\", \"42\", \"43\", \"44\", \"45\", \"46\", \"47\", \"48\", \"49\", \"50\", \"51\", \"52\", \"53\", \"54\", \"55\", \"57\", \"58\"], \"mode\": \"lines\", \"name\": \"average_precision_score_weighted_max\", \"stepped\": true, \"type\": \"scatter\", \"data\": [0.9000109067542017, 0.9062493235409341, 0.914424086059211, 0.914424086059211, 0.914424086059211, 0.914424086059211, 0.914424086059211, 0.914424086059211, 0.914424086059211, 0.914424086059211, 0.914424086059211, 0.914424086059211, 0.9157908886517652, 0.9157908886517652, 0.9157908886517652, 0.9157908886517652, 0.9157908886517652, 0.9157908886517652, 0.9157908886517652, 0.9157908886517652, 0.9157908886517652, 0.9157908886517652, 0.9157908886517652, 0.9157908886517652, 0.9157908886517652, 0.918306919763206, 0.918306919763206, 0.918306919763206, 0.918306919763206, 0.9277994133497274, 0.9277994133497274, 0.9277994133497274, 0.9277994133497274, 0.9277994133497274, 0.9277994133497274, 0.9277994133497274, 0.9277994133497274, 0.9277994133497274, 0.9277994133497274, 0.9277994133497274, 0.9277994133497274, 0.9277994133497274, 0.9277994133497274, 0.9277994133497274, 0.9277994133497274, 0.9277994133497274, 0.9277994133497274, 0.9277994133497274, 0.9277994133497274, 0.9277994133497274, 0.9277994133497274, 0.9277994133497274, 0.9277994133497274, 0.9277994133497274, 0.9277994133497274, 0.9277994133497274, 0.9371380909289779, 0.9371380909289779]}], \"AUC_macro\": [{\"categories\": [\"0\", \"1\", \"2\", \"3\", \"4\", \"5\", \"6\", \"7\", \"8\", \"9\", \"10\", \"11\", \"12\", \"13\", \"14\", \"15\", \"16\", \"17\", \"18\", \"19\", \"20\", \"21\", \"22\", \"23\", \"24\", \"25\", \"26\", \"27\", \"28\", \"29\", \"30\", \"31\", \"32\", \"33\", \"34\", \"35\", \"36\", \"37\", \"38\", \"39\", \"40\", \"41\", \"42\", \"43\", \"44\", \"45\", \"46\", \"47\", \"48\", \"49\", \"50\", \"51\", \"52\", \"53\", \"54\", \"55\", \"57\", \"58\"], \"mode\": \"markers\", \"name\": \"AUC_macro\", \"stepped\": false, \"type\": \"scatter\", \"data\": [0.8900892857142857, 0.8878893849206347, 0.8977744708994709, 0.8776835317460318, 0.8893700396825397, 0.8768452380952383, 0.8809800760582011, 0.8813417658730159, 0.8662342923280425, 0.7183440806878307, 0.8553265542328041, 0.8629034391534391, 0.8996436838624338, 0.8465608465608467, 0.8647428902116403, 0.5875868055555555, 0.8741476521164022, 0.8233176256613757, 0.8827488425925927, 0.8926322751322753, 0.8683283730158731, 0.8415046296296296, 0.854873511904762, 0.8855836640211641, 0.900654761904762, 0.9025624173280423, 0.8854348544973545, 0.8932266865079365, 0.8998321759259259, 0.9126165674603175, 0.7743055555555556, 0.8798036541005292, 0.8992600859788361, 0.9090914351851851, 0.8837194113756613, 0.7215856481481482, 0.8991435185185186, 0.9096883267195768, 0.9100793650793652, 0.8613318452380951, 0.913337466931217, 0.9061317791005292, 0.8900471230158731, 0.8995064484126984, 0.9116815476190476, 0.7865281911375661, 0.8738252314814814, 0.907541335978836, 0.9116542658730158, 0.91213458994709, 0.9067030423280423, 0.8982990244708995, 0.9009482473544972, 0.8974958664021164, 0.8938260582010582, 0.846328125, 0.924755291005291, 0.9185689484126984]}, {\"categories\": [\"0\", \"1\", \"2\", \"3\", \"4\", \"5\", \"6\", \"7\", \"8\", \"9\", \"10\", \"11\", \"12\", \"13\", \"14\", \"15\", \"16\", \"17\", \"18\", \"19\", \"20\", \"21\", \"22\", \"23\", \"24\", \"25\", \"26\", \"27\", \"28\", \"29\", \"30\", \"31\", \"32\", \"33\", \"34\", \"35\", \"36\", \"37\", \"38\", \"39\", \"40\", \"41\", \"42\", \"43\", \"44\", \"45\", \"46\", \"47\", \"48\", \"49\", \"50\", \"51\", \"52\", \"53\", \"54\", \"55\", \"57\", \"58\"], \"mode\": \"lines\", \"name\": \"AUC_macro_max\", \"stepped\": true, \"type\": \"scatter\", \"data\": [0.8900892857142857, 0.8900892857142857, 0.8977744708994709, 0.8977744708994709, 0.8977744708994709, 0.8977744708994709, 0.8977744708994709, 0.8977744708994709, 0.8977744708994709, 0.8977744708994709, 0.8977744708994709, 0.8977744708994709, 0.8996436838624338, 0.8996436838624338, 0.8996436838624338, 0.8996436838624338, 0.8996436838624338, 0.8996436838624338, 0.8996436838624338, 0.8996436838624338, 0.8996436838624338, 0.8996436838624338, 0.8996436838624338, 0.8996436838624338, 0.900654761904762, 0.9025624173280423, 0.9025624173280423, 0.9025624173280423, 0.9025624173280423, 0.9126165674603175, 0.9126165674603175, 0.9126165674603175, 0.9126165674603175, 0.9126165674603175, 0.9126165674603175, 0.9126165674603175, 0.9126165674603175, 0.9126165674603175, 0.9126165674603175, 0.9126165674603175, 0.913337466931217, 0.913337466931217, 0.913337466931217, 0.913337466931217, 0.913337466931217, 0.913337466931217, 0.913337466931217, 0.913337466931217, 0.913337466931217, 0.913337466931217, 0.913337466931217, 0.913337466931217, 0.913337466931217, 0.913337466931217, 0.913337466931217, 0.913337466931217, 0.924755291005291, 0.924755291005291]}], \"precision_score_macro\": [{\"categories\": [\"0\", \"1\", \"2\", \"3\", \"4\", \"5\", \"6\", \"7\", \"8\", \"9\", \"10\", \"11\", \"12\", \"13\", \"14\", \"15\", \"16\", \"17\", \"18\", \"19\", \"20\", \"21\", \"22\", \"23\", \"24\", \"25\", \"26\", \"27\", \"28\", \"29\", \"30\", \"31\", \"32\", \"33\", \"34\", \"35\", \"36\", \"37\", \"38\", \"39\", \"40\", \"41\", \"42\", \"43\", \"44\", \"45\", \"46\", \"47\", \"48\", \"49\", \"50\", \"51\", \"52\", \"53\", \"54\", \"55\", \"57\", \"58\"], \"mode\": \"markers\", \"name\": \"precision_score_macro\", \"stepped\": false, \"type\": \"scatter\", \"data\": [0.8126825341840822, 0.8394327731092437, 0.8366323708970768, 0.793489527702073, 0.8282817958185605, 0.8246013177998472, 0.7877819974143504, 0.8612985588972432, 0.815161388319283, 0.7443658830288928, 0.6924089580010632, 0.8525622433981568, 0.8112562437562436, 0.7776461799294616, 0.7774219122380887, 0.5615571711140597, 0.8169651959667439, 0.7567855347267112, 0.8170363073459048, 0.8398336834733893, 0.7612301956729202, 0.7573295536163183, 0.8048710317460317, 0.8257536785110314, 0.8431790880687939, 0.7986156204906204, 0.8079127694201225, 0.8334319982413602, 0.7993578168907117, 0.8354383688207218, 0.7131694571768101, 0.8596007342330871, 0.8098424230138628, 0.8399299719887955, 0.818054788348906, 0.5789842937382983, 0.8240295284780579, 0.8416771708683474, 0.8224840600575896, 0.802436821219716, 0.8508507342330871, 0.8269503722541648, 0.8155567226890756, 0.8646095491625678, 0.8363166187527643, 0.691276950174009, 0.8028878637702167, 0.8295821661998133, 0.8433350840336133, 0.8238305322128852, 0.8148961332784863, 0.8521660937102113, 0.8255777310924369, 0.8222158451134425, 0.8349883286647992, 0.7941643070271587, 0.8515032679738562, 0.32853260869565215]}, {\"categories\": [\"0\", \"1\", \"2\", \"3\", \"4\", \"5\", \"6\", \"7\", \"8\", \"9\", \"10\", \"11\", \"12\", \"13\", \"14\", \"15\", \"16\", \"17\", \"18\", \"19\", \"20\", \"21\", \"22\", \"23\", \"24\", \"25\", \"26\", \"27\", \"28\", \"29\", \"30\", \"31\", \"32\", \"33\", \"34\", \"35\", \"36\", \"37\", \"38\", \"39\", \"40\", \"41\", \"42\", \"43\", \"44\", \"45\", \"46\", \"47\", \"48\", \"49\", \"50\", \"51\", \"52\", \"53\", \"54\", \"55\", \"57\", \"58\"], \"mode\": \"lines\", \"name\": \"precision_score_macro_max\", \"stepped\": true, \"type\": \"scatter\", \"data\": [0.8126825341840822, 0.8394327731092437, 0.8394327731092437, 0.8394327731092437, 0.8394327731092437, 0.8394327731092437, 0.8394327731092437, 0.8612985588972432, 0.8612985588972432, 0.8612985588972432, 0.8612985588972432, 0.8612985588972432, 0.8612985588972432, 0.8612985588972432, 0.8612985588972432, 0.8612985588972432, 0.8612985588972432, 0.8612985588972432, 0.8612985588972432, 0.8612985588972432, 0.8612985588972432, 0.8612985588972432, 0.8612985588972432, 0.8612985588972432, 0.8612985588972432, 0.8612985588972432, 0.8612985588972432, 0.8612985588972432, 0.8612985588972432, 0.8612985588972432, 0.8612985588972432, 0.8612985588972432, 0.8612985588972432, 0.8612985588972432, 0.8612985588972432, 0.8612985588972432, 0.8612985588972432, 0.8612985588972432, 0.8612985588972432, 0.8612985588972432, 0.8612985588972432, 0.8612985588972432, 0.8612985588972432, 0.8646095491625678, 0.8646095491625678, 0.8646095491625678, 0.8646095491625678, 0.8646095491625678, 0.8646095491625678, 0.8646095491625678, 0.8646095491625678, 0.8646095491625678, 0.8646095491625678, 0.8646095491625678, 0.8646095491625678, 0.8646095491625678, 0.8646095491625678, 0.8646095491625678]}], \"AUC_weighted\": [{\"categories\": [\"0\", \"1\", \"2\", \"3\", \"4\", \"5\", \"6\", \"7\", \"8\", \"9\", \"10\", \"11\", \"12\", \"13\", \"14\", \"15\", \"16\", \"17\", \"18\", \"19\", \"20\", \"21\", \"22\", \"23\", \"24\", \"25\", \"26\", \"27\", \"28\", \"29\", \"30\", \"31\", \"32\", \"33\", \"34\", \"35\", \"36\", \"37\", \"38\", \"39\", \"40\", \"41\", \"42\", \"43\", \"44\", \"45\", \"46\", \"47\", \"48\", \"49\", \"50\", \"51\", \"52\", \"53\", \"54\", \"55\", \"57\", \"58\"], \"mode\": \"markers\", \"name\": \"AUC_weighted\", \"stepped\": false, \"type\": \"scatter\", \"data\": [0.8900892857142857, 0.887889384920635, 0.8976871261789741, 0.8776835317460318, 0.8893700396825397, 0.8768452380952381, 0.8809800760582011, 0.8813417658730159, 0.8662342923280424, 0.7183440806878306, 0.8553265542328041, 0.8629034391534391, 0.8996436838624338, 0.8465608465608465, 0.8647428902116403, 0.5875868055555555, 0.8741476521164022, 0.8233176256613757, 0.8827488425925927, 0.8926322751322753, 0.8683283730158731, 0.8415046296296296, 0.854873511904762, 0.8855836640211641, 0.900654761904762, 0.9025624173280423, 0.8854348544973545, 0.8932266865079365, 0.8998321759259259, 0.9126165674603175, 0.7743055555555556, 0.8798036541005292, 0.8992600859788361, 0.9090914351851851, 0.8837194113756613, 0.7215856481481481, 0.8991435185185186, 0.9096883267195768, 0.9100793650793652, 0.8613318452380951, 0.913337466931217, 0.906131779100529, 0.8900471230158731, 0.8995064484126984, 0.9116815476190476, 0.7865281911375661, 0.8738252314814814, 0.907541335978836, 0.9116542658730158, 0.91213458994709, 0.9067030423280423, 0.8982990244708995, 0.9009482473544974, 0.8974958664021164, 0.8938260582010583, 0.846328125, 0.924755291005291, 0.9185689484126984]}, {\"categories\": [\"0\", \"1\", \"2\", \"3\", \"4\", \"5\", \"6\", \"7\", \"8\", \"9\", \"10\", \"11\", \"12\", \"13\", \"14\", \"15\", \"16\", \"17\", \"18\", \"19\", \"20\", \"21\", \"22\", \"23\", \"24\", \"25\", \"26\", \"27\", \"28\", \"29\", \"30\", \"31\", \"32\", \"33\", \"34\", \"35\", \"36\", \"37\", \"38\", \"39\", \"40\", \"41\", \"42\", \"43\", \"44\", \"45\", \"46\", \"47\", \"48\", \"49\", \"50\", \"51\", \"52\", \"53\", \"54\", \"55\", \"57\", \"58\"], \"mode\": \"lines\", \"name\": \"AUC_weighted_max\", \"stepped\": true, \"type\": \"scatter\", \"data\": [0.8900892857142857, 0.8900892857142857, 0.8976871261789741, 0.8976871261789741, 0.8976871261789741, 0.8976871261789741, 0.8976871261789741, 0.8976871261789741, 0.8976871261789741, 0.8976871261789741, 0.8976871261789741, 0.8976871261789741, 0.8996436838624338, 0.8996436838624338, 0.8996436838624338, 0.8996436838624338, 0.8996436838624338, 0.8996436838624338, 0.8996436838624338, 0.8996436838624338, 0.8996436838624338, 0.8996436838624338, 0.8996436838624338, 0.8996436838624338, 0.900654761904762, 0.9025624173280423, 0.9025624173280423, 0.9025624173280423, 0.9025624173280423, 0.9126165674603175, 0.9126165674603175, 0.9126165674603175, 0.9126165674603175, 0.9126165674603175, 0.9126165674603175, 0.9126165674603175, 0.9126165674603175, 0.9126165674603175, 0.9126165674603175, 0.9126165674603175, 0.913337466931217, 0.913337466931217, 0.913337466931217, 0.913337466931217, 0.913337466931217, 0.913337466931217, 0.913337466931217, 0.913337466931217, 0.913337466931217, 0.913337466931217, 0.913337466931217, 0.913337466931217, 0.913337466931217, 0.913337466931217, 0.913337466931217, 0.913337466931217, 0.924755291005291, 0.924755291005291]}], \"recall_score_weighted\": [{\"categories\": [\"0\", \"1\", \"2\", \"3\", \"4\", \"5\", \"6\", \"7\", \"8\", \"9\", \"10\", \"11\", \"12\", \"13\", \"14\", \"15\", \"16\", \"17\", \"18\", \"19\", \"20\", \"21\", \"22\", \"23\", \"24\", \"25\", \"26\", \"27\", \"28\", \"29\", \"30\", \"31\", \"32\", \"33\", \"34\", \"35\", \"36\", \"37\", \"38\", \"39\", \"40\", \"41\", \"42\", \"43\", \"44\", \"45\", \"46\", \"47\", \"48\", \"49\", \"50\", \"51\", \"52\", \"53\", \"54\", \"55\", \"57\", \"58\"], \"mode\": \"markers\", \"name\": \"recall_score_weighted\", \"stepped\": false, \"type\": \"scatter\", \"data\": [0.803623188405797, 0.8327898550724638, 0.8407608695652173, 0.7619565217391305, 0.8327898550724638, 0.8286231884057971, 0.8074275362318841, 0.8413043478260869, 0.7780797101449275, 0.7244565217391306, 0.745108695652174, 0.8202898550724637, 0.8242753623188405, 0.7865942028985506, 0.7913043478260869, 0.6237318840579709, 0.7911231884057972, 0.7742753623188406, 0.8159420289855073, 0.8409420289855072, 0.7784420289855072, 0.7744565217391305, 0.7994565217391305, 0.8288043478260869, 0.841123188405797, 0.803623188405797, 0.8117753623188406, 0.7951086956521738, 0.7697463768115942, 0.8369565217391305, 0.7242753623188405, 0.8534420289855073, 0.8077898550724637, 0.8369565217391305, 0.8119565217391305, 0.6905797101449275, 0.8286231884057971, 0.841123188405797, 0.8244565217391304, 0.8079710144927535, 0.8409420289855072, 0.8246376811594203, 0.8202898550724639, 0.8452898550724637, 0.8327898550724638, 0.694927536231884, 0.7994565217391304, 0.8327898550724637, 0.8409420289855072, 0.8244565217391304, 0.8202898550724639, 0.8409420289855072, 0.8244565217391304, 0.7784420289855072, 0.8327898550724637, 0.7951086956521739, 0.8494565217391304, 0.6570652173913043]}, {\"categories\": [\"0\", \"1\", \"2\", \"3\", \"4\", \"5\", \"6\", \"7\", \"8\", \"9\", \"10\", \"11\", \"12\", \"13\", \"14\", \"15\", \"16\", \"17\", \"18\", \"19\", \"20\", \"21\", \"22\", \"23\", \"24\", \"25\", \"26\", \"27\", \"28\", \"29\", \"30\", \"31\", \"32\", \"33\", \"34\", \"35\", \"36\", \"37\", \"38\", \"39\", \"40\", \"41\", \"42\", \"43\", \"44\", \"45\", \"46\", \"47\", \"48\", \"49\", \"50\", \"51\", \"52\", \"53\", \"54\", \"55\", \"57\", \"58\"], \"mode\": \"lines\", \"name\": \"recall_score_weighted_max\", \"stepped\": true, \"type\": \"scatter\", \"data\": [0.803623188405797, 0.8327898550724638, 0.8407608695652173, 0.8407608695652173, 0.8407608695652173, 0.8407608695652173, 0.8407608695652173, 0.8413043478260869, 0.8413043478260869, 0.8413043478260869, 0.8413043478260869, 0.8413043478260869, 0.8413043478260869, 0.8413043478260869, 0.8413043478260869, 0.8413043478260869, 0.8413043478260869, 0.8413043478260869, 0.8413043478260869, 0.8413043478260869, 0.8413043478260869, 0.8413043478260869, 0.8413043478260869, 0.8413043478260869, 0.8413043478260869, 0.8413043478260869, 0.8413043478260869, 0.8413043478260869, 0.8413043478260869, 0.8413043478260869, 0.8413043478260869, 0.8534420289855073, 0.8534420289855073, 0.8534420289855073, 0.8534420289855073, 0.8534420289855073, 0.8534420289855073, 0.8534420289855073, 0.8534420289855073, 0.8534420289855073, 0.8534420289855073, 0.8534420289855073, 0.8534420289855073, 0.8534420289855073, 0.8534420289855073, 0.8534420289855073, 0.8534420289855073, 0.8534420289855073, 0.8534420289855073, 0.8534420289855073, 0.8534420289855073, 0.8534420289855073, 0.8534420289855073, 0.8534420289855073, 0.8534420289855073, 0.8534420289855073, 0.8534420289855073, 0.8534420289855073]}], \"recall_score_micro\": [{\"categories\": [\"0\", \"1\", \"2\", \"3\", \"4\", \"5\", \"6\", \"7\", \"8\", \"9\", \"10\", \"11\", \"12\", \"13\", \"14\", \"15\", \"16\", \"17\", \"18\", \"19\", \"20\", \"21\", \"22\", \"23\", \"24\", \"25\", \"26\", \"27\", \"28\", \"29\", \"30\", \"31\", \"32\", \"33\", \"34\", \"35\", \"36\", \"37\", \"38\", \"39\", \"40\", \"41\", \"42\", \"43\", \"44\", \"45\", \"46\", \"47\", \"48\", \"49\", \"50\", \"51\", \"52\", \"53\", \"54\", \"55\", \"57\", \"58\"], \"mode\": \"markers\", \"name\": \"recall_score_micro\", \"stepped\": false, \"type\": \"scatter\", \"data\": [0.803623188405797, 0.8327898550724638, 0.8407608695652173, 0.7619565217391305, 0.8327898550724638, 0.8286231884057971, 0.8074275362318841, 0.8413043478260869, 0.7780797101449275, 0.7244565217391306, 0.745108695652174, 0.8202898550724637, 0.8242753623188405, 0.7865942028985506, 0.7913043478260869, 0.6237318840579709, 0.7911231884057972, 0.7742753623188406, 0.8159420289855073, 0.8409420289855072, 0.7784420289855072, 0.7744565217391305, 0.7994565217391305, 0.8288043478260869, 0.841123188405797, 0.803623188405797, 0.8117753623188406, 0.7951086956521738, 0.7697463768115942, 0.8369565217391305, 0.7242753623188405, 0.8534420289855073, 0.8077898550724637, 0.8369565217391305, 0.8119565217391305, 0.6905797101449275, 0.8286231884057971, 0.841123188405797, 0.8244565217391304, 0.8079710144927535, 0.8409420289855072, 0.8246376811594203, 0.8202898550724639, 0.8452898550724637, 0.8327898550724638, 0.694927536231884, 0.7994565217391304, 0.8327898550724637, 0.8409420289855072, 0.8244565217391304, 0.8202898550724639, 0.8409420289855072, 0.8244565217391304, 0.7784420289855072, 0.8327898550724637, 0.7951086956521739, 0.8494565217391304, 0.6570652173913043]}, {\"categories\": [\"0\", \"1\", \"2\", \"3\", \"4\", \"5\", \"6\", \"7\", \"8\", \"9\", \"10\", \"11\", \"12\", \"13\", \"14\", \"15\", \"16\", \"17\", \"18\", \"19\", \"20\", \"21\", \"22\", \"23\", \"24\", \"25\", \"26\", \"27\", \"28\", \"29\", \"30\", \"31\", \"32\", \"33\", \"34\", \"35\", \"36\", \"37\", \"38\", \"39\", \"40\", \"41\", \"42\", \"43\", \"44\", \"45\", \"46\", \"47\", \"48\", \"49\", \"50\", \"51\", \"52\", \"53\", \"54\", \"55\", \"57\", \"58\"], \"mode\": \"lines\", \"name\": \"recall_score_micro_max\", \"stepped\": true, \"type\": \"scatter\", \"data\": [0.803623188405797, 0.8327898550724638, 0.8407608695652173, 0.8407608695652173, 0.8407608695652173, 0.8407608695652173, 0.8407608695652173, 0.8413043478260869, 0.8413043478260869, 0.8413043478260869, 0.8413043478260869, 0.8413043478260869, 0.8413043478260869, 0.8413043478260869, 0.8413043478260869, 0.8413043478260869, 0.8413043478260869, 0.8413043478260869, 0.8413043478260869, 0.8413043478260869, 0.8413043478260869, 0.8413043478260869, 0.8413043478260869, 0.8413043478260869, 0.8413043478260869, 0.8413043478260869, 0.8413043478260869, 0.8413043478260869, 0.8413043478260869, 0.8413043478260869, 0.8413043478260869, 0.8534420289855073, 0.8534420289855073, 0.8534420289855073, 0.8534420289855073, 0.8534420289855073, 0.8534420289855073, 0.8534420289855073, 0.8534420289855073, 0.8534420289855073, 0.8534420289855073, 0.8534420289855073, 0.8534420289855073, 0.8534420289855073, 0.8534420289855073, 0.8534420289855073, 0.8534420289855073, 0.8534420289855073, 0.8534420289855073, 0.8534420289855073, 0.8534420289855073, 0.8534420289855073, 0.8534420289855073, 0.8534420289855073, 0.8534420289855073, 0.8534420289855073, 0.8534420289855073, 0.8534420289855073]}], \"matthews_correlation\": [{\"categories\": [\"0\", \"1\", \"2\", \"3\", \"4\", \"5\", \"6\", \"7\", \"8\", \"9\", \"10\", \"11\", \"12\", \"13\", \"14\", \"15\", \"16\", \"17\", \"18\", \"19\", \"20\", \"21\", \"22\", \"23\", \"24\", \"25\", \"26\", \"27\", \"28\", \"29\", \"30\", \"31\", \"32\", \"33\", \"34\", \"35\", \"36\", \"37\", \"38\", \"39\", \"40\", \"41\", \"42\", \"43\", \"44\", \"45\", \"46\", \"47\", \"48\", \"49\", \"50\", \"51\", \"52\", \"53\", \"54\", \"55\", \"57\", \"58\"], \"mode\": \"markers\", \"name\": \"matthews_correlation\", \"stepped\": false, \"type\": \"scatter\", \"data\": [0.5811470680333605, 0.6424444597531219, 0.6498998353148743, 0.44931887837593837, 0.6430413442712142, 0.6012324942085063, 0.566763962990997, 0.6569543660620878, 0.4964924236090621, 0.37193017783606275, 0.3760954139155507, 0.605671777279444, 0.6329776749135584, 0.5229212570275317, 0.5608768721711913, 0.09891081243656913, 0.5160879782968361, 0.5201363659602711, 0.6336243616541767, 0.6507755527252388, 0.4979577874990161, 0.519062004330981, 0.5750429609670151, 0.6327422280968318, 0.662287513528249, 0.5980363551779088, 0.5990244209441916, 0.5360365969220534, 0.46949405530783006, 0.6613335090593082, 0.40364539995233395, 0.6715923632424514, 0.5793594960198438, 0.6450955169034337, 0.5950945593967853, 0.1704102405573374, 0.6272386705463061, 0.6574825981514356, 0.626244379768902, 0.5685689955024775, 0.6419938255279141, 0.6166351467503978, 0.6080210827683146, 0.6593355836035977, 0.6373408695724315, 0.3922378448941569, 0.5650306427113356, 0.6365552560190142, 0.6521451669743457, 0.6403047636616863, 0.6296154731869418, 0.6436827747879307, 0.6204872159276833, 0.4856395196744903, 0.6293187549345243, 0.5121966667877339, 0.6714207132206833, 0.0]}, {\"categories\": [\"0\", \"1\", \"2\", \"3\", \"4\", \"5\", \"6\", \"7\", \"8\", \"9\", \"10\", \"11\", \"12\", \"13\", \"14\", \"15\", \"16\", \"17\", \"18\", \"19\", \"20\", \"21\", \"22\", \"23\", \"24\", \"25\", \"26\", \"27\", \"28\", \"29\", \"30\", \"31\", \"32\", \"33\", \"34\", \"35\", \"36\", \"37\", \"38\", \"39\", \"40\", \"41\", \"42\", \"43\", \"44\", \"45\", \"46\", \"47\", \"48\", \"49\", \"50\", \"51\", \"52\", \"53\", \"54\", \"55\", \"57\", \"58\"], \"mode\": \"lines\", \"name\": \"matthews_correlation_max\", \"stepped\": true, \"type\": \"scatter\", \"data\": [0.5811470680333605, 0.6424444597531219, 0.6498998353148743, 0.6498998353148743, 0.6498998353148743, 0.6498998353148743, 0.6498998353148743, 0.6569543660620878, 0.6569543660620878, 0.6569543660620878, 0.6569543660620878, 0.6569543660620878, 0.6569543660620878, 0.6569543660620878, 0.6569543660620878, 0.6569543660620878, 0.6569543660620878, 0.6569543660620878, 0.6569543660620878, 0.6569543660620878, 0.6569543660620878, 0.6569543660620878, 0.6569543660620878, 0.6569543660620878, 0.662287513528249, 0.662287513528249, 0.662287513528249, 0.662287513528249, 0.662287513528249, 0.662287513528249, 0.662287513528249, 0.6715923632424514, 0.6715923632424514, 0.6715923632424514, 0.6715923632424514, 0.6715923632424514, 0.6715923632424514, 0.6715923632424514, 0.6715923632424514, 0.6715923632424514, 0.6715923632424514, 0.6715923632424514, 0.6715923632424514, 0.6715923632424514, 0.6715923632424514, 0.6715923632424514, 0.6715923632424514, 0.6715923632424514, 0.6715923632424514, 0.6715923632424514, 0.6715923632424514, 0.6715923632424514, 0.6715923632424514, 0.6715923632424514, 0.6715923632424514, 0.6715923632424514, 0.6715923632424514, 0.6715923632424514]}], \"f1_score_weighted\": [{\"categories\": [\"0\", \"1\", \"2\", \"3\", \"4\", \"5\", \"6\", \"7\", \"8\", \"9\", \"10\", \"11\", \"12\", \"13\", \"14\", \"15\", \"16\", \"17\", \"18\", \"19\", \"20\", \"21\", \"22\", \"23\", \"24\", \"25\", \"26\", \"27\", \"28\", \"29\", \"30\", \"31\", \"32\", \"33\", \"34\", \"35\", \"36\", \"37\", \"38\", \"39\", \"40\", \"41\", \"42\", \"43\", \"44\", \"45\", \"46\", \"47\", \"48\", \"49\", \"50\", \"51\", \"52\", \"53\", \"54\", \"55\", \"57\", \"58\"], \"mode\": \"markers\", \"name\": \"f1_score_weighted\", \"stepped\": false, \"type\": \"scatter\", \"data\": [0.7983012006870832, 0.8299387381180269, 0.8392387818985607, 0.7353313961936709, 0.8327001901719919, 0.8223962476821022, 0.8052676292503446, 0.8345912923124216, 0.7537656695393269, 0.7015050591294317, 0.7039226661524413, 0.8079042681975865, 0.8266965138099742, 0.7816892515738288, 0.794614423000959, 0.596362365371599, 0.7671967093313216, 0.7760244284748173, 0.8150136531740595, 0.8385756007397422, 0.7711319802878487, 0.7753156396831149, 0.7968013601422357, 0.8278682207829968, 0.839678493006413, 0.8051322390994395, 0.8113758257941921, 0.7716996682156323, 0.7453990515432162, 0.8377604345917471, 0.7188584655802654, 0.8487585932674129, 0.8022563063920435, 0.8337450573017773, 0.8070227892156572, 0.6067973322051933, 0.8262827800658114, 0.8398141216913719, 0.8238270648251698, 0.8034232250218125, 0.8346545790307779, 0.8206082412779983, 0.8178551269772525, 0.8383497838243471, 0.8293754706896335, 0.6992302547073717, 0.7958210010054486, 0.8306912677328631, 0.8382636831992561, 0.8256986335668509, 0.8224000198394613, 0.8343794717915172, 0.819233019830621, 0.7464748587462783, 0.8284719270941713, 0.7607767373285694, 0.8465283632697675, 0.5225129294808928]}, {\"categories\": [\"0\", \"1\", \"2\", \"3\", \"4\", \"5\", \"6\", \"7\", \"8\", \"9\", \"10\", \"11\", \"12\", \"13\", \"14\", \"15\", \"16\", \"17\", \"18\", \"19\", \"20\", \"21\", \"22\", \"23\", \"24\", \"25\", \"26\", \"27\", \"28\", \"29\", \"30\", \"31\", \"32\", \"33\", \"34\", \"35\", \"36\", \"37\", \"38\", \"39\", \"40\", \"41\", \"42\", \"43\", \"44\", \"45\", \"46\", \"47\", \"48\", \"49\", \"50\", \"51\", \"52\", \"53\", \"54\", \"55\", \"57\", \"58\"], \"mode\": \"lines\", \"name\": \"f1_score_weighted_max\", \"stepped\": true, \"type\": \"scatter\", \"data\": [0.7983012006870832, 0.8299387381180269, 0.8392387818985607, 0.8392387818985607, 0.8392387818985607, 0.8392387818985607, 0.8392387818985607, 0.8392387818985607, 0.8392387818985607, 0.8392387818985607, 0.8392387818985607, 0.8392387818985607, 0.8392387818985607, 0.8392387818985607, 0.8392387818985607, 0.8392387818985607, 0.8392387818985607, 0.8392387818985607, 0.8392387818985607, 0.8392387818985607, 0.8392387818985607, 0.8392387818985607, 0.8392387818985607, 0.8392387818985607, 0.839678493006413, 0.839678493006413, 0.839678493006413, 0.839678493006413, 0.839678493006413, 0.839678493006413, 0.839678493006413, 0.8487585932674129, 0.8487585932674129, 0.8487585932674129, 0.8487585932674129, 0.8487585932674129, 0.8487585932674129, 0.8487585932674129, 0.8487585932674129, 0.8487585932674129, 0.8487585932674129, 0.8487585932674129, 0.8487585932674129, 0.8487585932674129, 0.8487585932674129, 0.8487585932674129, 0.8487585932674129, 0.8487585932674129, 0.8487585932674129, 0.8487585932674129, 0.8487585932674129, 0.8487585932674129, 0.8487585932674129, 0.8487585932674129, 0.8487585932674129, 0.8487585932674129, 0.8487585932674129, 0.8487585932674129]}], \"f1_score_macro\": [{\"categories\": [\"0\", \"1\", \"2\", \"3\", \"4\", \"5\", \"6\", \"7\", \"8\", \"9\", \"10\", \"11\", \"12\", \"13\", \"14\", \"15\", \"16\", \"17\", \"18\", \"19\", \"20\", \"21\", \"22\", \"23\", \"24\", \"25\", \"26\", \"27\", \"28\", \"29\", \"30\", \"31\", \"32\", \"33\", \"34\", \"35\", \"36\", \"37\", \"38\", \"39\", \"40\", \"41\", \"42\", \"43\", \"44\", \"45\", \"46\", \"47\", \"48\", \"49\", \"50\", \"51\", \"52\", \"53\", \"54\", \"55\", \"57\", \"58\"], \"mode\": \"markers\", \"name\": \"f1_score_macro\", \"stepped\": false, \"type\": \"scatter\", \"data\": [0.7716529969862921, 0.8066550600718466, 0.8164092606754, 0.6819678158397671, 0.8114670302718942, 0.7904602459263276, 0.7764974252458755, 0.8088820257711044, 0.7077038321155967, 0.6498604507409158, 0.6430912637414186, 0.7736416234578, 0.8069241777333328, 0.7500198135716101, 0.7721870802874442, 0.5308222516969895, 0.7231753562197735, 0.7514342004629804, 0.7975052551038059, 0.8155212372869762, 0.7351641216679167, 0.7489074907853255, 0.7712172463833215, 0.8055980458767461, 0.8185482513588604, 0.7843234877718627, 0.7877673160349, 0.7291862988328832, 0.6954952459228775, 0.818483516906808, 0.6840733767135523, 0.8226059830019402, 0.7729053405033575, 0.8097471544364743, 0.7809330510825226, 0.5051846528084918, 0.8028251762050452, 0.8183096776507476, 0.8020187194581236, 0.7736587135901067, 0.8056874946948476, 0.7953797183208947, 0.7936718086089936, 0.8101618540231813, 0.8050054688988579, 0.6738631292455459, 0.766885567757288, 0.8078864186528575, 0.815346930969828, 0.8066383611548001, 0.8048529070573516, 0.8054473165050384, 0.7955671740021718, 0.6932929541753072, 0.8019725597501148, 0.7106908089887563, 0.8241725788024479, 0.3958087526508579]}, {\"categories\": [\"0\", \"1\", \"2\", \"3\", \"4\", \"5\", \"6\", \"7\", \"8\", \"9\", \"10\", \"11\", \"12\", \"13\", \"14\", \"15\", \"16\", \"17\", \"18\", \"19\", \"20\", \"21\", \"22\", \"23\", \"24\", \"25\", \"26\", \"27\", \"28\", \"29\", \"30\", \"31\", \"32\", \"33\", \"34\", \"35\", \"36\", \"37\", \"38\", \"39\", \"40\", \"41\", \"42\", \"43\", \"44\", \"45\", \"46\", \"47\", \"48\", \"49\", \"50\", \"51\", \"52\", \"53\", \"54\", \"55\", \"57\", \"58\"], \"mode\": \"lines\", \"name\": \"f1_score_macro_max\", \"stepped\": true, \"type\": \"scatter\", \"data\": [0.7716529969862921, 0.8066550600718466, 0.8164092606754, 0.8164092606754, 0.8164092606754, 0.8164092606754, 0.8164092606754, 0.8164092606754, 0.8164092606754, 0.8164092606754, 0.8164092606754, 0.8164092606754, 0.8164092606754, 0.8164092606754, 0.8164092606754, 0.8164092606754, 0.8164092606754, 0.8164092606754, 0.8164092606754, 0.8164092606754, 0.8164092606754, 0.8164092606754, 0.8164092606754, 0.8164092606754, 0.8185482513588604, 0.8185482513588604, 0.8185482513588604, 0.8185482513588604, 0.8185482513588604, 0.8185482513588604, 0.8185482513588604, 0.8226059830019402, 0.8226059830019402, 0.8226059830019402, 0.8226059830019402, 0.8226059830019402, 0.8226059830019402, 0.8226059830019402, 0.8226059830019402, 0.8226059830019402, 0.8226059830019402, 0.8226059830019402, 0.8226059830019402, 0.8226059830019402, 0.8226059830019402, 0.8226059830019402, 0.8226059830019402, 0.8226059830019402, 0.8226059830019402, 0.8226059830019402, 0.8226059830019402, 0.8226059830019402, 0.8226059830019402, 0.8226059830019402, 0.8226059830019402, 0.8226059830019402, 0.8241725788024479, 0.8241725788024479]}], \"f1_score_micro\": [{\"categories\": [\"0\", \"1\", \"2\", \"3\", \"4\", \"5\", \"6\", \"7\", \"8\", \"9\", \"10\", \"11\", \"12\", \"13\", \"14\", \"15\", \"16\", \"17\", \"18\", \"19\", \"20\", \"21\", \"22\", \"23\", \"24\", \"25\", \"26\", \"27\", \"28\", \"29\", \"30\", \"31\", \"32\", \"33\", \"34\", \"35\", \"36\", \"37\", \"38\", \"39\", \"40\", \"41\", \"42\", \"43\", \"44\", \"45\", \"46\", \"47\", \"48\", \"49\", \"50\", \"51\", \"52\", \"53\", \"54\", \"55\", \"57\", \"58\"], \"mode\": \"markers\", \"name\": \"f1_score_micro\", \"stepped\": false, \"type\": \"scatter\", \"data\": [0.803623188405797, 0.8327898550724638, 0.8407608695652173, 0.7619565217391305, 0.8327898550724638, 0.8286231884057971, 0.8074275362318841, 0.8413043478260869, 0.7780797101449275, 0.7244565217391306, 0.745108695652174, 0.8202898550724637, 0.8242753623188405, 0.7865942028985506, 0.7913043478260869, 0.6237318840579709, 0.7911231884057972, 0.7742753623188406, 0.8159420289855073, 0.8409420289855072, 0.7784420289855072, 0.7744565217391305, 0.7994565217391305, 0.8288043478260869, 0.841123188405797, 0.803623188405797, 0.8117753623188406, 0.7951086956521738, 0.7697463768115942, 0.8369565217391305, 0.7242753623188405, 0.8534420289855073, 0.8077898550724637, 0.8369565217391305, 0.8119565217391305, 0.6905797101449275, 0.8286231884057971, 0.841123188405797, 0.8244565217391304, 0.8079710144927535, 0.8409420289855072, 0.8246376811594203, 0.8202898550724639, 0.8452898550724637, 0.8327898550724638, 0.694927536231884, 0.7994565217391304, 0.8327898550724637, 0.8409420289855072, 0.8244565217391304, 0.8202898550724639, 0.8409420289855072, 0.8244565217391304, 0.7784420289855072, 0.8327898550724637, 0.7951086956521739, 0.8494565217391304, 0.6570652173913043]}, {\"categories\": [\"0\", \"1\", \"2\", \"3\", \"4\", \"5\", \"6\", \"7\", \"8\", \"9\", \"10\", \"11\", \"12\", \"13\", \"14\", \"15\", \"16\", \"17\", \"18\", \"19\", \"20\", \"21\", \"22\", \"23\", \"24\", \"25\", \"26\", \"27\", \"28\", \"29\", \"30\", \"31\", \"32\", \"33\", \"34\", \"35\", \"36\", \"37\", \"38\", \"39\", \"40\", \"41\", \"42\", \"43\", \"44\", \"45\", \"46\", \"47\", \"48\", \"49\", \"50\", \"51\", \"52\", \"53\", \"54\", \"55\", \"57\", \"58\"], \"mode\": \"lines\", \"name\": \"f1_score_micro_max\", \"stepped\": true, \"type\": \"scatter\", \"data\": [0.803623188405797, 0.8327898550724638, 0.8407608695652173, 0.8407608695652173, 0.8407608695652173, 0.8407608695652173, 0.8407608695652173, 0.8413043478260869, 0.8413043478260869, 0.8413043478260869, 0.8413043478260869, 0.8413043478260869, 0.8413043478260869, 0.8413043478260869, 0.8413043478260869, 0.8413043478260869, 0.8413043478260869, 0.8413043478260869, 0.8413043478260869, 0.8413043478260869, 0.8413043478260869, 0.8413043478260869, 0.8413043478260869, 0.8413043478260869, 0.8413043478260869, 0.8413043478260869, 0.8413043478260869, 0.8413043478260869, 0.8413043478260869, 0.8413043478260869, 0.8413043478260869, 0.8534420289855073, 0.8534420289855073, 0.8534420289855073, 0.8534420289855073, 0.8534420289855073, 0.8534420289855073, 0.8534420289855073, 0.8534420289855073, 0.8534420289855073, 0.8534420289855073, 0.8534420289855073, 0.8534420289855073, 0.8534420289855073, 0.8534420289855073, 0.8534420289855073, 0.8534420289855073, 0.8534420289855073, 0.8534420289855073, 0.8534420289855073, 0.8534420289855073, 0.8534420289855073, 0.8534420289855073, 0.8534420289855073, 0.8534420289855073, 0.8534420289855073, 0.8534420289855073, 0.8534420289855073]}], \"log_loss\": [{\"categories\": [\"0\", \"1\", \"2\", \"3\", \"4\", \"5\", \"6\", \"7\", \"8\", \"9\", \"10\", \"11\", \"12\", \"13\", \"14\", \"15\", \"16\", \"17\", \"18\", \"19\", \"20\", \"21\", \"22\", \"23\", \"24\", \"25\", \"26\", \"27\", \"28\", \"29\", \"30\", \"31\", \"32\", \"33\", \"34\", \"35\", \"36\", \"37\", \"38\", \"39\", \"40\", \"41\", \"42\", \"43\", \"44\", \"45\", \"46\", \"47\", \"48\", \"49\", \"50\", \"51\", \"52\", \"53\", \"54\", \"55\", \"57\", \"58\"], \"mode\": \"markers\", \"name\": \"log_loss\", \"stepped\": false, \"type\": \"scatter\", \"data\": [0.5113835461600813, 0.43916675172891606, 0.4040778586918061, 0.48458530037379466, 0.4109228606535119, 0.4322393042062046, 0.6766442918328368, 0.42508993728894273, 0.48589941086202726, 1.1099851948022064, 0.5040533927756218, 0.469202666702815, 0.4464518344501471, 0.44467089592605413, 0.4682625339112182, 0.7364294315179739, 0.4860744643929162, 0.6368994513426611, 0.5339612760817458, 0.49390392784680426, 0.4416447959724909, 0.5432162829507555, 0.5102662644591079, 0.4229544790192709, 0.42284156063672934, 0.458270647864344, 0.4469390401320557, 0.47041869693378474, 0.49086986275692623, 0.4665775946857001, 0.5641879209406269, 0.47060787016529276, 0.3923474013159873, 0.3844639675706834, 0.448392628588275, 0.5794314956144102, 0.4003069581998352, 0.3846425461074879, 0.3833468957872908, 0.4383607077260683, 0.43039499302160644, 0.37444096373578517, 0.42375178283091763, 0.4097658372772891, 0.3712959619859078, 0.597165930814651, 0.7166254501702658, 0.37967566025778154, 0.40508148843467273, 0.42153921023837065, 0.4907901450549935, 0.41452068212740034, 0.39014518607852466, 0.4843361554269463, 0.4223295322677285, 0.49783107783689606, 0.4332062411959911, 0.6437072626016801]}, {\"categories\": [\"0\", \"1\", \"2\", \"3\", \"4\", \"5\", \"6\", \"7\", \"8\", \"9\", \"10\", \"11\", \"12\", \"13\", \"14\", \"15\", \"16\", \"17\", \"18\", \"19\", \"20\", \"21\", \"22\", \"23\", \"24\", \"25\", \"26\", \"27\", \"28\", \"29\", \"30\", \"31\", \"32\", \"33\", \"34\", \"35\", \"36\", \"37\", \"38\", \"39\", \"40\", \"41\", \"42\", \"43\", \"44\", \"45\", \"46\", \"47\", \"48\", \"49\", \"50\", \"51\", \"52\", \"53\", \"54\", \"55\", \"57\", \"58\"], \"mode\": \"lines\", \"name\": \"log_loss_min\", \"stepped\": true, \"type\": \"scatter\", \"data\": [0.5113835461600813, 0.43916675172891606, 0.4040778586918061, 0.4040778586918061, 0.4040778586918061, 0.4040778586918061, 0.4040778586918061, 0.4040778586918061, 0.4040778586918061, 0.4040778586918061, 0.4040778586918061, 0.4040778586918061, 0.4040778586918061, 0.4040778586918061, 0.4040778586918061, 0.4040778586918061, 0.4040778586918061, 0.4040778586918061, 0.4040778586918061, 0.4040778586918061, 0.4040778586918061, 0.4040778586918061, 0.4040778586918061, 0.4040778586918061, 0.4040778586918061, 0.4040778586918061, 0.4040778586918061, 0.4040778586918061, 0.4040778586918061, 0.4040778586918061, 0.4040778586918061, 0.4040778586918061, 0.3923474013159873, 0.3844639675706834, 0.3844639675706834, 0.3844639675706834, 0.3844639675706834, 0.3844639675706834, 0.3833468957872908, 0.3833468957872908, 0.3833468957872908, 0.37444096373578517, 0.37444096373578517, 0.37444096373578517, 0.3712959619859078, 0.3712959619859078, 0.3712959619859078, 0.3712959619859078, 0.3712959619859078, 0.3712959619859078, 0.3712959619859078, 0.3712959619859078, 0.3712959619859078, 0.3712959619859078, 0.3712959619859078, 0.3712959619859078, 0.3712959619859078, 0.3712959619859078]}], \"precision_score_micro\": [{\"categories\": [\"0\", \"1\", \"2\", \"3\", \"4\", \"5\", \"6\", \"7\", \"8\", \"9\", \"10\", \"11\", \"12\", \"13\", \"14\", \"15\", \"16\", \"17\", \"18\", \"19\", \"20\", \"21\", \"22\", \"23\", \"24\", \"25\", \"26\", \"27\", \"28\", \"29\", \"30\", \"31\", \"32\", \"33\", \"34\", \"35\", \"36\", \"37\", \"38\", \"39\", \"40\", \"41\", \"42\", \"43\", \"44\", \"45\", \"46\", \"47\", \"48\", \"49\", \"50\", \"51\", \"52\", \"53\", \"54\", \"55\", \"57\", \"58\"], \"mode\": \"markers\", \"name\": \"precision_score_micro\", \"stepped\": false, \"type\": \"scatter\", \"data\": [0.803623188405797, 0.8327898550724638, 0.8407608695652173, 0.7619565217391305, 0.8327898550724638, 0.8286231884057971, 0.8074275362318841, 0.8413043478260869, 0.7780797101449275, 0.7244565217391306, 0.745108695652174, 0.8202898550724637, 0.8242753623188405, 0.7865942028985506, 0.7913043478260869, 0.6237318840579709, 0.7911231884057972, 0.7742753623188406, 0.8159420289855073, 0.8409420289855072, 0.7784420289855072, 0.7744565217391305, 0.7994565217391305, 0.8288043478260869, 0.841123188405797, 0.803623188405797, 0.8117753623188406, 0.7951086956521738, 0.7697463768115942, 0.8369565217391305, 0.7242753623188405, 0.8534420289855073, 0.8077898550724637, 0.8369565217391305, 0.8119565217391305, 0.6905797101449275, 0.8286231884057971, 0.841123188405797, 0.8244565217391304, 0.8079710144927535, 0.8409420289855072, 0.8246376811594203, 0.8202898550724639, 0.8452898550724637, 0.8327898550724638, 0.694927536231884, 0.7994565217391304, 0.8327898550724637, 0.8409420289855072, 0.8244565217391304, 0.8202898550724639, 0.8409420289855072, 0.8244565217391304, 0.7784420289855072, 0.8327898550724637, 0.7951086956521739, 0.8494565217391304, 0.6570652173913043]}, {\"categories\": [\"0\", \"1\", \"2\", \"3\", \"4\", \"5\", \"6\", \"7\", \"8\", \"9\", \"10\", \"11\", \"12\", \"13\", \"14\", \"15\", \"16\", \"17\", \"18\", \"19\", \"20\", \"21\", \"22\", \"23\", \"24\", \"25\", \"26\", \"27\", \"28\", \"29\", \"30\", \"31\", \"32\", \"33\", \"34\", \"35\", \"36\", \"37\", \"38\", \"39\", \"40\", \"41\", \"42\", \"43\", \"44\", \"45\", \"46\", \"47\", \"48\", \"49\", \"50\", \"51\", \"52\", \"53\", \"54\", \"55\", \"57\", \"58\"], \"mode\": \"lines\", \"name\": \"precision_score_micro_max\", \"stepped\": true, \"type\": \"scatter\", \"data\": [0.803623188405797, 0.8327898550724638, 0.8407608695652173, 0.8407608695652173, 0.8407608695652173, 0.8407608695652173, 0.8407608695652173, 0.8413043478260869, 0.8413043478260869, 0.8413043478260869, 0.8413043478260869, 0.8413043478260869, 0.8413043478260869, 0.8413043478260869, 0.8413043478260869, 0.8413043478260869, 0.8413043478260869, 0.8413043478260869, 0.8413043478260869, 0.8413043478260869, 0.8413043478260869, 0.8413043478260869, 0.8413043478260869, 0.8413043478260869, 0.8413043478260869, 0.8413043478260869, 0.8413043478260869, 0.8413043478260869, 0.8413043478260869, 0.8413043478260869, 0.8413043478260869, 0.8534420289855073, 0.8534420289855073, 0.8534420289855073, 0.8534420289855073, 0.8534420289855073, 0.8534420289855073, 0.8534420289855073, 0.8534420289855073, 0.8534420289855073, 0.8534420289855073, 0.8534420289855073, 0.8534420289855073, 0.8534420289855073, 0.8534420289855073, 0.8534420289855073, 0.8534420289855073, 0.8534420289855073, 0.8534420289855073, 0.8534420289855073, 0.8534420289855073, 0.8534420289855073, 0.8534420289855073, 0.8534420289855073, 0.8534420289855073, 0.8534420289855073, 0.8534420289855073, 0.8534420289855073]}], \"AUC_micro\": [{\"categories\": [\"0\", \"1\", \"2\", \"3\", \"4\", \"5\", \"6\", \"7\", \"8\", \"9\", \"10\", \"11\", \"12\", \"13\", \"14\", \"15\", \"16\", \"17\", \"18\", \"19\", \"20\", \"21\", \"22\", \"23\", \"24\", \"25\", \"26\", \"27\", \"28\", \"29\", \"30\", \"31\", \"32\", \"33\", \"34\", \"35\", \"36\", \"37\", \"38\", \"39\", \"40\", \"41\", \"42\", \"43\", \"44\", \"45\", \"46\", \"47\", \"48\", \"49\", \"50\", \"51\", \"52\", \"53\", \"54\", \"55\", \"57\", \"58\"], \"mode\": \"markers\", \"name\": \"AUC_micro\", \"stepped\": false, \"type\": \"scatter\", \"data\": [0.8869486452425962, 0.8970683023524471, 0.9026954027515229, 0.8688235139676539, 0.8969757535181685, 0.8897687591892458, 0.88834163647343, 0.8957680240495695, 0.8660073382692712, 0.7709879095778197, 0.8527741677168661, 0.8736537754673387, 0.8970916036546944, 0.8674116519638732, 0.8706561121613108, 0.670618370615417, 0.866790393299727, 0.8384031716026044, 0.8878708517118252, 0.8992750341314849, 0.8774154589371982, 0.8488044134635582, 0.8635728444654486, 0.8919177299936989, 0.9023074852972066, 0.8951585801302248, 0.8880674359378282, 0.8812851160470488, 0.8744525834908634, 0.9101508349086325, 0.8037117989918083, 0.8947572069943289, 0.9019911126864104, 0.9098653119092628, 0.890174070573409, 0.7685114077924806, 0.899919265910523, 0.9097225504095778, 0.9073228444654484, 0.8778050173282923, 0.9085033343835329, 0.9093290537702166, 0.8979363579080026, 0.9021876969124133, 0.9131947726318002, 0.8039510475740389, 0.8804403617937406, 0.9106020925225794, 0.9093599033816424, 0.9081794134635581, 0.9038391356857802, 0.8995681054400336, 0.899876929741651, 0.8771492989918084, 0.8933722563537072, 0.850637011657215, 0.9185573540222641, 0.8437890542953161]}, {\"categories\": [\"0\", \"1\", \"2\", \"3\", \"4\", \"5\", \"6\", \"7\", \"8\", \"9\", \"10\", \"11\", \"12\", \"13\", \"14\", \"15\", \"16\", \"17\", \"18\", \"19\", \"20\", \"21\", \"22\", \"23\", \"24\", \"25\", \"26\", \"27\", \"28\", \"29\", \"30\", \"31\", \"32\", \"33\", \"34\", \"35\", \"36\", \"37\", \"38\", \"39\", \"40\", \"41\", \"42\", \"43\", \"44\", \"45\", \"46\", \"47\", \"48\", \"49\", \"50\", \"51\", \"52\", \"53\", \"54\", \"55\", \"57\", \"58\"], \"mode\": \"lines\", \"name\": \"AUC_micro_max\", \"stepped\": true, \"type\": \"scatter\", \"data\": [0.8869486452425962, 0.8970683023524471, 0.9026954027515229, 0.9026954027515229, 0.9026954027515229, 0.9026954027515229, 0.9026954027515229, 0.9026954027515229, 0.9026954027515229, 0.9026954027515229, 0.9026954027515229, 0.9026954027515229, 0.9026954027515229, 0.9026954027515229, 0.9026954027515229, 0.9026954027515229, 0.9026954027515229, 0.9026954027515229, 0.9026954027515229, 0.9026954027515229, 0.9026954027515229, 0.9026954027515229, 0.9026954027515229, 0.9026954027515229, 0.9026954027515229, 0.9026954027515229, 0.9026954027515229, 0.9026954027515229, 0.9026954027515229, 0.9101508349086325, 0.9101508349086325, 0.9101508349086325, 0.9101508349086325, 0.9101508349086325, 0.9101508349086325, 0.9101508349086325, 0.9101508349086325, 0.9101508349086325, 0.9101508349086325, 0.9101508349086325, 0.9101508349086325, 0.9101508349086325, 0.9101508349086325, 0.9101508349086325, 0.9131947726318002, 0.9131947726318002, 0.9131947726318002, 0.9131947726318002, 0.9131947726318002, 0.9131947726318002, 0.9131947726318002, 0.9131947726318002, 0.9131947726318002, 0.9131947726318002, 0.9131947726318002, 0.9131947726318002, 0.9185573540222641, 0.9185573540222641]}]}, \"metricName\": null, \"primaryMetricName\": \"AUC_weighted\", \"showLegend\": false}, \"run_metrics\": [{\"name\": \"experiment_status\", \"run_id\": \"AutoML_e4d55488-8866-412b-8c0c-e2b1d6adf5c1\", \"categories\": [0, 1, 2, 3, 4, 5, 6, 7, 8, 9, 10, 11, 12, 13], \"series\": [{\"data\": [\"DatasetEvaluation\", \"FeaturesGeneration\", \"DatasetFeaturization\", \"DatasetFeaturizationCompleted\", \"DatasetCrossValidationSplit\", \"ModelSelection\", \"BestRunExplainModel\", \"ModelExplanationDataSetSetup\", \"PickSurrogateModel\", \"EngineeredFeatureExplanations\", \"EngineeredFeatureExplanations\", \"RawFeaturesExplanations\", \"RawFeaturesExplanations\", \"BestRunExplainModel\"]}]}, {\"name\": \"experiment_status_description\", \"run_id\": \"AutoML_e4d55488-8866-412b-8c0c-e2b1d6adf5c1\", \"categories\": [0, 1, 2, 3, 4, 5, 6, 7, 8, 9, 10, 11, 12, 13], \"series\": [{\"data\": [\"Gathering dataset statistics.\", \"Generating features for the dataset.\", \"Beginning to fit featurizers and featurize the dataset.\", \"Completed fit featurizers and featurizing the dataset.\", \"Generating individually featurized CV splits.\", \"Beginning model selection.\", \"Best run model explanations started\", \"Model explanations data setup completed\", \"Choosing LightGBM as the surrogate model for explanations\", \"Computation of engineered features started\", \"Computation of engineered features completed\", \"Computation of raw features started\", \"Computation of raw features completed\", \"Best run model explanations completed\"]}]}, {\"name\": \"precision_score_micro\", \"run_id\": \"AutoML_e4d55488-8866-412b-8c0c-e2b1d6adf5c1\", \"categories\": [0], \"series\": [{\"data\": [0.8494565217391304]}]}, {\"name\": \"average_precision_score_micro\", \"run_id\": \"AutoML_e4d55488-8866-412b-8c0c-e2b1d6adf5c1\", \"categories\": [0], \"series\": [{\"data\": [0.9241757429282534]}]}, {\"name\": \"precision_score_macro\", \"run_id\": \"AutoML_e4d55488-8866-412b-8c0c-e2b1d6adf5c1\", \"categories\": [0], \"series\": [{\"data\": [0.8515032679738562]}]}, {\"name\": \"recall_score_macro\", \"run_id\": \"AutoML_e4d55488-8866-412b-8c0c-e2b1d6adf5c1\", \"categories\": [0], \"series\": [{\"data\": [0.8236507936507937]}]}, {\"name\": \"f1_score_macro\", \"run_id\": \"AutoML_e4d55488-8866-412b-8c0c-e2b1d6adf5c1\", \"categories\": [0], \"series\": [{\"data\": [0.8241725788024479]}]}, {\"name\": \"AUC_macro\", \"run_id\": \"AutoML_e4d55488-8866-412b-8c0c-e2b1d6adf5c1\", \"categories\": [0], \"series\": [{\"data\": [0.924755291005291]}]}, {\"name\": \"weighted_accuracy\", \"run_id\": \"AutoML_e4d55488-8866-412b-8c0c-e2b1d6adf5c1\", \"categories\": [0], \"series\": [{\"data\": [0.8693643088604516]}]}, {\"name\": \"balanced_accuracy\", \"run_id\": \"AutoML_e4d55488-8866-412b-8c0c-e2b1d6adf5c1\", \"categories\": [0], \"series\": [{\"data\": [0.8236507936507937]}]}, {\"name\": \"matthews_correlation\", \"run_id\": \"AutoML_e4d55488-8866-412b-8c0c-e2b1d6adf5c1\", \"categories\": [0], \"series\": [{\"data\": [0.6714207132206833]}]}, {\"name\": \"AUC_micro\", \"run_id\": \"AutoML_e4d55488-8866-412b-8c0c-e2b1d6adf5c1\", \"categories\": [0], \"series\": [{\"data\": [0.9185573540222641]}]}, {\"name\": \"AUC_weighted\", \"run_id\": \"AutoML_e4d55488-8866-412b-8c0c-e2b1d6adf5c1\", \"categories\": [0], \"series\": [{\"data\": [0.924755291005291]}]}, {\"name\": \"accuracy\", \"run_id\": \"AutoML_e4d55488-8866-412b-8c0c-e2b1d6adf5c1\", \"categories\": [0], \"series\": [{\"data\": [0.8494565217391304]}]}, {\"name\": \"precision_score_weighted\", \"run_id\": \"AutoML_e4d55488-8866-412b-8c0c-e2b1d6adf5c1\", \"categories\": [0], \"series\": [{\"data\": [0.8636555129298096]}]}, {\"name\": \"average_precision_score_macro\", \"run_id\": \"AutoML_e4d55488-8866-412b-8c0c-e2b1d6adf5c1\", \"categories\": [0], \"series\": [{\"data\": [0.9200459730574471]}]}, {\"name\": \"norm_macro_recall\", \"run_id\": \"AutoML_e4d55488-8866-412b-8c0c-e2b1d6adf5c1\", \"categories\": [0], \"series\": [{\"data\": [0.6473015873015873]}]}, {\"name\": \"f1_score_micro\", \"run_id\": \"AutoML_e4d55488-8866-412b-8c0c-e2b1d6adf5c1\", \"categories\": [0], \"series\": [{\"data\": [0.8494565217391304]}]}, {\"name\": \"log_loss\", \"run_id\": \"AutoML_e4d55488-8866-412b-8c0c-e2b1d6adf5c1\", \"categories\": [0], \"series\": [{\"data\": [0.4332062411959911]}]}, {\"name\": \"f1_score_weighted\", \"run_id\": \"AutoML_e4d55488-8866-412b-8c0c-e2b1d6adf5c1\", \"categories\": [0], \"series\": [{\"data\": [0.8465283632697675]}]}, {\"name\": \"recall_score_weighted\", \"run_id\": \"AutoML_e4d55488-8866-412b-8c0c-e2b1d6adf5c1\", \"categories\": [0], \"series\": [{\"data\": [0.8494565217391304]}]}, {\"name\": \"average_precision_score_weighted\", \"run_id\": \"AutoML_e4d55488-8866-412b-8c0c-e2b1d6adf5c1\", \"categories\": [0], \"series\": [{\"data\": [0.9371380909289779]}]}, {\"name\": \"recall_score_micro\", \"run_id\": \"AutoML_e4d55488-8866-412b-8c0c-e2b1d6adf5c1\", \"categories\": [0], \"series\": [{\"data\": [0.8494565217391304]}]}], \"run_logs\": \"\\nRun is completed.\", \"graph\": {}, \"widget_settings\": {\"childWidgetDisplay\": \"popup\", \"send_telemetry\": false, \"log_level\": \"INFO\", \"sdk_version\": \"1.19.0\"}, \"loading\": false}"
          },
          "metadata": {}
        }
      ],
      "execution_count": 9,
      "metadata": {
        "collapsed": true,
        "gather": {
          "logged": 1609603358533
        },
        "jupyter": {
          "outputs_hidden": false,
          "source_hidden": false
        },
        "nteract": {
          "transient": {
            "deleting": false
          }
        }
      }
    },
    {
      "cell_type": "markdown",
      "source": [
        "## Run Details\n",
        "\n",
        "OPTIONAL: Write about the different models trained and their performance. Why do you think some models did better than others?\n",
        "\n",
        "TODO: In the cell below, use the `RunDetails` widget to show the different experiments."
      ],
      "metadata": {}
    },
    {
      "cell_type": "code",
      "source": [
        "remote_run.wait_for_completion(show_output=True)"
      ],
      "outputs": [
        {
          "output_type": "stream",
          "name": "stdout",
          "text": [
            "\n",
            "\n",
            "****************************************************************************************************\n",
            "DATA GUARDRAILS: \n",
            "\n",
            "TYPE:         Cross validation\n",
            "STATUS:       DONE\n",
            "DESCRIPTION:  Each iteration of the trained model was validated through cross-validation.\n",
            "              \n",
            "DETAILS:      \n",
            "+---------------------------------+\n",
            "|Number of folds                  |\n",
            "+=================================+\n",
            "|10                               |\n",
            "+---------------------------------+\n",
            "\n",
            "****************************************************************************************************\n",
            "\n",
            "TYPE:         Class balancing detection\n",
            "STATUS:       PASSED\n",
            "DESCRIPTION:  Your inputs were analyzed, and all classes are balanced in your training data.\n",
            "              Learn more about imbalanced data: https://aka.ms/AutomatedMLImbalancedData\n",
            "\n",
            "****************************************************************************************************\n",
            "\n",
            "TYPE:         Missing feature values imputation\n",
            "STATUS:       PASSED\n",
            "DESCRIPTION:  No feature missing values were detected in the training data.\n",
            "              Learn more about missing value imputation: https://aka.ms/AutomatedMLFeaturization\n",
            "\n",
            "****************************************************************************************************\n",
            "\n",
            "TYPE:         High cardinality feature detection\n",
            "STATUS:       PASSED\n",
            "DESCRIPTION:  Your inputs were analyzed, and no high cardinality features were detected.\n",
            "              Learn more about high cardinality feature handling: https://aka.ms/AutomatedMLFeaturization\n",
            "\n",
            "****************************************************************************************************\n",
            "\n",
            "****************************************************************************************************\n",
            "ITERATION: The iteration being evaluated.\n",
            "PIPELINE: A summary description of the pipeline being evaluated.\n",
            "DURATION: Time taken for the current iteration.\n",
            "METRIC: The result of computing score on the fitted pipeline.\n",
            "BEST: The best observed score thus far.\n",
            "****************************************************************************************************\n",
            "\n",
            " ITERATION   PIPELINE                                       DURATION      METRIC      BEST\n",
            "         0   MaxAbsScaler LightGBM                          0:01:04       0.8901    0.8901\n",
            "         1   MaxAbsScaler XGBoostClassifier                 0:00:57       0.8879    0.8901\n",
            "         2   MinMaxScaler RandomForest                      0:00:59       0.8977    0.8977\n",
            "         3   RobustScaler ExtremeRandomTrees                0:01:03       0.8777    0.8977\n",
            "         4   MinMaxScaler RandomForest                      0:01:09       0.8894    0.8977\n",
            "         5   MinMaxScaler RandomForest                      0:00:58       0.8768    0.8977\n",
            "         6   StandardScalerWrapper RandomForest             0:00:58       0.8810    0.8977\n",
            "         7   MinMaxScaler ExtremeRandomTrees                0:01:42       0.8813    0.8977\n",
            "         8   MinMaxScaler ExtremeRandomTrees                0:01:32       0.8662    0.8977\n",
            "         9   SparseNormalizer KNN                           0:01:30       0.7183    0.8977\n",
            "        10   MinMaxScaler ExtremeRandomTrees                0:01:06       0.8553    0.8977\n",
            "        11   RobustScaler ExtremeRandomTrees                0:01:35       0.8629    0.8977\n",
            "        12   StandardScalerWrapper RandomForest             0:01:19       0.8996    0.8996\n",
            "        13   StandardScalerWrapper SGD                      0:01:16       0.8466    0.8996\n",
            "        14   RobustScaler RandomForest                      0:01:14       0.8647    0.8996\n",
            "        15   StandardScalerWrapper KNN                      0:01:16       0.5876    0.8996\n",
            "        16   MinMaxScaler RandomForest                      0:01:38       0.8741    0.8996\n",
            "        17   MinMaxScaler ExtremeRandomTrees                0:01:18       0.8233    0.8996\n",
            "        18   MaxAbsScaler RandomForest                      0:01:15       0.8827    0.8996\n",
            "        19   StandardScalerWrapper XGBoostClassifier        0:01:09       0.8926    0.8996\n",
            "        20   MaxAbsScaler RandomForest                      0:01:15       0.8683    0.8996\n",
            "        21   MaxAbsScaler ExtremeRandomTrees                0:01:15       0.8415    0.8996\n",
            "        22   MaxAbsScaler ExtremeRandomTrees                0:01:09       0.8549    0.8996\n",
            "        23   MinMaxScaler ExtremeRandomTrees                0:01:15       0.8856    0.8996\n",
            "        24   StandardScalerWrapper XGBoostClassifier        0:01:10       0.9007    0.9007\n",
            "        25   MinMaxScaler RandomForest                      0:01:17       0.9026    0.9026\n",
            "        26   MaxAbsScaler ExtremeRandomTrees                0:01:15       0.8854    0.9026\n",
            "        27   StandardScalerWrapper LightGBM                 0:01:19       0.8932    0.9026\n",
            "        28   RobustScaler LightGBM                          0:01:09       0.8998    0.9026\n",
            "        29   MinMaxScaler RandomForest                      0:01:20       0.9126    0.9126\n",
            "        30   RobustScaler RandomForest                      0:01:05       0.7743    0.9126\n",
            "        31   StandardScalerWrapper XGBoostClassifier        0:01:09       0.8798    0.9126\n",
            "        32   MaxAbsScaler LightGBM                          0:01:08       0.8993    0.9126\n",
            "        33   StandardScalerWrapper LightGBM                 0:01:07       0.9091    0.9126\n",
            "        34   StandardScalerWrapper XGBoostClassifier        0:01:09       0.8837    0.9126\n",
            "        35   TruncatedSVDWrapper RandomForest               0:01:07       0.7216    0.9126\n",
            "        36   MinMaxScaler LightGBM                          0:01:09       0.8991    0.9126\n",
            "        37   MinMaxScaler GradientBoosting                  0:01:06       0.9097    0.9126\n",
            "        38   MaxAbsScaler GradientBoosting                  0:01:07       0.9101    0.9126\n",
            "        39   StandardScalerWrapper SVM                      0:00:58       0.8613    0.9126\n",
            "        40   StandardScalerWrapper RandomForest             0:01:17       0.9133    0.9133\n",
            "        41   StandardScalerWrapper GradientBoosting         0:01:27       0.9061    0.9133\n",
            "        42   StandardScalerWrapper XGBoostClassifier        0:01:23       0.8900    0.9133\n",
            "        43   RobustScaler ExtremeRandomTrees                0:01:22       0.8995    0.9133\n",
            "        44   RobustScaler GradientBoosting                  0:01:24       0.9117    0.9133\n",
            "        45   StandardScalerWrapper RandomForest             0:01:26       0.7865    0.9133\n",
            "        46   RobustScaler GradientBoosting                  0:01:18       0.8738    0.9133\n",
            "        47   MinMaxScaler GradientBoosting                  0:01:19       0.9075    0.9133\n",
            "        48   StandardScalerWrapper RandomForest             0:01:14       0.9117    0.9133\n",
            "        49   RobustScaler RandomForest                      0:01:19       0.9121    0.9133\n",
            "        50   MinMaxScaler RandomForest                      0:01:04       0.9067    0.9133\n",
            "        51   StandardScalerWrapper XGBoostClassifier        0:01:13       0.8983    0.9133\n",
            "        52   MaxAbsScaler LightGBM                          0:01:12       0.9009    0.9133\n",
            "        53   MaxAbsScaler LightGBM                          0:01:07       0.8975    0.9133\n",
            "        54   StandardScalerWrapper XGBoostClassifier        0:01:12       0.8938    0.9133\n",
            "        55   StandardScalerWrapper RandomForest             0:01:00       0.8463    0.9133\n",
            "        56                                                  0:00:18          nan    0.9133\n",
            "        57    VotingEnsemble                                0:02:55       0.9248    0.9248\n",
            "        58    StackEnsemble                                 0:02:56       0.9186    0.9248\n"
          ]
        },
        {
          "output_type": "execute_result",
          "execution_count": 10,
          "data": {
            "text/plain": "{'runId': 'AutoML_e4d55488-8866-412b-8c0c-e2b1d6adf5c1',\n 'target': 'notebook132965',\n 'status': 'Completed',\n 'startTimeUtc': '2021-01-02T15:37:55.133591Z',\n 'endTimeUtc': '2021-01-02T16:02:35.977106Z',\n 'properties': {'num_iterations': '1000',\n  'training_type': 'TrainFull',\n  'acquisition_function': 'EI',\n  'primary_metric': 'AUC_weighted',\n  'train_split': '0',\n  'acquisition_parameter': '0',\n  'num_cross_validation': None,\n  'target': 'notebook132965',\n  'AMLSettingsJsonString': '{\"path\":null,\"name\":\"ml-experiment-1\",\"subscription_id\":\"2c48c51c-bd47-40d4-abbe-fb8eabd19c8c\",\"resource_group\":\"aml-quickstarts-132965\",\"workspace_name\":\"quick-starts-ws-132965\",\"region\":\"southcentralus\",\"compute_target\":\"notebook132965\",\"spark_service\":null,\"azure_service\":\"remote\",\"many_models\":false,\"pipeline_fetch_max_batch_size\":1,\"iterations\":1000,\"primary_metric\":\"AUC_weighted\",\"task_type\":\"classification\",\"data_script\":null,\"validation_size\":0.0,\"n_cross_validations\":null,\"y_min\":null,\"y_max\":null,\"num_classes\":null,\"featurization\":\"auto\",\"_ignore_package_version_incompatibilities\":false,\"is_timeseries\":false,\"max_cores_per_iteration\":1,\"max_concurrent_iterations\":5,\"iteration_timeout_minutes\":null,\"mem_in_mb\":null,\"enforce_time_on_windows\":false,\"experiment_timeout_minutes\":20,\"experiment_exit_score\":null,\"whitelist_models\":null,\"blacklist_algos\":[\"TensorFlowLinearClassifier\",\"TensorFlowDNN\"],\"supported_models\":[\"XGBoostClassifier\",\"KNN\",\"ExtremeRandomTrees\",\"BernoulliNaiveBayes\",\"DecisionTree\",\"TensorFlowLinearClassifier\",\"SGD\",\"LinearSVM\",\"RandomForest\",\"GradientBoosting\",\"TensorFlowDNN\",\"LogisticRegression\",\"SVM\",\"MultinomialNaiveBayes\",\"LightGBM\",\"AveragedPerceptronClassifier\"],\"auto_blacklist\":true,\"blacklist_samples_reached\":false,\"exclude_nan_labels\":true,\"verbosity\":20,\"_debug_log\":\"azureml_automl.log\",\"show_warnings\":false,\"model_explainability\":true,\"service_url\":null,\"sdk_url\":null,\"sdk_packages\":null,\"enable_onnx_compatible_models\":false,\"enable_split_onnx_featurizer_estimator_models\":false,\"vm_type\":\"STANDARD_DS3_V2\",\"telemetry_verbosity\":20,\"send_telemetry\":true,\"enable_dnn\":false,\"scenario\":\"SDK-1.13.0\",\"environment_label\":null,\"force_text_dnn\":false,\"enable_feature_sweeping\":true,\"enable_early_stopping\":true,\"early_stopping_n_iters\":10,\"metrics\":null,\"enable_ensembling\":true,\"enable_stack_ensembling\":true,\"ensemble_iterations\":15,\"enable_tf\":false,\"enable_subsampling\":null,\"subsample_seed\":null,\"enable_nimbusml\":false,\"enable_streaming\":false,\"force_streaming\":false,\"track_child_runs\":true,\"allowed_private_models\":[],\"label_column_name\":\"DEATH_EVENT\",\"weight_column_name\":null,\"cv_split_column_names\":null,\"enable_local_managed\":false,\"_local_managed_run_id\":null,\"cost_mode\":1,\"lag_length\":0,\"metric_operation\":\"maximize\",\"preprocess\":true}',\n  'DataPrepJsonString': '{\\\\\"training_data\\\\\": \\\\\"{\\\\\\\\\\\\\"blocks\\\\\\\\\\\\\": [{\\\\\\\\\\\\\"id\\\\\\\\\\\\\": \\\\\\\\\\\\\"df20492f-f0f1-4175-84a6-f9b51f968e0a\\\\\\\\\\\\\", \\\\\\\\\\\\\"type\\\\\\\\\\\\\": \\\\\\\\\\\\\"Microsoft.DPrep.GetDatastoreFilesBlock\\\\\\\\\\\\\", \\\\\\\\\\\\\"arguments\\\\\\\\\\\\\": {\\\\\\\\\\\\\"datastores\\\\\\\\\\\\\": [{\\\\\\\\\\\\\"datastoreName\\\\\\\\\\\\\": \\\\\\\\\\\\\"workspaceblobstore\\\\\\\\\\\\\", \\\\\\\\\\\\\"path\\\\\\\\\\\\\": \\\\\\\\\\\\\"udacity-project/train_data.csv\\\\\\\\\\\\\", \\\\\\\\\\\\\"resourceGroup\\\\\\\\\\\\\": \\\\\\\\\\\\\"aml-quickstarts-132965\\\\\\\\\\\\\", \\\\\\\\\\\\\"subscription\\\\\\\\\\\\\": \\\\\\\\\\\\\"2c48c51c-bd47-40d4-abbe-fb8eabd19c8c\\\\\\\\\\\\\", \\\\\\\\\\\\\"workspaceName\\\\\\\\\\\\\": \\\\\\\\\\\\\"quick-starts-ws-132965\\\\\\\\\\\\\"}]}, \\\\\\\\\\\\\"localData\\\\\\\\\\\\\": {}, \\\\\\\\\\\\\"isEnabled\\\\\\\\\\\\\": true, \\\\\\\\\\\\\"name\\\\\\\\\\\\\": null, \\\\\\\\\\\\\"annotation\\\\\\\\\\\\\": null}, {\\\\\\\\\\\\\"id\\\\\\\\\\\\\": \\\\\\\\\\\\\"1679b350-7c0c-4e35-8533-9aad776a736e\\\\\\\\\\\\\", \\\\\\\\\\\\\"type\\\\\\\\\\\\\": \\\\\\\\\\\\\"Microsoft.DPrep.ParseDelimitedBlock\\\\\\\\\\\\\", \\\\\\\\\\\\\"arguments\\\\\\\\\\\\\": {\\\\\\\\\\\\\"columnHeadersMode\\\\\\\\\\\\\": 3, \\\\\\\\\\\\\"fileEncoding\\\\\\\\\\\\\": 0, \\\\\\\\\\\\\"handleQuotedLineBreaks\\\\\\\\\\\\\": false, \\\\\\\\\\\\\"preview\\\\\\\\\\\\\": false, \\\\\\\\\\\\\"separator\\\\\\\\\\\\\": \\\\\\\\\\\\\",\\\\\\\\\\\\\", \\\\\\\\\\\\\"skipRows\\\\\\\\\\\\\": 0, \\\\\\\\\\\\\"skipRowsMode\\\\\\\\\\\\\": 0}, \\\\\\\\\\\\\"localData\\\\\\\\\\\\\": {}, \\\\\\\\\\\\\"isEnabled\\\\\\\\\\\\\": true, \\\\\\\\\\\\\"name\\\\\\\\\\\\\": null, \\\\\\\\\\\\\"annotation\\\\\\\\\\\\\": null}, {\\\\\\\\\\\\\"id\\\\\\\\\\\\\": \\\\\\\\\\\\\"85bbfda7-3632-4846-a13b-35e7211a832a\\\\\\\\\\\\\", \\\\\\\\\\\\\"type\\\\\\\\\\\\\": \\\\\\\\\\\\\"Microsoft.DPrep.DropColumnsBlock\\\\\\\\\\\\\", \\\\\\\\\\\\\"arguments\\\\\\\\\\\\\": {\\\\\\\\\\\\\"columns\\\\\\\\\\\\\": {\\\\\\\\\\\\\"type\\\\\\\\\\\\\": 0, \\\\\\\\\\\\\"details\\\\\\\\\\\\\": {\\\\\\\\\\\\\"selectedColumns\\\\\\\\\\\\\": [\\\\\\\\\\\\\"Path\\\\\\\\\\\\\"]}}}, \\\\\\\\\\\\\"localData\\\\\\\\\\\\\": {}, \\\\\\\\\\\\\"isEnabled\\\\\\\\\\\\\": true, \\\\\\\\\\\\\"name\\\\\\\\\\\\\": null, \\\\\\\\\\\\\"annotation\\\\\\\\\\\\\": null}, {\\\\\\\\\\\\\"id\\\\\\\\\\\\\": \\\\\\\\\\\\\"97d33143-462a-48d4-9798-f31776631c72\\\\\\\\\\\\\", \\\\\\\\\\\\\"type\\\\\\\\\\\\\": \\\\\\\\\\\\\"Microsoft.DPrep.SetColumnTypesBlock\\\\\\\\\\\\\", \\\\\\\\\\\\\"arguments\\\\\\\\\\\\\": {\\\\\\\\\\\\\"columnConversion\\\\\\\\\\\\\": [{\\\\\\\\\\\\\"column\\\\\\\\\\\\\": {\\\\\\\\\\\\\"type\\\\\\\\\\\\\": 2, \\\\\\\\\\\\\"details\\\\\\\\\\\\\": {\\\\\\\\\\\\\"selectedColumn\\\\\\\\\\\\\": \\\\\\\\\\\\\"age\\\\\\\\\\\\\"}}, \\\\\\\\\\\\\"typeProperty\\\\\\\\\\\\\": 3}, {\\\\\\\\\\\\\"column\\\\\\\\\\\\\": {\\\\\\\\\\\\\"type\\\\\\\\\\\\\": 2, \\\\\\\\\\\\\"details\\\\\\\\\\\\\": {\\\\\\\\\\\\\"selectedColumn\\\\\\\\\\\\\": \\\\\\\\\\\\\"anaemia\\\\\\\\\\\\\"}}, \\\\\\\\\\\\\"typeProperty\\\\\\\\\\\\\": 2}, {\\\\\\\\\\\\\"column\\\\\\\\\\\\\": {\\\\\\\\\\\\\"type\\\\\\\\\\\\\": 2, \\\\\\\\\\\\\"details\\\\\\\\\\\\\": {\\\\\\\\\\\\\"selectedColumn\\\\\\\\\\\\\": \\\\\\\\\\\\\"creatinine_phosphokinase\\\\\\\\\\\\\"}}, \\\\\\\\\\\\\"typeProperty\\\\\\\\\\\\\": 2}, {\\\\\\\\\\\\\"column\\\\\\\\\\\\\": {\\\\\\\\\\\\\"type\\\\\\\\\\\\\": 2, \\\\\\\\\\\\\"details\\\\\\\\\\\\\": {\\\\\\\\\\\\\"selectedColumn\\\\\\\\\\\\\": \\\\\\\\\\\\\"diabetes\\\\\\\\\\\\\"}}, \\\\\\\\\\\\\"typeProperty\\\\\\\\\\\\\": 2}, {\\\\\\\\\\\\\"column\\\\\\\\\\\\\": {\\\\\\\\\\\\\"type\\\\\\\\\\\\\": 2, \\\\\\\\\\\\\"details\\\\\\\\\\\\\": {\\\\\\\\\\\\\"selectedColumn\\\\\\\\\\\\\": \\\\\\\\\\\\\"ejection_fraction\\\\\\\\\\\\\"}}, \\\\\\\\\\\\\"typeProperty\\\\\\\\\\\\\": 2}, {\\\\\\\\\\\\\"column\\\\\\\\\\\\\": {\\\\\\\\\\\\\"type\\\\\\\\\\\\\": 2, \\\\\\\\\\\\\"details\\\\\\\\\\\\\": {\\\\\\\\\\\\\"selectedColumn\\\\\\\\\\\\\": \\\\\\\\\\\\\"high_blood_pressure\\\\\\\\\\\\\"}}, \\\\\\\\\\\\\"typeProperty\\\\\\\\\\\\\": 2}, {\\\\\\\\\\\\\"column\\\\\\\\\\\\\": {\\\\\\\\\\\\\"type\\\\\\\\\\\\\": 2, \\\\\\\\\\\\\"details\\\\\\\\\\\\\": {\\\\\\\\\\\\\"selectedColumn\\\\\\\\\\\\\": \\\\\\\\\\\\\"platelets\\\\\\\\\\\\\"}}, \\\\\\\\\\\\\"typeProperty\\\\\\\\\\\\\": 3}, {\\\\\\\\\\\\\"column\\\\\\\\\\\\\": {\\\\\\\\\\\\\"type\\\\\\\\\\\\\": 2, \\\\\\\\\\\\\"details\\\\\\\\\\\\\": {\\\\\\\\\\\\\"selectedColumn\\\\\\\\\\\\\": \\\\\\\\\\\\\"serum_creatinine\\\\\\\\\\\\\"}}, \\\\\\\\\\\\\"typeProperty\\\\\\\\\\\\\": 3}, {\\\\\\\\\\\\\"column\\\\\\\\\\\\\": {\\\\\\\\\\\\\"type\\\\\\\\\\\\\": 2, \\\\\\\\\\\\\"details\\\\\\\\\\\\\": {\\\\\\\\\\\\\"selectedColumn\\\\\\\\\\\\\": \\\\\\\\\\\\\"serum_sodium\\\\\\\\\\\\\"}}, \\\\\\\\\\\\\"typeProperty\\\\\\\\\\\\\": 2}, {\\\\\\\\\\\\\"column\\\\\\\\\\\\\": {\\\\\\\\\\\\\"type\\\\\\\\\\\\\": 2, \\\\\\\\\\\\\"details\\\\\\\\\\\\\": {\\\\\\\\\\\\\"selectedColumn\\\\\\\\\\\\\": \\\\\\\\\\\\\"sex\\\\\\\\\\\\\"}}, \\\\\\\\\\\\\"typeProperty\\\\\\\\\\\\\": 2}, {\\\\\\\\\\\\\"column\\\\\\\\\\\\\": {\\\\\\\\\\\\\"type\\\\\\\\\\\\\": 2, \\\\\\\\\\\\\"details\\\\\\\\\\\\\": {\\\\\\\\\\\\\"selectedColumn\\\\\\\\\\\\\": \\\\\\\\\\\\\"smoking\\\\\\\\\\\\\"}}, \\\\\\\\\\\\\"typeProperty\\\\\\\\\\\\\": 2}, {\\\\\\\\\\\\\"column\\\\\\\\\\\\\": {\\\\\\\\\\\\\"type\\\\\\\\\\\\\": 2, \\\\\\\\\\\\\"details\\\\\\\\\\\\\": {\\\\\\\\\\\\\"selectedColumn\\\\\\\\\\\\\": \\\\\\\\\\\\\"time\\\\\\\\\\\\\"}}, \\\\\\\\\\\\\"typeProperty\\\\\\\\\\\\\": 2}, {\\\\\\\\\\\\\"column\\\\\\\\\\\\\": {\\\\\\\\\\\\\"type\\\\\\\\\\\\\": 2, \\\\\\\\\\\\\"details\\\\\\\\\\\\\": {\\\\\\\\\\\\\"selectedColumn\\\\\\\\\\\\\": \\\\\\\\\\\\\"DEATH_EVENT\\\\\\\\\\\\\"}}, \\\\\\\\\\\\\"typeProperty\\\\\\\\\\\\\": 2}]}, \\\\\\\\\\\\\"localData\\\\\\\\\\\\\": {}, \\\\\\\\\\\\\"isEnabled\\\\\\\\\\\\\": true, \\\\\\\\\\\\\"name\\\\\\\\\\\\\": null, \\\\\\\\\\\\\"annotation\\\\\\\\\\\\\": null}], \\\\\\\\\\\\\"inspectors\\\\\\\\\\\\\": [], \\\\\\\\\\\\\"meta\\\\\\\\\\\\\": {\\\\\\\\\\\\\"savedDatasetId\\\\\\\\\\\\\": \\\\\\\\\\\\\"a5791ee6-934c-4342-aaff-ed249905198c\\\\\\\\\\\\\", \\\\\\\\\\\\\"datasetType\\\\\\\\\\\\\": \\\\\\\\\\\\\"tabular\\\\\\\\\\\\\", \\\\\\\\\\\\\"subscriptionId\\\\\\\\\\\\\": \\\\\\\\\\\\\"2c48c51c-bd47-40d4-abbe-fb8eabd19c8c\\\\\\\\\\\\\", \\\\\\\\\\\\\"workspaceId\\\\\\\\\\\\\": \\\\\\\\\\\\\"728f4edb-080a-421e-9bfa-02c8c9b6730d\\\\\\\\\\\\\", \\\\\\\\\\\\\"workspaceLocation\\\\\\\\\\\\\": \\\\\\\\\\\\\"southcentralus\\\\\\\\\\\\\"}}\\\\\", \\\\\"activities\\\\\": 0}',\n  'EnableSubsampling': None,\n  'runTemplate': 'AutoML',\n  'azureml.runsource': 'automl',\n  'display_task_type': 'classification',\n  'dependencies_versions': '{\"azureml-widgets\": \"1.19.0\", \"azureml-train\": \"1.19.0\", \"azureml-train-restclients-hyperdrive\": \"1.19.0\", \"azureml-train-core\": \"1.19.0\", \"azureml-train-automl\": \"1.19.0\", \"azureml-train-automl-runtime\": \"1.19.0\", \"azureml-train-automl-client\": \"1.19.0\", \"azureml-tensorboard\": \"1.19.0\", \"azureml-telemetry\": \"1.19.0\", \"azureml-sdk\": \"1.19.0\", \"azureml-samples\": \"0+unknown\", \"azureml-pipeline\": \"1.19.0\", \"azureml-pipeline-steps\": \"1.19.0\", \"azureml-pipeline-core\": \"1.19.0\", \"azureml-opendatasets\": \"1.19.0\", \"azureml-model-management-sdk\": \"1.0.1b6.post1\", \"azureml-mlflow\": \"1.19.0\", \"azureml-interpret\": \"1.19.0\", \"azureml-explain-model\": \"1.19.0\", \"azureml-defaults\": \"1.19.0\", \"azureml-dataset-runtime\": \"1.19.0\", \"azureml-dataprep\": \"2.6.1\", \"azureml-dataprep-rslex\": \"1.4.0\", \"azureml-dataprep-native\": \"26.0.0\", \"azureml-datadrift\": \"1.19.0\", \"azureml-core\": \"1.19.0\", \"azureml-contrib-services\": \"1.19.0\", \"azureml-contrib-server\": \"1.19.0\", \"azureml-contrib-reinforcementlearning\": \"1.19.0\", \"azureml-contrib-pipeline-steps\": \"1.19.0\", \"azureml-contrib-notebook\": \"1.19.0\", \"azureml-contrib-interpret\": \"1.19.0\", \"azureml-contrib-gbdt\": \"1.19.0\", \"azureml-contrib-fairness\": \"1.19.0\", \"azureml-contrib-dataset\": \"1.19.0\", \"azureml-cli-common\": \"1.19.0\", \"azureml-automl-runtime\": \"1.19.0\", \"azureml-automl-core\": \"1.19.0\", \"azureml-accel-models\": \"1.19.0\"}',\n  '_aml_system_scenario_identification': 'Remote.Parent',\n  'ClientType': 'SDK',\n  'environment_cpu_name': 'AzureML-AutoML',\n  'environment_cpu_label': 'prod',\n  'environment_gpu_name': 'AzureML-AutoML-GPU',\n  'environment_gpu_label': 'prod',\n  'root_attribution': 'automl',\n  'attribution': 'AutoML',\n  'Orchestrator': 'AutoML',\n  'CancelUri': 'https://southcentralus.experiments.azureml.net/jasmine/v1.0/subscriptions/2c48c51c-bd47-40d4-abbe-fb8eabd19c8c/resourceGroups/aml-quickstarts-132965/providers/Microsoft.MachineLearningServices/workspaces/quick-starts-ws-132965/experimentids/af6fa584-997d-4d97-a719-f9b82684280f/cancel/AutoML_e4d55488-8866-412b-8c0c-e2b1d6adf5c1',\n  'ClientSdkVersion': '1.19.0',\n  'snapshotId': '00000000-0000-0000-0000-000000000000',\n  'SetupRunId': 'AutoML_e4d55488-8866-412b-8c0c-e2b1d6adf5c1_setup',\n  'SetupRunContainerId': 'dcid.AutoML_e4d55488-8866-412b-8c0c-e2b1d6adf5c1_setup',\n  'FeaturizationRunJsonPath': 'featurizer_container.json',\n  'FeaturizationRunId': 'AutoML_e4d55488-8866-412b-8c0c-e2b1d6adf5c1_featurize',\n  'ProblemInfoJsonString': '{\"dataset_num_categorical\": 0, \"is_sparse\": false, \"subsampling\": false, \"dataset_classes\": 2, \"dataset_features\": 12, \"dataset_samples\": 239, \"single_frequency_class_detected\": false}',\n  'ModelExplainRunId': 'AutoML_e4d55488-8866-412b-8c0c-e2b1d6adf5c1_ModelExplain'},\n 'inputDatasets': [{'dataset': {'id': 'a5791ee6-934c-4342-aaff-ed249905198c'}, 'consumptionDetails': {'type': 'RunInput', 'inputName': 'training_data', 'mechanism': 'Direct'}}],\n 'outputDatasets': [],\n 'logFiles': {}}"
          },
          "metadata": {}
        }
      ],
      "execution_count": 10,
      "metadata": {
        "gather": {
          "logged": 1609603587652
        },
        "jupyter": {
          "outputs_hidden": false,
          "source_hidden": false
        },
        "nteract": {
          "transient": {
            "deleting": false
          }
        }
      }
    },
    {
      "cell_type": "code",
      "source": [],
      "outputs": [],
      "execution_count": null,
      "metadata": {
        "gather": {
          "logged": 1608761144286
        }
      }
    },
    {
      "cell_type": "code",
      "source": [],
      "outputs": [],
      "execution_count": null,
      "metadata": {}
    },
    {
      "cell_type": "markdown",
      "source": [
        "## Best Model\n",
        "\n",
        "TODO: In the cell below, get the best model from the automl experiments and display all the properties of the model.\n",
        "\n"
      ],
      "metadata": {}
    },
    {
      "cell_type": "code",
      "source": [
        "best_model, fitted_model = remote_run.get_output()\n",
        "\n",
        "print(best_model)\n",
        "\n",
        "# Take SS"
      ],
      "outputs": [
        {
          "output_type": "stream",
          "name": "stdout",
          "text": [
            "Run(Experiment: ml-experiment-1,\n",
            "Id: AutoML_e4d55488-8866-412b-8c0c-e2b1d6adf5c1_57,\n",
            "Type: azureml.scriptrun,\n",
            "Status: Completed)\n"
          ]
        }
      ],
      "execution_count": 11,
      "metadata": {
        "gather": {
          "logged": 1609604019995
        },
        "jupyter": {
          "outputs_hidden": false,
          "source_hidden": false
        },
        "nteract": {
          "transient": {
            "deleting": false
          }
        }
      }
    },
    {
      "cell_type": "code",
      "source": [
        "print(fitted_model)"
      ],
      "outputs": [
        {
          "output_type": "stream",
          "name": "stdout",
          "text": [
            "Pipeline(memory=None,\n",
            "         steps=[('datatransformer',\n",
            "                 DataTransformer(enable_dnn=None, enable_feature_sweeping=None,\n",
            "                                 feature_sweeping_config=None,\n",
            "                                 feature_sweeping_timeout=None,\n",
            "                                 featurization_config=None, force_text_dnn=None,\n",
            "                                 is_cross_validation=None,\n",
            "                                 is_onnx_compatible=None, logger=None,\n",
            "                                 observer=None, task=None, working_dir=None)),\n",
            "                ('prefittedsoftvotingclassifier',...\n",
            "                                                                                                reg_lambda=0.10526315789473684,\n",
            "                                                                                                silent=True,\n",
            "                                                                                                subsample=0.5447368421052632,\n",
            "                                                                                                subsample_for_bin=200000,\n",
            "                                                                                                subsample_freq=0,\n",
            "                                                                                                verbose=-10))],\n",
            "                                                                     verbose=False))],\n",
            "                                               flatten_transform=None,\n",
            "                                               weights=[0.1111111111111111,\n",
            "                                                        0.1111111111111111,\n",
            "                                                        0.1111111111111111,\n",
            "                                                        0.1111111111111111,\n",
            "                                                        0.1111111111111111,\n",
            "                                                        0.1111111111111111,\n",
            "                                                        0.1111111111111111,\n",
            "                                                        0.1111111111111111,\n",
            "                                                        0.1111111111111111]))],\n",
            "         verbose=False)\n"
          ]
        }
      ],
      "execution_count": 12,
      "metadata": {
        "gather": {
          "logged": 1609604025538
        }
      }
    },
    {
      "cell_type": "code",
      "source": [],
      "outputs": [],
      "execution_count": null,
      "metadata": {}
    },
    {
      "cell_type": "code",
      "source": [],
      "outputs": [],
      "execution_count": null,
      "metadata": {
        "gather": {
          "logged": 1608764810246
        }
      }
    },
    {
      "cell_type": "code",
      "source": [
        "#TODO: Save the best model\n",
        "joblib.dump(fitted_model, \"models/automl_hearth.pkl\")\n"
      ],
      "outputs": [
        {
          "output_type": "execute_result",
          "execution_count": 13,
          "data": {
            "text/plain": "['models/automl_hearth.pkl']"
          },
          "metadata": {}
        }
      ],
      "execution_count": 13,
      "metadata": {
        "gather": {
          "logged": 1609604044631
        }
      }
    },
    {
      "cell_type": "markdown",
      "source": [
        "## Model Deployment\n",
        "\n",
        "Remember you have to deploy only one of the two models you trained.. Perform the steps in the rest of this notebook only if you wish to deploy this model.\n",
        "\n",
        "TODO: In the cell below, register the model, create an inference config and deploy the model as a web service."
      ],
      "metadata": {}
    },
    {
      "cell_type": "code",
      "source": [
        "model = Model.register(model_path = \"./models/automl_hearth.pkl\",\n",
        "                      model_name = \"automl_hearth.pkl\",\n",
        "                      description = \"Best model trained with AutoML\",\n",
        "                      workspace = ws, model_framework=Model.Framework.SCIKITLEARN)\n",
        "\n",
        "# model = remote_run.register_model(model_name='automl_hearth.pkl', \n",
        "#                                  model_path='./models/automl_hearth.pkl',\n",
        "#                                  model_framework=Model.Framework.SCIKITLEARN,\n",
        "#                                  workspace = ws)"
      ],
      "outputs": [
        {
          "output_type": "stream",
          "name": "stdout",
          "text": [
            "Registering model automl_hearth.pkl\n"
          ]
        }
      ],
      "execution_count": 14,
      "metadata": {
        "gather": {
          "logged": 1609604065144
        },
        "jupyter": {
          "outputs_hidden": false,
          "source_hidden": false
        },
        "nteract": {
          "transient": {
            "deleting": false
          }
        }
      }
    },
    {
      "cell_type": "code",
      "source": [
        "# Define Deployment\n",
        "\n",
        "aci_config = AciWebservice.deploy_configuration(cpu_cores=1, memory_gb=2,\n",
        "                                              enable_app_insights=True, auth_enabled=True) \n",
        "\n",
        "# deployment_config = AciWebservice.deploy_configuration()\n"
      ],
      "outputs": [],
      "execution_count": 15,
      "metadata": {
        "gather": {
          "logged": 1609604083863
        }
      }
    },
    {
      "cell_type": "code",
      "source": [
        "# Create the environment\n",
        "# myenv = Environment(workspace=ws, name=\"myenv\")\n",
        "# \n",
        "# inference_config = InferenceConfig(entry_script=\"score.py\",\n",
        "#                                    environment=myenv)"
      ],
      "outputs": [],
      "execution_count": null,
      "metadata": {
        "gather": {
          "logged": 1609204812657
        }
      }
    },
    {
      "cell_type": "code",
      "source": [
        "service_name = 'my-sklearn-service'\n",
        "\n",
        "service = Model.deploy(ws, service_name, [model], deployment_config=aci_config)\n",
        "\n",
        "# service = Model.deploy(ws, 'myservice2', [model], inference_config, deployment_config)\n",
        "# service.update(enable_app_insights=True)"
      ],
      "outputs": [],
      "execution_count": 16,
      "metadata": {
        "collapsed": true,
        "gather": {
          "logged": 1609604101487
        },
        "jupyter": {
          "outputs_hidden": false,
          "source_hidden": false
        },
        "nteract": {
          "transient": {
            "deleting": false
          }
        }
      }
    },
    {
      "cell_type": "code",
      "source": [
        "service.wait_for_deployment(True)\n",
        "print(service.state)"
      ],
      "outputs": [
        {
          "output_type": "stream",
          "name": "stdout",
          "text": [
            "Tips: You can try get_logs(): https://aka.ms/debugimage#dockerlog or local deployment: https://aka.ms/debugimage#debug-locally to debug if deployment takes longer than 10 minutes.\n",
            "Failed"
          ]
        },
        {
          "output_type": "stream",
          "name": "stderr",
          "text": [
            "ERROR:azureml.core.webservice.webservice:Service deployment polling reached non-successful terminal state, current service state: Failed\n",
            "Operation ID: f40ccca7-be24-4ad6-8b2c-2633d9513083\n",
            "More information can be found using '.get_logs()'\n",
            "Error:\n",
            "{\n",
            "  \"code\": \"AciDeploymentFailed\",\n",
            "  \"message\": \"Aci Deployment failed with exception: Your container application crashed. This may be caused by errors in your scoring file's init() function.\\nPlease check the logs for your container instance: my-sklearn-service. From the AML SDK, you can run print(service.get_logs()) if you have service object to fetch the logs. \\nYou can interactively debug your scoring file locally. Please refer to https://docs.microsoft.com/azure/machine-learning/how-to-debug-visual-studio-code#debug-and-troubleshoot-deployments for more information.\\nYou can also try to run image 728f4edb080a421e9bfa02c8c9b6730d.azurecr.io/azureml/azureml_9febe3c381178587c812a6e9134e214b locally. Please refer to https://aka.ms/debugimage#service-launch-fails for more information.\",\n",
            "  \"details\": [\n",
            "    {\n",
            "      \"code\": \"CrashLoopBackOff\",\n",
            "      \"message\": \"Your container application crashed. This may be caused by errors in your scoring file's init() function.\\nPlease check the logs for your container instance: my-sklearn-service. From the AML SDK, you can run print(service.get_logs()) if you have service object to fetch the logs. \\nYou can interactively debug your scoring file locally. Please refer to https://docs.microsoft.com/azure/machine-learning/how-to-debug-visual-studio-code#debug-and-troubleshoot-deployments for more information.\\nYou can also try to run image 728f4edb080a421e9bfa02c8c9b6730d.azurecr.io/azureml/azureml_9febe3c381178587c812a6e9134e214b locally. Please refer to https://aka.ms/debugimage#service-launch-fails for more information.\"\n",
            "    },\n",
            "    {\n",
            "      \"code\": \"AciDeploymentFailed\",\n",
            "      \"message\": \"Your container application crashed. Please follow the steps to debug:\\n1. From the AML SDK, you can run print(service.get_logs()) if you have service object to fetch the logs. Please refer to https://aka.ms/debugimage#dockerlog for more information.\\n2. If your container application crashed. This may be caused by errors in your scoring file's init() function. You can try debugging locally first. Please refer to https://aka.ms/debugimage#debug-locally for more information.\\n3. You can also interactively debug your scoring file locally. Please refer to https://docs.microsoft.com/azure/machine-learning/how-to-debug-visual-studio-code#debug-and-troubleshoot-deployments for more information.\\n4. View the diagnostic events to check status of container, it may help you to debug the issue. {\\\"restartCount\\\":4,\\\"currentState\\\":{\\\"state\\\":\\\"Waiting\\\",\\\"startTime\\\":null,\\\"exitCode\\\":null,\\\"finishTime\\\":null,\\\"detailStatus\\\":\\\"CrashLoopBackOff: Back-off 1m20s restarting failed\\\"},\\\"previousState\\\":{\\\"state\\\":\\\"Terminated\\\",\\\"startTime\\\":\\\"2021-01-02T16:22:40Z\\\",\\\"exitCode\\\":111,\\\"finishTime\\\":\\\"2021-01-02T16:22:41Z\\\",\\\"detailStatus\\\":\\\"Error\\\"},\\\"events\\\":[{\\\"count\\\":2,\\\"firstTimestamp\\\":\\\"2021-01-02T16:20:03Z\\\",\\\"lastTimestamp\\\":\\\"2021-01-02T16:21:02Z\\\",\\\"name\\\":\\\"Pulling\\\",\\\"message\\\":\\\"pulling image \\\\\\\"728f4edb080a421e9bfa02c8c9b6730d.azurecr.io/azureml/azureml_9febe3c381178587c812a6e9134e214b\\\\\\\"\\\",\\\"type\\\":\\\"Normal\\\"},{\\\"count\\\":1,\\\"firstTimestamp\\\":\\\"2021-01-02T16:20:28Z\\\",\\\"lastTimestamp\\\":\\\"2021-01-02T16:20:28Z\\\",\\\"name\\\":\\\"Pulled\\\",\\\"message\\\":\\\"Successfully pulled image \\\\\\\"728f4edb080a421e9bfa02c8c9b6730d.azurecr.io/azureml/azureml_9febe3c381178587c812a6e9134e214b\\\\\\\"\\\",\\\"type\\\":\\\"Normal\\\"},{\\\"count\\\":1,\\\"firstTimestamp\\\":\\\"2021-01-02T16:20:56Z\\\",\\\"lastTimestamp\\\":\\\"2021-01-02T16:20:56Z\\\",\\\"name\\\":\\\"Created\\\",\\\"message\\\":\\\"Created container\\\",\\\"type\\\":\\\"Normal\\\"},{\\\"count\\\":1,\\\"firstTimestamp\\\":\\\"2021-01-02T16:20:56Z\\\",\\\"lastTimestamp\\\":\\\"2021-01-02T16:20:56Z\\\",\\\"name\\\":\\\"Started\\\",\\\"message\\\":\\\"Started container\\\",\\\"type\\\":\\\"Normal\\\"}]}\"\n",
            "    }\n",
            "  ]\n",
            "}\n",
            "\n"
          ]
        },
        {
          "output_type": "error",
          "ename": "WebserviceException",
          "evalue": "WebserviceException:\n\tMessage: Service deployment polling reached non-successful terminal state, current service state: Failed\nOperation ID: f40ccca7-be24-4ad6-8b2c-2633d9513083\nMore information can be found using '.get_logs()'\nError:\n{\n  \"code\": \"AciDeploymentFailed\",\n  \"message\": \"Aci Deployment failed with exception: Your container application crashed. This may be caused by errors in your scoring file's init() function.\\nPlease check the logs for your container instance: my-sklearn-service. From the AML SDK, you can run print(service.get_logs()) if you have service object to fetch the logs. \\nYou can interactively debug your scoring file locally. Please refer to https://docs.microsoft.com/azure/machine-learning/how-to-debug-visual-studio-code#debug-and-troubleshoot-deployments for more information.\\nYou can also try to run image 728f4edb080a421e9bfa02c8c9b6730d.azurecr.io/azureml/azureml_9febe3c381178587c812a6e9134e214b locally. Please refer to https://aka.ms/debugimage#service-launch-fails for more information.\",\n  \"details\": [\n    {\n      \"code\": \"CrashLoopBackOff\",\n      \"message\": \"Your container application crashed. This may be caused by errors in your scoring file's init() function.\\nPlease check the logs for your container instance: my-sklearn-service. From the AML SDK, you can run print(service.get_logs()) if you have service object to fetch the logs. \\nYou can interactively debug your scoring file locally. Please refer to https://docs.microsoft.com/azure/machine-learning/how-to-debug-visual-studio-code#debug-and-troubleshoot-deployments for more information.\\nYou can also try to run image 728f4edb080a421e9bfa02c8c9b6730d.azurecr.io/azureml/azureml_9febe3c381178587c812a6e9134e214b locally. Please refer to https://aka.ms/debugimage#service-launch-fails for more information.\"\n    },\n    {\n      \"code\": \"AciDeploymentFailed\",\n      \"message\": \"Your container application crashed. Please follow the steps to debug:\\n1. From the AML SDK, you can run print(service.get_logs()) if you have service object to fetch the logs. Please refer to https://aka.ms/debugimage#dockerlog for more information.\\n2. If your container application crashed. This may be caused by errors in your scoring file's init() function. You can try debugging locally first. Please refer to https://aka.ms/debugimage#debug-locally for more information.\\n3. You can also interactively debug your scoring file locally. Please refer to https://docs.microsoft.com/azure/machine-learning/how-to-debug-visual-studio-code#debug-and-troubleshoot-deployments for more information.\\n4. View the diagnostic events to check status of container, it may help you to debug the issue. {\\\"restartCount\\\":4,\\\"currentState\\\":{\\\"state\\\":\\\"Waiting\\\",\\\"startTime\\\":null,\\\"exitCode\\\":null,\\\"finishTime\\\":null,\\\"detailStatus\\\":\\\"CrashLoopBackOff: Back-off 1m20s restarting failed\\\"},\\\"previousState\\\":{\\\"state\\\":\\\"Terminated\\\",\\\"startTime\\\":\\\"2021-01-02T16:22:40Z\\\",\\\"exitCode\\\":111,\\\"finishTime\\\":\\\"2021-01-02T16:22:41Z\\\",\\\"detailStatus\\\":\\\"Error\\\"},\\\"events\\\":[{\\\"count\\\":2,\\\"firstTimestamp\\\":\\\"2021-01-02T16:20:03Z\\\",\\\"lastTimestamp\\\":\\\"2021-01-02T16:21:02Z\\\",\\\"name\\\":\\\"Pulling\\\",\\\"message\\\":\\\"pulling image \\\\\\\"728f4edb080a421e9bfa02c8c9b6730d.azurecr.io/azureml/azureml_9febe3c381178587c812a6e9134e214b\\\\\\\"\\\",\\\"type\\\":\\\"Normal\\\"},{\\\"count\\\":1,\\\"firstTimestamp\\\":\\\"2021-01-02T16:20:28Z\\\",\\\"lastTimestamp\\\":\\\"2021-01-02T16:20:28Z\\\",\\\"name\\\":\\\"Pulled\\\",\\\"message\\\":\\\"Successfully pulled image \\\\\\\"728f4edb080a421e9bfa02c8c9b6730d.azurecr.io/azureml/azureml_9febe3c381178587c812a6e9134e214b\\\\\\\"\\\",\\\"type\\\":\\\"Normal\\\"},{\\\"count\\\":1,\\\"firstTimestamp\\\":\\\"2021-01-02T16:20:56Z\\\",\\\"lastTimestamp\\\":\\\"2021-01-02T16:20:56Z\\\",\\\"name\\\":\\\"Created\\\",\\\"message\\\":\\\"Created container\\\",\\\"type\\\":\\\"Normal\\\"},{\\\"count\\\":1,\\\"firstTimestamp\\\":\\\"2021-01-02T16:20:56Z\\\",\\\"lastTimestamp\\\":\\\"2021-01-02T16:20:56Z\\\",\\\"name\\\":\\\"Started\\\",\\\"message\\\":\\\"Started container\\\",\\\"type\\\":\\\"Normal\\\"}]}\"\n    }\n  ]\n}\n\tInnerException None\n\tErrorResponse \n{\n    \"error\": {\n        \"message\": \"Service deployment polling reached non-successful terminal state, current service state: Failed\\nOperation ID: f40ccca7-be24-4ad6-8b2c-2633d9513083\\nMore information can be found using '.get_logs()'\\nError:\\n{\\n  \\\"code\\\": \\\"AciDeploymentFailed\\\",\\n  \\\"message\\\": \\\"Aci Deployment failed with exception: Your container application crashed. This may be caused by errors in your scoring file's init() function.\\\\nPlease check the logs for your container instance: my-sklearn-service. From the AML SDK, you can run print(service.get_logs()) if you have service object to fetch the logs. \\\\nYou can interactively debug your scoring file locally. Please refer to https://docs.microsoft.com/azure/machine-learning/how-to-debug-visual-studio-code#debug-and-troubleshoot-deployments for more information.\\\\nYou can also try to run image 728f4edb080a421e9bfa02c8c9b6730d.azurecr.io/azureml/azureml_9febe3c381178587c812a6e9134e214b locally. Please refer to https://aka.ms/debugimage#service-launch-fails for more information.\\\",\\n  \\\"details\\\": [\\n    {\\n      \\\"code\\\": \\\"CrashLoopBackOff\\\",\\n      \\\"message\\\": \\\"Your container application crashed. This may be caused by errors in your scoring file's init() function.\\\\nPlease check the logs for your container instance: my-sklearn-service. From the AML SDK, you can run print(service.get_logs()) if you have service object to fetch the logs. \\\\nYou can interactively debug your scoring file locally. Please refer to https://docs.microsoft.com/azure/machine-learning/how-to-debug-visual-studio-code#debug-and-troubleshoot-deployments for more information.\\\\nYou can also try to run image 728f4edb080a421e9bfa02c8c9b6730d.azurecr.io/azureml/azureml_9febe3c381178587c812a6e9134e214b locally. Please refer to https://aka.ms/debugimage#service-launch-fails for more information.\\\"\\n    },\\n    {\\n      \\\"code\\\": \\\"AciDeploymentFailed\\\",\\n      \\\"message\\\": \\\"Your container application crashed. Please follow the steps to debug:\\\\n1. From the AML SDK, you can run print(service.get_logs()) if you have service object to fetch the logs. Please refer to https://aka.ms/debugimage#dockerlog for more information.\\\\n2. If your container application crashed. This may be caused by errors in your scoring file's init() function. You can try debugging locally first. Please refer to https://aka.ms/debugimage#debug-locally for more information.\\\\n3. You can also interactively debug your scoring file locally. Please refer to https://docs.microsoft.com/azure/machine-learning/how-to-debug-visual-studio-code#debug-and-troubleshoot-deployments for more information.\\\\n4. View the diagnostic events to check status of container, it may help you to debug the issue. {\\\\\\\"restartCount\\\\\\\":4,\\\\\\\"currentState\\\\\\\":{\\\\\\\"state\\\\\\\":\\\\\\\"Waiting\\\\\\\",\\\\\\\"startTime\\\\\\\":null,\\\\\\\"exitCode\\\\\\\":null,\\\\\\\"finishTime\\\\\\\":null,\\\\\\\"detailStatus\\\\\\\":\\\\\\\"CrashLoopBackOff: Back-off 1m20s restarting failed\\\\\\\"},\\\\\\\"previousState\\\\\\\":{\\\\\\\"state\\\\\\\":\\\\\\\"Terminated\\\\\\\",\\\\\\\"startTime\\\\\\\":\\\\\\\"2021-01-02T16:22:40Z\\\\\\\",\\\\\\\"exitCode\\\\\\\":111,\\\\\\\"finishTime\\\\\\\":\\\\\\\"2021-01-02T16:22:41Z\\\\\\\",\\\\\\\"detailStatus\\\\\\\":\\\\\\\"Error\\\\\\\"},\\\\\\\"events\\\\\\\":[{\\\\\\\"count\\\\\\\":2,\\\\\\\"firstTimestamp\\\\\\\":\\\\\\\"2021-01-02T16:20:03Z\\\\\\\",\\\\\\\"lastTimestamp\\\\\\\":\\\\\\\"2021-01-02T16:21:02Z\\\\\\\",\\\\\\\"name\\\\\\\":\\\\\\\"Pulling\\\\\\\",\\\\\\\"message\\\\\\\":\\\\\\\"pulling image \\\\\\\\\\\\\\\"728f4edb080a421e9bfa02c8c9b6730d.azurecr.io/azureml/azureml_9febe3c381178587c812a6e9134e214b\\\\\\\\\\\\\\\"\\\\\\\",\\\\\\\"type\\\\\\\":\\\\\\\"Normal\\\\\\\"},{\\\\\\\"count\\\\\\\":1,\\\\\\\"firstTimestamp\\\\\\\":\\\\\\\"2021-01-02T16:20:28Z\\\\\\\",\\\\\\\"lastTimestamp\\\\\\\":\\\\\\\"2021-01-02T16:20:28Z\\\\\\\",\\\\\\\"name\\\\\\\":\\\\\\\"Pulled\\\\\\\",\\\\\\\"message\\\\\\\":\\\\\\\"Successfully pulled image \\\\\\\\\\\\\\\"728f4edb080a421e9bfa02c8c9b6730d.azurecr.io/azureml/azureml_9febe3c381178587c812a6e9134e214b\\\\\\\\\\\\\\\"\\\\\\\",\\\\\\\"type\\\\\\\":\\\\\\\"Normal\\\\\\\"},{\\\\\\\"count\\\\\\\":1,\\\\\\\"firstTimestamp\\\\\\\":\\\\\\\"2021-01-02T16:20:56Z\\\\\\\",\\\\\\\"lastTimestamp\\\\\\\":\\\\\\\"2021-01-02T16:20:56Z\\\\\\\",\\\\\\\"name\\\\\\\":\\\\\\\"Created\\\\\\\",\\\\\\\"message\\\\\\\":\\\\\\\"Created container\\\\\\\",\\\\\\\"type\\\\\\\":\\\\\\\"Normal\\\\\\\"},{\\\\\\\"count\\\\\\\":1,\\\\\\\"firstTimestamp\\\\\\\":\\\\\\\"2021-01-02T16:20:56Z\\\\\\\",\\\\\\\"lastTimestamp\\\\\\\":\\\\\\\"2021-01-02T16:20:56Z\\\\\\\",\\\\\\\"name\\\\\\\":\\\\\\\"Started\\\\\\\",\\\\\\\"message\\\\\\\":\\\\\\\"Started container\\\\\\\",\\\\\\\"type\\\\\\\":\\\\\\\"Normal\\\\\\\"}]}\\\"\\n    }\\n  ]\\n}\"\n    }\n}",
          "traceback": [
            "\u001b[0;31m---------------------------------------------------------------------------\u001b[0m",
            "\u001b[0;31mWebserviceException\u001b[0m                       Traceback (most recent call last)",
            "\u001b[0;32m<ipython-input-21-38fb455b7b61>\u001b[0m in \u001b[0;36m<module>\u001b[0;34m\u001b[0m\n\u001b[0;32m----> 1\u001b[0;31m \u001b[0mservice\u001b[0m\u001b[0;34m.\u001b[0m\u001b[0mwait_for_deployment\u001b[0m\u001b[0;34m(\u001b[0m\u001b[0;32mTrue\u001b[0m\u001b[0;34m)\u001b[0m\u001b[0;34m\u001b[0m\u001b[0;34m\u001b[0m\u001b[0m\n\u001b[0m\u001b[1;32m      2\u001b[0m \u001b[0mprint\u001b[0m\u001b[0;34m(\u001b[0m\u001b[0mservice\u001b[0m\u001b[0;34m.\u001b[0m\u001b[0mstate\u001b[0m\u001b[0;34m)\u001b[0m\u001b[0;34m\u001b[0m\u001b[0;34m\u001b[0m\u001b[0m\n",
            "\u001b[0;32m/anaconda/envs/azureml_py36/lib/python3.6/site-packages/azureml/core/webservice/webservice.py\u001b[0m in \u001b[0;36mwait_for_deployment\u001b[0;34m(self, show_output, timeout_sec)\u001b[0m\n\u001b[1;32m    913\u001b[0m                                           \u001b[0;34m'Error:\\n'\u001b[0m\u001b[0;34m\u001b[0m\u001b[0;34m\u001b[0m\u001b[0m\n\u001b[1;32m    914\u001b[0m                                           '{}'.format(self.state, self._operation_endpoint.split('/')[-1],\n\u001b[0;32m--> 915\u001b[0;31m                                                       logs_response, error_response), logger=module_logger)\n\u001b[0m\u001b[1;32m    916\u001b[0m             print('{} service creation operation finished, operation \"{}\"'.format(self._webservice_type,\n\u001b[1;32m    917\u001b[0m                                                                                   operation_state))\n",
            "\u001b[0;31mWebserviceException\u001b[0m: WebserviceException:\n\tMessage: Service deployment polling reached non-successful terminal state, current service state: Failed\nOperation ID: f40ccca7-be24-4ad6-8b2c-2633d9513083\nMore information can be found using '.get_logs()'\nError:\n{\n  \"code\": \"AciDeploymentFailed\",\n  \"message\": \"Aci Deployment failed with exception: Your container application crashed. This may be caused by errors in your scoring file's init() function.\\nPlease check the logs for your container instance: my-sklearn-service. From the AML SDK, you can run print(service.get_logs()) if you have service object to fetch the logs. \\nYou can interactively debug your scoring file locally. Please refer to https://docs.microsoft.com/azure/machine-learning/how-to-debug-visual-studio-code#debug-and-troubleshoot-deployments for more information.\\nYou can also try to run image 728f4edb080a421e9bfa02c8c9b6730d.azurecr.io/azureml/azureml_9febe3c381178587c812a6e9134e214b locally. Please refer to https://aka.ms/debugimage#service-launch-fails for more information.\",\n  \"details\": [\n    {\n      \"code\": \"CrashLoopBackOff\",\n      \"message\": \"Your container application crashed. This may be caused by errors in your scoring file's init() function.\\nPlease check the logs for your container instance: my-sklearn-service. From the AML SDK, you can run print(service.get_logs()) if you have service object to fetch the logs. \\nYou can interactively debug your scoring file locally. Please refer to https://docs.microsoft.com/azure/machine-learning/how-to-debug-visual-studio-code#debug-and-troubleshoot-deployments for more information.\\nYou can also try to run image 728f4edb080a421e9bfa02c8c9b6730d.azurecr.io/azureml/azureml_9febe3c381178587c812a6e9134e214b locally. Please refer to https://aka.ms/debugimage#service-launch-fails for more information.\"\n    },\n    {\n      \"code\": \"AciDeploymentFailed\",\n      \"message\": \"Your container application crashed. Please follow the steps to debug:\\n1. From the AML SDK, you can run print(service.get_logs()) if you have service object to fetch the logs. Please refer to https://aka.ms/debugimage#dockerlog for more information.\\n2. If your container application crashed. This may be caused by errors in your scoring file's init() function. You can try debugging locally first. Please refer to https://aka.ms/debugimage#debug-locally for more information.\\n3. You can also interactively debug your scoring file locally. Please refer to https://docs.microsoft.com/azure/machine-learning/how-to-debug-visual-studio-code#debug-and-troubleshoot-deployments for more information.\\n4. View the diagnostic events to check status of container, it may help you to debug the issue. {\\\"restartCount\\\":4,\\\"currentState\\\":{\\\"state\\\":\\\"Waiting\\\",\\\"startTime\\\":null,\\\"exitCode\\\":null,\\\"finishTime\\\":null,\\\"detailStatus\\\":\\\"CrashLoopBackOff: Back-off 1m20s restarting failed\\\"},\\\"previousState\\\":{\\\"state\\\":\\\"Terminated\\\",\\\"startTime\\\":\\\"2021-01-02T16:22:40Z\\\",\\\"exitCode\\\":111,\\\"finishTime\\\":\\\"2021-01-02T16:22:41Z\\\",\\\"detailStatus\\\":\\\"Error\\\"},\\\"events\\\":[{\\\"count\\\":2,\\\"firstTimestamp\\\":\\\"2021-01-02T16:20:03Z\\\",\\\"lastTimestamp\\\":\\\"2021-01-02T16:21:02Z\\\",\\\"name\\\":\\\"Pulling\\\",\\\"message\\\":\\\"pulling image \\\\\\\"728f4edb080a421e9bfa02c8c9b6730d.azurecr.io/azureml/azureml_9febe3c381178587c812a6e9134e214b\\\\\\\"\\\",\\\"type\\\":\\\"Normal\\\"},{\\\"count\\\":1,\\\"firstTimestamp\\\":\\\"2021-01-02T16:20:28Z\\\",\\\"lastTimestamp\\\":\\\"2021-01-02T16:20:28Z\\\",\\\"name\\\":\\\"Pulled\\\",\\\"message\\\":\\\"Successfully pulled image \\\\\\\"728f4edb080a421e9bfa02c8c9b6730d.azurecr.io/azureml/azureml_9febe3c381178587c812a6e9134e214b\\\\\\\"\\\",\\\"type\\\":\\\"Normal\\\"},{\\\"count\\\":1,\\\"firstTimestamp\\\":\\\"2021-01-02T16:20:56Z\\\",\\\"lastTimestamp\\\":\\\"2021-01-02T16:20:56Z\\\",\\\"name\\\":\\\"Created\\\",\\\"message\\\":\\\"Created container\\\",\\\"type\\\":\\\"Normal\\\"},{\\\"count\\\":1,\\\"firstTimestamp\\\":\\\"2021-01-02T16:20:56Z\\\",\\\"lastTimestamp\\\":\\\"2021-01-02T16:20:56Z\\\",\\\"name\\\":\\\"Started\\\",\\\"message\\\":\\\"Started container\\\",\\\"type\\\":\\\"Normal\\\"}]}\"\n    }\n  ]\n}\n\tInnerException None\n\tErrorResponse \n{\n    \"error\": {\n        \"message\": \"Service deployment polling reached non-successful terminal state, current service state: Failed\\nOperation ID: f40ccca7-be24-4ad6-8b2c-2633d9513083\\nMore information can be found using '.get_logs()'\\nError:\\n{\\n  \\\"code\\\": \\\"AciDeploymentFailed\\\",\\n  \\\"message\\\": \\\"Aci Deployment failed with exception: Your container application crashed. This may be caused by errors in your scoring file's init() function.\\\\nPlease check the logs for your container instance: my-sklearn-service. From the AML SDK, you can run print(service.get_logs()) if you have service object to fetch the logs. \\\\nYou can interactively debug your scoring file locally. Please refer to https://docs.microsoft.com/azure/machine-learning/how-to-debug-visual-studio-code#debug-and-troubleshoot-deployments for more information.\\\\nYou can also try to run image 728f4edb080a421e9bfa02c8c9b6730d.azurecr.io/azureml/azureml_9febe3c381178587c812a6e9134e214b locally. Please refer to https://aka.ms/debugimage#service-launch-fails for more information.\\\",\\n  \\\"details\\\": [\\n    {\\n      \\\"code\\\": \\\"CrashLoopBackOff\\\",\\n      \\\"message\\\": \\\"Your container application crashed. This may be caused by errors in your scoring file's init() function.\\\\nPlease check the logs for your container instance: my-sklearn-service. From the AML SDK, you can run print(service.get_logs()) if you have service object to fetch the logs. \\\\nYou can interactively debug your scoring file locally. Please refer to https://docs.microsoft.com/azure/machine-learning/how-to-debug-visual-studio-code#debug-and-troubleshoot-deployments for more information.\\\\nYou can also try to run image 728f4edb080a421e9bfa02c8c9b6730d.azurecr.io/azureml/azureml_9febe3c381178587c812a6e9134e214b locally. Please refer to https://aka.ms/debugimage#service-launch-fails for more information.\\\"\\n    },\\n    {\\n      \\\"code\\\": \\\"AciDeploymentFailed\\\",\\n      \\\"message\\\": \\\"Your container application crashed. Please follow the steps to debug:\\\\n1. From the AML SDK, you can run print(service.get_logs()) if you have service object to fetch the logs. Please refer to https://aka.ms/debugimage#dockerlog for more information.\\\\n2. If your container application crashed. This may be caused by errors in your scoring file's init() function. You can try debugging locally first. Please refer to https://aka.ms/debugimage#debug-locally for more information.\\\\n3. You can also interactively debug your scoring file locally. Please refer to https://docs.microsoft.com/azure/machine-learning/how-to-debug-visual-studio-code#debug-and-troubleshoot-deployments for more information.\\\\n4. View the diagnostic events to check status of container, it may help you to debug the issue. {\\\\\\\"restartCount\\\\\\\":4,\\\\\\\"currentState\\\\\\\":{\\\\\\\"state\\\\\\\":\\\\\\\"Waiting\\\\\\\",\\\\\\\"startTime\\\\\\\":null,\\\\\\\"exitCode\\\\\\\":null,\\\\\\\"finishTime\\\\\\\":null,\\\\\\\"detailStatus\\\\\\\":\\\\\\\"CrashLoopBackOff: Back-off 1m20s restarting failed\\\\\\\"},\\\\\\\"previousState\\\\\\\":{\\\\\\\"state\\\\\\\":\\\\\\\"Terminated\\\\\\\",\\\\\\\"startTime\\\\\\\":\\\\\\\"2021-01-02T16:22:40Z\\\\\\\",\\\\\\\"exitCode\\\\\\\":111,\\\\\\\"finishTime\\\\\\\":\\\\\\\"2021-01-02T16:22:41Z\\\\\\\",\\\\\\\"detailStatus\\\\\\\":\\\\\\\"Error\\\\\\\"},\\\\\\\"events\\\\\\\":[{\\\\\\\"count\\\\\\\":2,\\\\\\\"firstTimestamp\\\\\\\":\\\\\\\"2021-01-02T16:20:03Z\\\\\\\",\\\\\\\"lastTimestamp\\\\\\\":\\\\\\\"2021-01-02T16:21:02Z\\\\\\\",\\\\\\\"name\\\\\\\":\\\\\\\"Pulling\\\\\\\",\\\\\\\"message\\\\\\\":\\\\\\\"pulling image \\\\\\\\\\\\\\\"728f4edb080a421e9bfa02c8c9b6730d.azurecr.io/azureml/azureml_9febe3c381178587c812a6e9134e214b\\\\\\\\\\\\\\\"\\\\\\\",\\\\\\\"type\\\\\\\":\\\\\\\"Normal\\\\\\\"},{\\\\\\\"count\\\\\\\":1,\\\\\\\"firstTimestamp\\\\\\\":\\\\\\\"2021-01-02T16:20:28Z\\\\\\\",\\\\\\\"lastTimestamp\\\\\\\":\\\\\\\"2021-01-02T16:20:28Z\\\\\\\",\\\\\\\"name\\\\\\\":\\\\\\\"Pulled\\\\\\\",\\\\\\\"message\\\\\\\":\\\\\\\"Successfully pulled image \\\\\\\\\\\\\\\"728f4edb080a421e9bfa02c8c9b6730d.azurecr.io/azureml/azureml_9febe3c381178587c812a6e9134e214b\\\\\\\\\\\\\\\"\\\\\\\",\\\\\\\"type\\\\\\\":\\\\\\\"Normal\\\\\\\"},{\\\\\\\"count\\\\\\\":1,\\\\\\\"firstTimestamp\\\\\\\":\\\\\\\"2021-01-02T16:20:56Z\\\\\\\",\\\\\\\"lastTimestamp\\\\\\\":\\\\\\\"2021-01-02T16:20:56Z\\\\\\\",\\\\\\\"name\\\\\\\":\\\\\\\"Created\\\\\\\",\\\\\\\"message\\\\\\\":\\\\\\\"Created container\\\\\\\",\\\\\\\"type\\\\\\\":\\\\\\\"Normal\\\\\\\"},{\\\\\\\"count\\\\\\\":1,\\\\\\\"firstTimestamp\\\\\\\":\\\\\\\"2021-01-02T16:20:56Z\\\\\\\",\\\\\\\"lastTimestamp\\\\\\\":\\\\\\\"2021-01-02T16:20:56Z\\\\\\\",\\\\\\\"name\\\\\\\":\\\\\\\"Started\\\\\\\",\\\\\\\"message\\\\\\\":\\\\\\\"Started container\\\\\\\",\\\\\\\"type\\\\\\\":\\\\\\\"Normal\\\\\\\"}]}\\\"\\n    }\\n  ]\\n}\"\n    }\n}"
          ]
        }
      ],
      "execution_count": 21,
      "metadata": {
        "collapsed": true,
        "gather": {
          "logged": 1609205582882
        },
        "jupyter": {
          "outputs_hidden": false,
          "source_hidden": false
        },
        "nteract": {
          "transient": {
            "deleting": false
          }
        }
      }
    },
    {
      "cell_type": "code",
      "source": [
        "print(service.get_logs())"
      ],
      "outputs": [
        {
          "output_type": "stream",
          "name": "stdout",
          "text": [
            "2021-01-02T16:52:51,211553147+00:00 - rsyslog/run \n",
            "2021-01-02T16:52:51,213442381+00:00 - iot-server/run \n",
            "2021-01-02T16:52:51,213754403+00:00 - nginx/run \n",
            "2021-01-02T16:52:51,214601162+00:00 - gunicorn/run \n",
            "EdgeHubConnectionString and IOTEDGE_IOTHUBHOSTNAME are not set. Exiting...\n",
            "2021-01-02T16:52:51,356571075+00:00 - iot-server/finish 1 0\n",
            "2021-01-02T16:52:51,357753359+00:00 - Exit code 1 is normal. Not restarting iot-server.\n",
            "Starting gunicorn 19.9.0\n",
            "Listening at: http://127.0.0.1:31311 (15)\n",
            "Using worker: sync\n",
            "worker timeout is set to 300\n",
            "Booting worker with pid: 41\n",
            "SPARK_HOME not set. Skipping PySpark Initialization.\n",
            "Initializing logger\n",
            "2021-01-02 16:52:52,282 | root | INFO | Starting up app insights client\n",
            "2021-01-02 16:52:52,282 | root | INFO | Starting up request id generator\n",
            "2021-01-02 16:52:52,282 | root | INFO | Starting up app insight hooks\n",
            "2021-01-02 16:52:52,282 | root | INFO | Invoking user's init function\n",
            "Model path: azureml-models/automl_hearth.pkl/1/automl_hearth.pkl\n",
            "Trying to load ScikitLearn model from azureml-models/automl_hearth.pkl/1/automl_hearth.pkl.\n",
            "Load failed with ModuleNotFoundError: No module named 'azureml.automl'\n",
            "2021-01-02 16:52:52,286 | root | ERROR | User's init function failed\n",
            "2021-01-02 16:52:52,286 | root | ERROR | Encountered Exception Traceback (most recent call last):\n",
            "  File \"/var/azureml-server/aml_blueprint.py\", line 176, in register\n",
            "    main.init()\n",
            "  File \"/var/azureml-app/main.py\", line 115, in init\n",
            "    raise Exception('Cannot find or load ScikitLearn model file in model directory.')\n",
            "Exception: Cannot find or load ScikitLearn model file in model directory.\n",
            "\n",
            "Traceback (most recent call last):\n",
            "  File \"/var/azureml-app/main.py\", line 322, in load_model_file\n",
            "    model = joblib.load(filename)\n",
            "  File \"/azureml-envs/azureml_00066918e50f5ae481b726dc526556ed/lib/python3.7/site-packages/joblib/numpy_pickle.py\", line 598, in load\n",
            "    obj = _unpickle(fobj, filename, mmap_mode)\n",
            "  File \"/azureml-envs/azureml_00066918e50f5ae481b726dc526556ed/lib/python3.7/site-packages/joblib/numpy_pickle.py\", line 526, in _unpickle\n",
            "    obj = unpickler.load()\n",
            "  File \"/azureml-envs/azureml_00066918e50f5ae481b726dc526556ed/lib/python3.7/pickle.py\", line 1088, in load\n",
            "    dispatch[key[0]](self)\n",
            "  File \"/azureml-envs/azureml_00066918e50f5ae481b726dc526556ed/lib/python3.7/pickle.py\", line 1376, in load_global\n",
            "    klass = self.find_class(module, name)\n",
            "  File \"/azureml-envs/azureml_00066918e50f5ae481b726dc526556ed/lib/python3.7/pickle.py\", line 1426, in find_class\n",
            "    __import__(module, level=0)\n",
            "ModuleNotFoundError: No module named 'azureml.automl'\n",
            "\n",
            "During handling of the above exception, another exception occurred:\n",
            "Traceback (most recent call last):\n",
            "  File \"/var/azureml-app/main.py\", line 328, in load_model_file\n",
            "    from sklearn.externals import joblib as sklearn_joblib\n",
            "ImportError: cannot import name 'joblib' from 'sklearn.externals' (/azureml-envs/azureml_00066918e50f5ae481b726dc526556ed/lib/python3.7/site-packages/sklearn/externals/__init__.py)\n",
            "\n",
            "During handling of the above exception, another exception occurred:\n",
            "Traceback (most recent call last):\n",
            "  File \"/var/azureml-app/main.py\", line 109, in init\n",
            "    model = load_model_file(filename)\n",
            "  File \"/var/azureml-app/main.py\", line 333, in load_model_file\n",
            "    model = dill.load(f)\n",
            "  File \"/azureml-envs/azureml_00066918e50f5ae481b726dc526556ed/lib/python3.7/site-packages/dill/_dill.py\", line 305, in load\n",
            "    obj = pik.load()\n",
            "  File \"/azureml-envs/azureml_00066918e50f5ae481b726dc526556ed/lib/python3.7/site-packages/dill/_dill.py\", line 474, in find_class\n",
            "    return StockUnpickler.find_class(self, module, name)\n",
            "ModuleNotFoundError: No module named 'azureml.automl'\n",
            "Worker exiting (pid: 41)\n",
            "Shutting down: Master\n",
            "Reason: Worker failed to boot.\n",
            "2021-01-02T16:52:52,398681473+00:00 - gunicorn/finish 3 0\n",
            "2021-01-02T16:52:52,399929361+00:00 - Exit code 3 is not normal. Killing image.\n",
            "\n"
          ]
        }
      ],
      "execution_count": 22,
      "metadata": {
        "gather": {
          "logged": 1609606422875
        },
        "jupyter": {
          "outputs_hidden": false,
          "source_hidden": false
        },
        "nteract": {
          "transient": {
            "deleting": false
          }
        }
      }
    },
    {
      "cell_type": "code",
      "source": [
        "print(\"scoring URI: \" + service2.scoring_uri)\n"
      ],
      "outputs": [],
      "execution_count": null,
      "metadata": {
        "collapsed": true,
        "jupyter": {
          "outputs_hidden": false,
          "source_hidden": false
        },
        "nteract": {
          "transient": {
            "deleting": false
          }
        }
      }
    },
    {
      "cell_type": "markdown",
      "source": [
        "TODO: In the cell below, send a request to the web service you deployed to test it."
      ],
      "metadata": {
        "collapsed": true,
        "gather": {
          "logged": 1598431657736
        },
        "jupyter": {
          "outputs_hidden": false,
          "source_hidden": false
        },
        "nteract": {
          "transient": {
            "deleting": false
          }
        }
      }
    },
    {
      "cell_type": "code",
      "source": [
        "scoring_uri = 'scoring uri for your service'\n",
        "headers = {'Content-Type':'application/json'}\n",
        "\n",
        "test_data = json.dumps({'data':[{\n",
        "    'age':75,\n",
        "    'anaemia':0,\n",
        "    'creatinine_phosphokinase':582,\n",
        "    'diabetes':0,\n",
        "    'ejection_fraction':20,\n",
        "    'high_blood_pressure':1,\n",
        "    'platelets':265000,\n",
        "    'serum_creatinine':1.9,\n",
        "    'serum_sodium':130,\n",
        "    'sex':1,\n",
        "    'smoking':0,\n",
        "    'time':4}\n",
        "    ]\n",
        "        })\n",
        "\n",
        "response = requests.post(scoring_uri, data=test_data, headers=headers)\n",
        "\n",
        "print(\"Result:\",response.text)"
      ],
      "outputs": [],
      "execution_count": null,
      "metadata": {
        "gather": {
          "logged": 1598432707604
        },
        "jupyter": {
          "outputs_hidden": false,
          "source_hidden": false
        },
        "nteract": {
          "transient": {
            "deleting": false
          }
        }
      }
    },
    {
      "cell_type": "code",
      "source": [
        "# myenv.save_to_directory('./training',overwrite=False)\n",
        "\n",
        "print(service.get_logs())"
      ],
      "outputs": [],
      "execution_count": null,
      "metadata": {}
    },
    {
      "cell_type": "markdown",
      "source": [
        "TODO: In the cell below, print the logs of the web service and delete the service"
      ],
      "metadata": {
        "collapsed": true,
        "gather": {
          "logged": 1598432765711
        },
        "jupyter": {
          "outputs_hidden": false,
          "source_hidden": false
        },
        "nteract": {
          "transient": {
            "deleting": false
          }
        }
      }
    },
    {
      "cell_type": "code",
      "source": [
        "print(response.status_code)\n",
        "print(response.elapsed)\n",
        "print(response.json())\n",
        "service.delete()\n"
      ],
      "outputs": [],
      "execution_count": null,
      "metadata": {
        "jupyter": {
          "outputs_hidden": false,
          "source_hidden": false
        },
        "nteract": {
          "transient": {
            "deleting": false
          }
        }
      }
    },
    {
      "cell_type": "code",
      "source": [],
      "outputs": [],
      "execution_count": null,
      "metadata": {
        "collapsed": true,
        "gather": {
          "logged": 1609207232983
        },
        "jupyter": {
          "outputs_hidden": false,
          "source_hidden": false
        },
        "nteract": {
          "transient": {
            "deleting": false
          }
        }
      }
    }
  ],
  "metadata": {
    "kernel_info": {
      "name": "python3"
    },
    "kernelspec": {
      "name": "python3",
      "language": "python",
      "display_name": "Python 3"
    },
    "language_info": {
      "name": "python",
      "version": "3.6.9",
      "mimetype": "text/x-python",
      "codemirror_mode": {
        "name": "ipython",
        "version": 3
      },
      "pygments_lexer": "ipython3",
      "nbconvert_exporter": "python",
      "file_extension": ".py"
    },
    "nteract": {
      "version": "nteract-front-end@1.0.0"
    }
  },
  "nbformat": 4,
  "nbformat_minor": 2
}