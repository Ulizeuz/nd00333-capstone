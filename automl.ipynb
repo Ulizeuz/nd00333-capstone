{
  "cells": [
    {
      "cell_type": "markdown",
      "source": [
        "# Automated ML\n",
        "\n",
        "TODO: Import Dependencies. In the cell below, import all the dependencies that you will need to complete the project."
      ],
      "metadata": {}
    },
    {
      "cell_type": "code",
      "source": [
        "# Import Dependencies.\n",
        "\n",
        "from azureml.core.experiment import Experiment\n",
        "from azureml.core.workspace import Workspace\n",
        "\n",
        "from azureml.core.compute import AmlCompute\n",
        "from azureml.core.compute import ComputeTarget\n",
        "from azureml.core.compute_target import ComputeTargetException\n",
        "\n",
        "import logging\n",
        "import os\n",
        "\n",
        "import azureml.core\n",
        "from azureml.train.automl import AutoMLConfig\n",
        "from azureml.core.dataset import Dataset\n",
        "from azureml.data.dataset_factory import TabularDatasetFactory\n",
        "\n",
        "from sklearn.model_selection import train_test_split\n",
        "\n",
        "import pandas as pd\n",
        "from azureml.widgets import RunDetails\n",
        "\n",
        "import joblib \n",
        "import azureml.automl\n",
        "\n",
        "from azureml.core.model import Model\n",
        "\n",
        "from azureml.pipeline.core import PipelineData, TrainingOutput\n",
        "\n",
        "from azureml.pipeline.core import Pipeline\n",
        "\n",
        "import pickle\n",
        "\n",
        "from azureml.core.model import InferenceConfig\n",
        "from azureml.core.environment import Environment\n",
        "from azureml.core.conda_dependencies import CondaDependencies\n",
        "\n",
        "from azureml.core.webservice import Webservice, AciWebservice\n",
        "\n",
        "import requests\n",
        "import json\n",
        "\n",
        "# Check core SDK version number\n",
        "print(\"SDK version:\", azureml.core.VERSION)"
      ],
      "outputs": [
        {
          "output_type": "stream",
          "name": "stdout",
          "text": [
            "SDK version: 1.19.0\n"
          ]
        }
      ],
      "execution_count": 1,
      "metadata": {
        "gather": {
          "logged": 1609781969810
        },
        "jupyter": {
          "outputs_hidden": false,
          "source_hidden": false
        },
        "nteract": {
          "transient": {
            "deleting": false
          }
        }
      }
    },
    {
      "cell_type": "markdown",
      "source": [
        "## Dataset\n",
        "\n",
        "### Overview\n",
        "\n",
        "There are some factors that affects Death Event. We use Kaggle's dataset Heart Failure Clinical Records which contains  information like age, sex, blood pressure, smoke, diabetes, ejection fraction, creatinine phosphokinase, serum_creatinine, serum_sodium, time and we have to predict their death_event.\n",
        "\n",
        "Dataset was uploaded and register as dataset in the workspace\n"
      ],
      "metadata": {}
    },
    {
      "cell_type": "code",
      "source": [
        "# Create a workspace\n",
        "\n",
        "ws = Workspace.from_config()\n",
        "print(ws.name, ws.resource_group, ws.location, ws.subscription_id, sep = '\\n')\n"
      ],
      "outputs": [
        {
          "output_type": "stream",
          "name": "stdout",
          "text": [
            "quick-starts-ws-133359\n",
            "aml-quickstarts-133359\n",
            "southcentralus\n",
            "2c48c51c-bd47-40d4-abbe-fb8eabd19c8c\n"
          ]
        }
      ],
      "execution_count": 2,
      "metadata": {
        "gather": {
          "logged": 1609781985488
        },
        "jupyter": {
          "outputs_hidden": false,
          "source_hidden": false
        },
        "nteract": {
          "transient": {
            "deleting": false
          }
        }
      }
    },
    {
      "cell_type": "code",
      "source": [
        "# choose a name for experiment\n",
        "experiment_name = 'ml-experiment-1'\n",
        "project_folder = './pipeline-project'\n",
        "\n",
        "experiment=Experiment(ws, experiment_name)\n",
        "\n",
        "experiment\n",
        "\n"
      ],
      "outputs": [
        {
          "output_type": "execute_result",
          "execution_count": 3,
          "data": {
            "text/plain": "Experiment(Name: ml-experiment-1,\nWorkspace: quick-starts-ws-133359)",
            "text/html": "<table style=\"width:100%\"><tr><th>Name</th><th>Workspace</th><th>Report Page</th><th>Docs Page</th></tr><tr><td>ml-experiment-1</td><td>quick-starts-ws-133359</td><td><a href=\"https://ml.azure.com/experiments/ml-experiment-1?wsid=/subscriptions/2c48c51c-bd47-40d4-abbe-fb8eabd19c8c/resourcegroups/aml-quickstarts-133359/workspaces/quick-starts-ws-133359\" target=\"_blank\" rel=\"noopener\">Link to Azure Machine Learning studio</a></td><td><a href=\"https://docs.microsoft.com/en-us/python/api/azureml-core/azureml.core.experiment.Experiment?view=azure-ml-py\" target=\"_blank\" rel=\"noopener\">Link to Documentation</a></td></tr></table>"
          },
          "metadata": {}
        }
      ],
      "execution_count": 3,
      "metadata": {
        "gather": {
          "logged": 1609781995725
        }
      }
    },
    {
      "cell_type": "code",
      "source": [
        "# NOTE: update the cluster name to match the existing cluster\n",
        "# Choose a name for your CPU cluster\n",
        "\n",
        "amlcompute_cluster_name = \"notebook133359\"\n",
        "\n",
        "# Verify that cluster does not exist already\n",
        "\n",
        "try:\n",
        "    compute_target = ComputeTarget(workspace=ws, name=amlcompute_cluster_name)\n",
        "    print('Found existing cluster, use it.')\n",
        "except ComputeTargetException:\n",
        "    compute_config = AmlCompute.provisioning_configuration(vm_size='STANDARD_D2_V2',# for GPU, use \"STANDARD_NC6\"\n",
        "                                                           #vm_priority = 'lowpriority', # optional\n",
        "                                                           max_nodes=4)\n",
        "    compute_target = ComputeTarget.create(ws, amlcompute_cluster_name, compute_config)\n",
        "\n",
        "compute_target.wait_for_completion(show_output=True)\n",
        "\n",
        "# For a more detailed view of current AmlCompute status, use get_status().\n"
      ],
      "outputs": [
        {
          "output_type": "stream",
          "name": "stdout",
          "text": [
            "Found existing cluster, use it.\n",
            "\n",
            "Jobrunning..............\n",
            "Running\n"
          ]
        }
      ],
      "execution_count": 4,
      "metadata": {
        "gather": {
          "logged": 1609782105652
        }
      }
    },
    {
      "cell_type": "code",
      "source": [
        "# dataset = Dataset.get_by_name(ws, name='heart')\n",
        "# ds = dataset.to_pandas_dataframe()\n",
        "# ds"
      ],
      "outputs": [],
      "execution_count": null,
      "metadata": {
        "gather": {
          "logged": 1609125910393
        }
      }
    },
    {
      "cell_type": "code",
      "source": [
        "#upload Heart Failure Dataset\n",
        "\n",
        "data = pd.read_csv(\"heart_failure_clinical_records_dataset.csv\")\n",
        "data.describe()"
      ],
      "outputs": [
        {
          "output_type": "execute_result",
          "execution_count": 6,
          "data": {
            "text/plain": "              age     anaemia  creatinine_phosphokinase    diabetes  \\\ncount  299.000000  299.000000                299.000000  299.000000   \nmean    60.833893    0.431438                581.839465    0.418060   \nstd     11.894809    0.496107                970.287881    0.494067   \nmin     40.000000    0.000000                 23.000000    0.000000   \n25%     51.000000    0.000000                116.500000    0.000000   \n50%     60.000000    0.000000                250.000000    0.000000   \n75%     70.000000    1.000000                582.000000    1.000000   \nmax     95.000000    1.000000               7861.000000    1.000000   \n\n       ejection_fraction  high_blood_pressure      platelets  \\\ncount         299.000000           299.000000     299.000000   \nmean           38.083612             0.351171  263358.029264   \nstd            11.834841             0.478136   97804.236869   \nmin            14.000000             0.000000   25100.000000   \n25%            30.000000             0.000000  212500.000000   \n50%            38.000000             0.000000  262000.000000   \n75%            45.000000             1.000000  303500.000000   \nmax            80.000000             1.000000  850000.000000   \n\n       serum_creatinine  serum_sodium         sex    smoking        time  \\\ncount         299.00000    299.000000  299.000000  299.00000  299.000000   \nmean            1.39388    136.625418    0.648829    0.32107  130.260870   \nstd             1.03451      4.412477    0.478136    0.46767   77.614208   \nmin             0.50000    113.000000    0.000000    0.00000    4.000000   \n25%             0.90000    134.000000    0.000000    0.00000   73.000000   \n50%             1.10000    137.000000    1.000000    0.00000  115.000000   \n75%             1.40000    140.000000    1.000000    1.00000  203.000000   \nmax             9.40000    148.000000    1.000000    1.00000  285.000000   \n\n       DEATH_EVENT  \ncount    299.00000  \nmean       0.32107  \nstd        0.46767  \nmin        0.00000  \n25%        0.00000  \n50%        0.00000  \n75%        1.00000  \nmax        1.00000  ",
            "text/html": "<div>\n<style scoped>\n    .dataframe tbody tr th:only-of-type {\n        vertical-align: middle;\n    }\n\n    .dataframe tbody tr th {\n        vertical-align: top;\n    }\n\n    .dataframe thead th {\n        text-align: right;\n    }\n</style>\n<table border=\"1\" class=\"dataframe\">\n  <thead>\n    <tr style=\"text-align: right;\">\n      <th></th>\n      <th>age</th>\n      <th>anaemia</th>\n      <th>creatinine_phosphokinase</th>\n      <th>diabetes</th>\n      <th>ejection_fraction</th>\n      <th>high_blood_pressure</th>\n      <th>platelets</th>\n      <th>serum_creatinine</th>\n      <th>serum_sodium</th>\n      <th>sex</th>\n      <th>smoking</th>\n      <th>time</th>\n      <th>DEATH_EVENT</th>\n    </tr>\n  </thead>\n  <tbody>\n    <tr>\n      <th>count</th>\n      <td>299.000000</td>\n      <td>299.000000</td>\n      <td>299.000000</td>\n      <td>299.000000</td>\n      <td>299.000000</td>\n      <td>299.000000</td>\n      <td>299.000000</td>\n      <td>299.00000</td>\n      <td>299.000000</td>\n      <td>299.000000</td>\n      <td>299.00000</td>\n      <td>299.000000</td>\n      <td>299.00000</td>\n    </tr>\n    <tr>\n      <th>mean</th>\n      <td>60.833893</td>\n      <td>0.431438</td>\n      <td>581.839465</td>\n      <td>0.418060</td>\n      <td>38.083612</td>\n      <td>0.351171</td>\n      <td>263358.029264</td>\n      <td>1.39388</td>\n      <td>136.625418</td>\n      <td>0.648829</td>\n      <td>0.32107</td>\n      <td>130.260870</td>\n      <td>0.32107</td>\n    </tr>\n    <tr>\n      <th>std</th>\n      <td>11.894809</td>\n      <td>0.496107</td>\n      <td>970.287881</td>\n      <td>0.494067</td>\n      <td>11.834841</td>\n      <td>0.478136</td>\n      <td>97804.236869</td>\n      <td>1.03451</td>\n      <td>4.412477</td>\n      <td>0.478136</td>\n      <td>0.46767</td>\n      <td>77.614208</td>\n      <td>0.46767</td>\n    </tr>\n    <tr>\n      <th>min</th>\n      <td>40.000000</td>\n      <td>0.000000</td>\n      <td>23.000000</td>\n      <td>0.000000</td>\n      <td>14.000000</td>\n      <td>0.000000</td>\n      <td>25100.000000</td>\n      <td>0.50000</td>\n      <td>113.000000</td>\n      <td>0.000000</td>\n      <td>0.00000</td>\n      <td>4.000000</td>\n      <td>0.00000</td>\n    </tr>\n    <tr>\n      <th>25%</th>\n      <td>51.000000</td>\n      <td>0.000000</td>\n      <td>116.500000</td>\n      <td>0.000000</td>\n      <td>30.000000</td>\n      <td>0.000000</td>\n      <td>212500.000000</td>\n      <td>0.90000</td>\n      <td>134.000000</td>\n      <td>0.000000</td>\n      <td>0.00000</td>\n      <td>73.000000</td>\n      <td>0.00000</td>\n    </tr>\n    <tr>\n      <th>50%</th>\n      <td>60.000000</td>\n      <td>0.000000</td>\n      <td>250.000000</td>\n      <td>0.000000</td>\n      <td>38.000000</td>\n      <td>0.000000</td>\n      <td>262000.000000</td>\n      <td>1.10000</td>\n      <td>137.000000</td>\n      <td>1.000000</td>\n      <td>0.00000</td>\n      <td>115.000000</td>\n      <td>0.00000</td>\n    </tr>\n    <tr>\n      <th>75%</th>\n      <td>70.000000</td>\n      <td>1.000000</td>\n      <td>582.000000</td>\n      <td>1.000000</td>\n      <td>45.000000</td>\n      <td>1.000000</td>\n      <td>303500.000000</td>\n      <td>1.40000</td>\n      <td>140.000000</td>\n      <td>1.000000</td>\n      <td>1.00000</td>\n      <td>203.000000</td>\n      <td>1.00000</td>\n    </tr>\n    <tr>\n      <th>max</th>\n      <td>95.000000</td>\n      <td>1.000000</td>\n      <td>7861.000000</td>\n      <td>1.000000</td>\n      <td>80.000000</td>\n      <td>1.000000</td>\n      <td>850000.000000</td>\n      <td>9.40000</td>\n      <td>148.000000</td>\n      <td>1.000000</td>\n      <td>1.00000</td>\n      <td>285.000000</td>\n      <td>1.00000</td>\n    </tr>\n  </tbody>\n</table>\n</div>"
          },
          "metadata": {}
        }
      ],
      "execution_count": 6,
      "metadata": {
        "gather": {
          "logged": 1609782176805
        },
        "jupyter": {
          "outputs_hidden": false,
          "source_hidden": false
        },
        "nteract": {
          "transient": {
            "deleting": false
          }
        }
      }
    },
    {
      "cell_type": "code",
      "source": [
        "train, test = train_test_split(data, test_size=0.2, random_state=1 )\n",
        "\n",
        "if \"training\" not in os.listdir():\n",
        "    os.mkdir(\"./training\")\n",
        "\n",
        "if \"models\" not in os.listdir():\n",
        "    os.mkdir(\"./models\")\n",
        "if \"outputs\" not in os.listdir():\n",
        "    os.mkdir(\"./outputs\")\n",
        "\n",
        "train.to_csv(\"training/train_data.csv\", index = False)\n",
        "\n",
        "data_store = ws.get_default_datastore()\n",
        "data_store.upload(src_dir = \"./training\", target_path = 'udacity-project', overwrite = True,  show_progress = True)\n"
      ],
      "outputs": [
        {
          "output_type": "stream",
          "name": "stdout",
          "text": [
            "Uploading an estimated of 1 files\n",
            "Uploading ./training/train_data.csv\n",
            "Uploaded ./training/train_data.csv, 1 files out of an estimated total of 1\n",
            "Uploaded 1 files\n"
          ]
        },
        {
          "output_type": "execute_result",
          "execution_count": 7,
          "data": {
            "text/plain": "$AZUREML_DATAREFERENCE_3e900c1571f8482aac727028d1b2bb44"
          },
          "metadata": {}
        }
      ],
      "execution_count": 7,
      "metadata": {
        "gather": {
          "logged": 1609782185120
        }
      }
    },
    {
      "cell_type": "code",
      "source": [
        "train_data = Dataset.Tabular.from_delimited_files(path=data_store.path(\"udacity-project/train_data.csv\"))\n",
        "# train=TabularDatasetFactory.from_delimited_files([(data_store, 'training/train_data.csv')])\n"
      ],
      "outputs": [],
      "execution_count": 8,
      "metadata": {
        "gather": {
          "logged": 1609782199274
        }
      }
    },
    {
      "cell_type": "markdown",
      "source": [
        "## AutoML Configuration\n",
        "\n",
        "TODO: Explain why you chose the automl settings and cofiguration you used below.\n",
        "\n",
        "We are trying to predict DEATH_EVENT, therefore we need to define the task as classification. Also define Featurization as auto and enable early stopping and the primary metric AUC_weighted"
      ],
      "metadata": {}
    },
    {
      "cell_type": "code",
      "source": [
        "# TODO: Put your automl settings here\n",
        "automl_settings = {\n",
        "    \"experiment_timeout_minutes\": 20,\n",
        "    \"max_concurrent_iterations\": 5,\n",
        "    \"primary_metric\" : 'AUC_weighted'    \n",
        "}\n",
        "\n",
        "# TODO: Put your automl config here\n",
        "automl_config = AutoMLConfig(\n",
        "    \n",
        "    compute_target = compute_target,\n",
        "    task = \"classification\",\n",
        "    training_data = train_data,\n",
        "    label_column_name = \"DEATH_EVENT\",   \n",
        "    path = project_folder,\n",
        "    enable_early_stopping= True,\n",
        "    featurization= 'auto',\n",
        "    debug_log = \"automl_errors.log\",\n",
        "    **automl_settings \n",
        ")"
      ],
      "outputs": [],
      "execution_count": 9,
      "metadata": {
        "gather": {
          "logged": 1609782208012
        },
        "jupyter": {
          "outputs_hidden": false,
          "source_hidden": false
        },
        "nteract": {
          "transient": {
            "deleting": false
          }
        }
      }
    },
    {
      "cell_type": "code",
      "source": [
        "# TODO: Submit your experiment"
      ],
      "outputs": [],
      "execution_count": null,
      "metadata": {
        "gather": {
          "logged": 1608761042998
        },
        "jupyter": {
          "outputs_hidden": false,
          "source_hidden": false
        },
        "nteract": {
          "transient": {
            "deleting": false
          }
        }
      }
    },
    {
      "cell_type": "code",
      "source": [
        "remote_run = experiment.submit(automl_config, show_output = True)\n",
        "RunDetails(remote_run).show()\n",
        "#Take SS"
      ],
      "outputs": [
        {
          "output_type": "stream",
          "name": "stdout",
          "text": [
            "Running on remote.\n",
            "No run_configuration provided, running on notebook133359 with default configuration\n",
            "Running on remote compute: notebook133359\n",
            "Parent Run ID: AutoML_1f80ec7f-b587-44f7-9c98-a3e687eea30f\n",
            "\n",
            "Current status: FeaturesGeneration. Generating features for the dataset.\n",
            "Current status: ModelSelection. Beginning model selection.\n",
            "\n",
            "****************************************************************************************************\n",
            "DATA GUARDRAILS: \n",
            "\n",
            "TYPE:         Cross validation\n",
            "STATUS:       DONE\n",
            "DESCRIPTION:  Each iteration of the trained model was validated through cross-validation.\n",
            "              \n",
            "DETAILS:      \n",
            "+---------------------------------+\n",
            "|Number of folds                  |\n",
            "+=================================+\n",
            "|10                               |\n",
            "+---------------------------------+\n",
            "\n",
            "****************************************************************************************************\n",
            "\n",
            "TYPE:         Class balancing detection\n",
            "STATUS:       PASSED\n",
            "DESCRIPTION:  Your inputs were analyzed, and all classes are balanced in your training data.\n",
            "              Learn more about imbalanced data: https://aka.ms/AutomatedMLImbalancedData\n",
            "\n",
            "****************************************************************************************************\n",
            "\n",
            "TYPE:         Missing feature values imputation\n",
            "STATUS:       PASSED\n",
            "DESCRIPTION:  No feature missing values were detected in the training data.\n",
            "              Learn more about missing value imputation: https://aka.ms/AutomatedMLFeaturization\n",
            "\n",
            "****************************************************************************************************\n",
            "\n",
            "TYPE:         High cardinality feature detection\n",
            "STATUS:       PASSED\n",
            "DESCRIPTION:  Your inputs were analyzed, and no high cardinality features were detected.\n",
            "              Learn more about high cardinality feature handling: https://aka.ms/AutomatedMLFeaturization\n",
            "\n",
            "****************************************************************************************************\n",
            "\n",
            "****************************************************************************************************\n",
            "ITERATION: The iteration being evaluated.\n",
            "PIPELINE: A summary description of the pipeline being evaluated.\n",
            "DURATION: Time taken for the current iteration.\n",
            "METRIC: The result of computing score on the fitted pipeline.\n",
            "BEST: The best observed score thus far.\n",
            "****************************************************************************************************\n",
            "\n",
            " ITERATION   PIPELINE                                       DURATION      METRIC      BEST\n",
            "         1   MaxAbsScaler XGBoostClassifier                 0:01:03       0.8879    0.8879\n",
            "         0   MaxAbsScaler LightGBM                          0:01:14       0.8901    0.8901\n",
            "         2   MinMaxScaler RandomForest                      0:01:07       0.8830    0.8901\n",
            "         3   RobustScaler ExtremeRandomTrees                0:01:10       0.8695    0.8901\n",
            "         4   MinMaxScaler RandomForest                      0:01:10       0.8902    0.8902\n",
            "         5   MinMaxScaler RandomForest                      0:01:06       0.8905    0.8905\n",
            "         6   StandardScalerWrapper RandomForest             0:01:00       0.8758    0.8905\n",
            "         9   SparseNormalizer KNN                           0:00:58       0.7183    0.8905\n",
            "         7   MinMaxScaler ExtremeRandomTrees                0:01:03       0.8831    0.8905\n",
            "         8   MinMaxScaler ExtremeRandomTrees                0:01:15       0.8974    0.8974\n",
            "        10   MinMaxScaler ExtremeRandomTrees                0:01:06       0.8793    0.8974\n",
            "        11   RobustScaler ExtremeRandomTrees                0:01:04       0.8909    0.8974\n",
            "        12   StandardScalerWrapper RandomForest             0:01:02       0.8926    0.8974\n",
            "        13   StandardScalerWrapper SGD                      0:01:04       0.8492    0.8974\n",
            "        14   RobustScaler RandomForest                      0:01:41       0.8918    0.8974\n",
            "        15   StandardScalerWrapper KNN                      0:01:03       0.5876    0.8974\n",
            "        16   MinMaxScaler RandomForest                      0:01:10       0.8673    0.8974\n",
            "        17   MinMaxScaler ExtremeRandomTrees                0:01:00       0.8278    0.8974\n",
            "        18   MaxAbsScaler RandomForest                      0:01:00       0.8878    0.8974\n",
            "        19   StandardScalerWrapper XGBoostClassifier        0:01:12       0.8926    0.8974\n",
            "        20   MaxAbsScaler RandomForest                      0:00:51       0.8686    0.8974\n",
            "        21   MaxAbsScaler ExtremeRandomTrees                0:01:03       0.8290    0.8974\n",
            "        23   StandardScalerWrapper XGBoostClassifier        0:00:59       0.8985    0.8985\n",
            "        22   MaxAbsScaler ExtremeRandomTrees                0:01:35       0.8668    0.8985\n",
            "        24   SparseNormalizer XGBoostClassifier             0:01:08       0.8663    0.8985\n",
            "        25   StandardScalerWrapper ExtremeRandomTrees       0:00:58       0.8691    0.8985\n",
            "        26   StandardScalerWrapper LightGBM                 0:01:28       0.8616    0.8985\n",
            "        27   MaxAbsScaler ExtremeRandomTrees                0:01:36       0.8908    0.8985\n",
            "        28   RobustScaler LightGBM                          0:01:08       0.7897    0.8985\n",
            "        30   PCA XGBoostClassifier                          0:01:04       0.4964    0.8985\n",
            "        29   RobustScaler RandomForest                      0:01:20       0.9131    0.9131\n",
            "        31   RobustScaler RandomForest                      0:01:24       0.9037    0.9131\n",
            "        32   StandardScalerWrapper GradientBoosting         0:01:25       0.9042    0.9131\n",
            "        33   MaxAbsScaler GradientBoosting                  0:01:20       0.9021    0.9131\n",
            "        34   StandardScalerWrapper GradientBoosting         0:01:05       0.8694    0.9131\n",
            "        35   StandardScalerWrapper RandomForest             0:01:04       0.8858    0.9131\n",
            "        36   StandardScalerWrapper XGBoostClassifier        0:01:13       0.8884    0.9131\n",
            "        37   RobustScaler LightGBM                          0:01:06       0.8900    0.9131\n",
            "        38   StandardScalerWrapper XGBoostClassifier        0:01:01       0.8877    0.9131\n",
            "        39   StandardScalerWrapper RandomForest             0:01:13       0.9107    0.9131\n",
            "        40   MinMaxScaler RandomForest                      0:01:07       0.9078    0.9131\n",
            "        41   MaxAbsScaler RandomForest                      0:01:10       0.9010    0.9131\n",
            "        43   MinMaxScaler RandomForest                      0:01:08       0.9111    0.9131\n",
            "        42   RobustScaler ExtremeRandomTrees                0:01:21       0.8737    0.9131\n",
            "        44   MaxAbsScaler GradientBoosting                  0:01:12       0.9067    0.9131\n",
            "        45   MinMaxScaler RandomForest                      0:01:08       0.8941    0.9131\n",
            "        46                                                  0:00:08          nan    0.9131\n",
            "        47                                                  0:00:08          nan    0.9131\n",
            "        48                                                  0:00:18          nan    0.9131\n",
            "        49    VotingEnsemble                                0:02:39       0.9252    0.9252\n",
            "        50    StackEnsemble                                 0:02:47       0.9181    0.9252\n"
          ]
        },
        {
          "output_type": "display_data",
          "data": {
            "text/plain": "_AutoMLWidget(widget_settings={'childWidgetDisplay': 'popup', 'send_telemetry': False, 'log_level': 'INFO', 's…",
            "application/vnd.jupyter.widget-view+json": {
              "version_major": 2,
              "version_minor": 0,
              "model_id": "a3ec19d8acc341c2a12d30fec2354da1"
            }
          },
          "metadata": {}
        },
        {
          "output_type": "display_data",
          "data": {
            "application/aml.mini.widget.v1": "{\"status\": \"Completed\", \"workbench_run_details_uri\": \"https://ml.azure.com/experiments/ml-experiment-1/runs/AutoML_1f80ec7f-b587-44f7-9c98-a3e687eea30f?wsid=/subscriptions/2c48c51c-bd47-40d4-abbe-fb8eabd19c8c/resourcegroups/aml-quickstarts-133359/workspaces/quick-starts-ws-133359\", \"run_id\": \"AutoML_1f80ec7f-b587-44f7-9c98-a3e687eea30f\", \"run_properties\": {\"run_id\": \"AutoML_1f80ec7f-b587-44f7-9c98-a3e687eea30f\", \"created_utc\": \"2021-01-04T17:43:47.761298Z\", \"properties\": {\"num_iterations\": \"1000\", \"training_type\": \"TrainFull\", \"acquisition_function\": \"EI\", \"primary_metric\": \"AUC_weighted\", \"train_split\": \"0\", \"acquisition_parameter\": \"0\", \"num_cross_validation\": null, \"target\": \"notebook133359\", \"AMLSettingsJsonString\": \"{\\\"path\\\":null,\\\"name\\\":\\\"ml-experiment-1\\\",\\\"subscription_id\\\":\\\"2c48c51c-bd47-40d4-abbe-fb8eabd19c8c\\\",\\\"resource_group\\\":\\\"aml-quickstarts-133359\\\",\\\"workspace_name\\\":\\\"quick-starts-ws-133359\\\",\\\"region\\\":\\\"southcentralus\\\",\\\"compute_target\\\":\\\"notebook133359\\\",\\\"spark_service\\\":null,\\\"azure_service\\\":\\\"remote\\\",\\\"many_models\\\":false,\\\"pipeline_fetch_max_batch_size\\\":1,\\\"iterations\\\":1000,\\\"primary_metric\\\":\\\"AUC_weighted\\\",\\\"task_type\\\":\\\"classification\\\",\\\"data_script\\\":null,\\\"validation_size\\\":0.0,\\\"n_cross_validations\\\":null,\\\"y_min\\\":null,\\\"y_max\\\":null,\\\"num_classes\\\":null,\\\"featurization\\\":\\\"auto\\\",\\\"_ignore_package_version_incompatibilities\\\":false,\\\"is_timeseries\\\":false,\\\"max_cores_per_iteration\\\":1,\\\"max_concurrent_iterations\\\":5,\\\"iteration_timeout_minutes\\\":null,\\\"mem_in_mb\\\":null,\\\"enforce_time_on_windows\\\":false,\\\"experiment_timeout_minutes\\\":20,\\\"experiment_exit_score\\\":null,\\\"whitelist_models\\\":null,\\\"blacklist_algos\\\":[\\\"TensorFlowLinearClassifier\\\",\\\"TensorFlowDNN\\\"],\\\"supported_models\\\":[\\\"XGBoostClassifier\\\",\\\"RandomForest\\\",\\\"TensorFlowLinearClassifier\\\",\\\"LogisticRegression\\\",\\\"DecisionTree\\\",\\\"LightGBM\\\",\\\"MultinomialNaiveBayes\\\",\\\"ExtremeRandomTrees\\\",\\\"LinearSVM\\\",\\\"AveragedPerceptronClassifier\\\",\\\"GradientBoosting\\\",\\\"TensorFlowDNN\\\",\\\"SVM\\\",\\\"BernoulliNaiveBayes\\\",\\\"SGD\\\",\\\"KNN\\\"],\\\"auto_blacklist\\\":true,\\\"blacklist_samples_reached\\\":false,\\\"exclude_nan_labels\\\":true,\\\"verbosity\\\":20,\\\"_debug_log\\\":\\\"azureml_automl.log\\\",\\\"show_warnings\\\":false,\\\"model_explainability\\\":true,\\\"service_url\\\":null,\\\"sdk_url\\\":null,\\\"sdk_packages\\\":null,\\\"enable_onnx_compatible_models\\\":false,\\\"enable_split_onnx_featurizer_estimator_models\\\":false,\\\"vm_type\\\":\\\"STANDARD_DS3_V2\\\",\\\"telemetry_verbosity\\\":20,\\\"send_telemetry\\\":true,\\\"enable_dnn\\\":false,\\\"scenario\\\":\\\"SDK-1.13.0\\\",\\\"environment_label\\\":null,\\\"force_text_dnn\\\":false,\\\"enable_feature_sweeping\\\":true,\\\"enable_early_stopping\\\":true,\\\"early_stopping_n_iters\\\":10,\\\"metrics\\\":null,\\\"enable_ensembling\\\":true,\\\"enable_stack_ensembling\\\":true,\\\"ensemble_iterations\\\":15,\\\"enable_tf\\\":false,\\\"enable_subsampling\\\":null,\\\"subsample_seed\\\":null,\\\"enable_nimbusml\\\":false,\\\"enable_streaming\\\":false,\\\"force_streaming\\\":false,\\\"track_child_runs\\\":true,\\\"allowed_private_models\\\":[],\\\"label_column_name\\\":\\\"DEATH_EVENT\\\",\\\"weight_column_name\\\":null,\\\"cv_split_column_names\\\":null,\\\"enable_local_managed\\\":false,\\\"_local_managed_run_id\\\":null,\\\"cost_mode\\\":1,\\\"lag_length\\\":0,\\\"metric_operation\\\":\\\"maximize\\\",\\\"preprocess\\\":true}\", \"DataPrepJsonString\": \"{\\\\\\\"training_data\\\\\\\": \\\\\\\"{\\\\\\\\\\\\\\\"blocks\\\\\\\\\\\\\\\": [{\\\\\\\\\\\\\\\"id\\\\\\\\\\\\\\\": \\\\\\\\\\\\\\\"4cd403ba-05e5-4cea-ba35-b4d328c22d4a\\\\\\\\\\\\\\\", \\\\\\\\\\\\\\\"type\\\\\\\\\\\\\\\": \\\\\\\\\\\\\\\"Microsoft.DPrep.GetDatastoreFilesBlock\\\\\\\\\\\\\\\", \\\\\\\\\\\\\\\"arguments\\\\\\\\\\\\\\\": {\\\\\\\\\\\\\\\"datastores\\\\\\\\\\\\\\\": [{\\\\\\\\\\\\\\\"datastoreName\\\\\\\\\\\\\\\": \\\\\\\\\\\\\\\"workspaceblobstore\\\\\\\\\\\\\\\", \\\\\\\\\\\\\\\"path\\\\\\\\\\\\\\\": \\\\\\\\\\\\\\\"udacity-project/train_data.csv\\\\\\\\\\\\\\\", \\\\\\\\\\\\\\\"resourceGroup\\\\\\\\\\\\\\\": \\\\\\\\\\\\\\\"aml-quickstarts-133359\\\\\\\\\\\\\\\", \\\\\\\\\\\\\\\"subscription\\\\\\\\\\\\\\\": \\\\\\\\\\\\\\\"2c48c51c-bd47-40d4-abbe-fb8eabd19c8c\\\\\\\\\\\\\\\", \\\\\\\\\\\\\\\"workspaceName\\\\\\\\\\\\\\\": \\\\\\\\\\\\\\\"quick-starts-ws-133359\\\\\\\\\\\\\\\"}]}, \\\\\\\\\\\\\\\"localData\\\\\\\\\\\\\\\": {}, \\\\\\\\\\\\\\\"isEnabled\\\\\\\\\\\\\\\": true, \\\\\\\\\\\\\\\"name\\\\\\\\\\\\\\\": null, \\\\\\\\\\\\\\\"annotation\\\\\\\\\\\\\\\": null}, {\\\\\\\\\\\\\\\"id\\\\\\\\\\\\\\\": \\\\\\\\\\\\\\\"71848961-fa51-4320-9b98-40249d56c6e2\\\\\\\\\\\\\\\", \\\\\\\\\\\\\\\"type\\\\\\\\\\\\\\\": \\\\\\\\\\\\\\\"Microsoft.DPrep.ParseDelimitedBlock\\\\\\\\\\\\\\\", \\\\\\\\\\\\\\\"arguments\\\\\\\\\\\\\\\": {\\\\\\\\\\\\\\\"columnHeadersMode\\\\\\\\\\\\\\\": 3, \\\\\\\\\\\\\\\"fileEncoding\\\\\\\\\\\\\\\": 0, \\\\\\\\\\\\\\\"handleQuotedLineBreaks\\\\\\\\\\\\\\\": false, \\\\\\\\\\\\\\\"preview\\\\\\\\\\\\\\\": false, \\\\\\\\\\\\\\\"separator\\\\\\\\\\\\\\\": \\\\\\\\\\\\\\\",\\\\\\\\\\\\\\\", \\\\\\\\\\\\\\\"skipRows\\\\\\\\\\\\\\\": 0, \\\\\\\\\\\\\\\"skipRowsMode\\\\\\\\\\\\\\\": 0}, \\\\\\\\\\\\\\\"localData\\\\\\\\\\\\\\\": {}, \\\\\\\\\\\\\\\"isEnabled\\\\\\\\\\\\\\\": true, \\\\\\\\\\\\\\\"name\\\\\\\\\\\\\\\": null, \\\\\\\\\\\\\\\"annotation\\\\\\\\\\\\\\\": null}, {\\\\\\\\\\\\\\\"id\\\\\\\\\\\\\\\": \\\\\\\\\\\\\\\"880f081f-aea5-4c8c-b847-9b36c4099361\\\\\\\\\\\\\\\", \\\\\\\\\\\\\\\"type\\\\\\\\\\\\\\\": \\\\\\\\\\\\\\\"Microsoft.DPrep.DropColumnsBlock\\\\\\\\\\\\\\\", \\\\\\\\\\\\\\\"arguments\\\\\\\\\\\\\\\": {\\\\\\\\\\\\\\\"columns\\\\\\\\\\\\\\\": {\\\\\\\\\\\\\\\"type\\\\\\\\\\\\\\\": 0, \\\\\\\\\\\\\\\"details\\\\\\\\\\\\\\\": {\\\\\\\\\\\\\\\"selectedColumns\\\\\\\\\\\\\\\": [\\\\\\\\\\\\\\\"Path\\\\\\\\\\\\\\\"]}}}, \\\\\\\\\\\\\\\"localData\\\\\\\\\\\\\\\": {}, \\\\\\\\\\\\\\\"isEnabled\\\\\\\\\\\\\\\": true, \\\\\\\\\\\\\\\"name\\\\\\\\\\\\\\\": null, \\\\\\\\\\\\\\\"annotation\\\\\\\\\\\\\\\": null}, {\\\\\\\\\\\\\\\"id\\\\\\\\\\\\\\\": \\\\\\\\\\\\\\\"602058af-5ac0-4436-9dcd-e7a3cebdfa4f\\\\\\\\\\\\\\\", \\\\\\\\\\\\\\\"type\\\\\\\\\\\\\\\": \\\\\\\\\\\\\\\"Microsoft.DPrep.SetColumnTypesBlock\\\\\\\\\\\\\\\", \\\\\\\\\\\\\\\"arguments\\\\\\\\\\\\\\\": {\\\\\\\\\\\\\\\"columnConversion\\\\\\\\\\\\\\\": [{\\\\\\\\\\\\\\\"column\\\\\\\\\\\\\\\": {\\\\\\\\\\\\\\\"type\\\\\\\\\\\\\\\": 2, \\\\\\\\\\\\\\\"details\\\\\\\\\\\\\\\": {\\\\\\\\\\\\\\\"selectedColumn\\\\\\\\\\\\\\\": \\\\\\\\\\\\\\\"age\\\\\\\\\\\\\\\"}}, \\\\\\\\\\\\\\\"typeProperty\\\\\\\\\\\\\\\": 3}, {\\\\\\\\\\\\\\\"column\\\\\\\\\\\\\\\": {\\\\\\\\\\\\\\\"type\\\\\\\\\\\\\\\": 2, \\\\\\\\\\\\\\\"details\\\\\\\\\\\\\\\": {\\\\\\\\\\\\\\\"selectedColumn\\\\\\\\\\\\\\\": \\\\\\\\\\\\\\\"anaemia\\\\\\\\\\\\\\\"}}, \\\\\\\\\\\\\\\"typeProperty\\\\\\\\\\\\\\\": 2}, {\\\\\\\\\\\\\\\"column\\\\\\\\\\\\\\\": {\\\\\\\\\\\\\\\"type\\\\\\\\\\\\\\\": 2, \\\\\\\\\\\\\\\"details\\\\\\\\\\\\\\\": {\\\\\\\\\\\\\\\"selectedColumn\\\\\\\\\\\\\\\": \\\\\\\\\\\\\\\"creatinine_phosphokinase\\\\\\\\\\\\\\\"}}, \\\\\\\\\\\\\\\"typeProperty\\\\\\\\\\\\\\\": 2}, {\\\\\\\\\\\\\\\"column\\\\\\\\\\\\\\\": {\\\\\\\\\\\\\\\"type\\\\\\\\\\\\\\\": 2, \\\\\\\\\\\\\\\"details\\\\\\\\\\\\\\\": {\\\\\\\\\\\\\\\"selectedColumn\\\\\\\\\\\\\\\": \\\\\\\\\\\\\\\"diabetes\\\\\\\\\\\\\\\"}}, \\\\\\\\\\\\\\\"typeProperty\\\\\\\\\\\\\\\": 2}, {\\\\\\\\\\\\\\\"column\\\\\\\\\\\\\\\": {\\\\\\\\\\\\\\\"type\\\\\\\\\\\\\\\": 2, \\\\\\\\\\\\\\\"details\\\\\\\\\\\\\\\": {\\\\\\\\\\\\\\\"selectedColumn\\\\\\\\\\\\\\\": \\\\\\\\\\\\\\\"ejection_fraction\\\\\\\\\\\\\\\"}}, \\\\\\\\\\\\\\\"typeProperty\\\\\\\\\\\\\\\": 2}, {\\\\\\\\\\\\\\\"column\\\\\\\\\\\\\\\": {\\\\\\\\\\\\\\\"type\\\\\\\\\\\\\\\": 2, \\\\\\\\\\\\\\\"details\\\\\\\\\\\\\\\": {\\\\\\\\\\\\\\\"selectedColumn\\\\\\\\\\\\\\\": \\\\\\\\\\\\\\\"high_blood_pressure\\\\\\\\\\\\\\\"}}, \\\\\\\\\\\\\\\"typeProperty\\\\\\\\\\\\\\\": 2}, {\\\\\\\\\\\\\\\"column\\\\\\\\\\\\\\\": {\\\\\\\\\\\\\\\"type\\\\\\\\\\\\\\\": 2, \\\\\\\\\\\\\\\"details\\\\\\\\\\\\\\\": {\\\\\\\\\\\\\\\"selectedColumn\\\\\\\\\\\\\\\": \\\\\\\\\\\\\\\"platelets\\\\\\\\\\\\\\\"}}, \\\\\\\\\\\\\\\"typeProperty\\\\\\\\\\\\\\\": 3}, {\\\\\\\\\\\\\\\"column\\\\\\\\\\\\\\\": {\\\\\\\\\\\\\\\"type\\\\\\\\\\\\\\\": 2, \\\\\\\\\\\\\\\"details\\\\\\\\\\\\\\\": {\\\\\\\\\\\\\\\"selectedColumn\\\\\\\\\\\\\\\": \\\\\\\\\\\\\\\"serum_creatinine\\\\\\\\\\\\\\\"}}, \\\\\\\\\\\\\\\"typeProperty\\\\\\\\\\\\\\\": 3}, {\\\\\\\\\\\\\\\"column\\\\\\\\\\\\\\\": {\\\\\\\\\\\\\\\"type\\\\\\\\\\\\\\\": 2, \\\\\\\\\\\\\\\"details\\\\\\\\\\\\\\\": {\\\\\\\\\\\\\\\"selectedColumn\\\\\\\\\\\\\\\": \\\\\\\\\\\\\\\"serum_sodium\\\\\\\\\\\\\\\"}}, \\\\\\\\\\\\\\\"typeProperty\\\\\\\\\\\\\\\": 2}, {\\\\\\\\\\\\\\\"column\\\\\\\\\\\\\\\": {\\\\\\\\\\\\\\\"type\\\\\\\\\\\\\\\": 2, \\\\\\\\\\\\\\\"details\\\\\\\\\\\\\\\": {\\\\\\\\\\\\\\\"selectedColumn\\\\\\\\\\\\\\\": \\\\\\\\\\\\\\\"sex\\\\\\\\\\\\\\\"}}, \\\\\\\\\\\\\\\"typeProperty\\\\\\\\\\\\\\\": 2}, {\\\\\\\\\\\\\\\"column\\\\\\\\\\\\\\\": {\\\\\\\\\\\\\\\"type\\\\\\\\\\\\\\\": 2, \\\\\\\\\\\\\\\"details\\\\\\\\\\\\\\\": {\\\\\\\\\\\\\\\"selectedColumn\\\\\\\\\\\\\\\": \\\\\\\\\\\\\\\"smoking\\\\\\\\\\\\\\\"}}, \\\\\\\\\\\\\\\"typeProperty\\\\\\\\\\\\\\\": 2}, {\\\\\\\\\\\\\\\"column\\\\\\\\\\\\\\\": {\\\\\\\\\\\\\\\"type\\\\\\\\\\\\\\\": 2, \\\\\\\\\\\\\\\"details\\\\\\\\\\\\\\\": {\\\\\\\\\\\\\\\"selectedColumn\\\\\\\\\\\\\\\": \\\\\\\\\\\\\\\"time\\\\\\\\\\\\\\\"}}, \\\\\\\\\\\\\\\"typeProperty\\\\\\\\\\\\\\\": 2}, {\\\\\\\\\\\\\\\"column\\\\\\\\\\\\\\\": {\\\\\\\\\\\\\\\"type\\\\\\\\\\\\\\\": 2, \\\\\\\\\\\\\\\"details\\\\\\\\\\\\\\\": {\\\\\\\\\\\\\\\"selectedColumn\\\\\\\\\\\\\\\": \\\\\\\\\\\\\\\"DEATH_EVENT\\\\\\\\\\\\\\\"}}, \\\\\\\\\\\\\\\"typeProperty\\\\\\\\\\\\\\\": 2}]}, \\\\\\\\\\\\\\\"localData\\\\\\\\\\\\\\\": {}, \\\\\\\\\\\\\\\"isEnabled\\\\\\\\\\\\\\\": true, \\\\\\\\\\\\\\\"name\\\\\\\\\\\\\\\": null, \\\\\\\\\\\\\\\"annotation\\\\\\\\\\\\\\\": null}], \\\\\\\\\\\\\\\"inspectors\\\\\\\\\\\\\\\": [], \\\\\\\\\\\\\\\"meta\\\\\\\\\\\\\\\": {\\\\\\\\\\\\\\\"savedDatasetId\\\\\\\\\\\\\\\": \\\\\\\\\\\\\\\"766a030e-1b98-4292-8a41-9569f7e7a240\\\\\\\\\\\\\\\", \\\\\\\\\\\\\\\"datasetType\\\\\\\\\\\\\\\": \\\\\\\\\\\\\\\"tabular\\\\\\\\\\\\\\\", \\\\\\\\\\\\\\\"subscriptionId\\\\\\\\\\\\\\\": \\\\\\\\\\\\\\\"2c48c51c-bd47-40d4-abbe-fb8eabd19c8c\\\\\\\\\\\\\\\", \\\\\\\\\\\\\\\"workspaceId\\\\\\\\\\\\\\\": \\\\\\\\\\\\\\\"cc543629-fd22-43a9-bfc3-1deda7f68276\\\\\\\\\\\\\\\", \\\\\\\\\\\\\\\"workspaceLocation\\\\\\\\\\\\\\\": \\\\\\\\\\\\\\\"southcentralus\\\\\\\\\\\\\\\"}}\\\\\\\", \\\\\\\"activities\\\\\\\": 0}\", \"EnableSubsampling\": null, \"runTemplate\": \"AutoML\", \"azureml.runsource\": \"automl\", \"display_task_type\": \"classification\", \"dependencies_versions\": \"{\\\"azureml-widgets\\\": \\\"1.19.0\\\", \\\"azureml-train\\\": \\\"1.19.0\\\", \\\"azureml-train-restclients-hyperdrive\\\": \\\"1.19.0\\\", \\\"azureml-train-core\\\": \\\"1.19.0\\\", \\\"azureml-train-automl\\\": \\\"1.19.0\\\", \\\"azureml-train-automl-runtime\\\": \\\"1.19.0\\\", \\\"azureml-train-automl-client\\\": \\\"1.19.0\\\", \\\"azureml-tensorboard\\\": \\\"1.19.0\\\", \\\"azureml-telemetry\\\": \\\"1.19.0\\\", \\\"azureml-sdk\\\": \\\"1.19.0\\\", \\\"azureml-samples\\\": \\\"0+unknown\\\", \\\"azureml-pipeline\\\": \\\"1.19.0\\\", \\\"azureml-pipeline-steps\\\": \\\"1.19.0\\\", \\\"azureml-pipeline-core\\\": \\\"1.19.0\\\", \\\"azureml-opendatasets\\\": \\\"1.19.0\\\", \\\"azureml-model-management-sdk\\\": \\\"1.0.1b6.post1\\\", \\\"azureml-mlflow\\\": \\\"1.19.0\\\", \\\"azureml-interpret\\\": \\\"1.19.0\\\", \\\"azureml-explain-model\\\": \\\"1.19.0\\\", \\\"azureml-defaults\\\": \\\"1.19.0\\\", \\\"azureml-dataset-runtime\\\": \\\"1.19.0\\\", \\\"azureml-dataprep\\\": \\\"2.6.1\\\", \\\"azureml-dataprep-rslex\\\": \\\"1.4.0\\\", \\\"azureml-dataprep-native\\\": \\\"26.0.0\\\", \\\"azureml-datadrift\\\": \\\"1.19.0\\\", \\\"azureml-core\\\": \\\"1.19.0\\\", \\\"azureml-contrib-services\\\": \\\"1.19.0\\\", \\\"azureml-contrib-server\\\": \\\"1.19.0\\\", \\\"azureml-contrib-reinforcementlearning\\\": \\\"1.19.0\\\", \\\"azureml-contrib-pipeline-steps\\\": \\\"1.19.0\\\", \\\"azureml-contrib-notebook\\\": \\\"1.19.0\\\", \\\"azureml-contrib-interpret\\\": \\\"1.19.0\\\", \\\"azureml-contrib-gbdt\\\": \\\"1.19.0\\\", \\\"azureml-contrib-fairness\\\": \\\"1.19.0\\\", \\\"azureml-contrib-dataset\\\": \\\"1.19.0\\\", \\\"azureml-cli-common\\\": \\\"1.19.0\\\", \\\"azureml-automl-runtime\\\": \\\"1.19.0\\\", \\\"azureml-automl-core\\\": \\\"1.19.0\\\", \\\"azureml-accel-models\\\": \\\"1.19.0\\\"}\", \"_aml_system_scenario_identification\": \"Remote.Parent\", \"ClientType\": \"SDK\", \"environment_cpu_name\": \"AzureML-AutoML\", \"environment_cpu_label\": \"prod\", \"environment_gpu_name\": \"AzureML-AutoML-GPU\", \"environment_gpu_label\": \"prod\", \"root_attribution\": \"automl\", \"attribution\": \"AutoML\", \"Orchestrator\": \"AutoML\", \"CancelUri\": \"https://southcentralus.experiments.azureml.net/jasmine/v1.0/subscriptions/2c48c51c-bd47-40d4-abbe-fb8eabd19c8c/resourceGroups/aml-quickstarts-133359/providers/Microsoft.MachineLearningServices/workspaces/quick-starts-ws-133359/experimentids/b2bc66f2-cd64-4cb2-b5b1-87b169e32a3c/cancel/AutoML_1f80ec7f-b587-44f7-9c98-a3e687eea30f\", \"ClientSdkVersion\": \"1.19.0\", \"snapshotId\": \"00000000-0000-0000-0000-000000000000\", \"SetupRunId\": \"AutoML_1f80ec7f-b587-44f7-9c98-a3e687eea30f_setup\", \"SetupRunContainerId\": \"dcid.AutoML_1f80ec7f-b587-44f7-9c98-a3e687eea30f_setup\", \"FeaturizationRunJsonPath\": \"featurizer_container.json\", \"FeaturizationRunId\": \"AutoML_1f80ec7f-b587-44f7-9c98-a3e687eea30f_featurize\", \"ProblemInfoJsonString\": \"{\\\"dataset_num_categorical\\\": 0, \\\"is_sparse\\\": false, \\\"subsampling\\\": false, \\\"dataset_classes\\\": 2, \\\"dataset_features\\\": 12, \\\"dataset_samples\\\": 239, \\\"single_frequency_class_detected\\\": false}\", \"ModelExplainRunId\": \"AutoML_1f80ec7f-b587-44f7-9c98-a3e687eea30f_ModelExplain\"}, \"tags\": {\"model_explain_run\": \"best_run\", \"_aml_system_azureml.automlComponent\": \"AutoML\", \"pipeline_id\": \"\", \"score\": \"\", \"predicted_cost\": \"\", \"fit_time\": \"\", \"training_percent\": \"\", \"iteration\": \"\", \"run_preprocessor\": \"\", \"run_algorithm\": \"\", \"dynamic_whitelisting_iterations\": \"<25>;<30>;<35>;<40>;<45>;\", \"automl_best_child_run_id\": \"AutoML_1f80ec7f-b587-44f7-9c98-a3e687eea30f_49\", \"model_explain_best_run_child_id\": \"AutoML_1f80ec7f-b587-44f7-9c98-a3e687eea30f_49\"}, \"end_time_utc\": \"2021-01-04T18:04:26.486924Z\", \"status\": \"Completed\", \"log_files\": {}, \"log_groups\": [], \"run_duration\": \"0:20:38\"}, \"child_runs\": [{\"run_id\": \"AutoML_1f80ec7f-b587-44f7-9c98-a3e687eea30f_0\", \"run_number\": 5, \"metric\": null, \"status\": \"Completed\", \"run_type\": \"azureml.scriptrun\", \"training_percent\": \"100\", \"start_time\": \"2021-01-04T17:47:45.438765Z\", \"end_time\": \"2021-01-04T17:48:59.442756Z\", \"created_time\": \"2021-01-04T17:47:31.495822Z\", \"created_time_dt\": \"2021-01-04T17:47:31.495822Z\", \"duration\": \"0:01:27\", \"iteration\": \"0\", \"goal\": \"AUC_weighted_max\", \"run_name\": \"MaxAbsScaler, LightGBM\", \"run_properties\": \"copy=True\", \"primary_metric\": 0.89008929, \"best_metric\": 0.89008929}, {\"run_id\": \"AutoML_1f80ec7f-b587-44f7-9c98-a3e687eea30f_1\", \"run_number\": 6, \"metric\": null, \"status\": \"Completed\", \"run_type\": \"azureml.scriptrun\", \"training_percent\": \"100\", \"start_time\": \"2021-01-04T17:47:45.754407Z\", \"end_time\": \"2021-01-04T17:48:48.257066Z\", \"created_time\": \"2021-01-04T17:47:31.542959Z\", \"created_time_dt\": \"2021-01-04T17:47:31.542959Z\", \"duration\": \"0:01:16\", \"iteration\": \"1\", \"goal\": \"AUC_weighted_max\", \"run_name\": \"MaxAbsScaler, XGBoostClassifier\", \"run_properties\": \"copy=True\", \"primary_metric\": 0.88788938, \"best_metric\": 0.89008929}, {\"run_id\": \"AutoML_1f80ec7f-b587-44f7-9c98-a3e687eea30f_4\", \"run_number\": 7, \"metric\": null, \"status\": \"Completed\", \"run_type\": \"azureml.scriptrun\", \"training_percent\": \"100\", \"start_time\": \"2021-01-04T17:47:44.293711Z\", \"end_time\": \"2021-01-04T17:48:54.562549Z\", \"created_time\": \"2021-01-04T17:47:31.629504Z\", \"created_time_dt\": \"2021-01-04T17:47:31.629504Z\", \"duration\": \"0:01:22\", \"iteration\": \"4\", \"goal\": \"AUC_weighted_max\", \"run_name\": \"MinMaxScaler, RandomForest\", \"run_properties\": \"copy=True, feature_range=(0, 1\", \"primary_metric\": 0.89015708, \"best_metric\": 0.89015708}, {\"run_id\": \"AutoML_1f80ec7f-b587-44f7-9c98-a3e687eea30f_3\", \"run_number\": 8, \"metric\": null, \"status\": \"Completed\", \"run_type\": \"azureml.scriptrun\", \"training_percent\": \"100\", \"start_time\": \"2021-01-04T17:47:44.99148Z\", \"end_time\": \"2021-01-04T17:48:55.264553Z\", \"created_time\": \"2021-01-04T17:47:31.641136Z\", \"created_time_dt\": \"2021-01-04T17:47:31.641136Z\", \"duration\": \"0:01:23\", \"iteration\": \"3\", \"goal\": \"AUC_weighted_max\", \"run_name\": \"RobustScaler, ExtremeRandomTrees\", \"run_properties\": \"copy=True, quantile_range=[10, 90], with_centering=False,\\n             with_scaling=False\", \"primary_metric\": 0.86946181, \"best_metric\": 0.89008929}, {\"run_id\": \"AutoML_1f80ec7f-b587-44f7-9c98-a3e687eea30f_2\", \"run_number\": 9, \"metric\": null, \"status\": \"Completed\", \"run_type\": \"azureml.scriptrun\", \"training_percent\": \"100\", \"start_time\": \"2021-01-04T17:47:45.632188Z\", \"end_time\": \"2021-01-04T17:48:52.57404Z\", \"created_time\": \"2021-01-04T17:47:31.646001Z\", \"created_time_dt\": \"2021-01-04T17:47:31.646001Z\", \"duration\": \"0:01:20\", \"iteration\": \"2\", \"goal\": \"AUC_weighted_max\", \"run_name\": \"MinMaxScaler, RandomForest\", \"run_properties\": \"copy=True, feature_range=(0, 1\", \"primary_metric\": 0.88301339, \"best_metric\": 0.89008929}, {\"run_id\": \"AutoML_1f80ec7f-b587-44f7-9c98-a3e687eea30f_5\", \"run_number\": 10, \"metric\": null, \"status\": \"Completed\", \"run_type\": \"azureml.scriptrun\", \"training_percent\": \"100\", \"start_time\": \"2021-01-04T17:49:02.545703Z\", \"end_time\": \"2021-01-04T17:50:08.692843Z\", \"created_time\": \"2021-01-04T17:48:50.527716Z\", \"created_time_dt\": \"2021-01-04T17:48:50.527716Z\", \"duration\": \"0:01:18\", \"iteration\": \"5\", \"goal\": \"AUC_weighted_max\", \"run_name\": \"MinMaxScaler, RandomForest\", \"run_properties\": \"copy=True, feature_range=(0, 1\", \"primary_metric\": 0.89051009, \"best_metric\": 0.89051009}, {\"run_id\": \"AutoML_1f80ec7f-b587-44f7-9c98-a3e687eea30f_6\", \"run_number\": 11, \"metric\": null, \"status\": \"Completed\", \"run_type\": \"azureml.scriptrun\", \"training_percent\": \"100\", \"start_time\": \"2021-01-04T17:49:08.452278Z\", \"end_time\": \"2021-01-04T17:50:08.411088Z\", \"created_time\": \"2021-01-04T17:48:56.479151Z\", \"created_time_dt\": \"2021-01-04T17:48:56.479151Z\", \"duration\": \"0:01:11\", \"iteration\": \"6\", \"goal\": \"AUC_weighted_max\", \"run_name\": \"StandardScalerWrapper, RandomForest\", \"run_properties\": \"<azureml.automl.runtime.shared.model_wrappers.StandardScalerWrapper object at 0x7f6008a54c88\", \"primary_metric\": 0.87580068, \"best_metric\": 0.89051009}, {\"run_id\": \"AutoML_1f80ec7f-b587-44f7-9c98-a3e687eea30f_7\", \"run_number\": 12, \"metric\": null, \"status\": \"Completed\", \"run_type\": \"azureml.scriptrun\", \"training_percent\": \"100\", \"start_time\": \"2021-01-04T17:49:13.848372Z\", \"end_time\": \"2021-01-04T17:50:16.753265Z\", \"created_time\": \"2021-01-04T17:49:02.837337Z\", \"created_time_dt\": \"2021-01-04T17:49:02.837337Z\", \"duration\": \"0:01:13\", \"iteration\": \"7\", \"goal\": \"AUC_weighted_max\", \"run_name\": \"MinMaxScaler, ExtremeRandomTrees\", \"run_properties\": \"copy=True, feature_range=(0, 1\", \"primary_metric\": 0.88310681, \"best_metric\": 0.89051009}, {\"run_id\": \"AutoML_1f80ec7f-b587-44f7-9c98-a3e687eea30f_8\", \"run_number\": 13, \"metric\": null, \"status\": \"Completed\", \"run_type\": \"azureml.scriptrun\", \"training_percent\": \"100\", \"start_time\": \"2021-01-04T17:49:15.879744Z\", \"end_time\": \"2021-01-04T17:50:31.072038Z\", \"created_time\": \"2021-01-04T17:49:02.957047Z\", \"created_time_dt\": \"2021-01-04T17:49:02.957047Z\", \"duration\": \"0:01:28\", \"iteration\": \"8\", \"goal\": \"AUC_weighted_max\", \"run_name\": \"MinMaxScaler, ExtremeRandomTrees\", \"run_properties\": \"copy=True, feature_range=(0, 1\", \"primary_metric\": 0.89740658, \"best_metric\": 0.89740658}, {\"run_id\": \"AutoML_1f80ec7f-b587-44f7-9c98-a3e687eea30f_9\", \"run_number\": 14, \"metric\": null, \"status\": \"Completed\", \"run_type\": \"azureml.scriptrun\", \"training_percent\": \"100\", \"start_time\": \"2021-01-04T17:49:14.771609Z\", \"end_time\": \"2021-01-04T17:50:12.686417Z\", \"created_time\": \"2021-01-04T17:49:02.978576Z\", \"created_time_dt\": \"2021-01-04T17:49:02.978576Z\", \"duration\": \"0:01:09\", \"iteration\": \"9\", \"goal\": \"AUC_weighted_max\", \"run_name\": \"SparseNormalizer, KNN\", \"run_properties\": \"<azureml.automl.runtime.shared.model_wrappers.SparseNormalizer object at 0x7fb061e14390\", \"primary_metric\": 0.71834408, \"best_metric\": 0.89740658}, {\"run_id\": \"AutoML_1f80ec7f-b587-44f7-9c98-a3e687eea30f_11\", \"run_number\": 15, \"metric\": null, \"status\": \"Completed\", \"run_type\": \"azureml.scriptrun\", \"training_percent\": \"100\", \"start_time\": \"2021-01-04T17:50:25.044268Z\", \"end_time\": \"2021-01-04T17:51:29.113075Z\", \"created_time\": \"2021-01-04T17:50:12.338074Z\", \"created_time_dt\": \"2021-01-04T17:50:12.338074Z\", \"duration\": \"0:01:16\", \"iteration\": \"11\", \"goal\": \"AUC_weighted_max\", \"run_name\": \"RobustScaler, ExtremeRandomTrees\", \"run_properties\": \"copy=True, quantile_range=[10, 90], with_centering=True,\\n             with_scaling=False\", \"primary_metric\": 0.89092097, \"best_metric\": 0.89740658}, {\"run_id\": \"AutoML_1f80ec7f-b587-44f7-9c98-a3e687eea30f_10\", \"run_number\": 16, \"metric\": null, \"status\": \"Completed\", \"run_type\": \"azureml.scriptrun\", \"training_percent\": \"100\", \"start_time\": \"2021-01-04T17:50:23.952259Z\", \"end_time\": \"2021-01-04T17:51:29.491675Z\", \"created_time\": \"2021-01-04T17:50:12.37226Z\", \"created_time_dt\": \"2021-01-04T17:50:12.37226Z\", \"duration\": \"0:01:17\", \"iteration\": \"10\", \"goal\": \"AUC_weighted_max\", \"run_name\": \"MinMaxScaler, ExtremeRandomTrees\", \"run_properties\": \"copy=True, feature_range=(0, 1\", \"primary_metric\": 0.87928489, \"best_metric\": 0.89740658}, {\"run_id\": \"AutoML_1f80ec7f-b587-44f7-9c98-a3e687eea30f_12\", \"run_number\": 17, \"metric\": null, \"status\": \"Completed\", \"run_type\": \"azureml.scriptrun\", \"training_percent\": \"100\", \"start_time\": \"2021-01-04T17:50:29.133824Z\", \"end_time\": \"2021-01-04T17:51:31.558815Z\", \"created_time\": \"2021-01-04T17:50:17.536911Z\", \"created_time_dt\": \"2021-01-04T17:50:17.536911Z\", \"duration\": \"0:01:14\", \"iteration\": \"12\", \"goal\": \"AUC_weighted_max\", \"run_name\": \"StandardScalerWrapper, RandomForest\", \"run_properties\": \"<azureml.automl.runtime.shared.model_wrappers.StandardScalerWrapper object at 0x7f26fce68eb8\", \"primary_metric\": 0.89256035, \"best_metric\": 0.89740658}, {\"run_id\": \"AutoML_1f80ec7f-b587-44f7-9c98-a3e687eea30f_13\", \"run_number\": 18, \"metric\": null, \"status\": \"Completed\", \"run_type\": \"azureml.scriptrun\", \"training_percent\": \"100\", \"start_time\": \"2021-01-04T17:50:35.165522Z\", \"end_time\": \"2021-01-04T17:51:38.970429Z\", \"created_time\": \"2021-01-04T17:50:23.053341Z\", \"created_time_dt\": \"2021-01-04T17:50:23.053341Z\", \"duration\": \"0:01:15\", \"iteration\": \"13\", \"goal\": \"AUC_weighted_max\", \"run_name\": \"StandardScalerWrapper, SGD\", \"run_properties\": \"<azureml.automl.runtime.shared.model_wrappers.StandardScalerWrapper object at 0x7f229afdcc18\", \"primary_metric\": 0.84916749, \"best_metric\": 0.89740658}, {\"run_id\": \"AutoML_1f80ec7f-b587-44f7-9c98-a3e687eea30f_14\", \"run_number\": 19, \"metric\": null, \"status\": \"Completed\", \"run_type\": \"azureml.scriptrun\", \"training_percent\": \"100\", \"start_time\": \"2021-01-04T17:50:47.194546Z\", \"end_time\": \"2021-01-04T17:52:27.757166Z\", \"created_time\": \"2021-01-04T17:50:34.327319Z\", \"created_time_dt\": \"2021-01-04T17:50:34.327319Z\", \"duration\": \"0:01:53\", \"iteration\": \"14\", \"goal\": \"AUC_weighted_max\", \"run_name\": \"RobustScaler, RandomForest\", \"run_properties\": \"copy=True, quantile_range=[10, 90], with_centering=True,\\n             with_scaling=False\", \"primary_metric\": 0.89182126, \"best_metric\": 0.89740658}, {\"run_id\": \"AutoML_1f80ec7f-b587-44f7-9c98-a3e687eea30f_15\", \"run_number\": 20, \"metric\": null, \"status\": \"Completed\", \"run_type\": \"azureml.scriptrun\", \"training_percent\": \"100\", \"start_time\": \"2021-01-04T17:51:43.603808Z\", \"end_time\": \"2021-01-04T17:52:46.530679Z\", \"created_time\": \"2021-01-04T17:51:32.598905Z\", \"created_time_dt\": \"2021-01-04T17:51:32.598905Z\", \"duration\": \"0:01:13\", \"iteration\": \"15\", \"goal\": \"AUC_weighted_max\", \"run_name\": \"StandardScalerWrapper, KNN\", \"run_properties\": \"<azureml.automl.runtime.shared.model_wrappers.StandardScalerWrapper object at 0x7f0ee538e978\", \"primary_metric\": 0.58758681, \"best_metric\": 0.89740658}, {\"run_id\": \"AutoML_1f80ec7f-b587-44f7-9c98-a3e687eea30f_16\", \"run_number\": 21, \"metric\": null, \"status\": \"Completed\", \"run_type\": \"azureml.scriptrun\", \"training_percent\": \"100\", \"start_time\": \"2021-01-04T17:51:44.414445Z\", \"end_time\": \"2021-01-04T17:52:54.685277Z\", \"created_time\": \"2021-01-04T17:51:32.600859Z\", \"created_time_dt\": \"2021-01-04T17:51:32.600859Z\", \"duration\": \"0:01:22\", \"iteration\": \"16\", \"goal\": \"AUC_weighted_max\", \"run_name\": \"MinMaxScaler, RandomForest\", \"run_properties\": \"copy=True, feature_range=(0, 1\", \"primary_metric\": 0.86732143, \"best_metric\": 0.89740658}, {\"run_id\": \"AutoML_1f80ec7f-b587-44f7-9c98-a3e687eea30f_17\", \"run_number\": 22, \"metric\": null, \"status\": \"Completed\", \"run_type\": \"azureml.scriptrun\", \"training_percent\": \"100\", \"start_time\": \"2021-01-04T17:51:48.260776Z\", \"end_time\": \"2021-01-04T17:52:48.121705Z\", \"created_time\": \"2021-01-04T17:51:37.980451Z\", \"created_time_dt\": \"2021-01-04T17:51:37.980451Z\", \"duration\": \"0:01:10\", \"iteration\": \"17\", \"goal\": \"AUC_weighted_max\", \"run_name\": \"MinMaxScaler, ExtremeRandomTrees\", \"run_properties\": \"copy=True, feature_range=(0, 1\", \"primary_metric\": 0.8278125, \"best_metric\": 0.89740658}, {\"run_id\": \"AutoML_1f80ec7f-b587-44f7-9c98-a3e687eea30f_18\", \"run_number\": 23, \"metric\": null, \"status\": \"Completed\", \"run_type\": \"azureml.scriptrun\", \"training_percent\": \"100\", \"start_time\": \"2021-01-04T17:51:54.653335Z\", \"end_time\": \"2021-01-04T17:52:54.570315Z\", \"created_time\": \"2021-01-04T17:51:43.287441Z\", \"created_time_dt\": \"2021-01-04T17:51:43.287441Z\", \"duration\": \"0:01:11\", \"iteration\": \"18\", \"goal\": \"AUC_weighted_max\", \"run_name\": \"MaxAbsScaler, RandomForest\", \"run_properties\": \"copy=True\", \"primary_metric\": 0.88782325, \"best_metric\": 0.89740658}, {\"run_id\": \"AutoML_1f80ec7f-b587-44f7-9c98-a3e687eea30f_19\", \"run_number\": 24, \"metric\": null, \"status\": \"Completed\", \"run_type\": \"azureml.scriptrun\", \"training_percent\": \"100\", \"start_time\": \"2021-01-04T17:52:42.597528Z\", \"end_time\": \"2021-01-04T17:53:54.586935Z\", \"created_time\": \"2021-01-04T17:52:31.614013Z\", \"created_time_dt\": \"2021-01-04T17:52:31.614013Z\", \"duration\": \"0:01:22\", \"iteration\": \"19\", \"goal\": \"AUC_weighted_max\", \"run_name\": \"StandardScalerWrapper, XGBoostClassifier\", \"run_properties\": \"<azureml.automl.runtime.shared.model_wrappers.StandardScalerWrapper object at 0x7ff067fe6780\", \"primary_metric\": 0.89263228, \"best_metric\": 0.89740658}, {\"run_id\": \"AutoML_1f80ec7f-b587-44f7-9c98-a3e687eea30f_20\", \"run_number\": 25, \"metric\": null, \"status\": \"Completed\", \"run_type\": \"azureml.scriptrun\", \"training_percent\": \"100\", \"start_time\": \"2021-01-04T17:53:18.376261Z\", \"end_time\": \"2021-01-04T17:54:08.987321Z\", \"created_time\": \"2021-01-04T17:52:50.743686Z\", \"created_time_dt\": \"2021-01-04T17:52:50.743686Z\", \"duration\": \"0:01:18\", \"iteration\": \"20\", \"goal\": \"AUC_weighted_max\", \"run_name\": \"MaxAbsScaler, RandomForest\", \"run_properties\": \"copy=True\", \"primary_metric\": 0.86857391, \"best_metric\": 0.89740658}, {\"run_id\": \"AutoML_1f80ec7f-b587-44f7-9c98-a3e687eea30f_21\", \"run_number\": 26, \"metric\": null, \"status\": \"Completed\", \"run_type\": \"azureml.scriptrun\", \"training_percent\": \"100\", \"start_time\": \"2021-01-04T17:53:10.583495Z\", \"end_time\": \"2021-01-04T17:54:13.262534Z\", \"created_time\": \"2021-01-04T17:52:56.830361Z\", \"created_time_dt\": \"2021-01-04T17:52:56.830361Z\", \"duration\": \"0:01:16\", \"iteration\": \"21\", \"goal\": \"AUC_weighted_max\", \"run_name\": \"MaxAbsScaler, ExtremeRandomTrees\", \"run_properties\": \"copy=True\", \"primary_metric\": 0.82902447, \"best_metric\": 0.89740658}, {\"run_id\": \"AutoML_1f80ec7f-b587-44f7-9c98-a3e687eea30f_23\", \"run_number\": 27, \"metric\": null, \"status\": \"Completed\", \"run_type\": \"azureml.scriptrun\", \"training_percent\": \"100\", \"start_time\": \"2021-01-04T17:53:15.704703Z\", \"end_time\": \"2021-01-04T17:54:15.089864Z\", \"created_time\": \"2021-01-04T17:53:05.356527Z\", \"created_time_dt\": \"2021-01-04T17:53:05.356527Z\", \"duration\": \"0:01:09\", \"iteration\": \"23\", \"goal\": \"AUC_weighted_max\", \"run_name\": \"StandardScalerWrapper, XGBoostClassifier\", \"run_properties\": \"<azureml.automl.runtime.shared.model_wrappers.StandardScalerWrapper object at 0x7f2e20ec0d68\", \"primary_metric\": 0.89846396, \"best_metric\": 0.89846396}, {\"run_id\": \"AutoML_1f80ec7f-b587-44f7-9c98-a3e687eea30f_22\", \"run_number\": 28, \"metric\": null, \"status\": \"Completed\", \"run_type\": \"azureml.scriptrun\", \"training_percent\": \"100\", \"start_time\": \"2021-01-04T17:53:18.570209Z\", \"end_time\": \"2021-01-04T17:54:53.888082Z\", \"created_time\": \"2021-01-04T17:53:05.359571Z\", \"created_time_dt\": \"2021-01-04T17:53:05.359571Z\", \"duration\": \"0:01:48\", \"iteration\": \"22\", \"goal\": \"AUC_weighted_max\", \"run_name\": \"MaxAbsScaler, ExtremeRandomTrees\", \"run_properties\": \"copy=True\", \"primary_metric\": 0.86676753, \"best_metric\": 0.89740658}, {\"run_id\": \"AutoML_1f80ec7f-b587-44f7-9c98-a3e687eea30f_24\", \"run_number\": 29, \"metric\": null, \"status\": \"Completed\", \"run_type\": \"azureml.scriptrun\", \"training_percent\": \"100\", \"start_time\": \"2021-01-04T17:54:13.82742Z\", \"end_time\": \"2021-01-04T17:55:21.595651Z\", \"created_time\": \"2021-01-04T17:53:57.556594Z\", \"created_time_dt\": \"2021-01-04T17:53:57.556594Z\", \"duration\": \"0:01:24\", \"iteration\": \"24\", \"goal\": \"AUC_weighted_max\", \"run_name\": \"SparseNormalizer, XGBoostClassifier\", \"run_properties\": \"<azureml.automl.runtime.shared.model_wrappers.SparseNormalizer object at 0x7f14a0a1e828\", \"primary_metric\": 0.86630704, \"best_metric\": 0.89846396}, {\"run_id\": \"AutoML_1f80ec7f-b587-44f7-9c98-a3e687eea30f_25\", \"run_number\": 30, \"metric\": null, \"status\": \"Completed\", \"run_type\": \"azureml.scriptrun\", \"training_percent\": \"100\", \"start_time\": \"2021-01-04T17:54:28.919526Z\", \"end_time\": \"2021-01-04T17:55:26.499544Z\", \"created_time\": \"2021-01-04T17:54:17.028102Z\", \"created_time_dt\": \"2021-01-04T17:54:17.028102Z\", \"duration\": \"0:01:09\", \"iteration\": \"25\", \"goal\": \"AUC_weighted_max\", \"run_name\": \"StandardScalerWrapper, ExtremeRandomTrees\", \"run_properties\": \"<azureml.automl.runtime.shared.model_wrappers.StandardScalerWrapper object at 0x7f31e12c8780\", \"primary_metric\": 0.869146, \"best_metric\": 0.89846396}, {\"run_id\": \"AutoML_1f80ec7f-b587-44f7-9c98-a3e687eea30f_26\", \"run_number\": 31, \"metric\": null, \"status\": \"Completed\", \"run_type\": \"azureml.scriptrun\", \"training_percent\": \"100\", \"start_time\": \"2021-01-04T17:54:35.520719Z\", \"end_time\": \"2021-01-04T17:56:03.144889Z\", \"created_time\": \"2021-01-04T17:54:22.441646Z\", \"created_time_dt\": \"2021-01-04T17:54:22.441646Z\", \"duration\": \"0:01:40\", \"iteration\": \"26\", \"goal\": \"AUC_weighted_max\", \"run_name\": \"StandardScalerWrapper, LightGBM\", \"run_properties\": \"<azureml.automl.runtime.shared.model_wrappers.StandardScalerWrapper object at 0x7f2fb8e5bc50\", \"primary_metric\": 0.86158482, \"best_metric\": 0.89846396}, {\"run_id\": \"AutoML_1f80ec7f-b587-44f7-9c98-a3e687eea30f_27\", \"run_number\": 32, \"metric\": null, \"status\": \"Completed\", \"run_type\": \"azureml.scriptrun\", \"training_percent\": \"100\", \"start_time\": \"2021-01-04T17:54:34.144791Z\", \"end_time\": \"2021-01-04T17:56:10.158053Z\", \"created_time\": \"2021-01-04T17:54:22.447664Z\", \"created_time_dt\": \"2021-01-04T17:54:22.447664Z\", \"duration\": \"0:01:47\", \"iteration\": \"27\", \"goal\": \"AUC_weighted_max\", \"run_name\": \"MaxAbsScaler, ExtremeRandomTrees\", \"run_properties\": \"copy=True\", \"primary_metric\": 0.89075397, \"best_metric\": 0.89846396}, {\"run_id\": \"AutoML_1f80ec7f-b587-44f7-9c98-a3e687eea30f_28\", \"run_number\": 33, \"metric\": null, \"status\": \"Completed\", \"run_type\": \"azureml.scriptrun\", \"training_percent\": \"100\", \"start_time\": \"2021-01-04T17:55:09.663652Z\", \"end_time\": \"2021-01-04T17:56:17.185398Z\", \"created_time\": \"2021-01-04T17:54:56.71758Z\", \"created_time_dt\": \"2021-01-04T17:54:56.71758Z\", \"duration\": \"0:01:20\", \"iteration\": \"28\", \"goal\": \"AUC_weighted_max\", \"run_name\": \"RobustScaler, LightGBM\", \"run_properties\": \"copy=True, quantile_range=[10, 90], with_centering=True,\\n             with_scaling=True\", \"primary_metric\": 0.7896536, \"best_metric\": 0.89846396}, {\"run_id\": \"AutoML_1f80ec7f-b587-44f7-9c98-a3e687eea30f_29\", \"run_number\": 34, \"metric\": null, \"status\": \"Completed\", \"run_type\": \"azureml.scriptrun\", \"training_percent\": \"100\", \"start_time\": \"2021-01-04T17:55:35.722188Z\", \"end_time\": \"2021-01-04T17:56:56.113646Z\", \"created_time\": \"2021-01-04T17:55:23.894782Z\", \"created_time_dt\": \"2021-01-04T17:55:23.894782Z\", \"duration\": \"0:01:32\", \"iteration\": \"29\", \"goal\": \"AUC_weighted_max\", \"run_name\": \"RobustScaler, RandomForest\", \"run_properties\": \"copy=True, quantile_range=[25, 75], with_centering=True,\\n             with_scaling=False\", \"primary_metric\": 0.91305721, \"best_metric\": 0.91305721}, {\"run_id\": \"AutoML_1f80ec7f-b587-44f7-9c98-a3e687eea30f_30\", \"run_number\": 35, \"metric\": null, \"status\": \"Completed\", \"run_type\": \"azureml.scriptrun\", \"training_percent\": \"100\", \"start_time\": \"2021-01-04T17:55:42.509638Z\", \"end_time\": \"2021-01-04T17:56:46.340669Z\", \"created_time\": \"2021-01-04T17:55:29.722427Z\", \"created_time_dt\": \"2021-01-04T17:55:29.722427Z\", \"duration\": \"0:01:16\", \"iteration\": \"30\", \"goal\": \"AUC_weighted_max\", \"run_name\": \"PCA, XGBoostClassifier\", \"run_properties\": \"copy=True, iterated_power='auto', n_components=0.10894736842105263,\\n    random_state=None, svd_solver='auto', tol=0.0, whiten=True\", \"primary_metric\": 0.49641741, \"best_metric\": 0.91305721}, {\"run_id\": \"AutoML_1f80ec7f-b587-44f7-9c98-a3e687eea30f_31\", \"run_number\": 36, \"metric\": null, \"status\": \"Completed\", \"run_type\": \"azureml.scriptrun\", \"training_percent\": \"100\", \"start_time\": \"2021-01-04T17:56:17.821028Z\", \"end_time\": \"2021-01-04T17:57:41.585447Z\", \"created_time\": \"2021-01-04T17:56:05.623113Z\", \"created_time_dt\": \"2021-01-04T17:56:05.623113Z\", \"duration\": \"0:01:35\", \"iteration\": \"31\", \"goal\": \"AUC_weighted_max\", \"run_name\": \"RobustScaler, RandomForest\", \"run_properties\": \"copy=True, quantile_range=[10, 90], with_centering=False,\\n             with_scaling=False\", \"primary_metric\": 0.90365245, \"best_metric\": 0.91305721}, {\"run_id\": \"AutoML_1f80ec7f-b587-44f7-9c98-a3e687eea30f_32\", \"run_number\": 37, \"metric\": null, \"status\": \"Completed\", \"run_type\": \"azureml.scriptrun\", \"training_percent\": \"100\", \"start_time\": \"2021-01-04T17:56:23.021397Z\", \"end_time\": \"2021-01-04T17:57:48.365208Z\", \"created_time\": \"2021-01-04T17:56:12.288582Z\", \"created_time_dt\": \"2021-01-04T17:56:12.288582Z\", \"duration\": \"0:01:36\", \"iteration\": \"32\", \"goal\": \"AUC_weighted_max\", \"run_name\": \"StandardScalerWrapper, GradientBoosting\", \"run_properties\": \"<azureml.automl.runtime.shared.model_wrappers.StandardScalerWrapper object at 0x7f0eb41ac978\", \"primary_metric\": 0.90421296, \"best_metric\": 0.91305721}, {\"run_id\": \"AutoML_1f80ec7f-b587-44f7-9c98-a3e687eea30f_33\", \"run_number\": 38, \"metric\": null, \"status\": \"Completed\", \"run_type\": \"azureml.scriptrun\", \"training_percent\": \"100\", \"start_time\": \"2021-01-04T17:56:29.41678Z\", \"end_time\": \"2021-01-04T17:57:49.068409Z\", \"created_time\": \"2021-01-04T17:56:19.373241Z\", \"created_time_dt\": \"2021-01-04T17:56:19.373241Z\", \"duration\": \"0:01:29\", \"iteration\": \"33\", \"goal\": \"AUC_weighted_max\", \"run_name\": \"MaxAbsScaler, GradientBoosting\", \"run_properties\": \"copy=True\", \"primary_metric\": 0.90209408, \"best_metric\": 0.91305721}, {\"run_id\": \"AutoML_1f80ec7f-b587-44f7-9c98-a3e687eea30f_34\", \"run_number\": 39, \"metric\": null, \"status\": \"Completed\", \"run_type\": \"azureml.scriptrun\", \"training_percent\": \"100\", \"start_time\": \"2021-01-04T17:57:03.276499Z\", \"end_time\": \"2021-01-04T17:58:08.715092Z\", \"created_time\": \"2021-01-04T17:56:48.602169Z\", \"created_time_dt\": \"2021-01-04T17:56:48.602169Z\", \"duration\": \"0:01:20\", \"iteration\": \"34\", \"goal\": \"AUC_weighted_max\", \"run_name\": \"StandardScalerWrapper, GradientBoosting\", \"run_properties\": \"<azureml.automl.runtime.shared.model_wrappers.StandardScalerWrapper object at 0x7f9fdf3b06d8\", \"primary_metric\": 0.86942543, \"best_metric\": 0.91305721}, {\"run_id\": \"AutoML_1f80ec7f-b587-44f7-9c98-a3e687eea30f_35\", \"run_number\": 40, \"metric\": null, \"status\": \"Completed\", \"run_type\": \"azureml.scriptrun\", \"training_percent\": \"100\", \"start_time\": \"2021-01-04T17:57:11.393384Z\", \"end_time\": \"2021-01-04T17:58:15.053234Z\", \"created_time\": \"2021-01-04T17:56:59.220048Z\", \"created_time_dt\": \"2021-01-04T17:56:59.220048Z\", \"duration\": \"0:01:15\", \"iteration\": \"35\", \"goal\": \"AUC_weighted_max\", \"run_name\": \"StandardScalerWrapper, RandomForest\", \"run_properties\": \"<azureml.automl.runtime.shared.model_wrappers.StandardScalerWrapper object at 0x7f44ce162cc0\", \"primary_metric\": 0.88583251, \"best_metric\": 0.91305721}, {\"run_id\": \"AutoML_1f80ec7f-b587-44f7-9c98-a3e687eea30f_36\", \"run_number\": 41, \"metric\": null, \"status\": \"Completed\", \"run_type\": \"azureml.scriptrun\", \"training_percent\": \"100\", \"start_time\": \"2021-01-04T17:57:55.152187Z\", \"end_time\": \"2021-01-04T17:59:08.040145Z\", \"created_time\": \"2021-01-04T17:57:43.838809Z\", \"created_time_dt\": \"2021-01-04T17:57:43.838809Z\", \"duration\": \"0:01:24\", \"iteration\": \"36\", \"goal\": \"AUC_weighted_max\", \"run_name\": \"StandardScalerWrapper, XGBoostClassifier\", \"run_properties\": \"<azureml.automl.runtime.shared.model_wrappers.StandardScalerWrapper object at 0x7fafc63d2cf8\", \"primary_metric\": 0.8883912, \"best_metric\": 0.91305721}, {\"run_id\": \"AutoML_1f80ec7f-b587-44f7-9c98-a3e687eea30f_37\", \"run_number\": 42, \"metric\": null, \"status\": \"Completed\", \"run_type\": \"azureml.scriptrun\", \"training_percent\": \"100\", \"start_time\": \"2021-01-04T17:58:01.840265Z\", \"end_time\": \"2021-01-04T17:59:08.326664Z\", \"created_time\": \"2021-01-04T17:57:50.460358Z\", \"created_time_dt\": \"2021-01-04T17:57:50.460358Z\", \"duration\": \"0:01:17\", \"iteration\": \"37\", \"goal\": \"AUC_weighted_max\", \"run_name\": \"RobustScaler, LightGBM\", \"run_properties\": \"copy=True, quantile_range=[10, 90], with_centering=True,\\n             with_scaling=False\", \"primary_metric\": 0.89000909, \"best_metric\": 0.91305721}, {\"run_id\": \"AutoML_1f80ec7f-b587-44f7-9c98-a3e687eea30f_38\", \"run_number\": 43, \"metric\": null, \"status\": \"Completed\", \"run_type\": \"azureml.scriptrun\", \"training_percent\": \"100\", \"start_time\": \"2021-01-04T17:58:06.324453Z\", \"end_time\": \"2021-01-04T17:59:07.173177Z\", \"created_time\": \"2021-01-04T17:57:54.739116Z\", \"created_time_dt\": \"2021-01-04T17:57:54.739116Z\", \"duration\": \"0:01:12\", \"iteration\": \"38\", \"goal\": \"AUC_weighted_max\", \"run_name\": \"StandardScalerWrapper, XGBoostClassifier\", \"run_properties\": \"<azureml.automl.runtime.shared.model_wrappers.StandardScalerWrapper object at 0x7fdfc3e7d7b8\", \"primary_metric\": 0.88773562, \"best_metric\": 0.91305721}, {\"run_id\": \"AutoML_1f80ec7f-b587-44f7-9c98-a3e687eea30f_39\", \"run_number\": 44, \"metric\": null, \"status\": \"Completed\", \"run_type\": \"azureml.scriptrun\", \"training_percent\": \"100\", \"start_time\": \"2021-01-04T17:58:23.167568Z\", \"end_time\": \"2021-01-04T17:59:35.896154Z\", \"created_time\": \"2021-01-04T17:58:11.487997Z\", \"created_time_dt\": \"2021-01-04T17:58:11.487997Z\", \"duration\": \"0:01:24\", \"iteration\": \"39\", \"goal\": \"AUC_weighted_max\", \"run_name\": \"StandardScalerWrapper, RandomForest\", \"run_properties\": \"<azureml.automl.runtime.shared.model_wrappers.StandardScalerWrapper object at 0x7f16e0855e48\", \"primary_metric\": 0.91065311, \"best_metric\": 0.91305721}, {\"run_id\": \"AutoML_1f80ec7f-b587-44f7-9c98-a3e687eea30f_40\", \"run_number\": 45, \"metric\": null, \"status\": \"Completed\", \"run_type\": \"azureml.scriptrun\", \"training_percent\": \"100\", \"start_time\": \"2021-01-04T17:58:30.590068Z\", \"end_time\": \"2021-01-04T17:59:37.695672Z\", \"created_time\": \"2021-01-04T17:58:18.294136Z\", \"created_time_dt\": \"2021-01-04T17:58:18.294136Z\", \"duration\": \"0:01:19\", \"iteration\": \"40\", \"goal\": \"AUC_weighted_max\", \"run_name\": \"MinMaxScaler, RandomForest\", \"run_properties\": \"copy=True, feature_range=(0, 1\", \"primary_metric\": 0.90781829, \"best_metric\": 0.91305721}, {\"run_id\": \"AutoML_1f80ec7f-b587-44f7-9c98-a3e687eea30f_41\", \"run_number\": 46, \"metric\": null, \"status\": \"Completed\", \"run_type\": \"azureml.scriptrun\", \"training_percent\": \"100\", \"start_time\": \"2021-01-04T17:59:26.474843Z\", \"end_time\": \"2021-01-04T18:00:36.322206Z\", \"created_time\": \"2021-01-04T17:59:09.353182Z\", \"created_time_dt\": \"2021-01-04T17:59:09.353182Z\", \"duration\": \"0:01:26\", \"iteration\": \"41\", \"goal\": \"AUC_weighted_max\", \"run_name\": \"MaxAbsScaler, RandomForest\", \"run_properties\": \"copy=True\", \"primary_metric\": 0.90099124, \"best_metric\": 0.91305721}, {\"run_id\": \"AutoML_1f80ec7f-b587-44f7-9c98-a3e687eea30f_43\", \"run_number\": 47, \"metric\": null, \"status\": \"Completed\", \"run_type\": \"azureml.scriptrun\", \"training_percent\": \"100\", \"start_time\": \"2021-01-04T17:59:29.397629Z\", \"end_time\": \"2021-01-04T18:00:37.167016Z\", \"created_time\": \"2021-01-04T17:59:13.817548Z\", \"created_time_dt\": \"2021-01-04T17:59:13.817548Z\", \"duration\": \"0:01:23\", \"iteration\": \"43\", \"goal\": \"AUC_weighted_max\", \"run_name\": \"MinMaxScaler, RandomForest\", \"run_properties\": \"copy=True, feature_range=(0, 1\", \"primary_metric\": 0.91111938, \"best_metric\": 0.91305721}, {\"run_id\": \"AutoML_1f80ec7f-b587-44f7-9c98-a3e687eea30f_42\", \"run_number\": 48, \"metric\": null, \"status\": \"Completed\", \"run_type\": \"azureml.scriptrun\", \"training_percent\": \"100\", \"start_time\": \"2021-01-04T17:59:26.331082Z\", \"end_time\": \"2021-01-04T18:00:47.434559Z\", \"created_time\": \"2021-01-04T17:59:13.857542Z\", \"created_time_dt\": \"2021-01-04T17:59:13.857542Z\", \"duration\": \"0:01:33\", \"iteration\": \"42\", \"goal\": \"AUC_weighted_max\", \"run_name\": \"RobustScaler, ExtremeRandomTrees\", \"run_properties\": \"copy=True, quantile_range=[25, 75], with_centering=False,\\n             with_scaling=False\", \"primary_metric\": 0.8736756, \"best_metric\": 0.91305721}, {\"run_id\": \"AutoML_1f80ec7f-b587-44f7-9c98-a3e687eea30f_44\", \"run_number\": 49, \"metric\": null, \"status\": \"Completed\", \"run_type\": \"azureml.scriptrun\", \"training_percent\": \"100\", \"start_time\": \"2021-01-04T17:59:50.859322Z\", \"end_time\": \"2021-01-04T18:01:02.927297Z\", \"created_time\": \"2021-01-04T17:59:38.923158Z\", \"created_time_dt\": \"2021-01-04T17:59:38.923158Z\", \"duration\": \"0:01:24\", \"iteration\": \"44\", \"goal\": \"AUC_weighted_max\", \"run_name\": \"MaxAbsScaler, GradientBoosting\", \"run_properties\": \"copy=True\", \"primary_metric\": 0.90672619, \"best_metric\": 0.91305721}, {\"run_id\": \"AutoML_1f80ec7f-b587-44f7-9c98-a3e687eea30f_45\", \"run_number\": 50, \"metric\": null, \"status\": \"Completed\", \"run_type\": \"azureml.scriptrun\", \"training_percent\": \"100\", \"start_time\": \"2021-01-04T17:59:53.955739Z\", \"end_time\": \"2021-01-04T18:01:02.319218Z\", \"created_time\": \"2021-01-04T17:59:43.784866Z\", \"created_time_dt\": \"2021-01-04T17:59:43.784866Z\", \"duration\": \"0:01:18\", \"iteration\": \"45\", \"goal\": \"AUC_weighted_max\", \"run_name\": \"MinMaxScaler, RandomForest\", \"run_properties\": \"copy=True, feature_range=(0, 1\", \"primary_metric\": 0.89411706, \"best_metric\": 0.91305721}, {\"run_id\": \"AutoML_1f80ec7f-b587-44f7-9c98-a3e687eea30f_46\", \"run_number\": 51, \"metric\": null, \"status\": \"Canceled\", \"run_type\": \"azureml.scriptrun\", \"training_percent\": \"100\", \"start_time\": \"2021-01-04T18:01:02.292939Z\", \"end_time\": \"2021-01-04T18:01:09.940072Z\", \"created_time\": \"2021-01-04T18:00:45.136967Z\", \"created_time_dt\": \"2021-01-04T18:00:45.136967Z\", \"duration\": \"0:00:24\", \"iteration\": \"46\", \"goal\": null, \"run_name\": \"Canceled\", \"run_properties\": null}, {\"run_id\": \"AutoML_1f80ec7f-b587-44f7-9c98-a3e687eea30f_47\", \"run_number\": 52, \"metric\": null, \"status\": \"Canceled\", \"run_type\": \"azureml.scriptrun\", \"training_percent\": \"100\", \"start_time\": \"2021-01-04T18:01:03.174661Z\", \"end_time\": \"2021-01-04T18:01:10.955099Z\", \"created_time\": \"2021-01-04T18:00:45.13804Z\", \"created_time_dt\": \"2021-01-04T18:00:45.13804Z\", \"duration\": \"0:00:25\", \"iteration\": \"47\", \"goal\": null, \"run_name\": \"Canceled\", \"run_properties\": null}, {\"run_id\": \"AutoML_1f80ec7f-b587-44f7-9c98-a3e687eea30f_48\", \"run_number\": 53, \"metric\": null, \"status\": \"Canceled\", \"run_type\": \"azureml.scriptrun\", \"training_percent\": \"100\", \"start_time\": \"2021-01-04T18:00:57.12941Z\", \"end_time\": \"2021-01-04T18:01:14.967232Z\", \"created_time\": \"2021-01-04T18:00:57.12941Z\", \"created_time_dt\": \"2021-01-04T18:00:57.12941Z\", \"duration\": \"0:00:17\", \"iteration\": \"48\", \"goal\": null, \"run_name\": \"Canceled\", \"run_properties\": null}, {\"run_id\": \"AutoML_1f80ec7f-b587-44f7-9c98-a3e687eea30f_49\", \"run_number\": 54, \"metric\": null, \"status\": \"Completed\", \"run_type\": \"azureml.scriptrun\", \"training_percent\": \"100\", \"start_time\": \"2021-01-04T18:01:27.908721Z\", \"end_time\": \"2021-01-04T18:04:07.086876Z\", \"created_time\": \"2021-01-04T18:01:16.678009Z\", \"created_time_dt\": \"2021-01-04T18:01:16.678009Z\", \"duration\": \"0:02:50\", \"iteration\": \"49\", \"goal\": \"AUC_weighted_max\", \"run_name\": \"VotingEnsemble\", \"run_properties\": \"classification_labels=None,\\n                              estimators=[('29',\\n                                           Pipeline(memory=None,\\n                                                    steps=[('robustscaler',\\n                                                            RobustScaler(copy=True,\\n                                                                         quantile_range=[25,\\n                                                                                         75],\\n                                                                         with_centering=True,\\n                                                                         with_scaling=False\", \"primary_metric\": 0.9252042, \"best_metric\": 0.9252042}, {\"run_id\": \"AutoML_1f80ec7f-b587-44f7-9c98-a3e687eea30f_50\", \"run_number\": 55, \"metric\": null, \"status\": \"Completed\", \"run_type\": \"azureml.scriptrun\", \"training_percent\": \"100\", \"start_time\": \"2021-01-04T18:01:29.336637Z\", \"end_time\": \"2021-01-04T18:04:16.543623Z\", \"created_time\": \"2021-01-04T18:01:16.680176Z\", \"created_time_dt\": \"2021-01-04T18:01:16.680176Z\", \"duration\": \"0:02:59\", \"iteration\": \"50\", \"goal\": \"AUC_weighted_max\", \"run_name\": \"StackEnsemble\", \"run_properties\": \"base_learners=[('29',\\n                                        Pipeline(memory=None,\\n                                                 steps=[('robustscaler',\\n                                                         RobustScaler(copy=True,\\n                                                                      quantile_range=[25,\\n                                                                                      75],\\n                                                                      with_centering=True,\\n                                                                      with_scaling=False\", \"primary_metric\": 0.91805969, \"best_metric\": 0.9252042}], \"children_metrics\": {\"categories\": [0], \"series\": {\"AUC_macro\": [{\"categories\": [\"0\", \"1\", \"2\", \"3\", \"4\", \"5\", \"6\", \"7\", \"8\", \"9\", \"10\", \"11\", \"12\", \"13\", \"14\", \"15\", \"16\", \"17\", \"18\", \"19\", \"20\", \"21\", \"22\", \"23\", \"24\", \"25\", \"26\", \"27\", \"28\", \"29\", \"30\", \"31\", \"32\", \"33\", \"34\", \"35\", \"36\", \"37\", \"38\", \"39\", \"40\", \"41\", \"42\", \"43\", \"44\", \"45\", \"49\", \"50\"], \"mode\": \"markers\", \"name\": \"AUC_macro\", \"stepped\": false, \"type\": \"scatter\", \"data\": [0.8900892857142857, 0.8878893849206347, 0.8830133928571428, 0.8694618055555556, 0.8901570767195766, 0.8905100859788361, 0.8757355737433862, 0.8831068121693122, 0.8974065806878307, 0.7183440806878307, 0.8792848875661378, 0.8909209656084656, 0.8925603505291004, 0.8491674933862434, 0.8918212632275132, 0.5875868055555555, 0.8673214285714286, 0.8278125000000001, 0.8878232473544972, 0.8926322751322753, 0.8685739087301588, 0.829024470899471, 0.8667675264550265, 0.898463955026455, 0.8663070436507937, 0.8691459986772487, 0.8615848214285714, 0.8907539682539684, 0.7896536044973546, 0.9130572089947091, 0.4964174107142857, 0.9036524470899472, 0.9042129629629629, 0.9020940806878308, 0.8694254298941798, 0.8858325066137566, 0.8883912037037037, 0.890009093915344, 0.887735615079365, 0.9106531084656085, 0.9078182870370372, 0.9009912367724867, 0.8736755952380953, 0.9111193783068783, 0.9067261904761905, 0.8941170634920634, 0.9252041997354498, 0.9180596891534393]}, {\"categories\": [\"0\", \"1\", \"2\", \"3\", \"4\", \"5\", \"6\", \"7\", \"8\", \"9\", \"10\", \"11\", \"12\", \"13\", \"14\", \"15\", \"16\", \"17\", \"18\", \"19\", \"20\", \"21\", \"22\", \"23\", \"24\", \"25\", \"26\", \"27\", \"28\", \"29\", \"30\", \"31\", \"32\", \"33\", \"34\", \"35\", \"36\", \"37\", \"38\", \"39\", \"40\", \"41\", \"42\", \"43\", \"44\", \"45\", \"49\", \"50\"], \"mode\": \"lines\", \"name\": \"AUC_macro_max\", \"stepped\": true, \"type\": \"scatter\", \"data\": [0.8900892857142857, 0.8900892857142857, 0.8900892857142857, 0.8900892857142857, 0.8901570767195766, 0.8905100859788361, 0.8905100859788361, 0.8905100859788361, 0.8974065806878307, 0.8974065806878307, 0.8974065806878307, 0.8974065806878307, 0.8974065806878307, 0.8974065806878307, 0.8974065806878307, 0.8974065806878307, 0.8974065806878307, 0.8974065806878307, 0.8974065806878307, 0.8974065806878307, 0.8974065806878307, 0.8974065806878307, 0.8974065806878307, 0.898463955026455, 0.898463955026455, 0.898463955026455, 0.898463955026455, 0.898463955026455, 0.898463955026455, 0.9130572089947091, 0.9130572089947091, 0.9130572089947091, 0.9130572089947091, 0.9130572089947091, 0.9130572089947091, 0.9130572089947091, 0.9130572089947091, 0.9130572089947091, 0.9130572089947091, 0.9130572089947091, 0.9130572089947091, 0.9130572089947091, 0.9130572089947091, 0.9130572089947091, 0.9130572089947091, 0.9130572089947091, 0.9252041997354498, 0.9252041997354498]}], \"average_precision_score_weighted\": [{\"categories\": [\"0\", \"1\", \"2\", \"3\", \"4\", \"5\", \"6\", \"7\", \"8\", \"9\", \"10\", \"11\", \"12\", \"13\", \"14\", \"15\", \"16\", \"17\", \"18\", \"19\", \"20\", \"21\", \"22\", \"23\", \"24\", \"25\", \"26\", \"27\", \"28\", \"29\", \"30\", \"31\", \"32\", \"33\", \"34\", \"35\", \"36\", \"37\", \"38\", \"39\", \"40\", \"41\", \"42\", \"43\", \"44\", \"45\", \"49\", \"50\"], \"mode\": \"markers\", \"name\": \"average_precision_score_weighted\", \"stepped\": false, \"type\": \"scatter\", \"data\": [0.9000109067542017, 0.9062493235409341, 0.8976513386111542, 0.8926011844102687, 0.9095631863222975, 0.9127892062963447, 0.894229100910855, 0.8996260681356041, 0.9133566094753249, 0.7742392515539979, 0.9024757345932386, 0.9065070650997233, 0.9069808810354114, 0.8767434706959728, 0.9142680987962359, 0.671176368203771, 0.888715442919828, 0.8587036293792755, 0.9038192687873415, 0.9101443063426716, 0.8862519150221061, 0.8665999966180002, 0.8857127068050057, 0.9113990363593061, 0.8882469320465705, 0.8939573468436286, 0.887815101299735, 0.911859553732787, 0.8297515934770485, 0.92775619286594, 0.5550229014100914, 0.918992350473476, 0.913910498619115, 0.9185591506378288, 0.8875894778116645, 0.9074068684852648, 0.904720929611561, 0.9082674300135011, 0.9020212773742438, 0.9262038180105467, 0.9217847404409989, 0.9188445503285992, 0.9002466158931742, 0.9250919793833756, 0.9227978868266089, 0.9128354602966343, 0.9382618655622046, 0.9316637773912895]}, {\"categories\": [\"0\", \"1\", \"2\", \"3\", \"4\", \"5\", \"6\", \"7\", \"8\", \"9\", \"10\", \"11\", \"12\", \"13\", \"14\", \"15\", \"16\", \"17\", \"18\", \"19\", \"20\", \"21\", \"22\", \"23\", \"24\", \"25\", \"26\", \"27\", \"28\", \"29\", \"30\", \"31\", \"32\", \"33\", \"34\", \"35\", \"36\", \"37\", \"38\", \"39\", \"40\", \"41\", \"42\", \"43\", \"44\", \"45\", \"49\", \"50\"], \"mode\": \"lines\", \"name\": \"average_precision_score_weighted_max\", \"stepped\": true, \"type\": \"scatter\", \"data\": [0.9000109067542017, 0.9062493235409341, 0.9062493235409341, 0.9062493235409341, 0.9095631863222975, 0.9127892062963447, 0.9127892062963447, 0.9127892062963447, 0.9133566094753249, 0.9133566094753249, 0.9133566094753249, 0.9133566094753249, 0.9133566094753249, 0.9133566094753249, 0.9142680987962359, 0.9142680987962359, 0.9142680987962359, 0.9142680987962359, 0.9142680987962359, 0.9142680987962359, 0.9142680987962359, 0.9142680987962359, 0.9142680987962359, 0.9142680987962359, 0.9142680987962359, 0.9142680987962359, 0.9142680987962359, 0.9142680987962359, 0.9142680987962359, 0.92775619286594, 0.92775619286594, 0.92775619286594, 0.92775619286594, 0.92775619286594, 0.92775619286594, 0.92775619286594, 0.92775619286594, 0.92775619286594, 0.92775619286594, 0.92775619286594, 0.92775619286594, 0.92775619286594, 0.92775619286594, 0.92775619286594, 0.92775619286594, 0.92775619286594, 0.9382618655622046, 0.9382618655622046]}], \"precision_score_weighted\": [{\"categories\": [\"0\", \"1\", \"2\", \"3\", \"4\", \"5\", \"6\", \"7\", \"8\", \"9\", \"10\", \"11\", \"12\", \"13\", \"14\", \"15\", \"16\", \"17\", \"18\", \"19\", \"20\", \"21\", \"22\", \"23\", \"24\", \"25\", \"26\", \"27\", \"28\", \"29\", \"30\", \"31\", \"32\", \"33\", \"34\", \"35\", \"36\", \"37\", \"38\", \"39\", \"40\", \"41\", \"42\", \"43\", \"44\", \"45\", \"49\", \"50\"], \"mode\": \"markers\", \"name\": \"precision_score_weighted\", \"stepped\": false, \"type\": \"scatter\", \"data\": [0.8264842830302515, 0.8525607416879796, 0.8454227008930495, 0.8076607052050416, 0.8237950953328191, 0.8294294025772017, 0.8402353560901565, 0.8338179632709938, 0.7457802940710299, 0.7459292146752606, 0.8100246339954748, 0.8300069998875357, 0.844595369595033, 0.7938059732990284, 0.8153382409304722, 0.6022469282176385, 0.8073761857157166, 0.7870292398109063, 0.8284348677301969, 0.8533072398645448, 0.8159359752037096, 0.7746519845986674, 0.8131322290241727, 0.8566839722274505, 0.8210381748224156, 0.8517157041910333, 0.6549732574189095, 0.8420748821871744, 0.7416797950370773, 0.8518398422170801, 0.4350251391514388, 0.8493665365372527, 0.8516355394392479, 0.8419480394392478, 0.8247955581233949, 0.8346856755776193, 0.8292333943706941, 0.8179677474536724, 0.8310683125484916, 0.8695241949014326, 0.8530997886976147, 0.853559380730097, 0.8439556121361587, 0.8563519504791884, 0.8624256459830308, 0.8559133098499517, 0.8531663867237717, 0.7515793513248166]}, {\"categories\": [\"0\", \"1\", \"2\", \"3\", \"4\", \"5\", \"6\", \"7\", \"8\", \"9\", \"10\", \"11\", \"12\", \"13\", \"14\", \"15\", \"16\", \"17\", \"18\", \"19\", \"20\", \"21\", \"22\", \"23\", \"24\", \"25\", \"26\", \"27\", \"28\", \"29\", \"30\", \"31\", \"32\", \"33\", \"34\", \"35\", \"36\", \"37\", \"38\", \"39\", \"40\", \"41\", \"42\", \"43\", \"44\", \"45\", \"49\", \"50\"], \"mode\": \"lines\", \"name\": \"precision_score_weighted_max\", \"stepped\": true, \"type\": \"scatter\", \"data\": [0.8264842830302515, 0.8525607416879796, 0.8525607416879796, 0.8525607416879796, 0.8525607416879796, 0.8525607416879796, 0.8525607416879796, 0.8525607416879796, 0.8525607416879796, 0.8525607416879796, 0.8525607416879796, 0.8525607416879796, 0.8525607416879796, 0.8525607416879796, 0.8525607416879796, 0.8525607416879796, 0.8525607416879796, 0.8525607416879796, 0.8525607416879796, 0.8533072398645448, 0.8533072398645448, 0.8533072398645448, 0.8533072398645448, 0.8566839722274505, 0.8566839722274505, 0.8566839722274505, 0.8566839722274505, 0.8566839722274505, 0.8566839722274505, 0.8566839722274505, 0.8566839722274505, 0.8566839722274505, 0.8566839722274505, 0.8566839722274505, 0.8566839722274505, 0.8566839722274505, 0.8566839722274505, 0.8566839722274505, 0.8566839722274505, 0.8695241949014326, 0.8695241949014326, 0.8695241949014326, 0.8695241949014326, 0.8695241949014326, 0.8695241949014326, 0.8695241949014326, 0.8695241949014326, 0.8695241949014326]}], \"average_precision_score_macro\": [{\"categories\": [\"0\", \"1\", \"2\", \"3\", \"4\", \"5\", \"6\", \"7\", \"8\", \"9\", \"10\", \"11\", \"12\", \"13\", \"14\", \"15\", \"16\", \"17\", \"18\", \"19\", \"20\", \"21\", \"22\", \"23\", \"24\", \"25\", \"26\", \"27\", \"28\", \"29\", \"30\", \"31\", \"32\", \"33\", \"34\", \"35\", \"36\", \"37\", \"38\", \"39\", \"40\", \"41\", \"42\", \"43\", \"44\", \"45\", \"49\", \"50\"], \"mode\": \"markers\", \"name\": \"average_precision_score_macro\", \"stepped\": false, \"type\": \"scatter\", \"data\": [0.8734810462911631, 0.8810761649352858, 0.8682278069495682, 0.8659150692197958, 0.8882028804831765, 0.892340488451963, 0.87302991898846, 0.8797477365817679, 0.8907897647721846, 0.7454483439021045, 0.8763316194664608, 0.8813522037423489, 0.8789234935537926, 0.8487385557236375, 0.899256335434832, 0.6303247521818182, 0.8642696722073996, 0.8298919941471927, 0.8773226653501129, 0.8877463769846772, 0.8541742500178767, 0.84031952560614, 0.8585657838582001, 0.8907608090898778, 0.8606299025144002, 0.869859304853939, 0.865637216942854, 0.8888281620440146, 0.79275188764248, 0.907934151964443, 0.499155724789916, 0.8965049886676848, 0.8904562767058797, 0.8975073484027225, 0.8608381341540717, 0.8873868246280129, 0.8801290128762179, 0.8850382817570468, 0.8753894514225896, 0.9067396169952324, 0.9007613767426296, 0.8986821229137008, 0.8764885299381971, 0.9054945630929618, 0.901619127365262, 0.8922887323559447, 0.9225799004372023, 0.9127279183518461]}, {\"categories\": [\"0\", \"1\", \"2\", \"3\", \"4\", \"5\", \"6\", \"7\", \"8\", \"9\", \"10\", \"11\", \"12\", \"13\", \"14\", \"15\", \"16\", \"17\", \"18\", \"19\", \"20\", \"21\", \"22\", \"23\", \"24\", \"25\", \"26\", \"27\", \"28\", \"29\", \"30\", \"31\", \"32\", \"33\", \"34\", \"35\", \"36\", \"37\", \"38\", \"39\", \"40\", \"41\", \"42\", \"43\", \"44\", \"45\", \"49\", \"50\"], \"mode\": \"lines\", \"name\": \"average_precision_score_macro_max\", \"stepped\": true, \"type\": \"scatter\", \"data\": [0.8734810462911631, 0.8810761649352858, 0.8810761649352858, 0.8810761649352858, 0.8882028804831765, 0.892340488451963, 0.892340488451963, 0.892340488451963, 0.892340488451963, 0.892340488451963, 0.892340488451963, 0.892340488451963, 0.892340488451963, 0.892340488451963, 0.899256335434832, 0.899256335434832, 0.899256335434832, 0.899256335434832, 0.899256335434832, 0.899256335434832, 0.899256335434832, 0.899256335434832, 0.899256335434832, 0.899256335434832, 0.899256335434832, 0.899256335434832, 0.899256335434832, 0.899256335434832, 0.899256335434832, 0.907934151964443, 0.907934151964443, 0.907934151964443, 0.907934151964443, 0.907934151964443, 0.907934151964443, 0.907934151964443, 0.907934151964443, 0.907934151964443, 0.907934151964443, 0.907934151964443, 0.907934151964443, 0.907934151964443, 0.907934151964443, 0.907934151964443, 0.907934151964443, 0.907934151964443, 0.9225799004372023, 0.9225799004372023]}], \"recall_score_weighted\": [{\"categories\": [\"0\", \"1\", \"2\", \"3\", \"4\", \"5\", \"6\", \"7\", \"8\", \"9\", \"10\", \"11\", \"12\", \"13\", \"14\", \"15\", \"16\", \"17\", \"18\", \"19\", \"20\", \"21\", \"22\", \"23\", \"24\", \"25\", \"26\", \"27\", \"28\", \"29\", \"30\", \"31\", \"32\", \"33\", \"34\", \"35\", \"36\", \"37\", \"38\", \"39\", \"40\", \"41\", \"42\", \"43\", \"44\", \"45\", \"49\", \"50\"], \"mode\": \"markers\", \"name\": \"recall_score_weighted\", \"stepped\": false, \"type\": \"scatter\", \"data\": [0.803623188405797, 0.8327898550724638, 0.8284420289855072, 0.7617753623188406, 0.8077898550724638, 0.816304347826087, 0.8324275362318841, 0.8202898550724639, 0.7574275362318841, 0.7244565217391306, 0.7659420289855073, 0.7994565217391305, 0.8284420289855072, 0.7824275362318841, 0.7951086956521739, 0.6237318840579709, 0.7701086956521739, 0.7617753623188406, 0.8034420289855072, 0.8409420289855072, 0.8034420289855072, 0.7536231884057971, 0.7911231884057971, 0.8409420289855072, 0.8077898550724637, 0.8329710144927537, 0.6945652173913043, 0.8246376811594203, 0.7240942028985506, 0.8286231884057971, 0.6570652173913043, 0.8284420289855072, 0.8327898550724638, 0.8244565217391304, 0.8034420289855072, 0.8119565217391305, 0.8119565217391305, 0.8032608695652174, 0.8119565217391305, 0.8494565217391304, 0.8327898550724637, 0.8242753623188405, 0.8286231884057971, 0.8327898550724637, 0.8494565217391304, 0.8244565217391303, 0.841123188405797, 0.803623188405797]}, {\"categories\": [\"0\", \"1\", \"2\", \"3\", \"4\", \"5\", \"6\", \"7\", \"8\", \"9\", \"10\", \"11\", \"12\", \"13\", \"14\", \"15\", \"16\", \"17\", \"18\", \"19\", \"20\", \"21\", \"22\", \"23\", \"24\", \"25\", \"26\", \"27\", \"28\", \"29\", \"30\", \"31\", \"32\", \"33\", \"34\", \"35\", \"36\", \"37\", \"38\", \"39\", \"40\", \"41\", \"42\", \"43\", \"44\", \"45\", \"49\", \"50\"], \"mode\": \"lines\", \"name\": \"recall_score_weighted_max\", \"stepped\": true, \"type\": \"scatter\", \"data\": [0.803623188405797, 0.8327898550724638, 0.8327898550724638, 0.8327898550724638, 0.8327898550724638, 0.8327898550724638, 0.8327898550724638, 0.8327898550724638, 0.8327898550724638, 0.8327898550724638, 0.8327898550724638, 0.8327898550724638, 0.8327898550724638, 0.8327898550724638, 0.8327898550724638, 0.8327898550724638, 0.8327898550724638, 0.8327898550724638, 0.8327898550724638, 0.8409420289855072, 0.8409420289855072, 0.8409420289855072, 0.8409420289855072, 0.8409420289855072, 0.8409420289855072, 0.8409420289855072, 0.8409420289855072, 0.8409420289855072, 0.8409420289855072, 0.8409420289855072, 0.8409420289855072, 0.8409420289855072, 0.8409420289855072, 0.8409420289855072, 0.8409420289855072, 0.8409420289855072, 0.8409420289855072, 0.8409420289855072, 0.8409420289855072, 0.8494565217391304, 0.8494565217391304, 0.8494565217391304, 0.8494565217391304, 0.8494565217391304, 0.8494565217391304, 0.8494565217391304, 0.8494565217391304, 0.8494565217391304]}], \"balanced_accuracy\": [{\"categories\": [\"0\", \"1\", \"2\", \"3\", \"4\", \"5\", \"6\", \"7\", \"8\", \"9\", \"10\", \"11\", \"12\", \"13\", \"14\", \"15\", \"16\", \"17\", \"18\", \"19\", \"20\", \"21\", \"22\", \"23\", \"24\", \"25\", \"26\", \"27\", \"28\", \"29\", \"30\", \"31\", \"32\", \"33\", \"34\", \"35\", \"36\", \"37\", \"38\", \"39\", \"40\", \"41\", \"42\", \"43\", \"44\", \"45\", \"49\", \"50\"], \"mode\": \"markers\", \"name\": \"balanced_accuracy\", \"stepped\": false, \"type\": \"scatter\", \"data\": [0.7736210317460317, 0.8073313492063491, 0.8072718253968254, 0.6850892857142856, 0.7878769841269841, 0.7883134920634921, 0.8002678571428572, 0.7688789682539682, 0.6715674603174604, 0.6502579365079365, 0.674890873015873, 0.7462698412698412, 0.8226289682539683, 0.7425297619047619, 0.775654761904762, 0.5407142857142857, 0.6857837301587303, 0.7390972222222223, 0.7944642857142858, 0.8146031746031746, 0.7729067460317461, 0.7314186507936509, 0.7641071428571429, 0.799047619047619, 0.7633234126984128, 0.7834821428571428, 0.5542956349206349, 0.8072718253968254, 0.6349503968253969, 0.8207440476190477, 0.5, 0.8179662698412699, 0.8181746031746032, 0.8071726190476192, 0.7731646825396826, 0.8034920634920635, 0.7852579365079365, 0.7479464285714286, 0.7861607142857142, 0.8417857142857142, 0.8214384920634921, 0.8208531746031745, 0.8105357142857142, 0.831547619047619, 0.826329365079365, 0.8327281746031747, 0.8138293650793651, 0.7264980158730159]}, {\"categories\": [\"0\", \"1\", \"2\", \"3\", \"4\", \"5\", \"6\", \"7\", \"8\", \"9\", \"10\", \"11\", \"12\", \"13\", \"14\", \"15\", \"16\", \"17\", \"18\", \"19\", \"20\", \"21\", \"22\", \"23\", \"24\", \"25\", \"26\", \"27\", \"28\", \"29\", \"30\", \"31\", \"32\", \"33\", \"34\", \"35\", \"36\", \"37\", \"38\", \"39\", \"40\", \"41\", \"42\", \"43\", \"44\", \"45\", \"49\", \"50\"], \"mode\": \"lines\", \"name\": \"balanced_accuracy_max\", \"stepped\": true, \"type\": \"scatter\", \"data\": [0.7736210317460317, 0.8073313492063491, 0.8073313492063491, 0.8073313492063491, 0.8073313492063491, 0.8073313492063491, 0.8073313492063491, 0.8073313492063491, 0.8073313492063491, 0.8073313492063491, 0.8073313492063491, 0.8073313492063491, 0.8226289682539683, 0.8226289682539683, 0.8226289682539683, 0.8226289682539683, 0.8226289682539683, 0.8226289682539683, 0.8226289682539683, 0.8226289682539683, 0.8226289682539683, 0.8226289682539683, 0.8226289682539683, 0.8226289682539683, 0.8226289682539683, 0.8226289682539683, 0.8226289682539683, 0.8226289682539683, 0.8226289682539683, 0.8226289682539683, 0.8226289682539683, 0.8226289682539683, 0.8226289682539683, 0.8226289682539683, 0.8226289682539683, 0.8226289682539683, 0.8226289682539683, 0.8226289682539683, 0.8226289682539683, 0.8417857142857142, 0.8417857142857142, 0.8417857142857142, 0.8417857142857142, 0.8417857142857142, 0.8417857142857142, 0.8417857142857142, 0.8417857142857142, 0.8417857142857142]}], \"f1_score_weighted\": [{\"categories\": [\"0\", \"1\", \"2\", \"3\", \"4\", \"5\", \"6\", \"7\", \"8\", \"9\", \"10\", \"11\", \"12\", \"13\", \"14\", \"15\", \"16\", \"17\", \"18\", \"19\", \"20\", \"21\", \"22\", \"23\", \"24\", \"25\", \"26\", \"27\", \"28\", \"29\", \"30\", \"31\", \"32\", \"33\", \"34\", \"35\", \"36\", \"37\", \"38\", \"39\", \"40\", \"41\", \"42\", \"43\", \"44\", \"45\", \"49\", \"50\"], \"mode\": \"markers\", \"name\": \"f1_score_weighted\", \"stepped\": false, \"type\": \"scatter\", \"data\": [0.7983012006870832, 0.8299387381180269, 0.8261637885181473, 0.7270461253112301, 0.8073672502683763, 0.8133264791311389, 0.8267986200789716, 0.8084440764983883, 0.7119743005347983, 0.7015050591294317, 0.7360792188324782, 0.7836928464671896, 0.8294704748545169, 0.7773565507515645, 0.7920455176450836, 0.596362365371599, 0.7371905071012453, 0.7603785028228306, 0.80475495591032, 0.8385756007397422, 0.800341430156835, 0.7507476394429492, 0.7848745874736192, 0.8343794717915172, 0.7997345056646321, 0.8218733740121007, 0.6022538607435631, 0.8240867937718461, 0.6879416191357975, 0.8296713240291049, 0.5225129294808928, 0.8289510240135185, 0.832824534780894, 0.8238270648251698, 0.7976415273837233, 0.8131642813149753, 0.8077345887815246, 0.792871329445457, 0.8093288700668637, 0.8498841992708565, 0.8325437309270944, 0.8256375371354645, 0.8284663797805425, 0.8348451606996138, 0.8470348832449781, 0.8279783468734794, 0.8376511297435776, 0.7623955151947784]}, {\"categories\": [\"0\", \"1\", \"2\", \"3\", \"4\", \"5\", \"6\", \"7\", \"8\", \"9\", \"10\", \"11\", \"12\", \"13\", \"14\", \"15\", \"16\", \"17\", \"18\", \"19\", \"20\", \"21\", \"22\", \"23\", \"24\", \"25\", \"26\", \"27\", \"28\", \"29\", \"30\", \"31\", \"32\", \"33\", \"34\", \"35\", \"36\", \"37\", \"38\", \"39\", \"40\", \"41\", \"42\", \"43\", \"44\", \"45\", \"49\", \"50\"], \"mode\": \"lines\", \"name\": \"f1_score_weighted_max\", \"stepped\": true, \"type\": \"scatter\", \"data\": [0.7983012006870832, 0.8299387381180269, 0.8299387381180269, 0.8299387381180269, 0.8299387381180269, 0.8299387381180269, 0.8299387381180269, 0.8299387381180269, 0.8299387381180269, 0.8299387381180269, 0.8299387381180269, 0.8299387381180269, 0.8299387381180269, 0.8299387381180269, 0.8299387381180269, 0.8299387381180269, 0.8299387381180269, 0.8299387381180269, 0.8299387381180269, 0.8385756007397422, 0.8385756007397422, 0.8385756007397422, 0.8385756007397422, 0.8385756007397422, 0.8385756007397422, 0.8385756007397422, 0.8385756007397422, 0.8385756007397422, 0.8385756007397422, 0.8385756007397422, 0.8385756007397422, 0.8385756007397422, 0.8385756007397422, 0.8385756007397422, 0.8385756007397422, 0.8385756007397422, 0.8385756007397422, 0.8385756007397422, 0.8385756007397422, 0.8498841992708565, 0.8498841992708565, 0.8498841992708565, 0.8498841992708565, 0.8498841992708565, 0.8498841992708565, 0.8498841992708565, 0.8498841992708565, 0.8498841992708565]}], \"log_loss\": [{\"categories\": [\"0\", \"1\", \"2\", \"3\", \"4\", \"5\", \"6\", \"7\", \"8\", \"9\", \"10\", \"11\", \"12\", \"13\", \"14\", \"15\", \"16\", \"17\", \"18\", \"19\", \"20\", \"21\", \"22\", \"23\", \"24\", \"25\", \"26\", \"27\", \"28\", \"29\", \"30\", \"31\", \"32\", \"33\", \"34\", \"35\", \"36\", \"37\", \"38\", \"39\", \"40\", \"41\", \"42\", \"43\", \"44\", \"45\", \"49\", \"50\"], \"mode\": \"markers\", \"name\": \"log_loss\", \"stepped\": false, \"type\": \"scatter\", \"data\": [0.5113835461600813, 0.43916675172891606, 0.4160366628075445, 0.4907829677587131, 0.41218817358125126, 0.4140494888197873, 0.4217713390683855, 0.43064324583957453, 0.4923314990277314, 1.1099851948022064, 0.49503438257846594, 0.4589737732920381, 0.43729321428219514, 0.4429744821937159, 0.46638526134528435, 0.7364294315179739, 0.4986194428156135, 0.6352194195506826, 0.5348469358838182, 0.49390392784680426, 0.42985790708835847, 0.536689640176598, 0.5045641943033241, 0.4251026119968099, 0.4383342426973738, 0.42281464114992645, 0.5561379709255314, 0.43845052856503824, 0.5549500067143551, 0.41942190912538946, 0.6520015295299271, 0.3949361774382073, 0.3944052123706816, 0.38479788073357685, 0.5978384030244941, 0.5762638022098259, 0.4161669065740775, 0.45774575719424104, 0.49694810510888504, 0.46762367342392286, 0.5552862253590188, 0.44823117802099366, 0.5065849929960293, 0.5077616757881096, 0.376528492051162, 0.5054463780465808, 0.4410591320715457, 0.4609899391888706]}, {\"categories\": [\"0\", \"1\", \"2\", \"3\", \"4\", \"5\", \"6\", \"7\", \"8\", \"9\", \"10\", \"11\", \"12\", \"13\", \"14\", \"15\", \"16\", \"17\", \"18\", \"19\", \"20\", \"21\", \"22\", \"23\", \"24\", \"25\", \"26\", \"27\", \"28\", \"29\", \"30\", \"31\", \"32\", \"33\", \"34\", \"35\", \"36\", \"37\", \"38\", \"39\", \"40\", \"41\", \"42\", \"43\", \"44\", \"45\", \"49\", \"50\"], \"mode\": \"lines\", \"name\": \"log_loss_min\", \"stepped\": true, \"type\": \"scatter\", \"data\": [0.5113835461600813, 0.43916675172891606, 0.4160366628075445, 0.4160366628075445, 0.41218817358125126, 0.41218817358125126, 0.41218817358125126, 0.41218817358125126, 0.41218817358125126, 0.41218817358125126, 0.41218817358125126, 0.41218817358125126, 0.41218817358125126, 0.41218817358125126, 0.41218817358125126, 0.41218817358125126, 0.41218817358125126, 0.41218817358125126, 0.41218817358125126, 0.41218817358125126, 0.41218817358125126, 0.41218817358125126, 0.41218817358125126, 0.41218817358125126, 0.41218817358125126, 0.41218817358125126, 0.41218817358125126, 0.41218817358125126, 0.41218817358125126, 0.41218817358125126, 0.41218817358125126, 0.3949361774382073, 0.3944052123706816, 0.38479788073357685, 0.38479788073357685, 0.38479788073357685, 0.38479788073357685, 0.38479788073357685, 0.38479788073357685, 0.38479788073357685, 0.38479788073357685, 0.38479788073357685, 0.38479788073357685, 0.38479788073357685, 0.376528492051162, 0.376528492051162, 0.376528492051162, 0.376528492051162]}], \"AUC_micro\": [{\"categories\": [\"0\", \"1\", \"2\", \"3\", \"4\", \"5\", \"6\", \"7\", \"8\", \"9\", \"10\", \"11\", \"12\", \"13\", \"14\", \"15\", \"16\", \"17\", \"18\", \"19\", \"20\", \"21\", \"22\", \"23\", \"24\", \"25\", \"26\", \"27\", \"28\", \"29\", \"30\", \"31\", \"32\", \"33\", \"34\", \"35\", \"36\", \"37\", \"38\", \"39\", \"40\", \"41\", \"42\", \"43\", \"44\", \"45\", \"49\", \"50\"], \"mode\": \"markers\", \"name\": \"AUC_micro\", \"stepped\": false, \"type\": \"scatter\", \"data\": [0.8869486452425962, 0.8970683023524471, 0.8968175672127705, 0.8631599847721066, 0.8981716682419659, 0.8985651648813274, 0.8860479350451586, 0.8913312591892459, 0.8715281059651334, 0.7709879095778197, 0.8666515700483093, 0.8858876155219491, 0.8999195940978785, 0.8693213741860953, 0.8904671418819575, 0.670618370615417, 0.8592788411048099, 0.837905311384163, 0.8848269139886579, 0.8992750341314849, 0.8780173545473641, 0.8383066845200589, 0.8689741519638732, 0.9001854258559125, 0.8820064718546522, 0.8878242491073303, 0.8276510974585172, 0.8945835958832179, 0.8137119959042218, 0.9094255408527621, 0.6555027173913043, 0.9036615863264019, 0.9057797075194289, 0.9057797075194289, 0.8802125997689562, 0.890490443184205, 0.893299070573409, 0.8927201480781347, 0.8866092995169081, 0.9078630408527621, 0.9049927142407057, 0.9032103287124553, 0.8842017170762444, 0.9058722563537073, 0.9097842496324301, 0.8918829421340055, 0.919599020688931, 0.9017170762444865]}, {\"categories\": [\"0\", \"1\", \"2\", \"3\", \"4\", \"5\", \"6\", \"7\", \"8\", \"9\", \"10\", \"11\", \"12\", \"13\", \"14\", \"15\", \"16\", \"17\", \"18\", \"19\", \"20\", \"21\", \"22\", \"23\", \"24\", \"25\", \"26\", \"27\", \"28\", \"29\", \"30\", \"31\", \"32\", \"33\", \"34\", \"35\", \"36\", \"37\", \"38\", \"39\", \"40\", \"41\", \"42\", \"43\", \"44\", \"45\", \"49\", \"50\"], \"mode\": \"lines\", \"name\": \"AUC_micro_max\", \"stepped\": true, \"type\": \"scatter\", \"data\": [0.8869486452425962, 0.8970683023524471, 0.8970683023524471, 0.8970683023524471, 0.8981716682419659, 0.8985651648813274, 0.8985651648813274, 0.8985651648813274, 0.8985651648813274, 0.8985651648813274, 0.8985651648813274, 0.8985651648813274, 0.8999195940978785, 0.8999195940978785, 0.8999195940978785, 0.8999195940978785, 0.8999195940978785, 0.8999195940978785, 0.8999195940978785, 0.8999195940978785, 0.8999195940978785, 0.8999195940978785, 0.8999195940978785, 0.9001854258559125, 0.9001854258559125, 0.9001854258559125, 0.9001854258559125, 0.9001854258559125, 0.9001854258559125, 0.9094255408527621, 0.9094255408527621, 0.9094255408527621, 0.9094255408527621, 0.9094255408527621, 0.9094255408527621, 0.9094255408527621, 0.9094255408527621, 0.9094255408527621, 0.9094255408527621, 0.9094255408527621, 0.9094255408527621, 0.9094255408527621, 0.9094255408527621, 0.9094255408527621, 0.9097842496324301, 0.9097842496324301, 0.919599020688931, 0.919599020688931]}], \"accuracy\": [{\"categories\": [\"0\", \"1\", \"2\", \"3\", \"4\", \"5\", \"6\", \"7\", \"8\", \"9\", \"10\", \"11\", \"12\", \"13\", \"14\", \"15\", \"16\", \"17\", \"18\", \"19\", \"20\", \"21\", \"22\", \"23\", \"24\", \"25\", \"26\", \"27\", \"28\", \"29\", \"30\", \"31\", \"32\", \"33\", \"34\", \"35\", \"36\", \"37\", \"38\", \"39\", \"40\", \"41\", \"42\", \"43\", \"44\", \"45\", \"49\", \"50\"], \"mode\": \"markers\", \"name\": \"accuracy\", \"stepped\": false, \"type\": \"scatter\", \"data\": [0.803623188405797, 0.8327898550724638, 0.8284420289855072, 0.7617753623188406, 0.8077898550724638, 0.816304347826087, 0.8324275362318841, 0.8202898550724639, 0.7574275362318841, 0.7244565217391306, 0.7659420289855073, 0.7994565217391305, 0.8284420289855072, 0.7824275362318841, 0.7951086956521739, 0.6237318840579709, 0.7701086956521739, 0.7617753623188406, 0.8034420289855072, 0.8409420289855072, 0.8034420289855072, 0.7536231884057971, 0.7911231884057971, 0.8409420289855072, 0.8077898550724637, 0.8329710144927537, 0.6945652173913043, 0.8246376811594203, 0.7240942028985506, 0.8286231884057971, 0.6570652173913043, 0.8284420289855072, 0.8327898550724638, 0.8244565217391304, 0.8034420289855072, 0.8119565217391305, 0.8119565217391305, 0.8032608695652174, 0.8119565217391305, 0.8494565217391304, 0.8327898550724637, 0.8242753623188405, 0.8286231884057971, 0.8327898550724637, 0.8494565217391304, 0.8244565217391303, 0.841123188405797, 0.803623188405797]}, {\"categories\": [\"0\", \"1\", \"2\", \"3\", \"4\", \"5\", \"6\", \"7\", \"8\", \"9\", \"10\", \"11\", \"12\", \"13\", \"14\", \"15\", \"16\", \"17\", \"18\", \"19\", \"20\", \"21\", \"22\", \"23\", \"24\", \"25\", \"26\", \"27\", \"28\", \"29\", \"30\", \"31\", \"32\", \"33\", \"34\", \"35\", \"36\", \"37\", \"38\", \"39\", \"40\", \"41\", \"42\", \"43\", \"44\", \"45\", \"49\", \"50\"], \"mode\": \"lines\", \"name\": \"accuracy_max\", \"stepped\": true, \"type\": \"scatter\", \"data\": [0.803623188405797, 0.8327898550724638, 0.8327898550724638, 0.8327898550724638, 0.8327898550724638, 0.8327898550724638, 0.8327898550724638, 0.8327898550724638, 0.8327898550724638, 0.8327898550724638, 0.8327898550724638, 0.8327898550724638, 0.8327898550724638, 0.8327898550724638, 0.8327898550724638, 0.8327898550724638, 0.8327898550724638, 0.8327898550724638, 0.8327898550724638, 0.8409420289855072, 0.8409420289855072, 0.8409420289855072, 0.8409420289855072, 0.8409420289855072, 0.8409420289855072, 0.8409420289855072, 0.8409420289855072, 0.8409420289855072, 0.8409420289855072, 0.8409420289855072, 0.8409420289855072, 0.8409420289855072, 0.8409420289855072, 0.8409420289855072, 0.8409420289855072, 0.8409420289855072, 0.8409420289855072, 0.8409420289855072, 0.8409420289855072, 0.8494565217391304, 0.8494565217391304, 0.8494565217391304, 0.8494565217391304, 0.8494565217391304, 0.8494565217391304, 0.8494565217391304, 0.8494565217391304, 0.8494565217391304]}], \"f1_score_macro\": [{\"categories\": [\"0\", \"1\", \"2\", \"3\", \"4\", \"5\", \"6\", \"7\", \"8\", \"9\", \"10\", \"11\", \"12\", \"13\", \"14\", \"15\", \"16\", \"17\", \"18\", \"19\", \"20\", \"21\", \"22\", \"23\", \"24\", \"25\", \"26\", \"27\", \"28\", \"29\", \"30\", \"31\", \"32\", \"33\", \"34\", \"35\", \"36\", \"37\", \"38\", \"39\", \"40\", \"41\", \"42\", \"43\", \"44\", \"45\", \"49\", \"50\"], \"mode\": \"markers\", \"name\": \"f1_score_macro\", \"stepped\": false, \"type\": \"scatter\", \"data\": [0.7716529969862921, 0.8066550600718466, 0.8031763599420989, 0.6752178407383989, 0.7838761493531735, 0.7877246007997906, 0.8023634630052106, 0.7715416716409368, 0.6506746388983232, 0.6498604507409158, 0.678385096448224, 0.7480727783443628, 0.8086185266323156, 0.7452464633713148, 0.7675644653797774, 0.5308222516969895, 0.6851068277848464, 0.7313638109618334, 0.785365498063553, 0.8155212372869762, 0.7737335299958115, 0.7234255050394673, 0.7552691777782479, 0.8054473165050384, 0.767084869194689, 0.7872258772612535, 0.4987872629977894, 0.8021359532747422, 0.6274013240459274, 0.8098969789864728, 0.3958087526508579, 0.8083241375282068, 0.8117816407556748, 0.8020187194581236, 0.7684693369038721, 0.7943935597188351, 0.7823560469670936, 0.7580330274827428, 0.7849044539154055, 0.83095502880906, 0.8124671811008453, 0.8067460503806702, 0.8056740875193267, 0.8184909735934782, 0.8255494643562784, 0.8142973387230334, 0.8140473635159422, 0.7003352058114122]}, {\"categories\": [\"0\", \"1\", \"2\", \"3\", \"4\", \"5\", \"6\", \"7\", \"8\", \"9\", \"10\", \"11\", \"12\", \"13\", \"14\", \"15\", \"16\", \"17\", \"18\", \"19\", \"20\", \"21\", \"22\", \"23\", \"24\", \"25\", \"26\", \"27\", \"28\", \"29\", \"30\", \"31\", \"32\", \"33\", \"34\", \"35\", \"36\", \"37\", \"38\", \"39\", \"40\", \"41\", \"42\", \"43\", \"44\", \"45\", \"49\", \"50\"], \"mode\": \"lines\", \"name\": \"f1_score_macro_max\", \"stepped\": true, \"type\": \"scatter\", \"data\": [0.7716529969862921, 0.8066550600718466, 0.8066550600718466, 0.8066550600718466, 0.8066550600718466, 0.8066550600718466, 0.8066550600718466, 0.8066550600718466, 0.8066550600718466, 0.8066550600718466, 0.8066550600718466, 0.8066550600718466, 0.8086185266323156, 0.8086185266323156, 0.8086185266323156, 0.8086185266323156, 0.8086185266323156, 0.8086185266323156, 0.8086185266323156, 0.8155212372869762, 0.8155212372869762, 0.8155212372869762, 0.8155212372869762, 0.8155212372869762, 0.8155212372869762, 0.8155212372869762, 0.8155212372869762, 0.8155212372869762, 0.8155212372869762, 0.8155212372869762, 0.8155212372869762, 0.8155212372869762, 0.8155212372869762, 0.8155212372869762, 0.8155212372869762, 0.8155212372869762, 0.8155212372869762, 0.8155212372869762, 0.8155212372869762, 0.83095502880906, 0.83095502880906, 0.83095502880906, 0.83095502880906, 0.83095502880906, 0.83095502880906, 0.83095502880906, 0.83095502880906, 0.83095502880906]}], \"f1_score_micro\": [{\"categories\": [\"0\", \"1\", \"2\", \"3\", \"4\", \"5\", \"6\", \"7\", \"8\", \"9\", \"10\", \"11\", \"12\", \"13\", \"14\", \"15\", \"16\", \"17\", \"18\", \"19\", \"20\", \"21\", \"22\", \"23\", \"24\", \"25\", \"26\", \"27\", \"28\", \"29\", \"30\", \"31\", \"32\", \"33\", \"34\", \"35\", \"36\", \"37\", \"38\", \"39\", \"40\", \"41\", \"42\", \"43\", \"44\", \"45\", \"49\", \"50\"], \"mode\": \"markers\", \"name\": \"f1_score_micro\", \"stepped\": false, \"type\": \"scatter\", \"data\": [0.803623188405797, 0.8327898550724638, 0.8284420289855072, 0.7617753623188406, 0.8077898550724638, 0.816304347826087, 0.8324275362318841, 0.8202898550724639, 0.7574275362318841, 0.7244565217391306, 0.7659420289855073, 0.7994565217391305, 0.8284420289855072, 0.7824275362318841, 0.7951086956521739, 0.6237318840579709, 0.7701086956521739, 0.7617753623188406, 0.8034420289855072, 0.8409420289855072, 0.8034420289855072, 0.7536231884057971, 0.7911231884057971, 0.8409420289855072, 0.8077898550724637, 0.8329710144927537, 0.6945652173913043, 0.8246376811594203, 0.7240942028985506, 0.8286231884057971, 0.6570652173913043, 0.8284420289855072, 0.8327898550724638, 0.8244565217391304, 0.8034420289855072, 0.8119565217391305, 0.8119565217391305, 0.8032608695652174, 0.8119565217391305, 0.8494565217391304, 0.8327898550724637, 0.8242753623188405, 0.8286231884057971, 0.8327898550724637, 0.8494565217391304, 0.8244565217391303, 0.841123188405797, 0.803623188405797]}, {\"categories\": [\"0\", \"1\", \"2\", \"3\", \"4\", \"5\", \"6\", \"7\", \"8\", \"9\", \"10\", \"11\", \"12\", \"13\", \"14\", \"15\", \"16\", \"17\", \"18\", \"19\", \"20\", \"21\", \"22\", \"23\", \"24\", \"25\", \"26\", \"27\", \"28\", \"29\", \"30\", \"31\", \"32\", \"33\", \"34\", \"35\", \"36\", \"37\", \"38\", \"39\", \"40\", \"41\", \"42\", \"43\", \"44\", \"45\", \"49\", \"50\"], \"mode\": \"lines\", \"name\": \"f1_score_micro_max\", \"stepped\": true, \"type\": \"scatter\", \"data\": [0.803623188405797, 0.8327898550724638, 0.8327898550724638, 0.8327898550724638, 0.8327898550724638, 0.8327898550724638, 0.8327898550724638, 0.8327898550724638, 0.8327898550724638, 0.8327898550724638, 0.8327898550724638, 0.8327898550724638, 0.8327898550724638, 0.8327898550724638, 0.8327898550724638, 0.8327898550724638, 0.8327898550724638, 0.8327898550724638, 0.8327898550724638, 0.8409420289855072, 0.8409420289855072, 0.8409420289855072, 0.8409420289855072, 0.8409420289855072, 0.8409420289855072, 0.8409420289855072, 0.8409420289855072, 0.8409420289855072, 0.8409420289855072, 0.8409420289855072, 0.8409420289855072, 0.8409420289855072, 0.8409420289855072, 0.8409420289855072, 0.8409420289855072, 0.8409420289855072, 0.8409420289855072, 0.8409420289855072, 0.8409420289855072, 0.8494565217391304, 0.8494565217391304, 0.8494565217391304, 0.8494565217391304, 0.8494565217391304, 0.8494565217391304, 0.8494565217391304, 0.8494565217391304, 0.8494565217391304]}], \"recall_score_micro\": [{\"categories\": [\"0\", \"1\", \"2\", \"3\", \"4\", \"5\", \"6\", \"7\", \"8\", \"9\", \"10\", \"11\", \"12\", \"13\", \"14\", \"15\", \"16\", \"17\", \"18\", \"19\", \"20\", \"21\", \"22\", \"23\", \"24\", \"25\", \"26\", \"27\", \"28\", \"29\", \"30\", \"31\", \"32\", \"33\", \"34\", \"35\", \"36\", \"37\", \"38\", \"39\", \"40\", \"41\", \"42\", \"43\", \"44\", \"45\", \"49\", \"50\"], \"mode\": \"markers\", \"name\": \"recall_score_micro\", \"stepped\": false, \"type\": \"scatter\", \"data\": [0.803623188405797, 0.8327898550724638, 0.8284420289855072, 0.7617753623188406, 0.8077898550724638, 0.816304347826087, 0.8324275362318841, 0.8202898550724639, 0.7574275362318841, 0.7244565217391306, 0.7659420289855073, 0.7994565217391305, 0.8284420289855072, 0.7824275362318841, 0.7951086956521739, 0.6237318840579709, 0.7701086956521739, 0.7617753623188406, 0.8034420289855072, 0.8409420289855072, 0.8034420289855072, 0.7536231884057971, 0.7911231884057971, 0.8409420289855072, 0.8077898550724637, 0.8329710144927537, 0.6945652173913043, 0.8246376811594203, 0.7240942028985506, 0.8286231884057971, 0.6570652173913043, 0.8284420289855072, 0.8327898550724638, 0.8244565217391304, 0.8034420289855072, 0.8119565217391305, 0.8119565217391305, 0.8032608695652174, 0.8119565217391305, 0.8494565217391304, 0.8327898550724637, 0.8242753623188405, 0.8286231884057971, 0.8327898550724637, 0.8494565217391304, 0.8244565217391303, 0.841123188405797, 0.803623188405797]}, {\"categories\": [\"0\", \"1\", \"2\", \"3\", \"4\", \"5\", \"6\", \"7\", \"8\", \"9\", \"10\", \"11\", \"12\", \"13\", \"14\", \"15\", \"16\", \"17\", \"18\", \"19\", \"20\", \"21\", \"22\", \"23\", \"24\", \"25\", \"26\", \"27\", \"28\", \"29\", \"30\", \"31\", \"32\", \"33\", \"34\", \"35\", \"36\", \"37\", \"38\", \"39\", \"40\", \"41\", \"42\", \"43\", \"44\", \"45\", \"49\", \"50\"], \"mode\": \"lines\", \"name\": \"recall_score_micro_max\", \"stepped\": true, \"type\": \"scatter\", \"data\": [0.803623188405797, 0.8327898550724638, 0.8327898550724638, 0.8327898550724638, 0.8327898550724638, 0.8327898550724638, 0.8327898550724638, 0.8327898550724638, 0.8327898550724638, 0.8327898550724638, 0.8327898550724638, 0.8327898550724638, 0.8327898550724638, 0.8327898550724638, 0.8327898550724638, 0.8327898550724638, 0.8327898550724638, 0.8327898550724638, 0.8327898550724638, 0.8409420289855072, 0.8409420289855072, 0.8409420289855072, 0.8409420289855072, 0.8409420289855072, 0.8409420289855072, 0.8409420289855072, 0.8409420289855072, 0.8409420289855072, 0.8409420289855072, 0.8409420289855072, 0.8409420289855072, 0.8409420289855072, 0.8409420289855072, 0.8409420289855072, 0.8409420289855072, 0.8409420289855072, 0.8409420289855072, 0.8409420289855072, 0.8409420289855072, 0.8494565217391304, 0.8494565217391304, 0.8494565217391304, 0.8494565217391304, 0.8494565217391304, 0.8494565217391304, 0.8494565217391304, 0.8494565217391304, 0.8494565217391304]}], \"precision_score_micro\": [{\"categories\": [\"0\", \"1\", \"2\", \"3\", \"4\", \"5\", \"6\", \"7\", \"8\", \"9\", \"10\", \"11\", \"12\", \"13\", \"14\", \"15\", \"16\", \"17\", \"18\", \"19\", \"20\", \"21\", \"22\", \"23\", \"24\", \"25\", \"26\", \"27\", \"28\", \"29\", \"30\", \"31\", \"32\", \"33\", \"34\", \"35\", \"36\", \"37\", \"38\", \"39\", \"40\", \"41\", \"42\", \"43\", \"44\", \"45\", \"49\", \"50\"], \"mode\": \"markers\", \"name\": \"precision_score_micro\", \"stepped\": false, \"type\": \"scatter\", \"data\": [0.803623188405797, 0.8327898550724638, 0.8284420289855072, 0.7617753623188406, 0.8077898550724638, 0.816304347826087, 0.8324275362318841, 0.8202898550724639, 0.7574275362318841, 0.7244565217391306, 0.7659420289855073, 0.7994565217391305, 0.8284420289855072, 0.7824275362318841, 0.7951086956521739, 0.6237318840579709, 0.7701086956521739, 0.7617753623188406, 0.8034420289855072, 0.8409420289855072, 0.8034420289855072, 0.7536231884057971, 0.7911231884057971, 0.8409420289855072, 0.8077898550724637, 0.8329710144927537, 0.6945652173913043, 0.8246376811594203, 0.7240942028985506, 0.8286231884057971, 0.6570652173913043, 0.8284420289855072, 0.8327898550724638, 0.8244565217391304, 0.8034420289855072, 0.8119565217391305, 0.8119565217391305, 0.8032608695652174, 0.8119565217391305, 0.8494565217391304, 0.8327898550724637, 0.8242753623188405, 0.8286231884057971, 0.8327898550724637, 0.8494565217391304, 0.8244565217391303, 0.841123188405797, 0.803623188405797]}, {\"categories\": [\"0\", \"1\", \"2\", \"3\", \"4\", \"5\", \"6\", \"7\", \"8\", \"9\", \"10\", \"11\", \"12\", \"13\", \"14\", \"15\", \"16\", \"17\", \"18\", \"19\", \"20\", \"21\", \"22\", \"23\", \"24\", \"25\", \"26\", \"27\", \"28\", \"29\", \"30\", \"31\", \"32\", \"33\", \"34\", \"35\", \"36\", \"37\", \"38\", \"39\", \"40\", \"41\", \"42\", \"43\", \"44\", \"45\", \"49\", \"50\"], \"mode\": \"lines\", \"name\": \"precision_score_micro_max\", \"stepped\": true, \"type\": \"scatter\", \"data\": [0.803623188405797, 0.8327898550724638, 0.8327898550724638, 0.8327898550724638, 0.8327898550724638, 0.8327898550724638, 0.8327898550724638, 0.8327898550724638, 0.8327898550724638, 0.8327898550724638, 0.8327898550724638, 0.8327898550724638, 0.8327898550724638, 0.8327898550724638, 0.8327898550724638, 0.8327898550724638, 0.8327898550724638, 0.8327898550724638, 0.8327898550724638, 0.8409420289855072, 0.8409420289855072, 0.8409420289855072, 0.8409420289855072, 0.8409420289855072, 0.8409420289855072, 0.8409420289855072, 0.8409420289855072, 0.8409420289855072, 0.8409420289855072, 0.8409420289855072, 0.8409420289855072, 0.8409420289855072, 0.8409420289855072, 0.8409420289855072, 0.8409420289855072, 0.8409420289855072, 0.8409420289855072, 0.8409420289855072, 0.8409420289855072, 0.8494565217391304, 0.8494565217391304, 0.8494565217391304, 0.8494565217391304, 0.8494565217391304, 0.8494565217391304, 0.8494565217391304, 0.8494565217391304, 0.8494565217391304]}], \"recall_score_macro\": [{\"categories\": [\"0\", \"1\", \"2\", \"3\", \"4\", \"5\", \"6\", \"7\", \"8\", \"9\", \"10\", \"11\", \"12\", \"13\", \"14\", \"15\", \"16\", \"17\", \"18\", \"19\", \"20\", \"21\", \"22\", \"23\", \"24\", \"25\", \"26\", \"27\", \"28\", \"29\", \"30\", \"31\", \"32\", \"33\", \"34\", \"35\", \"36\", \"37\", \"38\", \"39\", \"40\", \"41\", \"42\", \"43\", \"44\", \"45\", \"49\", \"50\"], \"mode\": \"markers\", \"name\": \"recall_score_macro\", \"stepped\": false, \"type\": \"scatter\", \"data\": [0.7736210317460317, 0.8073313492063491, 0.8072718253968254, 0.6850892857142856, 0.7878769841269841, 0.7883134920634921, 0.8002678571428572, 0.7688789682539682, 0.6715674603174604, 0.6502579365079365, 0.674890873015873, 0.7462698412698412, 0.8226289682539683, 0.7425297619047619, 0.775654761904762, 0.5407142857142857, 0.6857837301587303, 0.7390972222222223, 0.7944642857142858, 0.8146031746031746, 0.7729067460317461, 0.7314186507936509, 0.7641071428571429, 0.799047619047619, 0.7633234126984128, 0.7834821428571428, 0.5542956349206349, 0.8072718253968254, 0.6349503968253969, 0.8207440476190477, 0.5, 0.8179662698412699, 0.8181746031746032, 0.8071726190476192, 0.7731646825396826, 0.8034920634920635, 0.7852579365079365, 0.7479464285714286, 0.7861607142857142, 0.8417857142857142, 0.8214384920634921, 0.8208531746031745, 0.8105357142857142, 0.831547619047619, 0.826329365079365, 0.8327281746031747, 0.8138293650793651, 0.7264980158730159]}, {\"categories\": [\"0\", \"1\", \"2\", \"3\", \"4\", \"5\", \"6\", \"7\", \"8\", \"9\", \"10\", \"11\", \"12\", \"13\", \"14\", \"15\", \"16\", \"17\", \"18\", \"19\", \"20\", \"21\", \"22\", \"23\", \"24\", \"25\", \"26\", \"27\", \"28\", \"29\", \"30\", \"31\", \"32\", \"33\", \"34\", \"35\", \"36\", \"37\", \"38\", \"39\", \"40\", \"41\", \"42\", \"43\", \"44\", \"45\", \"49\", \"50\"], \"mode\": \"lines\", \"name\": \"recall_score_macro_max\", \"stepped\": true, \"type\": \"scatter\", \"data\": [0.7736210317460317, 0.8073313492063491, 0.8073313492063491, 0.8073313492063491, 0.8073313492063491, 0.8073313492063491, 0.8073313492063491, 0.8073313492063491, 0.8073313492063491, 0.8073313492063491, 0.8073313492063491, 0.8073313492063491, 0.8226289682539683, 0.8226289682539683, 0.8226289682539683, 0.8226289682539683, 0.8226289682539683, 0.8226289682539683, 0.8226289682539683, 0.8226289682539683, 0.8226289682539683, 0.8226289682539683, 0.8226289682539683, 0.8226289682539683, 0.8226289682539683, 0.8226289682539683, 0.8226289682539683, 0.8226289682539683, 0.8226289682539683, 0.8226289682539683, 0.8226289682539683, 0.8226289682539683, 0.8226289682539683, 0.8226289682539683, 0.8226289682539683, 0.8226289682539683, 0.8226289682539683, 0.8226289682539683, 0.8226289682539683, 0.8417857142857142, 0.8417857142857142, 0.8417857142857142, 0.8417857142857142, 0.8417857142857142, 0.8417857142857142, 0.8417857142857142, 0.8417857142857142, 0.8417857142857142]}], \"precision_score_macro\": [{\"categories\": [\"0\", \"1\", \"2\", \"3\", \"4\", \"5\", \"6\", \"7\", \"8\", \"9\", \"10\", \"11\", \"12\", \"13\", \"14\", \"15\", \"16\", \"17\", \"18\", \"19\", \"20\", \"21\", \"22\", \"23\", \"24\", \"25\", \"26\", \"27\", \"28\", \"29\", \"30\", \"31\", \"32\", \"33\", \"34\", \"35\", \"36\", \"37\", \"38\", \"39\", \"40\", \"41\", \"42\", \"43\", \"44\", \"45\", \"49\", \"50\"], \"mode\": \"markers\", \"name\": \"precision_score_macro\", \"stepped\": false, \"type\": \"scatter\", \"data\": [0.8126825341840822, 0.8394327731092437, 0.8277629764026824, 0.8159103374377974, 0.8030567226890757, 0.8129555506413093, 0.8289255732657435, 0.8300485081523075, 0.7263887436952452, 0.7443658830288928, 0.8236500084396841, 0.8295976014010071, 0.8114841359191205, 0.7740350688183506, 0.7934947976859742, 0.5615571711140597, 0.8159978544846964, 0.7559244883083892, 0.8018448212004714, 0.8398336834733893, 0.7996073517126149, 0.7467350116343925, 0.7930114983056159, 0.8521660937102113, 0.8118513731710326, 0.8509349460608041, 0.6171866177300961, 0.8221440242763773, 0.7325371307249757, 0.8272432306255835, 0.32853260869565215, 0.825561578943932, 0.831055488629018, 0.8224840600575896, 0.8085834573063675, 0.8103470793911971, 0.8131243249354705, 0.8136310445230723, 0.8159469452116511, 0.8462830796654327, 0.8312907231657232, 0.8267037700861231, 0.8229271708683473, 0.8297229731053261, 0.8490610410831, 0.8241618359710465, 0.8400332633053221, 0.706392175291169]}, {\"categories\": [\"0\", \"1\", \"2\", \"3\", \"4\", \"5\", \"6\", \"7\", \"8\", \"9\", \"10\", \"11\", \"12\", \"13\", \"14\", \"15\", \"16\", \"17\", \"18\", \"19\", \"20\", \"21\", \"22\", \"23\", \"24\", \"25\", \"26\", \"27\", \"28\", \"29\", \"30\", \"31\", \"32\", \"33\", \"34\", \"35\", \"36\", \"37\", \"38\", \"39\", \"40\", \"41\", \"42\", \"43\", \"44\", \"45\", \"49\", \"50\"], \"mode\": \"lines\", \"name\": \"precision_score_macro_max\", \"stepped\": true, \"type\": \"scatter\", \"data\": [0.8126825341840822, 0.8394327731092437, 0.8394327731092437, 0.8394327731092437, 0.8394327731092437, 0.8394327731092437, 0.8394327731092437, 0.8394327731092437, 0.8394327731092437, 0.8394327731092437, 0.8394327731092437, 0.8394327731092437, 0.8394327731092437, 0.8394327731092437, 0.8394327731092437, 0.8394327731092437, 0.8394327731092437, 0.8394327731092437, 0.8394327731092437, 0.8398336834733893, 0.8398336834733893, 0.8398336834733893, 0.8398336834733893, 0.8521660937102113, 0.8521660937102113, 0.8521660937102113, 0.8521660937102113, 0.8521660937102113, 0.8521660937102113, 0.8521660937102113, 0.8521660937102113, 0.8521660937102113, 0.8521660937102113, 0.8521660937102113, 0.8521660937102113, 0.8521660937102113, 0.8521660937102113, 0.8521660937102113, 0.8521660937102113, 0.8521660937102113, 0.8521660937102113, 0.8521660937102113, 0.8521660937102113, 0.8521660937102113, 0.8521660937102113, 0.8521660937102113, 0.8521660937102113, 0.8521660937102113]}], \"weighted_accuracy\": [{\"categories\": [\"0\", \"1\", \"2\", \"3\", \"4\", \"5\", \"6\", \"7\", \"8\", \"9\", \"10\", \"11\", \"12\", \"13\", \"14\", \"15\", \"16\", \"17\", \"18\", \"19\", \"20\", \"21\", \"22\", \"23\", \"24\", \"25\", \"26\", \"27\", \"28\", \"29\", \"30\", \"31\", \"32\", \"33\", \"34\", \"35\", \"36\", \"37\", \"38\", \"39\", \"40\", \"41\", \"42\", \"43\", \"44\", \"45\", \"49\", \"50\"], \"mode\": \"markers\", \"name\": \"weighted_accuracy\", \"stepped\": false, \"type\": \"scatter\", \"data\": [0.8281719400210239, 0.8530407794486867, 0.8447569869773341, 0.821591323724882, 0.8232239785590799, 0.8376957960853814, 0.8574049362766816, 0.8586483011458904, 0.8242118203063237, 0.7809592162075287, 0.8350654608320955, 0.8416292232444595, 0.8321562980531159, 0.8128421381844719, 0.8103429417846005, 0.6877134970071325, 0.8356520020502665, 0.7780482941958352, 0.8106684867123632, 0.8608159147575734, 0.82644124597114, 0.7718183081828212, 0.812052438166228, 0.8726419331578444, 0.8407968455437116, 0.8701378717193569, 0.8004669133936252, 0.838189966726611, 0.7925146819915383, 0.8343616591519195, 0.7769550939560583, 0.836174581041987, 0.843822443465645, 0.8377731588869486, 0.8269694936016055, 0.8195378647693016, 0.8332421572971235, 0.8454935407924801, 0.8327029416108489, 0.8547047964068215, 0.8410813199892274, 0.8267879885671594, 0.8421027826283372, 0.8338966353045427, 0.8671345791307218, 0.8189416803495877, 0.8621345791307219, 0.8577214895705735]}, {\"categories\": [\"0\", \"1\", \"2\", \"3\", \"4\", \"5\", \"6\", \"7\", \"8\", \"9\", \"10\", \"11\", \"12\", \"13\", \"14\", \"15\", \"16\", \"17\", \"18\", \"19\", \"20\", \"21\", \"22\", \"23\", \"24\", \"25\", \"26\", \"27\", \"28\", \"29\", \"30\", \"31\", \"32\", \"33\", \"34\", \"35\", \"36\", \"37\", \"38\", \"39\", \"40\", \"41\", \"42\", \"43\", \"44\", \"45\", \"49\", \"50\"], \"mode\": \"lines\", \"name\": \"weighted_accuracy_max\", \"stepped\": true, \"type\": \"scatter\", \"data\": [0.8281719400210239, 0.8530407794486867, 0.8530407794486867, 0.8530407794486867, 0.8530407794486867, 0.8530407794486867, 0.8574049362766816, 0.8586483011458904, 0.8586483011458904, 0.8586483011458904, 0.8586483011458904, 0.8586483011458904, 0.8586483011458904, 0.8586483011458904, 0.8586483011458904, 0.8586483011458904, 0.8586483011458904, 0.8586483011458904, 0.8586483011458904, 0.8608159147575734, 0.8608159147575734, 0.8608159147575734, 0.8608159147575734, 0.8726419331578444, 0.8726419331578444, 0.8726419331578444, 0.8726419331578444, 0.8726419331578444, 0.8726419331578444, 0.8726419331578444, 0.8726419331578444, 0.8726419331578444, 0.8726419331578444, 0.8726419331578444, 0.8726419331578444, 0.8726419331578444, 0.8726419331578444, 0.8726419331578444, 0.8726419331578444, 0.8726419331578444, 0.8726419331578444, 0.8726419331578444, 0.8726419331578444, 0.8726419331578444, 0.8726419331578444, 0.8726419331578444, 0.8726419331578444, 0.8726419331578444]}], \"AUC_weighted\": [{\"categories\": [\"0\", \"1\", \"2\", \"3\", \"4\", \"5\", \"6\", \"7\", \"8\", \"9\", \"10\", \"11\", \"12\", \"13\", \"14\", \"15\", \"16\", \"17\", \"18\", \"19\", \"20\", \"21\", \"22\", \"23\", \"24\", \"25\", \"26\", \"27\", \"28\", \"29\", \"30\", \"31\", \"32\", \"33\", \"34\", \"35\", \"36\", \"37\", \"38\", \"39\", \"40\", \"41\", \"42\", \"43\", \"44\", \"45\", \"49\", \"50\"], \"mode\": \"markers\", \"name\": \"AUC_weighted\", \"stepped\": false, \"type\": \"scatter\", \"data\": [0.8900892857142857, 0.887889384920635, 0.883013392857143, 0.8694618055555556, 0.8901570767195768, 0.8905100859788359, 0.8758006779100528, 0.8831068121693122, 0.8974065806878307, 0.7183440806878306, 0.8792848875661374, 0.8909209656084656, 0.8925603505291004, 0.8491674933862434, 0.8918212632275132, 0.5875868055555555, 0.8673214285714288, 0.8278125, 0.8878232473544975, 0.8926322751322753, 0.8685739087301588, 0.829024470899471, 0.8667675264550265, 0.898463955026455, 0.8663070436507937, 0.8691459986772487, 0.8615848214285714, 0.8907539682539684, 0.7896536044973546, 0.9130572089947091, 0.4964174107142857, 0.9036524470899471, 0.9042129629629629, 0.9020940806878308, 0.86942542989418, 0.8858325066137567, 0.8883912037037037, 0.890009093915344, 0.8877356150793652, 0.9106531084656085, 0.9078182870370369, 0.9009912367724866, 0.8736755952380953, 0.9111193783068783, 0.9067261904761905, 0.8941170634920634, 0.9252041997354498, 0.918059689153439]}, {\"categories\": [\"0\", \"1\", \"2\", \"3\", \"4\", \"5\", \"6\", \"7\", \"8\", \"9\", \"10\", \"11\", \"12\", \"13\", \"14\", \"15\", \"16\", \"17\", \"18\", \"19\", \"20\", \"21\", \"22\", \"23\", \"24\", \"25\", \"26\", \"27\", \"28\", \"29\", \"30\", \"31\", \"32\", \"33\", \"34\", \"35\", \"36\", \"37\", \"38\", \"39\", \"40\", \"41\", \"42\", \"43\", \"44\", \"45\", \"49\", \"50\"], \"mode\": \"lines\", \"name\": \"AUC_weighted_max\", \"stepped\": true, \"type\": \"scatter\", \"data\": [0.8900892857142857, 0.8900892857142857, 0.8900892857142857, 0.8900892857142857, 0.8901570767195768, 0.8905100859788359, 0.8905100859788359, 0.8905100859788359, 0.8974065806878307, 0.8974065806878307, 0.8974065806878307, 0.8974065806878307, 0.8974065806878307, 0.8974065806878307, 0.8974065806878307, 0.8974065806878307, 0.8974065806878307, 0.8974065806878307, 0.8974065806878307, 0.8974065806878307, 0.8974065806878307, 0.8974065806878307, 0.8974065806878307, 0.898463955026455, 0.898463955026455, 0.898463955026455, 0.898463955026455, 0.898463955026455, 0.898463955026455, 0.9130572089947091, 0.9130572089947091, 0.9130572089947091, 0.9130572089947091, 0.9130572089947091, 0.9130572089947091, 0.9130572089947091, 0.9130572089947091, 0.9130572089947091, 0.9130572089947091, 0.9130572089947091, 0.9130572089947091, 0.9130572089947091, 0.9130572089947091, 0.9130572089947091, 0.9130572089947091, 0.9130572089947091, 0.9252041997354498, 0.9252041997354498]}], \"average_precision_score_micro\": [{\"categories\": [\"0\", \"1\", \"2\", \"3\", \"4\", \"5\", \"6\", \"7\", \"8\", \"9\", \"10\", \"11\", \"12\", \"13\", \"14\", \"15\", \"16\", \"17\", \"18\", \"19\", \"20\", \"21\", \"22\", \"23\", \"24\", \"25\", \"26\", \"27\", \"28\", \"29\", \"30\", \"31\", \"32\", \"33\", \"34\", \"35\", \"36\", \"37\", \"38\", \"39\", \"40\", \"41\", \"42\", \"43\", \"44\", \"45\", \"49\", \"50\"], \"mode\": \"markers\", \"name\": \"average_precision_score_micro\", \"stepped\": false, \"type\": \"scatter\", \"data\": [0.8883364970720043, 0.9012837561354352, 0.8996104074661672, 0.8733594972399459, 0.9021730668760106, 0.9044235916225561, 0.8893007931853918, 0.890256076483419, 0.8805042487037751, 0.7711136281863581, 0.8763437209118198, 0.8932047496822184, 0.900847184255319, 0.8776142679395731, 0.8993573609912169, 0.6861431613770802, 0.8660204129689983, 0.8427156511008507, 0.8925462296647645, 0.9028369366934677, 0.8806296492299666, 0.8493483527693542, 0.878587522534529, 0.9010710883476365, 0.8879196283666408, 0.8883741096537857, 0.8439140739126507, 0.899574644128822, 0.8270749447754193, 0.9158889996465807, 0.6068452683251279, 0.9066743408354879, 0.9100296661684129, 0.9120482629962036, 0.8820449040960867, 0.8972569156469422, 0.898237450414429, 0.9002331339721801, 0.8910214596978074, 0.9138098965297858, 0.9097959213659512, 0.9078164744748187, 0.8892329673453879, 0.913759861862599, 0.9168332471558409, 0.9000767416688354, 0.9259804151874089, 0.910237231519049]}, {\"categories\": [\"0\", \"1\", \"2\", \"3\", \"4\", \"5\", \"6\", \"7\", \"8\", \"9\", \"10\", \"11\", \"12\", \"13\", \"14\", \"15\", \"16\", \"17\", \"18\", \"19\", \"20\", \"21\", \"22\", \"23\", \"24\", \"25\", \"26\", \"27\", \"28\", \"29\", \"30\", \"31\", \"32\", \"33\", \"34\", \"35\", \"36\", \"37\", \"38\", \"39\", \"40\", \"41\", \"42\", \"43\", \"44\", \"45\", \"49\", \"50\"], \"mode\": \"lines\", \"name\": \"average_precision_score_micro_max\", \"stepped\": true, \"type\": \"scatter\", \"data\": [0.8883364970720043, 0.9012837561354352, 0.9012837561354352, 0.9012837561354352, 0.9021730668760106, 0.9044235916225561, 0.9044235916225561, 0.9044235916225561, 0.9044235916225561, 0.9044235916225561, 0.9044235916225561, 0.9044235916225561, 0.9044235916225561, 0.9044235916225561, 0.9044235916225561, 0.9044235916225561, 0.9044235916225561, 0.9044235916225561, 0.9044235916225561, 0.9044235916225561, 0.9044235916225561, 0.9044235916225561, 0.9044235916225561, 0.9044235916225561, 0.9044235916225561, 0.9044235916225561, 0.9044235916225561, 0.9044235916225561, 0.9044235916225561, 0.9158889996465807, 0.9158889996465807, 0.9158889996465807, 0.9158889996465807, 0.9158889996465807, 0.9158889996465807, 0.9158889996465807, 0.9158889996465807, 0.9158889996465807, 0.9158889996465807, 0.9158889996465807, 0.9158889996465807, 0.9158889996465807, 0.9158889996465807, 0.9158889996465807, 0.9168332471558409, 0.9168332471558409, 0.9259804151874089, 0.9259804151874089]}], \"matthews_correlation\": [{\"categories\": [\"0\", \"1\", \"2\", \"3\", \"4\", \"5\", \"6\", \"7\", \"8\", \"9\", \"10\", \"11\", \"12\", \"13\", \"14\", \"15\", \"16\", \"17\", \"18\", \"19\", \"20\", \"21\", \"22\", \"23\", \"24\", \"25\", \"26\", \"27\", \"28\", \"29\", \"30\", \"31\", \"32\", \"33\", \"34\", \"35\", \"36\", \"37\", \"38\", \"39\", \"40\", \"41\", \"42\", \"43\", \"44\", \"45\", \"49\", \"50\"], \"mode\": \"markers\", \"name\": \"matthews_correlation\", \"stepped\": false, \"type\": \"scatter\", \"data\": [0.5811470680333605, 0.6424444597531219, 0.6313435093999625, 0.46171217235021905, 0.5879001275757071, 0.5975115909607934, 0.6260461004265852, 0.5850325952413022, 0.41378642238536145, 0.37193017783606275, 0.4637071814725894, 0.561337590305881, 0.6331057632409698, 0.5137287091393314, 0.5647793245716131, 0.09891081243656913, 0.4754723862362016, 0.49280003512457754, 0.595001919542843, 0.6507755527252388, 0.5687424054695822, 0.4762303251897319, 0.5495624577195255, 0.6436827747879307, 0.567432664958045, 0.6199622435409394, 0.19620670267001203, 0.6262228925951474, 0.3449833836807271, 0.6446734657728757, 0.0, 0.6401983961978082, 0.6458113221619313, 0.626244379768902, 0.5744518209244276, 0.6120714311474734, 0.5941280458829983, 0.5545111552097075, 0.5980200319423403, 0.6846927282049803, 0.6492068799888975, 0.6442328006165374, 0.6301654579489949, 0.6594309090168728, 0.6718763286133722, 0.6559141877054346, 0.6502011576597584, 0.4757822412432039]}, {\"categories\": [\"0\", \"1\", \"2\", \"3\", \"4\", \"5\", \"6\", \"7\", \"8\", \"9\", \"10\", \"11\", \"12\", \"13\", \"14\", \"15\", \"16\", \"17\", \"18\", \"19\", \"20\", \"21\", \"22\", \"23\", \"24\", \"25\", \"26\", \"27\", \"28\", \"29\", \"30\", \"31\", \"32\", \"33\", \"34\", \"35\", \"36\", \"37\", \"38\", \"39\", \"40\", \"41\", \"42\", \"43\", \"44\", \"45\", \"49\", \"50\"], \"mode\": \"lines\", \"name\": \"matthews_correlation_max\", \"stepped\": true, \"type\": \"scatter\", \"data\": [0.5811470680333605, 0.6424444597531219, 0.6424444597531219, 0.6424444597531219, 0.6424444597531219, 0.6424444597531219, 0.6424444597531219, 0.6424444597531219, 0.6424444597531219, 0.6424444597531219, 0.6424444597531219, 0.6424444597531219, 0.6424444597531219, 0.6424444597531219, 0.6424444597531219, 0.6424444597531219, 0.6424444597531219, 0.6424444597531219, 0.6424444597531219, 0.6507755527252388, 0.6507755527252388, 0.6507755527252388, 0.6507755527252388, 0.6507755527252388, 0.6507755527252388, 0.6507755527252388, 0.6507755527252388, 0.6507755527252388, 0.6507755527252388, 0.6507755527252388, 0.6507755527252388, 0.6507755527252388, 0.6507755527252388, 0.6507755527252388, 0.6507755527252388, 0.6507755527252388, 0.6507755527252388, 0.6507755527252388, 0.6507755527252388, 0.6846927282049803, 0.6846927282049803, 0.6846927282049803, 0.6846927282049803, 0.6846927282049803, 0.6846927282049803, 0.6846927282049803, 0.6846927282049803, 0.6846927282049803]}], \"norm_macro_recall\": [{\"categories\": [\"0\", \"1\", \"2\", \"3\", \"4\", \"5\", \"6\", \"7\", \"8\", \"9\", \"10\", \"11\", \"12\", \"13\", \"14\", \"15\", \"16\", \"17\", \"18\", \"19\", \"20\", \"21\", \"22\", \"23\", \"24\", \"25\", \"26\", \"27\", \"28\", \"29\", \"30\", \"31\", \"32\", \"33\", \"34\", \"35\", \"36\", \"37\", \"38\", \"39\", \"40\", \"41\", \"42\", \"43\", \"44\", \"45\", \"49\", \"50\"], \"mode\": \"markers\", \"name\": \"norm_macro_recall\", \"stepped\": false, \"type\": \"scatter\", \"data\": [0.5472420634920635, 0.6146626984126984, 0.6145436507936507, 0.3701785714285715, 0.5757539682539683, 0.5766269841269841, 0.6005357142857143, 0.5377579365079366, 0.3431349206349207, 0.30051587301587296, 0.349781746031746, 0.49253968253968256, 0.6452579365079366, 0.4850595238095238, 0.5513095238095239, 0.11482142857142852, 0.37156746031746035, 0.4781944444444445, 0.5889285714285716, 0.6292063492063493, 0.5458134920634921, 0.46283730158730163, 0.5282142857142857, 0.5980952380952381, 0.5266468253968254, 0.5669642857142858, 0.10859126984126985, 0.6145436507936508, 0.2824007936507937, 0.6414880952380952, 0.0, 0.6359325396825397, 0.6363492063492063, 0.6143452380952381, 0.5463293650793651, 0.606984126984127, 0.570515873015873, 0.49589285714285714, 0.5723214285714285, 0.6835714285714285, 0.6428769841269841, 0.6417063492063493, 0.6210714285714285, 0.6630952380952382, 0.6526587301587302, 0.6654563492063492, 0.6276587301587302, 0.45299603174603176]}, {\"categories\": [\"0\", \"1\", \"2\", \"3\", \"4\", \"5\", \"6\", \"7\", \"8\", \"9\", \"10\", \"11\", \"12\", \"13\", \"14\", \"15\", \"16\", \"17\", \"18\", \"19\", \"20\", \"21\", \"22\", \"23\", \"24\", \"25\", \"26\", \"27\", \"28\", \"29\", \"30\", \"31\", \"32\", \"33\", \"34\", \"35\", \"36\", \"37\", \"38\", \"39\", \"40\", \"41\", \"42\", \"43\", \"44\", \"45\", \"49\", \"50\"], \"mode\": \"lines\", \"name\": \"norm_macro_recall_max\", \"stepped\": true, \"type\": \"scatter\", \"data\": [0.5472420634920635, 0.6146626984126984, 0.6146626984126984, 0.6146626984126984, 0.6146626984126984, 0.6146626984126984, 0.6146626984126984, 0.6146626984126984, 0.6146626984126984, 0.6146626984126984, 0.6146626984126984, 0.6146626984126984, 0.6452579365079366, 0.6452579365079366, 0.6452579365079366, 0.6452579365079366, 0.6452579365079366, 0.6452579365079366, 0.6452579365079366, 0.6452579365079366, 0.6452579365079366, 0.6452579365079366, 0.6452579365079366, 0.6452579365079366, 0.6452579365079366, 0.6452579365079366, 0.6452579365079366, 0.6452579365079366, 0.6452579365079366, 0.6452579365079366, 0.6452579365079366, 0.6452579365079366, 0.6452579365079366, 0.6452579365079366, 0.6452579365079366, 0.6452579365079366, 0.6452579365079366, 0.6452579365079366, 0.6452579365079366, 0.6835714285714285, 0.6835714285714285, 0.6835714285714285, 0.6835714285714285, 0.6835714285714285, 0.6835714285714285, 0.6835714285714285, 0.6835714285714285, 0.6835714285714285]}]}, \"metricName\": null, \"primaryMetricName\": \"AUC_weighted\", \"showLegend\": false}, \"run_metrics\": [{\"name\": \"experiment_status\", \"run_id\": \"AutoML_1f80ec7f-b587-44f7-9c98-a3e687eea30f\", \"categories\": [0, 1, 2, 3, 4, 5, 6, 7, 8, 9, 10, 11, 12, 13], \"series\": [{\"data\": [\"DatasetEvaluation\", \"FeaturesGeneration\", \"DatasetFeaturization\", \"DatasetFeaturizationCompleted\", \"DatasetCrossValidationSplit\", \"ModelSelection\", \"BestRunExplainModel\", \"ModelExplanationDataSetSetup\", \"PickSurrogateModel\", \"EngineeredFeatureExplanations\", \"EngineeredFeatureExplanations\", \"RawFeaturesExplanations\", \"RawFeaturesExplanations\", \"BestRunExplainModel\"]}]}, {\"name\": \"experiment_status_description\", \"run_id\": \"AutoML_1f80ec7f-b587-44f7-9c98-a3e687eea30f\", \"categories\": [0, 1, 2, 3, 4, 5, 6, 7, 8, 9, 10, 11, 12, 13], \"series\": [{\"data\": [\"Gathering dataset statistics.\", \"Generating features for the dataset.\", \"Beginning to fit featurizers and featurize the dataset.\", \"Completed fit featurizers and featurizing the dataset.\", \"Generating individually featurized CV splits.\", \"Beginning model selection.\", \"Best run model explanations started\", \"Model explanations data setup completed\", \"Choosing LightGBM as the surrogate model for explanations\", \"Computation of engineered features started\", \"Computation of engineered features completed\", \"Computation of raw features started\", \"Computation of raw features completed\", \"Best run model explanations completed\"]}]}, {\"name\": \"AUC_micro\", \"run_id\": \"AutoML_1f80ec7f-b587-44f7-9c98-a3e687eea30f\", \"categories\": [0], \"series\": [{\"data\": [0.919599020688931]}]}, {\"name\": \"recall_score_macro\", \"run_id\": \"AutoML_1f80ec7f-b587-44f7-9c98-a3e687eea30f\", \"categories\": [0], \"series\": [{\"data\": [0.8138293650793651]}]}, {\"name\": \"log_loss\", \"run_id\": \"AutoML_1f80ec7f-b587-44f7-9c98-a3e687eea30f\", \"categories\": [0], \"series\": [{\"data\": [0.4410591320715457]}]}, {\"name\": \"norm_macro_recall\", \"run_id\": \"AutoML_1f80ec7f-b587-44f7-9c98-a3e687eea30f\", \"categories\": [0], \"series\": [{\"data\": [0.6276587301587302]}]}, {\"name\": \"average_precision_score_weighted\", \"run_id\": \"AutoML_1f80ec7f-b587-44f7-9c98-a3e687eea30f\", \"categories\": [0], \"series\": [{\"data\": [0.9382618655622046]}]}, {\"name\": \"matthews_correlation\", \"run_id\": \"AutoML_1f80ec7f-b587-44f7-9c98-a3e687eea30f\", \"categories\": [0], \"series\": [{\"data\": [0.6502011576597584]}]}, {\"name\": \"recall_score_weighted\", \"run_id\": \"AutoML_1f80ec7f-b587-44f7-9c98-a3e687eea30f\", \"categories\": [0], \"series\": [{\"data\": [0.841123188405797]}]}, {\"name\": \"accuracy\", \"run_id\": \"AutoML_1f80ec7f-b587-44f7-9c98-a3e687eea30f\", \"categories\": [0], \"series\": [{\"data\": [0.841123188405797]}]}, {\"name\": \"AUC_macro\", \"run_id\": \"AutoML_1f80ec7f-b587-44f7-9c98-a3e687eea30f\", \"categories\": [0], \"series\": [{\"data\": [0.9252041997354498]}]}, {\"name\": \"average_precision_score_macro\", \"run_id\": \"AutoML_1f80ec7f-b587-44f7-9c98-a3e687eea30f\", \"categories\": [0], \"series\": [{\"data\": [0.9225799004372023]}]}, {\"name\": \"f1_score_macro\", \"run_id\": \"AutoML_1f80ec7f-b587-44f7-9c98-a3e687eea30f\", \"categories\": [0], \"series\": [{\"data\": [0.8140473635159422]}]}, {\"name\": \"AUC_weighted\", \"run_id\": \"AutoML_1f80ec7f-b587-44f7-9c98-a3e687eea30f\", \"categories\": [0], \"series\": [{\"data\": [0.9252041997354498]}]}, {\"name\": \"precision_score_weighted\", \"run_id\": \"AutoML_1f80ec7f-b587-44f7-9c98-a3e687eea30f\", \"categories\": [0], \"series\": [{\"data\": [0.8531663867237717]}]}, {\"name\": \"precision_score_micro\", \"run_id\": \"AutoML_1f80ec7f-b587-44f7-9c98-a3e687eea30f\", \"categories\": [0], \"series\": [{\"data\": [0.841123188405797]}]}, {\"name\": \"recall_score_micro\", \"run_id\": \"AutoML_1f80ec7f-b587-44f7-9c98-a3e687eea30f\", \"categories\": [0], \"series\": [{\"data\": [0.841123188405797]}]}, {\"name\": \"balanced_accuracy\", \"run_id\": \"AutoML_1f80ec7f-b587-44f7-9c98-a3e687eea30f\", \"categories\": [0], \"series\": [{\"data\": [0.8138293650793651]}]}, {\"name\": \"f1_score_micro\", \"run_id\": \"AutoML_1f80ec7f-b587-44f7-9c98-a3e687eea30f\", \"categories\": [0], \"series\": [{\"data\": [0.841123188405797]}]}, {\"name\": \"f1_score_weighted\", \"run_id\": \"AutoML_1f80ec7f-b587-44f7-9c98-a3e687eea30f\", \"categories\": [0], \"series\": [{\"data\": [0.8376511297435776]}]}, {\"name\": \"average_precision_score_micro\", \"run_id\": \"AutoML_1f80ec7f-b587-44f7-9c98-a3e687eea30f\", \"categories\": [0], \"series\": [{\"data\": [0.9259804151874089]}]}, {\"name\": \"precision_score_macro\", \"run_id\": \"AutoML_1f80ec7f-b587-44f7-9c98-a3e687eea30f\", \"categories\": [0], \"series\": [{\"data\": [0.8400332633053221]}]}, {\"name\": \"weighted_accuracy\", \"run_id\": \"AutoML_1f80ec7f-b587-44f7-9c98-a3e687eea30f\", \"categories\": [0], \"series\": [{\"data\": [0.8621345791307219]}]}], \"run_logs\": \"\\nRun is completed.\", \"graph\": {}, \"widget_settings\": {\"childWidgetDisplay\": \"popup\", \"send_telemetry\": false, \"log_level\": \"INFO\", \"sdk_version\": \"1.19.0\"}, \"loading\": false}"
          },
          "metadata": {}
        }
      ],
      "execution_count": 10,
      "metadata": {
        "collapsed": true,
        "gather": {
          "logged": 1609783469465
        },
        "jupyter": {
          "outputs_hidden": false,
          "source_hidden": false
        },
        "nteract": {
          "transient": {
            "deleting": false
          }
        }
      }
    },
    {
      "cell_type": "markdown",
      "source": [
        "## Run Details\n",
        "\n",
        "OPTIONAL: Write about the different models trained and their performance. Why do you think some models did better than others?\n",
        "\n",
        "TODO: In the cell below, use the `RunDetails` widget to show the different experiments."
      ],
      "metadata": {}
    },
    {
      "cell_type": "code",
      "source": [
        "remote_run.wait_for_completion(show_output=True)"
      ],
      "outputs": [
        {
          "output_type": "stream",
          "name": "stdout",
          "text": [
            "\n",
            "\n",
            "****************************************************************************************************\n",
            "DATA GUARDRAILS: \n",
            "\n",
            "TYPE:         Cross validation\n",
            "STATUS:       DONE\n",
            "DESCRIPTION:  Each iteration of the trained model was validated through cross-validation.\n",
            "              \n",
            "DETAILS:      \n",
            "+---------------------------------+\n",
            "|Number of folds                  |\n",
            "+=================================+\n",
            "|10                               |\n",
            "+---------------------------------+\n",
            "\n",
            "****************************************************************************************************\n",
            "\n",
            "TYPE:         Class balancing detection\n",
            "STATUS:       PASSED\n",
            "DESCRIPTION:  Your inputs were analyzed, and all classes are balanced in your training data.\n",
            "              Learn more about imbalanced data: https://aka.ms/AutomatedMLImbalancedData\n",
            "\n",
            "****************************************************************************************************\n",
            "\n",
            "TYPE:         Missing feature values imputation\n",
            "STATUS:       PASSED\n",
            "DESCRIPTION:  No feature missing values were detected in the training data.\n",
            "              Learn more about missing value imputation: https://aka.ms/AutomatedMLFeaturization\n",
            "\n",
            "****************************************************************************************************\n",
            "\n",
            "TYPE:         High cardinality feature detection\n",
            "STATUS:       PASSED\n",
            "DESCRIPTION:  Your inputs were analyzed, and no high cardinality features were detected.\n",
            "              Learn more about high cardinality feature handling: https://aka.ms/AutomatedMLFeaturization\n",
            "\n",
            "****************************************************************************************************\n",
            "\n",
            "****************************************************************************************************\n",
            "ITERATION: The iteration being evaluated.\n",
            "PIPELINE: A summary description of the pipeline being evaluated.\n",
            "DURATION: Time taken for the current iteration.\n",
            "METRIC: The result of computing score on the fitted pipeline.\n",
            "BEST: The best observed score thus far.\n",
            "****************************************************************************************************\n",
            "\n",
            " ITERATION   PIPELINE                                       DURATION      METRIC      BEST\n",
            "         0   MaxAbsScaler LightGBM                          0:01:14       0.8901    0.8901\n",
            "         1   MaxAbsScaler XGBoostClassifier                 0:01:03       0.8879    0.8901\n",
            "         2   MinMaxScaler RandomForest                      0:01:07       0.8830    0.8901\n",
            "         3   RobustScaler ExtremeRandomTrees                0:01:10       0.8695    0.8901\n",
            "         4   MinMaxScaler RandomForest                      0:01:10       0.8902    0.8902\n",
            "         5   MinMaxScaler RandomForest                      0:01:06       0.8905    0.8905\n",
            "         6   StandardScalerWrapper RandomForest             0:01:00       0.8758    0.8905\n",
            "         7   MinMaxScaler ExtremeRandomTrees                0:01:03       0.8831    0.8905\n",
            "         8   MinMaxScaler ExtremeRandomTrees                0:01:15       0.8974    0.8974\n",
            "         9   SparseNormalizer KNN                           0:00:58       0.7183    0.8974\n",
            "        10   MinMaxScaler ExtremeRandomTrees                0:01:06       0.8793    0.8974\n",
            "        11   RobustScaler ExtremeRandomTrees                0:01:04       0.8909    0.8974\n",
            "        12   StandardScalerWrapper RandomForest             0:01:02       0.8926    0.8974\n",
            "        13   StandardScalerWrapper SGD                      0:01:04       0.8492    0.8974\n",
            "        14   RobustScaler RandomForest                      0:01:41       0.8918    0.8974\n",
            "        15   StandardScalerWrapper KNN                      0:01:03       0.5876    0.8974\n",
            "        16   MinMaxScaler RandomForest                      0:01:10       0.8673    0.8974\n",
            "        17   MinMaxScaler ExtremeRandomTrees                0:01:00       0.8278    0.8974\n",
            "        18   MaxAbsScaler RandomForest                      0:01:00       0.8878    0.8974\n",
            "        19   StandardScalerWrapper XGBoostClassifier        0:01:12       0.8926    0.8974\n",
            "        20   MaxAbsScaler RandomForest                      0:00:51       0.8686    0.8974\n",
            "        21   MaxAbsScaler ExtremeRandomTrees                0:01:03       0.8290    0.8974\n",
            "        22   MaxAbsScaler ExtremeRandomTrees                0:01:35       0.8668    0.8974\n",
            "        23   StandardScalerWrapper XGBoostClassifier        0:00:59       0.8985    0.8985\n",
            "        24   SparseNormalizer XGBoostClassifier             0:01:08       0.8663    0.8985\n",
            "        25   StandardScalerWrapper ExtremeRandomTrees       0:00:58       0.8691    0.8985\n",
            "        26   StandardScalerWrapper LightGBM                 0:01:28       0.8616    0.8985\n",
            "        27   MaxAbsScaler ExtremeRandomTrees                0:01:36       0.8908    0.8985\n",
            "        28   RobustScaler LightGBM                          0:01:08       0.7897    0.8985\n",
            "        29   RobustScaler RandomForest                      0:01:20       0.9131    0.9131\n",
            "        30   PCA XGBoostClassifier                          0:01:04       0.4964    0.9131\n",
            "        31   RobustScaler RandomForest                      0:01:24       0.9037    0.9131\n",
            "        32   StandardScalerWrapper GradientBoosting         0:01:25       0.9042    0.9131\n",
            "        33   MaxAbsScaler GradientBoosting                  0:01:20       0.9021    0.9131\n",
            "        34   StandardScalerWrapper GradientBoosting         0:01:05       0.8694    0.9131\n",
            "        35   StandardScalerWrapper RandomForest             0:01:04       0.8858    0.9131\n",
            "        36   StandardScalerWrapper XGBoostClassifier        0:01:13       0.8884    0.9131\n",
            "        37   RobustScaler LightGBM                          0:01:06       0.8900    0.9131\n",
            "        38   StandardScalerWrapper XGBoostClassifier        0:01:01       0.8877    0.9131\n",
            "        39   StandardScalerWrapper RandomForest             0:01:13       0.9107    0.9131\n",
            "        40   MinMaxScaler RandomForest                      0:01:07       0.9078    0.9131\n",
            "        41   MaxAbsScaler RandomForest                      0:01:10       0.9010    0.9131\n",
            "        42   RobustScaler ExtremeRandomTrees                0:01:21       0.8737    0.9131\n",
            "        43   MinMaxScaler RandomForest                      0:01:08       0.9111    0.9131\n",
            "        44   MaxAbsScaler GradientBoosting                  0:01:12       0.9067    0.9131\n",
            "        45   MinMaxScaler RandomForest                      0:01:08       0.8941    0.9131\n",
            "        46                                                  0:00:08          nan    0.9131\n",
            "        47                                                  0:00:08          nan    0.9131\n",
            "        48                                                  0:00:18          nan    0.9131\n",
            "        49    VotingEnsemble                                0:02:39       0.9252    0.9252\n",
            "        50    StackEnsemble                                 0:02:47       0.9181    0.9252\n"
          ]
        },
        {
          "output_type": "execute_result",
          "execution_count": 11,
          "data": {
            "text/plain": "{'runId': 'AutoML_1f80ec7f-b587-44f7-9c98-a3e687eea30f',\n 'target': 'notebook133359',\n 'status': 'Completed',\n 'startTimeUtc': '2021-01-04T17:44:03.866285Z',\n 'endTimeUtc': '2021-01-04T18:04:26.486924Z',\n 'properties': {'num_iterations': '1000',\n  'training_type': 'TrainFull',\n  'acquisition_function': 'EI',\n  'primary_metric': 'AUC_weighted',\n  'train_split': '0',\n  'acquisition_parameter': '0',\n  'num_cross_validation': None,\n  'target': 'notebook133359',\n  'AMLSettingsJsonString': '{\"path\":null,\"name\":\"ml-experiment-1\",\"subscription_id\":\"2c48c51c-bd47-40d4-abbe-fb8eabd19c8c\",\"resource_group\":\"aml-quickstarts-133359\",\"workspace_name\":\"quick-starts-ws-133359\",\"region\":\"southcentralus\",\"compute_target\":\"notebook133359\",\"spark_service\":null,\"azure_service\":\"remote\",\"many_models\":false,\"pipeline_fetch_max_batch_size\":1,\"iterations\":1000,\"primary_metric\":\"AUC_weighted\",\"task_type\":\"classification\",\"data_script\":null,\"validation_size\":0.0,\"n_cross_validations\":null,\"y_min\":null,\"y_max\":null,\"num_classes\":null,\"featurization\":\"auto\",\"_ignore_package_version_incompatibilities\":false,\"is_timeseries\":false,\"max_cores_per_iteration\":1,\"max_concurrent_iterations\":5,\"iteration_timeout_minutes\":null,\"mem_in_mb\":null,\"enforce_time_on_windows\":false,\"experiment_timeout_minutes\":20,\"experiment_exit_score\":null,\"whitelist_models\":null,\"blacklist_algos\":[\"TensorFlowLinearClassifier\",\"TensorFlowDNN\"],\"supported_models\":[\"XGBoostClassifier\",\"RandomForest\",\"TensorFlowLinearClassifier\",\"LogisticRegression\",\"DecisionTree\",\"LightGBM\",\"MultinomialNaiveBayes\",\"ExtremeRandomTrees\",\"LinearSVM\",\"AveragedPerceptronClassifier\",\"GradientBoosting\",\"TensorFlowDNN\",\"SVM\",\"BernoulliNaiveBayes\",\"SGD\",\"KNN\"],\"auto_blacklist\":true,\"blacklist_samples_reached\":false,\"exclude_nan_labels\":true,\"verbosity\":20,\"_debug_log\":\"azureml_automl.log\",\"show_warnings\":false,\"model_explainability\":true,\"service_url\":null,\"sdk_url\":null,\"sdk_packages\":null,\"enable_onnx_compatible_models\":false,\"enable_split_onnx_featurizer_estimator_models\":false,\"vm_type\":\"STANDARD_DS3_V2\",\"telemetry_verbosity\":20,\"send_telemetry\":true,\"enable_dnn\":false,\"scenario\":\"SDK-1.13.0\",\"environment_label\":null,\"force_text_dnn\":false,\"enable_feature_sweeping\":true,\"enable_early_stopping\":true,\"early_stopping_n_iters\":10,\"metrics\":null,\"enable_ensembling\":true,\"enable_stack_ensembling\":true,\"ensemble_iterations\":15,\"enable_tf\":false,\"enable_subsampling\":null,\"subsample_seed\":null,\"enable_nimbusml\":false,\"enable_streaming\":false,\"force_streaming\":false,\"track_child_runs\":true,\"allowed_private_models\":[],\"label_column_name\":\"DEATH_EVENT\",\"weight_column_name\":null,\"cv_split_column_names\":null,\"enable_local_managed\":false,\"_local_managed_run_id\":null,\"cost_mode\":1,\"lag_length\":0,\"metric_operation\":\"maximize\",\"preprocess\":true}',\n  'DataPrepJsonString': '{\\\\\"training_data\\\\\": \\\\\"{\\\\\\\\\\\\\"blocks\\\\\\\\\\\\\": [{\\\\\\\\\\\\\"id\\\\\\\\\\\\\": \\\\\\\\\\\\\"4cd403ba-05e5-4cea-ba35-b4d328c22d4a\\\\\\\\\\\\\", \\\\\\\\\\\\\"type\\\\\\\\\\\\\": \\\\\\\\\\\\\"Microsoft.DPrep.GetDatastoreFilesBlock\\\\\\\\\\\\\", \\\\\\\\\\\\\"arguments\\\\\\\\\\\\\": {\\\\\\\\\\\\\"datastores\\\\\\\\\\\\\": [{\\\\\\\\\\\\\"datastoreName\\\\\\\\\\\\\": \\\\\\\\\\\\\"workspaceblobstore\\\\\\\\\\\\\", \\\\\\\\\\\\\"path\\\\\\\\\\\\\": \\\\\\\\\\\\\"udacity-project/train_data.csv\\\\\\\\\\\\\", \\\\\\\\\\\\\"resourceGroup\\\\\\\\\\\\\": \\\\\\\\\\\\\"aml-quickstarts-133359\\\\\\\\\\\\\", \\\\\\\\\\\\\"subscription\\\\\\\\\\\\\": \\\\\\\\\\\\\"2c48c51c-bd47-40d4-abbe-fb8eabd19c8c\\\\\\\\\\\\\", \\\\\\\\\\\\\"workspaceName\\\\\\\\\\\\\": \\\\\\\\\\\\\"quick-starts-ws-133359\\\\\\\\\\\\\"}]}, \\\\\\\\\\\\\"localData\\\\\\\\\\\\\": {}, \\\\\\\\\\\\\"isEnabled\\\\\\\\\\\\\": true, \\\\\\\\\\\\\"name\\\\\\\\\\\\\": null, \\\\\\\\\\\\\"annotation\\\\\\\\\\\\\": null}, {\\\\\\\\\\\\\"id\\\\\\\\\\\\\": \\\\\\\\\\\\\"71848961-fa51-4320-9b98-40249d56c6e2\\\\\\\\\\\\\", \\\\\\\\\\\\\"type\\\\\\\\\\\\\": \\\\\\\\\\\\\"Microsoft.DPrep.ParseDelimitedBlock\\\\\\\\\\\\\", \\\\\\\\\\\\\"arguments\\\\\\\\\\\\\": {\\\\\\\\\\\\\"columnHeadersMode\\\\\\\\\\\\\": 3, \\\\\\\\\\\\\"fileEncoding\\\\\\\\\\\\\": 0, \\\\\\\\\\\\\"handleQuotedLineBreaks\\\\\\\\\\\\\": false, \\\\\\\\\\\\\"preview\\\\\\\\\\\\\": false, \\\\\\\\\\\\\"separator\\\\\\\\\\\\\": \\\\\\\\\\\\\",\\\\\\\\\\\\\", \\\\\\\\\\\\\"skipRows\\\\\\\\\\\\\": 0, \\\\\\\\\\\\\"skipRowsMode\\\\\\\\\\\\\": 0}, \\\\\\\\\\\\\"localData\\\\\\\\\\\\\": {}, \\\\\\\\\\\\\"isEnabled\\\\\\\\\\\\\": true, \\\\\\\\\\\\\"name\\\\\\\\\\\\\": null, \\\\\\\\\\\\\"annotation\\\\\\\\\\\\\": null}, {\\\\\\\\\\\\\"id\\\\\\\\\\\\\": \\\\\\\\\\\\\"880f081f-aea5-4c8c-b847-9b36c4099361\\\\\\\\\\\\\", \\\\\\\\\\\\\"type\\\\\\\\\\\\\": \\\\\\\\\\\\\"Microsoft.DPrep.DropColumnsBlock\\\\\\\\\\\\\", \\\\\\\\\\\\\"arguments\\\\\\\\\\\\\": {\\\\\\\\\\\\\"columns\\\\\\\\\\\\\": {\\\\\\\\\\\\\"type\\\\\\\\\\\\\": 0, \\\\\\\\\\\\\"details\\\\\\\\\\\\\": {\\\\\\\\\\\\\"selectedColumns\\\\\\\\\\\\\": [\\\\\\\\\\\\\"Path\\\\\\\\\\\\\"]}}}, \\\\\\\\\\\\\"localData\\\\\\\\\\\\\": {}, \\\\\\\\\\\\\"isEnabled\\\\\\\\\\\\\": true, \\\\\\\\\\\\\"name\\\\\\\\\\\\\": null, \\\\\\\\\\\\\"annotation\\\\\\\\\\\\\": null}, {\\\\\\\\\\\\\"id\\\\\\\\\\\\\": \\\\\\\\\\\\\"602058af-5ac0-4436-9dcd-e7a3cebdfa4f\\\\\\\\\\\\\", \\\\\\\\\\\\\"type\\\\\\\\\\\\\": \\\\\\\\\\\\\"Microsoft.DPrep.SetColumnTypesBlock\\\\\\\\\\\\\", \\\\\\\\\\\\\"arguments\\\\\\\\\\\\\": {\\\\\\\\\\\\\"columnConversion\\\\\\\\\\\\\": [{\\\\\\\\\\\\\"column\\\\\\\\\\\\\": {\\\\\\\\\\\\\"type\\\\\\\\\\\\\": 2, \\\\\\\\\\\\\"details\\\\\\\\\\\\\": {\\\\\\\\\\\\\"selectedColumn\\\\\\\\\\\\\": \\\\\\\\\\\\\"age\\\\\\\\\\\\\"}}, \\\\\\\\\\\\\"typeProperty\\\\\\\\\\\\\": 3}, {\\\\\\\\\\\\\"column\\\\\\\\\\\\\": {\\\\\\\\\\\\\"type\\\\\\\\\\\\\": 2, \\\\\\\\\\\\\"details\\\\\\\\\\\\\": {\\\\\\\\\\\\\"selectedColumn\\\\\\\\\\\\\": \\\\\\\\\\\\\"anaemia\\\\\\\\\\\\\"}}, \\\\\\\\\\\\\"typeProperty\\\\\\\\\\\\\": 2}, {\\\\\\\\\\\\\"column\\\\\\\\\\\\\": {\\\\\\\\\\\\\"type\\\\\\\\\\\\\": 2, \\\\\\\\\\\\\"details\\\\\\\\\\\\\": {\\\\\\\\\\\\\"selectedColumn\\\\\\\\\\\\\": \\\\\\\\\\\\\"creatinine_phosphokinase\\\\\\\\\\\\\"}}, \\\\\\\\\\\\\"typeProperty\\\\\\\\\\\\\": 2}, {\\\\\\\\\\\\\"column\\\\\\\\\\\\\": {\\\\\\\\\\\\\"type\\\\\\\\\\\\\": 2, \\\\\\\\\\\\\"details\\\\\\\\\\\\\": {\\\\\\\\\\\\\"selectedColumn\\\\\\\\\\\\\": \\\\\\\\\\\\\"diabetes\\\\\\\\\\\\\"}}, \\\\\\\\\\\\\"typeProperty\\\\\\\\\\\\\": 2}, {\\\\\\\\\\\\\"column\\\\\\\\\\\\\": {\\\\\\\\\\\\\"type\\\\\\\\\\\\\": 2, \\\\\\\\\\\\\"details\\\\\\\\\\\\\": {\\\\\\\\\\\\\"selectedColumn\\\\\\\\\\\\\": \\\\\\\\\\\\\"ejection_fraction\\\\\\\\\\\\\"}}, \\\\\\\\\\\\\"typeProperty\\\\\\\\\\\\\": 2}, {\\\\\\\\\\\\\"column\\\\\\\\\\\\\": {\\\\\\\\\\\\\"type\\\\\\\\\\\\\": 2, \\\\\\\\\\\\\"details\\\\\\\\\\\\\": {\\\\\\\\\\\\\"selectedColumn\\\\\\\\\\\\\": \\\\\\\\\\\\\"high_blood_pressure\\\\\\\\\\\\\"}}, \\\\\\\\\\\\\"typeProperty\\\\\\\\\\\\\": 2}, {\\\\\\\\\\\\\"column\\\\\\\\\\\\\": {\\\\\\\\\\\\\"type\\\\\\\\\\\\\": 2, \\\\\\\\\\\\\"details\\\\\\\\\\\\\": {\\\\\\\\\\\\\"selectedColumn\\\\\\\\\\\\\": \\\\\\\\\\\\\"platelets\\\\\\\\\\\\\"}}, \\\\\\\\\\\\\"typeProperty\\\\\\\\\\\\\": 3}, {\\\\\\\\\\\\\"column\\\\\\\\\\\\\": {\\\\\\\\\\\\\"type\\\\\\\\\\\\\": 2, \\\\\\\\\\\\\"details\\\\\\\\\\\\\": {\\\\\\\\\\\\\"selectedColumn\\\\\\\\\\\\\": \\\\\\\\\\\\\"serum_creatinine\\\\\\\\\\\\\"}}, \\\\\\\\\\\\\"typeProperty\\\\\\\\\\\\\": 3}, {\\\\\\\\\\\\\"column\\\\\\\\\\\\\": {\\\\\\\\\\\\\"type\\\\\\\\\\\\\": 2, \\\\\\\\\\\\\"details\\\\\\\\\\\\\": {\\\\\\\\\\\\\"selectedColumn\\\\\\\\\\\\\": \\\\\\\\\\\\\"serum_sodium\\\\\\\\\\\\\"}}, \\\\\\\\\\\\\"typeProperty\\\\\\\\\\\\\": 2}, {\\\\\\\\\\\\\"column\\\\\\\\\\\\\": {\\\\\\\\\\\\\"type\\\\\\\\\\\\\": 2, \\\\\\\\\\\\\"details\\\\\\\\\\\\\": {\\\\\\\\\\\\\"selectedColumn\\\\\\\\\\\\\": \\\\\\\\\\\\\"sex\\\\\\\\\\\\\"}}, \\\\\\\\\\\\\"typeProperty\\\\\\\\\\\\\": 2}, {\\\\\\\\\\\\\"column\\\\\\\\\\\\\": {\\\\\\\\\\\\\"type\\\\\\\\\\\\\": 2, \\\\\\\\\\\\\"details\\\\\\\\\\\\\": {\\\\\\\\\\\\\"selectedColumn\\\\\\\\\\\\\": \\\\\\\\\\\\\"smoking\\\\\\\\\\\\\"}}, \\\\\\\\\\\\\"typeProperty\\\\\\\\\\\\\": 2}, {\\\\\\\\\\\\\"column\\\\\\\\\\\\\": {\\\\\\\\\\\\\"type\\\\\\\\\\\\\": 2, \\\\\\\\\\\\\"details\\\\\\\\\\\\\": {\\\\\\\\\\\\\"selectedColumn\\\\\\\\\\\\\": \\\\\\\\\\\\\"time\\\\\\\\\\\\\"}}, \\\\\\\\\\\\\"typeProperty\\\\\\\\\\\\\": 2}, {\\\\\\\\\\\\\"column\\\\\\\\\\\\\": {\\\\\\\\\\\\\"type\\\\\\\\\\\\\": 2, \\\\\\\\\\\\\"details\\\\\\\\\\\\\": {\\\\\\\\\\\\\"selectedColumn\\\\\\\\\\\\\": \\\\\\\\\\\\\"DEATH_EVENT\\\\\\\\\\\\\"}}, \\\\\\\\\\\\\"typeProperty\\\\\\\\\\\\\": 2}]}, \\\\\\\\\\\\\"localData\\\\\\\\\\\\\": {}, \\\\\\\\\\\\\"isEnabled\\\\\\\\\\\\\": true, \\\\\\\\\\\\\"name\\\\\\\\\\\\\": null, \\\\\\\\\\\\\"annotation\\\\\\\\\\\\\": null}], \\\\\\\\\\\\\"inspectors\\\\\\\\\\\\\": [], \\\\\\\\\\\\\"meta\\\\\\\\\\\\\": {\\\\\\\\\\\\\"savedDatasetId\\\\\\\\\\\\\": \\\\\\\\\\\\\"766a030e-1b98-4292-8a41-9569f7e7a240\\\\\\\\\\\\\", \\\\\\\\\\\\\"datasetType\\\\\\\\\\\\\": \\\\\\\\\\\\\"tabular\\\\\\\\\\\\\", \\\\\\\\\\\\\"subscriptionId\\\\\\\\\\\\\": \\\\\\\\\\\\\"2c48c51c-bd47-40d4-abbe-fb8eabd19c8c\\\\\\\\\\\\\", \\\\\\\\\\\\\"workspaceId\\\\\\\\\\\\\": \\\\\\\\\\\\\"cc543629-fd22-43a9-bfc3-1deda7f68276\\\\\\\\\\\\\", \\\\\\\\\\\\\"workspaceLocation\\\\\\\\\\\\\": \\\\\\\\\\\\\"southcentralus\\\\\\\\\\\\\"}}\\\\\", \\\\\"activities\\\\\": 0}',\n  'EnableSubsampling': None,\n  'runTemplate': 'AutoML',\n  'azureml.runsource': 'automl',\n  'display_task_type': 'classification',\n  'dependencies_versions': '{\"azureml-widgets\": \"1.19.0\", \"azureml-train\": \"1.19.0\", \"azureml-train-restclients-hyperdrive\": \"1.19.0\", \"azureml-train-core\": \"1.19.0\", \"azureml-train-automl\": \"1.19.0\", \"azureml-train-automl-runtime\": \"1.19.0\", \"azureml-train-automl-client\": \"1.19.0\", \"azureml-tensorboard\": \"1.19.0\", \"azureml-telemetry\": \"1.19.0\", \"azureml-sdk\": \"1.19.0\", \"azureml-samples\": \"0+unknown\", \"azureml-pipeline\": \"1.19.0\", \"azureml-pipeline-steps\": \"1.19.0\", \"azureml-pipeline-core\": \"1.19.0\", \"azureml-opendatasets\": \"1.19.0\", \"azureml-model-management-sdk\": \"1.0.1b6.post1\", \"azureml-mlflow\": \"1.19.0\", \"azureml-interpret\": \"1.19.0\", \"azureml-explain-model\": \"1.19.0\", \"azureml-defaults\": \"1.19.0\", \"azureml-dataset-runtime\": \"1.19.0\", \"azureml-dataprep\": \"2.6.1\", \"azureml-dataprep-rslex\": \"1.4.0\", \"azureml-dataprep-native\": \"26.0.0\", \"azureml-datadrift\": \"1.19.0\", \"azureml-core\": \"1.19.0\", \"azureml-contrib-services\": \"1.19.0\", \"azureml-contrib-server\": \"1.19.0\", \"azureml-contrib-reinforcementlearning\": \"1.19.0\", \"azureml-contrib-pipeline-steps\": \"1.19.0\", \"azureml-contrib-notebook\": \"1.19.0\", \"azureml-contrib-interpret\": \"1.19.0\", \"azureml-contrib-gbdt\": \"1.19.0\", \"azureml-contrib-fairness\": \"1.19.0\", \"azureml-contrib-dataset\": \"1.19.0\", \"azureml-cli-common\": \"1.19.0\", \"azureml-automl-runtime\": \"1.19.0\", \"azureml-automl-core\": \"1.19.0\", \"azureml-accel-models\": \"1.19.0\"}',\n  '_aml_system_scenario_identification': 'Remote.Parent',\n  'ClientType': 'SDK',\n  'environment_cpu_name': 'AzureML-AutoML',\n  'environment_cpu_label': 'prod',\n  'environment_gpu_name': 'AzureML-AutoML-GPU',\n  'environment_gpu_label': 'prod',\n  'root_attribution': 'automl',\n  'attribution': 'AutoML',\n  'Orchestrator': 'AutoML',\n  'CancelUri': 'https://southcentralus.experiments.azureml.net/jasmine/v1.0/subscriptions/2c48c51c-bd47-40d4-abbe-fb8eabd19c8c/resourceGroups/aml-quickstarts-133359/providers/Microsoft.MachineLearningServices/workspaces/quick-starts-ws-133359/experimentids/b2bc66f2-cd64-4cb2-b5b1-87b169e32a3c/cancel/AutoML_1f80ec7f-b587-44f7-9c98-a3e687eea30f',\n  'ClientSdkVersion': '1.19.0',\n  'snapshotId': '00000000-0000-0000-0000-000000000000',\n  'SetupRunId': 'AutoML_1f80ec7f-b587-44f7-9c98-a3e687eea30f_setup',\n  'SetupRunContainerId': 'dcid.AutoML_1f80ec7f-b587-44f7-9c98-a3e687eea30f_setup',\n  'FeaturizationRunJsonPath': 'featurizer_container.json',\n  'FeaturizationRunId': 'AutoML_1f80ec7f-b587-44f7-9c98-a3e687eea30f_featurize',\n  'ProblemInfoJsonString': '{\"dataset_num_categorical\": 0, \"is_sparse\": false, \"subsampling\": false, \"dataset_classes\": 2, \"dataset_features\": 12, \"dataset_samples\": 239, \"single_frequency_class_detected\": false}',\n  'ModelExplainRunId': 'AutoML_1f80ec7f-b587-44f7-9c98-a3e687eea30f_ModelExplain'},\n 'inputDatasets': [{'dataset': {'id': '766a030e-1b98-4292-8a41-9569f7e7a240'}, 'consumptionDetails': {'type': 'RunInput', 'inputName': 'training_data', 'mechanism': 'Direct'}}],\n 'outputDatasets': [],\n 'logFiles': {}}"
          },
          "metadata": {}
        }
      ],
      "execution_count": 11,
      "metadata": {
        "gather": {
          "logged": 1609783792966
        },
        "jupyter": {
          "outputs_hidden": false,
          "source_hidden": false
        },
        "nteract": {
          "transient": {
            "deleting": false
          }
        }
      }
    },
    {
      "cell_type": "markdown",
      "source": [
        "## Best Model\n",
        "\n",
        "TODO: In the cell below, get the best model from the automl experiments and display all the properties of the model.\n",
        "\n"
      ],
      "metadata": {}
    },
    {
      "cell_type": "code",
      "source": [
        "best_model, fitted_model = remote_run.get_output()\n",
        "\n",
        "print(best_model)\n",
        "\n",
        "# Take SS"
      ],
      "outputs": [
        {
          "output_type": "stream",
          "name": "stdout",
          "text": [
            "Run(Experiment: ml-experiment-1,\n",
            "Id: AutoML_1f80ec7f-b587-44f7-9c98-a3e687eea30f_49,\n",
            "Type: azureml.scriptrun,\n",
            "Status: Completed)\n"
          ]
        }
      ],
      "execution_count": 12,
      "metadata": {
        "gather": {
          "logged": 1609783941464
        },
        "jupyter": {
          "outputs_hidden": false,
          "source_hidden": false
        },
        "nteract": {
          "transient": {
            "deleting": false
          }
        }
      }
    },
    {
      "cell_type": "code",
      "source": [
        "print(fitted_model)"
      ],
      "outputs": [
        {
          "output_type": "stream",
          "name": "stdout",
          "text": [
            "Pipeline(memory=None,\n",
            "         steps=[('datatransformer',\n",
            "                 DataTransformer(enable_dnn=None, enable_feature_sweeping=None,\n",
            "                                 feature_sweeping_config=None,\n",
            "                                 feature_sweeping_timeout=None,\n",
            "                                 featurization_config=None, force_text_dnn=None,\n",
            "                                 is_cross_validation=None,\n",
            "                                 is_onnx_compatible=None, logger=None,\n",
            "                                 observer=None, task=None, working_dir=None)),\n",
            "                ('prefittedsoftvotingclassifier',...\n",
            "                                                                                                  min_samples_split=0.15052631578947367,\n",
            "                                                                                                  min_weight_fraction_leaf=0.0,\n",
            "                                                                                                  n_estimators=10,\n",
            "                                                                                                  n_jobs=1,\n",
            "                                                                                                  oob_score=True,\n",
            "                                                                                                  random_state=None,\n",
            "                                                                                                  verbose=0,\n",
            "                                                                                                  warm_start=False))],\n",
            "                                                                     verbose=False))],\n",
            "                                               flatten_transform=None,\n",
            "                                               weights=[0.08333333333333333,\n",
            "                                                        0.16666666666666666,\n",
            "                                                        0.08333333333333333,\n",
            "                                                        0.08333333333333333,\n",
            "                                                        0.08333333333333333,\n",
            "                                                        0.08333333333333333,\n",
            "                                                        0.08333333333333333,\n",
            "                                                        0.25,\n",
            "                                                        0.08333333333333333]))],\n",
            "         verbose=False)\n"
          ]
        }
      ],
      "execution_count": 13,
      "metadata": {
        "gather": {
          "logged": 1609783951970
        }
      }
    },
    {
      "cell_type": "code",
      "source": [
        "#TODO: Save the best model\n",
        "# joblib.dump(fitted_model, \"models/automl_hearth.pkl\")\n",
        "\n",
        "best_model.download_file('outputs/model.pkl', 'outputs/automl_hearth.pkl')\n",
        "best_model.download_file('outputs/scoring_file_v_1_0_0.py', 'outputs/score_aml.py')\n",
        "best_model.download_file('automl_driver.py', 'outputs/automl_driver.py')"
      ],
      "outputs": [],
      "execution_count": 61,
      "metadata": {
        "gather": {
          "logged": 1609793600543
        }
      }
    },
    {
      "cell_type": "markdown",
      "source": [
        "## Model Deployment\n",
        "\n",
        "Remember you have to deploy only one of the two models you trained.. Perform the steps in the rest of this notebook only if you wish to deploy this model.\n",
        "\n",
        "TODO: In the cell below, register the model, create an inference config and deploy the model as a web service."
      ],
      "metadata": {}
    },
    {
      "cell_type": "code",
      "source": [
        "model = Model.register(workspace = ws,\n",
        "                        model_path =\"outputs/automl_hearth.pkl\",\n",
        "                        model_name = \"automl_hearth\")\n",
        "\n",
        "# model = Model.register(model_path = \"./models/automl_hearth.pkl\",\n",
        "#                       model_name = \"automl_hearth.pkl\",\n",
        "#                       description = \"Best model trained with AutoML\",\n",
        "#                       workspace = ws, model_framework=Model.Framework.SCIKITLEARN)\n",
        "print(model.name)"
      ],
      "outputs": [
        {
          "output_type": "stream",
          "name": "stdout",
          "text": [
            "Registering model automl_hearth\n",
            "automl_hearth\n"
          ]
        }
      ],
      "execution_count": 24,
      "metadata": {
        "gather": {
          "logged": 1609785337376
        },
        "jupyter": {
          "outputs_hidden": false,
          "source_hidden": false
        },
        "nteract": {
          "transient": {
            "deleting": false
          }
        }
      }
    },
    {
      "cell_type": "code",
      "source": [
        "# Define Deployment\n",
        "\n",
        "aci_config = AciWebservice.deploy_configuration(cpu_cores=1, memory_gb=2,\n",
        "                                              enable_app_insights=True) \n",
        "\n",
        "# deployment_config = AciWebservice.deploy_configuration()"
      ],
      "outputs": [],
      "execution_count": 42,
      "metadata": {
        "gather": {
          "logged": 1609787953776
        }
      }
    },
    {
      "cell_type": "code",
      "source": [
        "# Create the environment\n",
        "\n",
        "env = Environment.from_conda_specification(name='myenv',file_path = 'env.yml')\n",
        "\n",
        "# myenv = Environment(workspace=ws, name=\"myenv\")\n",
        "\n",
        "inference_config = InferenceConfig(entry_script='./score2.py',\n",
        "                                    environment=env)\n",
        "\n",
        "f = open(\"envnew.yml\", \"w\")\n",
        "f.write(env.python.conda_dependencies.serialize_to_string())\n",
        "f.close()\n",
        "\n",
        "print(\"packages\", env.python.conda_dependencies.serialize_to_string())"
      ],
      "outputs": [
        {
          "output_type": "stream",
          "name": "stdout",
          "text": [
            "packages channels:\n",
            "- anaconda\n",
            "- conda-forge\n",
            "dependencies:\n",
            "- pip\n",
            "- python=3.6.2\n",
            "- pip:\n",
            "  - azureml-core==1.19.0\n",
            "  - azureml-defaults==1.19.0\n",
            "  - azureml-telemetry==1.19.0\n",
            "  - azureml-train-core==1.19.0\n",
            "  - azureml-widgets==1.19.0\n",
            "  - azureml-sdk==1.19.0\n",
            "  - azureml-train-automl-runtime==1.19.0\n",
            "  - azureml-automl-runtime==1.19.0\n",
            "  - mlflow\n",
            "  - sklearn-pandas\n",
            "- pandas\n",
            "- numpy\n",
            "- tqdm\n",
            "- py-xgboost\n",
            "- joblib\n",
            "- xgboost\n",
            "- scikit-learn==0.22.1\n",
            "- matplotlib\n",
            "name: azureml_a1736710baabf05d37337a101fa8d6d1\n",
            "\n"
          ]
        }
      ],
      "execution_count": 73,
      "metadata": {
        "gather": {
          "logged": 1609795321092
        }
      }
    },
    {
      "cell_type": "code",
      "source": [
        "service_name = 'my-service'\n",
        "\n",
        "service = Model.deploy(ws, service_name, [model], inference_config, deployment_config=aci_config)\n",
        "\n",
        "# service = Model.deploy(ws, 'myservice2', [model], inference_config, deployment_config)\n",
        "# service.update(enable_app_insights=True)"
      ],
      "outputs": [],
      "execution_count": 74,
      "metadata": {
        "collapsed": true,
        "gather": {
          "logged": 1609795340966
        },
        "jupyter": {
          "outputs_hidden": false,
          "source_hidden": false
        },
        "nteract": {
          "transient": {
            "deleting": false
          }
        }
      }
    },
    {
      "cell_type": "code",
      "source": [
        "service.wait_for_deployment(True)\n",
        "print(service.state)"
      ],
      "outputs": [
        {
          "output_type": "stream",
          "name": "stdout",
          "text": [
            "Tips: You can try get_logs(): https://aka.ms/debugimage#dockerlog or local deployment: https://aka.ms/debugimage#debug-locally to debug if deployment takes longer than 10 minutes.\n",
            "Running............................................\n",
            "Succeeded\n",
            "ACI service creation operation finished, operation \"Succeeded\"\n",
            "Healthy\n"
          ]
        }
      ],
      "execution_count": 75,
      "metadata": {
        "collapsed": true,
        "gather": {
          "logged": 1609795587628
        },
        "jupyter": {
          "outputs_hidden": false,
          "source_hidden": false
        },
        "nteract": {
          "transient": {
            "deleting": false
          }
        }
      }
    },
    {
      "cell_type": "code",
      "source": [
        "print(service.get_logs())"
      ],
      "outputs": [
        {
          "output_type": "stream",
          "name": "stdout",
          "text": [
            "2021-01-04T20:17:02,086304579+00:00 - rsyslog/run \n",
            "2021-01-04T20:17:02,086249178+00:00 - gunicorn/run \n",
            "2021-01-04T20:17:02,087130888+00:00 - iot-server/run \n",
            "2021-01-04T20:17:02,114244483+00:00 - nginx/run \n",
            "/usr/sbin/nginx: /azureml-envs/azureml_78b912a296061c9d6178810a04b724e8/lib/libcrypto.so.1.0.0: no version information available (required by /usr/sbin/nginx)\n",
            "/usr/sbin/nginx: /azureml-envs/azureml_78b912a296061c9d6178810a04b724e8/lib/libcrypto.so.1.0.0: no version information available (required by /usr/sbin/nginx)\n",
            "/usr/sbin/nginx: /azureml-envs/azureml_78b912a296061c9d6178810a04b724e8/lib/libssl.so.1.0.0: no version information available (required by /usr/sbin/nginx)\n",
            "/usr/sbin/nginx: /azureml-envs/azureml_78b912a296061c9d6178810a04b724e8/lib/libssl.so.1.0.0: no version information available (required by /usr/sbin/nginx)\n",
            "/usr/sbin/nginx: /azureml-envs/azureml_78b912a296061c9d6178810a04b724e8/lib/libssl.so.1.0.0: no version information available (required by /usr/sbin/nginx)\n",
            "rsyslogd: /azureml-envs/azureml_78b912a296061c9d6178810a04b724e8/lib/libuuid.so.1: no version information available (required by rsyslogd)\n",
            "EdgeHubConnectionString and IOTEDGE_IOTHUBHOSTNAME are not set. Exiting...\n",
            "2021-01-04T20:17:02,510164494+00:00 - iot-server/finish 1 0\n",
            "2021-01-04T20:17:02,511832812+00:00 - Exit code 1 is normal. Not restarting iot-server.\n",
            "Starting gunicorn 19.9.0\n",
            "Listening at: http://127.0.0.1:31311 (13)\n",
            "Using worker: sync\n",
            "worker timeout is set to 300\n",
            "Booting worker with pid: 40\n",
            "SPARK_HOME not set. Skipping PySpark Initialization.\n",
            "Initializing logger\n",
            "2021-01-04 20:17:03,182 | root | INFO | Starting up app insights client\n",
            "Starting up app insights client\n",
            "2021-01-04 20:17:03,182 | root | INFO | Starting up request id generator\n",
            "Starting up request id generator\n",
            "2021-01-04 20:17:03,182 | root | INFO | Starting up app insight hooks\n",
            "Starting up app insight hooks\n",
            "2021-01-04 20:17:03,182 | root | INFO | Invoking user's init function\n",
            "Invoking user's init function\n",
            "Found model:\n",
            "True\n",
            "Generating new fontManager, this may take some time...\n",
            "2021-01-04 20:17:06,086 | root | INFO | Users's init has completed successfully\n",
            "Users's init has completed successfully\n",
            "2021-01-04 20:17:06,090 | root | INFO | Skipping middleware: dbg_model_info as it's not enabled.\n",
            "Skipping middleware: dbg_model_info as it's not enabled.\n",
            "2021-01-04 20:17:06,090 | root | INFO | Skipping middleware: dbg_resource_usage as it's not enabled.\n",
            "Skipping middleware: dbg_resource_usage as it's not enabled.\n",
            "2021-01-04 20:17:06,090 | root | INFO | Scoring timeout is found from os.environ: 60000 ms\n",
            "Scoring timeout is found from os.environ: 60000 ms\n",
            "2021-01-04 20:17:20,721 | root | INFO | Swagger file not present\n",
            "Swagger file not present\n",
            "2021-01-04 20:17:20,721 | root | INFO | 404\n",
            "404\n",
            "127.0.0.1 - - [04/Jan/2021:20:17:20 +0000] \"GET /swagger.json HTTP/1.0\" 404 19 \"-\" \"Go-http-client/1.1\"\n",
            "2021-01-04 20:17:24,857 | root | INFO | Swagger file not present\n",
            "Swagger file not present\n",
            "2021-01-04 20:17:24,857 | root | INFO | 404\n",
            "404\n",
            "127.0.0.1 - - [04/Jan/2021:20:17:24 +0000] \"GET /swagger.json HTTP/1.0\" 404 19 \"-\" \"Go-http-client/1.1\"\n",
            "\n"
          ]
        }
      ],
      "execution_count": 52,
      "metadata": {
        "gather": {
          "logged": 1609791492929
        },
        "jupyter": {
          "outputs_hidden": false,
          "source_hidden": false
        },
        "nteract": {
          "transient": {
            "deleting": false
          }
        }
      }
    },
    {
      "cell_type": "code",
      "source": [
        "print(\"scoring URI: \" + service.scoring_uri)\n"
      ],
      "outputs": [
        {
          "output_type": "stream",
          "name": "stdout",
          "text": [
            "scoring URI: http://ba8e01ac-292a-4524-a34b-158f7afceb66.southcentralus.azurecontainer.io/score\n"
          ]
        }
      ],
      "execution_count": 77,
      "metadata": {
        "collapsed": true,
        "jupyter": {
          "outputs_hidden": false,
          "source_hidden": false
        },
        "nteract": {
          "transient": {
            "deleting": false
          }
        },
        "gather": {
          "logged": 1609795653289
        }
      }
    },
    {
      "cell_type": "markdown",
      "source": [
        "TODO: In the cell below, send a request to the web service you deployed to test it."
      ],
      "metadata": {
        "collapsed": true,
        "gather": {
          "logged": 1598431657736
        },
        "jupyter": {
          "outputs_hidden": false,
          "source_hidden": false
        },
        "nteract": {
          "transient": {
            "deleting": false
          }
        }
      }
    },
    {
      "cell_type": "code",
      "source": [
        "scoring_uri = 'http://ba8e01ac-292a-4524-a34b-158f7afceb66.southcentralus.azurecontainer.io/score'\n",
        "headers = {'Content-Type':'application/json'}\n",
        "\n",
        "test_data = json.dumps({'data':[{\n",
        "    'age':75,\n",
        "    'anaemia':0,\n",
        "    'creatinine_phosphokinase':582,\n",
        "    'diabetes':0,\n",
        "    'ejection_fraction':20,\n",
        "    'high_blood_pressure':1,\n",
        "    'platelets':265000,\n",
        "    'serum_creatinine':1.9,\n",
        "    'serum_sodium':130,\n",
        "    'sex':1,\n",
        "    'smoking':0,\n",
        "    'time':4}\n",
        "    ]\n",
        "        })\n",
        "\n",
        "\n",
        "response = requests.post(scoring_uri, data=test_data, headers=headers)\n",
        "\n",
        "print(\"Result:\",response.text)\n",
        "\n"
      ],
      "outputs": [
        {
          "output_type": "stream",
          "name": "stdout",
          "text": [
            "Result: [1]\n"
          ]
        }
      ],
      "execution_count": 78,
      "metadata": {
        "gather": {
          "logged": 1609795674181
        },
        "jupyter": {
          "outputs_hidden": false,
          "source_hidden": false
        },
        "nteract": {
          "transient": {
            "deleting": false
          }
        }
      }
    },
    {
      "cell_type": "code",
      "source": [
        "# myenv.save_to_directory('./training',overwrite=False)\n",
        "\n",
        "print(service.get_logs())"
      ],
      "outputs": [
        {
          "output_type": "stream",
          "name": "stdout",
          "text": [
            "2021-01-04T21:26:10,008659131+00:00 - gunicorn/run \n",
            "2021-01-04T21:26:10,037732866+00:00 - iot-server/run \n",
            "2021-01-04T21:26:10,037943070+00:00 - rsyslog/run \n",
            "2021-01-04T21:26:10,039842498+00:00 - nginx/run \n",
            "/usr/sbin/nginx: /azureml-envs/azureml_78b912a296061c9d6178810a04b724e8/lib/libcrypto.so.1.0.0: no version information available (required by /usr/sbin/nginx)\n",
            "/usr/sbin/nginx: /azureml-envs/azureml_78b912a296061c9d6178810a04b724e8/lib/libcrypto.so.1.0.0: no version information available (required by /usr/sbin/nginx)\n",
            "/usr/sbin/nginx: /azureml-envs/azureml_78b912a296061c9d6178810a04b724e8/lib/libssl.so.1.0.0: no version information available (required by /usr/sbin/nginx)\n",
            "/usr/sbin/nginx: /azureml-envs/azureml_78b912a296061c9d6178810a04b724e8/lib/libssl.so.1.0.0: no version information available (required by /usr/sbin/nginx)\n",
            "/usr/sbin/nginx: /azureml-envs/azureml_78b912a296061c9d6178810a04b724e8/lib/libssl.so.1.0.0: no version information available (required by /usr/sbin/nginx)\n",
            "rsyslogd: /azureml-envs/azureml_78b912a296061c9d6178810a04b724e8/lib/libuuid.so.1: no version information available (required by rsyslogd)\n",
            "EdgeHubConnectionString and IOTEDGE_IOTHUBHOSTNAME are not set. Exiting...\n",
            "2021-01-04T21:26:10,232823590+00:00 - iot-server/finish 1 0\n",
            "2021-01-04T21:26:10,234440514+00:00 - Exit code 1 is normal. Not restarting iot-server.\n",
            "Starting gunicorn 19.9.0\n",
            "Listening at: http://127.0.0.1:31311 (13)\n",
            "Using worker: sync\n",
            "worker timeout is set to 300\n",
            "Booting worker with pid: 44\n",
            "SPARK_HOME not set. Skipping PySpark Initialization.\n",
            "Generating new fontManager, this may take some time...\n",
            "Initializing logger\n",
            "2021-01-04 21:26:12,025 | root | INFO | Starting up app insights client\n",
            "Starting up app insights client\n",
            "2021-01-04 21:26:12,026 | root | INFO | Starting up request id generator\n",
            "Starting up request id generator\n",
            "2021-01-04 21:26:12,026 | root | INFO | Starting up app insight hooks\n",
            "Starting up app insight hooks\n",
            "2021-01-04 21:26:12,026 | root | INFO | Invoking user's init function\n",
            "Invoking user's init function\n",
            "Found model:\n",
            "True\n",
            "2021-01-04 21:26:15,673 | root | INFO | Users's init has completed successfully\n",
            "Users's init has completed successfully\n",
            "2021-01-04 21:26:15,676 | root | INFO | Skipping middleware: dbg_model_info as it's not enabled.\n",
            "Skipping middleware: dbg_model_info as it's not enabled.\n",
            "2021-01-04 21:26:15,676 | root | INFO | Skipping middleware: dbg_resource_usage as it's not enabled.\n",
            "Skipping middleware: dbg_resource_usage as it's not enabled.\n",
            "2021-01-04 21:26:15,677 | root | INFO | Scoring timeout is found from os.environ: 60000 ms\n",
            "Scoring timeout is found from os.environ: 60000 ms\n",
            "2021-01-04 21:26:21,441 | root | INFO | Swagger file not present\n",
            "Swagger file not present\n",
            "2021-01-04 21:26:21,442 | root | INFO | 404\n",
            "404\n",
            "127.0.0.1 - - [04/Jan/2021:21:26:21 +0000] \"GET /swagger.json HTTP/1.0\" 404 19 \"-\" \"Go-http-client/1.1\"\n",
            "2021-01-04 21:26:27,464 | root | INFO | Swagger file not present\n",
            "Swagger file not present\n",
            "2021-01-04 21:26:27,464 | root | INFO | 404\n",
            "404\n",
            "127.0.0.1 - - [04/Jan/2021:21:26:27 +0000] \"GET /swagger.json HTTP/1.0\" 404 19 \"-\" \"Go-http-client/1.1\"\n",
            "2021-01-04 21:27:53,569 | root | INFO | Validation Request Content-Type\n",
            "Validation Request Content-Type\n",
            "2021-01-04 21:27:53,570 | root | INFO | \tHost: localhost:5001\n",
            "\tHost: localhost:5001\n",
            "2021-01-04 21:27:53,570 | root | INFO | \tX-Real-Ip: 127.0.0.1\n",
            "\tX-Real-Ip: 127.0.0.1\n",
            "2021-01-04 21:27:53,570 | root | INFO | \tX-Forwarded-For: 127.0.0.1\n",
            "\tX-Forwarded-For: 127.0.0.1\n",
            "2021-01-04 21:27:53,570 | root | INFO | \tX-Forwarded-Proto: http\n",
            "\tX-Forwarded-Proto: http\n",
            "2021-01-04 21:27:53,570 | root | INFO | \tConnection: close\n",
            "\tConnection: close\n",
            "2021-01-04 21:27:53,570 | root | INFO | \tContent-Length: 238\n",
            "\tContent-Length: 238\n",
            "2021-01-04 21:27:53,570 | root | INFO | \tUser-Agent: python-requests/2.25.0\n",
            "\tUser-Agent: python-requests/2.25.0\n",
            "2021-01-04 21:27:53,570 | root | INFO | \tAccept: */*\n",
            "\tAccept: */*\n",
            "2021-01-04 21:27:53,570 | root | INFO | \tAccept-Encoding: gzip, deflate\n",
            "\tAccept-Encoding: gzip, deflate\n",
            "2021-01-04 21:27:53,570 | root | INFO | \tContent-Type: application/json\n",
            "\tContent-Type: application/json\n",
            "2021-01-04 21:27:53,570 | root | INFO | \tX-Ms-Request-Id: 61c8bbaa-ea0f-4f6b-b5f7-ab34c8db1400\n",
            "\tX-Ms-Request-Id: 61c8bbaa-ea0f-4f6b-b5f7-ab34c8db1400\n",
            "2021-01-04 21:27:53,571 | root | INFO | Scoring Timer is set to 60.0 seconds\n",
            "Scoring Timer is set to 60.0 seconds\n",
            "[TRANSFORM] ['age']: 0.001073 secs\n",
            "[TRANSFORM] ['anaemia']: 0.000799 secs\n",
            "[TRANSFORM] ['creatinine_phosphokinase']: 0.000746 secs\n",
            "[TRANSFORM] ['diabetes']: 0.000874 secs\n",
            "[TRANSFORM] ['ejection_fraction']: 0.000775 secs\n",
            "[TRANSFORM] ['high_blood_pressure']: 0.000843 secs\n",
            "[TRANSFORM] ['platelets']: 0.000811 secs\n",
            "[TRANSFORM] ['serum_creatinine']: 0.000717 secs\n",
            "[TRANSFORM] ['serum_sodium']: 0.00072 secs\n",
            "[TRANSFORM] ['sex']: 0.000886 secs\n",
            "[TRANSFORM] ['smoking']: 0.000722 secs\n",
            "[TRANSFORM] ['time']: 0.000817 secs\n",
            "2021-01-04 21:27:53,749 | root | INFO | 200\n",
            "200\n",
            "127.0.0.1 - - [04/Jan/2021:21:27:53 +0000] \"POST /score HTTP/1.0\" 200 3 \"-\" \"python-requests/2.25.0\"\n",
            "\n"
          ]
        }
      ],
      "execution_count": 79,
      "metadata": {
        "gather": {
          "logged": 1609795686312
        }
      }
    },
    {
      "cell_type": "markdown",
      "source": [
        "TODO: In the cell below, print the logs of the web service and delete the service"
      ],
      "metadata": {
        "collapsed": true,
        "gather": {
          "logged": 1598432765711
        },
        "jupyter": {
          "outputs_hidden": false,
          "source_hidden": false
        },
        "nteract": {
          "transient": {
            "deleting": false
          }
        }
      }
    },
    {
      "cell_type": "code",
      "source": [
        "print(response.status_code)\n",
        "print(response.elapsed)\n",
        "print(response.json())\n",
        "\n"
      ],
      "outputs": [
        {
          "output_type": "stream",
          "name": "stdout",
          "text": [
            "200\n",
            "0:00:00.243130\n",
            "[1]\n"
          ]
        }
      ],
      "execution_count": 80,
      "metadata": {
        "jupyter": {
          "outputs_hidden": false,
          "source_hidden": false
        },
        "nteract": {
          "transient": {
            "deleting": false
          }
        },
        "gather": {
          "logged": 1609795695290
        }
      }
    },
    {
      "cell_type": "code",
      "source": [
        "service.delete()"
      ],
      "outputs": [],
      "execution_count": 81,
      "metadata": {
        "collapsed": true,
        "gather": {
          "logged": 1609795705634
        },
        "jupyter": {
          "outputs_hidden": false,
          "source_hidden": false
        },
        "nteract": {
          "transient": {
            "deleting": false
          }
        }
      }
    }
  ],
  "metadata": {
    "kernel_info": {
      "name": "python3"
    },
    "kernelspec": {
      "name": "python3",
      "language": "python",
      "display_name": "Python 3"
    },
    "language_info": {
      "name": "python",
      "version": "3.6.9",
      "mimetype": "text/x-python",
      "codemirror_mode": {
        "name": "ipython",
        "version": 3
      },
      "pygments_lexer": "ipython3",
      "nbconvert_exporter": "python",
      "file_extension": ".py"
    },
    "nteract": {
      "version": "nteract-front-end@1.0.0"
    }
  },
  "nbformat": 4,
  "nbformat_minor": 2
}